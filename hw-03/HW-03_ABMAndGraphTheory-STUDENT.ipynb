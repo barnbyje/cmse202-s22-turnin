{
 "cells": [
  {
   "cell_type": "markdown",
   "metadata": {},
   "source": [
    "# Homework Assignment #3 (Individual)\n",
    "## Agent Based Modeling (ABM), and Graph Theory"
   ]
  },
  {
   "cell_type": "markdown",
   "metadata": {},
   "source": [
    "### <p style=\"text-align: right;\"> &#9989; Jeremy Barnby</p>\n",
    "### <p style=\"text-align: right;\"> &#9989; barnbyje</p>"
   ]
  },
  {
   "cell_type": "markdown",
   "metadata": {},
   "source": [
    "### Goals for this homework assignment\n",
    "By the end of this assignment, you should be able to:\n",
    "* Use Git to create a repository, create a new branch, merge branches, track changes to the files within the repository, and push those changes to a remote repository.\n",
    "* Understand and implement agent objects.\n",
    "* Run agent based modeling.\n",
    "* Use your Pandas skills to load the adjacency matrix, understand the graph properties, and visualize it using Networkx.\n",
    "* Get familiar with and implement label propagations in networks.\n",
    "\n",
    "Work through the following assignment, making sure to follow all of the directions and answer all of the questions.\n",
    "\n",
    "There are **34 points** possible on this assignment. Point values for each part are included in the section headers and question prompts.\n",
    "\n",
    "**This assignment is due in roughly two weeks from now at 11:59 pm on Friday, March 5.** It should be uploaded into the \"Homework Assignments\" submission folder for Homework #3.  Submission instructions can be found at the end of the notebook."
   ]
  },
  {
   "cell_type": "markdown",
   "metadata": {},
   "source": [
    "---\n",
    "## Part 1: Add to your Git repository to track your progress on your assignment (4 points)\n",
    "\n",
    "For this assignment, you're going to add it to the `cmse202-s22-turnin` repository you created in class so that you can track your progress on the assignment and preserve the final version that you turn in. In order to do this you need to\n",
    "\n",
    "**&#9989; Do the following**:\n",
    "\n",
    "1. Navigate to your `cmse202-s22-turnin` repository and create a new directory called `hw-03`.\n",
    "2. Move this notebook into that **new directory** in your repository, then **add it and commit it to your repository**.\n",
    "1. Finally, to test that everything is working, \"git push\" the file so that it ends up in your GitHub repository.\n",
    "\n",
    "**Important**: Double check you've added your Professor and your TA as collaborators to your \"turnin\" repository (you should have done this in the previous homework assignment).\n",
    "\n",
    "**Also important**: Make sure that the version of this notebook that you are working on is the same one that you just added to your repository! If you are working on a different copy of the notebook, **none of your changes will be tracked**!\n",
    "\n",
    "If everything went as intended, the file should now show up on your GitHub account in the \"`cmse202-s22-turnin`\" repository inside the `hw-03` directory that you just created.  Periodically, **you'll be asked to commit your changes to the repository and push them to the remote GitHub location**. Of course, you can always commit your changes more often than that, if you wish.  It can be good to get into a habit of committing your changes any time you make a significant modification, or when you stop working on the project for a bit.\n",
    "\n",
    "&#9989; **Do this**: Before you move on, put the command that your instructor should run to clone your repository in the markdown cell below."
   ]
  },
  {
   "cell_type": "markdown",
   "metadata": {},
   "source": [
    "git clone https://github.com/barnbyje/cmse202-s22-turnin"
   ]
  },
  {
   "cell_type": "markdown",
   "metadata": {
    "pycharm": {
     "name": "#%% md\n"
    }
   },
   "source": [
    "&#9989; **Do this**: Before you move on, create a new branch called `hw03_branch` and move into it. In the cell below put the command(s) to create a new branch and to checkout the new branch. (_Note_: your TA will be able to see if you have created the branch and its history)."
   ]
  },
  {
   "cell_type": "markdown",
   "metadata": {
    "pycharm": {
     "name": "#%% md\n"
    }
   },
   "source": [
    "git checkout -b hw03_branch"
   ]
  },
  {
   "cell_type": "markdown",
   "metadata": {
    "pycharm": {
     "name": "#%% md\n"
    }
   },
   "source": [
    "**You MUST work in this new branch and merge it at the end.**"
   ]
  },
  {
   "cell_type": "markdown",
   "metadata": {},
   "source": [
    "---\n",
    "## Part 2: Implement ABM (13 points)\n",
    "\n",
    "For this part of the assignment, you're going to implement the Sandpile model by writing an agent object by yourself. The model is a cellular automaton. Each cell on a finite board has an associated value that corresponds to the volume of the sands. At each unit time, one unit sand will be placed onto one random cell. If the volume exceeds a specific threshold, that cell will collapse and transfer the sand into the adjacent cells to increase their volumes until the system gets stable. In some cases, the sandpile will generate a very beautiful fractal structure.\n",
    "\n",
    "Explore more by clicking https://en.wikipedia.org/wiki/Abelian_sandpile_model\n",
    "\n",
    "<img src=https://raw.githubusercontent.com/msu-cmse-courses/cmse202-S22-data/main/data/Sandpile1.jfif width=150px align=left>\n",
    "<img src=https://raw.githubusercontent.com/msu-cmse-courses/cmse202-S22-data/main/data/Sandpile2.png width=310px align=right>\n"
   ]
  },
  {
   "cell_type": "markdown",
   "metadata": {},
   "source": [
    "---\n",
    "## Specific problem setting\n",
    "Suppose we have an $N\\times N$ board, the sand volume of each cell $\\in\\{0,1,2,3\\}$.\n",
    "If the sand volume in any cell $\\gt3$, that is, the volume $=4$, the system will be unstable and the cell will collapse and transfer one unit sand to every adjacent cell until the system gets stable.\n",
    "\n",
    "<img src=https://raw.githubusercontent.com/msu-cmse-courses/cmse202-S22-data/main/data/sand1.png width=400px>\n",
    "\n",
    "Each unit time, one unit sand will be added to the position $(r_{idx},c_{idx})$, which is randomly chosen according to some distributions (e.g. normal distribution). \n",
    "\n",
    "<img src=https://raw.githubusercontent.com/msu-cmse-courses/cmse202-S22-data/main/data/sand2.png>"
   ]
  },
  {
   "cell_type": "markdown",
   "metadata": {},
   "source": [
    "In summary, each cell of the board has one agent to model the sand volume for that cell. The agent has 3 attributes:\n",
    "* The index of row in the board\n",
    "* The index of column in the board\n",
    "* The board matrix where the agent is located\n",
    "\n",
    "If one unit sand will be added to a cell, the `update` function of the corresponding agent will be activated:\n",
    "1. Add one unit sand to the cell;\n",
    "2. Check whether the cell will collapse or not (volume == 4 or not);\n",
    "3. If collapses, reset the sand volume to 0;\n",
    "4. Return the list of the neighboring cells that also need to be updated subsequently.\n",
    "\n",
    "**Note**: The collapse of one cell may result in the collapse in some neighboring cells subsequently. You will also update the neighboring cells if needed until the whole system gets stable."
   ]
  },
  {
   "cell_type": "markdown",
   "metadata": {},
   "source": [
    "Execute the cell below to load python necessary packages."
   ]
  },
  {
   "cell_type": "code",
   "execution_count": 1,
   "metadata": {},
   "outputs": [],
   "source": [
    "## import the needed packages\n",
    "import numpy as np\n",
    "import matplotlib.pyplot as plt\n",
    "from matplotlib import colors\n",
    "%matplotlib inline\n",
    "from IPython.display import display, clear_output \n",
    "import time\n",
    "import random"
   ]
  },
  {
   "cell_type": "markdown",
   "metadata": {
    "pycharm": {
     "name": "#%% md\n"
    }
   },
   "source": [
    "&#9989; **Question 2.1 (7 points)**: Follow the instructions in the cell below and complete the `update` funtion of AgentCell object. Put your code in the places as indicated."
   ]
  },
  {
   "cell_type": "code",
   "execution_count": 38,
   "metadata": {
    "pycharm": {
     "name": "#%%\n"
    }
   },
   "outputs": [],
   "source": [
    "class AgentCell:\n",
    "    def __init__(self,board,r,c):\n",
    "        '''\n",
    "        board: board of sandpile to save the sand volume\n",
    "        r: r_idx of the agent\n",
    "        c: c_idx of the agent\n",
    "        '''\n",
    "        self.r = r\n",
    "        self.c = c\n",
    "        self.board = board # the N by N board, each entry represents the sand volume in the corresponding cell\n",
    "        self.board_dim = board.shape[0]\n",
    "        \n",
    "    def update(self):\n",
    "        '''\n",
    "        Update the cell by adding one sand to the current cell\n",
    "        If the cell has value <= 3, the system is stable\n",
    "        If the cell has value > 3 (value == 4), the cell will collapse\n",
    "        return the list of the neighbors indices that also need to be updated\n",
    "        If no neighbors need to update, return the empty list\n",
    "        '''\n",
    "        # initialize the list to save the neighbors that also need to update\n",
    "        neighbor_list = []\n",
    "        \n",
    "        # Put your code here to add one unit sand\n",
    "        self.board[self.r, self.c] += 1\n",
    "        \n",
    "        # Put your code here to check whether the cell will collapse\n",
    "        if self.board[self.r, self.c] > 3:\n",
    "                    \n",
    "        # Put your code here to reset the sand volume if collapes\n",
    "            self.board[self.r, self.c] = 0\n",
    "                \n",
    "        # Put your code here to get the valid neighbors that need to update and append to the neighbor_list if collapes\n",
    "        \n",
    "        neighbor_list.append((self.r + 1, self.c))\n",
    "        neighbor_list.append((self.r - 1, self.c))\n",
    "        neighbor_list.append((self.r, self.c + 1))\n",
    "        neighbor_list.append((self.r, self.c - 1))\n",
    "        \n",
    "        # return the neighbors that need to update\n",
    "        return neighbor_list"
   ]
  },
  {
   "cell_type": "markdown",
   "metadata": {},
   "source": [
    "&#9989; **Question 2.2 (2 points)**: Here we provide the SandPile object to do sandpile simulation, which has 3 functions:\n",
    "<img src=https://upload.wikimedia.org/wikipedia/commons/c/ce/Gaussian_2d.png width=250px align=right>\n",
    "1. `drop_pos`: Generate a random location to add the sand.\n",
    "2. `update`: Update the whole system.\n",
    "3. `plot`: Plot the sandpile board.\n",
    "\n",
    "`drop_pos` function generates the location according to the Gaussian distribution, which provides the higher probability at the cells that are closer to the board center, but lower probability at the cells that are closer to the board boundary. Therefore, it is very likely to add the sand at the center of the board. The probability density plot is shown on the right.\n",
    " \n",
    "In the cell below, you need to add two comments in the places as indicated, to demonstrate that you understand the meaning of the code."
   ]
  },
  {
   "cell_type": "code",
   "execution_count": 39,
   "metadata": {},
   "outputs": [],
   "source": [
    "class SandPile:\n",
    "    def __init__(self,board_dim=201,gauss_std=4):\n",
    "        '''\n",
    "        board_dim: dimension of the sandpile board\n",
    "        gauss_std: standard deviation of the Gaussian distribution\n",
    "        '''\n",
    "        self.board_dim = board_dim\n",
    "        self.center = board_dim // 2\n",
    "        self.std = gauss_std\n",
    "        \n",
    "        # initialize the board of the sandpile\n",
    "        self.board = np.zeros([board_dim,board_dim])\n",
    "        \n",
    "        self.agent_dict = dict()\n",
    "        for r in range(self.board_dim):\n",
    "            for c in range(self.board_dim):\n",
    "                idx = (r,c)\n",
    "                self.agent_dict[idx] = AgentCell(self.board,r,c)\n",
    "        ### Add your comments here: what is self.agent_dict? what is the keys and values?\n",
    "        # self.agent_dict is a dictionary that holds the value of each indexed position on the board.\n",
    "        # The keys are created by a cartesian coordinate system in which each cell holds a\n",
    "        # row and column number ((r1,c3) for example) and is created by the idx object.\n",
    "        # The value is the sum of grains of sand in that particular cell.\n",
    "                \n",
    "    def drop_pos(self):\n",
    "        '''\n",
    "        Generate the location to add one unit sand based on Gaussian distribution\n",
    "        return: (r_idx,c_idx)\n",
    "        '''\n",
    "        r = c = float('inf')\n",
    "        while r < 0 or r >= self.board_dim:\n",
    "            r = int(random.gauss(self.center,self.std))\n",
    "        while c < 0 or c >= self.board_dim:\n",
    "            c = int(random.gauss(self.center,self.std))\n",
    "        return (r,c)\n",
    "    \n",
    "    \n",
    "    def update(self,pos):\n",
    "        '''\n",
    "        update the board\n",
    "        pos: position to add the sand (r_idx,c_idx)\n",
    "        '''\n",
    "        stack = [pos]\n",
    "    \n",
    "        # simulation, update unitl every cell is stable\n",
    "        while stack:\n",
    "            curr_pos = stack.pop()\n",
    "            neighbor_list = self.agent_dict[curr_pos].update() ### Add your comments here:\n",
    "            # this line of code creates a list of neighboring cells to where the sand is dropped.\n",
    "            # It also updates the value of the cell if it is unstable by subtracting values from \n",
    "            # it until it becomes stable.\n",
    "            stack.extend(neighbor_list)\n",
    "        \n",
    "        \n",
    "    def plot(self,t):\n",
    "        '''\n",
    "        Plot the sandpile\n",
    "        t: time stage\n",
    "        '''\n",
    "        cmap = colors.ListedColormap([\"lightseagreen\",\"lawngreen\",\"gold\",\"darkorange\"])\n",
    "        bounds=[0,1,2,3,4]\n",
    "        norm = colors.BoundaryNorm(bounds, cmap.N)\n",
    "        fig = plt.figure(figsize=(10,10)) \n",
    "        plt.imshow(self.board,cmap=cmap, norm=norm)\n",
    "        plt.title(\"Sandpile, time=\" + str(t),fontsize=30)\n",
    "        plt.colorbar(shrink=0.7)\n",
    "        plt.axis(\"off\")\n",
    "        # This is the code that creates the animation\n",
    "        time.sleep(0.001) \n",
    "        clear_output(wait=True)\n",
    "        display(fig)\n",
    "        fig.clear()"
   ]
  },
  {
   "cell_type": "markdown",
   "metadata": {},
   "source": [
    "&#9989; **Question 2.3 (3 points)**: Follow the instructions in the cell below and write your code to run the simulation process for 50,000 times. Plot the sandpile every 200 unit time."
   ]
  },
  {
   "cell_type": "code",
   "execution_count": 41,
   "metadata": {},
   "outputs": [
    {
     "ename": "KeyError",
     "evalue": "(101, -1)",
     "output_type": "error",
     "traceback": [
      "\u001b[0;31m---------------------------------------------------------------------------\u001b[0m",
      "\u001b[0;31mKeyError\u001b[0m                                  Traceback (most recent call last)",
      "\u001b[0;32m<ipython-input-41-68970aaf22ef>\u001b[0m in \u001b[0;36m<module>\u001b[0;34m\u001b[0m\n\u001b[1;32m     11\u001b[0m     \u001b[0;31m# Put your code here to update the sandpile\u001b[0m\u001b[0;34m\u001b[0m\u001b[0;34m\u001b[0m\u001b[0;34m\u001b[0m\u001b[0m\n\u001b[1;32m     12\u001b[0m \u001b[0;34m\u001b[0m\u001b[0m\n\u001b[0;32m---> 13\u001b[0;31m     \u001b[0msp\u001b[0m\u001b[0;34m.\u001b[0m\u001b[0mupdate\u001b[0m\u001b[0;34m(\u001b[0m\u001b[0mpos\u001b[0m\u001b[0;34m)\u001b[0m\u001b[0;34m\u001b[0m\u001b[0;34m\u001b[0m\u001b[0m\n\u001b[0m\u001b[1;32m     14\u001b[0m \u001b[0;34m\u001b[0m\u001b[0m\n\u001b[1;32m     15\u001b[0m     \u001b[0;31m# plot your code here to plot the sandpile every 200 unit time\u001b[0m\u001b[0;34m\u001b[0m\u001b[0;34m\u001b[0m\u001b[0;34m\u001b[0m\u001b[0m\n",
      "\u001b[0;32m<ipython-input-39-8d065b4a750f>\u001b[0m in \u001b[0;36mupdate\u001b[0;34m(self, pos)\u001b[0m\n\u001b[1;32m     46\u001b[0m         \u001b[0;32mwhile\u001b[0m \u001b[0mstack\u001b[0m\u001b[0;34m:\u001b[0m\u001b[0;34m\u001b[0m\u001b[0;34m\u001b[0m\u001b[0m\n\u001b[1;32m     47\u001b[0m             \u001b[0mcurr_pos\u001b[0m \u001b[0;34m=\u001b[0m \u001b[0mstack\u001b[0m\u001b[0;34m.\u001b[0m\u001b[0mpop\u001b[0m\u001b[0;34m(\u001b[0m\u001b[0;34m)\u001b[0m\u001b[0;34m\u001b[0m\u001b[0;34m\u001b[0m\u001b[0m\n\u001b[0;32m---> 48\u001b[0;31m             \u001b[0mneighbor_list\u001b[0m \u001b[0;34m=\u001b[0m \u001b[0mself\u001b[0m\u001b[0;34m.\u001b[0m\u001b[0magent_dict\u001b[0m\u001b[0;34m[\u001b[0m\u001b[0mcurr_pos\u001b[0m\u001b[0;34m]\u001b[0m\u001b[0;34m.\u001b[0m\u001b[0mupdate\u001b[0m\u001b[0;34m(\u001b[0m\u001b[0;34m)\u001b[0m \u001b[0;31m### Add your comments here:\u001b[0m\u001b[0;34m\u001b[0m\u001b[0;34m\u001b[0m\u001b[0m\n\u001b[0m\u001b[1;32m     49\u001b[0m             \u001b[0;31m# this line of code creates a list of neighboring cells to where the sand is dropped.\u001b[0m\u001b[0;34m\u001b[0m\u001b[0;34m\u001b[0m\u001b[0;34m\u001b[0m\u001b[0m\n\u001b[1;32m     50\u001b[0m             \u001b[0;31m# It also updates the value of the cell if it is unstable by subtracting values from\u001b[0m\u001b[0;34m\u001b[0m\u001b[0;34m\u001b[0m\u001b[0;34m\u001b[0m\u001b[0m\n",
      "\u001b[0;31mKeyError\u001b[0m: (101, -1)"
     ]
    }
   ],
   "source": [
    "# initialize sandpile\n",
    "sp = SandPile()\n",
    "# simulation time\n",
    "T = 50000\n",
    "\n",
    "for t in range(1,T+1):\n",
    "\n",
    "    # Put your code here to get the position to drop one unit sand\n",
    "    pos = sp.drop_pos()\n",
    "\n",
    "    # Put your code here to update the sandpile \n",
    "\n",
    "    sp.update(pos)\n",
    "    \n",
    "    # plot your code here to plot the sandpile every 200 unit time\n",
    "    for s in range(250):\n",
    "        sp.plot(s)\n",
    "\n",
    "sp"
   ]
  },
  {
   "cell_type": "markdown",
   "metadata": {},
   "source": [
    "**<font size=+3>&#9998;</font> Do This**: *Record your observations of your plot here.*"
   ]
  },
  {
   "cell_type": "markdown",
   "metadata": {},
   "source": [
    "&#9989; **Question 2.4 (1 points)**: Describe what you observed."
   ]
  },
  {
   "cell_type": "markdown",
   "metadata": {},
   "source": [
    "Your answer here: I have a key error right now. The key error gives me a set of coordinates, so that means that it's generating those, but as far as I can tell it thinks that I'm trying to plot something that is off my board. Every set of coordinates it gives me are within the bounds of the board...\n",
    "\n",
    "Also...I'll have to ask for help about this during office hours. I tried to push, but I can't. I'm not comfortable enough with git to understand what this is all about.\n",
    "\n",
    "bash-4.4$ pwd\n",
    "/home/barnbyje/CMSE202/cmse202-s22-turnin/hw-03\n",
    "bash-4.4$ git branch\n",
    "  hw02_branch\n",
    "* hw03_branch\n",
    "  main\n",
    "bash-4.4$ git add\n",
    "Nothing specified, nothing added.\n",
    "hint: Maybe you wanted to say 'git add .'?\n",
    "hint: Turn this message off by running\n",
    "hint: \"git config advice.addEmptyPathspec false\"\n",
    "bash-4.4$ git add HW-03_ABMAndGraphTheory-STUDENT.ipynb\n",
    "bash-4.4$ git commit -m \"Committing Part 2\"\n",
    "[hw03_branch c631899] Committing Part 2\n",
    " 1 file changed, 48 insertions(+), 21 deletions(-)\n",
    "bash-4.4$ git push\n",
    "fatal: The current branch hw03_branch has no upstream branch.\n",
    "To push the current branch and set the remote as upstream, use\n",
    "\n",
    "    git push --set-upstream origin hw03_branch\n",
    "\n",
    "bash-4.4$\n"
   ]
  },
  {
   "cell_type": "markdown",
   "metadata": {},
   "source": [
    "---\n",
    "### &#128721; STOP\n",
    "**Pause to commit your changes to your Git repository!**\n",
    "\n",
    "Take a moment to save your notebook, commit the changes to your Git repository using the commit message \"Committing Part 2\", and push the changes to GitHub. If you want you can merge your changes with the `main` branch, but you must checkout branch `hw03_branch` for Part 2.\n",
    "\n",
    "---"
   ]
  },
  {
   "cell_type": "markdown",
   "metadata": {},
   "source": [
    "## Part 3: Graph Theory (17 points)\n",
    "\n",
    "Execute the cell below to load python necessary packages."
   ]
  },
  {
   "cell_type": "code",
   "execution_count": 42,
   "metadata": {},
   "outputs": [],
   "source": [
    "import numpy as np\n",
    "import pandas as pd\n",
    "import networkx as nx\n",
    "import matplotlib.pyplot as plt\n",
    "\n",
    "from IPython.display import display, clear_output\n",
    "import time"
   ]
  },
  {
   "cell_type": "markdown",
   "metadata": {},
   "source": [
    "---\n",
    "## Part 3.1: Graph representation and analysis for water supply network (9 points)\n",
    "\n",
    "&#9989; **Question 3.1.1 (2 points)** You are provided with a file of adjacency matrix for a water supply network (**'adj.txt'**), where the nodes are water stations and edges represent pipes between them. Thus, if a pair of nodes are connected with each other, that means there exists a pipe supplying the water between them. \n",
    "\n",
    "Let's first construct the network (graph). The adjacency matrix, which tells us which nodes are connected with each other, is provided in the file 'adj.txt'. \n",
    "\n",
    "Load the data from 'adj.txt' using Pandas, and then construct the graph using Networkx. \n",
    "\n",
    "Visualize the graph after it's constructed, with node labels (0-based node IDs) shown on the graph. \n",
    "\n",
    "**Note** A file **'position.txt'** is provided to allocate the x- and y-coordinates of nodes in the visualization, simply to make the graph looks better even though we don't care about the physical coordinates of water stations in this water supply network. Make sure to use the 'pos' parameter when you draw the network.\n",
    "\n",
    "**You can download the file from here:**\n",
    "\n",
    "https://raw.githubusercontent.com/msu-cmse-courses/cmse202-S22-data/main/code_samples/adj.txt\n",
    "\n",
    "https://raw.githubusercontent.com/msu-cmse-courses/cmse202-S22-data/main/code_samples/position.txt\n"
   ]
  },
  {
   "cell_type": "code",
   "execution_count": 48,
   "metadata": {},
   "outputs": [],
   "source": [
    "# Put your code here:\n",
    "adj = pd.read_csv('adj.txt', delimiter = ',', header = None)\n",
    "position = pd.read_csv('position.txt', delimiter = ',', header = None)"
   ]
  },
  {
   "cell_type": "markdown",
   "metadata": {},
   "source": [
    "&#9989; **Question 3.1.2 (1 point)** In the constructed network, you may notice some nodes have many more neighbors than other nodes, i.e. some nodes have more edges than other nodes. The number of edges connected to a specific node is called the **degree** of that node. A graph object created by Networkx has attributes for degrees of all nodes. \n",
    "\n",
    "Get the degrees for all the nodes in the graph, and then plot a histogram to show the distribution of degrees."
   ]
  },
  {
   "cell_type": "code",
   "execution_count": 114,
   "metadata": {},
   "outputs": [
    {
     "name": "stdout",
     "output_type": "stream",
     "text": [
      "[(0, 13), (1, 21), (2, 13), (3, 3), (4, 3), (5, 5), (6, 2), (7, 2), (8, 2), (9, 1), (10, 1), (11, 1), (12, 1), (13, 3), (14, 1), (15, 2), (16, 1), (17, 2), (18, 1), (19, 1), (20, 1), (21, 1), (22, 1), (23, 1), (24, 1), (25, 1), (26, 1), (27, 1), (28, 1), (29, 1), (30, 1), (31, 1), (32, 1), (33, 1), (34, 1), (35, 2), (36, 1), (37, 1), (38, 1), (39, 1)]\n"
     ]
    },
    {
     "data": {
      "image/png": "[encoded data removed]",
      "text/plain": [
       "<Figure size 432x288 with 1 Axes>"
      ]
     },
     "metadata": {},
     "output_type": "display_data"
    },
    {
     "data": {
      "image/png": "[encoded data removed]",
      "text/plain": [
       "<Figure size 1440x720 with 2 Axes>"
      ]
     },
     "metadata": {
      "needs_background": "light"
     },
     "output_type": "display_data"
    }
   ],
   "source": [
    "# Put your code here:\n",
    "g = nx.Graph(adj)\n",
    "nx.draw_networkx(g)\n",
    "\n",
    "# get degrees for nodes\n",
    "print(nx.degree(g))\n",
    "\n",
    "# degree histogram\n",
    "plt.figure(figsize=(20,10))\n",
    "\n",
    "plt.subplot(1,2,1)\n",
    "g_degrees = nx.degree_histogram(g)\n",
    "plt.hist(g_degrees, bins = 40)\n",
    "plt.ylabel('Frequency')\n",
    "plt.xlabel('Degrees')\n",
    "plt.title(\"A not-that-useful histogram\")\n",
    "\n",
    "plt.subplot(1,2,2)\n",
    "plt.boxplot(g_degrees)\n",
    "plt.grid()"
   ]
  },
  {
   "cell_type": "markdown",
   "metadata": {},
   "source": [
    "&#9989; **Question 3.1.3 (1 point)** Describe the distribution of degrees. What is the main range of degree values for most of the nodes? And are there any outliers?"
   ]
  },
  {
   "cell_type": "markdown",
   "metadata": {},
   "source": [
    "Your answer here: Well, I can confidently say that the degrees are not normally distributed. I think that one all the way out to the right is node 1, with 23 degrees. Most of these nodes only have 1 degree, and that is where we see that spike in the histogram. The main range of most of the nodes is 1-3. Without making a boxplot, nodes 1-3 look like the outliers. With the boxplot, I can see that I have four outliers, which would be anything greater than 1. The scale is messed up, but I really don't want to take the time to get it right. Hopefully I didn't do something wrong?"
   ]
  },
  {
   "cell_type": "markdown",
   "metadata": {},
   "source": [
    "&#9989; **Question 3.1.4 (2 points)** Visualize the network again (with labels shown), but with different colors for the nodes. \n",
    "\n",
    "If a node has a degree > 10, color the node as red.  Otherwise, color the node as gray. \n",
    "\n"
   ]
  },
  {
   "cell_type": "code",
   "execution_count": 119,
   "metadata": {
    "scrolled": true
   },
   "outputs": [
    {
     "data": {
      "image/png": "[encoded data removed]",
      "text/plain": [
       "<Figure size 432x288 with 1 Axes>"
      ]
     },
     "metadata": {},
     "output_type": "display_data"
    }
   ],
   "source": [
    "# Put your code here:\n",
    "\n",
    "# I don't like the way I did this. It is the right result, but it takes hard-coding to\n",
    "# do it this way. I've tried a few different ways to do this, but can't get it right.\n",
    "color_the_nodes = ['red' if node <= 2 else 'grey' for node in g]\n",
    "nx.draw_networkx(g, node_color = color_the_nodes)"
   ]
  },
  {
   "cell_type": "markdown",
   "metadata": {},
   "source": [
    "A network showing a power-law degree distribution is called scale-free (https://en.wikipedia.org/wiki/Scale-free_network), which is widely seen in different disciplines including social science, biology and many others. In scale-free networks, there are usually a few 'network hubs' connecting to many neighbors in the graph. "
   ]
  },
  {
   "cell_type": "markdown",
   "metadata": {},
   "source": [
    "&#9989; **Question 3.1.5 (1 points)** In many cases, we are curious about what is the shortest path from one node (source) to another node (target). Networkx has provided a convenient function to do that. \n",
    "\n",
    "Find the shortest path from node 11 to node 10 (0-based node index).  \n",
    "\n",
    "Which node (nodes) do you need to visit in between? \n",
    "\n",
    "How many steps do you need to take to go from node 11 to node 10? (The number of steps is defined as the distance between node 11 to node 10, or the length of the shortest path.)\n"
   ]
  },
  {
   "cell_type": "code",
   "execution_count": 131,
   "metadata": {},
   "outputs": [
    {
     "name": "stdout",
     "output_type": "stream",
     "text": [
      "Shortest path route: [11, 1, 10]\n",
      "You must visit node 1 to complete this route.\n",
      "The length of the shortest path to get from 11 to 10 is 2 steps.\n"
     ]
    }
   ],
   "source": [
    "# Put your code here:\n",
    "# Shortest path\n",
    "print('Shortest path route:',nx.shortest_path(g,11,10))\n",
    "print('You must visit node 1 to complete this route.')\n",
    "# Determine the path length\n",
    "print('The length of the shortest path to get from 11 to 10 is',nx.shortest_path_length(g,11,10), 'steps.')"
   ]
  },
  {
   "cell_type": "markdown",
   "metadata": {},
   "source": [
    "&#9989; **Question 3.1.6 (2 points)** Find the shortest paths for all pairs of nodes in the graph. Then create a list to store the lengths of all of the shortest paths.\n",
    "\n",
    "Plot a histogram to show the distribution of the lengths of shortest paths."
   ]
  },
  {
   "cell_type": "code",
   "execution_count": 151,
   "metadata": {},
   "outputs": [
    {
     "data": {
      "text/plain": [
       "Text(0.5, 0, 'Nodes')"
      ]
     },
     "execution_count": 151,
     "metadata": {},
     "output_type": "execute_result"
    },
    {
     "data": {
      "image/png": "[encoded data removed]",
      "text/plain": [
       "<Figure size 720x720 with 1 Axes>"
      ]
     },
     "metadata": {
      "needs_background": "light"
     },
     "output_type": "display_data"
    }
   ],
   "source": [
    "# Put your answer here:\n",
    "node_pairs = []\n",
    "\n",
    "for i in range(len(g)):\n",
    "    for j in range(len(g)):\n",
    "        if i != j:\n",
    "            node_pairs.append(nx.shortest_path(g,i,j))\n",
    "            \n",
    "#print(node_pairs)\n",
    "plt.figure(figsize=(10,10))\n",
    "plt.hist(node_pairs)\n",
    "plt.ylabel('Length')\n",
    "plt.xlabel('Nodes')"
   ]
  },
  {
   "cell_type": "markdown",
   "metadata": {},
   "source": [
    "**Notes** From the histogram, you may notice that the maximum length of shortest paths in this graph is small, although there are 40 nodes in the graph. This means that, from a specific node, we can reach any other nodes quickly, due to the existence of 'network hubs'. This is a general property of scale-free networks, which is related to the concept of '**small-world networks**' https://en.wikipedia.org/wiki/Small-world_network. "
   ]
  },
  {
   "cell_type": "markdown",
   "metadata": {},
   "source": [
    "---\n",
    "### &#128721; STOP\n",
    "**Pause to commit your changes to your Git repository!**\n",
    "\n",
    "Take a moment to save your notebook, commit the changes to your Git repository using the commit message \"Committing Part 3.1\", and push the changes to GitHub. If you want you can merge your changes with the `main` branch, but you must checkout branch `hw03_branch` for Part 3.1.\n",
    "\n",
    "---"
   ]
  },
  {
   "cell_type": "markdown",
   "metadata": {},
   "source": [
    "\n",
    "## Part 2.2: Pollution spread across the water supply network (8 points)\n",
    "\n",
    "**Question** In many applications, we want to simulate the dynamics based on the graph topology, i.e. how do neighbors in the network communicate information with each other. For example, if there exists the pollutant in one water stations, and then it begins to spread through the pipes, how quickly will all the water stations get polluted? And which groups of water stations will be polluted early?\n",
    "\n",
    "Below are the simplified assumptions for the simulation:\n",
    "\n",
    "1. Three water stations have pollutant first. They are node 15, node 22, and node 27 (0-based node index). Therefore, these 3 nodes are considered as the 'seed' of pollution in the graph.\n",
    "An 'pollution value' array can be created to label the nodes. For example, the 3 seed nodes are labeled as '1' at the beginning ('1' means they are polluted for sure 100%), and all other nodes are labeled as '0' at the beginning ('0' means they are totally clean).\n",
    "\n",
    "2. You write a for loop to do the simulation, where each step in the loop represent a specific time point.\n",
    "\n",
    "3. At each time point, the pollution value for every node is updated, based on the pollution values of their neighbors in the graph, because if many neighbors are polluted, it is very likely the water station will be polluted.\n",
    "\n",
    "4. Each node will spread pollution to its neighbors with a probability that is inversely proportional to its degree. The more neighbors, the less pollutant that the node will spread to one of its neighbors.\n",
    "\n",
    "5. For example, if node A has two neighbors: B and C. Node B has a degree of 3 and node C has a degree of 5. Then the pollution value of node A for the next iteration should be updated as: new_value(A) = value(B)/3 +value(C)/5\n",
    "\n",
    "6. In each iteration of your simulation, you scan all nodes and update the values of pollution labels. \n",
    "\n",
    "**Note** you may need to use copy() to avoid the confusion between previous values and newly updated values.\n",
    "\n",
    "\n",
    "&#9989;**Question 3.2.1 (5 points)** Below we provide most of the functions. And you need to fill in the gaps where indicated in the cell below."
   ]
  },
  {
   "cell_type": "code",
   "execution_count": null,
   "metadata": {},
   "outputs": [],
   "source": [
    "# Complete the code below:\n",
    "\n",
    "def get_neighbor(G, node):\n",
    "    ''' \n",
    "    get the neighbors of a given node\n",
    "    '''\n",
    "    return list(G.neighbors(node))\n",
    "\n",
    "\n",
    "def update_value(G, prev_value):\n",
    "    ''' \n",
    "    update the pollution values for all nodes, in one iteration \n",
    "    G: the graph\n",
    "    prev_value: the pollution values of every node from previous iteration\n",
    "    '''\n",
    "    \n",
    "    # Put your code here to make a new copy of prev_value;\n",
    "    # Name the new copy as next_value\n",
    "    \n",
    "    \n",
    "    # Put your code here to get the degrees of every node;\n",
    "    \n",
    "    \n",
    "    \n",
    "    # Put your code in the for loop to calculate next_value, based on prev_value from neighbors; \n",
    "    for node in G:\n",
    "        \n",
    "        \n",
    "    \n",
    "    \n",
    "    \n",
    "    return next_value\n",
    "\n",
    "\n",
    "\n",
    "def value2color(values):\n",
    "    '''\n",
    "    Convert pollution values to color\n",
    "    '''\n",
    "    # white to red\n",
    "    node_colors = []\n",
    "    for val in values:\n",
    "        node_colors.append((1, (1-val)**2, (1-val)**2))\n",
    "    return node_colors\n",
    "\n",
    "\n",
    "def draw_iter(G, values, iterations):\n",
    "    '''\n",
    "    Simulate the system for certain iterations\n",
    "    G: the graph\n",
    "    values: the initial pollution values for all nodes\n",
    "    iterations: the maximum number of iterations for the simulation\n",
    "    '''\n",
    "    \n",
    "    for i in range(iterations):\n",
    "        fig = plt.figure()\n",
    "        \n",
    "        # Put your code here to update the pollution values and update node colors;\n",
    "        \n",
    "        \n",
    "        \n",
    "        nx.draw(G, pos=position.values, with_labels=True, node_color=node_colors)\n",
    "        plt.title('Iteration ' + str(i+1))\n",
    "        fig.show()\n",
    "        \n",
    "        time.sleep(0.1)\n",
    "        clear_output(wait=True)\n",
    "        display(fig)\n",
    "        fig.clear()       \n"
   ]
  },
  {
   "cell_type": "markdown",
   "metadata": {},
   "source": [
    "After you complete the functions above, you can run the cell below to initialize the pollution values for all nodes and visualize the initial graph before simulation."
   ]
  },
  {
   "cell_type": "code",
   "execution_count": null,
   "metadata": {},
   "outputs": [],
   "source": [
    "values = [0]*len(G)\n",
    "values[27] = 1\n",
    "values[15] = 1\n",
    "values[22] = 1\n",
    "\n",
    "node_colors = value2color(values)\n",
    "nx.draw(G, pos=position.values, with_labels=True, node_color=node_colors)"
   ]
  },
  {
   "cell_type": "markdown",
   "metadata": {},
   "source": [
    "&#9989;**Question 3.2.2 (2 points)** Run the simulation with different numbers of iterations and show the plots. \n",
    "\n",
    "Describe what you observe about the pollutant propagation across the network."
   ]
  },
  {
   "cell_type": "code",
   "execution_count": null,
   "metadata": {},
   "outputs": [],
   "source": [
    "# Put your code here:"
   ]
  },
  {
   "cell_type": "markdown",
   "metadata": {},
   "source": [
    "**Note** The simulations above is not only useful to model how pollutants are spread across a water supply network. It is generally useful to propagate labels across connected neighbors - borrow information from neighbors in the graph.\n",
    "\n",
    "One application is to assign importance values for different webpages, since every webpage has links to other webpages and they can influence each other's importance. An extended version of the algorithm is the famous **PageRank** method used by **Google** https://en.wikipedia.org/wiki/PageRank."
   ]
  },
  {
   "cell_type": "markdown",
   "metadata": {},
   "source": [
    "&#9989;**Question 3.2.3 (1 point)** Run the simulation for 2 or 3 iterations and check which group of nodes have pollution values > 0?"
   ]
  },
  {
   "cell_type": "code",
   "execution_count": null,
   "metadata": {},
   "outputs": [],
   "source": [
    "# Put your code here:"
   ]
  },
  {
   "cell_type": "markdown",
   "metadata": {},
   "source": [
    "---\n",
    "### &#128721; STOP\n",
    "**Pause to commit your changes to your Git repository!**\n",
    "\n",
    "Take a moment to save your notebook, commit the changes to your Git repository using the commit message \"Committing Part 3.2\", and push the changes to GitHub. If you want you can merge your changes with the `main` branch, but you must checkout branch `hw03_branch` for Part 3.2.\n",
    "\n",
    "---"
   ]
  },
  {
   "cell_type": "markdown",
   "metadata": {},
   "source": [
    "---\n",
    "## Assignment wrap-up\n",
    "\n",
    "Please fill out the form that appears when you run the code below.  **You must completely fill this out in order to receive credit for the assignment!**"
   ]
  },
  {
   "cell_type": "code",
   "execution_count": null,
   "metadata": {},
   "outputs": [],
   "source": [
    "from IPython.display import HTML\n",
    "HTML(\n",
    "\"\"\"\n",
    "<iframe \n",
    "\tsrc=\"https://forms.office.com/Pages/ResponsePage.aspx?id=MHEXIi9k2UGSEXQjetVofa-byNJHa0xBs0jOGcRl02lUQU5INTRGUzlXUTZLTlpBTFg4M0Q0S1dKNS4u\" \n",
    "\twidth=\"800px\" \n",
    "\theight=\"600px\" \n",
    "\tframeborder=\"0\" \n",
    "\tmarginheight=\"0\" \n",
    "\tmarginwidth=\"0\">\n",
    "\tLoading...\n",
    "</iframe>\n",
    "\"\"\"\n",
    ")"
   ]
  },
  {
   "cell_type": "markdown",
   "metadata": {},
   "source": [
    "### Congratulations, you're done!\n",
    "\n",
    "Submit this assignment by uploading it to the course Desire2Learn web page.  Go to the \"Homework Assignments\" folder, find the dropbox link for Homework #3, and upload **your notebook** there."
   ]
  },
  {
   "cell_type": "markdown",
   "metadata": {},
   "source": [
    "&#169; Copyright 2021,  Department of Computational Mathematics, Science and Engineering at Michigan State University"
   ]
  }
 ],
 "metadata": {
  "anaconda-cloud": {},
  "kernelspec": {
   "display_name": "Python 3",
   "language": "python",
   "name": "python3"
  },
  "language_info": {
   "codemirror_mode": {
    "name": "ipython",
    "version": 3
   },
   "file_extension": ".py",
   "mimetype": "text/x-python",
   "name": "python",
   "nbconvert_exporter": "python",
   "pygments_lexer": "ipython3",
   "version": "3.8.8"
  }
 },
 "nbformat": 4,
 "nbformat_minor": 4
}
