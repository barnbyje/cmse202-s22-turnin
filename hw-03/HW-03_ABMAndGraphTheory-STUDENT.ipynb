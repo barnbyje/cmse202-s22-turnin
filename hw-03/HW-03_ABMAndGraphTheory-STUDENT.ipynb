{
 "cells": [
  {
   "cell_type": "markdown",
   "metadata": {},
   "source": [
    "# Homework Assignment #3 (Individual)\n",
    "## Agent Based Modeling (ABM), and Graph Theory"
   ]
  },
  {
   "cell_type": "markdown",
   "metadata": {},
   "source": [
    "### <p style=\"text-align: right;\"> &#9989; Jeremy Barnby</p>\n",
    "### <p style=\"text-align: right;\"> &#9989; barnbyje</p>"
   ]
  },
  {
   "cell_type": "markdown",
   "metadata": {},
   "source": [
    "### Goals for this homework assignment\n",
    "By the end of this assignment, you should be able to:\n",
    "* Use Git to create a repository, create a new branch, merge branches, track changes to the files within the repository, and push those changes to a remote repository.\n",
    "* Understand and implement agent objects.\n",
    "* Run agent based modeling.\n",
    "* Use your Pandas skills to load the adjacency matrix, understand the graph properties, and visualize it using Networkx.\n",
    "* Get familiar with and implement label propagations in networks.\n",
    "\n",
    "Work through the following assignment, making sure to follow all of the directions and answer all of the questions.\n",
    "\n",
    "There are **34 points** possible on this assignment. Point values for each part are included in the section headers and question prompts.\n",
    "\n",
    "**This assignment is due in roughly two weeks from now at 11:59 pm on Friday, March 5.** It should be uploaded into the \"Homework Assignments\" submission folder for Homework #3.  Submission instructions can be found at the end of the notebook."
   ]
  },
  {
   "cell_type": "markdown",
   "metadata": {},
   "source": [
    "---\n",
    "## Part 1: Add to your Git repository to track your progress on your assignment (4 points)\n",
    "\n",
    "For this assignment, you're going to add it to the `cmse202-s22-turnin` repository you created in class so that you can track your progress on the assignment and preserve the final version that you turn in. In order to do this you need to\n",
    "\n",
    "**&#9989; Do the following**:\n",
    "\n",
    "1. Navigate to your `cmse202-s22-turnin` repository and create a new directory called `hw-03`.\n",
    "2. Move this notebook into that **new directory** in your repository, then **add it and commit it to your repository**.\n",
    "1. Finally, to test that everything is working, \"git push\" the file so that it ends up in your GitHub repository.\n",
    "\n",
    "**Important**: Double check you've added your Professor and your TA as collaborators to your \"turnin\" repository (you should have done this in the previous homework assignment).\n",
    "\n",
    "**Also important**: Make sure that the version of this notebook that you are working on is the same one that you just added to your repository! If you are working on a different copy of the notebook, **none of your changes will be tracked**!\n",
    "\n",
    "If everything went as intended, the file should now show up on your GitHub account in the \"`cmse202-s22-turnin`\" repository inside the `hw-03` directory that you just created.  Periodically, **you'll be asked to commit your changes to the repository and push them to the remote GitHub location**. Of course, you can always commit your changes more often than that, if you wish.  It can be good to get into a habit of committing your changes any time you make a significant modification, or when you stop working on the project for a bit.\n",
    "\n",
    "&#9989; **Do this**: Before you move on, put the command that your instructor should run to clone your repository in the markdown cell below."
   ]
  },
  {
   "cell_type": "markdown",
   "metadata": {},
   "source": [
    "git clone https://github.com/barnbyje/cmse202-s22-turnin"
   ]
  },
  {
   "cell_type": "markdown",
   "metadata": {
    "pycharm": {
     "name": "#%% md\n"
    }
   },
   "source": [
    "&#9989; **Do this**: Before you move on, create a new branch called `hw03_branch` and move into it. In the cell below put the command(s) to create a new branch and to checkout the new branch. (_Note_: your TA will be able to see if you have created the branch and its history)."
   ]
  },
  {
   "cell_type": "markdown",
   "metadata": {
    "pycharm": {
     "name": "#%% md\n"
    }
   },
   "source": [
    "git checkout -b hw03_branch"
   ]
  },
  {
   "cell_type": "markdown",
   "metadata": {
    "pycharm": {
     "name": "#%% md\n"
    }
   },
   "source": [
    "**You MUST work in this new branch and merge it at the end.**"
   ]
  },
  {
   "cell_type": "markdown",
   "metadata": {},
   "source": [
    "---\n",
    "## Part 2: Implement ABM (13 points)\n",
    "\n",
    "For this part of the assignment, you're going to implement the Sandpile model by writing an agent object by yourself. The model is a cellular automaton. Each cell on a finite board has an associated value that corresponds to the volume of the sands. At each unit time, one unit sand will be placed onto one random cell. If the volume exceeds a specific threshold, that cell will collapse and transfer the sand into the adjacent cells to increase their volumes until the system gets stable. In some cases, the sandpile will generate a very beautiful fractal structure.\n",
    "\n",
    "Explore more by clicking https://en.wikipedia.org/wiki/Abelian_sandpile_model\n",
    "\n",
    "<img src=https://raw.githubusercontent.com/msu-cmse-courses/cmse202-S22-data/main/data/Sandpile1.jfif width=150px align=left>\n",
    "<img src=https://raw.githubusercontent.com/msu-cmse-courses/cmse202-S22-data/main/data/Sandpile2.png width=310px align=right>\n"
   ]
  },
  {
   "cell_type": "markdown",
   "metadata": {},
   "source": [
    "---\n",
    "## Specific problem setting\n",
    "Suppose we have an $N\\times N$ board, the sand volume of each cell $\\in\\{0,1,2,3\\}$.\n",
    "If the sand volume in any cell $\\gt3$, that is, the volume $=4$, the system will be unstable and the cell will collapse and transfer one unit sand to every adjacent cell until the system gets stable.\n",
    "\n",
    "<img src=https://raw.githubusercontent.com/msu-cmse-courses/cmse202-S22-data/main/data/sand1.png width=400px>\n",
    "\n",
    "Each unit time, one unit sand will be added to the position $(r_{idx},c_{idx})$, which is randomly chosen according to some distributions (e.g. normal distribution). \n",
    "\n",
    "<img src=https://raw.githubusercontent.com/msu-cmse-courses/cmse202-S22-data/main/data/sand2.png>"
   ]
  },
  {
   "cell_type": "markdown",
   "metadata": {},
   "source": [
    "In summary, each cell of the board has one agent to model the sand volume for that cell. The agent has 3 attributes:\n",
    "* The index of row in the board\n",
    "* The index of column in the board\n",
    "* The board matrix where the agent is located\n",
    "\n",
    "If one unit sand will be added to a cell, the `update` function of the corresponding agent will be activated:\n",
    "1. Add one unit sand to the cell;\n",
    "2. Check whether the cell will collapse or not (volume == 4 or not);\n",
    "3. If collapses, reset the sand volume to 0;\n",
    "4. Return the list of the neighboring cells that also need to be updated subsequently.\n",
    "\n",
    "**Note**: The collapse of one cell may result in the collapse in some neighboring cells subsequently. You will also update the neighboring cells if needed until the whole system gets stable."
   ]
  },
  {
   "cell_type": "markdown",
   "metadata": {},
   "source": [
    "Execute the cell below to load python necessary packages."
   ]
  },
  {
   "cell_type": "code",
   "execution_count": 1,
   "metadata": {},
   "outputs": [],
   "source": [
    "## import the needed packages\n",
    "import numpy as np\n",
    "import matplotlib.pyplot as plt\n",
    "from matplotlib import colors\n",
    "%matplotlib inline\n",
    "from IPython.display import display, clear_output \n",
    "import time\n",
    "import random"
   ]
  },
  {
   "cell_type": "markdown",
   "metadata": {
    "pycharm": {
     "name": "#%% md\n"
    }
   },
   "source": [
    "&#9989; **Question 2.1 (7 points)**: Follow the instructions in the cell below and complete the `update` funtion of AgentCell object. Put your code in the places as indicated."
   ]
  },
  {
   "cell_type": "code",
   "execution_count": 15,
   "metadata": {
    "pycharm": {
     "name": "#%%\n"
    }
   },
   "outputs": [],
   "source": [
    "class AgentCell:\n",
    "    def __init__(self,board,r,c):\n",
    "        '''\n",
    "        board: board of sandpile to save the sand volume\n",
    "        r: r_idx of the agent\n",
    "        c: c_idx of the agent\n",
    "        '''\n",
    "        self.r = r\n",
    "        self.c = c\n",
    "        self.board = board # the N by N board, each entry represents the sand volume in the corresponding cell\n",
    "        self.board_dim = board.shape[0]\n",
    "        \n",
    "    def update(self):\n",
    "        '''\n",
    "        Update the cell by adding one sand to the current cell\n",
    "        If the cell has value <= 3, the system is stable\n",
    "        If the cell has value > 3 (value == 4), the cell will collapse\n",
    "        return the list of the neighbors indices that also need to be updated\n",
    "        If no neighbors need to update, return the empty list\n",
    "        '''\n",
    "        # initialize the list to save the neighbors that also need to update\n",
    "        neighbor_list = []\n",
    "        \n",
    "        # Put your code here to add one unit sand\n",
    "        self.board[self.r][self.c] += 1\n",
    "        \n",
    "        # Put your code here to check whether the cell will collapse\n",
    "        if self.board[self.r][self.c] > 3:\n",
    "                    \n",
    "        # Put your code here to reset the sand volume if collapes\n",
    "            self.board[self.r][self.c] = 0\n",
    "                \n",
    "        # Put your code here to get the valid neighbors that need to update and append to the neighbor_list if collapes\n",
    "            if self.r + 1 <= 200:\n",
    "                neighbor_list.append((self.r + 1, self.c))\n",
    "            if self.r - 1 >= 0:\n",
    "                neighbor_list.append((self.r - 1, self.c))\n",
    "            if self.r + 1 <= 200:\n",
    "                neighbor_list.append((self.r, self.c + 1))\n",
    "            if self.r - 1 >= 0:\n",
    "                neighbor_list.append((self.r, self.c - 1))\n",
    "            \n",
    "        \n",
    "        # return the neighbors that need to update\n",
    "        return neighbor_list"
   ]
  },
  {
   "cell_type": "markdown",
   "metadata": {},
   "source": [
    "&#9989; **Question 2.2 (2 points)**: Here we provide the SandPile object to do sandpile simulation, which has 3 functions:\n",
    "<img src=https://upload.wikimedia.org/wikipedia/commons/c/ce/Gaussian_2d.png width=250px align=right>\n",
    "1. `drop_pos`: Generate a random location to add the sand.\n",
    "2. `update`: Update the whole system.\n",
    "3. `plot`: Plot the sandpile board.\n",
    "\n",
    "`drop_pos` function generates the location according to the Gaussian distribution, which provides the higher probability at the cells that are closer to the board center, but lower probability at the cells that are closer to the board boundary. Therefore, it is very likely to add the sand at the center of the board. The probability density plot is shown on the right.\n",
    " \n",
    "In the cell below, you need to add two comments in the places as indicated, to demonstrate that you understand the meaning of the code."
   ]
  },
  {
   "cell_type": "code",
   "execution_count": 16,
   "metadata": {},
   "outputs": [],
   "source": [
    "class SandPile:\n",
    "    def __init__(self,board_dim=201,gauss_std=4):\n",
    "        '''\n",
    "        board_dim: dimension of the sandpile board\n",
    "        gauss_std: standard deviation of the Gaussian distribution\n",
    "        '''\n",
    "        self.board_dim = board_dim\n",
    "        self.center = board_dim // 2\n",
    "        self.std = gauss_std\n",
    "        \n",
    "        # initialize the board of the sandpile\n",
    "        self.board = np.zeros([board_dim,board_dim])\n",
    "        \n",
    "        self.agent_dict = dict()\n",
    "        for r in range(self.board_dim):\n",
    "            for c in range(self.board_dim):\n",
    "                idx = (r,c)\n",
    "                self.agent_dict[idx] = AgentCell(self.board,r,c)\n",
    "        ### Add your comments here: what is self.agent_dict? what is the keys and values?\n",
    "        # self.agent_dict is a dictionary that holds the value of each indexed position on the board.\n",
    "        # The keys are created by a cartesian coordinate system in which each cell holds a\n",
    "        # row and column number ((r1,c3) for example) and is created by the idx object.\n",
    "        # The value is the sum of grains of sand in that particular cell.\n",
    "                \n",
    "    def drop_pos(self):\n",
    "        '''\n",
    "        Generate the location to add one unit sand based on Gaussian distribution\n",
    "        return: (r_idx,c_idx)\n",
    "        '''\n",
    "        r = c = float('inf')\n",
    "        while r < 0 or r >= self.board_dim:\n",
    "            r = int(random.gauss(self.center,self.std))\n",
    "        while c < 0 or c >= self.board_dim:\n",
    "            c = int(random.gauss(self.center,self.std))\n",
    "        return (r,c)\n",
    "    \n",
    "    \n",
    "    def update(self,pos):\n",
    "        '''\n",
    "        update the board\n",
    "        pos: position to add the sand (r_idx,c_idx)\n",
    "        '''\n",
    "        stack = [pos]\n",
    "    \n",
    "        # simulation, update unitl every cell is stable\n",
    "        while stack:\n",
    "            curr_pos = stack.pop()\n",
    "            print(curr_pos)\n",
    "            neighbor_list = self.agent_dict[curr_pos].update() ### Add your comments here:\n",
    "            # this line of code creates a list of neighboring cells to where the sand is dropped.\n",
    "            # It also updates the value of the cell if it is unstable by subtracting values from \n",
    "            # it until it becomes stable.\n",
    "            stack.extend(neighbor_list)\n",
    "        \n",
    "        \n",
    "    def plot(self,t):\n",
    "        '''\n",
    "        Plot the sandpile\n",
    "        t: time stage\n",
    "        '''\n",
    "        cmap = colors.ListedColormap([\"lightseagreen\",\"lawngreen\",\"gold\",\"darkorange\"])\n",
    "        bounds=[0,1,2,3,4]\n",
    "        norm = colors.BoundaryNorm(bounds, cmap.N)\n",
    "        fig = plt.figure(figsize=(10,10)) \n",
    "        plt.imshow(self.board,cmap=cmap, norm=norm)\n",
    "        plt.title(\"Sandpile, time=\" + str(t),fontsize=30)\n",
    "        plt.colorbar(shrink=0.7)\n",
    "        plt.axis(\"off\")\n",
    "        # This is the code that creates the animation\n",
    "        time.sleep(0.001) \n",
    "        clear_output(wait=True)\n",
    "        display(fig)\n",
    "        fig.clear()"
   ]
  },
  {
   "cell_type": "markdown",
   "metadata": {},
   "source": [
    "&#9989; **Question 2.3 (3 points)**: Follow the instructions in the cell below and write your code to run the simulation process for 50,000 times. Plot the sandpile every 200 unit time."
   ]
  },
  {
   "cell_type": "code",
   "execution_count": 18,
   "metadata": {},
   "outputs": [
    {
     "data": {
      "image/png": "[encoded data removed]",
      "text/plain": [
       "<Figure size 720x720 with 2 Axes>"
      ]
     },
     "metadata": {},
     "output_type": "display_data"
    },
    {
     "name": "stdout",
     "output_type": "stream",
     "text": [
      "(106, 102)\n",
      "(106, 101)\n",
      "(106, 100)\n",
      "(106, 102)\n",
      "(105, 101)\n",
      "(105, 100)\n",
      "(105, 99)\n",
      "(105, 101)\n",
      "(104, 100)\n",
      "(106, 100)\n",
      "(106, 99)\n",
      "(106, 101)\n",
      "(105, 100)\n",
      "(107, 100)\n",
      "(105, 102)\n",
      "(104, 101)\n",
      "(106, 101)\n",
      "(107, 101)\n",
      "(107, 100)\n",
      "(107, 99)\n",
      "(107, 101)\n",
      "(106, 100)\n",
      "(108, 100)\n",
      "(107, 102)\n",
      "(106, 101)\n",
      "(108, 101)\n",
      "(108, 100)\n",
      "(108, 99)\n",
      "(108, 98)\n",
      "(108, 100)\n",
      "(107, 99)\n",
      "(109, 99)\n",
      "(108, 101)\n",
      "(107, 100)\n",
      "(109, 100)\n",
      "(108, 102)\n",
      "(107, 101)\n",
      "(109, 101)\n",
      "(106, 103)\n",
      "(106, 102)\n",
      "(106, 104)\n",
      "(106, 103)\n",
      "(106, 105)\n",
      "(106, 104)\n",
      "(106, 106)\n",
      "(105, 105)\n",
      "(105, 104)\n",
      "(105, 106)\n",
      "(104, 105)\n",
      "(104, 104)\n",
      "(104, 106)\n",
      "(103, 105)\n",
      "(103, 104)\n",
      "(103, 103)\n",
      "(103, 105)\n",
      "(102, 104)\n",
      "(102, 103)\n",
      "(102, 102)\n",
      "(102, 101)\n",
      "(102, 100)\n",
      "(102, 102)\n",
      "(101, 101)\n",
      "(103, 101)\n",
      "(103, 100)\n",
      "(103, 102)\n",
      "(102, 101)\n",
      "(104, 101)\n",
      "(102, 103)\n",
      "(101, 102)\n",
      "(103, 102)\n",
      "(103, 101)\n",
      "(103, 103)\n",
      "(102, 102)\n",
      "(104, 102)\n",
      "(104, 101)\n",
      "(104, 100)\n",
      "(104, 102)\n",
      "(103, 101)\n",
      "(105, 101)\n",
      "(104, 103)\n",
      "(103, 102)\n",
      "(105, 102)\n",
      "(102, 104)\n",
      "(101, 103)\n",
      "(103, 103)\n",
      "(102, 105)\n",
      "(101, 104)\n",
      "(103, 104)\n",
      "(104, 104)\n",
      "(103, 106)\n",
      "(102, 105)\n",
      "(102, 104)\n",
      "(102, 106)\n",
      "(101, 105)\n",
      "(101, 104)\n",
      "(101, 103)\n",
      "(101, 105)\n",
      "(100, 104)\n",
      "(102, 104)\n",
      "(101, 106)\n",
      "(100, 105)\n",
      "(100, 104)\n",
      "(100, 103)\n",
      "(100, 102)\n",
      "(100, 104)\n",
      "(99, 103)\n",
      "(101, 103)\n",
      "(101, 102)\n",
      "(101, 101)\n",
      "(101, 103)\n",
      "(100, 102)\n",
      "(100, 101)\n",
      "(100, 103)\n",
      "(99, 102)\n",
      "(99, 101)\n",
      "(99, 103)\n",
      "(98, 102)\n",
      "(100, 102)\n",
      "(101, 102)\n",
      "(102, 102)\n",
      "(101, 104)\n",
      "(100, 103)\n",
      "(102, 103)\n",
      "(100, 105)\n",
      "(99, 104)\n",
      "(101, 104)\n",
      "(100, 106)\n",
      "(99, 105)\n",
      "(101, 105)\n",
      "(102, 105)\n",
      "(103, 105)\n",
      "(104, 105)\n",
      "(105, 105)\n",
      "(106, 105)\n",
      "(107, 105)\n",
      "(107, 104)\n",
      "(107, 103)\n",
      "(107, 105)\n",
      "(106, 104)\n",
      "(108, 104)\n",
      "(107, 106)\n",
      "(106, 105)\n",
      "(108, 105)\n",
      "(105, 104)\n",
      "(105, 103)\n",
      "(105, 105)\n",
      "(104, 104)\n",
      "(104, 103)\n",
      "(104, 102)\n",
      "(104, 104)\n",
      "(103, 103)\n",
      "(103, 102)\n",
      "(103, 104)\n",
      "(102, 103)\n",
      "(104, 103)\n",
      "(105, 103)\n",
      "(104, 105)\n",
      "(103, 104)\n",
      "(105, 104)\n",
      "(106, 104)\n",
      "(107, 104)\n",
      "(105, 103)\n",
      "(105, 102)\n",
      "(105, 104)\n",
      "(104, 103)\n",
      "(106, 103)\n",
      "(107, 103)\n",
      "(107, 102)\n",
      "(107, 104)\n",
      "(106, 103)\n",
      "(108, 103)\n",
      "(108, 102)\n",
      "(108, 104)\n",
      "(108, 103)\n",
      "(108, 105)\n",
      "(107, 104)\n",
      "(109, 104)\n",
      "(109, 103)\n",
      "(109, 105)\n",
      "(109, 104)\n",
      "(109, 106)\n",
      "(109, 105)\n",
      "(109, 107)\n",
      "(108, 106)\n",
      "(108, 105)\n",
      "(108, 104)\n",
      "(108, 106)\n",
      "(107, 105)\n",
      "(109, 105)\n",
      "(108, 107)\n",
      "(107, 106)\n",
      "(107, 105)\n",
      "(107, 107)\n",
      "(106, 106)\n",
      "(108, 106)\n",
      "(109, 106)\n",
      "(110, 106)\n",
      "(110, 105)\n",
      "(110, 107)\n",
      "(109, 106)\n",
      "(111, 106)\n",
      "(111, 105)\n",
      "(111, 107)\n",
      "(111, 106)\n",
      "(111, 108)\n",
      "(111, 107)\n",
      "(111, 109)\n",
      "(110, 108)\n",
      "(112, 108)\n",
      "(110, 107)\n",
      "(110, 106)\n",
      "(110, 108)\n",
      "(110, 107)\n",
      "(110, 109)\n",
      "(109, 108)\n",
      "(111, 108)\n",
      "(109, 107)\n",
      "(109, 106)\n",
      "(109, 108)\n",
      "(108, 107)\n",
      "(108, 106)\n",
      "(108, 108)\n",
      "(108, 107)\n",
      "(108, 109)\n",
      "(107, 108)\n",
      "(107, 107)\n",
      "(107, 109)\n",
      "(107, 108)\n",
      "(107, 110)\n",
      "(106, 109)\n",
      "(106, 108)\n",
      "(106, 110)\n",
      "(105, 109)\n",
      "(107, 109)\n",
      "(108, 109)\n",
      "(108, 108)\n",
      "(108, 110)\n",
      "(108, 109)\n",
      "(108, 111)\n",
      "(108, 110)\n",
      "(108, 112)\n",
      "(107, 111)\n",
      "(109, 111)\n",
      "(107, 110)\n",
      "(107, 109)\n",
      "(107, 111)\n",
      "(106, 110)\n",
      "(106, 109)\n",
      "(106, 111)\n",
      "(106, 110)\n",
      "(106, 112)\n",
      "(106, 111)\n",
      "(106, 113)\n",
      "(106, 112)\n",
      "(106, 114)\n",
      "(105, 113)\n",
      "(107, 113)\n",
      "(107, 112)\n",
      "(107, 114)\n",
      "(106, 113)\n",
      "(108, 113)\n",
      "(105, 112)\n",
      "(105, 111)\n",
      "(105, 110)\n",
      "(105, 109)\n",
      "(105, 111)\n",
      "(104, 110)\n",
      "(104, 109)\n",
      "(104, 111)\n",
      "(103, 110)\n",
      "(105, 110)\n",
      "(106, 110)\n",
      "(105, 112)\n",
      "(104, 111)\n",
      "(106, 111)\n",
      "(105, 113)\n",
      "(105, 112)\n",
      "(105, 114)\n",
      "(104, 113)\n",
      "(106, 113)\n",
      "(104, 112)\n",
      "(104, 111)\n",
      "(104, 113)\n",
      "(103, 112)\n",
      "(103, 111)\n",
      "(103, 110)\n",
      "(103, 112)\n",
      "(102, 111)\n",
      "(104, 111)\n",
      "(104, 110)\n",
      "(104, 112)\n",
      "(103, 111)\n",
      "(105, 111)\n",
      "(103, 113)\n",
      "(102, 112)\n",
      "(102, 111)\n",
      "(102, 110)\n",
      "(102, 112)\n",
      "(101, 111)\n",
      "(103, 111)\n",
      "(102, 113)\n",
      "(102, 112)\n",
      "(102, 114)\n",
      "(101, 113)\n",
      "(103, 113)\n",
      "(101, 112)\n",
      "(101, 111)\n",
      "(101, 113)\n",
      "(101, 112)\n",
      "(101, 114)\n",
      "(100, 113)\n",
      "(102, 113)\n",
      "(100, 112)\n",
      "(102, 112)\n",
      "(103, 112)\n",
      "(104, 112)\n",
      "(105, 112)\n",
      "(106, 112)\n",
      "(107, 112)\n",
      "(105, 111)\n",
      "(107, 111)\n",
      "(107, 110)\n",
      "(107, 112)\n",
      "(107, 111)\n",
      "(107, 113)\n",
      "(106, 112)\n",
      "(108, 112)\n",
      "(108, 111)\n",
      "(108, 113)\n",
      "(107, 112)\n",
      "(109, 112)\n",
      "(109, 111)\n",
      "(109, 110)\n",
      "(109, 109)\n",
      "(109, 111)\n",
      "(108, 110)\n",
      "(110, 110)\n",
      "(110, 109)\n",
      "(110, 111)\n",
      "(109, 110)\n",
      "(111, 110)\n",
      "(111, 109)\n",
      "(111, 108)\n",
      "(111, 110)\n",
      "(110, 109)\n",
      "(110, 108)\n",
      "(110, 110)\n",
      "(109, 109)\n",
      "(109, 108)\n",
      "(109, 107)\n",
      "(109, 109)\n",
      "(108, 108)\n",
      "(110, 108)\n",
      "(109, 110)\n",
      "(108, 109)\n",
      "(110, 109)\n",
      "(111, 109)\n",
      "(112, 109)\n",
      "(112, 108)\n",
      "(112, 110)\n",
      "(111, 109)\n",
      "(113, 109)\n",
      "(111, 111)\n",
      "(111, 110)\n",
      "(111, 112)\n",
      "(110, 111)\n",
      "(112, 111)\n",
      "(110, 110)\n",
      "(112, 110)\n",
      "(109, 112)\n",
      "(108, 111)\n",
      "(110, 111)\n",
      "(109, 113)\n",
      "(109, 112)\n",
      "(109, 114)\n",
      "(109, 113)\n",
      "(109, 115)\n",
      "(108, 114)\n",
      "(110, 114)\n",
      "(110, 113)\n",
      "(110, 112)\n",
      "(110, 111)\n",
      "(110, 110)\n",
      "(110, 112)\n",
      "(109, 111)\n",
      "(111, 111)\n",
      "(110, 113)\n",
      "(109, 112)\n",
      "(111, 112)\n",
      "(111, 111)\n",
      "(111, 113)\n",
      "(111, 112)\n",
      "(111, 114)\n",
      "(110, 113)\n",
      "(112, 113)\n",
      "(112, 112)\n",
      "(112, 114)\n",
      "(111, 113)\n",
      "(113, 113)\n",
      "(110, 112)\n",
      "(112, 112)\n",
      "(112, 111)\n",
      "(112, 110)\n",
      "(112, 109)\n",
      "(112, 111)\n",
      "(111, 110)\n",
      "(113, 110)\n",
      "(112, 112)\n",
      "(111, 111)\n",
      "(113, 111)\n",
      "(112, 113)\n",
      "(111, 112)\n",
      "(113, 112)\n",
      "(110, 114)\n",
      "(109, 113)\n",
      "(111, 113)\n",
      "(110, 115)\n",
      "(109, 114)\n",
      "(111, 114)\n",
      "(111, 113)\n",
      "(111, 115)\n",
      "(111, 114)\n",
      "(111, 116)\n",
      "(110, 115)\n",
      "(112, 115)\n",
      "(112, 114)\n",
      "(112, 116)\n",
      "(112, 115)\n",
      "(112, 117)\n",
      "(111, 116)\n",
      "(113, 116)\n",
      "(113, 115)\n",
      "(113, 117)\n",
      "(112, 116)\n",
      "(114, 116)\n",
      "(114, 115)\n",
      "(114, 117)\n",
      "(113, 116)\n",
      "(115, 116)\n",
      "(115, 115)\n",
      "(115, 117)\n",
      "(114, 116)\n",
      "(116, 116)\n",
      "(111, 115)\n",
      "(113, 115)\n",
      "(113, 114)\n",
      "(113, 113)\n",
      "(113, 112)\n",
      "(113, 111)\n",
      "(113, 110)\n",
      "(113, 112)\n",
      "(112, 111)\n",
      "(114, 111)\n",
      "(114, 110)\n",
      "(114, 109)\n",
      "(114, 111)\n",
      "(113, 110)\n",
      "(113, 109)\n",
      "(113, 108)\n",
      "(113, 107)\n",
      "(113, 106)\n",
      "(113, 105)\n",
      "(113, 107)\n",
      "(112, 106)\n",
      "(112, 105)\n",
      "(112, 104)\n",
      "(112, 103)\n",
      "(112, 105)\n",
      "(111, 104)\n",
      "(111, 103)\n",
      "(111, 102)\n",
      "(111, 101)\n",
      "(111, 100)\n",
      "(111, 102)\n",
      "(110, 101)\n",
      "(110, 100)\n",
      "(110, 99)\n",
      "(110, 101)\n",
      "(109, 100)\n",
      "(111, 100)\n",
      "(111, 99)\n",
      "(111, 101)\n",
      "(110, 100)\n",
      "(112, 100)\n",
      "(110, 102)\n",
      "(110, 101)\n",
      "(110, 103)\n",
      "(110, 102)\n",
      "(110, 104)\n",
      "(109, 103)\n",
      "(111, 103)\n",
      "(109, 102)\n",
      "(109, 101)\n",
      "(109, 100)\n",
      "(109, 99)\n",
      "(109, 98)\n",
      "(109, 100)\n",
      "(108, 99)\n",
      "(110, 99)\n",
      "(110, 98)\n",
      "(110, 100)\n",
      "(109, 99)\n",
      "(111, 99)\n",
      "(111, 98)\n",
      "(111, 100)\n",
      "(110, 99)\n",
      "(112, 99)\n",
      "(112, 98)\n",
      "(112, 100)\n",
      "(112, 99)\n",
      "(112, 101)\n",
      "(112, 100)\n",
      "(112, 102)\n",
      "(111, 101)\n",
      "(113, 101)\n",
      "(111, 100)\n",
      "(113, 100)\n",
      "(111, 99)\n",
      "(113, 99)\n",
      "(109, 101)\n",
      "(108, 100)\n",
      "(110, 100)\n",
      "(109, 102)\n",
      "(108, 101)\n",
      "(110, 101)\n",
      "(109, 103)\n",
      "(109, 102)\n",
      "(109, 104)\n",
      "(108, 103)\n",
      "(110, 103)\n",
      "(108, 102)\n",
      "(108, 101)\n",
      "(108, 103)\n",
      "(107, 102)\n",
      "(107, 101)\n",
      "(107, 103)\n",
      "(106, 102)\n",
      "(108, 102)\n",
      "(109, 102)\n",
      "(110, 102)\n",
      "(111, 102)\n",
      "(109, 101)\n",
      "(111, 101)\n",
      "(112, 101)\n",
      "(111, 103)\n",
      "(110, 102)\n",
      "(112, 102)\n",
      "(112, 101)\n",
      "(112, 103)\n",
      "(112, 102)\n",
      "(112, 104)\n",
      "(111, 103)\n",
      "(113, 103)\n",
      "(113, 102)\n",
      "(113, 104)\n",
      "(113, 103)\n",
      "(113, 105)\n",
      "(113, 104)\n",
      "(113, 106)\n",
      "(112, 105)\n",
      "(114, 105)\n",
      "(114, 104)\n",
      "(114, 106)\n",
      "(114, 105)\n",
      "(114, 107)\n",
      "(114, 106)\n",
      "(114, 108)\n",
      "(113, 107)\n",
      "(115, 107)\n",
      "(113, 106)\n",
      "(115, 106)\n",
      "(113, 105)\n",
      "(115, 105)\n",
      "(115, 104)\n",
      "(115, 103)\n",
      "(115, 102)\n",
      "(115, 101)\n",
      "(115, 103)\n",
      "(114, 102)\n",
      "(114, 101)\n",
      "(114, 103)\n",
      "(113, 102)\n",
      "(115, 102)\n",
      "(116, 102)\n",
      "(115, 104)\n",
      "(114, 103)\n",
      "(114, 102)\n",
      "(114, 104)\n",
      "(113, 103)\n",
      "(115, 103)\n",
      "(116, 103)\n",
      "(115, 105)\n",
      "(114, 104)\n",
      "(116, 104)\n",
      "(115, 106)\n",
      "(115, 105)\n",
      "(115, 107)\n",
      "(114, 106)\n",
      "(116, 106)\n",
      "(116, 105)\n",
      "(116, 104)\n",
      "(116, 103)\n",
      "(116, 102)\n",
      "(116, 101)\n",
      "(116, 100)\n",
      "(116, 102)\n",
      "(115, 101)\n",
      "(115, 100)\n",
      "(115, 99)\n",
      "(115, 98)\n",
      "(115, 100)\n",
      "(114, 99)\n",
      "(114, 98)\n",
      "(114, 100)\n",
      "(114, 99)\n",
      "(114, 101)\n",
      "(113, 100)\n",
      "(113, 99)\n",
      "(113, 98)\n",
      "(113, 97)\n",
      "(113, 99)\n",
      "(112, 98)\n",
      "(114, 98)\n",
      "(113, 100)\n",
      "(112, 99)\n",
      "(114, 99)\n",
      "(113, 101)\n",
      "(113, 100)\n",
      "(113, 102)\n",
      "(112, 101)\n",
      "(114, 101)\n",
      "(112, 100)\n",
      "(114, 100)\n",
      "(115, 100)\n",
      "(113, 99)\n",
      "(115, 99)\n",
      "(116, 99)\n",
      "(115, 101)\n",
      "(114, 100)\n",
      "(116, 100)\n",
      "(116, 99)\n",
      "(116, 98)\n",
      "(116, 97)\n",
      "(116, 99)\n",
      "(115, 98)\n",
      "(115, 97)\n",
      "(115, 96)\n",
      "(115, 95)\n",
      "(115, 94)\n",
      "(115, 93)\n",
      "(115, 95)\n",
      "(114, 94)\n",
      "(114, 93)\n",
      "(114, 92)\n",
      "(114, 94)\n",
      "(113, 93)\n",
      "(113, 92)\n",
      "(113, 94)\n",
      "(112, 93)\n",
      "(114, 93)\n",
      "(115, 93)\n",
      "(114, 95)\n",
      "(113, 94)\n",
      "(113, 93)\n",
      "(113, 95)\n",
      "(113, 94)\n",
      "(113, 96)\n",
      "(113, 95)\n",
      "(113, 97)\n",
      "(112, 96)\n",
      "(112, 95)\n",
      "(112, 94)\n",
      "(112, 96)\n",
      "(111, 95)\n",
      "(113, 95)\n",
      "(112, 97)\n",
      "(112, 96)\n",
      "(112, 98)\n",
      "(111, 97)\n",
      "(113, 97)\n",
      "(111, 96)\n",
      "(111, 95)\n",
      "(111, 94)\n",
      "(111, 96)\n",
      "(110, 95)\n",
      "(112, 95)\n",
      "(111, 97)\n",
      "(111, 96)\n",
      "(111, 98)\n",
      "(111, 97)\n",
      "(111, 99)\n",
      "(110, 98)\n",
      "(112, 98)\n",
      "(112, 97)\n",
      "(112, 99)\n",
      "(111, 98)\n",
      "(113, 98)\n",
      "(110, 97)\n",
      "(110, 96)\n",
      "(110, 98)\n",
      "(110, 97)\n",
      "(110, 99)\n",
      "(109, 98)\n",
      "(111, 98)\n",
      "(109, 97)\n",
      "(109, 96)\n",
      "(109, 98)\n",
      "(108, 97)\n",
      "(108, 96)\n",
      "(108, 98)\n",
      "(108, 97)\n",
      "(108, 99)\n",
      "(107, 98)\n",
      "(107, 97)\n",
      "(107, 99)\n",
      "(107, 98)\n",
      "(107, 100)\n",
      "(106, 99)\n",
      "(108, 99)\n",
      "(106, 98)\n",
      "(108, 98)\n",
      "(109, 98)\n",
      "(109, 97)\n",
      "(109, 99)\n",
      "(108, 98)\n",
      "(110, 98)\n",
      "(107, 97)\n",
      "(107, 96)\n",
      "(107, 98)\n",
      "(106, 97)\n",
      "(106, 96)\n",
      "(106, 95)\n",
      "(106, 97)\n",
      "(105, 96)\n",
      "(107, 96)\n",
      "(107, 95)\n",
      "(107, 94)\n",
      "(107, 93)\n",
      "(107, 92)\n",
      "(107, 91)\n",
      "(107, 90)\n",
      "(107, 92)\n",
      "(106, 91)\n",
      "(106, 90)\n",
      "(106, 89)\n",
      "(106, 91)\n",
      "(105, 90)\n",
      "(105, 89)\n",
      "(105, 91)\n",
      "(104, 90)\n",
      "(104, 89)\n",
      "(104, 91)\n",
      "(104, 90)\n",
      "(104, 92)\n",
      "(104, 91)\n",
      "(104, 93)\n",
      "(103, 92)\n",
      "(103, 91)\n",
      "(103, 93)\n",
      "(102, 92)\n",
      "(102, 91)\n",
      "(102, 90)\n",
      "(102, 89)\n",
      "(102, 91)\n",
      "(101, 90)\n",
      "(101, 89)\n",
      "(101, 91)\n",
      "(101, 90)\n",
      "(101, 92)\n",
      "(100, 91)\n",
      "(102, 91)\n",
      "(100, 90)\n",
      "(100, 89)\n",
      "(100, 88)\n",
      "(100, 90)\n",
      "(99, 89)\n",
      "(99, 88)\n",
      "(99, 87)\n",
      "(99, 89)\n",
      "(98, 88)\n",
      "(100, 88)\n",
      "(100, 87)\n",
      "(100, 86)\n",
      "(100, 88)\n",
      "(99, 87)\n",
      "(101, 87)\n",
      "(101, 86)\n",
      "(101, 88)\n",
      "(100, 87)\n",
      "(102, 87)\n",
      "(100, 89)\n",
      "(99, 88)\n",
      "(101, 88)\n",
      "(101, 87)\n",
      "(101, 89)\n",
      "(100, 88)\n",
      "(102, 88)\n",
      "(99, 90)\n",
      "(99, 89)\n",
      "(99, 91)\n",
      "(99, 90)\n",
      "(99, 92)\n",
      "(98, 91)\n",
      "(98, 90)\n",
      "(98, 92)\n",
      "(97, 91)\n",
      "(99, 91)\n",
      "(100, 91)\n",
      "(98, 90)\n",
      "(100, 90)\n",
      "(98, 89)\n",
      "(98, 88)\n",
      "(98, 87)\n",
      "(98, 86)\n",
      "(98, 85)\n",
      "(98, 87)\n",
      "(97, 86)\n",
      "(99, 86)\n",
      "(98, 88)\n",
      "(97, 87)\n",
      "(97, 86)\n",
      "(97, 85)\n",
      "(97, 87)\n",
      "(96, 86)\n",
      "(98, 86)\n",
      "(97, 88)\n",
      "(96, 87)\n",
      "(98, 87)\n",
      "(99, 87)\n",
      "(99, 86)\n",
      "(99, 85)\n",
      "(99, 84)\n",
      "(99, 83)\n",
      "(99, 85)\n",
      "(98, 84)\n",
      "(98, 83)\n",
      "(98, 85)\n",
      "(97, 84)\n",
      "(99, 84)\n",
      "(100, 84)\n",
      "(100, 83)\n",
      "(100, 85)\n",
      "(100, 84)\n",
      "(100, 86)\n",
      "(100, 85)\n",
      "(100, 87)\n",
      "(99, 86)\n",
      "(101, 86)\n",
      "(101, 85)\n",
      "(101, 87)\n",
      "(100, 86)\n",
      "(102, 86)\n",
      "(99, 85)\n",
      "(101, 85)\n",
      "(99, 84)\n",
      "(101, 84)\n",
      "(99, 86)\n",
      "(98, 85)\n",
      "(98, 84)\n",
      "(98, 86)\n",
      "(97, 85)\n",
      "(99, 85)\n",
      "(100, 85)\n",
      "(99, 87)\n",
      "(98, 86)\n",
      "(100, 86)\n",
      "(99, 88)\n",
      "(98, 87)\n",
      "(100, 87)\n",
      "(98, 89)\n",
      "(97, 88)\n",
      "(99, 88)\n",
      "(98, 90)\n",
      "(97, 89)\n",
      "(97, 88)\n",
      "(97, 87)\n",
      "(97, 89)\n",
      "(96, 88)\n",
      "(98, 88)\n",
      "(97, 90)\n",
      "(97, 89)\n",
      "(97, 91)\n",
      "(97, 90)\n",
      "(97, 92)\n",
      "(96, 91)\n",
      "(98, 91)\n",
      "(96, 90)\n",
      "(98, 90)\n",
      "(98, 89)\n",
      "(98, 91)\n",
      "(97, 90)\n",
      "(99, 90)\n",
      "(96, 89)\n",
      "(96, 88)\n",
      "(96, 90)\n",
      "(95, 89)\n",
      "(97, 89)\n",
      "(98, 89)\n",
      "(99, 89)\n",
      "(100, 89)\n",
      "(101, 89)\n",
      "(100, 91)\n",
      "(100, 90)\n",
      "(100, 92)\n",
      "(100, 91)\n",
      "(100, 93)\n",
      "(100, 92)\n",
      "(100, 94)\n",
      "(100, 93)\n",
      "(100, 95)\n",
      "(100, 94)\n",
      "(100, 96)\n",
      "(99, 95)\n",
      "(101, 95)\n",
      "(99, 94)\n",
      "(101, 94)\n",
      "(101, 93)\n",
      "(101, 95)\n",
      "(100, 94)\n",
      "(102, 94)\n",
      "(99, 93)\n",
      "(101, 93)\n",
      "(99, 92)\n",
      "(99, 91)\n",
      "(99, 93)\n",
      "(99, 92)\n",
      "(99, 94)\n",
      "(99, 93)\n",
      "(99, 95)\n",
      "(99, 94)\n",
      "(99, 96)\n",
      "(99, 95)\n",
      "(99, 97)\n",
      "(99, 96)\n",
      "(99, 98)\n",
      "(98, 97)\n",
      "(100, 97)\n",
      "(100, 96)\n",
      "(100, 98)\n",
      "(100, 97)\n",
      "(100, 99)\n",
      "(100, 98)\n",
      "(100, 100)\n",
      "(99, 99)\n",
      "(99, 98)\n",
      "(99, 97)\n",
      "(99, 99)\n",
      "(98, 98)\n",
      "(98, 97)\n",
      "(98, 96)\n",
      "(98, 95)\n",
      "(98, 94)\n",
      "(98, 93)\n",
      "(98, 92)\n",
      "(98, 94)\n",
      "(97, 93)\n",
      "(97, 92)\n",
      "(97, 91)\n",
      "(97, 93)\n",
      "(96, 92)\n",
      "(96, 91)\n",
      "(96, 90)\n",
      "(96, 92)\n",
      "(95, 91)\n",
      "(95, 90)\n",
      "(95, 89)\n",
      "(95, 88)\n",
      "(95, 87)\n",
      "(95, 86)\n",
      "(95, 85)\n",
      "(95, 87)\n",
      "(94, 86)\n",
      "(96, 86)\n",
      "(96, 85)\n",
      "(96, 87)\n",
      "(95, 86)\n",
      "(97, 86)\n",
      "(95, 88)\n",
      "(94, 87)\n",
      "(94, 86)\n",
      "(94, 85)\n",
      "(94, 84)\n",
      "(94, 86)\n",
      "(93, 85)\n",
      "(93, 84)\n",
      "(93, 86)\n",
      "(93, 85)\n",
      "(93, 87)\n",
      "(93, 86)\n",
      "(93, 88)\n",
      "(93, 87)\n",
      "(93, 89)\n",
      "(92, 88)\n",
      "(94, 88)\n",
      "(92, 87)\n",
      "(94, 87)\n",
      "(92, 86)\n",
      "(94, 86)\n",
      "(92, 85)\n",
      "(94, 85)\n",
      "(95, 85)\n",
      "(94, 87)\n",
      "(93, 86)\n",
      "(95, 86)\n",
      "(94, 88)\n",
      "(94, 87)\n",
      "(94, 89)\n",
      "(94, 88)\n",
      "(94, 90)\n",
      "(94, 89)\n",
      "(94, 91)\n",
      "(94, 90)\n",
      "(94, 92)\n",
      "(93, 91)\n",
      "(93, 90)\n",
      "(93, 92)\n",
      "(92, 91)\n",
      "(92, 90)\n",
      "(92, 92)\n",
      "(91, 91)\n",
      "(91, 90)\n",
      "(91, 92)\n",
      "(90, 91)\n",
      "(90, 90)\n",
      "(90, 92)\n",
      "(90, 91)\n",
      "(90, 93)\n",
      "(89, 92)\n",
      "(91, 92)\n",
      "(91, 91)\n",
      "(91, 93)\n",
      "(90, 92)\n",
      "(92, 92)\n",
      "(92, 91)\n",
      "(92, 93)\n",
      "(91, 92)\n",
      "(93, 92)\n",
      "(89, 91)\n",
      "(89, 90)\n",
      "(89, 89)\n",
      "(89, 91)\n",
      "(88, 90)\n",
      "(90, 90)\n",
      "(90, 89)\n",
      "(90, 91)\n",
      "(89, 90)\n",
      "(91, 90)\n",
      "(91, 89)\n",
      "(91, 91)\n",
      "(90, 90)\n",
      "(92, 90)\n",
      "(89, 92)\n",
      "(89, 91)\n",
      "(89, 93)\n",
      "(88, 92)\n",
      "(88, 91)\n",
      "(88, 90)\n",
      "(88, 92)\n",
      "(87, 91)\n",
      "(87, 90)\n",
      "(87, 92)\n",
      "(86, 91)\n",
      "(88, 91)\n",
      "(89, 91)\n",
      "(88, 93)\n",
      "(87, 92)\n",
      "(89, 92)\n",
      "(90, 92)\n",
      "(88, 91)\n",
      "(90, 91)\n",
      "(91, 91)\n",
      "(92, 91)\n",
      "(93, 91)\n",
      "(94, 91)\n",
      "(95, 91)\n",
      "(93, 90)\n",
      "(93, 89)\n",
      "(93, 91)\n",
      "(92, 90)\n",
      "(94, 90)\n",
      "(95, 90)\n",
      "(93, 89)\n",
      "(93, 88)\n",
      "(93, 90)\n",
      "(92, 89)\n",
      "(94, 89)\n",
      "(95, 89)\n",
      "(93, 88)\n",
      "(95, 88)\n",
      "(93, 87)\n",
      "(95, 87)\n",
      "(96, 87)\n",
      "(96, 86)\n",
      "(96, 88)\n",
      "(95, 87)\n",
      "(97, 87)\n",
      "(95, 89)\n",
      "(94, 88)\n",
      "(96, 88)\n",
      "(96, 87)\n",
      "(96, 89)\n",
      "(95, 88)\n",
      "(97, 88)\n",
      "(95, 90)\n",
      "(94, 89)\n",
      "(96, 89)\n",
      "(95, 91)\n",
      "(94, 90)\n",
      "(96, 90)\n",
      "(96, 89)\n",
      "(96, 91)\n",
      "(95, 90)\n",
      "(97, 90)\n",
      "(95, 92)\n",
      "(95, 91)\n",
      "(95, 93)\n",
      "(94, 92)\n",
      "(94, 91)\n",
      "(94, 93)\n",
      "(94, 92)\n",
      "(94, 94)\n",
      "(93, 93)\n",
      "(95, 93)\n",
      "(93, 92)\n",
      "(93, 91)\n",
      "(93, 93)\n",
      "(93, 92)\n",
      "(93, 94)\n",
      "(92, 93)\n",
      "(94, 93)\n",
      "(92, 92)\n",
      "(94, 92)\n",
      "(95, 92)\n",
      "(96, 92)\n",
      "(94, 91)\n",
      "(96, 91)\n",
      "(97, 91)\n",
      "(96, 93)\n",
      "(95, 92)\n",
      "(97, 92)\n",
      "(98, 92)\n",
      "(98, 91)\n",
      "(98, 93)\n",
      "(97, 92)\n",
      "(99, 92)\n",
      "(97, 94)\n",
      "(97, 93)\n",
      "(97, 95)\n",
      "(97, 94)\n",
      "(97, 96)\n",
      "(97, 95)\n",
      "(97, 97)\n",
      "(96, 96)\n",
      "(98, 96)\n",
      "(96, 95)\n",
      "(96, 94)\n",
      "(96, 96)\n",
      "(95, 95)\n",
      "(97, 95)\n",
      "(98, 95)\n",
      "(96, 94)\n",
      "(96, 93)\n",
      "(96, 95)\n",
      "(95, 94)\n",
      "(95, 93)\n",
      "(95, 95)\n",
      "(95, 94)\n",
      "(95, 96)\n",
      "(95, 95)\n",
      "(95, 97)\n",
      "(95, 96)\n",
      "(95, 98)\n",
      "(95, 97)\n",
      "(95, 99)\n",
      "(95, 98)\n",
      "(95, 100)\n",
      "(94, 99)\n",
      "(96, 99)\n",
      "(96, 98)\n",
      "(96, 100)\n",
      "(95, 99)\n",
      "(97, 99)\n",
      "(94, 98)\n",
      "(96, 98)\n",
      "(96, 97)\n",
      "(96, 99)\n",
      "(95, 98)\n",
      "(97, 98)\n",
      "(97, 97)\n",
      "(97, 99)\n",
      "(96, 98)\n",
      "(98, 98)\n",
      "(94, 97)\n",
      "(94, 96)\n",
      "(94, 98)\n",
      "(94, 97)\n",
      "(94, 99)\n",
      "(94, 98)\n",
      "(94, 100)\n",
      "(93, 99)\n",
      "(93, 98)\n",
      "(93, 100)\n",
      "(93, 99)\n",
      "(93, 101)\n",
      "(93, 100)\n",
      "(93, 102)\n",
      "(92, 101)\n",
      "(94, 101)\n",
      "(94, 100)\n",
      "(94, 102)\n",
      "(93, 101)\n",
      "(95, 101)\n",
      "(92, 100)\n",
      "(94, 100)\n",
      "(92, 99)\n",
      "(92, 98)\n",
      "(92, 100)\n",
      "(91, 99)\n",
      "(93, 99)\n",
      "(94, 99)\n",
      "(95, 99)\n",
      "(93, 98)\n",
      "(93, 97)\n",
      "(93, 96)\n",
      "(93, 98)\n",
      "(92, 97)\n",
      "(94, 97)\n",
      "(93, 99)\n",
      "(92, 98)\n",
      "(92, 97)\n",
      "(92, 99)\n",
      "(91, 98)\n",
      "(93, 98)\n",
      "(94, 98)\n",
      "(95, 98)\n",
      "(93, 97)\n",
      "(95, 97)\n",
      "(96, 97)\n",
      "(94, 96)\n",
      "(96, 96)\n",
      "(94, 95)\n",
      "(96, 95)\n",
      "(94, 94)\n",
      "(94, 93)\n",
      "(94, 95)\n",
      "(94, 94)\n",
      "(94, 96)\n",
      "(94, 95)\n",
      "(94, 97)\n",
      "(93, 96)\n",
      "(95, 96)\n",
      "(93, 95)\n",
      "(95, 95)\n",
      "(93, 94)\n",
      "(93, 93)\n",
      "(93, 95)\n",
      "(92, 94)\n",
      "(92, 93)\n",
      "(92, 92)\n",
      "(92, 94)\n",
      "(91, 93)\n",
      "(93, 93)\n",
      "(92, 95)\n",
      "(91, 94)\n",
      "(91, 93)\n",
      "(91, 92)\n",
      "(91, 94)\n",
      "(90, 93)\n",
      "(92, 93)\n",
      "(91, 95)\n",
      "(91, 94)\n",
      "(91, 96)\n",
      "(91, 95)\n",
      "(91, 97)\n",
      "(90, 96)\n",
      "(90, 95)\n",
      "(90, 97)\n",
      "(89, 96)\n",
      "(89, 95)\n",
      "(89, 94)\n",
      "(89, 93)\n",
      "(89, 92)\n",
      "(89, 94)\n",
      "(88, 93)\n",
      "(88, 92)\n",
      "(88, 94)\n",
      "(87, 93)\n",
      "(89, 93)\n",
      "(90, 93)\n",
      "(90, 92)\n",
      "(90, 94)\n",
      "(89, 93)\n",
      "(91, 93)\n",
      "(89, 95)\n",
      "(88, 94)\n",
      "(88, 93)\n",
      "(88, 95)\n",
      "(87, 94)\n",
      "(89, 94)\n",
      "(90, 94)\n",
      "(90, 93)\n",
      "(90, 95)\n",
      "(89, 94)\n",
      "(91, 94)\n",
      "(89, 96)\n",
      "(88, 95)\n",
      "(90, 95)\n",
      "(90, 94)\n",
      "(90, 96)\n",
      "(89, 95)\n",
      "(91, 95)\n",
      "(89, 97)\n",
      "(89, 96)\n",
      "(89, 98)\n",
      "(88, 97)\n",
      "(88, 96)\n",
      "(88, 95)\n",
      "(88, 94)\n",
      "(88, 96)\n",
      "(87, 95)\n",
      "(87, 94)\n",
      "(87, 93)\n",
      "(87, 95)\n",
      "(86, 94)\n",
      "(88, 94)\n",
      "(87, 96)\n",
      "(86, 95)\n",
      "(88, 95)\n",
      "(89, 95)\n",
      "(88, 97)\n",
      "(87, 96)\n",
      "(87, 95)\n",
      "(87, 97)\n",
      "(86, 96)\n",
      "(88, 96)\n",
      "(89, 96)\n",
      "(88, 98)\n",
      "(87, 97)\n",
      "(87, 96)\n",
      "(87, 98)\n",
      "(86, 97)\n",
      "(86, 96)\n",
      "(86, 98)\n",
      "(85, 97)\n",
      "(85, 96)\n",
      "(85, 95)\n",
      "(85, 97)\n",
      "(84, 96)\n",
      "(86, 96)\n",
      "(86, 95)\n",
      "(86, 94)\n",
      "(86, 93)\n",
      "(86, 95)\n",
      "(85, 94)\n",
      "(87, 94)\n",
      "(86, 96)\n",
      "(85, 95)\n",
      "(85, 94)\n",
      "(85, 96)\n",
      "(84, 95)\n",
      "(86, 95)\n",
      "(87, 95)\n",
      "(86, 97)\n",
      "(85, 96)\n",
      "(87, 96)\n",
      "(85, 98)\n",
      "(84, 97)\n",
      "(86, 97)\n",
      "(87, 97)\n",
      "(88, 97)\n",
      "(89, 97)\n",
      "(90, 97)\n",
      "(90, 96)\n",
      "(90, 98)\n",
      "(90, 97)\n",
      "(90, 99)\n",
      "(90, 98)\n",
      "(90, 100)\n",
      "(89, 99)\n",
      "(91, 99)\n",
      "(91, 98)\n",
      "(91, 100)\n",
      "(91, 99)\n",
      "(91, 101)\n",
      "(90, 100)\n",
      "(90, 99)\n",
      "(90, 101)\n",
      "(90, 100)\n",
      "(90, 102)\n",
      "(89, 101)\n",
      "(91, 101)\n",
      "(91, 100)\n",
      "(91, 102)\n",
      "(90, 101)\n",
      "(92, 101)\n",
      "(89, 100)\n",
      "(91, 100)\n",
      "(92, 100)\n",
      "(92, 99)\n",
      "(92, 101)\n",
      "(92, 100)\n",
      "(92, 102)\n",
      "(91, 101)\n",
      "(93, 101)\n",
      "(91, 100)\n",
      "(93, 100)\n",
      "(90, 99)\n",
      "(92, 99)\n",
      "(89, 98)\n",
      "(91, 98)\n",
      "(91, 97)\n",
      "(91, 99)\n",
      "(90, 98)\n",
      "(92, 98)\n",
      "(89, 97)\n",
      "(91, 97)\n",
      "(91, 96)\n",
      "(91, 98)\n",
      "(90, 97)\n",
      "(92, 97)\n",
      "(88, 96)\n",
      "(90, 96)\n",
      "(91, 96)\n",
      "(92, 96)\n",
      "(92, 95)\n",
      "(92, 97)\n",
      "(92, 96)\n",
      "(92, 98)\n",
      "(91, 97)\n",
      "(93, 97)\n",
      "(91, 96)\n"
     ]
    },
    {
     "name": "stdout",
     "output_type": "stream",
     "text": [
      "(93, 96)\n",
      "(93, 95)\n",
      "(93, 97)\n",
      "(92, 96)\n",
      "(94, 96)\n",
      "(90, 95)\n",
      "(92, 95)\n",
      "(92, 94)\n",
      "(92, 96)\n",
      "(91, 95)\n",
      "(93, 95)\n",
      "(93, 94)\n",
      "(93, 96)\n",
      "(92, 95)\n",
      "(94, 95)\n",
      "(90, 94)\n",
      "(92, 94)\n",
      "(93, 94)\n",
      "(94, 94)\n",
      "(95, 94)\n",
      "(96, 94)\n",
      "(97, 94)\n",
      "(98, 94)\n",
      "(96, 93)\n",
      "(96, 92)\n",
      "(96, 94)\n",
      "(95, 93)\n",
      "(95, 92)\n",
      "(95, 94)\n",
      "(94, 93)\n",
      "(96, 93)\n",
      "(97, 93)\n",
      "(98, 93)\n",
      "(99, 93)\n",
      "(98, 95)\n",
      "(97, 94)\n",
      "(99, 94)\n",
      "(98, 96)\n",
      "(97, 95)\n",
      "(99, 95)\n",
      "(98, 97)\n",
      "(97, 96)\n",
      "(99, 96)\n",
      "(98, 98)\n",
      "(97, 97)\n",
      "(97, 96)\n",
      "(97, 98)\n",
      "(96, 97)\n",
      "(96, 96)\n",
      "(96, 95)\n",
      "(96, 97)\n",
      "(95, 96)\n",
      "(97, 96)\n",
      "(96, 98)\n",
      "(95, 97)\n",
      "(97, 97)\n",
      "(98, 97)\n",
      "(99, 97)\n",
      "(98, 99)\n",
      "(98, 98)\n",
      "(98, 100)\n",
      "(97, 99)\n",
      "(97, 98)\n",
      "(97, 100)\n",
      "(97, 99)\n",
      "(97, 101)\n",
      "(97, 100)\n",
      "(97, 102)\n",
      "(97, 101)\n",
      "(97, 103)\n",
      "(96, 102)\n",
      "(96, 101)\n",
      "(96, 103)\n",
      "(95, 102)\n",
      "(95, 101)\n",
      "(95, 100)\n",
      "(95, 102)\n",
      "(94, 101)\n",
      "(96, 101)\n",
      "(96, 100)\n",
      "(96, 99)\n",
      "(96, 101)\n",
      "(95, 100)\n",
      "(95, 99)\n",
      "(95, 101)\n",
      "(94, 100)\n",
      "(94, 99)\n",
      "(94, 101)\n",
      "(93, 100)\n",
      "(95, 100)\n",
      "(96, 100)\n",
      "(97, 100)\n",
      "(96, 102)\n",
      "(95, 101)\n",
      "(97, 101)\n",
      "(95, 103)\n",
      "(95, 102)\n",
      "(95, 104)\n",
      "(94, 103)\n",
      "(94, 102)\n",
      "(94, 101)\n",
      "(94, 103)\n",
      "(93, 102)\n",
      "(93, 101)\n",
      "(93, 103)\n",
      "(92, 102)\n",
      "(92, 101)\n",
      "(92, 103)\n",
      "(92, 102)\n",
      "(92, 104)\n",
      "(92, 103)\n",
      "(92, 105)\n",
      "(91, 104)\n",
      "(91, 103)\n",
      "(91, 105)\n",
      "(91, 104)\n",
      "(91, 106)\n",
      "(90, 105)\n",
      "(90, 104)\n",
      "(90, 106)\n",
      "(89, 105)\n",
      "(91, 105)\n",
      "(92, 105)\n",
      "(90, 104)\n",
      "(90, 103)\n",
      "(90, 105)\n",
      "(89, 104)\n",
      "(89, 103)\n",
      "(89, 105)\n",
      "(89, 104)\n",
      "(89, 106)\n",
      "(88, 105)\n",
      "(90, 105)\n",
      "(88, 104)\n",
      "(88, 103)\n",
      "(88, 102)\n",
      "(88, 104)\n",
      "(87, 103)\n",
      "(89, 103)\n",
      "(88, 105)\n",
      "(87, 104)\n",
      "(87, 103)\n",
      "(87, 102)\n",
      "(87, 104)\n",
      "(86, 103)\n",
      "(88, 103)\n",
      "(87, 105)\n",
      "(87, 104)\n",
      "(87, 106)\n",
      "(86, 105)\n",
      "(88, 105)\n",
      "(88, 104)\n",
      "(88, 106)\n",
      "(87, 105)\n",
      "(89, 105)\n",
      "(86, 104)\n",
      "(86, 103)\n",
      "(86, 102)\n",
      "(86, 101)\n",
      "(86, 100)\n",
      "(86, 99)\n",
      "(86, 98)\n",
      "(86, 100)\n",
      "(85, 99)\n",
      "(87, 99)\n",
      "(86, 101)\n",
      "(85, 100)\n",
      "(87, 100)\n",
      "(87, 99)\n",
      "(87, 98)\n",
      "(87, 97)\n",
      "(87, 99)\n",
      "(86, 98)\n",
      "(86, 97)\n",
      "(86, 99)\n",
      "(85, 98)\n",
      "(85, 97)\n",
      "(85, 99)\n",
      "(84, 98)\n",
      "(86, 98)\n",
      "(87, 98)\n",
      "(88, 98)\n",
      "(87, 100)\n",
      "(86, 99)\n",
      "(88, 99)\n",
      "(87, 101)\n",
      "(86, 100)\n",
      "(88, 100)\n",
      "(88, 99)\n",
      "(88, 101)\n",
      "(88, 100)\n",
      "(88, 102)\n",
      "(87, 101)\n",
      "(89, 101)\n",
      "(87, 100)\n",
      "(89, 100)\n",
      "(86, 102)\n",
      "(85, 101)\n",
      "(85, 100)\n",
      "(85, 102)\n",
      "(84, 101)\n",
      "(86, 101)\n",
      "(87, 101)\n",
      "(87, 100)\n",
      "(87, 102)\n",
      "(87, 101)\n",
      "(87, 103)\n",
      "(86, 102)\n",
      "(88, 102)\n",
      "(88, 101)\n",
      "(88, 103)\n",
      "(87, 102)\n",
      "(89, 102)\n",
      "(89, 101)\n",
      "(89, 100)\n",
      "(89, 99)\n",
      "(89, 98)\n",
      "(89, 97)\n",
      "(89, 99)\n",
      "(88, 98)\n",
      "(88, 97)\n",
      "(88, 99)\n",
      "(88, 98)\n",
      "(88, 100)\n",
      "(87, 99)\n",
      "(89, 99)\n",
      "(87, 98)\n",
      "(89, 98)\n",
      "(90, 98)\n",
      "(89, 100)\n",
      "(88, 99)\n",
      "(90, 99)\n",
      "(89, 101)\n",
      "(88, 100)\n",
      "(90, 100)\n",
      "(89, 102)\n",
      "(88, 101)\n",
      "(90, 101)\n",
      "(89, 103)\n",
      "(89, 102)\n",
      "(89, 104)\n",
      "(88, 103)\n",
      "(90, 103)\n",
      "(88, 102)\n",
      "(90, 102)\n",
      "(86, 101)\n",
      "(88, 101)\n",
      "(86, 103)\n",
      "(85, 102)\n",
      "(87, 102)\n",
      "(86, 104)\n",
      "(85, 103)\n",
      "(87, 103)\n",
      "(86, 105)\n",
      "(86, 104)\n",
      "(86, 106)\n",
      "(86, 105)\n",
      "(86, 107)\n",
      "(85, 106)\n",
      "(85, 105)\n",
      "(85, 104)\n",
      "(85, 106)\n",
      "(84, 105)\n",
      "(84, 104)\n",
      "(84, 103)\n",
      "(84, 102)\n",
      "(84, 101)\n",
      "(84, 103)\n",
      "(83, 102)\n",
      "(83, 101)\n",
      "(83, 100)\n",
      "(83, 99)\n",
      "(83, 98)\n",
      "(83, 97)\n",
      "(83, 96)\n",
      "(83, 98)\n",
      "(82, 97)\n",
      "(84, 97)\n",
      "(84, 96)\n",
      "(84, 95)\n",
      "(84, 94)\n",
      "(84, 93)\n",
      "(84, 95)\n",
      "(83, 94)\n",
      "(83, 93)\n",
      "(83, 92)\n",
      "(83, 94)\n",
      "(82, 93)\n",
      "(82, 92)\n",
      "(82, 91)\n",
      "(82, 90)\n",
      "(82, 92)\n",
      "(81, 91)\n",
      "(83, 91)\n",
      "(82, 93)\n",
      "(81, 92)\n",
      "(83, 92)\n",
      "(83, 91)\n",
      "(83, 93)\n",
      "(82, 92)\n",
      "(84, 92)\n",
      "(82, 94)\n",
      "(82, 93)\n",
      "(82, 95)\n",
      "(81, 94)\n",
      "(83, 94)\n",
      "(81, 93)\n",
      "(83, 93)\n",
      "(84, 93)\n",
      "(83, 95)\n",
      "(82, 94)\n",
      "(84, 94)\n",
      "(85, 94)\n",
      "(85, 93)\n",
      "(85, 95)\n",
      "(84, 94)\n",
      "(86, 94)\n",
      "(84, 96)\n",
      "(83, 95)\n",
      "(83, 94)\n",
      "(83, 96)\n",
      "(83, 95)\n",
      "(83, 97)\n",
      "(82, 96)\n",
      "(82, 95)\n",
      "(82, 94)\n",
      "(82, 96)\n",
      "(81, 95)\n",
      "(83, 95)\n",
      "(82, 97)\n",
      "(81, 96)\n",
      "(81, 95)\n",
      "(81, 97)\n",
      "(80, 96)\n",
      "(82, 96)\n",
      "(83, 96)\n",
      "(84, 96)\n",
      "(82, 95)\n",
      "(84, 95)\n",
      "(85, 95)\n",
      "(84, 97)\n",
      "(83, 96)\n",
      "(85, 96)\n",
      "(84, 98)\n",
      "(83, 97)\n",
      "(85, 97)\n",
      "(83, 99)\n",
      "(82, 98)\n",
      "(82, 97)\n",
      "(82, 99)\n",
      "(81, 98)\n",
      "(81, 97)\n",
      "(81, 96)\n",
      "(81, 98)\n",
      "(80, 97)\n",
      "(80, 96)\n",
      "(80, 98)\n",
      "(79, 97)\n",
      "(81, 97)\n",
      "(82, 97)\n",
      "(82, 96)\n",
      "(82, 98)\n",
      "(81, 97)\n",
      "(83, 97)\n",
      "(81, 99)\n",
      "(80, 98)\n",
      "(82, 98)\n",
      "(83, 98)\n",
      "(84, 98)\n",
      "(84, 97)\n",
      "(84, 99)\n",
      "(84, 98)\n",
      "(84, 100)\n",
      "(84, 99)\n",
      "(84, 101)\n",
      "(84, 100)\n",
      "(84, 102)\n",
      "(83, 101)\n",
      "(85, 101)\n",
      "(83, 100)\n",
      "(85, 100)\n",
      "(85, 99)\n",
      "(85, 98)\n",
      "(85, 100)\n",
      "(84, 99)\n",
      "(86, 99)\n",
      "(85, 101)\n",
      "(84, 100)\n",
      "(86, 100)\n",
      "(83, 99)\n",
      "(85, 99)\n",
      "(83, 98)\n",
      "(85, 98)\n",
      "(83, 100)\n",
      "(82, 99)\n",
      "(82, 98)\n",
      "(82, 100)\n",
      "(81, 99)\n",
      "(83, 99)\n",
      "(84, 99)\n",
      "(83, 101)\n",
      "(82, 100)\n",
      "(82, 99)\n",
      "(82, 101)\n",
      "(82, 100)\n",
      "(82, 102)\n",
      "(81, 101)\n",
      "(81, 100)\n",
      "(81, 102)\n",
      "(80, 101)\n",
      "(82, 101)\n",
      "(83, 101)\n",
      "(81, 100)\n",
      "(83, 100)\n",
      "(84, 100)\n",
      "(83, 102)\n",
      "(82, 101)\n",
      "(84, 101)\n",
      "(83, 103)\n",
      "(82, 102)\n",
      "(84, 102)\n",
      "(85, 102)\n",
      "(85, 101)\n",
      "(85, 103)\n",
      "(85, 102)\n",
      "(85, 104)\n",
      "(84, 103)\n",
      "(86, 103)\n",
      "(84, 102)\n",
      "(86, 102)\n",
      "(84, 104)\n",
      "(83, 103)\n",
      "(83, 102)\n",
      "(83, 104)\n",
      "(82, 103)\n",
      "(82, 102)\n",
      "(82, 104)\n",
      "(81, 103)\n",
      "(81, 102)\n",
      "(81, 101)\n",
      "(81, 103)\n",
      "(80, 102)\n",
      "(80, 101)\n",
      "(80, 103)\n",
      "(79, 102)\n",
      "(81, 102)\n",
      "(82, 102)\n",
      "(82, 101)\n",
      "(82, 103)\n",
      "(81, 102)\n",
      "(83, 102)\n",
      "(81, 104)\n",
      "(80, 103)\n",
      "(82, 103)\n",
      "(83, 103)\n",
      "(84, 103)\n",
      "(85, 103)\n",
      "(84, 105)\n",
      "(83, 104)\n",
      "(83, 103)\n",
      "(83, 105)\n",
      "(83, 104)\n",
      "(83, 106)\n",
      "(83, 105)\n",
      "(83, 107)\n",
      "(82, 106)\n",
      "(82, 105)\n",
      "(82, 104)\n",
      "(82, 103)\n",
      "(82, 105)\n",
      "(81, 104)\n",
      "(83, 104)\n",
      "(82, 106)\n",
      "(81, 105)\n",
      "(83, 105)\n",
      "(82, 107)\n",
      "(82, 106)\n",
      "(82, 108)\n",
      "(82, 107)\n",
      "(82, 109)\n",
      "(81, 108)\n",
      "(83, 108)\n",
      "(81, 107)\n",
      "(83, 107)\n",
      "(83, 106)\n",
      "(83, 108)\n",
      "(82, 107)\n",
      "(84, 107)\n",
      "(84, 106)\n",
      "(84, 108)\n",
      "(84, 107)\n",
      "(84, 109)\n",
      "(83, 108)\n",
      "(85, 108)\n",
      "(83, 107)\n",
      "(85, 107)\n",
      "(81, 106)\n",
      "(83, 106)\n",
      "(84, 106)\n",
      "(82, 105)\n",
      "(84, 105)\n",
      "(82, 104)\n",
      "(84, 104)\n",
      "(85, 104)\n",
      "(84, 106)\n",
      "(84, 105)\n",
      "(84, 107)\n",
      "(83, 106)\n",
      "(85, 106)\n",
      "(83, 105)\n",
      "(85, 105)\n",
      "(86, 105)\n",
      "(85, 107)\n",
      "(84, 106)\n",
      "(86, 106)\n",
      "(87, 106)\n",
      "(87, 105)\n",
      "(87, 107)\n",
      "(87, 106)\n",
      "(87, 108)\n",
      "(86, 107)\n",
      "(88, 107)\n",
      "(88, 106)\n",
      "(88, 105)\n",
      "(88, 107)\n",
      "(87, 106)\n",
      "(89, 106)\n",
      "(88, 108)\n",
      "(87, 107)\n",
      "(89, 107)\n",
      "(86, 106)\n",
      "(88, 106)\n",
      "(85, 105)\n",
      "(87, 105)\n",
      "(85, 104)\n",
      "(85, 103)\n",
      "(85, 105)\n",
      "(84, 104)\n",
      "(86, 104)\n",
      "(87, 104)\n",
      "(88, 104)\n",
      "(89, 104)\n",
      "(90, 104)\n",
      "(91, 104)\n",
      "(92, 104)\n",
      "(93, 104)\n",
      "(93, 103)\n",
      "(93, 105)\n",
      "(92, 104)\n",
      "(94, 104)\n",
      "(91, 103)\n",
      "(91, 102)\n",
      "(91, 104)\n",
      "(90, 103)\n",
      "(90, 102)\n",
      "(90, 104)\n",
      "(89, 103)\n",
      "(91, 103)\n",
      "(92, 103)\n",
      "(93, 103)\n",
      "(93, 102)\n",
      "(93, 104)\n",
      "(92, 103)\n",
      "(94, 103)\n",
      "(91, 102)\n",
      "(91, 101)\n",
      "(91, 103)\n",
      "(90, 102)\n",
      "(90, 101)\n",
      "(90, 103)\n",
      "(89, 102)\n",
      "(91, 102)\n",
      "(92, 102)\n",
      "(93, 102)\n",
      "(94, 102)\n",
      "(95, 102)\n",
      "(94, 104)\n",
      "(93, 103)\n",
      "(95, 103)\n",
      "(96, 103)\n",
      "(94, 102)\n",
      "(96, 102)\n",
      "(97, 102)\n",
      "(98, 102)\n",
      "(98, 101)\n",
      "(98, 103)\n",
      "(97, 102)\n",
      "(99, 102)\n",
      "(96, 101)\n",
      "(98, 101)\n",
      "(96, 100)\n",
      "(98, 100)\n",
      "(96, 99)\n",
      "(98, 99)\n",
      "(99, 99)\n",
      "(97, 98)\n",
      "(99, 98)\n",
      "(100, 98)\n",
      "(99, 100)\n",
      "(99, 99)\n",
      "(99, 101)\n",
      "(98, 100)\n",
      "(98, 99)\n",
      "(98, 101)\n",
      "(98, 100)\n",
      "(98, 102)\n",
      "(97, 101)\n",
      "(99, 101)\n",
      "(99, 100)\n",
      "(99, 102)\n",
      "(98, 101)\n",
      "(100, 101)\n",
      "(97, 100)\n",
      "(99, 100)\n",
      "(100, 100)\n",
      "(100, 99)\n",
      "(100, 101)\n",
      "(100, 100)\n",
      "(100, 102)\n",
      "(99, 101)\n",
      "(101, 101)\n",
      "(101, 100)\n",
      "(101, 102)\n",
      "(100, 101)\n",
      "(102, 101)\n",
      "(99, 100)\n",
      "(101, 100)\n",
      "(98, 99)\n",
      "(100, 99)\n",
      "(101, 99)\n",
      "(101, 98)\n",
      "(101, 97)\n",
      "(101, 99)\n",
      "(100, 98)\n",
      "(102, 98)\n",
      "(101, 100)\n",
      "(101, 99)\n",
      "(101, 101)\n",
      "(100, 100)\n",
      "(102, 100)\n",
      "(102, 99)\n",
      "(102, 98)\n",
      "(102, 97)\n",
      "(102, 99)\n",
      "(101, 98)\n",
      "(103, 98)\n",
      "(103, 97)\n",
      "(103, 96)\n",
      "(103, 98)\n",
      "(102, 97)\n",
      "(104, 97)\n",
      "(103, 99)\n",
      "(103, 98)\n",
      "(103, 100)\n",
      "(102, 99)\n",
      "(104, 99)\n",
      "(102, 98)\n",
      "(104, 98)\n",
      "(102, 100)\n",
      "(101, 99)\n",
      "(103, 99)\n",
      "(102, 101)\n",
      "(101, 100)\n",
      "(103, 100)\n",
      "(100, 99)\n",
      "(102, 99)\n",
      "(99, 98)\n",
      "(101, 98)\n",
      "(99, 97)\n",
      "(101, 97)\n",
      "(101, 96)\n",
      "(101, 98)\n",
      "(100, 97)\n",
      "(102, 97)\n",
      "(102, 96)\n",
      "(102, 95)\n",
      "(102, 97)\n",
      "(101, 96)\n",
      "(103, 96)\n",
      "(103, 95)\n",
      "(103, 97)\n",
      "(102, 96)\n",
      "(104, 96)\n",
      "(102, 98)\n",
      "(101, 97)\n",
      "(103, 97)\n",
      "(98, 96)\n",
      "(100, 96)\n",
      "(100, 95)\n",
      "(100, 97)\n",
      "(99, 96)\n",
      "(101, 96)\n",
      "(101, 95)\n",
      "(101, 94)\n",
      "(101, 96)\n",
      "(100, 95)\n",
      "(102, 95)\n",
      "(102, 94)\n",
      "(102, 93)\n",
      "(102, 92)\n",
      "(102, 94)\n",
      "(101, 93)\n",
      "(101, 92)\n",
      "(101, 94)\n",
      "(100, 93)\n",
      "(102, 93)\n",
      "(103, 93)\n",
      "(103, 92)\n",
      "(103, 94)\n",
      "(103, 93)\n",
      "(103, 95)\n",
      "(102, 94)\n",
      "(104, 94)\n",
      "(104, 93)\n",
      "(104, 95)\n",
      "(103, 94)\n",
      "(105, 94)\n",
      "(105, 93)\n",
      "(105, 95)\n",
      "(105, 94)\n",
      "(105, 96)\n",
      "(105, 95)\n",
      "(105, 97)\n",
      "(105, 96)\n",
      "(105, 98)\n",
      "(105, 97)\n",
      "(105, 99)\n",
      "(105, 98)\n",
      "(105, 100)\n",
      "(104, 99)\n",
      "(104, 98)\n",
      "(104, 100)\n",
      "(104, 99)\n",
      "(104, 101)\n",
      "(103, 100)\n",
      "(103, 99)\n",
      "(103, 101)\n",
      "(102, 100)\n",
      "(104, 100)\n",
      "(105, 100)\n",
      "(103, 99)\n",
      "(105, 99)\n",
      "(106, 99)\n",
      "(106, 98)\n",
      "(106, 97)\n",
      "(106, 99)\n",
      "(105, 98)\n",
      "(107, 98)\n",
      "(106, 100)\n",
      "(105, 99)\n",
      "(107, 99)\n",
      "(104, 98)\n",
      "(104, 97)\n",
      "(104, 99)\n",
      "(103, 98)\n",
      "(105, 98)\n",
      "(106, 98)\n",
      "(104, 97)\n",
      "(104, 96)\n",
      "(104, 98)\n",
      "(103, 97)\n",
      "(105, 97)\n",
      "(106, 97)\n",
      "(104, 96)\n",
      "(106, 96)\n",
      "(104, 95)\n",
      "(106, 95)\n",
      "(106, 94)\n",
      "(106, 96)\n",
      "(105, 95)\n",
      "(107, 95)\n",
      "(104, 94)\n",
      "(106, 94)\n",
      "(106, 93)\n",
      "(106, 92)\n",
      "(106, 94)\n",
      "(105, 93)\n",
      "(105, 92)\n",
      "(105, 91)\n",
      "(105, 90)\n",
      "(105, 92)\n",
      "(104, 91)\n",
      "(106, 91)\n",
      "(105, 93)\n",
      "(104, 92)\n",
      "(106, 92)\n",
      "(105, 94)\n",
      "(104, 93)\n",
      "(106, 93)\n",
      "(107, 93)\n",
      "(106, 95)\n",
      "(105, 94)\n",
      "(107, 94)\n",
      "(102, 93)\n",
      "(104, 93)\n",
      "(104, 92)\n",
      "(104, 94)\n",
      "(103, 93)\n",
      "(105, 93)\n",
      "(102, 95)\n",
      "(101, 94)\n",
      "(103, 94)\n",
      "(102, 96)\n",
      "(101, 95)\n",
      "(103, 95)\n",
      "(103, 94)\n",
      "(103, 96)\n",
      "(102, 95)\n",
      "(104, 95)\n",
      "(104, 94)\n",
      "(104, 96)\n",
      "(104, 95)\n",
      "(104, 97)\n",
      "(103, 96)\n",
      "(105, 96)\n",
      "(103, 95)\n",
      "(105, 95)\n",
      "(101, 97)\n",
      "(100, 96)\n",
      "(102, 96)\n",
      "(98, 95)\n",
      "(100, 95)\n",
      "(98, 94)\n",
      "(100, 94)\n",
      "(98, 93)\n",
      "(100, 93)\n",
      "(98, 92)\n",
      "(100, 92)\n",
      "(101, 92)\n",
      "(101, 91)\n",
      "(101, 93)\n",
      "(100, 92)\n",
      "(102, 92)\n",
      "(99, 91)\n",
      "(101, 91)\n",
      "(99, 90)\n",
      "(101, 90)\n",
      "(102, 90)\n",
      "(103, 90)\n",
      "(103, 89)\n",
      "(103, 88)\n",
      "(103, 90)\n",
      "(102, 89)\n",
      "(102, 88)\n",
      "(102, 87)\n",
      "(102, 86)\n",
      "(102, 88)\n",
      "(101, 87)\n",
      "(103, 87)\n",
      "(102, 89)\n",
      "(101, 88)\n",
      "(103, 88)\n",
      "(103, 87)\n",
      "(103, 86)\n",
      "(103, 85)\n",
      "(103, 87)\n",
      "(102, 86)\n",
      "(104, 86)\n",
      "(104, 85)\n",
      "(104, 87)\n",
      "(104, 86)\n",
      "(104, 88)\n",
      "(104, 87)\n",
      "(104, 89)\n",
      "(104, 88)\n",
      "(104, 90)\n",
      "(103, 89)\n",
      "(105, 89)\n",
      "(105, 88)\n",
      "(105, 90)\n",
      "(104, 89)\n",
      "(106, 89)\n",
      "(106, 88)\n",
      "(106, 90)\n",
      "(105, 89)\n",
      "(107, 89)\n",
      "(107, 88)\n",
      "(107, 90)\n",
      "(107, 89)\n",
      "(107, 91)\n",
      "(106, 90)\n",
      "(108, 90)\n",
      "(108, 89)\n",
      "(108, 91)\n",
      "(107, 90)\n",
      "(109, 90)\n",
      "(106, 89)\n",
      "(108, 89)\n",
      "(103, 88)\n",
      "(105, 88)\n",
      "(103, 87)\n",
      "(105, 87)\n",
      "(105, 86)\n",
      "(105, 88)\n",
      "(105, 87)\n",
      "(105, 89)\n",
      "(104, 88)\n",
      "(106, 88)\n",
      "(104, 87)\n",
      "(106, 87)\n",
      "(103, 86)\n",
      "(105, 86)\n",
      "(105, 85)\n",
      "(105, 84)\n",
      "(105, 83)\n",
      "(105, 85)\n",
      "(104, 84)\n",
      "(104, 83)\n",
      "(104, 85)\n",
      "(103, 84)\n",
      "(103, 83)\n",
      "(103, 85)\n",
      "(103, 84)\n",
      "(103, 86)\n",
      "(102, 85)\n",
      "(102, 84)\n",
      "(102, 83)\n",
      "(102, 85)\n",
      "(101, 84)\n",
      "(101, 83)\n",
      "(101, 85)\n",
      "(100, 84)\n",
      "(102, 84)\n",
      "(103, 84)\n",
      "(102, 86)\n",
      "(102, 85)\n",
      "(102, 87)\n",
      "(101, 86)\n",
      "(103, 86)\n",
      "(101, 85)\n",
      "(101, 84)\n",
      "(101, 86)\n",
      "(100, 85)\n",
      "(102, 85)\n",
      "(103, 85)\n",
      "(104, 85)\n",
      "(102, 84)\n",
      "(104, 84)\n",
      "(105, 84)\n",
      "(106, 84)\n",
      "(105, 86)\n",
      "(104, 85)\n",
      "(104, 84)\n",
      "(104, 86)\n",
      "(103, 85)\n",
      "(105, 85)\n",
      "(106, 85)\n",
      "(106, 84)\n",
      "(106, 86)\n",
      "(106, 85)\n",
      "(106, 87)\n",
      "(106, 86)\n",
      "(106, 88)\n",
      "(106, 87)\n",
      "(106, 89)\n",
      "(105, 88)\n",
      "(107, 88)\n",
      "(107, 87)\n",
      "(107, 86)\n",
      "(107, 88)\n",
      "(106, 87)\n",
      "(108, 87)\n",
      "(107, 89)\n",
      "(106, 88)\n",
      "(108, 88)\n",
      "(108, 87)\n",
      "(108, 86)\n",
      "(108, 88)\n",
      "(107, 87)\n",
      "(109, 87)\n",
      "(108, 89)\n",
      "(108, 88)\n",
      "(108, 90)\n",
      "(107, 89)\n",
      "(109, 89)\n",
      "(107, 88)\n",
      "(109, 88)\n",
      "(109, 87)\n",
      "(109, 89)\n",
      "(109, 88)\n",
      "(109, 90)\n",
      "(109, 89)\n",
      "(109, 91)\n",
      "(109, 90)\n",
      "(109, 92)\n",
      "(108, 91)\n",
      "(108, 90)\n",
      "(108, 92)\n",
      "(108, 91)\n",
      "(108, 93)\n",
      "(108, 92)\n",
      "(108, 94)\n",
      "(108, 93)\n",
      "(108, 95)\n",
      "(108, 94)\n",
      "(108, 96)\n",
      "(107, 95)\n",
      "(109, 95)\n",
      "(109, 94)\n",
      "(109, 93)\n",
      "(109, 95)\n",
      "(108, 94)\n",
      "(110, 94)\n",
      "(109, 96)\n",
      "(108, 95)\n",
      "(110, 95)\n",
      "(107, 94)\n",
      "(109, 94)\n",
      "(107, 93)\n",
      "(109, 93)\n",
      "(107, 92)\n",
      "(109, 92)\n",
      "(109, 91)\n",
      "(109, 93)\n",
      "(109, 92)\n",
      "(109, 94)\n",
      "(108, 93)\n",
      "(110, 93)\n",
      "(110, 92)\n",
      "(110, 94)\n",
      "(110, 93)\n",
      "(110, 95)\n",
      "(110, 94)\n",
      "(110, 96)\n",
      "(110, 95)\n",
      "(110, 97)\n",
      "(109, 96)\n",
      "(109, 95)\n",
      "(109, 97)\n",
      "(108, 96)\n",
      "(110, 96)\n",
      "(111, 96)\n",
      "(109, 95)\n",
      "(111, 95)\n",
      "(109, 94)\n",
      "(111, 94)\n",
      "(111, 93)\n",
      "(111, 92)\n",
      "(111, 94)\n",
      "(110, 93)\n",
      "(112, 93)\n",
      "(111, 95)\n",
      "(110, 94)\n",
      "(112, 94)\n",
      "(112, 93)\n",
      "(112, 92)\n",
      "(112, 91)\n",
      "(112, 90)\n",
      "(112, 89)\n",
      "(112, 88)\n",
      "(112, 90)\n",
      "(111, 89)\n",
      "(113, 89)\n",
      "(113, 88)\n",
      "(113, 90)\n",
      "(113, 89)\n",
      "(113, 91)\n",
      "(112, 90)\n",
      "(114, 90)\n",
      "(114, 89)\n",
      "(114, 88)\n",
      "(114, 90)\n",
      "(113, 89)\n",
      "(115, 89)\n",
      "(114, 91)\n",
      "(113, 90)\n",
      "(115, 90)\n",
      "(115, 89)\n",
      "(115, 91)\n",
      "(115, 90)\n",
      "(115, 92)\n",
      "(115, 91)\n",
      "(115, 93)\n",
      "(115, 92)\n",
      "(115, 94)\n",
      "(114, 93)\n",
      "(116, 93)\n",
      "(116, 92)\n",
      "(116, 94)\n",
      "(116, 93)\n",
      "(116, 95)\n",
      "(115, 94)\n",
      "(117, 94)\n",
      "(117, 93)\n",
      "(117, 92)\n",
      "(117, 91)\n",
      "(117, 90)\n",
      "(117, 92)\n",
      "(116, 91)\n",
      "(118, 91)\n",
      "(117, 93)\n",
      "(116, 92)\n",
      "(116, 91)\n",
      "(116, 93)\n",
      "(115, 92)\n",
      "(117, 92)\n",
      "(118, 92)\n",
      "(117, 94)\n",
      "(116, 93)\n",
      "(118, 93)\n",
      "(117, 95)\n",
      "(116, 94)\n",
      "(118, 94)\n",
      "(115, 93)\n",
      "(117, 93)\n",
      "(114, 92)\n",
      "(116, 92)\n",
      "(114, 91)\n",
      "(114, 90)\n",
      "(114, 92)\n",
      "(114, 91)\n",
      "(114, 93)\n",
      "(113, 92)\n",
      "(115, 92)\n",
      "(113, 91)\n",
      "(113, 90)\n",
      "(113, 92)\n",
      "(113, 91)\n",
      "(113, 93)\n",
      "(112, 92)\n",
      "(114, 92)\n",
      "(112, 91)\n",
      "(114, 91)\n",
      "(115, 91)\n",
      "(116, 91)\n",
      "(114, 90)\n",
      "(116, 90)\n",
      "(116, 89)\n",
      "(116, 91)\n",
      "(116, 90)\n",
      "(116, 92)\n",
      "(115, 91)\n",
      "(117, 91)\n",
      "(115, 90)\n",
      "(117, 90)\n",
      "(117, 89)\n",
      "(117, 91)\n",
      "(116, 90)\n",
      "(118, 90)\n",
      "(112, 89)\n",
      "(114, 89)\n",
      "(112, 91)\n",
      "(111, 90)\n",
      "(113, 90)\n",
      "(112, 92)\n",
      "(111, 91)\n",
      "(111, 90)\n",
      "(111, 89)\n",
      "(111, 91)\n",
      "(110, 90)\n",
      "(110, 89)\n",
      "(110, 88)\n",
      "(110, 90)\n",
      "(109, 89)\n",
      "(111, 89)\n",
      "(110, 91)\n",
      "(110, 90)\n",
      "(110, 92)\n",
      "(109, 91)\n",
      "(111, 91)\n",
      "(109, 90)\n",
      "(111, 90)\n",
      "(112, 90)\n",
      "(111, 92)\n",
      "(111, 91)\n",
      "(111, 93)\n",
      "(110, 92)\n",
      "(110, 91)\n",
      "(110, 93)\n",
      "(109, 92)\n",
      "(111, 92)\n",
      "(112, 92)\n",
      "(110, 91)\n",
      "(112, 91)\n",
      "(113, 91)\n",
      "(112, 93)\n",
      "(111, 92)\n",
      "(113, 92)\n",
      "(112, 94)\n",
      "(111, 93)\n",
      "(113, 93)\n",
      "(112, 95)\n",
      "(111, 94)\n",
      "(113, 94)\n",
      "(109, 93)\n",
      "(111, 93)\n",
      "(108, 92)\n",
      "(110, 92)\n",
      "(107, 91)\n",
      "(109, 91)\n",
      "(110, 91)\n",
      "(108, 90)\n",
      "(110, 90)\n",
      "(108, 89)\n",
      "(110, 89)\n",
      "(108, 88)\n",
      "(110, 88)\n",
      "(110, 87)\n",
      "(110, 89)\n",
      "(109, 88)\n",
      "(111, 88)\n",
      "(105, 87)\n",
      "(107, 87)\n",
      "(105, 86)\n",
      "(107, 86)\n",
      "(107, 85)\n",
      "(107, 87)\n",
      "(106, 86)\n",
      "(108, 86)\n",
      "(108, 85)\n",
      "(108, 87)\n",
      "(107, 86)\n",
      "(109, 86)\n",
      "(105, 85)\n",
      "(107, 85)\n",
      "(105, 87)\n",
      "(104, 86)\n",
      "(106, 86)\n",
      "(103, 88)\n",
      "(102, 87)\n",
      "(104, 87)\n",
      "(103, 89)\n",
      "(102, 88)\n",
      "(104, 88)\n",
      "(102, 90)\n",
      "(101, 89)\n",
      "(101, 88)\n",
      "(101, 90)\n",
      "(100, 89)\n",
      "(102, 89)\n",
      "(103, 89)\n",
      "(104, 89)\n",
      "(103, 91)\n",
      "(103, 90)\n",
      "(103, 92)\n",
      "(102, 91)\n",
      "(104, 91)\n",
      "(102, 90)\n",
      "(104, 90)\n",
      "(102, 92)\n",
      "(101, 91)\n",
      "(103, 91)\n",
      "(102, 93)\n",
      "(101, 92)\n",
      "(103, 92)\n",
      "(104, 92)\n",
      "(105, 92)\n",
      "(103, 91)\n",
      "(105, 91)\n",
      "(103, 90)\n",
      "(105, 90)\n",
      "(106, 90)\n",
      "(107, 90)\n",
      "(106, 92)\n",
      "(106, 91)\n",
      "(106, 93)\n",
      "(105, 92)\n",
      "(107, 92)\n",
      "(105, 91)\n",
      "(107, 91)\n",
      "(108, 91)\n",
      "(107, 93)\n",
      "(106, 92)\n",
      "(108, 92)\n",
      "(107, 94)\n",
      "(106, 93)\n",
      "(108, 93)\n",
      "(107, 95)\n",
      "(106, 94)\n",
      "(108, 94)\n",
      "(107, 96)\n",
      "(106, 95)\n",
      "(108, 95)\n",
      "(107, 97)\n",
      "(106, 96)\n",
      "(108, 96)\n",
      "(108, 95)\n",
      "(108, 97)\n",
      "(107, 96)\n",
      "(109, 96)\n",
      "(106, 98)\n",
      "(105, 97)\n",
      "(107, 97)\n",
      "(108, 97)\n",
      "(109, 97)\n",
      "(110, 97)\n",
      "(111, 97)\n",
      "(112, 97)\n",
      "(110, 96)\n",
      "(112, 96)\n",
      "(113, 96)\n",
      "(114, 96)\n",
      "(112, 95)\n",
      "(114, 95)\n",
      "(112, 94)\n",
      "(114, 94)\n",
      "(115, 94)\n",
      "(116, 94)\n",
      "(115, 96)\n",
      "(114, 95)\n",
      "(116, 95)\n",
      "(116, 94)\n",
      "(116, 96)\n",
      "(115, 95)\n",
      "(117, 95)\n",
      "(117, 94)\n",
      "(117, 96)\n",
      "(116, 95)\n",
      "(118, 95)\n",
      "(115, 97)\n",
      "(114, 96)\n",
      "(114, 95)\n",
      "(114, 94)\n",
      "(114, 96)\n",
      "(113, 95)\n",
      "(115, 95)\n",
      "(114, 97)\n",
      "(114, 96)\n",
      "(114, 98)\n",
      "(113, 97)\n",
      "(113, 96)\n",
      "(113, 98)\n",
      "(112, 97)\n",
      "(114, 97)\n",
      "(115, 97)\n",
      "(113, 96)\n",
      "(115, 96)\n",
      "(116, 96)\n",
      "(116, 95)\n",
      "(116, 97)\n",
      "(116, 96)\n",
      "(116, 98)\n",
      "(115, 97)\n",
      "(117, 97)\n",
      "(117, 96)\n",
      "(117, 95)\n",
      "(117, 97)\n",
      "(116, 96)\n",
      "(118, 96)\n",
      "(117, 98)\n",
      "(116, 97)\n",
      "(118, 97)\n",
      "(118, 96)\n",
      "(118, 98)\n",
      "(117, 97)\n",
      "(119, 97)\n",
      "(115, 96)\n",
      "(117, 96)\n",
      "(115, 98)\n",
      "(114, 97)\n",
      "(116, 97)\n",
      "(115, 99)\n",
      "(114, 98)\n",
      "(114, 97)\n",
      "(114, 99)\n",
      "(113, 98)\n",
      "(115, 98)\n",
      "(116, 98)\n",
      "(117, 98)\n",
      "(116, 100)\n",
      "(115, 99)\n",
      "(117, 99)\n",
      "(117, 98)\n",
      "(117, 100)\n",
      "(117, 99)\n",
      "(117, 101)\n",
      "(116, 100)\n",
      "(118, 100)\n",
      "(118, 99)\n",
      "(118, 98)\n",
      "(118, 97)\n",
      "(118, 99)\n",
      "(117, 98)\n",
      "(117, 97)\n",
      "(117, 99)\n",
      "(116, 98)\n",
      "(118, 98)\n",
      "(119, 98)\n",
      "(119, 97)\n",
      "(119, 99)\n",
      "(119, 98)\n",
      "(119, 100)\n",
      "(119, 99)\n",
      "(119, 101)\n",
      "(119, 100)\n",
      "(119, 102)\n",
      "(118, 101)\n",
      "(120, 101)\n",
      "(118, 100)\n",
      "(120, 100)\n",
      "(118, 99)\n",
      "(120, 99)\n",
      "(118, 98)\n",
      "(120, 98)\n",
      "(118, 100)\n",
      "(117, 99)\n",
      "(119, 99)\n",
      "(118, 101)\n",
      "(118, 100)\n",
      "(118, 102)\n",
      "(118, 101)\n",
      "(118, 103)\n",
      "(117, 102)\n",
      "(117, 101)\n",
      "(117, 103)\n",
      "(116, 102)\n",
      "(118, 102)\n",
      "(119, 102)\n",
      "(117, 101)\n",
      "(119, 101)\n",
      "(117, 100)\n",
      "(119, 100)\n",
      "(116, 99)\n",
      "(118, 99)\n",
      "(116, 101)\n",
      "(115, 100)\n",
      "(117, 100)\n",
      "(115, 102)\n",
      "(114, 101)\n",
      "(114, 100)\n",
      "(114, 102)\n",
      "(113, 101)\n",
      "(115, 101)\n",
      "(116, 101)\n",
      "(117, 101)\n",
      "(117, 100)\n",
      "(117, 102)\n",
      "(116, 101)\n",
      "(118, 101)\n",
      "(116, 103)\n",
      "(115, 102)\n",
      "(117, 102)\n",
      "(116, 104)\n",
      "(115, 103)\n",
      "(117, 103)\n",
      "(117, 102)\n",
      "(117, 104)\n",
      "(116, 103)\n",
      "(118, 103)\n",
      "(116, 105)\n",
      "(115, 104)\n",
      "(117, 104)\n",
      "(117, 103)\n",
      "(117, 105)\n",
      "(117, 104)\n",
      "(117, 106)\n",
      "(117, 105)\n",
      "(117, 107)\n",
      "(117, 106)\n",
      "(117, 108)\n",
      "(117, 107)\n",
      "(117, 109)\n",
      "(117, 108)\n",
      "(117, 110)\n",
      "(116, 109)\n",
      "(118, 109)\n",
      "(116, 108)\n",
      "(118, 108)\n",
      "(116, 107)\n",
      "(116, 106)\n",
      "(116, 108)\n",
      "(116, 107)\n",
      "(116, 109)\n",
      "(115, 108)\n",
      "(117, 108)\n",
      "(115, 107)\n",
      "(117, 107)\n",
      "(118, 107)\n",
      "(116, 106)\n",
      "(118, 106)\n",
      "(116, 105)\n",
      "(118, 105)\n",
      "(116, 104)\n",
      "(118, 104)\n",
      "(116, 106)\n",
      "(115, 105)\n",
      "(117, 105)\n",
      "(116, 107)\n",
      "(115, 106)\n",
      "(117, 106)\n",
      "(114, 105)\n",
      "(116, 105)\n",
      "(112, 104)\n",
      "(114, 104)\n",
      "(114, 103)\n",
      "(114, 105)\n",
      "(113, 104)\n",
      "(115, 104)\n",
      "(112, 103)\n",
      "(114, 103)\n",
      "(111, 102)\n",
      "(113, 102)\n",
      "(113, 101)\n",
      "(113, 103)\n",
      "(112, 102)\n",
      "(114, 102)\n",
      "(111, 104)\n",
      "(110, 103)\n",
      "(112, 103)\n",
      "(111, 105)\n",
      "(110, 104)\n",
      "(110, 103)\n",
      "(110, 105)\n",
      "(109, 104)\n",
      "(111, 104)\n",
      "(112, 104)\n",
      "(113, 104)\n",
      "(112, 106)\n",
      "(111, 105)\n",
      "(111, 104)\n",
      "(111, 106)\n",
      "(110, 105)\n",
      "(110, 104)\n",
      "(110, 106)\n",
      "(109, 105)\n",
      "(111, 105)\n",
      "(112, 105)\n",
      "(113, 105)\n",
      "(112, 107)\n",
      "(111, 106)\n",
      "(113, 106)\n",
      "(114, 106)\n",
      "(113, 108)\n",
      "(112, 107)\n",
      "(112, 106)\n",
      "(112, 108)\n",
      "(111, 107)\n",
      "(113, 107)\n",
      "(114, 107)\n",
      "(113, 109)\n",
      "(112, 108)\n",
      "(112, 107)\n",
      "(112, 109)\n",
      "(111, 108)\n",
      "(113, 108)\n",
      "(114, 108)\n",
      "(114, 107)\n",
      "(114, 109)\n",
      "(113, 108)\n",
      "(115, 108)\n",
      "(115, 107)\n",
      "(115, 106)\n",
      "(115, 108)\n",
      "(114, 107)\n",
      "(116, 107)\n",
      "(115, 109)\n",
      "(115, 108)\n",
      "(115, 110)\n",
      "(115, 109)\n",
      "(115, 111)\n",
      "(114, 110)\n",
      "(116, 110)\n",
      "(116, 109)\n",
      "(116, 111)\n",
      "(116, 110)\n",
      "(116, 112)\n",
      "(116, 111)\n",
      "(116, 113)\n",
      "(115, 112)\n",
      "(117, 112)\n",
      "(117, 111)\n",
      "(117, 110)\n",
      "(117, 109)\n",
      "(117, 111)\n",
      "(116, 110)\n",
      "(118, 110)\n",
      "(117, 112)\n",
      "(116, 111)\n",
      "(118, 111)\n",
      "(118, 110)\n",
      "(118, 112)\n",
      "(118, 111)\n",
      "(118, 113)\n",
      "(118, 112)\n",
      "(118, 114)\n",
      "(117, 113)\n",
      "(117, 112)\n",
      "(117, 114)\n",
      "(116, 113)\n",
      "(118, 113)\n",
      "(119, 113)\n",
      "(117, 112)\n",
      "(119, 112)\n",
      "(117, 111)\n",
      "(119, 111)\n",
      "(117, 113)\n",
      "(116, 112)\n",
      "(118, 112)\n",
      "(115, 111)\n",
      "(115, 110)\n",
      "(115, 112)\n",
      "(114, 111)\n",
      "(116, 111)\n",
      "(117, 111)\n",
      "(115, 110)\n",
      "(117, 110)\n",
      "(114, 109)\n",
      "(116, 109)\n",
      "(116, 108)\n",
      "(116, 110)\n",
      "(115, 109)\n",
      "(117, 109)\n",
      "(114, 108)\n",
      "(116, 108)\n",
      "(113, 110)\n",
      "(112, 109)\n",
      "(114, 109)\n",
      "(114, 108)\n",
      "(114, 110)\n",
      "(113, 109)\n",
      "(115, 109)\n",
      "(113, 111)\n",
      "(112, 110)\n",
      "(114, 110)\n",
      "(115, 110)\n",
      "(114, 112)\n",
      "(114, 111)\n",
      "(114, 113)\n",
      "(113, 112)\n",
      "(115, 112)\n",
      "(113, 111)\n",
      "(115, 111)\n",
      "(113, 113)\n",
      "(112, 112)\n",
      "(114, 112)\n",
      "(113, 114)\n",
      "(112, 113)\n",
      "(114, 113)\n",
      "(114, 112)\n",
      "(114, 114)\n",
      "(113, 113)\n",
      "(115, 113)\n",
      "(113, 115)\n",
      "(112, 114)\n",
      "(114, 114)\n",
      "(113, 116)\n",
      "(112, 115)\n",
      "(114, 115)\n",
      "(114, 114)\n",
      "(114, 116)\n",
      "(113, 115)\n",
      "(115, 115)\n",
      "(110, 114)\n",
      "(112, 114)\n",
      "(112, 113)\n",
      "(112, 115)\n",
      "(111, 114)\n",
      "(113, 114)\n",
      "(108, 113)\n",
      "(108, 112)\n",
      "(108, 114)\n",
      "(107, 113)\n",
      "(109, 113)\n",
      "(110, 113)\n",
      "(108, 112)\n",
      "(110, 112)\n",
      "(106, 111)\n",
      "(108, 111)\n",
      "(105, 110)\n",
      "(107, 110)\n",
      "(108, 110)\n",
      "(109, 110)\n",
      "(107, 109)\n",
      "(109, 109)\n",
      "(106, 108)\n",
      "(106, 107)\n",
      "(106, 106)\n",
      "(106, 105)\n",
      "(106, 107)\n",
      "(105, 106)\n",
      "(107, 106)\n",
      "(106, 108)\n",
      "(105, 107)\n",
      "(105, 106)\n",
      "(105, 105)\n",
      "(105, 107)\n",
      "(104, 106)\n",
      "(104, 105)\n",
      "(104, 107)\n",
      "(103, 106)\n",
      "(103, 105)\n",
      "(103, 107)\n",
      "(102, 106)\n",
      "(102, 105)\n",
      "(102, 107)\n",
      "(101, 106)\n",
      "(101, 105)\n",
      "(101, 107)\n",
      "(100, 106)\n",
      "(102, 106)\n",
      "(103, 106)\n",
      "(104, 106)\n",
      "(105, 106)\n",
      "(106, 106)\n",
      "(105, 108)\n",
      "(105, 107)\n",
      "(105, 109)\n",
      "(104, 108)\n",
      "(106, 108)\n",
      "(104, 107)\n",
      "(104, 106)\n",
      "(104, 108)\n",
      "(104, 107)\n",
      "(104, 109)\n",
      "(104, 108)\n",
      "(104, 110)\n",
      "(103, 109)\n",
      "(105, 109)\n",
      "(105, 108)\n",
      "(105, 110)\n",
      "(104, 109)\n",
      "(106, 109)\n",
      "(103, 108)\n",
      "(105, 108)\n",
      "(103, 107)\n",
      "(103, 106)\n",
      "(103, 108)\n",
      "(102, 107)\n",
      "(102, 106)\n",
      "(102, 108)\n",
      "(101, 107)\n",
      "(101, 106)\n",
      "(101, 108)\n",
      "(100, 107)\n",
      "(102, 107)\n",
      "(103, 107)\n",
      "(104, 107)\n",
      "(105, 107)\n",
      "(106, 107)\n",
      "(107, 107)\n",
      "(107, 106)\n",
      "(107, 108)\n",
      "(106, 107)\n",
      "(108, 107)\n",
      "(106, 109)\n",
      "(105, 108)\n",
      "(107, 108)\n",
      "(108, 108)\n",
      "(109, 108)\n",
      "(107, 107)\n",
      "(109, 107)\n",
      "(110, 107)\n",
      "(111, 107)\n",
      "(112, 107)\n",
      "(110, 106)\n",
      "(112, 106)\n",
      "(108, 105)\n",
      "(110, 105)\n",
      "(108, 104)\n",
      "(110, 104)\n",
      "(107, 103)\n",
      "(109, 103)\n",
      "(105, 102)\n",
      "(105, 101)\n",
      "(105, 103)\n",
      "(104, 102)\n",
      "(106, 102)\n",
      "(106, 101)\n",
      "(106, 100)\n",
      "(106, 102)\n",
      "(105, 101)\n",
      "(105, 100)\n",
      "(105, 99)\n",
      "(105, 101)\n",
      "(104, 100)\n",
      "(106, 100)\n",
      "(106, 99)\n",
      "(106, 101)\n",
      "(105, 100)\n",
      "(107, 100)\n",
      "(105, 102)\n",
      "(104, 101)\n",
      "(106, 101)\n",
      "(107, 101)\n",
      "(107, 100)\n",
      "(107, 99)\n",
      "(107, 101)\n",
      "(106, 100)\n",
      "(108, 100)\n",
      "(107, 102)\n",
      "(106, 101)\n",
      "(108, 101)\n",
      "(108, 100)\n",
      "(108, 99)\n",
      "(108, 98)\n",
      "(108, 100)\n",
      "(107, 99)\n",
      "(109, 99)\n",
      "(108, 101)\n",
      "(107, 100)\n",
      "(109, 100)\n",
      "(108, 102)\n",
      "(107, 101)\n",
      "(109, 101)\n",
      "(106, 103)\n",
      "(106, 102)\n",
      "(106, 104)\n",
      "(106, 103)\n",
      "(106, 105)\n",
      "(106, 104)\n",
      "(106, 106)\n",
      "(105, 105)\n",
      "(105, 104)\n",
      "(105, 106)\n",
      "(104, 105)\n",
      "(104, 104)\n",
      "(104, 106)\n",
      "(103, 105)\n",
      "(103, 104)\n",
      "(103, 103)\n",
      "(103, 105)\n",
      "(102, 104)\n",
      "(102, 103)\n",
      "(102, 102)\n",
      "(102, 101)\n",
      "(102, 100)\n",
      "(102, 102)\n",
      "(101, 101)\n",
      "(103, 101)\n",
      "(103, 100)\n",
      "(103, 102)\n",
      "(102, 101)\n",
      "(104, 101)\n",
      "(102, 103)\n",
      "(101, 102)\n",
      "(103, 102)\n",
      "(103, 101)\n",
      "(103, 103)\n",
      "(102, 102)\n",
      "(104, 102)\n",
      "(104, 101)\n",
      "(104, 100)\n",
      "(104, 102)\n",
      "(103, 101)\n",
      "(105, 101)\n",
      "(104, 103)\n",
      "(103, 102)\n",
      "(105, 102)\n",
      "(102, 104)\n",
      "(101, 103)\n",
      "(103, 103)\n",
      "(102, 105)\n",
      "(101, 104)\n",
      "(103, 104)\n",
      "(104, 104)\n",
      "(103, 106)\n",
      "(102, 105)\n",
      "(102, 104)\n",
      "(102, 106)\n",
      "(101, 105)\n",
      "(101, 104)\n",
      "(101, 103)\n",
      "(101, 105)\n",
      "(100, 104)\n",
      "(102, 104)\n",
      "(101, 106)\n",
      "(100, 105)\n",
      "(102, 105)\n",
      "(103, 105)\n",
      "(104, 105)\n",
      "(105, 105)\n",
      "(106, 105)\n",
      "(107, 105)\n",
      "(107, 104)\n",
      "(107, 103)\n",
      "(107, 105)\n",
      "(106, 104)\n",
      "(108, 104)\n",
      "(107, 106)\n",
      "(106, 105)\n",
      "(108, 105)\n",
      "(105, 104)\n",
      "(105, 103)\n",
      "(105, 105)\n",
      "(104, 104)\n",
      "(104, 103)\n",
      "(104, 102)\n",
      "(104, 104)\n",
      "(103, 103)\n",
      "(103, 102)\n",
      "(103, 104)\n",
      "(102, 103)\n",
      "(104, 103)\n",
      "(105, 103)\n",
      "(104, 105)\n",
      "(103, 104)\n",
      "(105, 104)\n",
      "(106, 104)\n",
      "(107, 104)\n",
      "(105, 103)\n",
      "(105, 102)\n",
      "(105, 104)\n",
      "(104, 103)\n",
      "(106, 103)\n",
      "(107, 103)\n",
      "(107, 102)\n",
      "(107, 104)\n",
      "(106, 103)\n",
      "(108, 103)\n",
      "(108, 102)\n",
      "(108, 104)\n",
      "(108, 103)\n",
      "(108, 105)\n",
      "(107, 104)\n",
      "(109, 104)\n",
      "(109, 103)\n",
      "(109, 105)\n",
      "(109, 104)\n",
      "(109, 106)\n",
      "(109, 105)\n",
      "(109, 107)\n",
      "(108, 106)\n",
      "(108, 105)\n",
      "(108, 104)\n",
      "(108, 106)\n",
      "(107, 105)\n",
      "(109, 105)\n",
      "(108, 107)\n",
      "(107, 106)\n",
      "(107, 105)\n",
      "(107, 107)\n",
      "(106, 106)\n",
      "(108, 106)\n",
      "(109, 106)\n",
      "(110, 106)\n",
      "(110, 105)\n",
      "(110, 107)\n",
      "(109, 106)\n",
      "(111, 106)\n",
      "(111, 105)\n",
      "(111, 107)\n",
      "(111, 106)\n",
      "(111, 108)\n",
      "(111, 107)\n",
      "(111, 109)\n",
      "(110, 108)\n",
      "(112, 108)\n",
      "(110, 107)\n",
      "(110, 106)\n",
      "(110, 108)\n",
      "(110, 107)\n",
      "(110, 109)\n",
      "(109, 108)\n",
      "(111, 108)\n",
      "(109, 107)\n",
      "(109, 106)\n",
      "(109, 108)\n",
      "(108, 107)\n",
      "(108, 106)\n",
      "(108, 108)\n",
      "(108, 107)\n",
      "(108, 109)\n",
      "(107, 108)\n",
      "(107, 107)\n",
      "(107, 109)\n",
      "(107, 108)\n",
      "(107, 110)\n",
      "(106, 109)\n",
      "(106, 108)\n",
      "(106, 110)\n",
      "(105, 109)\n",
      "(107, 109)\n",
      "(108, 109)\n",
      "(108, 108)\n",
      "(108, 110)\n",
      "(108, 109)\n",
      "(108, 111)\n",
      "(108, 110)\n",
      "(108, 112)\n",
      "(107, 111)\n",
      "(109, 111)\n",
      "(107, 110)\n",
      "(107, 109)\n",
      "(107, 111)\n",
      "(106, 110)\n",
      "(106, 109)\n",
      "(106, 111)\n",
      "(106, 110)\n",
      "(106, 112)\n",
      "(106, 111)\n",
      "(106, 113)\n",
      "(105, 112)\n",
      "(105, 111)\n",
      "(105, 110)\n",
      "(105, 109)\n",
      "(105, 111)\n",
      "(104, 110)\n",
      "(106, 110)\n",
      "(105, 112)\n",
      "(104, 111)\n",
      "(106, 111)\n",
      "(105, 113)\n",
      "(104, 112)\n",
      "(106, 112)\n",
      "(107, 112)\n",
      "(105, 111)\n",
      "(107, 111)\n",
      "(107, 110)\n",
      "(107, 112)\n",
      "(106, 111)\n",
      "(108, 111)\n",
      "(105, 110)\n",
      "(107, 110)\n",
      "(108, 110)\n",
      "(109, 110)\n",
      "(109, 109)\n",
      "(109, 111)\n",
      "(109, 110)\n",
      "(109, 112)\n",
      "(109, 111)\n",
      "(109, 113)\n",
      "(109, 112)\n",
      "(109, 114)\n",
      "(108, 113)\n",
      "(110, 113)\n",
      "(110, 112)\n",
      "(110, 111)\n",
      "(110, 113)\n",
      "(109, 112)\n",
      "(111, 112)\n",
      "(110, 114)\n",
      "(109, 113)\n",
      "(111, 113)\n",
      "(111, 112)\n",
      "(111, 111)\n",
      "(111, 110)\n",
      "(111, 109)\n",
      "(111, 108)\n",
      "(111, 110)\n",
      "(110, 109)\n",
      "(112, 109)\n",
      "(112, 108)\n",
      "(112, 110)\n",
      "(111, 109)\n",
      "(113, 109)\n",
      "(111, 111)\n",
      "(110, 110)\n",
      "(110, 109)\n",
      "(110, 108)\n",
      "(110, 110)\n",
      "(109, 109)\n",
      "(109, 108)\n",
      "(109, 107)\n",
      "(109, 109)\n",
      "(108, 108)\n",
      "(110, 108)\n",
      "(109, 110)\n",
      "(108, 109)\n",
      "(110, 109)\n",
      "(111, 109)\n",
      "(110, 111)\n",
      "(109, 110)\n",
      "(111, 110)\n",
      "(112, 110)\n",
      "(111, 112)\n",
      "(110, 111)\n",
      "(112, 111)\n",
      "(111, 113)\n",
      "(110, 112)\n",
      "(112, 112)\n",
      "(111, 114)\n",
      "(110, 113)\n",
      "(112, 113)\n",
      "(112, 112)\n",
      "(112, 111)\n",
      "(112, 110)\n",
      "(112, 109)\n",
      "(112, 111)\n",
      "(111, 110)\n",
      "(113, 110)\n",
      "(112, 112)\n",
      "(111, 111)\n",
      "(113, 111)\n",
      "(112, 113)\n",
      "(111, 112)\n",
      "(113, 112)\n",
      "(112, 114)\n",
      "(111, 113)\n",
      "(113, 113)\n",
      "(108, 112)\n",
      "(108, 111)\n",
      "(108, 113)\n",
      "(107, 112)\n",
      "(107, 111)\n",
      "(107, 113)\n",
      "(106, 112)\n",
      "(108, 112)\n",
      "(109, 112)\n",
      "(110, 112)\n",
      "(108, 111)\n",
      "(110, 111)\n",
      "(110, 110)\n",
      "(110, 112)\n",
      "(109, 111)\n",
      "(111, 111)\n",
      "(108, 110)\n",
      "(110, 110)\n",
      "(107, 109)\n",
      "(109, 109)\n",
      "(106, 108)\n",
      "(106, 107)\n",
      "(106, 106)\n",
      "(106, 105)\n",
      "(106, 107)\n",
      "(105, 106)\n",
      "(107, 106)\n",
      "(106, 108)\n",
      "(105, 107)\n",
      "(105, 106)\n",
      "(105, 105)\n",
      "(105, 107)\n",
      "(104, 106)\n",
      "(104, 105)\n",
      "(104, 107)\n",
      "(103, 106)\n",
      "(103, 105)\n",
      "(103, 107)\n",
      "(102, 106)\n",
      "(102, 105)\n",
      "(102, 107)\n",
      "(101, 106)\n",
      "(103, 106)\n",
      "(104, 106)\n",
      "(105, 106)\n",
      "(106, 106)\n",
      "(105, 108)\n",
      "(105, 107)\n",
      "(105, 109)\n",
      "(104, 108)\n",
      "(106, 108)\n",
      "(104, 107)\n",
      "(104, 106)\n",
      "(104, 108)\n",
      "(103, 107)\n",
      "(105, 107)\n",
      "(106, 107)\n",
      "(107, 107)\n",
      "(107, 106)\n",
      "(107, 108)\n",
      "(106, 107)\n",
      "(108, 107)\n",
      "(106, 109)\n",
      "(105, 108)\n",
      "(107, 108)\n",
      "(108, 108)\n",
      "(109, 108)\n",
      "(107, 107)\n",
      "(109, 107)\n",
      "(110, 107)\n",
      "(111, 107)\n",
      "(112, 107)\n",
      "(110, 106)\n",
      "(112, 106)\n",
      "(112, 105)\n",
      "(112, 104)\n",
      "(112, 103)\n",
      "(112, 105)\n",
      "(111, 104)\n",
      "(111, 103)\n",
      "(111, 102)\n",
      "(111, 101)\n",
      "(111, 100)\n",
      "(111, 102)\n",
      "(110, 101)\n",
      "(110, 100)\n",
      "(110, 99)\n",
      "(110, 101)\n",
      "(109, 100)\n",
      "(111, 100)\n",
      "(111, 99)\n",
      "(111, 101)\n",
      "(110, 100)\n",
      "(112, 100)\n",
      "(110, 102)\n",
      "(110, 101)\n",
      "(110, 103)\n",
      "(110, 102)\n",
      "(110, 104)\n",
      "(109, 103)\n",
      "(111, 103)\n",
      "(109, 102)\n",
      "(109, 101)\n",
      "(109, 100)\n",
      "(109, 99)\n",
      "(109, 98)\n",
      "(109, 100)\n",
      "(108, 99)\n",
      "(110, 99)\n",
      "(110, 98)\n",
      "(110, 100)\n",
      "(109, 99)\n",
      "(111, 99)\n",
      "(111, 98)\n",
      "(111, 100)\n",
      "(110, 99)\n",
      "(112, 99)\n",
      "(112, 98)\n",
      "(112, 100)\n",
      "(112, 99)\n",
      "(112, 101)\n",
      "(112, 100)\n",
      "(112, 102)\n",
      "(111, 101)\n",
      "(113, 101)\n",
      "(111, 100)\n",
      "(113, 100)\n",
      "(111, 99)\n",
      "(113, 99)\n",
      "(109, 101)\n",
      "(108, 100)\n",
      "(110, 100)\n",
      "(109, 102)\n",
      "(108, 101)\n",
      "(110, 101)\n",
      "(109, 103)\n",
      "(109, 102)\n",
      "(109, 104)\n",
      "(108, 103)\n",
      "(110, 103)\n",
      "(108, 102)\n",
      "(108, 101)\n",
      "(108, 103)\n",
      "(107, 102)\n",
      "(109, 102)\n",
      "(110, 102)\n",
      "(111, 102)\n",
      "(109, 101)\n",
      "(111, 101)\n",
      "(112, 101)\n",
      "(111, 103)\n",
      "(110, 102)\n",
      "(112, 102)\n",
      "(112, 101)\n",
      "(112, 103)\n",
      "(112, 102)\n",
      "(112, 104)\n",
      "(111, 103)\n",
      "(113, 103)\n",
      "(113, 102)\n",
      "(113, 104)\n",
      "(113, 103)\n",
      "(113, 105)\n",
      "(112, 104)\n",
      "(114, 104)\n",
      "(112, 103)\n",
      "(114, 103)\n",
      "(111, 102)\n",
      "(113, 102)\n",
      "(111, 104)\n",
      "(110, 103)\n",
      "(112, 103)\n",
      "(111, 105)\n",
      "(110, 104)\n",
      "(110, 103)\n",
      "(110, 105)\n",
      "(109, 104)\n",
      "(111, 104)\n",
      "(112, 104)\n",
      "(113, 104)\n",
      "(112, 106)\n",
      "(111, 105)\n",
      "(111, 104)\n",
      "(111, 106)\n",
      "(110, 105)\n",
      "(110, 104)\n",
      "(110, 106)\n",
      "(109, 105)\n",
      "(111, 105)\n",
      "(112, 105)\n",
      "(113, 105)\n",
      "(113, 104)\n",
      "(113, 106)\n",
      "(113, 105)\n",
      "(113, 107)\n",
      "(113, 106)\n",
      "(113, 108)\n",
      "(113, 107)\n",
      "(113, 109)\n",
      "(113, 108)\n",
      "(113, 110)\n",
      "(112, 109)\n",
      "(114, 109)\n",
      "(112, 108)\n",
      "(114, 108)\n",
      "(112, 107)\n",
      "(112, 106)\n",
      "(112, 108)\n",
      "(112, 107)\n",
      "(112, 109)\n",
      "(111, 108)\n",
      "(113, 108)\n",
      "(111, 107)\n",
      "(113, 107)\n",
      "(114, 107)\n",
      "(114, 106)\n",
      "(114, 105)\n",
      "(114, 104)\n",
      "(114, 106)\n",
      "(113, 105)\n",
      "(115, 105)\n",
      "(115, 104)\n"
     ]
    },
    {
     "name": "stdout",
     "output_type": "stream",
     "text": [
      "(115, 103)\n",
      "(115, 102)\n",
      "(115, 101)\n",
      "(115, 103)\n",
      "(114, 102)\n",
      "(114, 101)\n",
      "(114, 103)\n",
      "(114, 102)\n",
      "(114, 104)\n",
      "(113, 103)\n",
      "(115, 103)\n",
      "(113, 102)\n",
      "(115, 102)\n",
      "(116, 102)\n",
      "(115, 104)\n",
      "(114, 103)\n",
      "(116, 103)\n",
      "(115, 105)\n",
      "(114, 104)\n",
      "(114, 103)\n",
      "(114, 105)\n",
      "(113, 104)\n",
      "(115, 104)\n",
      "(116, 104)\n",
      "(115, 106)\n",
      "(114, 105)\n",
      "(116, 105)\n",
      "(116, 104)\n",
      "(116, 103)\n",
      "(116, 102)\n",
      "(116, 101)\n",
      "(116, 100)\n",
      "(116, 102)\n",
      "(115, 101)\n",
      "(115, 100)\n",
      "(115, 99)\n",
      "(115, 98)\n",
      "(115, 100)\n",
      "(114, 99)\n",
      "(114, 98)\n",
      "(114, 100)\n",
      "(114, 99)\n",
      "(114, 101)\n",
      "(113, 100)\n",
      "(113, 99)\n",
      "(113, 98)\n",
      "(113, 97)\n",
      "(113, 99)\n",
      "(112, 98)\n",
      "(114, 98)\n",
      "(113, 100)\n",
      "(112, 99)\n",
      "(114, 99)\n",
      "(113, 101)\n",
      "(113, 100)\n",
      "(113, 102)\n",
      "(113, 101)\n",
      "(113, 103)\n",
      "(112, 102)\n",
      "(114, 102)\n",
      "(112, 101)\n",
      "(114, 101)\n",
      "(112, 100)\n",
      "(114, 100)\n",
      "(115, 100)\n",
      "(113, 99)\n",
      "(115, 99)\n",
      "(116, 99)\n",
      "(115, 101)\n",
      "(114, 100)\n",
      "(116, 100)\n",
      "(116, 99)\n",
      "(116, 98)\n",
      "(116, 97)\n",
      "(116, 99)\n",
      "(115, 98)\n",
      "(115, 97)\n",
      "(115, 96)\n",
      "(115, 95)\n",
      "(115, 94)\n",
      "(115, 93)\n",
      "(115, 95)\n",
      "(114, 94)\n",
      "(114, 93)\n",
      "(114, 92)\n",
      "(114, 94)\n",
      "(113, 93)\n",
      "(113, 92)\n",
      "(113, 94)\n",
      "(112, 93)\n",
      "(114, 93)\n",
      "(115, 93)\n",
      "(114, 95)\n",
      "(113, 94)\n",
      "(113, 93)\n",
      "(113, 95)\n",
      "(113, 94)\n",
      "(113, 96)\n",
      "(113, 95)\n",
      "(113, 97)\n",
      "(112, 96)\n",
      "(112, 95)\n",
      "(112, 94)\n",
      "(112, 96)\n",
      "(111, 95)\n",
      "(113, 95)\n",
      "(112, 97)\n",
      "(112, 96)\n",
      "(112, 98)\n",
      "(111, 97)\n",
      "(113, 97)\n",
      "(111, 96)\n",
      "(111, 95)\n",
      "(111, 94)\n",
      "(111, 96)\n",
      "(110, 95)\n",
      "(112, 95)\n",
      "(111, 97)\n",
      "(111, 96)\n",
      "(111, 98)\n",
      "(111, 97)\n",
      "(111, 99)\n",
      "(110, 98)\n",
      "(112, 98)\n",
      "(112, 97)\n",
      "(112, 99)\n",
      "(111, 98)\n",
      "(113, 98)\n",
      "(110, 97)\n",
      "(110, 96)\n",
      "(110, 98)\n",
      "(110, 97)\n",
      "(110, 99)\n",
      "(109, 98)\n",
      "(111, 98)\n",
      "(109, 97)\n",
      "(109, 96)\n",
      "(109, 98)\n",
      "(108, 97)\n",
      "(108, 96)\n",
      "(108, 98)\n",
      "(108, 97)\n",
      "(108, 99)\n",
      "(107, 98)\n",
      "(107, 97)\n",
      "(107, 99)\n",
      "(107, 98)\n",
      "(107, 100)\n",
      "(106, 99)\n",
      "(108, 99)\n",
      "(106, 98)\n",
      "(108, 98)\n",
      "(109, 98)\n",
      "(109, 97)\n",
      "(109, 99)\n",
      "(108, 98)\n",
      "(110, 98)\n",
      "(107, 97)\n",
      "(107, 96)\n",
      "(107, 98)\n",
      "(106, 97)\n",
      "(106, 96)\n",
      "(106, 95)\n",
      "(106, 97)\n",
      "(105, 96)\n",
      "(107, 96)\n",
      "(107, 95)\n",
      "(107, 94)\n",
      "(107, 93)\n",
      "(107, 92)\n",
      "(107, 91)\n",
      "(107, 90)\n",
      "(107, 92)\n",
      "(106, 91)\n",
      "(106, 90)\n",
      "(106, 89)\n",
      "(106, 91)\n",
      "(105, 90)\n",
      "(105, 89)\n",
      "(105, 91)\n",
      "(104, 90)\n",
      "(104, 89)\n",
      "(104, 91)\n",
      "(104, 90)\n",
      "(104, 92)\n",
      "(104, 91)\n",
      "(104, 93)\n",
      "(103, 92)\n",
      "(103, 91)\n",
      "(103, 93)\n",
      "(102, 92)\n",
      "(102, 91)\n",
      "(102, 90)\n",
      "(102, 89)\n",
      "(102, 91)\n",
      "(101, 90)\n",
      "(101, 89)\n",
      "(101, 91)\n",
      "(101, 90)\n",
      "(101, 92)\n",
      "(100, 91)\n",
      "(102, 91)\n",
      "(100, 90)\n",
      "(100, 89)\n",
      "(100, 88)\n",
      "(100, 90)\n",
      "(99, 89)\n",
      "(99, 88)\n",
      "(99, 87)\n",
      "(99, 89)\n",
      "(98, 88)\n",
      "(100, 88)\n",
      "(100, 87)\n",
      "(100, 86)\n",
      "(100, 88)\n",
      "(99, 87)\n",
      "(101, 87)\n",
      "(101, 86)\n",
      "(101, 88)\n",
      "(100, 87)\n",
      "(102, 87)\n",
      "(100, 89)\n",
      "(99, 88)\n",
      "(101, 88)\n",
      "(101, 87)\n",
      "(101, 89)\n",
      "(100, 88)\n",
      "(102, 88)\n",
      "(99, 90)\n",
      "(99, 89)\n",
      "(99, 91)\n",
      "(99, 90)\n",
      "(99, 92)\n",
      "(98, 91)\n",
      "(98, 90)\n",
      "(98, 92)\n",
      "(97, 91)\n",
      "(99, 91)\n",
      "(100, 91)\n",
      "(98, 90)\n",
      "(100, 90)\n",
      "(98, 89)\n",
      "(98, 88)\n",
      "(98, 87)\n",
      "(98, 86)\n",
      "(98, 85)\n",
      "(98, 87)\n",
      "(97, 86)\n",
      "(99, 86)\n",
      "(98, 88)\n",
      "(97, 87)\n",
      "(97, 86)\n",
      "(97, 88)\n",
      "(96, 87)\n",
      "(98, 87)\n",
      "(99, 87)\n",
      "(99, 86)\n",
      "(99, 85)\n",
      "(99, 84)\n",
      "(99, 86)\n",
      "(98, 85)\n",
      "(100, 85)\n",
      "(100, 84)\n",
      "(100, 86)\n",
      "(100, 85)\n",
      "(100, 87)\n",
      "(99, 86)\n",
      "(101, 86)\n",
      "(101, 85)\n",
      "(101, 87)\n",
      "(100, 86)\n",
      "(102, 86)\n",
      "(99, 85)\n",
      "(101, 85)\n",
      "(99, 87)\n",
      "(98, 86)\n",
      "(100, 86)\n",
      "(99, 88)\n",
      "(98, 87)\n",
      "(100, 87)\n",
      "(98, 89)\n",
      "(97, 88)\n",
      "(99, 88)\n",
      "(98, 90)\n",
      "(97, 89)\n",
      "(97, 88)\n",
      "(97, 87)\n",
      "(97, 89)\n",
      "(96, 88)\n",
      "(98, 88)\n",
      "(97, 90)\n",
      "(97, 89)\n",
      "(97, 91)\n",
      "(97, 90)\n",
      "(97, 92)\n",
      "(96, 91)\n",
      "(98, 91)\n",
      "(96, 90)\n",
      "(98, 90)\n",
      "(98, 89)\n",
      "(98, 91)\n",
      "(97, 90)\n",
      "(99, 90)\n",
      "(96, 89)\n",
      "(96, 88)\n",
      "(96, 90)\n",
      "(95, 89)\n",
      "(97, 89)\n",
      "(98, 89)\n",
      "(99, 89)\n",
      "(100, 89)\n",
      "(101, 89)\n",
      "(100, 91)\n",
      "(100, 90)\n",
      "(100, 92)\n",
      "(100, 91)\n",
      "(100, 93)\n",
      "(100, 92)\n",
      "(100, 94)\n",
      "(100, 93)\n",
      "(100, 95)\n",
      "(100, 94)\n",
      "(100, 96)\n",
      "(99, 95)\n",
      "(101, 95)\n",
      "(99, 94)\n",
      "(101, 94)\n",
      "(101, 93)\n",
      "(101, 95)\n",
      "(100, 94)\n",
      "(102, 94)\n",
      "(99, 93)\n",
      "(101, 93)\n",
      "(99, 92)\n",
      "(99, 91)\n",
      "(99, 93)\n",
      "(99, 92)\n",
      "(99, 94)\n",
      "(99, 93)\n",
      "(99, 95)\n",
      "(99, 94)\n",
      "(99, 96)\n",
      "(99, 95)\n",
      "(99, 97)\n",
      "(99, 96)\n",
      "(99, 98)\n",
      "(98, 97)\n",
      "(100, 97)\n",
      "(100, 96)\n",
      "(100, 98)\n",
      "(100, 97)\n",
      "(100, 99)\n",
      "(100, 98)\n",
      "(100, 100)\n",
      "(99, 99)\n",
      "(99, 98)\n",
      "(99, 97)\n",
      "(99, 99)\n",
      "(98, 98)\n",
      "(98, 97)\n",
      "(98, 96)\n",
      "(98, 95)\n",
      "(98, 94)\n",
      "(98, 93)\n",
      "(98, 92)\n",
      "(98, 94)\n",
      "(97, 93)\n",
      "(97, 92)\n",
      "(97, 91)\n",
      "(97, 93)\n",
      "(96, 92)\n",
      "(96, 91)\n",
      "(96, 90)\n",
      "(96, 92)\n",
      "(95, 91)\n",
      "(95, 90)\n",
      "(95, 89)\n",
      "(95, 88)\n",
      "(95, 87)\n",
      "(95, 86)\n",
      "(95, 88)\n",
      "(94, 87)\n",
      "(94, 86)\n",
      "(94, 88)\n",
      "(93, 87)\n",
      "(95, 87)\n",
      "(96, 87)\n",
      "(95, 89)\n",
      "(94, 88)\n",
      "(94, 87)\n",
      "(94, 89)\n",
      "(94, 88)\n",
      "(94, 90)\n",
      "(94, 89)\n",
      "(94, 91)\n",
      "(94, 90)\n",
      "(94, 92)\n",
      "(93, 91)\n",
      "(93, 90)\n",
      "(93, 92)\n",
      "(92, 91)\n",
      "(94, 91)\n",
      "(95, 91)\n",
      "(93, 90)\n",
      "(95, 90)\n",
      "(93, 89)\n",
      "(95, 89)\n",
      "(93, 88)\n",
      "(95, 88)\n",
      "(96, 88)\n",
      "(95, 90)\n",
      "(94, 89)\n",
      "(96, 89)\n",
      "(95, 91)\n",
      "(94, 90)\n",
      "(96, 90)\n",
      "(96, 89)\n",
      "(96, 91)\n",
      "(95, 90)\n",
      "(97, 90)\n",
      "(95, 92)\n",
      "(95, 91)\n",
      "(95, 93)\n",
      "(94, 92)\n",
      "(94, 91)\n",
      "(94, 93)\n",
      "(94, 92)\n",
      "(94, 94)\n",
      "(93, 93)\n",
      "(95, 93)\n",
      "(93, 92)\n",
      "(95, 92)\n",
      "(96, 92)\n",
      "(94, 91)\n",
      "(96, 91)\n",
      "(97, 91)\n",
      "(96, 93)\n",
      "(95, 92)\n",
      "(97, 92)\n",
      "(98, 92)\n",
      "(98, 91)\n",
      "(98, 93)\n",
      "(97, 92)\n",
      "(99, 92)\n",
      "(97, 94)\n",
      "(97, 93)\n",
      "(97, 95)\n",
      "(97, 94)\n",
      "(97, 96)\n",
      "(97, 95)\n",
      "(97, 97)\n",
      "(96, 96)\n",
      "(98, 96)\n",
      "(96, 95)\n",
      "(96, 94)\n",
      "(96, 96)\n",
      "(95, 95)\n",
      "(97, 95)\n",
      "(98, 95)\n",
      "(96, 94)\n",
      "(96, 93)\n",
      "(96, 95)\n",
      "(95, 94)\n",
      "(95, 93)\n",
      "(95, 95)\n",
      "(95, 94)\n",
      "(95, 96)\n",
      "(95, 95)\n",
      "(95, 97)\n",
      "(95, 96)\n",
      "(95, 98)\n",
      "(95, 97)\n",
      "(95, 99)\n",
      "(95, 98)\n",
      "(95, 100)\n",
      "(94, 99)\n",
      "(96, 99)\n",
      "(96, 98)\n",
      "(96, 100)\n",
      "(95, 99)\n",
      "(97, 99)\n",
      "(94, 98)\n",
      "(96, 98)\n",
      "(96, 97)\n",
      "(96, 99)\n",
      "(95, 98)\n",
      "(97, 98)\n",
      "(97, 97)\n",
      "(97, 99)\n",
      "(96, 98)\n",
      "(98, 98)\n",
      "(94, 97)\n",
      "(94, 96)\n",
      "(94, 98)\n",
      "(94, 97)\n",
      "(94, 99)\n",
      "(94, 98)\n",
      "(94, 100)\n",
      "(93, 99)\n",
      "(93, 98)\n",
      "(93, 100)\n",
      "(93, 99)\n",
      "(93, 101)\n",
      "(93, 100)\n",
      "(93, 102)\n",
      "(92, 101)\n",
      "(94, 101)\n",
      "(94, 100)\n",
      "(94, 102)\n",
      "(93, 101)\n",
      "(95, 101)\n",
      "(92, 100)\n",
      "(94, 100)\n",
      "(92, 99)\n",
      "(92, 98)\n",
      "(92, 100)\n",
      "(91, 99)\n",
      "(93, 99)\n",
      "(94, 99)\n",
      "(95, 99)\n",
      "(93, 98)\n",
      "(93, 97)\n",
      "(93, 96)\n",
      "(93, 98)\n",
      "(92, 97)\n",
      "(94, 97)\n",
      "(93, 99)\n",
      "(92, 98)\n",
      "(92, 97)\n",
      "(92, 99)\n",
      "(91, 98)\n",
      "(93, 98)\n",
      "(94, 98)\n",
      "(95, 98)\n",
      "(93, 97)\n",
      "(95, 97)\n",
      "(96, 97)\n",
      "(94, 96)\n",
      "(96, 96)\n",
      "(94, 95)\n",
      "(96, 95)\n",
      "(94, 94)\n",
      "(94, 93)\n",
      "(94, 95)\n",
      "(94, 94)\n",
      "(94, 96)\n",
      "(94, 95)\n",
      "(94, 97)\n",
      "(93, 96)\n",
      "(95, 96)\n",
      "(93, 95)\n",
      "(95, 95)\n",
      "(93, 94)\n",
      "(95, 94)\n",
      "(96, 94)\n",
      "(97, 94)\n",
      "(98, 94)\n",
      "(96, 93)\n",
      "(96, 92)\n",
      "(96, 94)\n",
      "(95, 93)\n",
      "(95, 92)\n",
      "(95, 94)\n",
      "(94, 93)\n",
      "(96, 93)\n",
      "(97, 93)\n",
      "(98, 93)\n",
      "(99, 93)\n",
      "(98, 95)\n",
      "(97, 94)\n",
      "(99, 94)\n",
      "(98, 96)\n",
      "(97, 95)\n",
      "(99, 95)\n",
      "(98, 97)\n",
      "(97, 96)\n",
      "(99, 96)\n",
      "(98, 98)\n",
      "(97, 97)\n",
      "(97, 96)\n",
      "(97, 98)\n",
      "(96, 97)\n",
      "(96, 96)\n",
      "(96, 95)\n",
      "(96, 97)\n",
      "(95, 96)\n",
      "(97, 96)\n",
      "(96, 98)\n",
      "(95, 97)\n",
      "(97, 97)\n",
      "(98, 97)\n",
      "(99, 97)\n",
      "(98, 99)\n",
      "(98, 98)\n",
      "(98, 100)\n",
      "(97, 99)\n",
      "(97, 98)\n",
      "(97, 100)\n",
      "(97, 99)\n",
      "(97, 101)\n",
      "(97, 100)\n",
      "(97, 102)\n",
      "(96, 101)\n",
      "(98, 101)\n",
      "(96, 100)\n",
      "(96, 99)\n",
      "(96, 101)\n",
      "(96, 100)\n",
      "(96, 102)\n",
      "(95, 101)\n",
      "(95, 100)\n",
      "(95, 102)\n",
      "(95, 101)\n",
      "(95, 103)\n",
      "(94, 102)\n",
      "(94, 101)\n",
      "(94, 103)\n",
      "(93, 102)\n",
      "(93, 101)\n",
      "(93, 103)\n",
      "(92, 102)\n",
      "(94, 102)\n",
      "(95, 102)\n",
      "(96, 102)\n",
      "(96, 101)\n",
      "(96, 103)\n",
      "(95, 102)\n",
      "(97, 102)\n",
      "(97, 101)\n",
      "(97, 103)\n",
      "(97, 102)\n",
      "(97, 104)\n",
      "(97, 103)\n",
      "(97, 105)\n",
      "(97, 104)\n",
      "(97, 106)\n",
      "(96, 105)\n",
      "(96, 104)\n",
      "(96, 106)\n",
      "(95, 105)\n",
      "(95, 104)\n",
      "(95, 103)\n",
      "(95, 105)\n",
      "(94, 104)\n",
      "(96, 104)\n",
      "(95, 106)\n",
      "(94, 105)\n",
      "(94, 104)\n",
      "(94, 103)\n",
      "(94, 102)\n",
      "(94, 104)\n",
      "(93, 103)\n",
      "(95, 103)\n",
      "(95, 102)\n",
      "(95, 104)\n",
      "(94, 103)\n",
      "(96, 103)\n",
      "(96, 102)\n",
      "(96, 104)\n",
      "(96, 103)\n",
      "(96, 105)\n",
      "(95, 104)\n",
      "(97, 104)\n",
      "(95, 103)\n",
      "(97, 103)\n",
      "(94, 105)\n",
      "(93, 104)\n",
      "(95, 104)\n",
      "(94, 106)\n",
      "(94, 105)\n",
      "(94, 107)\n",
      "(93, 106)\n",
      "(95, 106)\n",
      "(93, 105)\n",
      "(95, 105)\n",
      "(96, 105)\n",
      "(97, 105)\n",
      "(98, 105)\n",
      "(96, 104)\n",
      "(98, 104)\n",
      "(98, 103)\n",
      "(98, 105)\n",
      "(97, 104)\n",
      "(99, 104)\n",
      "(99, 103)\n",
      "(99, 102)\n",
      "(99, 104)\n",
      "(98, 103)\n",
      "(100, 103)\n",
      "(99, 105)\n",
      "(99, 104)\n",
      "(99, 106)\n",
      "(98, 105)\n",
      "(100, 105)\n",
      "(98, 104)\n",
      "(100, 104)\n",
      "(96, 103)\n",
      "(98, 103)\n",
      "(98, 102)\n",
      "(98, 104)\n",
      "(97, 103)\n",
      "(99, 103)\n",
      "(96, 102)\n",
      "(98, 102)\n",
      "(94, 101)\n",
      "(96, 101)\n",
      "(97, 101)\n",
      "(95, 100)\n",
      "(95, 99)\n",
      "(95, 101)\n",
      "(94, 100)\n",
      "(94, 99)\n",
      "(94, 101)\n",
      "(93, 100)\n",
      "(95, 100)\n",
      "(96, 100)\n",
      "(97, 100)\n",
      "(98, 100)\n",
      "(96, 99)\n",
      "(98, 99)\n",
      "(99, 99)\n",
      "(97, 98)\n",
      "(99, 98)\n",
      "(100, 98)\n",
      "(99, 100)\n",
      "(99, 99)\n",
      "(99, 101)\n",
      "(98, 100)\n",
      "(98, 99)\n",
      "(98, 101)\n",
      "(97, 100)\n",
      "(99, 100)\n",
      "(100, 100)\n",
      "(100, 99)\n",
      "(100, 101)\n",
      "(99, 100)\n",
      "(101, 100)\n",
      "(98, 99)\n",
      "(100, 99)\n",
      "(101, 99)\n",
      "(101, 98)\n",
      "(101, 97)\n",
      "(101, 99)\n",
      "(100, 98)\n",
      "(102, 98)\n",
      "(101, 100)\n",
      "(100, 99)\n",
      "(102, 99)\n",
      "(102, 98)\n",
      "(102, 97)\n",
      "(102, 99)\n",
      "(101, 98)\n",
      "(103, 98)\n",
      "(103, 97)\n",
      "(103, 96)\n",
      "(103, 98)\n",
      "(102, 97)\n",
      "(104, 97)\n",
      "(103, 99)\n",
      "(103, 98)\n",
      "(103, 100)\n",
      "(102, 99)\n",
      "(104, 99)\n",
      "(102, 98)\n",
      "(104, 98)\n",
      "(102, 100)\n",
      "(102, 99)\n",
      "(102, 101)\n",
      "(101, 100)\n",
      "(101, 99)\n",
      "(101, 101)\n",
      "(100, 100)\n",
      "(102, 100)\n",
      "(103, 100)\n",
      "(101, 99)\n",
      "(103, 99)\n",
      "(99, 98)\n",
      "(101, 98)\n",
      "(99, 97)\n",
      "(101, 97)\n",
      "(101, 96)\n",
      "(101, 98)\n",
      "(100, 97)\n",
      "(102, 97)\n",
      "(102, 96)\n",
      "(102, 95)\n",
      "(102, 97)\n",
      "(101, 96)\n",
      "(103, 96)\n",
      "(103, 95)\n",
      "(103, 97)\n",
      "(102, 96)\n",
      "(104, 96)\n",
      "(102, 98)\n",
      "(101, 97)\n",
      "(103, 97)\n",
      "(98, 96)\n",
      "(100, 96)\n",
      "(100, 95)\n",
      "(100, 97)\n",
      "(99, 96)\n",
      "(101, 96)\n",
      "(101, 95)\n",
      "(101, 94)\n",
      "(101, 96)\n",
      "(100, 95)\n",
      "(102, 95)\n",
      "(102, 94)\n",
      "(102, 93)\n",
      "(102, 92)\n",
      "(102, 94)\n",
      "(101, 93)\n",
      "(101, 92)\n",
      "(101, 94)\n",
      "(100, 93)\n",
      "(102, 93)\n",
      "(103, 93)\n",
      "(103, 92)\n",
      "(103, 94)\n",
      "(103, 93)\n",
      "(103, 95)\n",
      "(102, 94)\n",
      "(104, 94)\n",
      "(104, 93)\n",
      "(104, 95)\n",
      "(103, 94)\n",
      "(105, 94)\n",
      "(105, 93)\n",
      "(105, 95)\n",
      "(105, 94)\n",
      "(105, 96)\n",
      "(105, 95)\n",
      "(105, 97)\n",
      "(105, 96)\n",
      "(105, 98)\n",
      "(105, 97)\n",
      "(105, 99)\n",
      "(105, 98)\n",
      "(105, 100)\n",
      "(104, 99)\n",
      "(104, 98)\n",
      "(104, 100)\n",
      "(104, 99)\n",
      "(104, 101)\n",
      "(103, 100)\n",
      "(103, 99)\n",
      "(103, 101)\n",
      "(102, 100)\n",
      "(104, 100)\n",
      "(105, 100)\n",
      "(103, 99)\n",
      "(105, 99)\n",
      "(106, 99)\n",
      "(106, 98)\n",
      "(106, 97)\n",
      "(106, 99)\n",
      "(105, 98)\n",
      "(107, 98)\n",
      "(106, 100)\n",
      "(105, 99)\n",
      "(107, 99)\n",
      "(104, 98)\n",
      "(104, 97)\n",
      "(104, 99)\n",
      "(103, 98)\n",
      "(105, 98)\n",
      "(106, 98)\n",
      "(104, 97)\n",
      "(104, 96)\n",
      "(104, 98)\n",
      "(103, 97)\n",
      "(105, 97)\n",
      "(106, 97)\n",
      "(104, 96)\n",
      "(106, 96)\n",
      "(104, 95)\n",
      "(106, 95)\n",
      "(106, 94)\n",
      "(106, 96)\n",
      "(105, 95)\n",
      "(107, 95)\n",
      "(104, 94)\n",
      "(106, 94)\n",
      "(106, 93)\n",
      "(106, 92)\n",
      "(106, 94)\n",
      "(105, 93)\n",
      "(105, 92)\n",
      "(105, 91)\n",
      "(105, 90)\n",
      "(105, 92)\n",
      "(104, 91)\n",
      "(106, 91)\n",
      "(105, 93)\n",
      "(104, 92)\n",
      "(106, 92)\n",
      "(105, 94)\n",
      "(104, 93)\n",
      "(106, 93)\n",
      "(107, 93)\n",
      "(106, 95)\n",
      "(105, 94)\n",
      "(107, 94)\n",
      "(102, 93)\n",
      "(104, 93)\n",
      "(104, 92)\n",
      "(104, 94)\n",
      "(103, 93)\n",
      "(105, 93)\n",
      "(102, 95)\n",
      "(101, 94)\n",
      "(103, 94)\n",
      "(102, 96)\n",
      "(101, 95)\n",
      "(103, 95)\n",
      "(103, 94)\n",
      "(103, 96)\n",
      "(102, 95)\n",
      "(104, 95)\n",
      "(104, 94)\n",
      "(104, 96)\n",
      "(104, 95)\n",
      "(104, 97)\n",
      "(103, 96)\n",
      "(105, 96)\n",
      "(103, 95)\n",
      "(105, 95)\n",
      "(101, 97)\n",
      "(100, 96)\n",
      "(102, 96)\n",
      "(98, 95)\n",
      "(100, 95)\n",
      "(98, 94)\n",
      "(100, 94)\n",
      "(98, 93)\n",
      "(100, 93)\n",
      "(98, 92)\n"
     ]
    },
    {
     "name": "stdout",
     "output_type": "stream",
     "text": [
      "(100, 92)\n",
      "(101, 92)\n",
      "(101, 91)\n",
      "(101, 93)\n",
      "(100, 92)\n",
      "(102, 92)\n",
      "(99, 91)\n",
      "(101, 91)\n",
      "(99, 90)\n",
      "(101, 90)\n",
      "(102, 90)\n",
      "(103, 90)\n",
      "(103, 89)\n",
      "(103, 88)\n",
      "(103, 90)\n",
      "(102, 89)\n",
      "(102, 88)\n",
      "(102, 87)\n",
      "(102, 86)\n",
      "(102, 88)\n",
      "(101, 87)\n",
      "(103, 87)\n",
      "(102, 89)\n",
      "(101, 88)\n",
      "(103, 88)\n",
      "(103, 87)\n",
      "(103, 86)\n",
      "(103, 85)\n",
      "(103, 87)\n",
      "(102, 86)\n",
      "(104, 86)\n",
      "(104, 85)\n",
      "(104, 87)\n",
      "(104, 86)\n",
      "(104, 88)\n",
      "(104, 87)\n",
      "(104, 89)\n",
      "(104, 88)\n",
      "(104, 90)\n",
      "(103, 89)\n",
      "(105, 89)\n",
      "(105, 88)\n",
      "(105, 90)\n",
      "(104, 89)\n",
      "(106, 89)\n",
      "(106, 88)\n",
      "(106, 90)\n",
      "(105, 89)\n",
      "(107, 89)\n",
      "(107, 88)\n",
      "(107, 90)\n",
      "(107, 89)\n",
      "(107, 91)\n",
      "(106, 90)\n",
      "(108, 90)\n",
      "(108, 89)\n",
      "(108, 91)\n",
      "(107, 90)\n",
      "(109, 90)\n",
      "(106, 89)\n",
      "(108, 89)\n",
      "(103, 88)\n",
      "(105, 88)\n",
      "(103, 87)\n",
      "(105, 87)\n",
      "(105, 86)\n",
      "(105, 88)\n",
      "(105, 87)\n",
      "(105, 89)\n",
      "(104, 88)\n",
      "(106, 88)\n",
      "(104, 87)\n",
      "(106, 87)\n",
      "(103, 86)\n",
      "(105, 86)\n",
      "(105, 85)\n",
      "(105, 84)\n",
      "(105, 86)\n",
      "(104, 85)\n",
      "(106, 85)\n",
      "(105, 87)\n",
      "(104, 86)\n",
      "(106, 86)\n",
      "(106, 85)\n",
      "(106, 87)\n",
      "(106, 86)\n",
      "(106, 88)\n",
      "(106, 87)\n",
      "(106, 89)\n",
      "(105, 88)\n",
      "(107, 88)\n",
      "(107, 87)\n",
      "(107, 86)\n",
      "(107, 88)\n",
      "(106, 87)\n",
      "(108, 87)\n",
      "(107, 89)\n",
      "(106, 88)\n",
      "(108, 88)\n",
      "(108, 87)\n",
      "(108, 89)\n",
      "(108, 88)\n",
      "(108, 90)\n",
      "(107, 89)\n",
      "(109, 89)\n",
      "(107, 88)\n",
      "(109, 88)\n",
      "(105, 87)\n",
      "(107, 87)\n",
      "(105, 86)\n",
      "(107, 86)\n",
      "(103, 88)\n",
      "(102, 87)\n",
      "(104, 87)\n",
      "(103, 89)\n",
      "(102, 88)\n",
      "(104, 88)\n",
      "(102, 90)\n",
      "(101, 89)\n",
      "(101, 88)\n",
      "(101, 90)\n",
      "(100, 89)\n",
      "(102, 89)\n",
      "(103, 89)\n",
      "(104, 89)\n",
      "(103, 91)\n",
      "(103, 90)\n",
      "(103, 92)\n",
      "(102, 91)\n",
      "(104, 91)\n",
      "(102, 90)\n",
      "(104, 90)\n",
      "(102, 92)\n",
      "(101, 91)\n",
      "(103, 91)\n",
      "(102, 93)\n",
      "(101, 92)\n",
      "(103, 92)\n",
      "(104, 92)\n",
      "(105, 92)\n",
      "(103, 91)\n",
      "(105, 91)\n",
      "(103, 90)\n",
      "(105, 90)\n",
      "(106, 90)\n",
      "(107, 90)\n",
      "(106, 92)\n",
      "(106, 91)\n",
      "(106, 93)\n",
      "(105, 92)\n",
      "(107, 92)\n",
      "(105, 91)\n",
      "(107, 91)\n",
      "(108, 91)\n",
      "(108, 90)\n",
      "(108, 92)\n",
      "(108, 91)\n",
      "(108, 93)\n",
      "(108, 92)\n",
      "(108, 94)\n",
      "(108, 93)\n",
      "(108, 95)\n",
      "(108, 94)\n",
      "(108, 96)\n",
      "(107, 95)\n",
      "(109, 95)\n",
      "(109, 94)\n",
      "(109, 93)\n",
      "(109, 95)\n",
      "(108, 94)\n",
      "(110, 94)\n",
      "(109, 96)\n",
      "(108, 95)\n",
      "(110, 95)\n",
      "(107, 94)\n",
      "(109, 94)\n",
      "(107, 93)\n",
      "(109, 93)\n",
      "(107, 92)\n",
      "(109, 92)\n",
      "(107, 91)\n",
      "(109, 91)\n",
      "(109, 90)\n",
      "(109, 89)\n",
      "(109, 88)\n",
      "(109, 87)\n",
      "(109, 86)\n",
      "(109, 85)\n",
      "(109, 87)\n",
      "(108, 86)\n",
      "(110, 86)\n",
      "(110, 85)\n",
      "(110, 84)\n",
      "(110, 86)\n",
      "(109, 85)\n",
      "(109, 84)\n",
      "(109, 86)\n",
      "(108, 85)\n",
      "(108, 84)\n",
      "(108, 86)\n",
      "(107, 85)\n",
      "(107, 84)\n",
      "(107, 83)\n",
      "(107, 85)\n",
      "(106, 84)\n",
      "(106, 83)\n",
      "(106, 85)\n",
      "(106, 84)\n",
      "(106, 86)\n",
      "(105, 85)\n",
      "(107, 85)\n",
      "(105, 84)\n",
      "(107, 84)\n",
      "(108, 84)\n",
      "(108, 83)\n",
      "(108, 82)\n",
      "(108, 84)\n",
      "(107, 83)\n",
      "(109, 83)\n",
      "(108, 85)\n",
      "(107, 84)\n",
      "(109, 84)\n",
      "(109, 83)\n",
      "(109, 85)\n",
      "(108, 84)\n",
      "(110, 84)\n",
      "(110, 83)\n",
      "(110, 82)\n",
      "(110, 84)\n",
      "(109, 83)\n",
      "(111, 83)\n",
      "(111, 82)\n",
      "(111, 81)\n",
      "(111, 83)\n",
      "(110, 82)\n",
      "(112, 82)\n",
      "(112, 81)\n",
      "(112, 83)\n",
      "(111, 82)\n",
      "(113, 82)\n",
      "(111, 84)\n",
      "(110, 83)\n",
      "(112, 83)\n",
      "(110, 85)\n",
      "(109, 84)\n",
      "(111, 84)\n",
      "(107, 86)\n",
      "(107, 85)\n",
      "(107, 87)\n",
      "(106, 86)\n",
      "(108, 86)\n",
      "(106, 85)\n",
      "(108, 85)\n",
      "(109, 85)\n",
      "(110, 85)\n",
      "(111, 85)\n",
      "(111, 84)\n",
      "(111, 86)\n",
      "(111, 85)\n",
      "(111, 87)\n",
      "(110, 86)\n",
      "(112, 86)\n",
      "(112, 85)\n",
      "(112, 87)\n",
      "(111, 86)\n",
      "(113, 86)\n",
      "(113, 85)\n",
      "(113, 87)\n",
      "(113, 86)\n",
      "(113, 88)\n",
      "(113, 87)\n",
      "(113, 89)\n",
      "(112, 88)\n",
      "(114, 88)\n",
      "(112, 87)\n",
      "(112, 86)\n",
      "(112, 88)\n",
      "(112, 87)\n",
      "(112, 89)\n",
      "(111, 88)\n",
      "(111, 87)\n",
      "(111, 86)\n",
      "(111, 88)\n",
      "(110, 87)\n",
      "(110, 86)\n",
      "(110, 88)\n",
      "(109, 87)\n",
      "(111, 87)\n",
      "(112, 87)\n",
      "(111, 89)\n",
      "(111, 88)\n",
      "(111, 90)\n",
      "(110, 89)\n",
      "(112, 89)\n",
      "(110, 88)\n",
      "(112, 88)\n",
      "(113, 88)\n",
      "(111, 87)\n",
      "(113, 87)\n",
      "(114, 87)\n",
      "(112, 86)\n",
      "(114, 86)\n",
      "(114, 85)\n",
      "(114, 87)\n",
      "(113, 86)\n",
      "(115, 86)\n",
      "(115, 85)\n",
      "(115, 84)\n",
      "(115, 83)\n",
      "(115, 85)\n",
      "(114, 84)\n",
      "(116, 84)\n",
      "(115, 86)\n",
      "(114, 85)\n",
      "(114, 84)\n",
      "(114, 86)\n",
      "(113, 85)\n",
      "(115, 85)\n",
      "(116, 85)\n",
      "(115, 87)\n",
      "(115, 86)\n",
      "(115, 88)\n",
      "(114, 87)\n",
      "(116, 87)\n",
      "(114, 86)\n",
      "(116, 86)\n",
      "(110, 85)\n",
      "(112, 85)\n",
      "(112, 84)\n",
      "(112, 86)\n",
      "(111, 85)\n",
      "(113, 85)\n",
      "(110, 87)\n",
      "(109, 86)\n",
      "(111, 86)\n",
      "(109, 88)\n",
      "(108, 87)\n",
      "(108, 86)\n",
      "(108, 85)\n",
      "(108, 87)\n",
      "(107, 86)\n",
      "(109, 86)\n",
      "(108, 88)\n",
      "(107, 87)\n",
      "(109, 87)\n",
      "(110, 87)\n",
      "(109, 89)\n",
      "(108, 88)\n",
      "(110, 88)\n",
      "(109, 90)\n",
      "(108, 89)\n",
      "(110, 89)\n",
      "(110, 88)\n",
      "(110, 87)\n",
      "(110, 89)\n",
      "(109, 88)\n",
      "(111, 88)\n",
      "(110, 90)\n",
      "(110, 89)\n",
      "(110, 91)\n",
      "(110, 90)\n",
      "(110, 92)\n",
      "(109, 91)\n",
      "(111, 91)\n",
      "(111, 90)\n",
      "(111, 92)\n",
      "(110, 91)\n",
      "(112, 91)\n",
      "(112, 90)\n",
      "(112, 89)\n",
      "(112, 88)\n",
      "(112, 90)\n",
      "(111, 89)\n",
      "(113, 89)\n",
      "(113, 88)\n",
      "(113, 90)\n",
      "(113, 89)\n",
      "(113, 91)\n",
      "(112, 90)\n",
      "(114, 90)\n",
      "(114, 89)\n",
      "(114, 91)\n",
      "(113, 90)\n",
      "(115, 90)\n",
      "(112, 89)\n",
      "(114, 89)\n",
      "(112, 91)\n",
      "(111, 90)\n",
      "(111, 89)\n",
      "(111, 91)\n",
      "(110, 90)\n",
      "(112, 90)\n",
      "(113, 90)\n",
      "(112, 92)\n",
      "(112, 91)\n",
      "(112, 93)\n",
      "(111, 92)\n",
      "(111, 91)\n",
      "(111, 93)\n",
      "(111, 92)\n",
      "(111, 94)\n",
      "(111, 93)\n",
      "(111, 95)\n",
      "(110, 94)\n",
      "(110, 93)\n",
      "(110, 92)\n",
      "(110, 94)\n",
      "(109, 93)\n",
      "(109, 92)\n",
      "(109, 91)\n",
      "(109, 93)\n",
      "(108, 92)\n",
      "(110, 92)\n",
      "(110, 91)\n",
      "(110, 93)\n",
      "(109, 92)\n",
      "(111, 92)\n",
      "(109, 94)\n",
      "(108, 93)\n",
      "(110, 93)\n",
      "(111, 93)\n",
      "(110, 95)\n",
      "(110, 94)\n",
      "(110, 96)\n",
      "(110, 95)\n",
      "(110, 97)\n",
      "(109, 96)\n",
      "(109, 95)\n",
      "(109, 97)\n",
      "(108, 96)\n",
      "(110, 96)\n",
      "(111, 96)\n",
      "(109, 95)\n",
      "(111, 95)\n",
      "(109, 94)\n",
      "(111, 94)\n",
      "(112, 94)\n",
      "(112, 93)\n",
      "(112, 92)\n",
      "(112, 94)\n",
      "(111, 93)\n",
      "(113, 93)\n",
      "(112, 95)\n",
      "(111, 94)\n",
      "(113, 94)\n",
      "(110, 93)\n",
      "(112, 93)\n",
      "(110, 92)\n",
      "(112, 92)\n",
      "(113, 92)\n",
      "(111, 91)\n",
      "(113, 91)\n",
      "(113, 90)\n",
      "(113, 92)\n",
      "(113, 91)\n",
      "(113, 93)\n",
      "(112, 92)\n",
      "(114, 92)\n",
      "(112, 91)\n",
      "(114, 91)\n",
      "(114, 90)\n",
      "(114, 92)\n",
      "(114, 91)\n",
      "(114, 93)\n",
      "(113, 92)\n",
      "(115, 92)\n",
      "(115, 91)\n",
      "(115, 90)\n",
      "(115, 89)\n",
      "(115, 88)\n",
      "(115, 90)\n",
      "(114, 89)\n",
      "(114, 88)\n",
      "(114, 87)\n",
      "(114, 86)\n",
      "(114, 88)\n",
      "(113, 87)\n",
      "(115, 87)\n",
      "(114, 89)\n",
      "(113, 88)\n",
      "(115, 88)\n",
      "(115, 87)\n",
      "(115, 89)\n",
      "(114, 88)\n",
      "(116, 88)\n",
      "(116, 87)\n",
      "(116, 86)\n",
      "(116, 88)\n",
      "(115, 87)\n",
      "(117, 87)\n",
      "(117, 86)\n",
      "(117, 85)\n",
      "(117, 87)\n",
      "(116, 86)\n",
      "(118, 86)\n",
      "(118, 85)\n",
      "(118, 87)\n",
      "(118, 86)\n",
      "(118, 88)\n",
      "(118, 87)\n",
      "(118, 89)\n",
      "(117, 88)\n",
      "(117, 87)\n",
      "(117, 89)\n",
      "(117, 88)\n",
      "(117, 90)\n",
      "(116, 89)\n",
      "(116, 88)\n",
      "(116, 90)\n",
      "(115, 89)\n",
      "(117, 89)\n",
      "(118, 89)\n",
      "(116, 88)\n",
      "(118, 88)\n",
      "(119, 88)\n",
      "(117, 87)\n",
      "(119, 87)\n",
      "(117, 86)\n",
      "(119, 86)\n",
      "(117, 88)\n",
      "(116, 87)\n",
      "(118, 87)\n",
      "(116, 89)\n",
      "(115, 88)\n",
      "(117, 88)\n",
      "(114, 90)\n",
      "(113, 89)\n",
      "(115, 89)\n",
      "(116, 89)\n",
      "(115, 91)\n",
      "(114, 90)\n",
      "(116, 90)\n",
      "(116, 89)\n",
      "(116, 91)\n",
      "(115, 90)\n",
      "(117, 90)\n",
      "(115, 92)\n",
      "(114, 91)\n",
      "(116, 91)\n",
      "(115, 93)\n",
      "(115, 92)\n",
      "(115, 94)\n",
      "(114, 93)\n",
      "(116, 93)\n",
      "(116, 92)\n",
      "(116, 94)\n",
      "(116, 93)\n",
      "(116, 95)\n",
      "(115, 94)\n",
      "(117, 94)\n",
      "(115, 93)\n",
      "(117, 93)\n",
      "(114, 92)\n",
      "(116, 92)\n",
      "(116, 91)\n",
      "(116, 93)\n",
      "(115, 92)\n",
      "(117, 92)\n",
      "(113, 91)\n",
      "(115, 91)\n",
      "(109, 90)\n",
      "(111, 90)\n",
      "(109, 89)\n",
      "(111, 89)\n",
      "(109, 91)\n",
      "(108, 90)\n",
      "(110, 90)\n",
      "(109, 92)\n",
      "(108, 91)\n",
      "(110, 91)\n",
      "(107, 93)\n",
      "(106, 92)\n",
      "(108, 92)\n",
      "(107, 94)\n",
      "(106, 93)\n",
      "(108, 93)\n",
      "(107, 95)\n",
      "(106, 94)\n",
      "(108, 94)\n",
      "(107, 96)\n",
      "(106, 95)\n",
      "(108, 95)\n",
      "(107, 97)\n",
      "(106, 96)\n",
      "(108, 96)\n",
      "(108, 95)\n",
      "(108, 97)\n",
      "(107, 96)\n",
      "(109, 96)\n",
      "(106, 98)\n",
      "(105, 97)\n",
      "(107, 97)\n",
      "(108, 97)\n",
      "(109, 97)\n",
      "(110, 97)\n",
      "(111, 97)\n",
      "(112, 97)\n",
      "(110, 96)\n",
      "(112, 96)\n",
      "(113, 96)\n",
      "(114, 96)\n",
      "(112, 95)\n",
      "(114, 95)\n",
      "(112, 94)\n",
      "(114, 94)\n",
      "(115, 94)\n",
      "(116, 94)\n",
      "(115, 96)\n",
      "(114, 95)\n",
      "(116, 95)\n",
      "(116, 94)\n",
      "(116, 96)\n",
      "(115, 95)\n",
      "(117, 95)\n",
      "(115, 97)\n",
      "(114, 96)\n",
      "(114, 95)\n",
      "(114, 94)\n",
      "(114, 96)\n",
      "(113, 95)\n",
      "(115, 95)\n",
      "(114, 97)\n",
      "(114, 96)\n",
      "(114, 98)\n",
      "(113, 97)\n",
      "(113, 96)\n",
      "(113, 98)\n",
      "(112, 97)\n",
      "(114, 97)\n",
      "(115, 97)\n",
      "(113, 96)\n",
      "(115, 96)\n",
      "(116, 96)\n",
      "(116, 95)\n",
      "(116, 97)\n",
      "(116, 96)\n",
      "(116, 98)\n",
      "(115, 97)\n",
      "(117, 97)\n",
      "(117, 96)\n",
      "(117, 98)\n",
      "(116, 97)\n",
      "(118, 97)\n",
      "(115, 96)\n",
      "(117, 96)\n",
      "(115, 98)\n",
      "(114, 97)\n",
      "(116, 97)\n",
      "(115, 99)\n",
      "(114, 98)\n",
      "(114, 97)\n",
      "(114, 99)\n",
      "(113, 98)\n",
      "(115, 98)\n",
      "(116, 98)\n",
      "(117, 98)\n",
      "(116, 100)\n",
      "(115, 99)\n",
      "(117, 99)\n",
      "(117, 98)\n",
      "(117, 100)\n",
      "(117, 99)\n",
      "(117, 101)\n",
      "(116, 100)\n",
      "(118, 100)\n",
      "(118, 99)\n",
      "(118, 98)\n",
      "(118, 100)\n",
      "(117, 99)\n",
      "(119, 99)\n",
      "(118, 101)\n",
      "(117, 100)\n",
      "(119, 100)\n",
      "(116, 99)\n",
      "(118, 99)\n",
      "(116, 101)\n",
      "(115, 100)\n",
      "(117, 100)\n",
      "(115, 102)\n",
      "(114, 101)\n",
      "(114, 100)\n",
      "(114, 102)\n",
      "(113, 101)\n",
      "(115, 101)\n",
      "(116, 101)\n",
      "(117, 101)\n",
      "(116, 103)\n",
      "(115, 102)\n",
      "(117, 102)\n",
      "(117, 101)\n",
      "(117, 103)\n",
      "(116, 102)\n",
      "(118, 102)\n",
      "(116, 104)\n",
      "(115, 103)\n",
      "(117, 103)\n",
      "(116, 105)\n",
      "(115, 104)\n",
      "(117, 104)\n",
      "(116, 106)\n",
      "(116, 105)\n",
      "(116, 107)\n",
      "(116, 106)\n",
      "(116, 108)\n",
      "(115, 107)\n",
      "(117, 107)\n",
      "(115, 106)\n",
      "(115, 105)\n",
      "(115, 107)\n",
      "(114, 106)\n",
      "(116, 106)\n",
      "(117, 106)\n",
      "(115, 105)\n",
      "(117, 105)\n",
      "(114, 107)\n",
      "(113, 106)\n",
      "(115, 106)\n",
      "(114, 108)\n",
      "(114, 107)\n",
      "(114, 109)\n",
      "(113, 108)\n",
      "(115, 108)\n",
      "(113, 107)\n",
      "(115, 107)\n",
      "(112, 106)\n",
      "(114, 106)\n",
      "(112, 105)\n",
      "(114, 105)\n",
      "(112, 107)\n",
      "(111, 106)\n",
      "(113, 106)\n",
      "(108, 105)\n",
      "(110, 105)\n",
      "(108, 104)\n",
      "(110, 104)\n",
      "(107, 103)\n",
      "(109, 103)\n",
      "(105, 102)\n",
      "(105, 101)\n",
      "(105, 103)\n",
      "(104, 102)\n",
      "(106, 102)\n",
      "(107, 102)\n",
      "(107, 101)\n",
      "(107, 103)\n",
      "(106, 102)\n",
      "(106, 101)\n",
      "(106, 100)\n",
      "(106, 102)\n",
      "(105, 101)\n",
      "(105, 100)\n",
      "(105, 99)\n",
      "(105, 101)\n",
      "(104, 100)\n",
      "(106, 100)\n",
      "(106, 99)\n",
      "(106, 101)\n",
      "(105, 100)\n",
      "(107, 100)\n",
      "(105, 102)\n",
      "(104, 101)\n",
      "(106, 101)\n",
      "(107, 101)\n",
      "(107, 100)\n",
      "(107, 99)\n",
      "(107, 101)\n",
      "(106, 100)\n",
      "(108, 100)\n",
      "(107, 102)\n",
      "(106, 101)\n",
      "(108, 101)\n",
      "(108, 100)\n",
      "(108, 99)\n",
      "(108, 98)\n",
      "(108, 100)\n",
      "(107, 99)\n",
      "(109, 99)\n",
      "(108, 101)\n",
      "(107, 100)\n",
      "(109, 100)\n",
      "(108, 102)\n",
      "(107, 101)\n",
      "(109, 101)\n",
      "(106, 103)\n",
      "(106, 102)\n",
      "(106, 104)\n",
      "(106, 103)\n",
      "(106, 105)\n",
      "(106, 104)\n",
      "(106, 106)\n",
      "(105, 105)\n",
      "(105, 104)\n",
      "(105, 106)\n",
      "(104, 105)\n",
      "(104, 104)\n",
      "(104, 106)\n",
      "(103, 105)\n",
      "(103, 104)\n",
      "(103, 103)\n",
      "(103, 105)\n",
      "(102, 104)\n",
      "(102, 103)\n",
      "(102, 105)\n",
      "(101, 104)\n",
      "(103, 104)\n",
      "(104, 104)\n",
      "(103, 106)\n",
      "(102, 105)\n",
      "(102, 104)\n",
      "(102, 106)\n",
      "(101, 105)\n",
      "(103, 105)\n",
      "(104, 105)\n",
      "(105, 105)\n",
      "(106, 105)\n",
      "(107, 105)\n",
      "(107, 104)\n",
      "(107, 103)\n",
      "(107, 105)\n",
      "(106, 104)\n",
      "(108, 104)\n",
      "(107, 106)\n",
      "(106, 105)\n",
      "(108, 105)\n",
      "(105, 104)\n",
      "(105, 103)\n",
      "(105, 105)\n",
      "(104, 104)\n",
      "(104, 103)\n",
      "(104, 105)\n",
      "(103, 104)\n",
      "(105, 104)\n",
      "(106, 104)\n",
      "(107, 104)\n",
      "(105, 103)\n",
      "(107, 103)\n",
      "(107, 102)\n",
      "(107, 104)\n",
      "(106, 103)\n",
      "(108, 103)\n",
      "(108, 102)\n",
      "(108, 104)\n",
      "(108, 103)\n",
      "(108, 105)\n",
      "(107, 104)\n",
      "(109, 104)\n",
      "(109, 103)\n",
      "(109, 105)\n",
      "(109, 104)\n",
      "(109, 106)\n",
      "(109, 105)\n",
      "(109, 107)\n",
      "(108, 106)\n",
      "(108, 105)\n",
      "(108, 104)\n",
      "(108, 106)\n",
      "(107, 105)\n",
      "(109, 105)\n",
      "(108, 107)\n",
      "(107, 106)\n",
      "(107, 105)\n",
      "(107, 107)\n",
      "(106, 106)\n",
      "(108, 106)\n",
      "(109, 106)\n",
      "(110, 106)\n",
      "(110, 105)\n",
      "(110, 107)\n",
      "(109, 106)\n",
      "(111, 106)\n",
      "(111, 105)\n",
      "(111, 107)\n",
      "(111, 106)\n",
      "(111, 108)\n",
      "(111, 107)\n",
      "(111, 109)\n",
      "(110, 108)\n",
      "(112, 108)\n",
      "(110, 107)\n",
      "(110, 106)\n",
      "(110, 108)\n",
      "(110, 107)\n",
      "(110, 109)\n",
      "(109, 108)\n",
      "(111, 108)\n",
      "(109, 107)\n",
      "(109, 106)\n",
      "(109, 108)\n",
      "(108, 107)\n",
      "(108, 106)\n",
      "(108, 108)\n",
      "(108, 107)\n",
      "(108, 109)\n",
      "(107, 108)\n",
      "(107, 107)\n",
      "(107, 109)\n",
      "(107, 108)\n",
      "(107, 110)\n",
      "(106, 109)\n",
      "(108, 109)\n",
      "(108, 108)\n",
      "(108, 110)\n",
      "(108, 109)\n",
      "(108, 111)\n",
      "(108, 110)\n",
      "(108, 112)\n",
      "(107, 111)\n",
      "(109, 111)\n",
      "(107, 110)\n",
      "(107, 109)\n",
      "(107, 111)\n",
      "(106, 110)\n",
      "(108, 110)\n",
      "(109, 110)\n",
      "(109, 109)\n",
      "(109, 111)\n",
      "(109, 110)\n",
      "(109, 112)\n",
      "(109, 111)\n",
      "(109, 113)\n",
      "(108, 112)\n",
      "(110, 112)\n",
      "(110, 111)\n",
      "(110, 113)\n",
      "(109, 112)\n",
      "(111, 112)\n",
      "(108, 111)\n",
      "(110, 111)\n",
      "(108, 110)\n",
      "(110, 110)\n",
      "(110, 109)\n",
      "(110, 111)\n",
      "(109, 110)\n",
      "(111, 110)\n",
      "(111, 109)\n",
      "(111, 108)\n",
      "(111, 110)\n",
      "(110, 109)\n",
      "(110, 108)\n",
      "(110, 110)\n",
      "(109, 109)\n",
      "(109, 108)\n",
      "(109, 107)\n",
      "(109, 109)\n",
      "(108, 108)\n",
      "(110, 108)\n",
      "(109, 110)\n",
      "(108, 109)\n",
      "(110, 109)\n",
      "(111, 109)\n",
      "(112, 109)\n",
      "(112, 108)\n",
      "(112, 110)\n",
      "(111, 109)\n",
      "(113, 109)\n",
      "(111, 111)\n",
      "(111, 110)\n",
      "(111, 112)\n",
      "(111, 111)\n",
      "(111, 113)\n",
      "(110, 112)\n",
      "(112, 112)\n",
      "(110, 111)\n",
      "(110, 110)\n",
      "(110, 112)\n",
      "(109, 111)\n",
      "(111, 111)\n",
      "(112, 111)\n",
      "(110, 110)\n",
      "(112, 110)\n",
      "(107, 109)\n",
      "(109, 109)\n",
      "(106, 108)\n",
      "(108, 108)\n",
      "(109, 108)\n",
      "(107, 107)\n",
      "(107, 106)\n",
      "(107, 108)\n",
      "(106, 107)\n",
      "(106, 106)\n",
      "(106, 105)\n",
      "(106, 107)\n",
      "(105, 106)\n",
      "(107, 106)\n",
      "(106, 108)\n",
      "(106, 107)\n",
      "(106, 109)\n",
      "(106, 108)\n",
      "(106, 110)\n",
      "(106, 109)\n",
      "(106, 111)\n",
      "(106, 110)\n",
      "(106, 112)\n",
      "(105, 111)\n",
      "(107, 111)\n",
      "(107, 110)\n",
      "(107, 112)\n",
      "(106, 111)\n",
      "(108, 111)\n",
      "(105, 110)\n",
      "(107, 110)\n",
      "(105, 109)\n",
      "(105, 108)\n",
      "(105, 110)\n",
      "(104, 109)\n",
      "(106, 109)\n",
      "(107, 109)\n",
      "(105, 108)\n",
      "(107, 108)\n",
      "(105, 107)\n",
      "(105, 106)\n",
      "(105, 105)\n",
      "(105, 107)\n",
      "(104, 106)\n",
      "(104, 105)\n",
      "(104, 107)\n",
      "(103, 106)\n",
      "(105, 106)\n",
      "(106, 106)\n",
      "(105, 108)\n",
      "(105, 107)\n",
      "(105, 109)\n",
      "(104, 108)\n",
      "(104, 107)\n",
      "(104, 109)\n",
      "(103, 108)\n",
      "(103, 107)\n",
      "(103, 106)\n",
      "(103, 105)\n",
      "(103, 107)\n",
      "(102, 106)\n",
      "(104, 106)\n",
      "(103, 108)\n",
      "(102, 107)\n",
      "(104, 107)\n",
      "(103, 109)\n",
      "(103, 108)\n",
      "(103, 110)\n",
      "(103, 109)\n",
      "(103, 111)\n",
      "(102, 110)\n",
      "(102, 109)\n",
      "(102, 108)\n",
      "(102, 110)\n",
      "(101, 109)\n",
      "(101, 108)\n",
      "(101, 110)\n",
      "(101, 109)\n",
      "(101, 111)\n",
      "(101, 110)\n",
      "(101, 112)\n",
      "(100, 111)\n",
      "(100, 110)\n",
      "(100, 112)\n",
      "(100, 111)\n",
      "(100, 113)\n",
      "(100, 112)\n",
      "(100, 114)\n",
      "(100, 113)\n",
      "(100, 115)\n",
      "(100, 114)\n",
      "(100, 116)\n",
      "(99, 115)\n",
      "(99, 114)\n",
      "(99, 113)\n",
      "(99, 115)\n",
      "(98, 114)\n",
      "(100, 114)\n",
      "(99, 116)\n",
      "(98, 115)\n",
      "(100, 115)\n",
      "(101, 115)\n",
      "(99, 114)\n",
      "(101, 114)\n",
      "(99, 113)\n",
      "(99, 112)\n",
      "(99, 111)\n",
      "(99, 113)\n",
      "(98, 112)\n",
      "(100, 112)\n",
      "(99, 114)\n",
      "(98, 113)\n",
      "(98, 112)\n",
      "(98, 114)\n",
      "(97, 113)\n",
      "(97, 112)\n",
      "(97, 114)\n",
      "(97, 113)\n",
      "(97, 115)\n",
      "(97, 114)\n",
      "(97, 116)\n",
      "(96, 115)\n",
      "(96, 114)\n",
      "(96, 113)\n",
      "(96, 115)\n",
      "(95, 114)\n",
      "(97, 114)\n",
      "(96, 116)\n",
      "(95, 115)\n",
      "(95, 114)\n",
      "(95, 116)\n",
      "(94, 115)\n",
      "(96, 115)\n",
      "(97, 115)\n",
      "(98, 115)\n",
      "(98, 114)\n",
      "(98, 116)\n",
      "(98, 115)\n",
      "(98, 117)\n",
      "(97, 116)\n",
      "(97, 115)\n",
      "(97, 117)\n",
      "(97, 116)\n",
      "(97, 118)\n",
      "(96, 117)\n",
      "(98, 117)\n",
      "(96, 116)\n",
      "(96, 115)\n",
      "(96, 117)\n",
      "(95, 116)\n",
      "(97, 116)\n",
      "(98, 116)\n",
      "(99, 116)\n",
      "(99, 115)\n",
      "(99, 117)\n",
      "(99, 116)\n",
      "(99, 118)\n",
      "(99, 117)\n",
      "(99, 119)\n",
      "(99, 118)\n",
      "(99, 120)\n",
      "(99, 119)\n",
      "(99, 121)\n",
      "(99, 120)\n",
      "(99, 122)\n",
      "(99, 121)\n",
      "(99, 123)\n",
      "(98, 122)\n",
      "(98, 121)\n",
      "(98, 120)\n",
      "(98, 119)\n",
      "(98, 118)\n",
      "(98, 120)\n",
      "(97, 119)\n",
      "(99, 119)\n",
      "(98, 121)\n",
      "(97, 120)\n",
      "(99, 120)\n",
      "(98, 122)\n",
      "(97, 121)\n",
      "(97, 120)\n",
      "(97, 119)\n",
      "(97, 121)\n",
      "(96, 120)\n",
      "(96, 119)\n",
      "(96, 118)\n",
      "(96, 120)\n",
      "(95, 119)\n",
      "(95, 118)\n",
      "(95, 117)\n",
      "(95, 116)\n",
      "(95, 115)\n",
      "(95, 117)\n",
      "(94, 116)\n",
      "(96, 116)\n",
      "(95, 118)\n",
      "(94, 117)\n",
      "(94, 116)\n",
      "(94, 115)\n",
      "(94, 114)\n",
      "(94, 116)\n",
      "(93, 115)\n",
      "(93, 114)\n",
      "(93, 113)\n",
      "(93, 112)\n",
      "(93, 114)\n",
      "(92, 113)\n",
      "(92, 112)\n",
      "(92, 114)\n",
      "(92, 113)\n",
      "(92, 115)\n",
      "(91, 114)\n",
      "(91, 113)\n",
      "(91, 115)\n",
      "(90, 114)\n",
      "(92, 114)\n",
      "(93, 114)\n",
      "(91, 113)\n",
      "(91, 112)\n",
      "(91, 111)\n",
      "(91, 113)\n",
      "(90, 112)\n",
      "(92, 112)\n",
      "(91, 114)\n",
      "(90, 113)\n",
      "(92, 113)\n",
      "(93, 113)\n",
      "(94, 113)\n",
      "(93, 115)\n",
      "(92, 114)\n",
      "(94, 114)\n",
      "(94, 113)\n",
      "(94, 112)\n",
      "(94, 114)\n",
      "(93, 113)\n",
      "(95, 113)\n",
      "(94, 115)\n",
      "(93, 114)\n",
      "(95, 114)\n",
      "(95, 113)\n",
      "(95, 115)\n",
      "(94, 114)\n",
      "(96, 114)\n",
      "(93, 116)\n",
      "(92, 115)\n",
      "(92, 114)\n",
      "(92, 116)\n",
      "(91, 115)\n",
      "(93, 115)\n",
      "(94, 115)\n",
      "(95, 115)\n",
      "(94, 117)\n",
      "(93, 116)\n",
      "(95, 116)\n",
      "(94, 118)\n",
      "(94, 117)\n",
      "(94, 119)\n",
      "(94, 118)\n",
      "(94, 120)\n",
      "(93, 119)\n",
      "(93, 118)\n",
      "(93, 117)\n",
      "(93, 116)\n",
      "(93, 118)\n",
      "(92, 117)\n",
      "(94, 117)\n",
      "(93, 119)\n",
      "(92, 118)\n",
      "(92, 117)\n",
      "(92, 116)\n",
      "(92, 115)\n",
      "(92, 117)\n",
      "(91, 116)\n",
      "(91, 115)\n",
      "(91, 117)\n",
      "(90, 116)\n",
      "(90, 115)\n",
      "(90, 114)\n",
      "(90, 113)\n",
      "(90, 112)\n",
      "(90, 114)\n",
      "(89, 113)\n",
      "(89, 112)\n",
      "(89, 114)\n",
      "(89, 113)\n",
      "(89, 115)\n",
      "(89, 114)\n",
      "(89, 116)\n",
      "(88, 115)\n",
      "(90, 115)\n",
      "(88, 114)\n",
      "(88, 113)\n",
      "(88, 112)\n",
      "(88, 114)\n",
      "(87, 113)\n",
      "(87, 112)\n",
      "(87, 114)\n",
      "(86, 113)\n",
      "(88, 113)\n",
      "(89, 113)\n",
      "(88, 115)\n",
      "(87, 114)\n",
      "(87, 113)\n",
      "(87, 115)\n",
      "(87, 114)\n",
      "(87, 116)\n",
      "(86, 115)\n",
      "(86, 114)\n",
      "(86, 116)\n",
      "(85, 115)\n",
      "(87, 115)\n",
      "(88, 115)\n",
      "(88, 114)\n",
      "(88, 116)\n",
      "(88, 115)\n",
      "(88, 117)\n",
      "(87, 116)\n",
      "(89, 116)\n",
      "(87, 115)\n",
      "(89, 115)\n",
      "(86, 114)\n",
      "(88, 114)\n",
      "(89, 114)\n",
      "(90, 114)\n",
      "(88, 113)\n",
      "(90, 113)\n",
      "(91, 113)\n",
      "(90, 115)\n",
      "(89, 114)\n",
      "(91, 114)\n",
      "(90, 116)\n",
      "(89, 115)\n",
      "(91, 115)\n",
      "(91, 114)\n",
      "(91, 116)\n",
      "(90, 115)\n",
      "(92, 115)\n",
      "(90, 117)\n",
      "(90, 116)\n",
      "(90, 118)\n",
      "(89, 117)\n",
      "(89, 116)\n",
      "(89, 115)\n",
      "(89, 117)\n",
      "(88, 116)\n",
      "(90, 116)\n",
      "(89, 118)\n",
      "(89, 117)\n",
      "(89, 119)\n",
      "(89, 118)\n",
      "(89, 120)\n",
      "(89, 119)\n",
      "(89, 121)\n",
      "(88, 120)\n",
      "(90, 120)\n",
      "(88, 119)\n",
      "(90, 119)\n",
      "(88, 118)\n",
      "(90, 118)\n",
      "(90, 117)\n",
      "(90, 119)\n",
      "(90, 118)\n",
      "(90, 120)\n",
      "(90, 119)\n",
      "(90, 121)\n",
      "(89, 120)\n",
      "(91, 120)\n",
      "(91, 119)\n",
      "(91, 121)\n",
      "(91, 120)\n",
      "(91, 122)\n",
      "(90, 121)\n",
      "(92, 121)\n",
      "(90, 120)\n",
      "(92, 120)\n",
      "(89, 119)\n",
      "(91, 119)\n",
      "(91, 118)\n",
      "(91, 117)\n",
      "(91, 119)\n",
      "(90, 118)\n",
      "(92, 118)\n",
      "(91, 120)\n",
      "(90, 119)\n",
      "(92, 119)\n",
      "(92, 118)\n",
      "(92, 120)\n",
      "(91, 119)\n",
      "(93, 119)\n",
      "(89, 118)\n",
      "(91, 118)\n",
      "(88, 117)\n",
      "(90, 117)\n",
      "(91, 117)\n",
      "(89, 116)\n",
      "(91, 116)\n",
      "(92, 116)\n",
      "(93, 116)\n",
      "(93, 115)\n",
      "(93, 117)\n",
      "(92, 116)\n",
      "(94, 116)\n",
      "(92, 118)\n",
      "(91, 117)\n",
      "(91, 116)\n",
      "(91, 118)\n",
      "(90, 117)\n",
      "(92, 117)\n",
      "(93, 117)\n",
      "(92, 119)\n",
      "(91, 118)\n",
      "(93, 118)\n",
      "(94, 118)\n",
      "(93, 120)\n",
      "(92, 119)\n",
      "(94, 119)\n",
      "(95, 119)\n",
      "(93, 118)\n",
      "(95, 118)\n",
      "(93, 117)\n",
      "(95, 117)\n",
      "(96, 117)\n",
      "(95, 119)\n",
      "(94, 118)\n",
      "(96, 118)\n",
      "(96, 117)\n",
      "(96, 116)\n",
      "(96, 118)\n",
      "(95, 117)\n",
      "(97, 117)\n",
      "(96, 119)\n",
      "(95, 118)\n",
      "(97, 118)\n",
      "(97, 117)\n",
      "(97, 119)\n",
      "(96, 118)\n",
      "(98, 118)\n",
      "(98, 117)\n",
      "(98, 119)\n",
      "(97, 118)\n",
      "(99, 118)\n",
      "(95, 120)\n",
      "(95, 119)\n",
      "(95, 121)\n",
      "(94, 120)\n",
      "(94, 119)\n",
      "(94, 121)\n",
      "(94, 120)\n",
      "(94, 122)\n",
      "(93, 121)\n",
      "(95, 121)\n",
      "(93, 120)\n",
      "(93, 119)\n",
      "(93, 121)\n",
      "(92, 120)\n",
      "(94, 120)\n",
      "(95, 120)\n",
      "(96, 120)\n",
      "(94, 119)\n",
      "(96, 119)\n",
      "(97, 119)\n",
      "(97, 118)\n",
      "(97, 120)\n",
      "(96, 119)\n",
      "(98, 119)\n",
      "(96, 121)\n",
      "(95, 120)\n",
      "(97, 120)\n",
      "(98, 120)\n",
      "(97, 122)\n",
      "(97, 121)\n",
      "(97, 123)\n",
      "(96, 122)\n",
      "(96, 121)\n",
      "(96, 120)\n",
      "(96, 122)\n",
      "(95, 121)\n",
      "(97, 121)\n",
      "(96, 123)\n",
      "(95, 122)\n",
      "(95, 121)\n",
      "(95, 120)\n",
      "(95, 122)\n",
      "(94, 121)\n",
      "(96, 121)\n",
      "(95, 123)\n",
      "(94, 122)\n",
      "(94, 121)\n",
      "(94, 123)\n",
      "(93, 122)\n",
      "(95, 122)\n",
      "(96, 122)\n",
      "(97, 122)\n",
      "(98, 122)\n",
      "(96, 121)\n",
      "(98, 121)\n",
      "(99, 121)\n",
      "(98, 123)\n",
      "(97, 122)\n",
      "(99, 122)\n",
      "(100, 122)\n",
      "(100, 121)\n",
      "(100, 120)\n",
      "(100, 119)\n",
      "(100, 118)\n",
      "(100, 117)\n",
      "(100, 116)\n",
      "(100, 115)\n",
      "(100, 117)\n",
      "(99, 116)\n",
      "(101, 116)\n",
      "(101, 115)\n",
      "(101, 114)\n",
      "(101, 116)\n",
      "(100, 115)\n",
      "(102, 115)\n",
      "(102, 114)\n",
      "(102, 113)\n",
      "(102, 115)\n",
      "(101, 114)\n",
      "(101, 113)\n",
      "(101, 115)\n",
      "(100, 114)\n",
      "(102, 114)\n",
      "(103, 114)\n",
      "(102, 116)\n",
      "(101, 115)\n",
      "(103, 115)\n",
      "(103, 114)\n",
      "(103, 113)\n",
      "(103, 112)\n",
      "(103, 114)\n",
      "(102, 113)\n",
      "(104, 113)\n",
      "(104, 112)\n",
      "(104, 111)\n",
      "(104, 113)\n",
      "(103, 112)\n",
      "(103, 111)\n",
      "(103, 110)\n",
      "(103, 112)\n",
      "(102, 111)\n",
      "(104, 111)\n",
      "(103, 113)\n",
      "(102, 112)\n",
      "(102, 111)\n",
      "(102, 113)\n",
      "(102, 112)\n",
      "(102, 114)\n",
      "(101, 113)\n",
      "(103, 113)\n",
      "(101, 112)\n",
      "(103, 112)\n",
      "(104, 112)\n",
      "(105, 112)\n",
      "(104, 114)\n",
      "(103, 113)\n",
      "(105, 113)\n",
      "(103, 115)\n",
      "(102, 114)\n",
      "(104, 114)\n",
      "(103, 116)\n",
      "(102, 115)\n",
      "(104, 115)\n",
      "(104, 114)\n",
      "(104, 116)\n",
      "(103, 115)\n",
      "(105, 115)\n",
      "(101, 117)\n",
      "(100, 116)\n",
      "(102, 116)\n",
      "(102, 115)\n",
      "(102, 117)\n",
      "(102, 116)\n",
      "(102, 118)\n",
      "(101, 117)\n",
      "(103, 117)\n",
      "(101, 116)\n",
      "(103, 116)\n",
      "(103, 115)\n",
      "(103, 117)\n",
      "(102, 116)\n",
      "(104, 116)\n",
      "(100, 118)\n",
      "(99, 117)\n",
      "(101, 117)\n",
      "(100, 119)\n",
      "(99, 118)\n",
      "(101, 118)\n",
      "(100, 120)\n",
      "(99, 119)\n",
      "(101, 119)\n",
      "(101, 118)\n",
      "(101, 117)\n",
      "(101, 116)\n",
      "(101, 118)\n",
      "(100, 117)\n",
      "(102, 117)\n",
      "(101, 119)\n",
      "(100, 118)\n",
      "(102, 118)\n",
      "(102, 117)\n",
      "(102, 119)\n",
      "(101, 118)\n",
      "(103, 118)\n",
      "(101, 120)\n",
      "(101, 119)\n",
      "(101, 121)\n",
      "(101, 120)\n",
      "(101, 122)\n",
      "(101, 121)\n",
      "(101, 123)\n",
      "(100, 122)\n",
      "(102, 122)\n",
      "(102, 121)\n",
      "(102, 120)\n",
      "(102, 122)\n",
      "(101, 121)\n",
      "(103, 121)\n",
      "(102, 123)\n",
      "(101, 122)\n",
      "(103, 122)\n",
      "(103, 121)\n",
      "(103, 120)\n",
      "(103, 119)\n",
      "(103, 118)\n",
      "(103, 117)\n",
      "(103, 119)\n",
      "(102, 118)\n",
      "(104, 118)\n",
      "(104, 117)\n",
      "(104, 116)\n",
      "(104, 115)\n",
      "(104, 117)\n",
      "(103, 116)\n",
      "(105, 116)\n",
      "(104, 118)\n",
      "(103, 117)\n",
      "(103, 116)\n",
      "(103, 118)\n",
      "(102, 117)\n",
      "(104, 117)\n",
      "(105, 117)\n",
      "(105, 116)\n",
      "(105, 115)\n",
      "(105, 114)\n",
      "(105, 116)\n",
      "(104, 115)\n",
      "(106, 115)\n",
      "(106, 114)\n",
      "(106, 113)\n",
      "(106, 112)\n",
      "(106, 111)\n",
      "(106, 113)\n",
      "(105, 112)\n",
      "(107, 112)\n",
      "(106, 114)\n",
      "(105, 113)\n",
      "(107, 113)\n",
      "(107, 112)\n",
      "(107, 114)\n",
      "(107, 113)\n",
      "(107, 115)\n",
      "(106, 114)\n",
      "(108, 114)\n",
      "(108, 113)\n",
      "(108, 115)\n",
      "(107, 114)\n",
      "(109, 114)\n",
      "(106, 113)\n",
      "(108, 113)\n",
      "(108, 112)\n",
      "(108, 111)\n",
      "(108, 113)\n",
      "(107, 112)\n",
      "(107, 111)\n",
      "(107, 113)\n",
      "(106, 112)\n",
      "(108, 112)\n",
      "(109, 112)\n",
      "(108, 114)\n",
      "(107, 113)\n",
      "(109, 113)\n",
      "(106, 115)\n",
      "(105, 114)\n",
      "(105, 113)\n",
      "(105, 112)\n",
      "(105, 111)\n",
      "(105, 110)\n",
      "(105, 109)\n",
      "(105, 111)\n",
      "(104, 110)\n",
      "(104, 109)\n",
      "(104, 108)\n",
      "(104, 110)\n",
      "(103, 109)\n",
      "(105, 109)\n",
      "(104, 111)\n",
      "(104, 110)\n",
      "(104, 112)\n",
      "(103, 111)\n",
      "(105, 111)\n",
      "(103, 110)\n",
      "(105, 110)\n",
      "(106, 110)\n",
      "(105, 112)\n",
      "(104, 111)\n",
      "(106, 111)\n",
      "(105, 113)\n",
      "(104, 112)\n",
      "(106, 112)\n",
      "(105, 114)\n",
      "(104, 113)\n",
      "(106, 113)\n",
      "(105, 115)\n",
      "(104, 114)\n",
      "(104, 113)\n",
      "(104, 115)\n",
      "(103, 114)\n",
      "(105, 114)\n",
      "(106, 114)\n",
      "(107, 114)\n",
      "(106, 116)\n",
      "(105, 115)\n",
      "(107, 115)\n",
      "(107, 114)\n",
      "(107, 116)\n",
      "(106, 115)\n",
      "(108, 115)\n",
      "(105, 117)\n",
      "(104, 116)\n",
      "(106, 116)\n",
      "(105, 118)\n",
      "(105, 117)\n",
      "(105, 119)\n",
      "(105, 118)\n",
      "(105, 120)\n",
      "(104, 119)\n",
      "(104, 118)\n",
      "(104, 120)\n",
      "(104, 119)\n",
      "(104, 121)\n",
      "(103, 120)\n",
      "(105, 120)\n",
      "(105, 119)\n",
      "(105, 121)\n",
      "(105, 120)\n",
      "(105, 122)\n",
      "(104, 121)\n",
      "(106, 121)\n",
      "(104, 120)\n",
      "(106, 120)\n",
      "(103, 119)\n",
      "(105, 119)\n",
      "(106, 119)\n",
      "(106, 118)\n",
      "(106, 117)\n",
      "(106, 116)\n",
      "(106, 118)\n",
      "(105, 117)\n",
      "(107, 117)\n",
      "(106, 119)\n",
      "(105, 118)\n",
      "(107, 118)\n",
      "(107, 117)\n",
      "(107, 116)\n",
      "(107, 115)\n",
      "(107, 117)\n",
      "(106, 116)\n",
      "(106, 115)\n",
      "(106, 117)\n",
      "(105, 116)\n",
      "(107, 116)\n",
      "(108, 116)\n",
      "(108, 115)\n",
      "(108, 117)\n",
      "(107, 116)\n",
      "(109, 116)\n",
      "(109, 115)\n",
      "(109, 114)\n",
      "(109, 113)\n",
      "(109, 112)\n",
      "(109, 114)\n",
      "(108, 113)\n",
      "(110, 113)\n",
      "(110, 112)\n",
      "(110, 114)\n",
      "(110, 113)\n",
      "(110, 115)\n",
      "(110, 114)\n",
      "(110, 116)\n",
      "(109, 115)\n",
      "(111, 115)\n",
      "(109, 114)\n",
      "(111, 114)\n",
      "(111, 113)\n",
      "(111, 112)\n",
      "(111, 114)\n",
      "(110, 113)\n",
      "(112, 113)\n",
      "(111, 115)\n",
      "(110, 114)\n",
      "(112, 114)\n",
      "(109, 113)\n",
      "(111, 113)\n",
      "(109, 115)\n",
      "(108, 114)\n",
      "(110, 114)\n",
      "(109, 116)\n",
      "(108, 115)\n",
      "(108, 114)\n",
      "(108, 116)\n",
      "(107, 115)\n",
      "(109, 115)\n",
      "(110, 115)\n",
      "(109, 117)\n",
      "(109, 116)\n",
      "(109, 118)\n",
      "(108, 117)\n",
      "(110, 117)\n",
      "(110, 116)\n",
      "(110, 118)\n",
      "(110, 117)\n",
      "(110, 119)\n",
      "(110, 118)\n",
      "(110, 120)\n",
      "(110, 119)\n",
      "(110, 121)\n",
      "(109, 120)\n",
      "(111, 120)\n",
      "(109, 119)\n",
      "(111, 119)\n",
      "(109, 118)\n",
      "(109, 117)\n",
      "(109, 119)\n",
      "(109, 118)\n",
      "(109, 120)\n",
      "(109, 119)\n",
      "(109, 121)\n",
      "(108, 120)\n",
      "(108, 119)\n",
      "(108, 121)\n",
      "(108, 120)\n",
      "(108, 122)\n",
      "(107, 121)\n",
      "(109, 121)\n",
      "(107, 120)\n",
      "(109, 120)\n",
      "(110, 120)\n",
      "(108, 119)\n",
      "(108, 118)\n",
      "(108, 117)\n",
      "(108, 119)\n",
      "(107, 118)\n",
      "(109, 118)\n",
      "(108, 120)\n",
      "(107, 119)\n",
      "(107, 118)\n",
      "(107, 120)\n",
      "(106, 119)\n",
      "(108, 119)\n",
      "(109, 119)\n",
      "(110, 119)\n",
      "(108, 118)\n",
      "(110, 118)\n",
      "(111, 118)\n",
      "(109, 117)\n",
      "(111, 117)\n",
      "(108, 116)\n",
      "(110, 116)\n",
      "(110, 115)\n",
      "(110, 117)\n",
      "(109, 116)\n",
      "(111, 116)\n",
      "(111, 115)\n",
      "(111, 114)\n",
      "(111, 116)\n",
      "(110, 115)\n",
      "(112, 115)\n",
      "(112, 114)\n",
      "(112, 116)\n",
      "(111, 115)\n",
      "(113, 115)\n",
      "(111, 117)\n",
      "(110, 116)\n",
      "(112, 116)\n",
      "(107, 118)\n",
      "(106, 117)\n",
      "(108, 117)\n",
      "(108, 116)\n",
      "(108, 118)\n",
      "(107, 117)\n",
      "(109, 117)\n",
      "(107, 119)\n",
      "(106, 118)\n",
      "(108, 118)\n",
      "(106, 120)\n",
      "(106, 119)\n",
      "(106, 121)\n",
      "(105, 120)\n",
      "(107, 120)\n",
      "(105, 119)\n",
      "(107, 119)\n",
      "(104, 118)\n",
      "(106, 118)\n",
      "(104, 117)\n",
      "(106, 117)\n",
      "(104, 119)\n",
      "(103, 118)\n",
      "(105, 118)\n",
      "(103, 120)\n",
      "(102, 119)\n",
      "(104, 119)\n",
      "(103, 121)\n",
      "(102, 120)\n",
      "(102, 119)\n",
      "(102, 121)\n",
      "(101, 120)\n",
      "(103, 120)\n",
      "(104, 120)\n",
      "(103, 122)\n",
      "(102, 121)\n",
      "(104, 121)\n",
      "(103, 123)\n",
      "(102, 122)\n",
      "(104, 122)\n",
      "(104, 121)\n",
      "(104, 120)\n",
      "(104, 122)\n",
      "(103, 121)\n",
      "(105, 121)\n",
      "(104, 123)\n",
      "(103, 122)\n",
      "(105, 122)\n",
      "(105, 121)\n",
      "(105, 123)\n",
      "(104, 122)\n",
      "(106, 122)\n",
      "(100, 121)\n",
      "(102, 121)\n",
      "(100, 120)\n",
      "(102, 120)\n",
      "(100, 119)\n",
      "(102, 119)\n",
      "(102, 118)\n",
      "(102, 120)\n",
      "(101, 119)\n",
      "(103, 119)\n",
      "(100, 121)\n",
      "(99, 120)\n",
      "(101, 120)\n",
      "(100, 122)\n",
      "(99, 121)\n",
      "(101, 121)\n",
      "(100, 123)\n",
      "(99, 122)\n",
      "(101, 122)\n",
      "(98, 121)\n",
      "(100, 121)\n",
      "(98, 120)\n",
      "(100, 120)\n",
      "(98, 119)\n",
      "(100, 119)\n",
      "(98, 118)\n",
      "(100, 118)\n",
      "(98, 117)\n",
      "(98, 116)\n",
      "(98, 118)\n",
      "(97, 117)\n",
      "(99, 117)\n",
      "(100, 117)\n",
      "(98, 116)\n",
      "(100, 116)\n",
      "(97, 115)\n",
      "(99, 115)\n",
      "(96, 114)\n",
      "(98, 114)\n",
      "(98, 113)\n",
      "(98, 115)\n",
      "(97, 114)\n",
      "(99, 114)\n",
      "(96, 113)\n",
      "(98, 113)\n",
      "(99, 113)\n",
      "(100, 113)\n",
      "(101, 113)\n",
      "(99, 112)\n",
      "(101, 112)\n",
      "(101, 111)\n",
      "(101, 113)\n",
      "(101, 112)\n",
      "(101, 114)\n",
      "(100, 113)\n",
      "(102, 113)\n",
      "(100, 112)\n",
      "(102, 112)\n",
      "(99, 111)\n",
      "(101, 111)\n",
      "(102, 111)\n",
      "(100, 110)\n",
      "(102, 110)\n",
      "(100, 109)\n",
      "(100, 108)\n",
      "(100, 107)\n",
      "(100, 109)\n",
      "(99, 108)\n",
      "(99, 107)\n",
      "(99, 106)\n",
      "(99, 105)\n",
      "(99, 107)\n",
      "(98, 106)\n",
      "(100, 106)\n",
      "(99, 108)\n",
      "(98, 107)\n",
      "(98, 106)\n",
      "(98, 108)\n",
      "(97, 107)\n",
      "(97, 106)\n",
      "(97, 108)\n",
      "(96, 107)\n",
      "(98, 107)\n",
      "(99, 107)\n",
      "(100, 107)\n",
      "(100, 106)\n",
      "(100, 105)\n",
      "(100, 104)\n",
      "(100, 103)\n",
      "(100, 102)\n",
      "(100, 104)\n",
      "(99, 103)\n",
      "(101, 103)\n",
      "(101, 102)\n",
      "(101, 101)\n",
      "(101, 100)\n",
      "(101, 102)\n",
      "(100, 101)\n",
      "(102, 101)\n",
      "(101, 103)\n",
      "(100, 102)\n",
      "(100, 101)\n",
      "(100, 100)\n",
      "(100, 102)\n",
      "(99, 101)\n",
      "(101, 101)\n",
      "(100, 103)\n",
      "(99, 102)\n",
      "(99, 101)\n",
      "(99, 100)\n",
      "(99, 102)\n",
      "(98, 101)\n",
      "(98, 100)\n",
      "(98, 102)\n",
      "(98, 101)\n",
      "(98, 103)\n",
      "(97, 102)\n",
      "(99, 102)\n",
      "(97, 101)\n",
      "(99, 101)\n",
      "(100, 101)\n",
      "(99, 103)\n",
      "(98, 102)\n",
      "(100, 102)\n",
      "(101, 102)\n",
      "(102, 102)\n",
      "(101, 104)\n",
      "(100, 103)\n",
      "(102, 103)\n",
      "(102, 102)\n",
      "(102, 101)\n",
      "(102, 100)\n",
      "(102, 102)\n",
      "(101, 101)\n",
      "(103, 101)\n",
      "(103, 100)\n",
      "(103, 102)\n",
      "(102, 101)\n",
      "(104, 101)\n",
      "(102, 103)\n",
      "(101, 102)\n",
      "(103, 102)\n",
      "(103, 101)\n",
      "(103, 103)\n",
      "(102, 102)\n",
      "(104, 102)\n",
      "(104, 101)\n",
      "(104, 100)\n",
      "(104, 102)\n",
      "(103, 101)\n",
      "(105, 101)\n",
      "(104, 103)\n",
      "(104, 102)\n",
      "(104, 104)\n",
      "(103, 103)\n",
      "(105, 103)\n",
      "(105, 102)\n",
      "(105, 104)\n",
      "(104, 103)\n",
      "(106, 103)\n",
      "(103, 102)\n",
      "(105, 102)\n",
      "(102, 104)\n",
      "(101, 103)\n",
      "(103, 103)\n",
      "(103, 102)\n",
      "(103, 104)\n",
      "(102, 103)\n",
      "(104, 103)\n",
      "(100, 105)\n",
      "(99, 104)\n",
      "(101, 104)\n",
      "(100, 106)\n",
      "(99, 105)\n",
      "(101, 105)\n",
      "(100, 107)\n",
      "(99, 106)\n",
      "(101, 106)\n",
      "(101, 105)\n",
      "(101, 104)\n",
      "(101, 103)\n",
      "(101, 105)\n",
      "(100, 104)\n",
      "(102, 104)\n",
      "(101, 106)\n",
      "(100, 105)\n",
      "(102, 105)\n",
      "(101, 107)\n",
      "(100, 106)\n",
      "(102, 106)\n",
      "(100, 108)\n",
      "(99, 107)\n",
      "(101, 107)\n",
      "(99, 109)\n",
      "(99, 108)\n",
      "(99, 110)\n",
      "(99, 109)\n",
      "(99, 111)\n",
      "(99, 110)\n",
      "(99, 112)\n",
      "(98, 111)\n",
      "(100, 111)\n",
      "(98, 110)\n",
      "(98, 109)\n",
      "(98, 111)\n",
      "(98, 110)\n",
      "(98, 112)\n",
      "(98, 111)\n",
      "(98, 113)\n",
      "(97, 112)\n",
      "(99, 112)\n",
      "(97, 111)\n",
      "(97, 110)\n",
      "(97, 109)\n",
      "(97, 111)\n",
      "(96, 110)\n",
      "(98, 110)\n",
      "(97, 112)\n",
      "(97, 111)\n",
      "(97, 113)\n",
      "(96, 112)\n",
      "(96, 111)\n",
      "(96, 113)\n",
      "(96, 112)\n",
      "(96, 114)\n",
      "(95, 113)\n",
      "(95, 112)\n",
      "(95, 114)\n",
      "(94, 113)\n",
      "(96, 113)\n",
      "(97, 113)\n",
      "(95, 112)\n",
      "(95, 111)\n",
      "(95, 110)\n",
      "(95, 112)\n",
      "(94, 111)\n",
      "(96, 111)\n",
      "(95, 113)\n",
      "(94, 112)\n",
      "(94, 111)\n",
      "(94, 110)\n",
      "(94, 109)\n",
      "(94, 111)\n",
      "(93, 110)\n",
      "(93, 109)\n",
      "(93, 111)\n",
      "(93, 110)\n",
      "(93, 112)\n",
      "(93, 111)\n",
      "(93, 113)\n",
      "(92, 112)\n",
      "(94, 112)\n",
      "(92, 111)\n",
      "(92, 110)\n",
      "(92, 112)\n",
      "(92, 111)\n",
      "(92, 113)\n",
      "(91, 112)\n",
      "(93, 112)\n",
      "(91, 111)\n",
      "(91, 110)\n",
      "(91, 112)\n",
      "(90, 111)\n",
      "(90, 110)\n",
      "(90, 109)\n",
      "(90, 111)\n",
      "(89, 110)\n",
      "(91, 110)\n",
      "(91, 109)\n",
      "(91, 111)\n",
      "(90, 110)\n"
     ]
    },
    {
     "name": "stdout",
     "output_type": "stream",
     "text": [
      "(92, 110)\n",
      "(92, 109)\n",
      "(92, 108)\n",
      "(92, 107)\n",
      "(92, 106)\n",
      "(92, 105)\n",
      "(92, 104)\n",
      "(92, 106)\n",
      "(91, 105)\n",
      "(93, 105)\n",
      "(92, 107)\n",
      "(91, 106)\n",
      "(93, 106)\n",
      "(92, 108)\n",
      "(91, 107)\n",
      "(93, 107)\n",
      "(93, 106)\n",
      "(93, 105)\n",
      "(93, 104)\n",
      "(93, 106)\n",
      "(92, 105)\n",
      "(94, 105)\n",
      "(93, 107)\n",
      "(92, 106)\n",
      "(94, 106)\n",
      "(93, 108)\n",
      "(92, 107)\n",
      "(94, 107)\n",
      "(94, 106)\n",
      "(94, 108)\n",
      "(94, 107)\n",
      "(94, 109)\n",
      "(94, 108)\n",
      "(94, 110)\n",
      "(93, 109)\n",
      "(93, 108)\n",
      "(93, 107)\n",
      "(93, 109)\n",
      "(92, 108)\n",
      "(94, 108)\n",
      "(93, 110)\n",
      "(92, 109)\n",
      "(94, 109)\n",
      "(95, 109)\n",
      "(93, 108)\n",
      "(95, 108)\n",
      "(93, 107)\n",
      "(95, 107)\n",
      "(95, 106)\n",
      "(95, 105)\n",
      "(95, 107)\n",
      "(94, 106)\n",
      "(96, 106)\n",
      "(96, 105)\n",
      "(96, 107)\n",
      "(96, 106)\n",
      "(96, 108)\n",
      "(95, 107)\n",
      "(97, 107)\n",
      "(95, 106)\n",
      "(97, 106)\n",
      "(97, 105)\n",
      "(97, 107)\n",
      "(96, 106)\n",
      "(98, 106)\n",
      "(98, 105)\n",
      "(98, 104)\n",
      "(98, 106)\n",
      "(97, 105)\n",
      "(99, 105)\n",
      "(98, 107)\n",
      "(97, 106)\n",
      "(99, 106)\n",
      "(95, 108)\n",
      "(95, 107)\n",
      "(95, 109)\n",
      "(94, 108)\n",
      "(96, 108)\n",
      "(96, 107)\n",
      "(96, 109)\n",
      "(96, 108)\n",
      "(96, 110)\n",
      "(96, 109)\n",
      "(96, 111)\n",
      "(96, 110)\n",
      "(96, 112)\n",
      "(95, 111)\n",
      "(97, 111)\n",
      "(95, 110)\n",
      "(95, 109)\n",
      "(95, 108)\n",
      "(95, 110)\n",
      "(94, 109)\n",
      "(96, 109)\n",
      "(95, 111)\n",
      "(94, 110)\n",
      "(96, 110)\n",
      "(97, 110)\n",
      "(95, 109)\n",
      "(97, 109)\n",
      "(97, 108)\n",
      "(97, 110)\n",
      "(96, 109)\n",
      "(98, 109)\n",
      "(95, 108)\n",
      "(97, 108)\n",
      "(97, 107)\n",
      "(97, 109)\n",
      "(96, 108)\n",
      "(98, 108)\n",
      "(94, 107)\n",
      "(96, 107)\n",
      "(92, 109)\n",
      "(91, 108)\n",
      "(93, 108)\n",
      "(92, 110)\n",
      "(91, 109)\n",
      "(91, 108)\n",
      "(91, 107)\n",
      "(91, 106)\n",
      "(91, 105)\n",
      "(91, 107)\n",
      "(90, 106)\n",
      "(92, 106)\n",
      "(91, 108)\n",
      "(90, 107)\n",
      "(92, 107)\n",
      "(91, 109)\n",
      "(90, 108)\n",
      "(90, 107)\n",
      "(90, 106)\n",
      "(90, 105)\n",
      "(90, 107)\n",
      "(89, 106)\n",
      "(89, 105)\n",
      "(89, 107)\n",
      "(88, 106)\n",
      "(90, 106)\n",
      "(91, 106)\n",
      "(90, 108)\n",
      "(89, 107)\n",
      "(89, 106)\n",
      "(89, 108)\n",
      "(89, 107)\n",
      "(89, 109)\n",
      "(89, 108)\n",
      "(89, 110)\n",
      "(89, 109)\n",
      "(89, 111)\n",
      "(88, 110)\n",
      "(90, 110)\n",
      "(88, 109)\n",
      "(88, 108)\n",
      "(88, 107)\n",
      "(88, 109)\n",
      "(87, 108)\n",
      "(87, 107)\n",
      "(87, 109)\n",
      "(86, 108)\n",
      "(88, 108)\n",
      "(89, 108)\n",
      "(88, 110)\n",
      "(88, 109)\n",
      "(88, 111)\n",
      "(87, 110)\n",
      "(89, 110)\n",
      "(87, 109)\n",
      "(89, 109)\n",
      "(90, 109)\n",
      "(88, 108)\n",
      "(90, 108)\n",
      "(88, 107)\n",
      "(90, 107)\n",
      "(91, 107)\n",
      "(90, 109)\n",
      "(90, 108)\n",
      "(90, 110)\n",
      "(89, 109)\n",
      "(91, 109)\n",
      "(89, 108)\n",
      "(91, 108)\n",
      "(92, 108)\n",
      "(91, 110)\n",
      "(90, 109)\n",
      "(92, 109)\n",
      "(93, 109)\n",
      "(92, 111)\n",
      "(91, 110)\n",
      "(93, 110)\n",
      "(90, 112)\n",
      "(90, 111)\n",
      "(90, 113)\n",
      "(89, 112)\n",
      "(89, 111)\n",
      "(89, 110)\n",
      "(89, 112)\n",
      "(88, 111)\n",
      "(90, 111)\n",
      "(89, 113)\n",
      "(88, 112)\n",
      "(88, 111)\n",
      "(88, 113)\n",
      "(87, 112)\n",
      "(89, 112)\n",
      "(90, 112)\n",
      "(91, 112)\n",
      "(89, 111)\n",
      "(91, 111)\n",
      "(92, 111)\n",
      "(93, 111)\n",
      "(94, 111)\n",
      "(92, 110)\n",
      "(94, 110)\n",
      "(95, 110)\n",
      "(94, 112)\n",
      "(93, 111)\n",
      "(95, 111)\n",
      "(94, 113)\n",
      "(93, 112)\n",
      "(95, 112)\n",
      "(96, 112)\n",
      "(97, 112)\n",
      "(98, 112)\n",
      "(96, 111)\n",
      "(98, 111)\n",
      "(99, 111)\n",
      "(97, 110)\n",
      "(99, 110)\n",
      "(100, 110)\n",
      "(100, 109)\n",
      "(100, 111)\n",
      "(99, 110)\n",
      "(101, 110)\n",
      "(98, 109)\n",
      "(98, 108)\n",
      "(98, 107)\n",
      "(98, 109)\n",
      "(97, 108)\n",
      "(99, 108)\n",
      "(98, 110)\n",
      "(97, 109)\n",
      "(99, 109)\n",
      "(100, 109)\n",
      "(98, 108)\n",
      "(100, 108)\n",
      "(101, 108)\n",
      "(101, 107)\n",
      "(101, 109)\n",
      "(100, 108)\n",
      "(102, 108)\n",
      "(100, 110)\n",
      "(99, 109)\n",
      "(101, 109)\n",
      "(102, 109)\n",
      "(103, 109)\n",
      "(102, 111)\n",
      "(102, 110)\n",
      "(102, 112)\n",
      "(101, 111)\n",
      "(103, 111)\n",
      "(101, 110)\n",
      "(103, 110)\n",
      "(104, 110)\n",
      "(102, 109)\n",
      "(104, 109)\n",
      "(102, 108)\n",
      "(102, 107)\n",
      "(102, 106)\n",
      "(102, 105)\n",
      "(102, 107)\n",
      "(101, 106)\n",
      "(103, 106)\n",
      "(102, 108)\n",
      "(101, 107)\n",
      "(101, 106)\n",
      "(101, 108)\n",
      "(100, 107)\n",
      "(102, 107)\n",
      "(103, 107)\n",
      "(102, 109)\n",
      "(101, 108)\n",
      "(103, 108)\n",
      "(104, 108)\n",
      "(105, 108)\n",
      "(106, 108)\n",
      "(104, 107)\n",
      "(104, 106)\n",
      "(104, 108)\n",
      "(103, 107)\n",
      "(105, 107)\n",
      "(106, 107)\n",
      "(107, 107)\n",
      "(108, 107)\n",
      "(109, 107)\n",
      "(110, 107)\n",
      "(111, 107)\n",
      "(112, 107)\n",
      "(110, 106)\n",
      "(112, 106)\n",
      "(112, 105)\n",
      "(112, 104)\n",
      "(112, 103)\n",
      "(112, 105)\n",
      "(111, 104)\n",
      "(111, 103)\n",
      "(111, 102)\n",
      "(111, 101)\n",
      "(111, 100)\n",
      "(111, 102)\n",
      "(110, 101)\n",
      "(110, 100)\n",
      "(110, 99)\n",
      "(110, 101)\n",
      "(109, 100)\n",
      "(111, 100)\n",
      "(111, 99)\n",
      "(111, 101)\n",
      "(110, 100)\n",
      "(112, 100)\n",
      "(110, 102)\n",
      "(110, 101)\n",
      "(110, 103)\n",
      "(110, 102)\n",
      "(110, 104)\n",
      "(109, 103)\n",
      "(111, 103)\n",
      "(109, 102)\n",
      "(109, 101)\n",
      "(109, 100)\n",
      "(109, 99)\n",
      "(109, 98)\n",
      "(109, 100)\n",
      "(108, 99)\n",
      "(110, 99)\n",
      "(110, 98)\n",
      "(110, 100)\n",
      "(109, 99)\n",
      "(111, 99)\n",
      "(111, 98)\n",
      "(111, 100)\n",
      "(110, 99)\n",
      "(112, 99)\n",
      "(112, 98)\n",
      "(112, 100)\n",
      "(112, 99)\n",
      "(112, 101)\n",
      "(112, 100)\n",
      "(112, 102)\n",
      "(111, 101)\n",
      "(113, 101)\n",
      "(111, 100)\n",
      "(113, 100)\n",
      "(111, 99)\n",
      "(113, 99)\n",
      "(109, 101)\n",
      "(108, 100)\n",
      "(110, 100)\n",
      "(109, 102)\n",
      "(108, 101)\n",
      "(110, 101)\n",
      "(109, 103)\n",
      "(109, 102)\n",
      "(109, 104)\n",
      "(108, 103)\n",
      "(110, 103)\n",
      "(108, 102)\n",
      "(110, 102)\n",
      "(111, 102)\n",
      "(109, 101)\n",
      "(111, 101)\n",
      "(112, 101)\n",
      "(111, 103)\n",
      "(110, 102)\n",
      "(112, 102)\n",
      "(112, 101)\n",
      "(112, 103)\n",
      "(112, 102)\n",
      "(112, 104)\n",
      "(111, 103)\n",
      "(113, 103)\n",
      "(113, 102)\n",
      "(113, 104)\n",
      "(113, 103)\n",
      "(113, 105)\n",
      "(112, 104)\n",
      "(114, 104)\n",
      "(112, 103)\n",
      "(114, 103)\n",
      "(111, 102)\n",
      "(113, 102)\n",
      "(111, 104)\n",
      "(110, 103)\n",
      "(112, 103)\n",
      "(111, 105)\n",
      "(110, 104)\n",
      "(110, 103)\n",
      "(110, 105)\n",
      "(109, 104)\n",
      "(111, 104)\n",
      "(112, 104)\n",
      "(113, 104)\n",
      "(112, 106)\n",
      "(111, 105)\n",
      "(111, 104)\n",
      "(111, 106)\n",
      "(110, 105)\n",
      "(110, 104)\n",
      "(110, 106)\n",
      "(109, 105)\n",
      "(111, 105)\n",
      "(112, 105)\n",
      "(113, 105)\n",
      "(113, 104)\n",
      "(113, 106)\n",
      "(113, 105)\n",
      "(113, 107)\n",
      "(113, 106)\n",
      "(113, 108)\n",
      "(113, 107)\n",
      "(113, 109)\n",
      "(112, 108)\n",
      "(114, 108)\n",
      "(112, 107)\n",
      "(112, 106)\n",
      "(112, 108)\n",
      "(112, 107)\n",
      "(112, 109)\n",
      "(111, 108)\n",
      "(113, 108)\n",
      "(111, 107)\n",
      "(113, 107)\n",
      "(114, 107)\n",
      "(112, 106)\n",
      "(114, 106)\n",
      "(114, 105)\n",
      "(114, 104)\n",
      "(114, 106)\n",
      "(113, 105)\n",
      "(115, 105)\n",
      "(115, 104)\n",
      "(115, 103)\n",
      "(115, 102)\n",
      "(115, 101)\n",
      "(115, 103)\n",
      "(114, 102)\n",
      "(114, 101)\n",
      "(114, 103)\n",
      "(114, 102)\n",
      "(114, 104)\n",
      "(113, 103)\n",
      "(115, 103)\n",
      "(113, 102)\n",
      "(115, 102)\n",
      "(116, 102)\n",
      "(115, 104)\n",
      "(114, 103)\n",
      "(116, 103)\n",
      "(115, 105)\n",
      "(114, 104)\n",
      "(114, 103)\n",
      "(114, 105)\n",
      "(113, 104)\n",
      "(115, 104)\n",
      "(116, 104)\n",
      "(115, 106)\n",
      "(114, 105)\n",
      "(116, 105)\n",
      "(114, 107)\n",
      "(114, 106)\n",
      "(114, 108)\n",
      "(113, 107)\n",
      "(115, 107)\n",
      "(115, 106)\n",
      "(115, 108)\n",
      "(115, 107)\n",
      "(115, 109)\n",
      "(115, 108)\n",
      "(115, 110)\n",
      "(115, 109)\n",
      "(115, 111)\n",
      "(114, 110)\n",
      "(114, 109)\n",
      "(114, 111)\n",
      "(114, 110)\n",
      "(114, 112)\n",
      "(113, 111)\n",
      "(113, 110)\n",
      "(113, 109)\n",
      "(113, 111)\n",
      "(112, 110)\n",
      "(114, 110)\n",
      "(113, 112)\n",
      "(113, 111)\n",
      "(113, 113)\n",
      "(113, 112)\n",
      "(113, 114)\n",
      "(112, 113)\n",
      "(114, 113)\n",
      "(112, 112)\n",
      "(114, 112)\n",
      "(114, 111)\n",
      "(114, 113)\n",
      "(113, 112)\n",
      "(115, 112)\n",
      "(115, 111)\n",
      "(115, 113)\n",
      "(115, 112)\n",
      "(115, 114)\n",
      "(114, 113)\n",
      "(116, 113)\n",
      "(116, 112)\n",
      "(116, 114)\n",
      "(116, 113)\n",
      "(116, 115)\n",
      "(116, 114)\n",
      "(116, 116)\n",
      "(116, 115)\n",
      "(116, 117)\n",
      "(115, 116)\n",
      "(117, 116)\n",
      "(115, 115)\n",
      "(117, 115)\n",
      "(115, 114)\n",
      "(115, 113)\n",
      "(115, 115)\n",
      "(115, 114)\n",
      "(115, 116)\n",
      "(114, 115)\n",
      "(116, 115)\n",
      "(114, 114)\n",
      "(114, 113)\n",
      "(114, 112)\n",
      "(114, 114)\n",
      "(113, 113)\n",
      "(115, 113)\n",
      "(114, 115)\n",
      "(113, 114)\n",
      "(113, 113)\n",
      "(113, 115)\n",
      "(113, 114)\n",
      "(113, 116)\n",
      "(112, 115)\n",
      "(114, 115)\n",
      "(112, 114)\n",
      "(112, 113)\n",
      "(112, 112)\n",
      "(112, 111)\n",
      "(112, 113)\n",
      "(111, 112)\n",
      "(113, 112)\n",
      "(112, 114)\n",
      "(111, 113)\n",
      "(113, 113)\n",
      "(112, 115)\n",
      "(111, 114)\n",
      "(113, 114)\n",
      "(114, 114)\n",
      "(115, 114)\n",
      "(116, 114)\n",
      "(117, 114)\n",
      "(115, 113)\n",
      "(117, 113)\n",
      "(114, 112)\n",
      "(116, 112)\n",
      "(112, 111)\n",
      "(112, 110)\n",
      "(112, 109)\n",
      "(112, 111)\n",
      "(111, 110)\n",
      "(113, 110)\n",
      "(112, 112)\n",
      "(111, 111)\n",
      "(113, 111)\n",
      "(114, 111)\n",
      "(115, 111)\n",
      "(115, 110)\n",
      "(115, 112)\n",
      "(114, 111)\n",
      "(116, 111)\n",
      "(116, 110)\n",
      "(116, 109)\n",
      "(116, 111)\n",
      "(115, 110)\n",
      "(117, 110)\n",
      "(116, 112)\n",
      "(116, 111)\n",
      "(116, 113)\n",
      "(115, 112)\n",
      "(117, 112)\n",
      "(117, 111)\n",
      "(117, 110)\n",
      "(117, 112)\n",
      "(116, 111)\n",
      "(118, 111)\n",
      "(117, 113)\n",
      "(116, 112)\n",
      "(118, 112)\n",
      "(115, 111)\n",
      "(117, 111)\n",
      "(113, 110)\n",
      "(115, 110)\n",
      "(116, 110)\n",
      "(114, 109)\n",
      "(114, 108)\n",
      "(114, 110)\n",
      "(113, 109)\n",
      "(113, 108)\n",
      "(113, 110)\n",
      "(112, 109)\n",
      "(114, 109)\n",
      "(115, 109)\n",
      "(116, 109)\n",
      "(114, 108)\n",
      "(114, 107)\n",
      "(114, 109)\n",
      "(113, 108)\n",
      "(115, 108)\n",
      "(116, 108)\n",
      "(116, 107)\n",
      "(116, 109)\n",
      "(115, 108)\n",
      "(117, 108)\n",
      "(114, 107)\n",
      "(116, 107)\n",
      "(113, 106)\n",
      "(115, 106)\n",
      "(115, 105)\n",
      "(115, 107)\n",
      "(114, 106)\n",
      "(116, 106)\n",
      "(112, 105)\n",
      "(114, 105)\n",
      "(112, 107)\n",
      "(111, 106)\n",
      "(113, 106)\n",
      "(108, 105)\n",
      "(110, 105)\n",
      "(108, 104)\n",
      "(110, 104)\n",
      "(107, 103)\n",
      "(109, 103)\n",
      "(105, 102)\n",
      "(105, 101)\n",
      "(105, 103)\n",
      "(104, 102)\n",
      "(106, 102)\n",
      "(107, 102)\n",
      "(108, 102)\n",
      "(108, 101)\n",
      "(108, 103)\n",
      "(107, 102)\n",
      "(107, 101)\n",
      "(107, 103)\n",
      "(106, 102)\n",
      "(106, 101)\n",
      "(106, 100)\n",
      "(106, 102)\n",
      "(105, 101)\n",
      "(105, 100)\n",
      "(105, 102)\n",
      "(104, 101)\n",
      "(106, 101)\n",
      "(107, 101)\n",
      "(107, 100)\n",
      "(107, 102)\n",
      "(106, 101)\n",
      "(108, 101)\n",
      "(108, 100)\n",
      "(108, 102)\n",
      "(107, 101)\n",
      "(109, 101)\n",
      "(106, 103)\n",
      "(106, 102)\n",
      "(106, 104)\n",
      "(106, 103)\n",
      "(106, 105)\n",
      "(106, 104)\n",
      "(106, 106)\n",
      "(105, 105)\n",
      "(105, 104)\n",
      "(105, 106)\n",
      "(104, 105)\n",
      "(104, 104)\n",
      "(104, 106)\n",
      "(103, 105)\n",
      "(103, 104)\n",
      "(103, 103)\n",
      "(103, 105)\n",
      "(102, 104)\n",
      "(102, 103)\n",
      "(102, 105)\n",
      "(101, 104)\n",
      "(103, 104)\n",
      "(104, 104)\n",
      "(103, 106)\n",
      "(102, 105)\n",
      "(102, 104)\n",
      "(102, 106)\n",
      "(101, 105)\n",
      "(103, 105)\n",
      "(104, 105)\n",
      "(105, 105)\n",
      "(106, 105)\n",
      "(107, 105)\n",
      "(107, 104)\n",
      "(107, 103)\n",
      "(107, 105)\n",
      "(106, 104)\n",
      "(108, 104)\n",
      "(107, 106)\n",
      "(106, 105)\n",
      "(108, 105)\n",
      "(105, 104)\n",
      "(105, 103)\n",
      "(105, 105)\n",
      "(104, 104)\n",
      "(104, 103)\n",
      "(104, 105)\n",
      "(103, 104)\n",
      "(105, 104)\n",
      "(106, 104)\n",
      "(107, 104)\n",
      "(105, 103)\n",
      "(107, 103)\n",
      "(107, 102)\n",
      "(107, 104)\n",
      "(106, 103)\n",
      "(108, 103)\n",
      "(108, 102)\n",
      "(108, 104)\n",
      "(108, 103)\n",
      "(108, 105)\n",
      "(107, 104)\n",
      "(109, 104)\n",
      "(109, 103)\n",
      "(109, 105)\n",
      "(109, 104)\n",
      "(109, 106)\n",
      "(109, 105)\n",
      "(109, 107)\n",
      "(108, 106)\n",
      "(108, 105)\n",
      "(108, 104)\n",
      "(108, 106)\n",
      "(107, 105)\n",
      "(109, 105)\n",
      "(108, 107)\n",
      "(107, 106)\n",
      "(107, 105)\n",
      "(107, 107)\n",
      "(106, 106)\n",
      "(108, 106)\n",
      "(109, 106)\n",
      "(110, 106)\n",
      "(110, 105)\n",
      "(110, 107)\n",
      "(109, 106)\n",
      "(111, 106)\n",
      "(111, 105)\n",
      "(111, 107)\n",
      "(111, 106)\n",
      "(111, 108)\n",
      "(111, 107)\n",
      "(111, 109)\n",
      "(110, 108)\n",
      "(112, 108)\n",
      "(110, 107)\n",
      "(110, 106)\n",
      "(110, 108)\n",
      "(110, 107)\n",
      "(110, 109)\n",
      "(109, 108)\n",
      "(111, 108)\n",
      "(109, 107)\n",
      "(109, 106)\n",
      "(109, 108)\n",
      "(108, 107)\n",
      "(108, 106)\n",
      "(108, 108)\n",
      "(108, 107)\n",
      "(108, 109)\n",
      "(107, 108)\n",
      "(107, 107)\n",
      "(107, 109)\n",
      "(107, 108)\n",
      "(107, 110)\n",
      "(106, 109)\n",
      "(108, 109)\n",
      "(108, 108)\n",
      "(108, 110)\n",
      "(108, 109)\n",
      "(108, 111)\n",
      "(108, 110)\n",
      "(108, 112)\n",
      "(107, 111)\n",
      "(109, 111)\n",
      "(107, 110)\n",
      "(107, 109)\n",
      "(107, 111)\n",
      "(106, 110)\n",
      "(108, 110)\n",
      "(109, 110)\n",
      "(109, 109)\n",
      "(109, 111)\n",
      "(109, 110)\n",
      "(109, 112)\n",
      "(109, 111)\n",
      "(109, 113)\n",
      "(108, 112)\n",
      "(110, 112)\n",
      "(110, 111)\n",
      "(110, 113)\n",
      "(109, 112)\n",
      "(111, 112)\n",
      "(108, 111)\n",
      "(110, 111)\n",
      "(108, 110)\n",
      "(110, 110)\n",
      "(110, 109)\n",
      "(110, 111)\n",
      "(109, 110)\n",
      "(111, 110)\n",
      "(111, 109)\n",
      "(111, 108)\n",
      "(111, 110)\n",
      "(110, 109)\n",
      "(110, 108)\n",
      "(110, 110)\n",
      "(109, 109)\n",
      "(109, 108)\n",
      "(109, 107)\n",
      "(109, 109)\n",
      "(108, 108)\n",
      "(110, 108)\n",
      "(109, 110)\n",
      "(108, 109)\n",
      "(110, 109)\n",
      "(111, 109)\n",
      "(112, 109)\n",
      "(112, 108)\n",
      "(112, 110)\n",
      "(111, 109)\n",
      "(113, 109)\n",
      "(111, 111)\n",
      "(111, 110)\n",
      "(111, 112)\n",
      "(111, 111)\n",
      "(111, 113)\n",
      "(110, 112)\n",
      "(112, 112)\n",
      "(110, 111)\n",
      "(110, 110)\n",
      "(110, 112)\n",
      "(109, 111)\n",
      "(111, 111)\n",
      "(112, 111)\n",
      "(110, 110)\n",
      "(112, 110)\n",
      "(107, 109)\n",
      "(109, 109)\n",
      "(106, 108)\n",
      "(108, 108)\n",
      "(109, 108)\n",
      "(107, 107)\n",
      "(107, 106)\n",
      "(107, 108)\n",
      "(106, 107)\n",
      "(106, 106)\n",
      "(106, 105)\n",
      "(106, 107)\n",
      "(105, 106)\n",
      "(107, 106)\n",
      "(106, 108)\n",
      "(106, 107)\n",
      "(106, 109)\n",
      "(106, 108)\n",
      "(106, 110)\n",
      "(106, 109)\n",
      "(106, 111)\n",
      "(106, 110)\n",
      "(106, 112)\n",
      "(105, 111)\n",
      "(107, 111)\n",
      "(107, 110)\n",
      "(107, 112)\n",
      "(106, 111)\n",
      "(108, 111)\n",
      "(105, 110)\n",
      "(107, 110)\n",
      "(105, 109)\n",
      "(105, 108)\n",
      "(105, 110)\n",
      "(104, 109)\n",
      "(106, 109)\n",
      "(107, 109)\n",
      "(105, 108)\n",
      "(107, 108)\n",
      "(105, 107)\n",
      "(105, 106)\n",
      "(105, 105)\n",
      "(105, 107)\n",
      "(104, 106)\n",
      "(104, 105)\n",
      "(104, 107)\n",
      "(103, 106)\n",
      "(105, 106)\n",
      "(106, 106)\n",
      "(105, 108)\n",
      "(105, 107)\n",
      "(105, 109)\n",
      "(104, 108)\n",
      "(104, 107)\n",
      "(104, 109)\n",
      "(103, 108)\n",
      "(103, 107)\n",
      "(103, 106)\n",
      "(103, 105)\n",
      "(103, 107)\n",
      "(102, 106)\n",
      "(104, 106)\n",
      "(103, 108)\n",
      "(102, 107)\n",
      "(104, 107)\n",
      "(103, 109)\n",
      "(103, 108)\n",
      "(103, 110)\n",
      "(103, 109)\n",
      "(103, 111)\n",
      "(102, 110)\n",
      "(102, 109)\n",
      "(102, 108)\n",
      "(102, 110)\n",
      "(101, 109)\n",
      "(101, 108)\n",
      "(101, 110)\n",
      "(101, 109)\n",
      "(101, 111)\n",
      "(101, 110)\n",
      "(101, 112)\n",
      "(100, 111)\n",
      "(100, 110)\n",
      "(100, 112)\n",
      "(100, 111)\n",
      "(100, 113)\n",
      "(100, 112)\n",
      "(100, 114)\n",
      "(100, 113)\n",
      "(100, 115)\n",
      "(100, 114)\n",
      "(100, 116)\n",
      "(99, 115)\n",
      "(99, 114)\n",
      "(99, 113)\n",
      "(99, 115)\n",
      "(98, 114)\n",
      "(100, 114)\n",
      "(99, 116)\n",
      "(98, 115)\n",
      "(100, 115)\n"
     ]
    },
    {
     "name": "stdout",
     "output_type": "stream",
     "text": [
      "(101, 115)\n",
      "(99, 114)\n",
      "(101, 114)\n",
      "(99, 113)\n",
      "(99, 112)\n",
      "(99, 111)\n",
      "(99, 113)\n",
      "(98, 112)\n",
      "(100, 112)\n",
      "(99, 114)\n",
      "(98, 113)\n",
      "(98, 112)\n",
      "(98, 114)\n",
      "(97, 113)\n",
      "(97, 112)\n",
      "(97, 114)\n",
      "(97, 113)\n",
      "(97, 115)\n",
      "(97, 114)\n",
      "(97, 116)\n",
      "(96, 115)\n",
      "(96, 114)\n",
      "(96, 113)\n",
      "(96, 115)\n",
      "(95, 114)\n",
      "(97, 114)\n",
      "(96, 116)\n",
      "(95, 115)\n",
      "(95, 114)\n",
      "(95, 116)\n",
      "(94, 115)\n",
      "(96, 115)\n",
      "(97, 115)\n",
      "(98, 115)\n",
      "(98, 114)\n",
      "(98, 116)\n",
      "(98, 115)\n",
      "(98, 117)\n",
      "(97, 116)\n",
      "(97, 115)\n",
      "(97, 117)\n",
      "(97, 116)\n",
      "(97, 118)\n",
      "(96, 117)\n",
      "(98, 117)\n",
      "(96, 116)\n",
      "(96, 115)\n",
      "(96, 117)\n",
      "(95, 116)\n",
      "(97, 116)\n",
      "(98, 116)\n",
      "(99, 116)\n",
      "(99, 115)\n",
      "(99, 117)\n",
      "(99, 116)\n",
      "(99, 118)\n",
      "(99, 117)\n",
      "(99, 119)\n",
      "(99, 118)\n",
      "(99, 120)\n",
      "(99, 119)\n",
      "(99, 121)\n",
      "(99, 120)\n",
      "(99, 122)\n",
      "(98, 121)\n",
      "(98, 120)\n",
      "(98, 119)\n",
      "(98, 118)\n",
      "(98, 120)\n",
      "(97, 119)\n",
      "(99, 119)\n",
      "(98, 121)\n",
      "(97, 120)\n",
      "(99, 120)\n",
      "(98, 122)\n",
      "(97, 121)\n",
      "(97, 120)\n",
      "(97, 119)\n",
      "(97, 121)\n",
      "(96, 120)\n",
      "(96, 119)\n",
      "(96, 118)\n",
      "(96, 120)\n",
      "(95, 119)\n",
      "(95, 118)\n",
      "(95, 117)\n",
      "(95, 116)\n",
      "(95, 115)\n",
      "(95, 117)\n",
      "(94, 116)\n",
      "(96, 116)\n",
      "(95, 118)\n",
      "(94, 117)\n",
      "(94, 116)\n",
      "(94, 115)\n",
      "(94, 114)\n",
      "(94, 116)\n",
      "(93, 115)\n",
      "(93, 114)\n",
      "(93, 113)\n",
      "(93, 112)\n",
      "(93, 114)\n",
      "(92, 113)\n",
      "(92, 112)\n",
      "(92, 114)\n",
      "(92, 113)\n",
      "(92, 115)\n",
      "(91, 114)\n",
      "(91, 113)\n",
      "(91, 115)\n",
      "(90, 114)\n",
      "(92, 114)\n",
      "(93, 114)\n",
      "(91, 113)\n",
      "(91, 112)\n",
      "(91, 111)\n",
      "(91, 113)\n",
      "(90, 112)\n",
      "(92, 112)\n",
      "(91, 114)\n",
      "(90, 113)\n",
      "(92, 113)\n",
      "(93, 113)\n",
      "(94, 113)\n",
      "(93, 115)\n",
      "(92, 114)\n",
      "(94, 114)\n",
      "(94, 113)\n",
      "(94, 112)\n",
      "(94, 114)\n",
      "(93, 113)\n",
      "(95, 113)\n",
      "(94, 115)\n",
      "(93, 114)\n",
      "(95, 114)\n",
      "(95, 113)\n",
      "(95, 115)\n",
      "(94, 114)\n",
      "(96, 114)\n",
      "(93, 116)\n",
      "(92, 115)\n",
      "(92, 114)\n",
      "(92, 116)\n",
      "(91, 115)\n",
      "(93, 115)\n",
      "(94, 115)\n",
      "(95, 115)\n",
      "(94, 117)\n",
      "(93, 116)\n",
      "(95, 116)\n",
      "(94, 118)\n",
      "(94, 117)\n",
      "(94, 119)\n",
      "(94, 118)\n",
      "(94, 120)\n",
      "(93, 119)\n",
      "(93, 118)\n",
      "(93, 117)\n",
      "(93, 116)\n",
      "(93, 118)\n",
      "(92, 117)\n",
      "(94, 117)\n",
      "(93, 119)\n",
      "(92, 118)\n",
      "(92, 117)\n",
      "(92, 116)\n",
      "(92, 115)\n",
      "(92, 117)\n",
      "(91, 116)\n",
      "(91, 115)\n",
      "(91, 117)\n",
      "(90, 116)\n",
      "(90, 115)\n",
      "(90, 114)\n",
      "(90, 113)\n",
      "(90, 112)\n",
      "(90, 114)\n",
      "(89, 113)\n",
      "(89, 112)\n",
      "(89, 114)\n",
      "(89, 113)\n",
      "(89, 115)\n",
      "(89, 114)\n",
      "(89, 116)\n",
      "(88, 115)\n",
      "(90, 115)\n",
      "(88, 114)\n",
      "(88, 113)\n",
      "(88, 112)\n",
      "(88, 114)\n",
      "(87, 113)\n",
      "(89, 113)\n",
      "(88, 115)\n",
      "(87, 114)\n",
      "(89, 114)\n",
      "(90, 114)\n",
      "(88, 113)\n",
      "(90, 113)\n",
      "(91, 113)\n",
      "(90, 115)\n",
      "(89, 114)\n",
      "(91, 114)\n",
      "(90, 116)\n",
      "(89, 115)\n",
      "(91, 115)\n",
      "(91, 114)\n",
      "(91, 116)\n",
      "(90, 115)\n",
      "(92, 115)\n",
      "(90, 117)\n",
      "(90, 116)\n",
      "(90, 118)\n",
      "(89, 117)\n",
      "(91, 117)\n",
      "(89, 116)\n",
      "(91, 116)\n",
      "(92, 116)\n",
      "(93, 116)\n",
      "(93, 115)\n",
      "(93, 117)\n",
      "(92, 116)\n",
      "(94, 116)\n",
      "(92, 118)\n",
      "(91, 117)\n",
      "(93, 117)\n",
      "(92, 119)\n",
      "(91, 118)\n",
      "(91, 117)\n",
      "(91, 116)\n",
      "(91, 118)\n",
      "(90, 117)\n",
      "(92, 117)\n",
      "(91, 119)\n",
      "(90, 118)\n",
      "(90, 117)\n",
      "(90, 119)\n",
      "(89, 118)\n",
      "(91, 118)\n",
      "(92, 118)\n",
      "(93, 118)\n",
      "(94, 118)\n",
      "(93, 120)\n",
      "(92, 119)\n",
      "(92, 118)\n",
      "(92, 120)\n",
      "(92, 119)\n",
      "(92, 121)\n",
      "(92, 120)\n",
      "(92, 122)\n",
      "(91, 121)\n",
      "(93, 121)\n",
      "(91, 120)\n",
      "(93, 120)\n",
      "(91, 119)\n",
      "(91, 118)\n",
      "(91, 120)\n",
      "(91, 119)\n",
      "(91, 121)\n",
      "(90, 120)\n",
      "(92, 120)\n",
      "(90, 119)\n",
      "(90, 118)\n",
      "(90, 120)\n",
      "(89, 119)\n",
      "(91, 119)\n",
      "(92, 119)\n",
      "(93, 119)\n",
      "(94, 119)\n",
      "(95, 119)\n",
      "(93, 118)\n",
      "(95, 118)\n",
      "(93, 117)\n",
      "(95, 117)\n",
      "(96, 117)\n",
      "(95, 119)\n",
      "(94, 118)\n",
      "(96, 118)\n",
      "(96, 117)\n",
      "(96, 116)\n",
      "(96, 118)\n",
      "(95, 117)\n",
      "(97, 117)\n",
      "(96, 119)\n",
      "(95, 118)\n",
      "(97, 118)\n",
      "(97, 117)\n",
      "(97, 119)\n",
      "(96, 118)\n",
      "(98, 118)\n",
      "(98, 117)\n",
      "(98, 119)\n",
      "(97, 118)\n",
      "(99, 118)\n",
      "(95, 120)\n",
      "(95, 119)\n",
      "(95, 121)\n",
      "(94, 120)\n",
      "(94, 119)\n",
      "(94, 121)\n",
      "(93, 120)\n",
      "(95, 120)\n",
      "(96, 120)\n",
      "(94, 119)\n",
      "(96, 119)\n",
      "(97, 119)\n",
      "(97, 118)\n",
      "(97, 120)\n",
      "(96, 119)\n",
      "(98, 119)\n",
      "(96, 121)\n",
      "(95, 120)\n",
      "(97, 120)\n",
      "(98, 120)\n",
      "(97, 122)\n",
      "(96, 121)\n",
      "(96, 120)\n",
      "(96, 122)\n",
      "(95, 121)\n",
      "(97, 121)\n",
      "(98, 121)\n",
      "(99, 121)\n",
      "(100, 121)\n",
      "(100, 120)\n",
      "(100, 119)\n",
      "(100, 118)\n",
      "(100, 117)\n",
      "(100, 116)\n",
      "(100, 115)\n",
      "(100, 117)\n",
      "(99, 116)\n",
      "(101, 116)\n",
      "(101, 115)\n",
      "(101, 114)\n",
      "(101, 116)\n",
      "(100, 115)\n",
      "(102, 115)\n",
      "(102, 114)\n",
      "(102, 113)\n",
      "(102, 115)\n",
      "(101, 114)\n",
      "(101, 113)\n",
      "(101, 115)\n",
      "(100, 114)\n",
      "(102, 114)\n",
      "(103, 114)\n",
      "(102, 116)\n",
      "(101, 115)\n",
      "(103, 115)\n",
      "(103, 114)\n",
      "(103, 113)\n",
      "(103, 112)\n",
      "(103, 114)\n",
      "(102, 113)\n",
      "(104, 113)\n",
      "(104, 112)\n",
      "(104, 111)\n",
      "(104, 113)\n",
      "(103, 112)\n",
      "(103, 111)\n",
      "(103, 110)\n",
      "(103, 112)\n",
      "(102, 111)\n",
      "(104, 111)\n",
      "(103, 113)\n",
      "(102, 112)\n",
      "(102, 111)\n",
      "(102, 113)\n",
      "(102, 112)\n",
      "(102, 114)\n",
      "(101, 113)\n",
      "(103, 113)\n",
      "(101, 112)\n",
      "(103, 112)\n",
      "(104, 112)\n",
      "(105, 112)\n",
      "(104, 114)\n",
      "(103, 113)\n",
      "(105, 113)\n",
      "(103, 115)\n",
      "(102, 114)\n",
      "(104, 114)\n",
      "(103, 116)\n",
      "(102, 115)\n",
      "(104, 115)\n",
      "(104, 114)\n",
      "(104, 116)\n",
      "(103, 115)\n",
      "(105, 115)\n",
      "(101, 117)\n",
      "(100, 116)\n",
      "(102, 116)\n",
      "(102, 115)\n",
      "(102, 117)\n",
      "(102, 116)\n",
      "(102, 118)\n",
      "(101, 117)\n",
      "(103, 117)\n",
      "(101, 116)\n",
      "(103, 116)\n",
      "(103, 115)\n",
      "(103, 117)\n",
      "(102, 116)\n",
      "(104, 116)\n",
      "(100, 118)\n",
      "(99, 117)\n",
      "(101, 117)\n",
      "(100, 119)\n",
      "(99, 118)\n",
      "(101, 118)\n",
      "(100, 120)\n",
      "(99, 119)\n",
      "(101, 119)\n",
      "(101, 118)\n",
      "(101, 117)\n",
      "(101, 116)\n",
      "(101, 118)\n",
      "(100, 117)\n",
      "(102, 117)\n",
      "(101, 119)\n",
      "(100, 118)\n",
      "(102, 118)\n",
      "(102, 117)\n",
      "(102, 119)\n",
      "(101, 118)\n",
      "(103, 118)\n",
      "(101, 120)\n",
      "(101, 119)\n",
      "(101, 121)\n",
      "(101, 120)\n",
      "(101, 122)\n",
      "(100, 121)\n",
      "(102, 121)\n",
      "(102, 120)\n",
      "(102, 122)\n",
      "(101, 121)\n",
      "(103, 121)\n",
      "(100, 120)\n",
      "(102, 120)\n",
      "(102, 119)\n",
      "(102, 121)\n",
      "(101, 120)\n",
      "(103, 120)\n",
      "(103, 119)\n",
      "(103, 118)\n",
      "(103, 117)\n",
      "(103, 119)\n",
      "(102, 118)\n",
      "(104, 118)\n",
      "(104, 117)\n",
      "(104, 116)\n",
      "(104, 115)\n",
      "(104, 117)\n",
      "(103, 116)\n",
      "(105, 116)\n",
      "(104, 118)\n",
      "(103, 117)\n",
      "(103, 116)\n",
      "(103, 118)\n",
      "(102, 117)\n",
      "(104, 117)\n",
      "(105, 117)\n",
      "(105, 116)\n",
      "(105, 115)\n",
      "(105, 114)\n",
      "(105, 116)\n",
      "(104, 115)\n",
      "(106, 115)\n",
      "(106, 114)\n",
      "(106, 113)\n",
      "(106, 112)\n",
      "(106, 111)\n",
      "(106, 113)\n",
      "(105, 112)\n",
      "(107, 112)\n",
      "(106, 114)\n",
      "(105, 113)\n",
      "(107, 113)\n",
      "(107, 112)\n",
      "(107, 114)\n",
      "(107, 113)\n",
      "(107, 115)\n",
      "(106, 114)\n",
      "(108, 114)\n",
      "(108, 113)\n",
      "(108, 115)\n",
      "(107, 114)\n",
      "(109, 114)\n",
      "(106, 113)\n",
      "(108, 113)\n",
      "(108, 112)\n",
      "(108, 111)\n",
      "(108, 113)\n",
      "(107, 112)\n",
      "(107, 111)\n",
      "(107, 113)\n",
      "(106, 112)\n",
      "(108, 112)\n",
      "(109, 112)\n",
      "(108, 114)\n",
      "(107, 113)\n",
      "(109, 113)\n",
      "(106, 115)\n",
      "(105, 114)\n",
      "(105, 113)\n",
      "(105, 112)\n",
      "(105, 111)\n",
      "(105, 110)\n",
      "(105, 109)\n",
      "(105, 111)\n",
      "(104, 110)\n",
      "(104, 109)\n",
      "(104, 108)\n",
      "(104, 110)\n",
      "(103, 109)\n",
      "(105, 109)\n",
      "(104, 111)\n",
      "(104, 110)\n",
      "(104, 112)\n",
      "(103, 111)\n",
      "(105, 111)\n",
      "(103, 110)\n",
      "(105, 110)\n",
      "(106, 110)\n",
      "(105, 112)\n",
      "(104, 111)\n",
      "(106, 111)\n",
      "(105, 113)\n",
      "(104, 112)\n",
      "(106, 112)\n",
      "(105, 114)\n",
      "(104, 113)\n",
      "(106, 113)\n",
      "(105, 115)\n",
      "(104, 114)\n",
      "(104, 113)\n",
      "(104, 115)\n",
      "(103, 114)\n",
      "(105, 114)\n",
      "(106, 114)\n",
      "(107, 114)\n",
      "(106, 116)\n",
      "(105, 115)\n",
      "(107, 115)\n",
      "(107, 114)\n",
      "(107, 116)\n",
      "(106, 115)\n",
      "(108, 115)\n",
      "(105, 117)\n",
      "(104, 116)\n",
      "(106, 116)\n",
      "(105, 118)\n",
      "(105, 117)\n",
      "(105, 119)\n",
      "(105, 118)\n",
      "(105, 120)\n",
      "(104, 119)\n",
      "(104, 118)\n",
      "(104, 120)\n",
      "(104, 119)\n",
      "(104, 121)\n",
      "(103, 120)\n",
      "(105, 120)\n",
      "(105, 119)\n",
      "(105, 121)\n",
      "(104, 120)\n",
      "(106, 120)\n",
      "(103, 119)\n",
      "(105, 119)\n",
      "(106, 119)\n",
      "(106, 118)\n",
      "(106, 117)\n",
      "(106, 116)\n",
      "(106, 118)\n",
      "(105, 117)\n",
      "(107, 117)\n",
      "(106, 119)\n",
      "(105, 118)\n",
      "(107, 118)\n",
      "(107, 117)\n",
      "(107, 116)\n",
      "(107, 115)\n",
      "(107, 117)\n",
      "(106, 116)\n",
      "(106, 115)\n",
      "(106, 117)\n",
      "(105, 116)\n",
      "(107, 116)\n",
      "(108, 116)\n",
      "(108, 115)\n",
      "(108, 117)\n",
      "(107, 116)\n",
      "(109, 116)\n",
      "(109, 115)\n",
      "(109, 114)\n",
      "(109, 113)\n",
      "(109, 112)\n",
      "(109, 114)\n",
      "(108, 113)\n",
      "(110, 113)\n",
      "(110, 112)\n",
      "(110, 114)\n",
      "(110, 113)\n",
      "(110, 115)\n",
      "(110, 114)\n",
      "(110, 116)\n",
      "(109, 115)\n",
      "(111, 115)\n",
      "(109, 114)\n",
      "(111, 114)\n",
      "(111, 113)\n",
      "(111, 112)\n",
      "(111, 114)\n",
      "(110, 113)\n",
      "(112, 113)\n",
      "(111, 115)\n",
      "(110, 114)\n",
      "(112, 114)\n",
      "(109, 113)\n",
      "(111, 113)\n",
      "(109, 115)\n",
      "(108, 114)\n",
      "(110, 114)\n",
      "(109, 116)\n",
      "(108, 115)\n",
      "(108, 114)\n",
      "(108, 116)\n",
      "(107, 115)\n",
      "(109, 115)\n",
      "(110, 115)\n",
      "(109, 117)\n",
      "(109, 116)\n",
      "(109, 118)\n",
      "(108, 117)\n",
      "(110, 117)\n",
      "(108, 116)\n",
      "(110, 116)\n",
      "(107, 118)\n",
      "(106, 117)\n",
      "(108, 117)\n",
      "(107, 119)\n",
      "(106, 118)\n",
      "(108, 118)\n",
      "(108, 117)\n",
      "(108, 116)\n",
      "(108, 118)\n",
      "(107, 117)\n",
      "(109, 117)\n",
      "(108, 119)\n",
      "(107, 118)\n",
      "(109, 118)\n",
      "(109, 117)\n",
      "(109, 119)\n",
      "(108, 118)\n",
      "(110, 118)\n",
      "(106, 120)\n",
      "(105, 119)\n",
      "(107, 119)\n",
      "(107, 118)\n",
      "(107, 120)\n",
      "(107, 119)\n",
      "(107, 121)\n",
      "(107, 120)\n",
      "(107, 122)\n",
      "(106, 121)\n",
      "(108, 121)\n",
      "(106, 120)\n",
      "(108, 120)\n",
      "(106, 119)\n",
      "(108, 119)\n",
      "(108, 118)\n",
      "(108, 120)\n",
      "(108, 119)\n",
      "(108, 121)\n",
      "(107, 120)\n",
      "(109, 120)\n",
      "(107, 119)\n",
      "(109, 119)\n",
      "(109, 118)\n",
      "(109, 120)\n",
      "(108, 119)\n",
      "(110, 119)\n",
      "(104, 118)\n",
      "(106, 118)\n",
      "(104, 117)\n",
      "(106, 117)\n",
      "(104, 119)\n",
      "(103, 118)\n",
      "(105, 118)\n",
      "(103, 120)\n",
      "(102, 119)\n",
      "(104, 119)\n",
      "(103, 121)\n",
      "(103, 120)\n",
      "(103, 122)\n",
      "(102, 121)\n",
      "(104, 121)\n",
      "(102, 120)\n",
      "(104, 120)\n",
      "(100, 119)\n",
      "(102, 119)\n",
      "(102, 118)\n",
      "(102, 120)\n",
      "(101, 119)\n",
      "(103, 119)\n",
      "(100, 121)\n",
      "(99, 120)\n",
      "(101, 120)\n",
      "(100, 122)\n",
      "(99, 121)\n",
      "(101, 121)\n",
      "(98, 120)\n",
      "(100, 120)\n",
      "(98, 119)\n",
      "(100, 119)\n",
      "(98, 118)\n",
      "(100, 118)\n",
      "(98, 117)\n",
      "(98, 116)\n",
      "(98, 118)\n",
      "(97, 117)\n",
      "(99, 117)\n",
      "(100, 117)\n",
      "(98, 116)\n",
      "(100, 116)\n",
      "(97, 115)\n",
      "(99, 115)\n",
      "(96, 114)\n",
      "(98, 114)\n",
      "(98, 113)\n",
      "(98, 115)\n",
      "(97, 114)\n",
      "(99, 114)\n",
      "(96, 113)\n",
      "(98, 113)\n",
      "(99, 113)\n",
      "(100, 113)\n",
      "(101, 113)\n",
      "(99, 112)\n",
      "(101, 112)\n",
      "(101, 111)\n",
      "(101, 113)\n",
      "(101, 112)\n",
      "(101, 114)\n",
      "(100, 113)\n",
      "(102, 113)\n",
      "(100, 112)\n",
      "(102, 112)\n",
      "(99, 111)\n",
      "(101, 111)\n",
      "(102, 111)\n",
      "(100, 110)\n",
      "(102, 110)\n",
      "(100, 109)\n",
      "(100, 108)\n",
      "(100, 107)\n",
      "(100, 109)\n",
      "(99, 108)\n",
      "(99, 107)\n",
      "(99, 106)\n",
      "(99, 108)\n",
      "(98, 107)\n",
      "(98, 106)\n",
      "(98, 108)\n",
      "(97, 107)\n",
      "(97, 106)\n",
      "(97, 108)\n",
      "(96, 107)\n",
      "(98, 107)\n",
      "(99, 107)\n",
      "(100, 107)\n",
      "(100, 106)\n",
      "(100, 108)\n",
      "(99, 107)\n",
      "(101, 107)\n",
      "(99, 109)\n",
      "(99, 108)\n",
      "(99, 110)\n",
      "(99, 109)\n",
      "(99, 111)\n",
      "(99, 110)\n",
      "(99, 112)\n",
      "(98, 111)\n",
      "(100, 111)\n",
      "(98, 110)\n",
      "(98, 109)\n",
      "(98, 111)\n",
      "(98, 110)\n",
      "(98, 112)\n",
      "(98, 111)\n",
      "(98, 113)\n",
      "(97, 112)\n",
      "(99, 112)\n",
      "(97, 111)\n",
      "(97, 110)\n",
      "(97, 109)\n",
      "(97, 111)\n",
      "(96, 110)\n",
      "(98, 110)\n",
      "(97, 112)\n",
      "(97, 111)\n",
      "(97, 113)\n",
      "(96, 112)\n",
      "(96, 111)\n",
      "(96, 113)\n",
      "(96, 112)\n",
      "(96, 114)\n",
      "(95, 113)\n",
      "(95, 112)\n",
      "(95, 114)\n",
      "(94, 113)\n",
      "(96, 113)\n",
      "(97, 113)\n",
      "(95, 112)\n",
      "(95, 111)\n",
      "(95, 110)\n",
      "(95, 112)\n",
      "(94, 111)\n",
      "(96, 111)\n",
      "(95, 113)\n",
      "(94, 112)\n",
      "(94, 111)\n",
      "(94, 110)\n",
      "(94, 109)\n",
      "(94, 111)\n",
      "(93, 110)\n",
      "(93, 109)\n",
      "(93, 111)\n",
      "(93, 110)\n",
      "(93, 112)\n",
      "(93, 111)\n",
      "(93, 113)\n",
      "(92, 112)\n",
      "(94, 112)\n",
      "(92, 111)\n",
      "(92, 110)\n",
      "(92, 112)\n",
      "(92, 111)\n",
      "(92, 113)\n",
      "(91, 112)\n",
      "(93, 112)\n",
      "(91, 111)\n",
      "(91, 110)\n",
      "(91, 112)\n",
      "(90, 111)\n",
      "(90, 110)\n",
      "(90, 109)\n",
      "(90, 111)\n",
      "(89, 110)\n",
      "(91, 110)\n",
      "(91, 109)\n",
      "(91, 111)\n",
      "(90, 110)\n",
      "(92, 110)\n",
      "(92, 109)\n",
      "(92, 108)\n",
      "(92, 107)\n",
      "(92, 106)\n",
      "(92, 105)\n",
      "(92, 107)\n",
      "(91, 106)\n",
      "(93, 106)\n",
      "(92, 108)\n",
      "(91, 107)\n",
      "(93, 107)\n",
      "(93, 106)\n",
      "(93, 108)\n",
      "(92, 107)\n",
      "(94, 107)\n",
      "(92, 109)\n",
      "(91, 108)\n",
      "(93, 108)\n",
      "(93, 107)\n",
      "(93, 109)\n",
      "(93, 108)\n",
      "(93, 110)\n",
      "(92, 109)\n",
      "(94, 109)\n",
      "(94, 108)\n",
      "(94, 107)\n",
      "(94, 106)\n",
      "(94, 105)\n",
      "(94, 104)\n",
      "(94, 106)\n",
      "(93, 105)\n",
      "(95, 105)\n",
      "(95, 104)\n",
      "(95, 103)\n",
      "(95, 105)\n",
      "(94, 104)\n",
      "(96, 104)\n",
      "(95, 106)\n",
      "(94, 105)\n",
      "(96, 105)\n",
      "(96, 104)\n",
      "(96, 106)\n",
      "(95, 105)\n",
      "(97, 105)\n",
      "(97, 104)\n",
      "(97, 103)\n",
      "(97, 102)\n",
      "(97, 104)\n",
      "(96, 103)\n",
      "(98, 103)\n",
      "(97, 105)\n",
      "(96, 104)\n",
      "(96, 103)\n",
      "(96, 102)\n",
      "(96, 104)\n",
      "(95, 103)\n",
      "(97, 103)\n",
      "(96, 105)\n",
      "(95, 104)\n",
      "(97, 104)\n",
      "(98, 104)\n",
      "(98, 103)\n",
      "(98, 105)\n",
      "(97, 104)\n",
      "(99, 104)\n",
      "(99, 103)\n",
      "(99, 102)\n",
      "(99, 104)\n",
      "(98, 103)\n",
      "(98, 102)\n",
      "(98, 104)\n",
      "(97, 103)\n",
      "(99, 103)\n",
      "(100, 103)\n",
      "(99, 105)\n",
      "(99, 104)\n",
      "(99, 106)\n",
      "(99, 105)\n",
      "(99, 107)\n",
      "(98, 106)\n",
      "(100, 106)\n",
      "(100, 105)\n",
      "(100, 107)\n",
      "(99, 106)\n",
      "(101, 106)\n",
      "(101, 105)\n",
      "(101, 107)\n",
      "(100, 106)\n",
      "(102, 106)\n",
      "(98, 105)\n",
      "(100, 105)\n",
      "(100, 104)\n",
      "(100, 106)\n",
      "(99, 105)\n",
      "(101, 105)\n",
      "(101, 104)\n",
      "(101, 106)\n",
      "(100, 105)\n",
      "(102, 105)\n",
      "(98, 104)\n",
      "(100, 104)\n",
      "(100, 103)\n",
      "(100, 102)\n",
      "(100, 104)\n",
      "(99, 103)\n",
      "(101, 103)\n",
      "(101, 102)\n",
      "(101, 101)\n",
      "(101, 103)\n",
      "(100, 102)\n",
      "(100, 101)\n",
      "(100, 103)\n",
      "(99, 102)\n",
      "(99, 101)\n",
      "(99, 103)\n",
      "(98, 102)\n",
      "(100, 102)\n",
      "(101, 102)\n",
      "(102, 102)\n",
      "(101, 104)\n",
      "(100, 103)\n",
      "(102, 103)\n",
      "(102, 102)\n",
      "(102, 101)\n",
      "(102, 103)\n",
      "(101, 102)\n",
      "(103, 102)\n",
      "(102, 104)\n",
      "(101, 103)\n",
      "(103, 103)\n",
      "(100, 105)\n",
      "(99, 104)\n",
      "(101, 104)\n",
      "(101, 103)\n",
      "(101, 105)\n",
      "(100, 104)\n",
      "(102, 104)\n",
      "(97, 106)\n",
      "(96, 105)\n",
      "(98, 105)\n",
      "(94, 107)\n",
      "(93, 106)\n",
      "(93, 105)\n",
      "(93, 107)\n",
      "(92, 106)\n",
      "(94, 106)\n",
      "(95, 106)\n",
      "(94, 108)\n",
      "(93, 107)\n",
      "(95, 107)\n",
      "(95, 106)\n",
      "(95, 105)\n",
      "(95, 107)\n",
      "(94, 106)\n",
      "(96, 106)\n",
      "(96, 105)\n",
      "(96, 107)\n",
      "(96, 106)\n",
      "(96, 108)\n",
      "(95, 107)\n",
      "(97, 107)\n",
      "(95, 106)\n",
      "(97, 106)\n",
      "(97, 105)\n",
      "(97, 107)\n",
      "(96, 106)\n",
      "(98, 106)\n",
      "(98, 105)\n",
      "(98, 104)\n",
      "(98, 106)\n",
      "(97, 105)\n",
      "(99, 105)\n",
      "(98, 107)\n",
      "(97, 106)\n",
      "(99, 106)\n",
      "(95, 108)\n",
      "(94, 107)\n",
      "(96, 107)\n",
      "(94, 109)\n",
      "(93, 108)\n",
      "(95, 108)\n",
      "(95, 107)\n",
      "(95, 109)\n",
      "(94, 108)\n",
      "(96, 108)\n",
      "(96, 107)\n",
      "(96, 109)\n",
      "(96, 108)\n",
      "(96, 110)\n",
      "(96, 109)\n",
      "(96, 111)\n",
      "(96, 110)\n",
      "(96, 112)\n",
      "(95, 111)\n",
      "(97, 111)\n",
      "(95, 110)\n",
      "(95, 109)\n",
      "(95, 111)\n",
      "(94, 110)\n",
      "(96, 110)\n",
      "(97, 110)\n",
      "(95, 109)\n",
      "(95, 108)\n",
      "(95, 110)\n",
      "(94, 109)\n",
      "(96, 109)\n",
      "(97, 109)\n",
      "(97, 108)\n",
      "(97, 110)\n",
      "(96, 109)\n",
      "(98, 109)\n",
      "(95, 108)\n",
      "(97, 108)\n",
      "(97, 107)\n",
      "(97, 109)\n",
      "(96, 108)\n",
      "(98, 108)\n",
      "(94, 110)\n",
      "(93, 109)\n",
      "(95, 109)\n",
      "(92, 108)\n",
      "(94, 108)\n",
      "(92, 110)\n",
      "(91, 109)\n",
      "(91, 108)\n",
      "(91, 107)\n",
      "(91, 106)\n",
      "(91, 108)\n",
      "(90, 107)\n",
      "(92, 107)\n",
      "(91, 109)\n",
      "(90, 108)\n",
      "(90, 107)\n",
      "(90, 106)\n",
      "(90, 108)\n",
      "(89, 107)\n",
      "(91, 107)\n",
      "(90, 109)\n",
      "(89, 108)\n",
      "(89, 107)\n",
      "(89, 109)\n",
      "(89, 108)\n",
      "(89, 110)\n",
      "(89, 109)\n",
      "(89, 111)\n",
      "(88, 110)\n",
      "(90, 110)\n",
      "(88, 109)\n",
      "(90, 109)\n",
      "(90, 108)\n",
      "(90, 110)\n",
      "(89, 109)\n",
      "(91, 109)\n",
      "(88, 108)\n",
      "(90, 108)\n",
      "(91, 108)\n",
      "(92, 108)\n",
      "(91, 110)\n",
      "(90, 109)\n",
      "(92, 109)\n",
      "(93, 109)\n",
      "(92, 111)\n",
      "(91, 110)\n",
      "(93, 110)\n",
      "(90, 112)\n",
      "(90, 111)\n",
      "(90, 113)\n",
      "(89, 112)\n",
      "(89, 111)\n",
      "(89, 113)\n",
      "(88, 112)\n",
      "(90, 112)\n",
      "(91, 112)\n",
      "(89, 111)\n",
      "(89, 110)\n",
      "(89, 112)\n",
      "(88, 111)\n",
      "(88, 110)\n",
      "(88, 112)\n",
      "(87, 111)\n",
      "(89, 111)\n",
      "(90, 111)\n",
      "(91, 111)\n",
      "(92, 111)\n",
      "(93, 111)\n",
      "(94, 111)\n",
      "(92, 110)\n",
      "(94, 110)\n",
      "(95, 110)\n",
      "(94, 112)\n",
      "(93, 111)\n",
      "(95, 111)\n",
      "(94, 113)\n",
      "(93, 112)\n",
      "(95, 112)\n",
      "(96, 112)\n",
      "(97, 112)\n",
      "(98, 112)\n",
      "(96, 111)\n",
      "(98, 111)\n",
      "(99, 111)\n",
      "(97, 110)\n",
      "(99, 110)\n",
      "(100, 110)\n",
      "(100, 109)\n",
      "(100, 111)\n",
      "(99, 110)\n",
      "(101, 110)\n",
      "(98, 109)\n",
      "(98, 108)\n",
      "(98, 107)\n",
      "(98, 109)\n",
      "(97, 108)\n",
      "(99, 108)\n",
      "(98, 110)\n",
      "(97, 109)\n",
      "(99, 109)\n",
      "(100, 109)\n",
      "(98, 108)\n",
      "(100, 108)\n",
      "(101, 108)\n",
      "(101, 107)\n",
      "(101, 109)\n",
      "(100, 108)\n",
      "(102, 108)\n",
      "(100, 110)\n",
      "(99, 109)\n",
      "(101, 109)\n",
      "(102, 109)\n",
      "(103, 109)\n",
      "(102, 111)\n",
      "(102, 110)\n",
      "(102, 112)\n",
      "(101, 111)\n",
      "(103, 111)\n",
      "(101, 110)\n",
      "(103, 110)\n",
      "(104, 110)\n",
      "(102, 109)\n",
      "(104, 109)\n",
      "(102, 108)\n",
      "(102, 107)\n",
      "(102, 106)\n",
      "(102, 105)\n",
      "(102, 107)\n",
      "(101, 106)\n",
      "(103, 106)\n",
      "(102, 108)\n",
      "(101, 107)\n",
      "(101, 106)\n",
      "(101, 108)\n",
      "(100, 107)\n",
      "(102, 107)\n",
      "(103, 107)\n",
      "(102, 109)\n",
      "(101, 108)\n",
      "(103, 108)\n",
      "(104, 108)\n",
      "(105, 108)\n",
      "(106, 108)\n",
      "(104, 107)\n",
      "(104, 106)\n",
      "(104, 108)\n",
      "(103, 107)\n",
      "(105, 107)\n",
      "(106, 107)\n",
      "(107, 107)\n",
      "(108, 107)\n",
      "(109, 107)\n",
      "(110, 107)\n",
      "(111, 107)\n",
      "(112, 107)\n",
      "(110, 106)\n",
      "(112, 106)\n",
      "(112, 105)\n",
      "(112, 104)\n",
      "(112, 103)\n",
      "(112, 105)\n",
      "(111, 104)\n",
      "(111, 103)\n",
      "(111, 102)\n",
      "(111, 101)\n",
      "(111, 100)\n",
      "(111, 102)\n",
      "(110, 101)\n",
      "(110, 100)\n",
      "(110, 99)\n",
      "(110, 101)\n",
      "(109, 100)\n",
      "(111, 100)\n",
      "(111, 99)\n",
      "(111, 101)\n",
      "(110, 100)\n",
      "(112, 100)\n",
      "(110, 102)\n",
      "(110, 101)\n",
      "(110, 103)\n",
      "(110, 102)\n",
      "(110, 104)\n",
      "(109, 103)\n",
      "(111, 103)\n",
      "(109, 102)\n",
      "(111, 102)\n",
      "(109, 101)\n",
      "(109, 100)\n",
      "(109, 102)\n",
      "(109, 101)\n",
      "(109, 103)\n",
      "(109, 102)\n",
      "(109, 104)\n",
      "(108, 103)\n",
      "(110, 103)\n",
      "(108, 102)\n",
      "(110, 102)\n",
      "(108, 101)\n",
      "(110, 101)\n",
      "(111, 101)\n",
      "(112, 101)\n",
      "(111, 103)\n",
      "(110, 102)\n",
      "(112, 102)\n",
      "(111, 104)\n",
      "(110, 103)\n",
      "(112, 103)\n",
      "(112, 102)\n",
      "(112, 104)\n",
      "(111, 103)\n",
      "(113, 103)\n",
      "(111, 105)\n",
      "(110, 104)\n",
      "(110, 103)\n",
      "(110, 105)\n",
      "(109, 104)\n",
      "(111, 104)\n",
      "(112, 104)\n",
      "(113, 104)\n",
      "(113, 103)\n",
      "(113, 102)\n",
      "(113, 101)\n",
      "(113, 100)\n",
      "(113, 99)\n",
      "(113, 98)\n",
      "(113, 97)\n",
      "(113, 99)\n",
      "(112, 98)\n",
      "(114, 98)\n",
      "(113, 100)\n",
      "(112, 99)\n",
      "(114, 99)\n",
      "(114, 98)\n",
      "(114, 100)\n",
      "(114, 99)\n",
      "(114, 101)\n",
      "(113, 100)\n",
      "(115, 100)\n",
      "(115, 99)\n",
      "(115, 98)\n",
      "(115, 100)\n",
      "(114, 99)\n",
      "(116, 99)\n",
      "(115, 101)\n",
      "(115, 100)\n",
      "(115, 102)\n",
      "(114, 101)\n",
      "(116, 101)\n",
      "(114, 100)\n",
      "(116, 100)\n",
      "(113, 99)\n",
      "(115, 99)\n",
      "(113, 101)\n",
      "(112, 100)\n",
      "(114, 100)\n",
      "(113, 102)\n",
      "(112, 101)\n",
      "(112, 100)\n",
      "(112, 99)\n",
      "(112, 101)\n",
      "(111, 100)\n",
      "(113, 100)\n",
      "(112, 102)\n",
      "(112, 101)\n",
      "(112, 103)\n",
      "(111, 102)\n",
      "(113, 102)\n",
      "(111, 101)\n",
      "(113, 101)\n",
      "(114, 101)\n",
      "(114, 100)\n",
      "(114, 102)\n",
      "(113, 101)\n",
      "(115, 101)\n",
      "(113, 103)\n",
      "(112, 102)\n",
      "(114, 102)\n",
      "(113, 104)\n",
      "(112, 103)\n",
      "(114, 103)\n",
      "(113, 105)\n",
      "(112, 104)\n",
      "(114, 104)\n",
      "(112, 106)\n",
      "(111, 105)\n",
      "(111, 104)\n",
      "(111, 106)\n",
      "(110, 105)\n",
      "(110, 104)\n",
      "(110, 106)\n",
      "(109, 105)\n",
      "(111, 105)\n",
      "(112, 105)\n",
      "(113, 105)\n",
      "(113, 104)\n",
      "(113, 106)\n",
      "(113, 105)\n",
      "(113, 107)\n",
      "(113, 106)\n",
      "(113, 108)\n",
      "(113, 107)\n",
      "(113, 109)\n",
      "(112, 108)\n",
      "(114, 108)\n",
      "(112, 107)\n",
      "(112, 106)\n",
      "(112, 108)\n",
      "(112, 107)\n",
      "(112, 109)\n",
      "(111, 108)\n",
      "(113, 108)\n",
      "(111, 107)\n",
      "(113, 107)\n",
      "(114, 107)\n",
      "(112, 106)\n",
      "(114, 106)\n",
      "(114, 105)\n",
      "(114, 104)\n",
      "(114, 106)\n",
      "(113, 105)\n",
      "(115, 105)\n",
      "(114, 107)\n",
      "(114, 106)\n",
      "(114, 108)\n",
      "(113, 107)\n",
      "(115, 107)\n",
      "(113, 106)\n",
      "(115, 106)\n",
      "(112, 105)\n",
      "(114, 105)\n",
      "(112, 107)\n",
      "(111, 106)\n",
      "(113, 106)\n",
      "(108, 105)\n",
      "(110, 105)\n",
      "(108, 104)\n",
      "(110, 104)\n",
      "(107, 103)\n",
      "(109, 103)\n",
      "(105, 102)\n",
      "(107, 102)\n",
      "(108, 102)\n",
      "(108, 101)\n",
      "(108, 103)\n",
      "(107, 102)\n",
      "(107, 101)\n",
      "(107, 103)\n",
      "(106, 102)\n",
      "(108, 102)\n",
      "(109, 102)\n",
      "(109, 102)\n",
      "(107, 102)\n"
     ]
    },
    {
     "ename": "KeyboardInterrupt",
     "evalue": "",
     "output_type": "error",
     "traceback": [
      "\u001b[0;31m---------------------------------------------------------------------------\u001b[0m",
      "\u001b[0;31mKeyboardInterrupt\u001b[0m                         Traceback (most recent call last)",
      "\u001b[0;32m<ipython-input-18-c45106deddcf>\u001b[0m in \u001b[0;36m<module>\u001b[0;34m\u001b[0m\n\u001b[1;32m     15\u001b[0m     \u001b[0;31m# plot your code here to plot the sandpile every 200 unit time\u001b[0m\u001b[0;34m\u001b[0m\u001b[0;34m\u001b[0m\u001b[0;34m\u001b[0m\u001b[0m\n\u001b[1;32m     16\u001b[0m \u001b[0;34m\u001b[0m\u001b[0m\n\u001b[0;32m---> 17\u001b[0;31m     \u001b[0msp\u001b[0m\u001b[0;34m.\u001b[0m\u001b[0mplot\u001b[0m\u001b[0;34m(\u001b[0m\u001b[0mt\u001b[0m\u001b[0;34m)\u001b[0m\u001b[0;34m\u001b[0m\u001b[0;34m\u001b[0m\u001b[0m\n\u001b[0m\u001b[1;32m     18\u001b[0m \u001b[0;34m\u001b[0m\u001b[0m\n\u001b[1;32m     19\u001b[0m \u001b[0msp\u001b[0m\u001b[0;34m\u001b[0m\u001b[0;34m\u001b[0m\u001b[0m\n",
      "\u001b[0;32m<ipython-input-16-20778004e063>\u001b[0m in \u001b[0;36mplot\u001b[0;34m(self, t)\u001b[0m\n\u001b[1;32m     65\u001b[0m         \u001b[0mplt\u001b[0m\u001b[0;34m.\u001b[0m\u001b[0mimshow\u001b[0m\u001b[0;34m(\u001b[0m\u001b[0mself\u001b[0m\u001b[0;34m.\u001b[0m\u001b[0mboard\u001b[0m\u001b[0;34m,\u001b[0m\u001b[0mcmap\u001b[0m\u001b[0;34m=\u001b[0m\u001b[0mcmap\u001b[0m\u001b[0;34m,\u001b[0m \u001b[0mnorm\u001b[0m\u001b[0;34m=\u001b[0m\u001b[0mnorm\u001b[0m\u001b[0;34m)\u001b[0m\u001b[0;34m\u001b[0m\u001b[0;34m\u001b[0m\u001b[0m\n\u001b[1;32m     66\u001b[0m         \u001b[0mplt\u001b[0m\u001b[0;34m.\u001b[0m\u001b[0mtitle\u001b[0m\u001b[0;34m(\u001b[0m\u001b[0;34m\"Sandpile, time=\"\u001b[0m \u001b[0;34m+\u001b[0m \u001b[0mstr\u001b[0m\u001b[0;34m(\u001b[0m\u001b[0mt\u001b[0m\u001b[0;34m)\u001b[0m\u001b[0;34m,\u001b[0m\u001b[0mfontsize\u001b[0m\u001b[0;34m=\u001b[0m\u001b[0;36m30\u001b[0m\u001b[0;34m)\u001b[0m\u001b[0;34m\u001b[0m\u001b[0;34m\u001b[0m\u001b[0m\n\u001b[0;32m---> 67\u001b[0;31m         \u001b[0mplt\u001b[0m\u001b[0;34m.\u001b[0m\u001b[0mcolorbar\u001b[0m\u001b[0;34m(\u001b[0m\u001b[0mshrink\u001b[0m\u001b[0;34m=\u001b[0m\u001b[0;36m0.7\u001b[0m\u001b[0;34m)\u001b[0m\u001b[0;34m\u001b[0m\u001b[0;34m\u001b[0m\u001b[0m\n\u001b[0m\u001b[1;32m     68\u001b[0m         \u001b[0mplt\u001b[0m\u001b[0;34m.\u001b[0m\u001b[0maxis\u001b[0m\u001b[0;34m(\u001b[0m\u001b[0;34m\"off\"\u001b[0m\u001b[0;34m)\u001b[0m\u001b[0;34m\u001b[0m\u001b[0;34m\u001b[0m\u001b[0m\n\u001b[1;32m     69\u001b[0m         \u001b[0;31m# This is the code that creates the animation\u001b[0m\u001b[0;34m\u001b[0m\u001b[0;34m\u001b[0m\u001b[0;34m\u001b[0m\u001b[0m\n",
      "\u001b[0;32m/opt/anaconda3/lib/python3.8/site-packages/matplotlib/pyplot.py\u001b[0m in \u001b[0;36mcolorbar\u001b[0;34m(mappable, cax, ax, **kw)\u001b[0m\n\u001b[1;32m   2192\u001b[0m     \u001b[0;32mif\u001b[0m \u001b[0max\u001b[0m \u001b[0;32mis\u001b[0m \u001b[0;32mNone\u001b[0m\u001b[0;34m:\u001b[0m\u001b[0;34m\u001b[0m\u001b[0;34m\u001b[0m\u001b[0m\n\u001b[1;32m   2193\u001b[0m         \u001b[0max\u001b[0m \u001b[0;34m=\u001b[0m \u001b[0mgca\u001b[0m\u001b[0;34m(\u001b[0m\u001b[0;34m)\u001b[0m\u001b[0;34m\u001b[0m\u001b[0;34m\u001b[0m\u001b[0m\n\u001b[0;32m-> 2194\u001b[0;31m     \u001b[0mret\u001b[0m \u001b[0;34m=\u001b[0m \u001b[0mgcf\u001b[0m\u001b[0;34m(\u001b[0m\u001b[0;34m)\u001b[0m\u001b[0;34m.\u001b[0m\u001b[0mcolorbar\u001b[0m\u001b[0;34m(\u001b[0m\u001b[0mmappable\u001b[0m\u001b[0;34m,\u001b[0m \u001b[0mcax\u001b[0m\u001b[0;34m=\u001b[0m\u001b[0mcax\u001b[0m\u001b[0;34m,\u001b[0m \u001b[0max\u001b[0m\u001b[0;34m=\u001b[0m\u001b[0max\u001b[0m\u001b[0;34m,\u001b[0m \u001b[0;34m**\u001b[0m\u001b[0mkw\u001b[0m\u001b[0;34m)\u001b[0m\u001b[0;34m\u001b[0m\u001b[0;34m\u001b[0m\u001b[0m\n\u001b[0m\u001b[1;32m   2195\u001b[0m     \u001b[0;32mreturn\u001b[0m \u001b[0mret\u001b[0m\u001b[0;34m\u001b[0m\u001b[0;34m\u001b[0m\u001b[0m\n\u001b[1;32m   2196\u001b[0m \u001b[0mcolorbar\u001b[0m\u001b[0;34m.\u001b[0m\u001b[0m__doc__\u001b[0m \u001b[0;34m=\u001b[0m \u001b[0mmatplotlib\u001b[0m\u001b[0;34m.\u001b[0m\u001b[0mcolorbar\u001b[0m\u001b[0;34m.\u001b[0m\u001b[0mcolorbar_doc\u001b[0m\u001b[0;34m\u001b[0m\u001b[0;34m\u001b[0m\u001b[0m\n",
      "\u001b[0;32m/opt/anaconda3/lib/python3.8/site-packages/matplotlib/figure.py\u001b[0m in \u001b[0;36mcolorbar\u001b[0;34m(self, mappable, cax, ax, use_gridspec, **kw)\u001b[0m\n\u001b[1;32m   2333\u001b[0m             \u001b[0;32mif\u001b[0m \u001b[0muse_gridspec\u001b[0m \u001b[0;32mand\u001b[0m \u001b[0misinstance\u001b[0m\u001b[0;34m(\u001b[0m\u001b[0max\u001b[0m\u001b[0;34m,\u001b[0m \u001b[0mSubplotBase\u001b[0m\u001b[0;34m)\u001b[0m\u001b[0;31m \u001b[0m\u001b[0;31m \u001b[0m\u001b[0;31m\\\u001b[0m\u001b[0;34m\u001b[0m\u001b[0;34m\u001b[0m\u001b[0m\n\u001b[1;32m   2334\u001b[0m                      \u001b[0;32mand\u001b[0m \u001b[0;34m(\u001b[0m\u001b[0;32mnot\u001b[0m \u001b[0mself\u001b[0m\u001b[0;34m.\u001b[0m\u001b[0mget_constrained_layout\u001b[0m\u001b[0;34m(\u001b[0m\u001b[0;34m)\u001b[0m\u001b[0;34m)\u001b[0m\u001b[0;34m:\u001b[0m\u001b[0;34m\u001b[0m\u001b[0;34m\u001b[0m\u001b[0m\n\u001b[0;32m-> 2335\u001b[0;31m                 \u001b[0mcax\u001b[0m\u001b[0;34m,\u001b[0m \u001b[0mkw\u001b[0m \u001b[0;34m=\u001b[0m \u001b[0mcbar\u001b[0m\u001b[0;34m.\u001b[0m\u001b[0mmake_axes_gridspec\u001b[0m\u001b[0;34m(\u001b[0m\u001b[0max\u001b[0m\u001b[0;34m,\u001b[0m \u001b[0;34m**\u001b[0m\u001b[0mkw\u001b[0m\u001b[0;34m)\u001b[0m\u001b[0;34m\u001b[0m\u001b[0;34m\u001b[0m\u001b[0m\n\u001b[0m\u001b[1;32m   2336\u001b[0m             \u001b[0;32melse\u001b[0m\u001b[0;34m:\u001b[0m\u001b[0;34m\u001b[0m\u001b[0;34m\u001b[0m\u001b[0m\n\u001b[1;32m   2337\u001b[0m                 \u001b[0mcax\u001b[0m\u001b[0;34m,\u001b[0m \u001b[0mkw\u001b[0m \u001b[0;34m=\u001b[0m \u001b[0mcbar\u001b[0m\u001b[0;34m.\u001b[0m\u001b[0mmake_axes\u001b[0m\u001b[0;34m(\u001b[0m\u001b[0max\u001b[0m\u001b[0;34m,\u001b[0m \u001b[0;34m**\u001b[0m\u001b[0mkw\u001b[0m\u001b[0;34m)\u001b[0m\u001b[0;34m\u001b[0m\u001b[0;34m\u001b[0m\u001b[0m\n",
      "\u001b[0;32m/opt/anaconda3/lib/python3.8/site-packages/matplotlib/colorbar.py\u001b[0m in \u001b[0;36mmake_axes_gridspec\u001b[0;34m(parent, fraction, shrink, aspect, **kw)\u001b[0m\n\u001b[1;32m   1632\u001b[0m \u001b[0;34m\u001b[0m\u001b[0m\n\u001b[1;32m   1633\u001b[0m     \u001b[0mfig\u001b[0m \u001b[0;34m=\u001b[0m \u001b[0mparent\u001b[0m\u001b[0;34m.\u001b[0m\u001b[0mget_figure\u001b[0m\u001b[0;34m(\u001b[0m\u001b[0;34m)\u001b[0m\u001b[0;34m\u001b[0m\u001b[0;34m\u001b[0m\u001b[0m\n\u001b[0;32m-> 1634\u001b[0;31m     \u001b[0mcax\u001b[0m \u001b[0;34m=\u001b[0m \u001b[0mfig\u001b[0m\u001b[0;34m.\u001b[0m\u001b[0madd_subplot\u001b[0m\u001b[0;34m(\u001b[0m\u001b[0mgs2\u001b[0m\u001b[0;34m[\u001b[0m\u001b[0;36m1\u001b[0m\u001b[0;34m]\u001b[0m\u001b[0;34m,\u001b[0m \u001b[0mlabel\u001b[0m\u001b[0;34m=\u001b[0m\u001b[0;34m\"<colorbar>\"\u001b[0m\u001b[0;34m)\u001b[0m\u001b[0;34m\u001b[0m\u001b[0;34m\u001b[0m\u001b[0m\n\u001b[0m\u001b[1;32m   1635\u001b[0m     \u001b[0mcax\u001b[0m\u001b[0;34m.\u001b[0m\u001b[0mset_aspect\u001b[0m\u001b[0;34m(\u001b[0m\u001b[0maspect\u001b[0m\u001b[0;34m,\u001b[0m \u001b[0manchor\u001b[0m\u001b[0;34m=\u001b[0m\u001b[0manchor\u001b[0m\u001b[0;34m,\u001b[0m \u001b[0madjustable\u001b[0m\u001b[0;34m=\u001b[0m\u001b[0;34m'box'\u001b[0m\u001b[0;34m)\u001b[0m\u001b[0;34m\u001b[0m\u001b[0;34m\u001b[0m\u001b[0m\n\u001b[1;32m   1636\u001b[0m     \u001b[0;32mreturn\u001b[0m \u001b[0mcax\u001b[0m\u001b[0;34m,\u001b[0m \u001b[0mkw\u001b[0m\u001b[0;34m\u001b[0m\u001b[0;34m\u001b[0m\u001b[0m\n",
      "\u001b[0;32m/opt/anaconda3/lib/python3.8/site-packages/matplotlib/figure.py\u001b[0m in \u001b[0;36madd_subplot\u001b[0;34m(self, *args, **kwargs)\u001b[0m\n\u001b[1;32m   1400\u001b[0m                     \u001b[0;31m# more similar to add_axes.\u001b[0m\u001b[0;34m\u001b[0m\u001b[0;34m\u001b[0m\u001b[0;34m\u001b[0m\u001b[0m\n\u001b[1;32m   1401\u001b[0m                     \u001b[0mself\u001b[0m\u001b[0;34m.\u001b[0m\u001b[0m_axstack\u001b[0m\u001b[0;34m.\u001b[0m\u001b[0mremove\u001b[0m\u001b[0;34m(\u001b[0m\u001b[0max\u001b[0m\u001b[0;34m)\u001b[0m\u001b[0;34m\u001b[0m\u001b[0;34m\u001b[0m\u001b[0m\n\u001b[0;32m-> 1402\u001b[0;31m             \u001b[0max\u001b[0m \u001b[0;34m=\u001b[0m \u001b[0msubplot_class_factory\u001b[0m\u001b[0;34m(\u001b[0m\u001b[0mprojection_class\u001b[0m\u001b[0;34m)\u001b[0m\u001b[0;34m(\u001b[0m\u001b[0mself\u001b[0m\u001b[0;34m,\u001b[0m \u001b[0;34m*\u001b[0m\u001b[0margs\u001b[0m\u001b[0;34m,\u001b[0m \u001b[0;34m**\u001b[0m\u001b[0mkwargs\u001b[0m\u001b[0;34m)\u001b[0m\u001b[0;34m\u001b[0m\u001b[0;34m\u001b[0m\u001b[0m\n\u001b[0m\u001b[1;32m   1403\u001b[0m \u001b[0;34m\u001b[0m\u001b[0m\n\u001b[1;32m   1404\u001b[0m         \u001b[0;32mreturn\u001b[0m \u001b[0mself\u001b[0m\u001b[0;34m.\u001b[0m\u001b[0m_add_axes_internal\u001b[0m\u001b[0;34m(\u001b[0m\u001b[0mkey\u001b[0m\u001b[0;34m,\u001b[0m \u001b[0max\u001b[0m\u001b[0;34m)\u001b[0m\u001b[0;34m\u001b[0m\u001b[0;34m\u001b[0m\u001b[0m\n",
      "\u001b[0;32m/opt/anaconda3/lib/python3.8/site-packages/matplotlib/axes/_subplots.py\u001b[0m in \u001b[0;36m__init__\u001b[0;34m(self, fig, *args, **kwargs)\u001b[0m\n\u001b[1;32m     40\u001b[0m         \u001b[0mself\u001b[0m\u001b[0;34m.\u001b[0m\u001b[0mupdate_params\u001b[0m\u001b[0;34m(\u001b[0m\u001b[0;34m)\u001b[0m\u001b[0;34m\u001b[0m\u001b[0;34m\u001b[0m\u001b[0m\n\u001b[1;32m     41\u001b[0m         \u001b[0;31m# _axes_class is set in the subplot_class_factory\u001b[0m\u001b[0;34m\u001b[0m\u001b[0;34m\u001b[0m\u001b[0;34m\u001b[0m\u001b[0m\n\u001b[0;32m---> 42\u001b[0;31m         \u001b[0mself\u001b[0m\u001b[0;34m.\u001b[0m\u001b[0m_axes_class\u001b[0m\u001b[0;34m.\u001b[0m\u001b[0m__init__\u001b[0m\u001b[0;34m(\u001b[0m\u001b[0mself\u001b[0m\u001b[0;34m,\u001b[0m \u001b[0mfig\u001b[0m\u001b[0;34m,\u001b[0m \u001b[0mself\u001b[0m\u001b[0;34m.\u001b[0m\u001b[0mfigbox\u001b[0m\u001b[0;34m,\u001b[0m \u001b[0;34m**\u001b[0m\u001b[0mkwargs\u001b[0m\u001b[0;34m)\u001b[0m\u001b[0;34m\u001b[0m\u001b[0;34m\u001b[0m\u001b[0m\n\u001b[0m\u001b[1;32m     43\u001b[0m         \u001b[0;31m# add a layout box to this, for both the full axis, and the poss\u001b[0m\u001b[0;34m\u001b[0m\u001b[0;34m\u001b[0m\u001b[0;34m\u001b[0m\u001b[0m\n\u001b[1;32m     44\u001b[0m         \u001b[0;31m# of the axis.  We need both because the axes may become smaller\u001b[0m\u001b[0;34m\u001b[0m\u001b[0;34m\u001b[0m\u001b[0;34m\u001b[0m\u001b[0m\n",
      "\u001b[0;32m/opt/anaconda3/lib/python3.8/site-packages/matplotlib/axes/_base.py\u001b[0m in \u001b[0;36m__init__\u001b[0;34m(self, fig, rect, facecolor, frameon, sharex, sharey, label, xscale, yscale, box_aspect, **kwargs)\u001b[0m\n\u001b[1;32m    509\u001b[0m \u001b[0;34m\u001b[0m\u001b[0m\n\u001b[1;32m    510\u001b[0m         \u001b[0mself\u001b[0m\u001b[0;34m.\u001b[0m\u001b[0m_rasterization_zorder\u001b[0m \u001b[0;34m=\u001b[0m \u001b[0;32mNone\u001b[0m\u001b[0;34m\u001b[0m\u001b[0;34m\u001b[0m\u001b[0m\n\u001b[0;32m--> 511\u001b[0;31m         \u001b[0mself\u001b[0m\u001b[0;34m.\u001b[0m\u001b[0mcla\u001b[0m\u001b[0;34m(\u001b[0m\u001b[0;34m)\u001b[0m\u001b[0;34m\u001b[0m\u001b[0;34m\u001b[0m\u001b[0m\n\u001b[0m\u001b[1;32m    512\u001b[0m \u001b[0;34m\u001b[0m\u001b[0m\n\u001b[1;32m    513\u001b[0m         \u001b[0;31m# funcs used to format x and y - fall back on major formatters\u001b[0m\u001b[0;34m\u001b[0m\u001b[0;34m\u001b[0m\u001b[0;34m\u001b[0m\u001b[0m\n",
      "\u001b[0;32m/opt/anaconda3/lib/python3.8/site-packages/matplotlib/axes/_base.py\u001b[0m in \u001b[0;36mcla\u001b[0;34m(self)\u001b[0m\n\u001b[1;32m   1160\u001b[0m \u001b[0;34m\u001b[0m\u001b[0m\n\u001b[1;32m   1161\u001b[0m         \u001b[0mself\u001b[0m\u001b[0;34m.\u001b[0m\u001b[0mxaxis\u001b[0m\u001b[0;34m.\u001b[0m\u001b[0mset_clip_path\u001b[0m\u001b[0;34m(\u001b[0m\u001b[0mself\u001b[0m\u001b[0;34m.\u001b[0m\u001b[0mpatch\u001b[0m\u001b[0;34m)\u001b[0m\u001b[0;34m\u001b[0m\u001b[0;34m\u001b[0m\u001b[0m\n\u001b[0;32m-> 1162\u001b[0;31m         \u001b[0mself\u001b[0m\u001b[0;34m.\u001b[0m\u001b[0myaxis\u001b[0m\u001b[0;34m.\u001b[0m\u001b[0mset_clip_path\u001b[0m\u001b[0;34m(\u001b[0m\u001b[0mself\u001b[0m\u001b[0;34m.\u001b[0m\u001b[0mpatch\u001b[0m\u001b[0;34m)\u001b[0m\u001b[0;34m\u001b[0m\u001b[0;34m\u001b[0m\u001b[0m\n\u001b[0m\u001b[1;32m   1163\u001b[0m \u001b[0;34m\u001b[0m\u001b[0m\n\u001b[1;32m   1164\u001b[0m         \u001b[0mself\u001b[0m\u001b[0;34m.\u001b[0m\u001b[0m_shared_x_axes\u001b[0m\u001b[0;34m.\u001b[0m\u001b[0mclean\u001b[0m\u001b[0;34m(\u001b[0m\u001b[0;34m)\u001b[0m\u001b[0;34m\u001b[0m\u001b[0;34m\u001b[0m\u001b[0m\n",
      "\u001b[0;32m/opt/anaconda3/lib/python3.8/site-packages/matplotlib/axis.py\u001b[0m in \u001b[0;36mset_clip_path\u001b[0;34m(self, clippath, transform)\u001b[0m\n\u001b[1;32m    899\u001b[0m     \u001b[0;32mdef\u001b[0m \u001b[0mset_clip_path\u001b[0m\u001b[0;34m(\u001b[0m\u001b[0mself\u001b[0m\u001b[0;34m,\u001b[0m \u001b[0mclippath\u001b[0m\u001b[0;34m,\u001b[0m \u001b[0mtransform\u001b[0m\u001b[0;34m=\u001b[0m\u001b[0;32mNone\u001b[0m\u001b[0;34m)\u001b[0m\u001b[0;34m:\u001b[0m\u001b[0;34m\u001b[0m\u001b[0;34m\u001b[0m\u001b[0m\n\u001b[1;32m    900\u001b[0m         \u001b[0mmartist\u001b[0m\u001b[0;34m.\u001b[0m\u001b[0mArtist\u001b[0m\u001b[0;34m.\u001b[0m\u001b[0mset_clip_path\u001b[0m\u001b[0;34m(\u001b[0m\u001b[0mself\u001b[0m\u001b[0;34m,\u001b[0m \u001b[0mclippath\u001b[0m\u001b[0;34m,\u001b[0m \u001b[0mtransform\u001b[0m\u001b[0;34m)\u001b[0m\u001b[0;34m\u001b[0m\u001b[0;34m\u001b[0m\u001b[0m\n\u001b[0;32m--> 901\u001b[0;31m         \u001b[0;32mfor\u001b[0m \u001b[0mchild\u001b[0m \u001b[0;32min\u001b[0m \u001b[0mself\u001b[0m\u001b[0;34m.\u001b[0m\u001b[0mmajorTicks\u001b[0m \u001b[0;34m+\u001b[0m \u001b[0mself\u001b[0m\u001b[0;34m.\u001b[0m\u001b[0mminorTicks\u001b[0m\u001b[0;34m:\u001b[0m\u001b[0;34m\u001b[0m\u001b[0;34m\u001b[0m\u001b[0m\n\u001b[0m\u001b[1;32m    902\u001b[0m             \u001b[0mchild\u001b[0m\u001b[0;34m.\u001b[0m\u001b[0mset_clip_path\u001b[0m\u001b[0;34m(\u001b[0m\u001b[0mclippath\u001b[0m\u001b[0;34m,\u001b[0m \u001b[0mtransform\u001b[0m\u001b[0;34m)\u001b[0m\u001b[0;34m\u001b[0m\u001b[0;34m\u001b[0m\u001b[0m\n\u001b[1;32m    903\u001b[0m         \u001b[0mself\u001b[0m\u001b[0;34m.\u001b[0m\u001b[0mstale\u001b[0m \u001b[0;34m=\u001b[0m \u001b[0;32mTrue\u001b[0m\u001b[0;34m\u001b[0m\u001b[0;34m\u001b[0m\u001b[0m\n",
      "\u001b[0;32m/opt/anaconda3/lib/python3.8/site-packages/matplotlib/axis.py\u001b[0m in \u001b[0;36m__get__\u001b[0;34m(self, instance, cls)\u001b[0m\n\u001b[1;32m    621\u001b[0m             \u001b[0;32melse\u001b[0m\u001b[0;34m:\u001b[0m\u001b[0;34m\u001b[0m\u001b[0;34m\u001b[0m\u001b[0m\n\u001b[1;32m    622\u001b[0m                 \u001b[0minstance\u001b[0m\u001b[0;34m.\u001b[0m\u001b[0mminorTicks\u001b[0m \u001b[0;34m=\u001b[0m \u001b[0;34m[\u001b[0m\u001b[0;34m]\u001b[0m\u001b[0;34m\u001b[0m\u001b[0;34m\u001b[0m\u001b[0m\n\u001b[0;32m--> 623\u001b[0;31m                 \u001b[0mtick\u001b[0m \u001b[0;34m=\u001b[0m \u001b[0minstance\u001b[0m\u001b[0;34m.\u001b[0m\u001b[0m_get_tick\u001b[0m\u001b[0;34m(\u001b[0m\u001b[0mmajor\u001b[0m\u001b[0;34m=\u001b[0m\u001b[0;32mFalse\u001b[0m\u001b[0;34m)\u001b[0m\u001b[0;34m\u001b[0m\u001b[0;34m\u001b[0m\u001b[0m\n\u001b[0m\u001b[1;32m    624\u001b[0m                 \u001b[0minstance\u001b[0m\u001b[0;34m.\u001b[0m\u001b[0mminorTicks\u001b[0m\u001b[0;34m.\u001b[0m\u001b[0mappend\u001b[0m\u001b[0;34m(\u001b[0m\u001b[0mtick\u001b[0m\u001b[0;34m)\u001b[0m\u001b[0;34m\u001b[0m\u001b[0;34m\u001b[0m\u001b[0m\n\u001b[1;32m    625\u001b[0m                 \u001b[0;32mreturn\u001b[0m \u001b[0minstance\u001b[0m\u001b[0;34m.\u001b[0m\u001b[0mminorTicks\u001b[0m\u001b[0;34m\u001b[0m\u001b[0;34m\u001b[0m\u001b[0m\n",
      "\u001b[0;32m/opt/anaconda3/lib/python3.8/site-packages/matplotlib/axis.py\u001b[0m in \u001b[0;36m_get_tick\u001b[0;34m(self, major)\u001b[0m\n\u001b[1;32m   2304\u001b[0m         \u001b[0;32melse\u001b[0m\u001b[0;34m:\u001b[0m\u001b[0;34m\u001b[0m\u001b[0;34m\u001b[0m\u001b[0m\n\u001b[1;32m   2305\u001b[0m             \u001b[0mtick_kw\u001b[0m \u001b[0;34m=\u001b[0m \u001b[0mself\u001b[0m\u001b[0;34m.\u001b[0m\u001b[0m_minor_tick_kw\u001b[0m\u001b[0;34m\u001b[0m\u001b[0;34m\u001b[0m\u001b[0m\n\u001b[0;32m-> 2306\u001b[0;31m         \u001b[0;32mreturn\u001b[0m \u001b[0mYTick\u001b[0m\u001b[0;34m(\u001b[0m\u001b[0mself\u001b[0m\u001b[0;34m.\u001b[0m\u001b[0maxes\u001b[0m\u001b[0;34m,\u001b[0m \u001b[0;36m0\u001b[0m\u001b[0;34m,\u001b[0m \u001b[0mmajor\u001b[0m\u001b[0;34m=\u001b[0m\u001b[0mmajor\u001b[0m\u001b[0;34m,\u001b[0m \u001b[0;34m**\u001b[0m\u001b[0mtick_kw\u001b[0m\u001b[0;34m)\u001b[0m\u001b[0;34m\u001b[0m\u001b[0;34m\u001b[0m\u001b[0m\n\u001b[0m\u001b[1;32m   2307\u001b[0m \u001b[0;34m\u001b[0m\u001b[0m\n\u001b[1;32m   2308\u001b[0m     \u001b[0;32mdef\u001b[0m \u001b[0mset_label_position\u001b[0m\u001b[0;34m(\u001b[0m\u001b[0mself\u001b[0m\u001b[0;34m,\u001b[0m \u001b[0mposition\u001b[0m\u001b[0;34m)\u001b[0m\u001b[0;34m:\u001b[0m\u001b[0;34m\u001b[0m\u001b[0;34m\u001b[0m\u001b[0m\n",
      "\u001b[0;32m/opt/anaconda3/lib/python3.8/site-packages/matplotlib/axis.py\u001b[0m in \u001b[0;36m__init__\u001b[0;34m(self, *args, **kwargs)\u001b[0m\n\u001b[1;32m    488\u001b[0m \u001b[0;34m\u001b[0m\u001b[0m\n\u001b[1;32m    489\u001b[0m     \u001b[0;32mdef\u001b[0m \u001b[0m__init__\u001b[0m\u001b[0;34m(\u001b[0m\u001b[0mself\u001b[0m\u001b[0;34m,\u001b[0m \u001b[0;34m*\u001b[0m\u001b[0margs\u001b[0m\u001b[0;34m,\u001b[0m \u001b[0;34m**\u001b[0m\u001b[0mkwargs\u001b[0m\u001b[0;34m)\u001b[0m\u001b[0;34m:\u001b[0m\u001b[0;34m\u001b[0m\u001b[0;34m\u001b[0m\u001b[0m\n\u001b[0;32m--> 490\u001b[0;31m         \u001b[0msuper\u001b[0m\u001b[0;34m(\u001b[0m\u001b[0;34m)\u001b[0m\u001b[0;34m.\u001b[0m\u001b[0m__init__\u001b[0m\u001b[0;34m(\u001b[0m\u001b[0;34m*\u001b[0m\u001b[0margs\u001b[0m\u001b[0;34m,\u001b[0m \u001b[0;34m**\u001b[0m\u001b[0mkwargs\u001b[0m\u001b[0;34m)\u001b[0m\u001b[0;34m\u001b[0m\u001b[0;34m\u001b[0m\u001b[0m\n\u001b[0m\u001b[1;32m    491\u001b[0m         \u001b[0;31m# x in axes coords, y in data coords\u001b[0m\u001b[0;34m\u001b[0m\u001b[0;34m\u001b[0m\u001b[0;34m\u001b[0m\u001b[0m\n\u001b[1;32m    492\u001b[0m         self.tick1line.set(\n",
      "\u001b[0;32m/opt/anaconda3/lib/python3.8/site-packages/matplotlib/cbook/deprecation.py\u001b[0m in \u001b[0;36mwrapper\u001b[0;34m(*inner_args, **inner_kwargs)\u001b[0m\n\u001b[1;32m    409\u001b[0m                          \u001b[0;32melse\u001b[0m \u001b[0mdeprecation_addendum\u001b[0m\u001b[0;34m,\u001b[0m\u001b[0;34m\u001b[0m\u001b[0;34m\u001b[0m\u001b[0m\n\u001b[1;32m    410\u001b[0m                 **kwargs)\n\u001b[0;32m--> 411\u001b[0;31m         \u001b[0;32mreturn\u001b[0m \u001b[0mfunc\u001b[0m\u001b[0;34m(\u001b[0m\u001b[0;34m*\u001b[0m\u001b[0minner_args\u001b[0m\u001b[0;34m,\u001b[0m \u001b[0;34m**\u001b[0m\u001b[0minner_kwargs\u001b[0m\u001b[0;34m)\u001b[0m\u001b[0;34m\u001b[0m\u001b[0;34m\u001b[0m\u001b[0m\n\u001b[0m\u001b[1;32m    412\u001b[0m \u001b[0;34m\u001b[0m\u001b[0m\n\u001b[1;32m    413\u001b[0m     \u001b[0;32mreturn\u001b[0m \u001b[0mwrapper\u001b[0m\u001b[0;34m\u001b[0m\u001b[0;34m\u001b[0m\u001b[0m\n",
      "\u001b[0;32m/opt/anaconda3/lib/python3.8/site-packages/matplotlib/axis.py\u001b[0m in \u001b[0;36m__init__\u001b[0;34m(self, axes, loc, label, size, width, color, tickdir, pad, labelsize, labelcolor, zorder, gridOn, tick1On, tick2On, label1On, label2On, major, labelrotation, grid_color, grid_linestyle, grid_linewidth, grid_alpha, **kw)\u001b[0m\n\u001b[1;32m    147\u001b[0m         \u001b[0mself\u001b[0m\u001b[0;34m.\u001b[0m\u001b[0mapply_tickdir\u001b[0m\u001b[0;34m(\u001b[0m\u001b[0mtickdir\u001b[0m\u001b[0;34m)\u001b[0m\u001b[0;34m\u001b[0m\u001b[0;34m\u001b[0m\u001b[0m\n\u001b[1;32m    148\u001b[0m \u001b[0;34m\u001b[0m\u001b[0m\n\u001b[0;32m--> 149\u001b[0;31m         self.tick1line = mlines.Line2D(\n\u001b[0m\u001b[1;32m    150\u001b[0m             \u001b[0;34m[\u001b[0m\u001b[0;34m]\u001b[0m\u001b[0;34m,\u001b[0m \u001b[0;34m[\u001b[0m\u001b[0;34m]\u001b[0m\u001b[0;34m,\u001b[0m\u001b[0;34m\u001b[0m\u001b[0;34m\u001b[0m\u001b[0m\n\u001b[1;32m    151\u001b[0m             \u001b[0mcolor\u001b[0m\u001b[0;34m=\u001b[0m\u001b[0mcolor\u001b[0m\u001b[0;34m,\u001b[0m \u001b[0mlinestyle\u001b[0m\u001b[0;34m=\u001b[0m\u001b[0;34m\"none\"\u001b[0m\u001b[0;34m,\u001b[0m \u001b[0mzorder\u001b[0m\u001b[0;34m=\u001b[0m\u001b[0mzorder\u001b[0m\u001b[0;34m,\u001b[0m \u001b[0mvisible\u001b[0m\u001b[0;34m=\u001b[0m\u001b[0mtick1On\u001b[0m\u001b[0;34m,\u001b[0m\u001b[0;34m\u001b[0m\u001b[0;34m\u001b[0m\u001b[0m\n",
      "\u001b[0;32m/opt/anaconda3/lib/python3.8/site-packages/matplotlib/lines.py\u001b[0m in \u001b[0;36m__init__\u001b[0;34m(self, xdata, ydata, linewidth, linestyle, color, marker, markersize, markeredgewidth, markeredgecolor, markerfacecolor, markerfacecoloralt, fillstyle, antialiased, dash_capstyle, solid_capstyle, dash_joinstyle, solid_joinstyle, pickradius, drawstyle, markevery, **kwargs)\u001b[0m\n\u001b[1;32m    382\u001b[0m \u001b[0;34m\u001b[0m\u001b[0m\n\u001b[1;32m    383\u001b[0m         \u001b[0mself\u001b[0m\u001b[0;34m.\u001b[0m\u001b[0mset_markerfacecolor\u001b[0m\u001b[0;34m(\u001b[0m\u001b[0mmarkerfacecolor\u001b[0m\u001b[0;34m)\u001b[0m\u001b[0;34m\u001b[0m\u001b[0;34m\u001b[0m\u001b[0m\n\u001b[0;32m--> 384\u001b[0;31m         \u001b[0mself\u001b[0m\u001b[0;34m.\u001b[0m\u001b[0mset_markerfacecoloralt\u001b[0m\u001b[0;34m(\u001b[0m\u001b[0mmarkerfacecoloralt\u001b[0m\u001b[0;34m)\u001b[0m\u001b[0;34m\u001b[0m\u001b[0;34m\u001b[0m\u001b[0m\n\u001b[0m\u001b[1;32m    385\u001b[0m         \u001b[0mself\u001b[0m\u001b[0;34m.\u001b[0m\u001b[0mset_markeredgecolor\u001b[0m\u001b[0;34m(\u001b[0m\u001b[0mmarkeredgecolor\u001b[0m\u001b[0;34m)\u001b[0m\u001b[0;34m\u001b[0m\u001b[0;34m\u001b[0m\u001b[0m\n\u001b[1;32m    386\u001b[0m         \u001b[0mself\u001b[0m\u001b[0;34m.\u001b[0m\u001b[0mset_markeredgewidth\u001b[0m\u001b[0;34m(\u001b[0m\u001b[0mmarkeredgewidth\u001b[0m\u001b[0;34m)\u001b[0m\u001b[0;34m\u001b[0m\u001b[0;34m\u001b[0m\u001b[0m\n",
      "\u001b[0;32m/opt/anaconda3/lib/python3.8/site-packages/matplotlib/lines.py\u001b[0m in \u001b[0;36mset_markerfacecoloralt\u001b[0;34m(self, fc)\u001b[0m\n\u001b[1;32m   1212\u001b[0m         \u001b[0;32mif\u001b[0m \u001b[0mfc\u001b[0m \u001b[0;32mis\u001b[0m \u001b[0;32mNone\u001b[0m\u001b[0;34m:\u001b[0m\u001b[0;34m\u001b[0m\u001b[0;34m\u001b[0m\u001b[0m\n\u001b[1;32m   1213\u001b[0m             \u001b[0mfc\u001b[0m \u001b[0;34m=\u001b[0m \u001b[0;34m'auto'\u001b[0m\u001b[0;34m\u001b[0m\u001b[0;34m\u001b[0m\u001b[0m\n\u001b[0;32m-> 1214\u001b[0;31m         \u001b[0;32mif\u001b[0m \u001b[0mnp\u001b[0m\u001b[0;34m.\u001b[0m\u001b[0many\u001b[0m\u001b[0;34m(\u001b[0m\u001b[0mself\u001b[0m\u001b[0;34m.\u001b[0m\u001b[0m_markerfacecoloralt\u001b[0m \u001b[0;34m!=\u001b[0m \u001b[0mfc\u001b[0m\u001b[0;34m)\u001b[0m\u001b[0;34m:\u001b[0m\u001b[0;34m\u001b[0m\u001b[0;34m\u001b[0m\u001b[0m\n\u001b[0m\u001b[1;32m   1215\u001b[0m             \u001b[0mself\u001b[0m\u001b[0;34m.\u001b[0m\u001b[0mstale\u001b[0m \u001b[0;34m=\u001b[0m \u001b[0;32mTrue\u001b[0m\u001b[0;34m\u001b[0m\u001b[0;34m\u001b[0m\u001b[0m\n\u001b[1;32m   1216\u001b[0m         \u001b[0mself\u001b[0m\u001b[0;34m.\u001b[0m\u001b[0m_markerfacecoloralt\u001b[0m \u001b[0;34m=\u001b[0m \u001b[0mfc\u001b[0m\u001b[0;34m\u001b[0m\u001b[0;34m\u001b[0m\u001b[0m\n",
      "\u001b[0;32m<__array_function__ internals>\u001b[0m in \u001b[0;36many\u001b[0;34m(*args, **kwargs)\u001b[0m\n",
      "\u001b[0;32m/opt/anaconda3/lib/python3.8/site-packages/numpy/core/fromnumeric.py\u001b[0m in \u001b[0;36many\u001b[0;34m(a, axis, out, keepdims, where)\u001b[0m\n\u001b[1;32m   2254\u001b[0m \u001b[0;34m\u001b[0m\u001b[0m\n\u001b[1;32m   2255\u001b[0m \u001b[0;34m\u001b[0m\u001b[0m\n\u001b[0;32m-> 2256\u001b[0;31m \u001b[0;34m@\u001b[0m\u001b[0marray_function_dispatch\u001b[0m\u001b[0;34m(\u001b[0m\u001b[0m_any_dispatcher\u001b[0m\u001b[0;34m)\u001b[0m\u001b[0;34m\u001b[0m\u001b[0;34m\u001b[0m\u001b[0m\n\u001b[0m\u001b[1;32m   2257\u001b[0m \u001b[0;32mdef\u001b[0m \u001b[0many\u001b[0m\u001b[0;34m(\u001b[0m\u001b[0ma\u001b[0m\u001b[0;34m,\u001b[0m \u001b[0maxis\u001b[0m\u001b[0;34m=\u001b[0m\u001b[0;32mNone\u001b[0m\u001b[0;34m,\u001b[0m \u001b[0mout\u001b[0m\u001b[0;34m=\u001b[0m\u001b[0;32mNone\u001b[0m\u001b[0;34m,\u001b[0m \u001b[0mkeepdims\u001b[0m\u001b[0;34m=\u001b[0m\u001b[0mnp\u001b[0m\u001b[0;34m.\u001b[0m\u001b[0m_NoValue\u001b[0m\u001b[0;34m,\u001b[0m \u001b[0;34m*\u001b[0m\u001b[0;34m,\u001b[0m \u001b[0mwhere\u001b[0m\u001b[0;34m=\u001b[0m\u001b[0mnp\u001b[0m\u001b[0;34m.\u001b[0m\u001b[0m_NoValue\u001b[0m\u001b[0;34m)\u001b[0m\u001b[0;34m:\u001b[0m\u001b[0;34m\u001b[0m\u001b[0;34m\u001b[0m\u001b[0m\n\u001b[1;32m   2258\u001b[0m     \"\"\"\n",
      "\u001b[0;31mKeyboardInterrupt\u001b[0m: "
     ]
    },
    {
     "data": {
      "text/plain": [
       "<Figure size 720x720 with 0 Axes>"
      ]
     },
     "metadata": {},
     "output_type": "display_data"
    },
    {
     "data": {
      "text/plain": [
       "<Figure size 720x720 with 0 Axes>"
      ]
     },
     "metadata": {},
     "output_type": "display_data"
    },
    {
     "data": {
      "text/plain": [
       "<Figure size 720x720 with 0 Axes>"
      ]
     },
     "metadata": {},
     "output_type": "display_data"
    },
    {
     "data": {
      "text/plain": [
       "<Figure size 720x720 with 0 Axes>"
      ]
     },
     "metadata": {},
     "output_type": "display_data"
    },
    {
     "data": {
      "text/plain": [
       "<Figure size 720x720 with 0 Axes>"
      ]
     },
     "metadata": {},
     "output_type": "display_data"
    },
    {
     "data": {
      "text/plain": [
       "<Figure size 720x720 with 0 Axes>"
      ]
     },
     "metadata": {},
     "output_type": "display_data"
    },
    {
     "data": {
      "text/plain": [
       "<Figure size 720x720 with 0 Axes>"
      ]
     },
     "metadata": {},
     "output_type": "display_data"
    },
    {
     "data": {
      "text/plain": [
       "<Figure size 720x720 with 0 Axes>"
      ]
     },
     "metadata": {},
     "output_type": "display_data"
    },
    {
     "data": {
      "text/plain": [
       "<Figure size 720x720 with 0 Axes>"
      ]
     },
     "metadata": {},
     "output_type": "display_data"
    },
    {
     "data": {
      "text/plain": [
       "<Figure size 720x720 with 0 Axes>"
      ]
     },
     "metadata": {},
     "output_type": "display_data"
    },
    {
     "data": {
      "text/plain": [
       "<Figure size 720x720 with 0 Axes>"
      ]
     },
     "metadata": {},
     "output_type": "display_data"
    },
    {
     "data": {
      "text/plain": [
       "<Figure size 720x720 with 0 Axes>"
      ]
     },
     "metadata": {},
     "output_type": "display_data"
    },
    {
     "data": {
      "text/plain": [
       "<Figure size 720x720 with 0 Axes>"
      ]
     },
     "metadata": {},
     "output_type": "display_data"
    },
    {
     "data": {
      "text/plain": [
       "<Figure size 720x720 with 0 Axes>"
      ]
     },
     "metadata": {},
     "output_type": "display_data"
    },
    {
     "data": {
      "text/plain": [
       "<Figure size 720x720 with 0 Axes>"
      ]
     },
     "metadata": {},
     "output_type": "display_data"
    },
    {
     "data": {
      "text/plain": [
       "<Figure size 720x720 with 0 Axes>"
      ]
     },
     "metadata": {},
     "output_type": "display_data"
    },
    {
     "data": {
      "text/plain": [
       "<Figure size 720x720 with 0 Axes>"
      ]
     },
     "metadata": {},
     "output_type": "display_data"
    },
    {
     "data": {
      "text/plain": [
       "<Figure size 720x720 with 0 Axes>"
      ]
     },
     "metadata": {},
     "output_type": "display_data"
    },
    {
     "data": {
      "text/plain": [
       "<Figure size 720x720 with 0 Axes>"
      ]
     },
     "metadata": {},
     "output_type": "display_data"
    },
    {
     "data": {
      "text/plain": [
       "<Figure size 720x720 with 0 Axes>"
      ]
     },
     "metadata": {},
     "output_type": "display_data"
    },
    {
     "data": {
      "text/plain": [
       "<Figure size 720x720 with 0 Axes>"
      ]
     },
     "metadata": {},
     "output_type": "display_data"
    },
    {
     "data": {
      "text/plain": [
       "<Figure size 720x720 with 0 Axes>"
      ]
     },
     "metadata": {},
     "output_type": "display_data"
    },
    {
     "data": {
      "text/plain": [
       "<Figure size 720x720 with 0 Axes>"
      ]
     },
     "metadata": {},
     "output_type": "display_data"
    },
    {
     "data": {
      "text/plain": [
       "<Figure size 720x720 with 0 Axes>"
      ]
     },
     "metadata": {},
     "output_type": "display_data"
    },
    {
     "data": {
      "text/plain": [
       "<Figure size 720x720 with 0 Axes>"
      ]
     },
     "metadata": {},
     "output_type": "display_data"
    },
    {
     "data": {
      "text/plain": [
       "<Figure size 720x720 with 0 Axes>"
      ]
     },
     "metadata": {},
     "output_type": "display_data"
    },
    {
     "data": {
      "text/plain": [
       "<Figure size 720x720 with 0 Axes>"
      ]
     },
     "metadata": {},
     "output_type": "display_data"
    },
    {
     "data": {
      "text/plain": [
       "<Figure size 720x720 with 0 Axes>"
      ]
     },
     "metadata": {},
     "output_type": "display_data"
    },
    {
     "data": {
      "text/plain": [
       "<Figure size 720x720 with 0 Axes>"
      ]
     },
     "metadata": {},
     "output_type": "display_data"
    },
    {
     "data": {
      "text/plain": [
       "<Figure size 720x720 with 0 Axes>"
      ]
     },
     "metadata": {},
     "output_type": "display_data"
    },
    {
     "data": {
      "text/plain": [
       "<Figure size 720x720 with 0 Axes>"
      ]
     },
     "metadata": {},
     "output_type": "display_data"
    },
    {
     "data": {
      "text/plain": [
       "<Figure size 720x720 with 0 Axes>"
      ]
     },
     "metadata": {},
     "output_type": "display_data"
    },
    {
     "data": {
      "text/plain": [
       "<Figure size 720x720 with 0 Axes>"
      ]
     },
     "metadata": {},
     "output_type": "display_data"
    },
    {
     "data": {
      "text/plain": [
       "<Figure size 720x720 with 0 Axes>"
      ]
     },
     "metadata": {},
     "output_type": "display_data"
    },
    {
     "data": {
      "text/plain": [
       "<Figure size 720x720 with 0 Axes>"
      ]
     },
     "metadata": {},
     "output_type": "display_data"
    },
    {
     "data": {
      "text/plain": [
       "<Figure size 720x720 with 0 Axes>"
      ]
     },
     "metadata": {},
     "output_type": "display_data"
    },
    {
     "data": {
      "text/plain": [
       "<Figure size 720x720 with 0 Axes>"
      ]
     },
     "metadata": {},
     "output_type": "display_data"
    },
    {
     "data": {
      "text/plain": [
       "<Figure size 720x720 with 0 Axes>"
      ]
     },
     "metadata": {},
     "output_type": "display_data"
    },
    {
     "data": {
      "text/plain": [
       "<Figure size 720x720 with 0 Axes>"
      ]
     },
     "metadata": {},
     "output_type": "display_data"
    },
    {
     "data": {
      "text/plain": [
       "<Figure size 720x720 with 0 Axes>"
      ]
     },
     "metadata": {},
     "output_type": "display_data"
    },
    {
     "data": {
      "text/plain": [
       "<Figure size 720x720 with 0 Axes>"
      ]
     },
     "metadata": {},
     "output_type": "display_data"
    },
    {
     "data": {
      "text/plain": [
       "<Figure size 720x720 with 0 Axes>"
      ]
     },
     "metadata": {},
     "output_type": "display_data"
    },
    {
     "data": {
      "text/plain": [
       "<Figure size 720x720 with 0 Axes>"
      ]
     },
     "metadata": {},
     "output_type": "display_data"
    },
    {
     "data": {
      "text/plain": [
       "<Figure size 720x720 with 0 Axes>"
      ]
     },
     "metadata": {},
     "output_type": "display_data"
    },
    {
     "data": {
      "text/plain": [
       "<Figure size 720x720 with 0 Axes>"
      ]
     },
     "metadata": {},
     "output_type": "display_data"
    },
    {
     "data": {
      "text/plain": [
       "<Figure size 720x720 with 0 Axes>"
      ]
     },
     "metadata": {},
     "output_type": "display_data"
    },
    {
     "data": {
      "text/plain": [
       "<Figure size 720x720 with 0 Axes>"
      ]
     },
     "metadata": {},
     "output_type": "display_data"
    },
    {
     "data": {
      "text/plain": [
       "<Figure size 720x720 with 0 Axes>"
      ]
     },
     "metadata": {},
     "output_type": "display_data"
    },
    {
     "data": {
      "text/plain": [
       "<Figure size 720x720 with 0 Axes>"
      ]
     },
     "metadata": {},
     "output_type": "display_data"
    },
    {
     "data": {
      "text/plain": [
       "<Figure size 720x720 with 0 Axes>"
      ]
     },
     "metadata": {},
     "output_type": "display_data"
    },
    {
     "data": {
      "text/plain": [
       "<Figure size 720x720 with 0 Axes>"
      ]
     },
     "metadata": {},
     "output_type": "display_data"
    },
    {
     "data": {
      "text/plain": [
       "<Figure size 720x720 with 0 Axes>"
      ]
     },
     "metadata": {},
     "output_type": "display_data"
    },
    {
     "data": {
      "text/plain": [
       "<Figure size 720x720 with 0 Axes>"
      ]
     },
     "metadata": {},
     "output_type": "display_data"
    },
    {
     "data": {
      "text/plain": [
       "<Figure size 720x720 with 0 Axes>"
      ]
     },
     "metadata": {},
     "output_type": "display_data"
    },
    {
     "data": {
      "text/plain": [
       "<Figure size 720x720 with 0 Axes>"
      ]
     },
     "metadata": {},
     "output_type": "display_data"
    },
    {
     "data": {
      "text/plain": [
       "<Figure size 720x720 with 0 Axes>"
      ]
     },
     "metadata": {},
     "output_type": "display_data"
    },
    {
     "data": {
      "text/plain": [
       "<Figure size 720x720 with 0 Axes>"
      ]
     },
     "metadata": {},
     "output_type": "display_data"
    },
    {
     "data": {
      "text/plain": [
       "<Figure size 720x720 with 0 Axes>"
      ]
     },
     "metadata": {},
     "output_type": "display_data"
    },
    {
     "data": {
      "text/plain": [
       "<Figure size 720x720 with 0 Axes>"
      ]
     },
     "metadata": {},
     "output_type": "display_data"
    },
    {
     "data": {
      "text/plain": [
       "<Figure size 720x720 with 0 Axes>"
      ]
     },
     "metadata": {},
     "output_type": "display_data"
    },
    {
     "data": {
      "text/plain": [
       "<Figure size 720x720 with 0 Axes>"
      ]
     },
     "metadata": {},
     "output_type": "display_data"
    },
    {
     "data": {
      "text/plain": [
       "<Figure size 720x720 with 0 Axes>"
      ]
     },
     "metadata": {},
     "output_type": "display_data"
    },
    {
     "data": {
      "text/plain": [
       "<Figure size 720x720 with 0 Axes>"
      ]
     },
     "metadata": {},
     "output_type": "display_data"
    },
    {
     "data": {
      "text/plain": [
       "<Figure size 720x720 with 0 Axes>"
      ]
     },
     "metadata": {},
     "output_type": "display_data"
    },
    {
     "data": {
      "text/plain": [
       "<Figure size 720x720 with 0 Axes>"
      ]
     },
     "metadata": {},
     "output_type": "display_data"
    },
    {
     "data": {
      "text/plain": [
       "<Figure size 720x720 with 0 Axes>"
      ]
     },
     "metadata": {},
     "output_type": "display_data"
    },
    {
     "data": {
      "text/plain": [
       "<Figure size 720x720 with 0 Axes>"
      ]
     },
     "metadata": {},
     "output_type": "display_data"
    },
    {
     "data": {
      "text/plain": [
       "<Figure size 720x720 with 0 Axes>"
      ]
     },
     "metadata": {},
     "output_type": "display_data"
    },
    {
     "data": {
      "text/plain": [
       "<Figure size 720x720 with 0 Axes>"
      ]
     },
     "metadata": {},
     "output_type": "display_data"
    },
    {
     "data": {
      "text/plain": [
       "<Figure size 720x720 with 0 Axes>"
      ]
     },
     "metadata": {},
     "output_type": "display_data"
    },
    {
     "data": {
      "text/plain": [
       "<Figure size 720x720 with 0 Axes>"
      ]
     },
     "metadata": {},
     "output_type": "display_data"
    },
    {
     "data": {
      "text/plain": [
       "<Figure size 720x720 with 0 Axes>"
      ]
     },
     "metadata": {},
     "output_type": "display_data"
    },
    {
     "data": {
      "text/plain": [
       "<Figure size 720x720 with 0 Axes>"
      ]
     },
     "metadata": {},
     "output_type": "display_data"
    },
    {
     "data": {
      "text/plain": [
       "<Figure size 720x720 with 0 Axes>"
      ]
     },
     "metadata": {},
     "output_type": "display_data"
    },
    {
     "data": {
      "text/plain": [
       "<Figure size 720x720 with 0 Axes>"
      ]
     },
     "metadata": {},
     "output_type": "display_data"
    },
    {
     "data": {
      "text/plain": [
       "<Figure size 720x720 with 0 Axes>"
      ]
     },
     "metadata": {},
     "output_type": "display_data"
    },
    {
     "data": {
      "text/plain": [
       "<Figure size 720x720 with 0 Axes>"
      ]
     },
     "metadata": {},
     "output_type": "display_data"
    },
    {
     "data": {
      "text/plain": [
       "<Figure size 720x720 with 0 Axes>"
      ]
     },
     "metadata": {},
     "output_type": "display_data"
    },
    {
     "data": {
      "text/plain": [
       "<Figure size 720x720 with 0 Axes>"
      ]
     },
     "metadata": {},
     "output_type": "display_data"
    },
    {
     "data": {
      "text/plain": [
       "<Figure size 720x720 with 0 Axes>"
      ]
     },
     "metadata": {},
     "output_type": "display_data"
    },
    {
     "data": {
      "text/plain": [
       "<Figure size 720x720 with 0 Axes>"
      ]
     },
     "metadata": {},
     "output_type": "display_data"
    },
    {
     "data": {
      "text/plain": [
       "<Figure size 720x720 with 0 Axes>"
      ]
     },
     "metadata": {},
     "output_type": "display_data"
    },
    {
     "data": {
      "text/plain": [
       "<Figure size 720x720 with 0 Axes>"
      ]
     },
     "metadata": {},
     "output_type": "display_data"
    },
    {
     "data": {
      "text/plain": [
       "<Figure size 720x720 with 0 Axes>"
      ]
     },
     "metadata": {},
     "output_type": "display_data"
    },
    {
     "data": {
      "text/plain": [
       "<Figure size 720x720 with 0 Axes>"
      ]
     },
     "metadata": {},
     "output_type": "display_data"
    },
    {
     "data": {
      "text/plain": [
       "<Figure size 720x720 with 0 Axes>"
      ]
     },
     "metadata": {},
     "output_type": "display_data"
    },
    {
     "data": {
      "text/plain": [
       "<Figure size 720x720 with 0 Axes>"
      ]
     },
     "metadata": {},
     "output_type": "display_data"
    },
    {
     "data": {
      "text/plain": [
       "<Figure size 720x720 with 0 Axes>"
      ]
     },
     "metadata": {},
     "output_type": "display_data"
    },
    {
     "data": {
      "text/plain": [
       "<Figure size 720x720 with 0 Axes>"
      ]
     },
     "metadata": {},
     "output_type": "display_data"
    },
    {
     "data": {
      "text/plain": [
       "<Figure size 720x720 with 0 Axes>"
      ]
     },
     "metadata": {},
     "output_type": "display_data"
    },
    {
     "data": {
      "text/plain": [
       "<Figure size 720x720 with 0 Axes>"
      ]
     },
     "metadata": {},
     "output_type": "display_data"
    },
    {
     "data": {
      "text/plain": [
       "<Figure size 720x720 with 0 Axes>"
      ]
     },
     "metadata": {},
     "output_type": "display_data"
    },
    {
     "data": {
      "text/plain": [
       "<Figure size 720x720 with 0 Axes>"
      ]
     },
     "metadata": {},
     "output_type": "display_data"
    },
    {
     "data": {
      "text/plain": [
       "<Figure size 720x720 with 0 Axes>"
      ]
     },
     "metadata": {},
     "output_type": "display_data"
    },
    {
     "data": {
      "text/plain": [
       "<Figure size 720x720 with 0 Axes>"
      ]
     },
     "metadata": {},
     "output_type": "display_data"
    },
    {
     "data": {
      "text/plain": [
       "<Figure size 720x720 with 0 Axes>"
      ]
     },
     "metadata": {},
     "output_type": "display_data"
    },
    {
     "data": {
      "text/plain": [
       "<Figure size 720x720 with 0 Axes>"
      ]
     },
     "metadata": {},
     "output_type": "display_data"
    },
    {
     "data": {
      "text/plain": [
       "<Figure size 720x720 with 0 Axes>"
      ]
     },
     "metadata": {},
     "output_type": "display_data"
    },
    {
     "data": {
      "text/plain": [
       "<Figure size 720x720 with 0 Axes>"
      ]
     },
     "metadata": {},
     "output_type": "display_data"
    },
    {
     "data": {
      "text/plain": [
       "<Figure size 720x720 with 0 Axes>"
      ]
     },
     "metadata": {},
     "output_type": "display_data"
    },
    {
     "data": {
      "text/plain": [
       "<Figure size 720x720 with 0 Axes>"
      ]
     },
     "metadata": {},
     "output_type": "display_data"
    },
    {
     "data": {
      "text/plain": [
       "<Figure size 720x720 with 0 Axes>"
      ]
     },
     "metadata": {},
     "output_type": "display_data"
    },
    {
     "data": {
      "text/plain": [
       "<Figure size 720x720 with 0 Axes>"
      ]
     },
     "metadata": {},
     "output_type": "display_data"
    },
    {
     "data": {
      "text/plain": [
       "<Figure size 720x720 with 0 Axes>"
      ]
     },
     "metadata": {},
     "output_type": "display_data"
    },
    {
     "data": {
      "text/plain": [
       "<Figure size 720x720 with 0 Axes>"
      ]
     },
     "metadata": {},
     "output_type": "display_data"
    },
    {
     "data": {
      "text/plain": [
       "<Figure size 720x720 with 0 Axes>"
      ]
     },
     "metadata": {},
     "output_type": "display_data"
    },
    {
     "data": {
      "text/plain": [
       "<Figure size 720x720 with 0 Axes>"
      ]
     },
     "metadata": {},
     "output_type": "display_data"
    },
    {
     "data": {
      "text/plain": [
       "<Figure size 720x720 with 0 Axes>"
      ]
     },
     "metadata": {},
     "output_type": "display_data"
    },
    {
     "data": {
      "text/plain": [
       "<Figure size 720x720 with 0 Axes>"
      ]
     },
     "metadata": {},
     "output_type": "display_data"
    },
    {
     "data": {
      "text/plain": [
       "<Figure size 720x720 with 0 Axes>"
      ]
     },
     "metadata": {},
     "output_type": "display_data"
    },
    {
     "data": {
      "text/plain": [
       "<Figure size 720x720 with 0 Axes>"
      ]
     },
     "metadata": {},
     "output_type": "display_data"
    },
    {
     "data": {
      "text/plain": [
       "<Figure size 720x720 with 0 Axes>"
      ]
     },
     "metadata": {},
     "output_type": "display_data"
    },
    {
     "data": {
      "text/plain": [
       "<Figure size 720x720 with 0 Axes>"
      ]
     },
     "metadata": {},
     "output_type": "display_data"
    },
    {
     "data": {
      "text/plain": [
       "<Figure size 720x720 with 0 Axes>"
      ]
     },
     "metadata": {},
     "output_type": "display_data"
    },
    {
     "data": {
      "text/plain": [
       "<Figure size 720x720 with 0 Axes>"
      ]
     },
     "metadata": {},
     "output_type": "display_data"
    },
    {
     "data": {
      "text/plain": [
       "<Figure size 720x720 with 0 Axes>"
      ]
     },
     "metadata": {},
     "output_type": "display_data"
    },
    {
     "data": {
      "text/plain": [
       "<Figure size 720x720 with 0 Axes>"
      ]
     },
     "metadata": {},
     "output_type": "display_data"
    },
    {
     "data": {
      "text/plain": [
       "<Figure size 720x720 with 0 Axes>"
      ]
     },
     "metadata": {},
     "output_type": "display_data"
    },
    {
     "data": {
      "text/plain": [
       "<Figure size 720x720 with 0 Axes>"
      ]
     },
     "metadata": {},
     "output_type": "display_data"
    },
    {
     "data": {
      "text/plain": [
       "<Figure size 720x720 with 0 Axes>"
      ]
     },
     "metadata": {},
     "output_type": "display_data"
    },
    {
     "data": {
      "text/plain": [
       "<Figure size 720x720 with 0 Axes>"
      ]
     },
     "metadata": {},
     "output_type": "display_data"
    },
    {
     "data": {
      "text/plain": [
       "<Figure size 720x720 with 0 Axes>"
      ]
     },
     "metadata": {},
     "output_type": "display_data"
    },
    {
     "data": {
      "text/plain": [
       "<Figure size 720x720 with 0 Axes>"
      ]
     },
     "metadata": {},
     "output_type": "display_data"
    },
    {
     "data": {
      "text/plain": [
       "<Figure size 720x720 with 0 Axes>"
      ]
     },
     "metadata": {},
     "output_type": "display_data"
    },
    {
     "data": {
      "text/plain": [
       "<Figure size 720x720 with 0 Axes>"
      ]
     },
     "metadata": {},
     "output_type": "display_data"
    },
    {
     "data": {
      "text/plain": [
       "<Figure size 720x720 with 0 Axes>"
      ]
     },
     "metadata": {},
     "output_type": "display_data"
    },
    {
     "data": {
      "text/plain": [
       "<Figure size 720x720 with 0 Axes>"
      ]
     },
     "metadata": {},
     "output_type": "display_data"
    },
    {
     "data": {
      "text/plain": [
       "<Figure size 720x720 with 0 Axes>"
      ]
     },
     "metadata": {},
     "output_type": "display_data"
    },
    {
     "data": {
      "text/plain": [
       "<Figure size 720x720 with 0 Axes>"
      ]
     },
     "metadata": {},
     "output_type": "display_data"
    },
    {
     "data": {
      "text/plain": [
       "<Figure size 720x720 with 0 Axes>"
      ]
     },
     "metadata": {},
     "output_type": "display_data"
    },
    {
     "data": {
      "text/plain": [
       "<Figure size 720x720 with 0 Axes>"
      ]
     },
     "metadata": {},
     "output_type": "display_data"
    },
    {
     "data": {
      "text/plain": [
       "<Figure size 720x720 with 0 Axes>"
      ]
     },
     "metadata": {},
     "output_type": "display_data"
    },
    {
     "data": {
      "text/plain": [
       "<Figure size 720x720 with 0 Axes>"
      ]
     },
     "metadata": {},
     "output_type": "display_data"
    },
    {
     "data": {
      "text/plain": [
       "<Figure size 720x720 with 0 Axes>"
      ]
     },
     "metadata": {},
     "output_type": "display_data"
    },
    {
     "data": {
      "text/plain": [
       "<Figure size 720x720 with 0 Axes>"
      ]
     },
     "metadata": {},
     "output_type": "display_data"
    },
    {
     "data": {
      "text/plain": [
       "<Figure size 720x720 with 0 Axes>"
      ]
     },
     "metadata": {},
     "output_type": "display_data"
    },
    {
     "data": {
      "text/plain": [
       "<Figure size 720x720 with 0 Axes>"
      ]
     },
     "metadata": {},
     "output_type": "display_data"
    },
    {
     "data": {
      "text/plain": [
       "<Figure size 720x720 with 0 Axes>"
      ]
     },
     "metadata": {},
     "output_type": "display_data"
    },
    {
     "data": {
      "text/plain": [
       "<Figure size 720x720 with 0 Axes>"
      ]
     },
     "metadata": {},
     "output_type": "display_data"
    },
    {
     "data": {
      "text/plain": [
       "<Figure size 720x720 with 0 Axes>"
      ]
     },
     "metadata": {},
     "output_type": "display_data"
    },
    {
     "data": {
      "text/plain": [
       "<Figure size 720x720 with 0 Axes>"
      ]
     },
     "metadata": {},
     "output_type": "display_data"
    },
    {
     "data": {
      "text/plain": [
       "<Figure size 720x720 with 0 Axes>"
      ]
     },
     "metadata": {},
     "output_type": "display_data"
    },
    {
     "data": {
      "text/plain": [
       "<Figure size 720x720 with 0 Axes>"
      ]
     },
     "metadata": {},
     "output_type": "display_data"
    },
    {
     "data": {
      "text/plain": [
       "<Figure size 720x720 with 0 Axes>"
      ]
     },
     "metadata": {},
     "output_type": "display_data"
    },
    {
     "data": {
      "text/plain": [
       "<Figure size 720x720 with 0 Axes>"
      ]
     },
     "metadata": {},
     "output_type": "display_data"
    },
    {
     "data": {
      "text/plain": [
       "<Figure size 720x720 with 0 Axes>"
      ]
     },
     "metadata": {},
     "output_type": "display_data"
    },
    {
     "data": {
      "text/plain": [
       "<Figure size 720x720 with 0 Axes>"
      ]
     },
     "metadata": {},
     "output_type": "display_data"
    },
    {
     "data": {
      "text/plain": [
       "<Figure size 720x720 with 0 Axes>"
      ]
     },
     "metadata": {},
     "output_type": "display_data"
    },
    {
     "data": {
      "text/plain": [
       "<Figure size 720x720 with 0 Axes>"
      ]
     },
     "metadata": {},
     "output_type": "display_data"
    },
    {
     "data": {
      "text/plain": [
       "<Figure size 720x720 with 0 Axes>"
      ]
     },
     "metadata": {},
     "output_type": "display_data"
    },
    {
     "data": {
      "text/plain": [
       "<Figure size 720x720 with 0 Axes>"
      ]
     },
     "metadata": {},
     "output_type": "display_data"
    },
    {
     "data": {
      "text/plain": [
       "<Figure size 720x720 with 0 Axes>"
      ]
     },
     "metadata": {},
     "output_type": "display_data"
    },
    {
     "data": {
      "text/plain": [
       "<Figure size 720x720 with 0 Axes>"
      ]
     },
     "metadata": {},
     "output_type": "display_data"
    },
    {
     "data": {
      "text/plain": [
       "<Figure size 720x720 with 0 Axes>"
      ]
     },
     "metadata": {},
     "output_type": "display_data"
    },
    {
     "data": {
      "text/plain": [
       "<Figure size 720x720 with 0 Axes>"
      ]
     },
     "metadata": {},
     "output_type": "display_data"
    },
    {
     "data": {
      "text/plain": [
       "<Figure size 720x720 with 0 Axes>"
      ]
     },
     "metadata": {},
     "output_type": "display_data"
    },
    {
     "data": {
      "text/plain": [
       "<Figure size 720x720 with 0 Axes>"
      ]
     },
     "metadata": {},
     "output_type": "display_data"
    },
    {
     "data": {
      "text/plain": [
       "<Figure size 720x720 with 0 Axes>"
      ]
     },
     "metadata": {},
     "output_type": "display_data"
    },
    {
     "data": {
      "text/plain": [
       "<Figure size 720x720 with 0 Axes>"
      ]
     },
     "metadata": {},
     "output_type": "display_data"
    },
    {
     "data": {
      "text/plain": [
       "<Figure size 720x720 with 0 Axes>"
      ]
     },
     "metadata": {},
     "output_type": "display_data"
    },
    {
     "data": {
      "text/plain": [
       "<Figure size 720x720 with 0 Axes>"
      ]
     },
     "metadata": {},
     "output_type": "display_data"
    },
    {
     "data": {
      "text/plain": [
       "<Figure size 720x720 with 0 Axes>"
      ]
     },
     "metadata": {},
     "output_type": "display_data"
    },
    {
     "data": {
      "text/plain": [
       "<Figure size 720x720 with 0 Axes>"
      ]
     },
     "metadata": {},
     "output_type": "display_data"
    },
    {
     "data": {
      "text/plain": [
       "<Figure size 720x720 with 0 Axes>"
      ]
     },
     "metadata": {},
     "output_type": "display_data"
    },
    {
     "data": {
      "text/plain": [
       "<Figure size 720x720 with 0 Axes>"
      ]
     },
     "metadata": {},
     "output_type": "display_data"
    },
    {
     "data": {
      "text/plain": [
       "<Figure size 720x720 with 0 Axes>"
      ]
     },
     "metadata": {},
     "output_type": "display_data"
    },
    {
     "data": {
      "text/plain": [
       "<Figure size 720x720 with 0 Axes>"
      ]
     },
     "metadata": {},
     "output_type": "display_data"
    },
    {
     "data": {
      "text/plain": [
       "<Figure size 720x720 with 0 Axes>"
      ]
     },
     "metadata": {},
     "output_type": "display_data"
    },
    {
     "data": {
      "text/plain": [
       "<Figure size 720x720 with 0 Axes>"
      ]
     },
     "metadata": {},
     "output_type": "display_data"
    },
    {
     "data": {
      "text/plain": [
       "<Figure size 720x720 with 0 Axes>"
      ]
     },
     "metadata": {},
     "output_type": "display_data"
    },
    {
     "data": {
      "text/plain": [
       "<Figure size 720x720 with 0 Axes>"
      ]
     },
     "metadata": {},
     "output_type": "display_data"
    },
    {
     "data": {
      "text/plain": [
       "<Figure size 720x720 with 0 Axes>"
      ]
     },
     "metadata": {},
     "output_type": "display_data"
    },
    {
     "data": {
      "text/plain": [
       "<Figure size 720x720 with 0 Axes>"
      ]
     },
     "metadata": {},
     "output_type": "display_data"
    },
    {
     "data": {
      "text/plain": [
       "<Figure size 720x720 with 0 Axes>"
      ]
     },
     "metadata": {},
     "output_type": "display_data"
    },
    {
     "data": {
      "text/plain": [
       "<Figure size 720x720 with 0 Axes>"
      ]
     },
     "metadata": {},
     "output_type": "display_data"
    },
    {
     "data": {
      "text/plain": [
       "<Figure size 720x720 with 0 Axes>"
      ]
     },
     "metadata": {},
     "output_type": "display_data"
    },
    {
     "data": {
      "text/plain": [
       "<Figure size 720x720 with 0 Axes>"
      ]
     },
     "metadata": {},
     "output_type": "display_data"
    },
    {
     "data": {
      "text/plain": [
       "<Figure size 720x720 with 0 Axes>"
      ]
     },
     "metadata": {},
     "output_type": "display_data"
    },
    {
     "data": {
      "text/plain": [
       "<Figure size 720x720 with 0 Axes>"
      ]
     },
     "metadata": {},
     "output_type": "display_data"
    },
    {
     "data": {
      "text/plain": [
       "<Figure size 720x720 with 0 Axes>"
      ]
     },
     "metadata": {},
     "output_type": "display_data"
    },
    {
     "data": {
      "text/plain": [
       "<Figure size 720x720 with 0 Axes>"
      ]
     },
     "metadata": {},
     "output_type": "display_data"
    },
    {
     "data": {
      "text/plain": [
       "<Figure size 720x720 with 0 Axes>"
      ]
     },
     "metadata": {},
     "output_type": "display_data"
    },
    {
     "data": {
      "text/plain": [
       "<Figure size 720x720 with 0 Axes>"
      ]
     },
     "metadata": {},
     "output_type": "display_data"
    },
    {
     "data": {
      "text/plain": [
       "<Figure size 720x720 with 0 Axes>"
      ]
     },
     "metadata": {},
     "output_type": "display_data"
    },
    {
     "data": {
      "text/plain": [
       "<Figure size 720x720 with 0 Axes>"
      ]
     },
     "metadata": {},
     "output_type": "display_data"
    },
    {
     "data": {
      "text/plain": [
       "<Figure size 720x720 with 0 Axes>"
      ]
     },
     "metadata": {},
     "output_type": "display_data"
    },
    {
     "data": {
      "text/plain": [
       "<Figure size 720x720 with 0 Axes>"
      ]
     },
     "metadata": {},
     "output_type": "display_data"
    },
    {
     "data": {
      "text/plain": [
       "<Figure size 720x720 with 0 Axes>"
      ]
     },
     "metadata": {},
     "output_type": "display_data"
    },
    {
     "data": {
      "text/plain": [
       "<Figure size 720x720 with 0 Axes>"
      ]
     },
     "metadata": {},
     "output_type": "display_data"
    },
    {
     "data": {
      "text/plain": [
       "<Figure size 720x720 with 0 Axes>"
      ]
     },
     "metadata": {},
     "output_type": "display_data"
    },
    {
     "data": {
      "text/plain": [
       "<Figure size 720x720 with 0 Axes>"
      ]
     },
     "metadata": {},
     "output_type": "display_data"
    },
    {
     "data": {
      "text/plain": [
       "<Figure size 720x720 with 0 Axes>"
      ]
     },
     "metadata": {},
     "output_type": "display_data"
    },
    {
     "data": {
      "text/plain": [
       "<Figure size 720x720 with 0 Axes>"
      ]
     },
     "metadata": {},
     "output_type": "display_data"
    },
    {
     "data": {
      "text/plain": [
       "<Figure size 720x720 with 0 Axes>"
      ]
     },
     "metadata": {},
     "output_type": "display_data"
    },
    {
     "data": {
      "text/plain": [
       "<Figure size 720x720 with 0 Axes>"
      ]
     },
     "metadata": {},
     "output_type": "display_data"
    },
    {
     "data": {
      "text/plain": [
       "<Figure size 720x720 with 0 Axes>"
      ]
     },
     "metadata": {},
     "output_type": "display_data"
    },
    {
     "data": {
      "text/plain": [
       "<Figure size 720x720 with 0 Axes>"
      ]
     },
     "metadata": {},
     "output_type": "display_data"
    },
    {
     "data": {
      "text/plain": [
       "<Figure size 720x720 with 0 Axes>"
      ]
     },
     "metadata": {},
     "output_type": "display_data"
    },
    {
     "data": {
      "text/plain": [
       "<Figure size 720x720 with 0 Axes>"
      ]
     },
     "metadata": {},
     "output_type": "display_data"
    },
    {
     "data": {
      "text/plain": [
       "<Figure size 720x720 with 0 Axes>"
      ]
     },
     "metadata": {},
     "output_type": "display_data"
    },
    {
     "data": {
      "text/plain": [
       "<Figure size 720x720 with 0 Axes>"
      ]
     },
     "metadata": {},
     "output_type": "display_data"
    },
    {
     "data": {
      "text/plain": [
       "<Figure size 720x720 with 0 Axes>"
      ]
     },
     "metadata": {},
     "output_type": "display_data"
    },
    {
     "data": {
      "text/plain": [
       "<Figure size 720x720 with 0 Axes>"
      ]
     },
     "metadata": {},
     "output_type": "display_data"
    },
    {
     "data": {
      "text/plain": [
       "<Figure size 720x720 with 0 Axes>"
      ]
     },
     "metadata": {},
     "output_type": "display_data"
    },
    {
     "data": {
      "text/plain": [
       "<Figure size 720x720 with 0 Axes>"
      ]
     },
     "metadata": {},
     "output_type": "display_data"
    },
    {
     "data": {
      "text/plain": [
       "<Figure size 720x720 with 0 Axes>"
      ]
     },
     "metadata": {},
     "output_type": "display_data"
    },
    {
     "data": {
      "text/plain": [
       "<Figure size 720x720 with 0 Axes>"
      ]
     },
     "metadata": {},
     "output_type": "display_data"
    },
    {
     "data": {
      "text/plain": [
       "<Figure size 720x720 with 0 Axes>"
      ]
     },
     "metadata": {},
     "output_type": "display_data"
    },
    {
     "data": {
      "text/plain": [
       "<Figure size 720x720 with 0 Axes>"
      ]
     },
     "metadata": {},
     "output_type": "display_data"
    },
    {
     "data": {
      "text/plain": [
       "<Figure size 720x720 with 0 Axes>"
      ]
     },
     "metadata": {},
     "output_type": "display_data"
    },
    {
     "data": {
      "text/plain": [
       "<Figure size 720x720 with 0 Axes>"
      ]
     },
     "metadata": {},
     "output_type": "display_data"
    },
    {
     "data": {
      "text/plain": [
       "<Figure size 720x720 with 0 Axes>"
      ]
     },
     "metadata": {},
     "output_type": "display_data"
    },
    {
     "data": {
      "text/plain": [
       "<Figure size 720x720 with 0 Axes>"
      ]
     },
     "metadata": {},
     "output_type": "display_data"
    },
    {
     "data": {
      "text/plain": [
       "<Figure size 720x720 with 0 Axes>"
      ]
     },
     "metadata": {},
     "output_type": "display_data"
    },
    {
     "data": {
      "text/plain": [
       "<Figure size 720x720 with 0 Axes>"
      ]
     },
     "metadata": {},
     "output_type": "display_data"
    },
    {
     "data": {
      "text/plain": [
       "<Figure size 720x720 with 0 Axes>"
      ]
     },
     "metadata": {},
     "output_type": "display_data"
    },
    {
     "data": {
      "text/plain": [
       "<Figure size 720x720 with 0 Axes>"
      ]
     },
     "metadata": {},
     "output_type": "display_data"
    },
    {
     "data": {
      "text/plain": [
       "<Figure size 720x720 with 0 Axes>"
      ]
     },
     "metadata": {},
     "output_type": "display_data"
    },
    {
     "data": {
      "text/plain": [
       "<Figure size 720x720 with 0 Axes>"
      ]
     },
     "metadata": {},
     "output_type": "display_data"
    },
    {
     "data": {
      "text/plain": [
       "<Figure size 720x720 with 0 Axes>"
      ]
     },
     "metadata": {},
     "output_type": "display_data"
    },
    {
     "data": {
      "text/plain": [
       "<Figure size 720x720 with 0 Axes>"
      ]
     },
     "metadata": {},
     "output_type": "display_data"
    },
    {
     "data": {
      "text/plain": [
       "<Figure size 720x720 with 0 Axes>"
      ]
     },
     "metadata": {},
     "output_type": "display_data"
    },
    {
     "data": {
      "text/plain": [
       "<Figure size 720x720 with 0 Axes>"
      ]
     },
     "metadata": {},
     "output_type": "display_data"
    },
    {
     "data": {
      "text/plain": [
       "<Figure size 720x720 with 0 Axes>"
      ]
     },
     "metadata": {},
     "output_type": "display_data"
    },
    {
     "data": {
      "text/plain": [
       "<Figure size 720x720 with 0 Axes>"
      ]
     },
     "metadata": {},
     "output_type": "display_data"
    },
    {
     "data": {
      "text/plain": [
       "<Figure size 720x720 with 0 Axes>"
      ]
     },
     "metadata": {},
     "output_type": "display_data"
    },
    {
     "data": {
      "text/plain": [
       "<Figure size 720x720 with 0 Axes>"
      ]
     },
     "metadata": {},
     "output_type": "display_data"
    },
    {
     "data": {
      "text/plain": [
       "<Figure size 720x720 with 0 Axes>"
      ]
     },
     "metadata": {},
     "output_type": "display_data"
    },
    {
     "data": {
      "text/plain": [
       "<Figure size 720x720 with 0 Axes>"
      ]
     },
     "metadata": {},
     "output_type": "display_data"
    },
    {
     "data": {
      "text/plain": [
       "<Figure size 720x720 with 0 Axes>"
      ]
     },
     "metadata": {},
     "output_type": "display_data"
    },
    {
     "data": {
      "text/plain": [
       "<Figure size 720x720 with 0 Axes>"
      ]
     },
     "metadata": {},
     "output_type": "display_data"
    },
    {
     "data": {
      "text/plain": [
       "<Figure size 720x720 with 0 Axes>"
      ]
     },
     "metadata": {},
     "output_type": "display_data"
    },
    {
     "data": {
      "text/plain": [
       "<Figure size 720x720 with 0 Axes>"
      ]
     },
     "metadata": {},
     "output_type": "display_data"
    },
    {
     "data": {
      "text/plain": [
       "<Figure size 720x720 with 0 Axes>"
      ]
     },
     "metadata": {},
     "output_type": "display_data"
    },
    {
     "data": {
      "text/plain": [
       "<Figure size 720x720 with 0 Axes>"
      ]
     },
     "metadata": {},
     "output_type": "display_data"
    },
    {
     "data": {
      "text/plain": [
       "<Figure size 720x720 with 0 Axes>"
      ]
     },
     "metadata": {},
     "output_type": "display_data"
    },
    {
     "data": {
      "text/plain": [
       "<Figure size 720x720 with 0 Axes>"
      ]
     },
     "metadata": {},
     "output_type": "display_data"
    },
    {
     "data": {
      "text/plain": [
       "<Figure size 720x720 with 0 Axes>"
      ]
     },
     "metadata": {},
     "output_type": "display_data"
    },
    {
     "data": {
      "text/plain": [
       "<Figure size 720x720 with 0 Axes>"
      ]
     },
     "metadata": {},
     "output_type": "display_data"
    },
    {
     "data": {
      "text/plain": [
       "<Figure size 720x720 with 0 Axes>"
      ]
     },
     "metadata": {},
     "output_type": "display_data"
    },
    {
     "data": {
      "text/plain": [
       "<Figure size 720x720 with 0 Axes>"
      ]
     },
     "metadata": {},
     "output_type": "display_data"
    },
    {
     "data": {
      "text/plain": [
       "<Figure size 720x720 with 0 Axes>"
      ]
     },
     "metadata": {},
     "output_type": "display_data"
    },
    {
     "data": {
      "text/plain": [
       "<Figure size 720x720 with 0 Axes>"
      ]
     },
     "metadata": {},
     "output_type": "display_data"
    },
    {
     "data": {
      "text/plain": [
       "<Figure size 720x720 with 0 Axes>"
      ]
     },
     "metadata": {},
     "output_type": "display_data"
    },
    {
     "data": {
      "text/plain": [
       "<Figure size 720x720 with 0 Axes>"
      ]
     },
     "metadata": {},
     "output_type": "display_data"
    },
    {
     "data": {
      "text/plain": [
       "<Figure size 720x720 with 0 Axes>"
      ]
     },
     "metadata": {},
     "output_type": "display_data"
    },
    {
     "data": {
      "text/plain": [
       "<Figure size 720x720 with 0 Axes>"
      ]
     },
     "metadata": {},
     "output_type": "display_data"
    },
    {
     "data": {
      "text/plain": [
       "<Figure size 720x720 with 0 Axes>"
      ]
     },
     "metadata": {},
     "output_type": "display_data"
    },
    {
     "data": {
      "text/plain": [
       "<Figure size 720x720 with 0 Axes>"
      ]
     },
     "metadata": {},
     "output_type": "display_data"
    },
    {
     "data": {
      "text/plain": [
       "<Figure size 720x720 with 0 Axes>"
      ]
     },
     "metadata": {},
     "output_type": "display_data"
    },
    {
     "data": {
      "text/plain": [
       "<Figure size 720x720 with 0 Axes>"
      ]
     },
     "metadata": {},
     "output_type": "display_data"
    },
    {
     "data": {
      "text/plain": [
       "<Figure size 720x720 with 0 Axes>"
      ]
     },
     "metadata": {},
     "output_type": "display_data"
    },
    {
     "data": {
      "text/plain": [
       "<Figure size 720x720 with 0 Axes>"
      ]
     },
     "metadata": {},
     "output_type": "display_data"
    },
    {
     "data": {
      "text/plain": [
       "<Figure size 720x720 with 0 Axes>"
      ]
     },
     "metadata": {},
     "output_type": "display_data"
    },
    {
     "data": {
      "text/plain": [
       "<Figure size 720x720 with 0 Axes>"
      ]
     },
     "metadata": {},
     "output_type": "display_data"
    },
    {
     "data": {
      "text/plain": [
       "<Figure size 720x720 with 0 Axes>"
      ]
     },
     "metadata": {},
     "output_type": "display_data"
    },
    {
     "data": {
      "text/plain": [
       "<Figure size 720x720 with 0 Axes>"
      ]
     },
     "metadata": {},
     "output_type": "display_data"
    },
    {
     "data": {
      "text/plain": [
       "<Figure size 720x720 with 0 Axes>"
      ]
     },
     "metadata": {},
     "output_type": "display_data"
    },
    {
     "data": {
      "text/plain": [
       "<Figure size 720x720 with 0 Axes>"
      ]
     },
     "metadata": {},
     "output_type": "display_data"
    },
    {
     "data": {
      "text/plain": [
       "<Figure size 720x720 with 0 Axes>"
      ]
     },
     "metadata": {},
     "output_type": "display_data"
    },
    {
     "data": {
      "text/plain": [
       "<Figure size 720x720 with 0 Axes>"
      ]
     },
     "metadata": {},
     "output_type": "display_data"
    },
    {
     "data": {
      "text/plain": [
       "<Figure size 720x720 with 0 Axes>"
      ]
     },
     "metadata": {},
     "output_type": "display_data"
    },
    {
     "data": {
      "text/plain": [
       "<Figure size 720x720 with 0 Axes>"
      ]
     },
     "metadata": {},
     "output_type": "display_data"
    },
    {
     "data": {
      "text/plain": [
       "<Figure size 720x720 with 0 Axes>"
      ]
     },
     "metadata": {},
     "output_type": "display_data"
    },
    {
     "data": {
      "text/plain": [
       "<Figure size 720x720 with 0 Axes>"
      ]
     },
     "metadata": {},
     "output_type": "display_data"
    },
    {
     "data": {
      "text/plain": [
       "<Figure size 720x720 with 0 Axes>"
      ]
     },
     "metadata": {},
     "output_type": "display_data"
    },
    {
     "data": {
      "text/plain": [
       "<Figure size 720x720 with 0 Axes>"
      ]
     },
     "metadata": {},
     "output_type": "display_data"
    },
    {
     "data": {
      "text/plain": [
       "<Figure size 720x720 with 0 Axes>"
      ]
     },
     "metadata": {},
     "output_type": "display_data"
    },
    {
     "data": {
      "text/plain": [
       "<Figure size 720x720 with 0 Axes>"
      ]
     },
     "metadata": {},
     "output_type": "display_data"
    },
    {
     "data": {
      "text/plain": [
       "<Figure size 720x720 with 0 Axes>"
      ]
     },
     "metadata": {},
     "output_type": "display_data"
    },
    {
     "data": {
      "text/plain": [
       "<Figure size 720x720 with 0 Axes>"
      ]
     },
     "metadata": {},
     "output_type": "display_data"
    },
    {
     "data": {
      "text/plain": [
       "<Figure size 720x720 with 0 Axes>"
      ]
     },
     "metadata": {},
     "output_type": "display_data"
    },
    {
     "data": {
      "text/plain": [
       "<Figure size 720x720 with 0 Axes>"
      ]
     },
     "metadata": {},
     "output_type": "display_data"
    },
    {
     "data": {
      "text/plain": [
       "<Figure size 720x720 with 0 Axes>"
      ]
     },
     "metadata": {},
     "output_type": "display_data"
    },
    {
     "data": {
      "text/plain": [
       "<Figure size 720x720 with 0 Axes>"
      ]
     },
     "metadata": {},
     "output_type": "display_data"
    },
    {
     "data": {
      "text/plain": [
       "<Figure size 720x720 with 0 Axes>"
      ]
     },
     "metadata": {},
     "output_type": "display_data"
    },
    {
     "data": {
      "text/plain": [
       "<Figure size 720x720 with 0 Axes>"
      ]
     },
     "metadata": {},
     "output_type": "display_data"
    },
    {
     "data": {
      "text/plain": [
       "<Figure size 720x720 with 0 Axes>"
      ]
     },
     "metadata": {},
     "output_type": "display_data"
    },
    {
     "data": {
      "text/plain": [
       "<Figure size 720x720 with 0 Axes>"
      ]
     },
     "metadata": {},
     "output_type": "display_data"
    },
    {
     "data": {
      "text/plain": [
       "<Figure size 720x720 with 0 Axes>"
      ]
     },
     "metadata": {},
     "output_type": "display_data"
    },
    {
     "data": {
      "text/plain": [
       "<Figure size 720x720 with 0 Axes>"
      ]
     },
     "metadata": {},
     "output_type": "display_data"
    },
    {
     "data": {
      "text/plain": [
       "<Figure size 720x720 with 0 Axes>"
      ]
     },
     "metadata": {},
     "output_type": "display_data"
    },
    {
     "data": {
      "text/plain": [
       "<Figure size 720x720 with 0 Axes>"
      ]
     },
     "metadata": {},
     "output_type": "display_data"
    },
    {
     "data": {
      "text/plain": [
       "<Figure size 720x720 with 0 Axes>"
      ]
     },
     "metadata": {},
     "output_type": "display_data"
    },
    {
     "data": {
      "text/plain": [
       "<Figure size 720x720 with 0 Axes>"
      ]
     },
     "metadata": {},
     "output_type": "display_data"
    },
    {
     "data": {
      "text/plain": [
       "<Figure size 720x720 with 0 Axes>"
      ]
     },
     "metadata": {},
     "output_type": "display_data"
    },
    {
     "data": {
      "text/plain": [
       "<Figure size 720x720 with 0 Axes>"
      ]
     },
     "metadata": {},
     "output_type": "display_data"
    },
    {
     "data": {
      "text/plain": [
       "<Figure size 720x720 with 0 Axes>"
      ]
     },
     "metadata": {},
     "output_type": "display_data"
    },
    {
     "data": {
      "text/plain": [
       "<Figure size 720x720 with 0 Axes>"
      ]
     },
     "metadata": {},
     "output_type": "display_data"
    },
    {
     "data": {
      "text/plain": [
       "<Figure size 720x720 with 0 Axes>"
      ]
     },
     "metadata": {},
     "output_type": "display_data"
    },
    {
     "data": {
      "text/plain": [
       "<Figure size 720x720 with 0 Axes>"
      ]
     },
     "metadata": {},
     "output_type": "display_data"
    },
    {
     "data": {
      "text/plain": [
       "<Figure size 720x720 with 0 Axes>"
      ]
     },
     "metadata": {},
     "output_type": "display_data"
    },
    {
     "data": {
      "text/plain": [
       "<Figure size 720x720 with 0 Axes>"
      ]
     },
     "metadata": {},
     "output_type": "display_data"
    },
    {
     "data": {
      "text/plain": [
       "<Figure size 720x720 with 0 Axes>"
      ]
     },
     "metadata": {},
     "output_type": "display_data"
    },
    {
     "data": {
      "text/plain": [
       "<Figure size 720x720 with 0 Axes>"
      ]
     },
     "metadata": {},
     "output_type": "display_data"
    },
    {
     "data": {
      "text/plain": [
       "<Figure size 720x720 with 0 Axes>"
      ]
     },
     "metadata": {},
     "output_type": "display_data"
    },
    {
     "data": {
      "text/plain": [
       "<Figure size 720x720 with 0 Axes>"
      ]
     },
     "metadata": {},
     "output_type": "display_data"
    },
    {
     "data": {
      "text/plain": [
       "<Figure size 720x720 with 0 Axes>"
      ]
     },
     "metadata": {},
     "output_type": "display_data"
    },
    {
     "data": {
      "text/plain": [
       "<Figure size 720x720 with 0 Axes>"
      ]
     },
     "metadata": {},
     "output_type": "display_data"
    },
    {
     "data": {
      "text/plain": [
       "<Figure size 720x720 with 0 Axes>"
      ]
     },
     "metadata": {},
     "output_type": "display_data"
    },
    {
     "data": {
      "text/plain": [
       "<Figure size 720x720 with 0 Axes>"
      ]
     },
     "metadata": {},
     "output_type": "display_data"
    },
    {
     "data": {
      "text/plain": [
       "<Figure size 720x720 with 0 Axes>"
      ]
     },
     "metadata": {},
     "output_type": "display_data"
    },
    {
     "data": {
      "text/plain": [
       "<Figure size 720x720 with 0 Axes>"
      ]
     },
     "metadata": {},
     "output_type": "display_data"
    },
    {
     "data": {
      "text/plain": [
       "<Figure size 720x720 with 0 Axes>"
      ]
     },
     "metadata": {},
     "output_type": "display_data"
    },
    {
     "data": {
      "text/plain": [
       "<Figure size 720x720 with 0 Axes>"
      ]
     },
     "metadata": {},
     "output_type": "display_data"
    },
    {
     "data": {
      "text/plain": [
       "<Figure size 720x720 with 0 Axes>"
      ]
     },
     "metadata": {},
     "output_type": "display_data"
    },
    {
     "data": {
      "text/plain": [
       "<Figure size 720x720 with 0 Axes>"
      ]
     },
     "metadata": {},
     "output_type": "display_data"
    },
    {
     "data": {
      "text/plain": [
       "<Figure size 720x720 with 0 Axes>"
      ]
     },
     "metadata": {},
     "output_type": "display_data"
    },
    {
     "data": {
      "text/plain": [
       "<Figure size 720x720 with 0 Axes>"
      ]
     },
     "metadata": {},
     "output_type": "display_data"
    },
    {
     "data": {
      "text/plain": [
       "<Figure size 720x720 with 0 Axes>"
      ]
     },
     "metadata": {},
     "output_type": "display_data"
    },
    {
     "data": {
      "text/plain": [
       "<Figure size 720x720 with 0 Axes>"
      ]
     },
     "metadata": {},
     "output_type": "display_data"
    },
    {
     "data": {
      "text/plain": [
       "<Figure size 720x720 with 0 Axes>"
      ]
     },
     "metadata": {},
     "output_type": "display_data"
    },
    {
     "data": {
      "text/plain": [
       "<Figure size 720x720 with 0 Axes>"
      ]
     },
     "metadata": {},
     "output_type": "display_data"
    },
    {
     "data": {
      "text/plain": [
       "<Figure size 720x720 with 0 Axes>"
      ]
     },
     "metadata": {},
     "output_type": "display_data"
    },
    {
     "data": {
      "text/plain": [
       "<Figure size 720x720 with 0 Axes>"
      ]
     },
     "metadata": {},
     "output_type": "display_data"
    },
    {
     "data": {
      "text/plain": [
       "<Figure size 720x720 with 0 Axes>"
      ]
     },
     "metadata": {},
     "output_type": "display_data"
    },
    {
     "data": {
      "text/plain": [
       "<Figure size 720x720 with 0 Axes>"
      ]
     },
     "metadata": {},
     "output_type": "display_data"
    },
    {
     "data": {
      "text/plain": [
       "<Figure size 720x720 with 0 Axes>"
      ]
     },
     "metadata": {},
     "output_type": "display_data"
    },
    {
     "data": {
      "text/plain": [
       "<Figure size 720x720 with 0 Axes>"
      ]
     },
     "metadata": {},
     "output_type": "display_data"
    },
    {
     "data": {
      "text/plain": [
       "<Figure size 720x720 with 0 Axes>"
      ]
     },
     "metadata": {},
     "output_type": "display_data"
    },
    {
     "data": {
      "text/plain": [
       "<Figure size 720x720 with 0 Axes>"
      ]
     },
     "metadata": {},
     "output_type": "display_data"
    },
    {
     "data": {
      "text/plain": [
       "<Figure size 720x720 with 0 Axes>"
      ]
     },
     "metadata": {},
     "output_type": "display_data"
    },
    {
     "data": {
      "text/plain": [
       "<Figure size 720x720 with 0 Axes>"
      ]
     },
     "metadata": {},
     "output_type": "display_data"
    },
    {
     "data": {
      "text/plain": [
       "<Figure size 720x720 with 0 Axes>"
      ]
     },
     "metadata": {},
     "output_type": "display_data"
    },
    {
     "data": {
      "text/plain": [
       "<Figure size 720x720 with 0 Axes>"
      ]
     },
     "metadata": {},
     "output_type": "display_data"
    },
    {
     "data": {
      "text/plain": [
       "<Figure size 720x720 with 0 Axes>"
      ]
     },
     "metadata": {},
     "output_type": "display_data"
    },
    {
     "data": {
      "text/plain": [
       "<Figure size 720x720 with 0 Axes>"
      ]
     },
     "metadata": {},
     "output_type": "display_data"
    },
    {
     "data": {
      "text/plain": [
       "<Figure size 720x720 with 0 Axes>"
      ]
     },
     "metadata": {},
     "output_type": "display_data"
    },
    {
     "data": {
      "text/plain": [
       "<Figure size 720x720 with 0 Axes>"
      ]
     },
     "metadata": {},
     "output_type": "display_data"
    },
    {
     "data": {
      "text/plain": [
       "<Figure size 720x720 with 0 Axes>"
      ]
     },
     "metadata": {},
     "output_type": "display_data"
    },
    {
     "data": {
      "text/plain": [
       "<Figure size 720x720 with 0 Axes>"
      ]
     },
     "metadata": {},
     "output_type": "display_data"
    },
    {
     "data": {
      "text/plain": [
       "<Figure size 720x720 with 0 Axes>"
      ]
     },
     "metadata": {},
     "output_type": "display_data"
    },
    {
     "data": {
      "text/plain": [
       "<Figure size 720x720 with 0 Axes>"
      ]
     },
     "metadata": {},
     "output_type": "display_data"
    },
    {
     "data": {
      "text/plain": [
       "<Figure size 720x720 with 0 Axes>"
      ]
     },
     "metadata": {},
     "output_type": "display_data"
    },
    {
     "data": {
      "text/plain": [
       "<Figure size 720x720 with 0 Axes>"
      ]
     },
     "metadata": {},
     "output_type": "display_data"
    },
    {
     "data": {
      "text/plain": [
       "<Figure size 720x720 with 0 Axes>"
      ]
     },
     "metadata": {},
     "output_type": "display_data"
    },
    {
     "data": {
      "text/plain": [
       "<Figure size 720x720 with 0 Axes>"
      ]
     },
     "metadata": {},
     "output_type": "display_data"
    },
    {
     "data": {
      "text/plain": [
       "<Figure size 720x720 with 0 Axes>"
      ]
     },
     "metadata": {},
     "output_type": "display_data"
    },
    {
     "data": {
      "text/plain": [
       "<Figure size 720x720 with 0 Axes>"
      ]
     },
     "metadata": {},
     "output_type": "display_data"
    },
    {
     "data": {
      "text/plain": [
       "<Figure size 720x720 with 0 Axes>"
      ]
     },
     "metadata": {},
     "output_type": "display_data"
    },
    {
     "data": {
      "text/plain": [
       "<Figure size 720x720 with 0 Axes>"
      ]
     },
     "metadata": {},
     "output_type": "display_data"
    },
    {
     "data": {
      "text/plain": [
       "<Figure size 720x720 with 0 Axes>"
      ]
     },
     "metadata": {},
     "output_type": "display_data"
    },
    {
     "data": {
      "text/plain": [
       "<Figure size 720x720 with 0 Axes>"
      ]
     },
     "metadata": {},
     "output_type": "display_data"
    },
    {
     "data": {
      "text/plain": [
       "<Figure size 720x720 with 0 Axes>"
      ]
     },
     "metadata": {},
     "output_type": "display_data"
    },
    {
     "data": {
      "text/plain": [
       "<Figure size 720x720 with 0 Axes>"
      ]
     },
     "metadata": {},
     "output_type": "display_data"
    },
    {
     "data": {
      "text/plain": [
       "<Figure size 720x720 with 0 Axes>"
      ]
     },
     "metadata": {},
     "output_type": "display_data"
    },
    {
     "data": {
      "text/plain": [
       "<Figure size 720x720 with 0 Axes>"
      ]
     },
     "metadata": {},
     "output_type": "display_data"
    },
    {
     "data": {
      "text/plain": [
       "<Figure size 720x720 with 0 Axes>"
      ]
     },
     "metadata": {},
     "output_type": "display_data"
    },
    {
     "data": {
      "text/plain": [
       "<Figure size 720x720 with 0 Axes>"
      ]
     },
     "metadata": {},
     "output_type": "display_data"
    },
    {
     "data": {
      "text/plain": [
       "<Figure size 720x720 with 0 Axes>"
      ]
     },
     "metadata": {},
     "output_type": "display_data"
    },
    {
     "data": {
      "text/plain": [
       "<Figure size 720x720 with 0 Axes>"
      ]
     },
     "metadata": {},
     "output_type": "display_data"
    },
    {
     "data": {
      "text/plain": [
       "<Figure size 720x720 with 0 Axes>"
      ]
     },
     "metadata": {},
     "output_type": "display_data"
    },
    {
     "data": {
      "text/plain": [
       "<Figure size 720x720 with 0 Axes>"
      ]
     },
     "metadata": {},
     "output_type": "display_data"
    },
    {
     "data": {
      "text/plain": [
       "<Figure size 720x720 with 0 Axes>"
      ]
     },
     "metadata": {},
     "output_type": "display_data"
    },
    {
     "data": {
      "text/plain": [
       "<Figure size 720x720 with 0 Axes>"
      ]
     },
     "metadata": {},
     "output_type": "display_data"
    },
    {
     "data": {
      "text/plain": [
       "<Figure size 720x720 with 0 Axes>"
      ]
     },
     "metadata": {},
     "output_type": "display_data"
    },
    {
     "data": {
      "text/plain": [
       "<Figure size 720x720 with 0 Axes>"
      ]
     },
     "metadata": {},
     "output_type": "display_data"
    },
    {
     "data": {
      "text/plain": [
       "<Figure size 720x720 with 0 Axes>"
      ]
     },
     "metadata": {},
     "output_type": "display_data"
    },
    {
     "data": {
      "text/plain": [
       "<Figure size 720x720 with 0 Axes>"
      ]
     },
     "metadata": {},
     "output_type": "display_data"
    },
    {
     "data": {
      "text/plain": [
       "<Figure size 720x720 with 0 Axes>"
      ]
     },
     "metadata": {},
     "output_type": "display_data"
    },
    {
     "data": {
      "text/plain": [
       "<Figure size 720x720 with 0 Axes>"
      ]
     },
     "metadata": {},
     "output_type": "display_data"
    },
    {
     "data": {
      "text/plain": [
       "<Figure size 720x720 with 0 Axes>"
      ]
     },
     "metadata": {},
     "output_type": "display_data"
    },
    {
     "data": {
      "text/plain": [
       "<Figure size 720x720 with 0 Axes>"
      ]
     },
     "metadata": {},
     "output_type": "display_data"
    },
    {
     "data": {
      "text/plain": [
       "<Figure size 720x720 with 0 Axes>"
      ]
     },
     "metadata": {},
     "output_type": "display_data"
    },
    {
     "data": {
      "text/plain": [
       "<Figure size 720x720 with 0 Axes>"
      ]
     },
     "metadata": {},
     "output_type": "display_data"
    },
    {
     "data": {
      "text/plain": [
       "<Figure size 720x720 with 0 Axes>"
      ]
     },
     "metadata": {},
     "output_type": "display_data"
    },
    {
     "data": {
      "text/plain": [
       "<Figure size 720x720 with 0 Axes>"
      ]
     },
     "metadata": {},
     "output_type": "display_data"
    },
    {
     "data": {
      "text/plain": [
       "<Figure size 720x720 with 0 Axes>"
      ]
     },
     "metadata": {},
     "output_type": "display_data"
    },
    {
     "data": {
      "text/plain": [
       "<Figure size 720x720 with 0 Axes>"
      ]
     },
     "metadata": {},
     "output_type": "display_data"
    },
    {
     "data": {
      "text/plain": [
       "<Figure size 720x720 with 0 Axes>"
      ]
     },
     "metadata": {},
     "output_type": "display_data"
    },
    {
     "data": {
      "text/plain": [
       "<Figure size 720x720 with 0 Axes>"
      ]
     },
     "metadata": {},
     "output_type": "display_data"
    },
    {
     "data": {
      "text/plain": [
       "<Figure size 720x720 with 0 Axes>"
      ]
     },
     "metadata": {},
     "output_type": "display_data"
    },
    {
     "data": {
      "text/plain": [
       "<Figure size 720x720 with 0 Axes>"
      ]
     },
     "metadata": {},
     "output_type": "display_data"
    },
    {
     "data": {
      "text/plain": [
       "<Figure size 720x720 with 0 Axes>"
      ]
     },
     "metadata": {},
     "output_type": "display_data"
    },
    {
     "data": {
      "text/plain": [
       "<Figure size 720x720 with 0 Axes>"
      ]
     },
     "metadata": {},
     "output_type": "display_data"
    },
    {
     "data": {
      "text/plain": [
       "<Figure size 720x720 with 0 Axes>"
      ]
     },
     "metadata": {},
     "output_type": "display_data"
    },
    {
     "data": {
      "text/plain": [
       "<Figure size 720x720 with 0 Axes>"
      ]
     },
     "metadata": {},
     "output_type": "display_data"
    },
    {
     "data": {
      "text/plain": [
       "<Figure size 720x720 with 0 Axes>"
      ]
     },
     "metadata": {},
     "output_type": "display_data"
    },
    {
     "data": {
      "text/plain": [
       "<Figure size 720x720 with 0 Axes>"
      ]
     },
     "metadata": {},
     "output_type": "display_data"
    },
    {
     "data": {
      "text/plain": [
       "<Figure size 720x720 with 0 Axes>"
      ]
     },
     "metadata": {},
     "output_type": "display_data"
    },
    {
     "data": {
      "text/plain": [
       "<Figure size 720x720 with 0 Axes>"
      ]
     },
     "metadata": {},
     "output_type": "display_data"
    },
    {
     "data": {
      "text/plain": [
       "<Figure size 720x720 with 0 Axes>"
      ]
     },
     "metadata": {},
     "output_type": "display_data"
    },
    {
     "data": {
      "text/plain": [
       "<Figure size 720x720 with 0 Axes>"
      ]
     },
     "metadata": {},
     "output_type": "display_data"
    },
    {
     "data": {
      "text/plain": [
       "<Figure size 720x720 with 0 Axes>"
      ]
     },
     "metadata": {},
     "output_type": "display_data"
    },
    {
     "data": {
      "text/plain": [
       "<Figure size 720x720 with 0 Axes>"
      ]
     },
     "metadata": {},
     "output_type": "display_data"
    },
    {
     "data": {
      "text/plain": [
       "<Figure size 720x720 with 0 Axes>"
      ]
     },
     "metadata": {},
     "output_type": "display_data"
    },
    {
     "data": {
      "text/plain": [
       "<Figure size 720x720 with 0 Axes>"
      ]
     },
     "metadata": {},
     "output_type": "display_data"
    },
    {
     "data": {
      "text/plain": [
       "<Figure size 720x720 with 0 Axes>"
      ]
     },
     "metadata": {},
     "output_type": "display_data"
    },
    {
     "data": {
      "text/plain": [
       "<Figure size 720x720 with 0 Axes>"
      ]
     },
     "metadata": {},
     "output_type": "display_data"
    },
    {
     "data": {
      "text/plain": [
       "<Figure size 720x720 with 0 Axes>"
      ]
     },
     "metadata": {},
     "output_type": "display_data"
    },
    {
     "data": {
      "text/plain": [
       "<Figure size 720x720 with 0 Axes>"
      ]
     },
     "metadata": {},
     "output_type": "display_data"
    },
    {
     "data": {
      "text/plain": [
       "<Figure size 720x720 with 0 Axes>"
      ]
     },
     "metadata": {},
     "output_type": "display_data"
    },
    {
     "data": {
      "text/plain": [
       "<Figure size 720x720 with 0 Axes>"
      ]
     },
     "metadata": {},
     "output_type": "display_data"
    },
    {
     "data": {
      "text/plain": [
       "<Figure size 720x720 with 0 Axes>"
      ]
     },
     "metadata": {},
     "output_type": "display_data"
    },
    {
     "data": {
      "text/plain": [
       "<Figure size 720x720 with 0 Axes>"
      ]
     },
     "metadata": {},
     "output_type": "display_data"
    },
    {
     "data": {
      "text/plain": [
       "<Figure size 720x720 with 0 Axes>"
      ]
     },
     "metadata": {},
     "output_type": "display_data"
    },
    {
     "data": {
      "text/plain": [
       "<Figure size 720x720 with 0 Axes>"
      ]
     },
     "metadata": {},
     "output_type": "display_data"
    },
    {
     "data": {
      "text/plain": [
       "<Figure size 720x720 with 0 Axes>"
      ]
     },
     "metadata": {},
     "output_type": "display_data"
    },
    {
     "data": {
      "text/plain": [
       "<Figure size 720x720 with 0 Axes>"
      ]
     },
     "metadata": {},
     "output_type": "display_data"
    },
    {
     "data": {
      "text/plain": [
       "<Figure size 720x720 with 0 Axes>"
      ]
     },
     "metadata": {},
     "output_type": "display_data"
    },
    {
     "data": {
      "text/plain": [
       "<Figure size 720x720 with 0 Axes>"
      ]
     },
     "metadata": {},
     "output_type": "display_data"
    },
    {
     "data": {
      "text/plain": [
       "<Figure size 720x720 with 0 Axes>"
      ]
     },
     "metadata": {},
     "output_type": "display_data"
    },
    {
     "data": {
      "text/plain": [
       "<Figure size 720x720 with 0 Axes>"
      ]
     },
     "metadata": {},
     "output_type": "display_data"
    },
    {
     "data": {
      "text/plain": [
       "<Figure size 720x720 with 0 Axes>"
      ]
     },
     "metadata": {},
     "output_type": "display_data"
    },
    {
     "data": {
      "text/plain": [
       "<Figure size 720x720 with 0 Axes>"
      ]
     },
     "metadata": {},
     "output_type": "display_data"
    },
    {
     "data": {
      "text/plain": [
       "<Figure size 720x720 with 0 Axes>"
      ]
     },
     "metadata": {},
     "output_type": "display_data"
    },
    {
     "data": {
      "text/plain": [
       "<Figure size 720x720 with 0 Axes>"
      ]
     },
     "metadata": {},
     "output_type": "display_data"
    },
    {
     "data": {
      "text/plain": [
       "<Figure size 720x720 with 0 Axes>"
      ]
     },
     "metadata": {},
     "output_type": "display_data"
    },
    {
     "data": {
      "text/plain": [
       "<Figure size 720x720 with 0 Axes>"
      ]
     },
     "metadata": {},
     "output_type": "display_data"
    },
    {
     "data": {
      "text/plain": [
       "<Figure size 720x720 with 0 Axes>"
      ]
     },
     "metadata": {},
     "output_type": "display_data"
    },
    {
     "data": {
      "text/plain": [
       "<Figure size 720x720 with 0 Axes>"
      ]
     },
     "metadata": {},
     "output_type": "display_data"
    },
    {
     "data": {
      "text/plain": [
       "<Figure size 720x720 with 0 Axes>"
      ]
     },
     "metadata": {},
     "output_type": "display_data"
    },
    {
     "data": {
      "text/plain": [
       "<Figure size 720x720 with 0 Axes>"
      ]
     },
     "metadata": {},
     "output_type": "display_data"
    },
    {
     "data": {
      "text/plain": [
       "<Figure size 720x720 with 0 Axes>"
      ]
     },
     "metadata": {},
     "output_type": "display_data"
    },
    {
     "data": {
      "text/plain": [
       "<Figure size 720x720 with 0 Axes>"
      ]
     },
     "metadata": {},
     "output_type": "display_data"
    },
    {
     "data": {
      "text/plain": [
       "<Figure size 720x720 with 0 Axes>"
      ]
     },
     "metadata": {},
     "output_type": "display_data"
    },
    {
     "data": {
      "text/plain": [
       "<Figure size 720x720 with 0 Axes>"
      ]
     },
     "metadata": {},
     "output_type": "display_data"
    },
    {
     "data": {
      "text/plain": [
       "<Figure size 720x720 with 0 Axes>"
      ]
     },
     "metadata": {},
     "output_type": "display_data"
    },
    {
     "data": {
      "text/plain": [
       "<Figure size 720x720 with 0 Axes>"
      ]
     },
     "metadata": {},
     "output_type": "display_data"
    },
    {
     "data": {
      "text/plain": [
       "<Figure size 720x720 with 0 Axes>"
      ]
     },
     "metadata": {},
     "output_type": "display_data"
    },
    {
     "data": {
      "text/plain": [
       "<Figure size 720x720 with 0 Axes>"
      ]
     },
     "metadata": {},
     "output_type": "display_data"
    },
    {
     "data": {
      "text/plain": [
       "<Figure size 720x720 with 0 Axes>"
      ]
     },
     "metadata": {},
     "output_type": "display_data"
    },
    {
     "data": {
      "text/plain": [
       "<Figure size 720x720 with 0 Axes>"
      ]
     },
     "metadata": {},
     "output_type": "display_data"
    },
    {
     "data": {
      "text/plain": [
       "<Figure size 720x720 with 0 Axes>"
      ]
     },
     "metadata": {},
     "output_type": "display_data"
    },
    {
     "data": {
      "text/plain": [
       "<Figure size 720x720 with 0 Axes>"
      ]
     },
     "metadata": {},
     "output_type": "display_data"
    },
    {
     "data": {
      "text/plain": [
       "<Figure size 720x720 with 0 Axes>"
      ]
     },
     "metadata": {},
     "output_type": "display_data"
    },
    {
     "data": {
      "text/plain": [
       "<Figure size 720x720 with 0 Axes>"
      ]
     },
     "metadata": {},
     "output_type": "display_data"
    },
    {
     "data": {
      "text/plain": [
       "<Figure size 720x720 with 0 Axes>"
      ]
     },
     "metadata": {},
     "output_type": "display_data"
    },
    {
     "data": {
      "text/plain": [
       "<Figure size 720x720 with 0 Axes>"
      ]
     },
     "metadata": {},
     "output_type": "display_data"
    },
    {
     "data": {
      "text/plain": [
       "<Figure size 720x720 with 0 Axes>"
      ]
     },
     "metadata": {},
     "output_type": "display_data"
    },
    {
     "data": {
      "text/plain": [
       "<Figure size 720x720 with 0 Axes>"
      ]
     },
     "metadata": {},
     "output_type": "display_data"
    },
    {
     "data": {
      "text/plain": [
       "<Figure size 720x720 with 0 Axes>"
      ]
     },
     "metadata": {},
     "output_type": "display_data"
    },
    {
     "data": {
      "text/plain": [
       "<Figure size 720x720 with 0 Axes>"
      ]
     },
     "metadata": {},
     "output_type": "display_data"
    },
    {
     "data": {
      "text/plain": [
       "<Figure size 720x720 with 0 Axes>"
      ]
     },
     "metadata": {},
     "output_type": "display_data"
    },
    {
     "data": {
      "text/plain": [
       "<Figure size 720x720 with 0 Axes>"
      ]
     },
     "metadata": {},
     "output_type": "display_data"
    },
    {
     "data": {
      "text/plain": [
       "<Figure size 720x720 with 0 Axes>"
      ]
     },
     "metadata": {},
     "output_type": "display_data"
    },
    {
     "data": {
      "text/plain": [
       "<Figure size 720x720 with 0 Axes>"
      ]
     },
     "metadata": {},
     "output_type": "display_data"
    },
    {
     "data": {
      "text/plain": [
       "<Figure size 720x720 with 0 Axes>"
      ]
     },
     "metadata": {},
     "output_type": "display_data"
    },
    {
     "data": {
      "text/plain": [
       "<Figure size 720x720 with 0 Axes>"
      ]
     },
     "metadata": {},
     "output_type": "display_data"
    },
    {
     "data": {
      "text/plain": [
       "<Figure size 720x720 with 0 Axes>"
      ]
     },
     "metadata": {},
     "output_type": "display_data"
    },
    {
     "data": {
      "text/plain": [
       "<Figure size 720x720 with 0 Axes>"
      ]
     },
     "metadata": {},
     "output_type": "display_data"
    },
    {
     "data": {
      "text/plain": [
       "<Figure size 720x720 with 0 Axes>"
      ]
     },
     "metadata": {},
     "output_type": "display_data"
    },
    {
     "data": {
      "text/plain": [
       "<Figure size 720x720 with 0 Axes>"
      ]
     },
     "metadata": {},
     "output_type": "display_data"
    },
    {
     "data": {
      "text/plain": [
       "<Figure size 720x720 with 0 Axes>"
      ]
     },
     "metadata": {},
     "output_type": "display_data"
    },
    {
     "data": {
      "text/plain": [
       "<Figure size 720x720 with 0 Axes>"
      ]
     },
     "metadata": {},
     "output_type": "display_data"
    },
    {
     "data": {
      "text/plain": [
       "<Figure size 720x720 with 0 Axes>"
      ]
     },
     "metadata": {},
     "output_type": "display_data"
    },
    {
     "data": {
      "text/plain": [
       "<Figure size 720x720 with 0 Axes>"
      ]
     },
     "metadata": {},
     "output_type": "display_data"
    },
    {
     "data": {
      "text/plain": [
       "<Figure size 720x720 with 0 Axes>"
      ]
     },
     "metadata": {},
     "output_type": "display_data"
    },
    {
     "data": {
      "text/plain": [
       "<Figure size 720x720 with 0 Axes>"
      ]
     },
     "metadata": {},
     "output_type": "display_data"
    },
    {
     "data": {
      "text/plain": [
       "<Figure size 720x720 with 0 Axes>"
      ]
     },
     "metadata": {},
     "output_type": "display_data"
    },
    {
     "data": {
      "text/plain": [
       "<Figure size 720x720 with 0 Axes>"
      ]
     },
     "metadata": {},
     "output_type": "display_data"
    },
    {
     "data": {
      "text/plain": [
       "<Figure size 720x720 with 0 Axes>"
      ]
     },
     "metadata": {},
     "output_type": "display_data"
    },
    {
     "data": {
      "text/plain": [
       "<Figure size 720x720 with 0 Axes>"
      ]
     },
     "metadata": {},
     "output_type": "display_data"
    },
    {
     "data": {
      "text/plain": [
       "<Figure size 720x720 with 0 Axes>"
      ]
     },
     "metadata": {},
     "output_type": "display_data"
    },
    {
     "data": {
      "text/plain": [
       "<Figure size 720x720 with 0 Axes>"
      ]
     },
     "metadata": {},
     "output_type": "display_data"
    },
    {
     "data": {
      "text/plain": [
       "<Figure size 720x720 with 0 Axes>"
      ]
     },
     "metadata": {},
     "output_type": "display_data"
    },
    {
     "data": {
      "text/plain": [
       "<Figure size 720x720 with 0 Axes>"
      ]
     },
     "metadata": {},
     "output_type": "display_data"
    },
    {
     "data": {
      "text/plain": [
       "<Figure size 720x720 with 0 Axes>"
      ]
     },
     "metadata": {},
     "output_type": "display_data"
    },
    {
     "data": {
      "text/plain": [
       "<Figure size 720x720 with 0 Axes>"
      ]
     },
     "metadata": {},
     "output_type": "display_data"
    },
    {
     "data": {
      "text/plain": [
       "<Figure size 720x720 with 0 Axes>"
      ]
     },
     "metadata": {},
     "output_type": "display_data"
    },
    {
     "data": {
      "text/plain": [
       "<Figure size 720x720 with 0 Axes>"
      ]
     },
     "metadata": {},
     "output_type": "display_data"
    },
    {
     "data": {
      "text/plain": [
       "<Figure size 720x720 with 0 Axes>"
      ]
     },
     "metadata": {},
     "output_type": "display_data"
    },
    {
     "data": {
      "text/plain": [
       "<Figure size 720x720 with 0 Axes>"
      ]
     },
     "metadata": {},
     "output_type": "display_data"
    },
    {
     "data": {
      "text/plain": [
       "<Figure size 720x720 with 0 Axes>"
      ]
     },
     "metadata": {},
     "output_type": "display_data"
    },
    {
     "data": {
      "text/plain": [
       "<Figure size 720x720 with 0 Axes>"
      ]
     },
     "metadata": {},
     "output_type": "display_data"
    },
    {
     "data": {
      "text/plain": [
       "<Figure size 720x720 with 0 Axes>"
      ]
     },
     "metadata": {},
     "output_type": "display_data"
    },
    {
     "data": {
      "text/plain": [
       "<Figure size 720x720 with 0 Axes>"
      ]
     },
     "metadata": {},
     "output_type": "display_data"
    },
    {
     "data": {
      "text/plain": [
       "<Figure size 720x720 with 0 Axes>"
      ]
     },
     "metadata": {},
     "output_type": "display_data"
    },
    {
     "data": {
      "text/plain": [
       "<Figure size 720x720 with 0 Axes>"
      ]
     },
     "metadata": {},
     "output_type": "display_data"
    },
    {
     "data": {
      "text/plain": [
       "<Figure size 720x720 with 0 Axes>"
      ]
     },
     "metadata": {},
     "output_type": "display_data"
    },
    {
     "data": {
      "text/plain": [
       "<Figure size 720x720 with 0 Axes>"
      ]
     },
     "metadata": {},
     "output_type": "display_data"
    },
    {
     "data": {
      "text/plain": [
       "<Figure size 720x720 with 0 Axes>"
      ]
     },
     "metadata": {},
     "output_type": "display_data"
    },
    {
     "data": {
      "text/plain": [
       "<Figure size 720x720 with 0 Axes>"
      ]
     },
     "metadata": {},
     "output_type": "display_data"
    },
    {
     "data": {
      "text/plain": [
       "<Figure size 720x720 with 0 Axes>"
      ]
     },
     "metadata": {},
     "output_type": "display_data"
    },
    {
     "data": {
      "text/plain": [
       "<Figure size 720x720 with 0 Axes>"
      ]
     },
     "metadata": {},
     "output_type": "display_data"
    },
    {
     "data": {
      "text/plain": [
       "<Figure size 720x720 with 0 Axes>"
      ]
     },
     "metadata": {},
     "output_type": "display_data"
    },
    {
     "data": {
      "text/plain": [
       "<Figure size 720x720 with 0 Axes>"
      ]
     },
     "metadata": {},
     "output_type": "display_data"
    },
    {
     "data": {
      "text/plain": [
       "<Figure size 720x720 with 0 Axes>"
      ]
     },
     "metadata": {},
     "output_type": "display_data"
    },
    {
     "data": {
      "text/plain": [
       "<Figure size 720x720 with 0 Axes>"
      ]
     },
     "metadata": {},
     "output_type": "display_data"
    },
    {
     "data": {
      "text/plain": [
       "<Figure size 720x720 with 0 Axes>"
      ]
     },
     "metadata": {},
     "output_type": "display_data"
    },
    {
     "data": {
      "text/plain": [
       "<Figure size 720x720 with 0 Axes>"
      ]
     },
     "metadata": {},
     "output_type": "display_data"
    },
    {
     "data": {
      "text/plain": [
       "<Figure size 720x720 with 0 Axes>"
      ]
     },
     "metadata": {},
     "output_type": "display_data"
    },
    {
     "data": {
      "text/plain": [
       "<Figure size 720x720 with 0 Axes>"
      ]
     },
     "metadata": {},
     "output_type": "display_data"
    },
    {
     "data": {
      "text/plain": [
       "<Figure size 720x720 with 0 Axes>"
      ]
     },
     "metadata": {},
     "output_type": "display_data"
    },
    {
     "data": {
      "text/plain": [
       "<Figure size 720x720 with 0 Axes>"
      ]
     },
     "metadata": {},
     "output_type": "display_data"
    },
    {
     "data": {
      "text/plain": [
       "<Figure size 720x720 with 0 Axes>"
      ]
     },
     "metadata": {},
     "output_type": "display_data"
    },
    {
     "data": {
      "text/plain": [
       "<Figure size 720x720 with 0 Axes>"
      ]
     },
     "metadata": {},
     "output_type": "display_data"
    },
    {
     "data": {
      "text/plain": [
       "<Figure size 720x720 with 0 Axes>"
      ]
     },
     "metadata": {},
     "output_type": "display_data"
    },
    {
     "data": {
      "text/plain": [
       "<Figure size 720x720 with 0 Axes>"
      ]
     },
     "metadata": {},
     "output_type": "display_data"
    },
    {
     "data": {
      "text/plain": [
       "<Figure size 720x720 with 0 Axes>"
      ]
     },
     "metadata": {},
     "output_type": "display_data"
    },
    {
     "data": {
      "text/plain": [
       "<Figure size 720x720 with 0 Axes>"
      ]
     },
     "metadata": {},
     "output_type": "display_data"
    },
    {
     "data": {
      "text/plain": [
       "<Figure size 720x720 with 0 Axes>"
      ]
     },
     "metadata": {},
     "output_type": "display_data"
    },
    {
     "data": {
      "text/plain": [
       "<Figure size 720x720 with 0 Axes>"
      ]
     },
     "metadata": {},
     "output_type": "display_data"
    },
    {
     "data": {
      "text/plain": [
       "<Figure size 720x720 with 0 Axes>"
      ]
     },
     "metadata": {},
     "output_type": "display_data"
    },
    {
     "data": {
      "text/plain": [
       "<Figure size 720x720 with 0 Axes>"
      ]
     },
     "metadata": {},
     "output_type": "display_data"
    },
    {
     "data": {
      "text/plain": [
       "<Figure size 720x720 with 0 Axes>"
      ]
     },
     "metadata": {},
     "output_type": "display_data"
    },
    {
     "data": {
      "text/plain": [
       "<Figure size 720x720 with 0 Axes>"
      ]
     },
     "metadata": {},
     "output_type": "display_data"
    },
    {
     "data": {
      "text/plain": [
       "<Figure size 720x720 with 0 Axes>"
      ]
     },
     "metadata": {},
     "output_type": "display_data"
    },
    {
     "data": {
      "text/plain": [
       "<Figure size 720x720 with 0 Axes>"
      ]
     },
     "metadata": {},
     "output_type": "display_data"
    },
    {
     "data": {
      "text/plain": [
       "<Figure size 720x720 with 0 Axes>"
      ]
     },
     "metadata": {},
     "output_type": "display_data"
    },
    {
     "data": {
      "text/plain": [
       "<Figure size 720x720 with 0 Axes>"
      ]
     },
     "metadata": {},
     "output_type": "display_data"
    },
    {
     "data": {
      "text/plain": [
       "<Figure size 720x720 with 0 Axes>"
      ]
     },
     "metadata": {},
     "output_type": "display_data"
    },
    {
     "data": {
      "text/plain": [
       "<Figure size 720x720 with 0 Axes>"
      ]
     },
     "metadata": {},
     "output_type": "display_data"
    },
    {
     "data": {
      "text/plain": [
       "<Figure size 720x720 with 0 Axes>"
      ]
     },
     "metadata": {},
     "output_type": "display_data"
    },
    {
     "data": {
      "text/plain": [
       "<Figure size 720x720 with 0 Axes>"
      ]
     },
     "metadata": {},
     "output_type": "display_data"
    },
    {
     "data": {
      "text/plain": [
       "<Figure size 720x720 with 0 Axes>"
      ]
     },
     "metadata": {},
     "output_type": "display_data"
    },
    {
     "data": {
      "text/plain": [
       "<Figure size 720x720 with 0 Axes>"
      ]
     },
     "metadata": {},
     "output_type": "display_data"
    },
    {
     "data": {
      "text/plain": [
       "<Figure size 720x720 with 0 Axes>"
      ]
     },
     "metadata": {},
     "output_type": "display_data"
    },
    {
     "data": {
      "text/plain": [
       "<Figure size 720x720 with 0 Axes>"
      ]
     },
     "metadata": {},
     "output_type": "display_data"
    },
    {
     "data": {
      "text/plain": [
       "<Figure size 720x720 with 0 Axes>"
      ]
     },
     "metadata": {},
     "output_type": "display_data"
    },
    {
     "data": {
      "text/plain": [
       "<Figure size 720x720 with 0 Axes>"
      ]
     },
     "metadata": {},
     "output_type": "display_data"
    },
    {
     "data": {
      "text/plain": [
       "<Figure size 720x720 with 0 Axes>"
      ]
     },
     "metadata": {},
     "output_type": "display_data"
    },
    {
     "data": {
      "text/plain": [
       "<Figure size 720x720 with 0 Axes>"
      ]
     },
     "metadata": {},
     "output_type": "display_data"
    },
    {
     "data": {
      "text/plain": [
       "<Figure size 720x720 with 0 Axes>"
      ]
     },
     "metadata": {},
     "output_type": "display_data"
    },
    {
     "data": {
      "text/plain": [
       "<Figure size 720x720 with 0 Axes>"
      ]
     },
     "metadata": {},
     "output_type": "display_data"
    },
    {
     "data": {
      "text/plain": [
       "<Figure size 720x720 with 0 Axes>"
      ]
     },
     "metadata": {},
     "output_type": "display_data"
    },
    {
     "data": {
      "text/plain": [
       "<Figure size 720x720 with 0 Axes>"
      ]
     },
     "metadata": {},
     "output_type": "display_data"
    },
    {
     "data": {
      "text/plain": [
       "<Figure size 720x720 with 0 Axes>"
      ]
     },
     "metadata": {},
     "output_type": "display_data"
    },
    {
     "data": {
      "text/plain": [
       "<Figure size 720x720 with 0 Axes>"
      ]
     },
     "metadata": {},
     "output_type": "display_data"
    },
    {
     "data": {
      "text/plain": [
       "<Figure size 720x720 with 0 Axes>"
      ]
     },
     "metadata": {},
     "output_type": "display_data"
    },
    {
     "data": {
      "text/plain": [
       "<Figure size 720x720 with 0 Axes>"
      ]
     },
     "metadata": {},
     "output_type": "display_data"
    },
    {
     "data": {
      "text/plain": [
       "<Figure size 720x720 with 0 Axes>"
      ]
     },
     "metadata": {},
     "output_type": "display_data"
    },
    {
     "data": {
      "text/plain": [
       "<Figure size 720x720 with 0 Axes>"
      ]
     },
     "metadata": {},
     "output_type": "display_data"
    },
    {
     "data": {
      "text/plain": [
       "<Figure size 720x720 with 0 Axes>"
      ]
     },
     "metadata": {},
     "output_type": "display_data"
    },
    {
     "data": {
      "text/plain": [
       "<Figure size 720x720 with 0 Axes>"
      ]
     },
     "metadata": {},
     "output_type": "display_data"
    },
    {
     "data": {
      "text/plain": [
       "<Figure size 720x720 with 0 Axes>"
      ]
     },
     "metadata": {},
     "output_type": "display_data"
    },
    {
     "data": {
      "text/plain": [
       "<Figure size 720x720 with 0 Axes>"
      ]
     },
     "metadata": {},
     "output_type": "display_data"
    },
    {
     "data": {
      "text/plain": [
       "<Figure size 720x720 with 0 Axes>"
      ]
     },
     "metadata": {},
     "output_type": "display_data"
    },
    {
     "data": {
      "text/plain": [
       "<Figure size 720x720 with 0 Axes>"
      ]
     },
     "metadata": {},
     "output_type": "display_data"
    },
    {
     "data": {
      "text/plain": [
       "<Figure size 720x720 with 0 Axes>"
      ]
     },
     "metadata": {},
     "output_type": "display_data"
    },
    {
     "data": {
      "text/plain": [
       "<Figure size 720x720 with 0 Axes>"
      ]
     },
     "metadata": {},
     "output_type": "display_data"
    },
    {
     "data": {
      "text/plain": [
       "<Figure size 720x720 with 0 Axes>"
      ]
     },
     "metadata": {},
     "output_type": "display_data"
    },
    {
     "data": {
      "text/plain": [
       "<Figure size 720x720 with 0 Axes>"
      ]
     },
     "metadata": {},
     "output_type": "display_data"
    },
    {
     "data": {
      "text/plain": [
       "<Figure size 720x720 with 0 Axes>"
      ]
     },
     "metadata": {},
     "output_type": "display_data"
    },
    {
     "data": {
      "text/plain": [
       "<Figure size 720x720 with 0 Axes>"
      ]
     },
     "metadata": {},
     "output_type": "display_data"
    },
    {
     "data": {
      "text/plain": [
       "<Figure size 720x720 with 0 Axes>"
      ]
     },
     "metadata": {},
     "output_type": "display_data"
    },
    {
     "data": {
      "text/plain": [
       "<Figure size 720x720 with 0 Axes>"
      ]
     },
     "metadata": {},
     "output_type": "display_data"
    },
    {
     "data": {
      "text/plain": [
       "<Figure size 720x720 with 0 Axes>"
      ]
     },
     "metadata": {},
     "output_type": "display_data"
    },
    {
     "data": {
      "text/plain": [
       "<Figure size 720x720 with 0 Axes>"
      ]
     },
     "metadata": {},
     "output_type": "display_data"
    },
    {
     "data": {
      "text/plain": [
       "<Figure size 720x720 with 0 Axes>"
      ]
     },
     "metadata": {},
     "output_type": "display_data"
    },
    {
     "data": {
      "text/plain": [
       "<Figure size 720x720 with 0 Axes>"
      ]
     },
     "metadata": {},
     "output_type": "display_data"
    },
    {
     "data": {
      "text/plain": [
       "<Figure size 720x720 with 0 Axes>"
      ]
     },
     "metadata": {},
     "output_type": "display_data"
    },
    {
     "data": {
      "text/plain": [
       "<Figure size 720x720 with 0 Axes>"
      ]
     },
     "metadata": {},
     "output_type": "display_data"
    },
    {
     "data": {
      "text/plain": [
       "<Figure size 720x720 with 0 Axes>"
      ]
     },
     "metadata": {},
     "output_type": "display_data"
    },
    {
     "data": {
      "text/plain": [
       "<Figure size 720x720 with 0 Axes>"
      ]
     },
     "metadata": {},
     "output_type": "display_data"
    },
    {
     "data": {
      "text/plain": [
       "<Figure size 720x720 with 0 Axes>"
      ]
     },
     "metadata": {},
     "output_type": "display_data"
    },
    {
     "data": {
      "text/plain": [
       "<Figure size 720x720 with 0 Axes>"
      ]
     },
     "metadata": {},
     "output_type": "display_data"
    },
    {
     "data": {
      "text/plain": [
       "<Figure size 720x720 with 0 Axes>"
      ]
     },
     "metadata": {},
     "output_type": "display_data"
    },
    {
     "data": {
      "text/plain": [
       "<Figure size 720x720 with 0 Axes>"
      ]
     },
     "metadata": {},
     "output_type": "display_data"
    },
    {
     "data": {
      "text/plain": [
       "<Figure size 720x720 with 0 Axes>"
      ]
     },
     "metadata": {},
     "output_type": "display_data"
    },
    {
     "data": {
      "text/plain": [
       "<Figure size 720x720 with 0 Axes>"
      ]
     },
     "metadata": {},
     "output_type": "display_data"
    },
    {
     "data": {
      "text/plain": [
       "<Figure size 720x720 with 0 Axes>"
      ]
     },
     "metadata": {},
     "output_type": "display_data"
    },
    {
     "data": {
      "text/plain": [
       "<Figure size 720x720 with 0 Axes>"
      ]
     },
     "metadata": {},
     "output_type": "display_data"
    },
    {
     "data": {
      "text/plain": [
       "<Figure size 720x720 with 0 Axes>"
      ]
     },
     "metadata": {},
     "output_type": "display_data"
    },
    {
     "data": {
      "text/plain": [
       "<Figure size 720x720 with 0 Axes>"
      ]
     },
     "metadata": {},
     "output_type": "display_data"
    },
    {
     "data": {
      "text/plain": [
       "<Figure size 720x720 with 0 Axes>"
      ]
     },
     "metadata": {},
     "output_type": "display_data"
    },
    {
     "data": {
      "text/plain": [
       "<Figure size 720x720 with 0 Axes>"
      ]
     },
     "metadata": {},
     "output_type": "display_data"
    },
    {
     "data": {
      "text/plain": [
       "<Figure size 720x720 with 0 Axes>"
      ]
     },
     "metadata": {},
     "output_type": "display_data"
    },
    {
     "data": {
      "text/plain": [
       "<Figure size 720x720 with 0 Axes>"
      ]
     },
     "metadata": {},
     "output_type": "display_data"
    },
    {
     "data": {
      "text/plain": [
       "<Figure size 720x720 with 0 Axes>"
      ]
     },
     "metadata": {},
     "output_type": "display_data"
    },
    {
     "data": {
      "text/plain": [
       "<Figure size 720x720 with 0 Axes>"
      ]
     },
     "metadata": {},
     "output_type": "display_data"
    },
    {
     "data": {
      "text/plain": [
       "<Figure size 720x720 with 0 Axes>"
      ]
     },
     "metadata": {},
     "output_type": "display_data"
    },
    {
     "data": {
      "text/plain": [
       "<Figure size 720x720 with 0 Axes>"
      ]
     },
     "metadata": {},
     "output_type": "display_data"
    },
    {
     "data": {
      "text/plain": [
       "<Figure size 720x720 with 0 Axes>"
      ]
     },
     "metadata": {},
     "output_type": "display_data"
    },
    {
     "data": {
      "text/plain": [
       "<Figure size 720x720 with 0 Axes>"
      ]
     },
     "metadata": {},
     "output_type": "display_data"
    },
    {
     "data": {
      "text/plain": [
       "<Figure size 720x720 with 0 Axes>"
      ]
     },
     "metadata": {},
     "output_type": "display_data"
    },
    {
     "data": {
      "text/plain": [
       "<Figure size 720x720 with 0 Axes>"
      ]
     },
     "metadata": {},
     "output_type": "display_data"
    },
    {
     "data": {
      "text/plain": [
       "<Figure size 720x720 with 0 Axes>"
      ]
     },
     "metadata": {},
     "output_type": "display_data"
    },
    {
     "data": {
      "text/plain": [
       "<Figure size 720x720 with 0 Axes>"
      ]
     },
     "metadata": {},
     "output_type": "display_data"
    },
    {
     "data": {
      "text/plain": [
       "<Figure size 720x720 with 0 Axes>"
      ]
     },
     "metadata": {},
     "output_type": "display_data"
    },
    {
     "data": {
      "text/plain": [
       "<Figure size 720x720 with 0 Axes>"
      ]
     },
     "metadata": {},
     "output_type": "display_data"
    },
    {
     "data": {
      "text/plain": [
       "<Figure size 720x720 with 0 Axes>"
      ]
     },
     "metadata": {},
     "output_type": "display_data"
    },
    {
     "data": {
      "text/plain": [
       "<Figure size 720x720 with 0 Axes>"
      ]
     },
     "metadata": {},
     "output_type": "display_data"
    },
    {
     "data": {
      "text/plain": [
       "<Figure size 720x720 with 0 Axes>"
      ]
     },
     "metadata": {},
     "output_type": "display_data"
    },
    {
     "data": {
      "text/plain": [
       "<Figure size 720x720 with 0 Axes>"
      ]
     },
     "metadata": {},
     "output_type": "display_data"
    },
    {
     "data": {
      "text/plain": [
       "<Figure size 720x720 with 0 Axes>"
      ]
     },
     "metadata": {},
     "output_type": "display_data"
    },
    {
     "data": {
      "text/plain": [
       "<Figure size 720x720 with 0 Axes>"
      ]
     },
     "metadata": {},
     "output_type": "display_data"
    },
    {
     "data": {
      "text/plain": [
       "<Figure size 720x720 with 0 Axes>"
      ]
     },
     "metadata": {},
     "output_type": "display_data"
    },
    {
     "data": {
      "text/plain": [
       "<Figure size 720x720 with 0 Axes>"
      ]
     },
     "metadata": {},
     "output_type": "display_data"
    },
    {
     "data": {
      "text/plain": [
       "<Figure size 720x720 with 0 Axes>"
      ]
     },
     "metadata": {},
     "output_type": "display_data"
    },
    {
     "data": {
      "text/plain": [
       "<Figure size 720x720 with 0 Axes>"
      ]
     },
     "metadata": {},
     "output_type": "display_data"
    },
    {
     "data": {
      "text/plain": [
       "<Figure size 720x720 with 0 Axes>"
      ]
     },
     "metadata": {},
     "output_type": "display_data"
    },
    {
     "data": {
      "text/plain": [
       "<Figure size 720x720 with 0 Axes>"
      ]
     },
     "metadata": {},
     "output_type": "display_data"
    },
    {
     "data": {
      "text/plain": [
       "<Figure size 720x720 with 0 Axes>"
      ]
     },
     "metadata": {},
     "output_type": "display_data"
    },
    {
     "data": {
      "text/plain": [
       "<Figure size 720x720 with 0 Axes>"
      ]
     },
     "metadata": {},
     "output_type": "display_data"
    },
    {
     "data": {
      "text/plain": [
       "<Figure size 720x720 with 0 Axes>"
      ]
     },
     "metadata": {},
     "output_type": "display_data"
    },
    {
     "data": {
      "text/plain": [
       "<Figure size 720x720 with 0 Axes>"
      ]
     },
     "metadata": {},
     "output_type": "display_data"
    },
    {
     "data": {
      "text/plain": [
       "<Figure size 720x720 with 0 Axes>"
      ]
     },
     "metadata": {},
     "output_type": "display_data"
    },
    {
     "data": {
      "text/plain": [
       "<Figure size 720x720 with 0 Axes>"
      ]
     },
     "metadata": {},
     "output_type": "display_data"
    },
    {
     "data": {
      "text/plain": [
       "<Figure size 720x720 with 0 Axes>"
      ]
     },
     "metadata": {},
     "output_type": "display_data"
    },
    {
     "data": {
      "text/plain": [
       "<Figure size 720x720 with 0 Axes>"
      ]
     },
     "metadata": {},
     "output_type": "display_data"
    },
    {
     "data": {
      "text/plain": [
       "<Figure size 720x720 with 0 Axes>"
      ]
     },
     "metadata": {},
     "output_type": "display_data"
    },
    {
     "data": {
      "text/plain": [
       "<Figure size 720x720 with 0 Axes>"
      ]
     },
     "metadata": {},
     "output_type": "display_data"
    },
    {
     "data": {
      "text/plain": [
       "<Figure size 720x720 with 0 Axes>"
      ]
     },
     "metadata": {},
     "output_type": "display_data"
    },
    {
     "data": {
      "text/plain": [
       "<Figure size 720x720 with 0 Axes>"
      ]
     },
     "metadata": {},
     "output_type": "display_data"
    },
    {
     "data": {
      "text/plain": [
       "<Figure size 720x720 with 0 Axes>"
      ]
     },
     "metadata": {},
     "output_type": "display_data"
    },
    {
     "data": {
      "text/plain": [
       "<Figure size 720x720 with 0 Axes>"
      ]
     },
     "metadata": {},
     "output_type": "display_data"
    },
    {
     "data": {
      "text/plain": [
       "<Figure size 720x720 with 0 Axes>"
      ]
     },
     "metadata": {},
     "output_type": "display_data"
    },
    {
     "data": {
      "text/plain": [
       "<Figure size 720x720 with 0 Axes>"
      ]
     },
     "metadata": {},
     "output_type": "display_data"
    },
    {
     "data": {
      "text/plain": [
       "<Figure size 720x720 with 0 Axes>"
      ]
     },
     "metadata": {},
     "output_type": "display_data"
    },
    {
     "data": {
      "text/plain": [
       "<Figure size 720x720 with 0 Axes>"
      ]
     },
     "metadata": {},
     "output_type": "display_data"
    },
    {
     "data": {
      "text/plain": [
       "<Figure size 720x720 with 0 Axes>"
      ]
     },
     "metadata": {},
     "output_type": "display_data"
    },
    {
     "data": {
      "text/plain": [
       "<Figure size 720x720 with 0 Axes>"
      ]
     },
     "metadata": {},
     "output_type": "display_data"
    },
    {
     "data": {
      "text/plain": [
       "<Figure size 720x720 with 0 Axes>"
      ]
     },
     "metadata": {},
     "output_type": "display_data"
    },
    {
     "data": {
      "text/plain": [
       "<Figure size 720x720 with 0 Axes>"
      ]
     },
     "metadata": {},
     "output_type": "display_data"
    },
    {
     "data": {
      "text/plain": [
       "<Figure size 720x720 with 0 Axes>"
      ]
     },
     "metadata": {},
     "output_type": "display_data"
    },
    {
     "data": {
      "text/plain": [
       "<Figure size 720x720 with 0 Axes>"
      ]
     },
     "metadata": {},
     "output_type": "display_data"
    },
    {
     "data": {
      "text/plain": [
       "<Figure size 720x720 with 0 Axes>"
      ]
     },
     "metadata": {},
     "output_type": "display_data"
    },
    {
     "data": {
      "text/plain": [
       "<Figure size 720x720 with 0 Axes>"
      ]
     },
     "metadata": {},
     "output_type": "display_data"
    },
    {
     "data": {
      "text/plain": [
       "<Figure size 720x720 with 0 Axes>"
      ]
     },
     "metadata": {},
     "output_type": "display_data"
    },
    {
     "data": {
      "text/plain": [
       "<Figure size 720x720 with 0 Axes>"
      ]
     },
     "metadata": {},
     "output_type": "display_data"
    },
    {
     "data": {
      "text/plain": [
       "<Figure size 720x720 with 0 Axes>"
      ]
     },
     "metadata": {},
     "output_type": "display_data"
    },
    {
     "data": {
      "text/plain": [
       "<Figure size 720x720 with 0 Axes>"
      ]
     },
     "metadata": {},
     "output_type": "display_data"
    },
    {
     "data": {
      "text/plain": [
       "<Figure size 720x720 with 0 Axes>"
      ]
     },
     "metadata": {},
     "output_type": "display_data"
    },
    {
     "data": {
      "text/plain": [
       "<Figure size 720x720 with 0 Axes>"
      ]
     },
     "metadata": {},
     "output_type": "display_data"
    },
    {
     "data": {
      "text/plain": [
       "<Figure size 720x720 with 0 Axes>"
      ]
     },
     "metadata": {},
     "output_type": "display_data"
    },
    {
     "data": {
      "text/plain": [
       "<Figure size 720x720 with 0 Axes>"
      ]
     },
     "metadata": {},
     "output_type": "display_data"
    },
    {
     "data": {
      "text/plain": [
       "<Figure size 720x720 with 0 Axes>"
      ]
     },
     "metadata": {},
     "output_type": "display_data"
    },
    {
     "data": {
      "text/plain": [
       "<Figure size 720x720 with 0 Axes>"
      ]
     },
     "metadata": {},
     "output_type": "display_data"
    },
    {
     "data": {
      "text/plain": [
       "<Figure size 720x720 with 0 Axes>"
      ]
     },
     "metadata": {},
     "output_type": "display_data"
    },
    {
     "data": {
      "text/plain": [
       "<Figure size 720x720 with 0 Axes>"
      ]
     },
     "metadata": {},
     "output_type": "display_data"
    },
    {
     "data": {
      "text/plain": [
       "<Figure size 720x720 with 0 Axes>"
      ]
     },
     "metadata": {},
     "output_type": "display_data"
    },
    {
     "data": {
      "text/plain": [
       "<Figure size 720x720 with 0 Axes>"
      ]
     },
     "metadata": {},
     "output_type": "display_data"
    },
    {
     "data": {
      "text/plain": [
       "<Figure size 720x720 with 0 Axes>"
      ]
     },
     "metadata": {},
     "output_type": "display_data"
    },
    {
     "data": {
      "text/plain": [
       "<Figure size 720x720 with 0 Axes>"
      ]
     },
     "metadata": {},
     "output_type": "display_data"
    },
    {
     "data": {
      "text/plain": [
       "<Figure size 720x720 with 0 Axes>"
      ]
     },
     "metadata": {},
     "output_type": "display_data"
    },
    {
     "data": {
      "text/plain": [
       "<Figure size 720x720 with 0 Axes>"
      ]
     },
     "metadata": {},
     "output_type": "display_data"
    },
    {
     "data": {
      "text/plain": [
       "<Figure size 720x720 with 0 Axes>"
      ]
     },
     "metadata": {},
     "output_type": "display_data"
    },
    {
     "data": {
      "text/plain": [
       "<Figure size 720x720 with 0 Axes>"
      ]
     },
     "metadata": {},
     "output_type": "display_data"
    },
    {
     "data": {
      "text/plain": [
       "<Figure size 720x720 with 0 Axes>"
      ]
     },
     "metadata": {},
     "output_type": "display_data"
    },
    {
     "data": {
      "text/plain": [
       "<Figure size 720x720 with 0 Axes>"
      ]
     },
     "metadata": {},
     "output_type": "display_data"
    },
    {
     "data": {
      "text/plain": [
       "<Figure size 720x720 with 0 Axes>"
      ]
     },
     "metadata": {},
     "output_type": "display_data"
    },
    {
     "data": {
      "text/plain": [
       "<Figure size 720x720 with 0 Axes>"
      ]
     },
     "metadata": {},
     "output_type": "display_data"
    },
    {
     "data": {
      "text/plain": [
       "<Figure size 720x720 with 0 Axes>"
      ]
     },
     "metadata": {},
     "output_type": "display_data"
    },
    {
     "data": {
      "text/plain": [
       "<Figure size 720x720 with 0 Axes>"
      ]
     },
     "metadata": {},
     "output_type": "display_data"
    },
    {
     "data": {
      "text/plain": [
       "<Figure size 720x720 with 0 Axes>"
      ]
     },
     "metadata": {},
     "output_type": "display_data"
    },
    {
     "data": {
      "text/plain": [
       "<Figure size 720x720 with 0 Axes>"
      ]
     },
     "metadata": {},
     "output_type": "display_data"
    },
    {
     "data": {
      "text/plain": [
       "<Figure size 720x720 with 0 Axes>"
      ]
     },
     "metadata": {},
     "output_type": "display_data"
    },
    {
     "data": {
      "text/plain": [
       "<Figure size 720x720 with 0 Axes>"
      ]
     },
     "metadata": {},
     "output_type": "display_data"
    },
    {
     "data": {
      "text/plain": [
       "<Figure size 720x720 with 0 Axes>"
      ]
     },
     "metadata": {},
     "output_type": "display_data"
    },
    {
     "data": {
      "text/plain": [
       "<Figure size 720x720 with 0 Axes>"
      ]
     },
     "metadata": {},
     "output_type": "display_data"
    },
    {
     "data": {
      "text/plain": [
       "<Figure size 720x720 with 0 Axes>"
      ]
     },
     "metadata": {},
     "output_type": "display_data"
    },
    {
     "data": {
      "text/plain": [
       "<Figure size 720x720 with 0 Axes>"
      ]
     },
     "metadata": {},
     "output_type": "display_data"
    },
    {
     "data": {
      "text/plain": [
       "<Figure size 720x720 with 0 Axes>"
      ]
     },
     "metadata": {},
     "output_type": "display_data"
    },
    {
     "data": {
      "text/plain": [
       "<Figure size 720x720 with 0 Axes>"
      ]
     },
     "metadata": {},
     "output_type": "display_data"
    },
    {
     "data": {
      "text/plain": [
       "<Figure size 720x720 with 0 Axes>"
      ]
     },
     "metadata": {},
     "output_type": "display_data"
    },
    {
     "data": {
      "text/plain": [
       "<Figure size 720x720 with 0 Axes>"
      ]
     },
     "metadata": {},
     "output_type": "display_data"
    },
    {
     "data": {
      "text/plain": [
       "<Figure size 720x720 with 0 Axes>"
      ]
     },
     "metadata": {},
     "output_type": "display_data"
    },
    {
     "data": {
      "text/plain": [
       "<Figure size 720x720 with 0 Axes>"
      ]
     },
     "metadata": {},
     "output_type": "display_data"
    },
    {
     "data": {
      "text/plain": [
       "<Figure size 720x720 with 0 Axes>"
      ]
     },
     "metadata": {},
     "output_type": "display_data"
    },
    {
     "data": {
      "text/plain": [
       "<Figure size 720x720 with 0 Axes>"
      ]
     },
     "metadata": {},
     "output_type": "display_data"
    },
    {
     "data": {
      "text/plain": [
       "<Figure size 720x720 with 0 Axes>"
      ]
     },
     "metadata": {},
     "output_type": "display_data"
    },
    {
     "data": {
      "text/plain": [
       "<Figure size 720x720 with 0 Axes>"
      ]
     },
     "metadata": {},
     "output_type": "display_data"
    },
    {
     "data": {
      "text/plain": [
       "<Figure size 720x720 with 0 Axes>"
      ]
     },
     "metadata": {},
     "output_type": "display_data"
    },
    {
     "data": {
      "text/plain": [
       "<Figure size 720x720 with 0 Axes>"
      ]
     },
     "metadata": {},
     "output_type": "display_data"
    },
    {
     "data": {
      "text/plain": [
       "<Figure size 720x720 with 0 Axes>"
      ]
     },
     "metadata": {},
     "output_type": "display_data"
    },
    {
     "data": {
      "text/plain": [
       "<Figure size 720x720 with 0 Axes>"
      ]
     },
     "metadata": {},
     "output_type": "display_data"
    },
    {
     "data": {
      "text/plain": [
       "<Figure size 720x720 with 0 Axes>"
      ]
     },
     "metadata": {},
     "output_type": "display_data"
    },
    {
     "data": {
      "text/plain": [
       "<Figure size 720x720 with 0 Axes>"
      ]
     },
     "metadata": {},
     "output_type": "display_data"
    },
    {
     "data": {
      "text/plain": [
       "<Figure size 720x720 with 0 Axes>"
      ]
     },
     "metadata": {},
     "output_type": "display_data"
    },
    {
     "data": {
      "text/plain": [
       "<Figure size 720x720 with 0 Axes>"
      ]
     },
     "metadata": {},
     "output_type": "display_data"
    },
    {
     "data": {
      "text/plain": [
       "<Figure size 720x720 with 0 Axes>"
      ]
     },
     "metadata": {},
     "output_type": "display_data"
    },
    {
     "data": {
      "text/plain": [
       "<Figure size 720x720 with 0 Axes>"
      ]
     },
     "metadata": {},
     "output_type": "display_data"
    },
    {
     "data": {
      "text/plain": [
       "<Figure size 720x720 with 0 Axes>"
      ]
     },
     "metadata": {},
     "output_type": "display_data"
    },
    {
     "data": {
      "text/plain": [
       "<Figure size 720x720 with 0 Axes>"
      ]
     },
     "metadata": {},
     "output_type": "display_data"
    },
    {
     "data": {
      "text/plain": [
       "<Figure size 720x720 with 0 Axes>"
      ]
     },
     "metadata": {},
     "output_type": "display_data"
    },
    {
     "data": {
      "text/plain": [
       "<Figure size 720x720 with 0 Axes>"
      ]
     },
     "metadata": {},
     "output_type": "display_data"
    },
    {
     "data": {
      "text/plain": [
       "<Figure size 720x720 with 0 Axes>"
      ]
     },
     "metadata": {},
     "output_type": "display_data"
    },
    {
     "data": {
      "text/plain": [
       "<Figure size 720x720 with 0 Axes>"
      ]
     },
     "metadata": {},
     "output_type": "display_data"
    },
    {
     "data": {
      "text/plain": [
       "<Figure size 720x720 with 0 Axes>"
      ]
     },
     "metadata": {},
     "output_type": "display_data"
    },
    {
     "data": {
      "text/plain": [
       "<Figure size 720x720 with 0 Axes>"
      ]
     },
     "metadata": {},
     "output_type": "display_data"
    },
    {
     "data": {
      "text/plain": [
       "<Figure size 720x720 with 0 Axes>"
      ]
     },
     "metadata": {},
     "output_type": "display_data"
    },
    {
     "data": {
      "text/plain": [
       "<Figure size 720x720 with 0 Axes>"
      ]
     },
     "metadata": {},
     "output_type": "display_data"
    },
    {
     "data": {
      "text/plain": [
       "<Figure size 720x720 with 0 Axes>"
      ]
     },
     "metadata": {},
     "output_type": "display_data"
    },
    {
     "data": {
      "text/plain": [
       "<Figure size 720x720 with 0 Axes>"
      ]
     },
     "metadata": {},
     "output_type": "display_data"
    },
    {
     "data": {
      "text/plain": [
       "<Figure size 720x720 with 0 Axes>"
      ]
     },
     "metadata": {},
     "output_type": "display_data"
    },
    {
     "data": {
      "text/plain": [
       "<Figure size 720x720 with 0 Axes>"
      ]
     },
     "metadata": {},
     "output_type": "display_data"
    },
    {
     "data": {
      "text/plain": [
       "<Figure size 720x720 with 0 Axes>"
      ]
     },
     "metadata": {},
     "output_type": "display_data"
    },
    {
     "data": {
      "text/plain": [
       "<Figure size 720x720 with 0 Axes>"
      ]
     },
     "metadata": {},
     "output_type": "display_data"
    },
    {
     "data": {
      "text/plain": [
       "<Figure size 720x720 with 0 Axes>"
      ]
     },
     "metadata": {},
     "output_type": "display_data"
    },
    {
     "data": {
      "text/plain": [
       "<Figure size 720x720 with 0 Axes>"
      ]
     },
     "metadata": {},
     "output_type": "display_data"
    },
    {
     "data": {
      "text/plain": [
       "<Figure size 720x720 with 0 Axes>"
      ]
     },
     "metadata": {},
     "output_type": "display_data"
    },
    {
     "data": {
      "text/plain": [
       "<Figure size 720x720 with 0 Axes>"
      ]
     },
     "metadata": {},
     "output_type": "display_data"
    },
    {
     "data": {
      "text/plain": [
       "<Figure size 720x720 with 0 Axes>"
      ]
     },
     "metadata": {},
     "output_type": "display_data"
    },
    {
     "data": {
      "text/plain": [
       "<Figure size 720x720 with 0 Axes>"
      ]
     },
     "metadata": {},
     "output_type": "display_data"
    },
    {
     "data": {
      "text/plain": [
       "<Figure size 720x720 with 0 Axes>"
      ]
     },
     "metadata": {},
     "output_type": "display_data"
    },
    {
     "data": {
      "text/plain": [
       "<Figure size 720x720 with 0 Axes>"
      ]
     },
     "metadata": {},
     "output_type": "display_data"
    },
    {
     "data": {
      "text/plain": [
       "<Figure size 720x720 with 0 Axes>"
      ]
     },
     "metadata": {},
     "output_type": "display_data"
    },
    {
     "data": {
      "text/plain": [
       "<Figure size 720x720 with 0 Axes>"
      ]
     },
     "metadata": {},
     "output_type": "display_data"
    },
    {
     "data": {
      "text/plain": [
       "<Figure size 720x720 with 0 Axes>"
      ]
     },
     "metadata": {},
     "output_type": "display_data"
    },
    {
     "data": {
      "text/plain": [
       "<Figure size 720x720 with 0 Axes>"
      ]
     },
     "metadata": {},
     "output_type": "display_data"
    },
    {
     "data": {
      "text/plain": [
       "<Figure size 720x720 with 0 Axes>"
      ]
     },
     "metadata": {},
     "output_type": "display_data"
    },
    {
     "data": {
      "text/plain": [
       "<Figure size 720x720 with 0 Axes>"
      ]
     },
     "metadata": {},
     "output_type": "display_data"
    },
    {
     "data": {
      "text/plain": [
       "<Figure size 720x720 with 0 Axes>"
      ]
     },
     "metadata": {},
     "output_type": "display_data"
    },
    {
     "data": {
      "text/plain": [
       "<Figure size 720x720 with 0 Axes>"
      ]
     },
     "metadata": {},
     "output_type": "display_data"
    },
    {
     "data": {
      "text/plain": [
       "<Figure size 720x720 with 0 Axes>"
      ]
     },
     "metadata": {},
     "output_type": "display_data"
    },
    {
     "data": {
      "text/plain": [
       "<Figure size 720x720 with 0 Axes>"
      ]
     },
     "metadata": {},
     "output_type": "display_data"
    },
    {
     "data": {
      "text/plain": [
       "<Figure size 720x720 with 0 Axes>"
      ]
     },
     "metadata": {},
     "output_type": "display_data"
    },
    {
     "data": {
      "text/plain": [
       "<Figure size 720x720 with 0 Axes>"
      ]
     },
     "metadata": {},
     "output_type": "display_data"
    },
    {
     "data": {
      "text/plain": [
       "<Figure size 720x720 with 0 Axes>"
      ]
     },
     "metadata": {},
     "output_type": "display_data"
    },
    {
     "data": {
      "text/plain": [
       "<Figure size 720x720 with 0 Axes>"
      ]
     },
     "metadata": {},
     "output_type": "display_data"
    },
    {
     "data": {
      "text/plain": [
       "<Figure size 720x720 with 0 Axes>"
      ]
     },
     "metadata": {},
     "output_type": "display_data"
    },
    {
     "data": {
      "text/plain": [
       "<Figure size 720x720 with 0 Axes>"
      ]
     },
     "metadata": {},
     "output_type": "display_data"
    },
    {
     "data": {
      "text/plain": [
       "<Figure size 720x720 with 0 Axes>"
      ]
     },
     "metadata": {},
     "output_type": "display_data"
    },
    {
     "data": {
      "text/plain": [
       "<Figure size 720x720 with 0 Axes>"
      ]
     },
     "metadata": {},
     "output_type": "display_data"
    },
    {
     "data": {
      "text/plain": [
       "<Figure size 720x720 with 0 Axes>"
      ]
     },
     "metadata": {},
     "output_type": "display_data"
    },
    {
     "data": {
      "text/plain": [
       "<Figure size 720x720 with 0 Axes>"
      ]
     },
     "metadata": {},
     "output_type": "display_data"
    },
    {
     "data": {
      "text/plain": [
       "<Figure size 720x720 with 0 Axes>"
      ]
     },
     "metadata": {},
     "output_type": "display_data"
    },
    {
     "data": {
      "text/plain": [
       "<Figure size 720x720 with 0 Axes>"
      ]
     },
     "metadata": {},
     "output_type": "display_data"
    },
    {
     "data": {
      "text/plain": [
       "<Figure size 720x720 with 0 Axes>"
      ]
     },
     "metadata": {},
     "output_type": "display_data"
    },
    {
     "data": {
      "text/plain": [
       "<Figure size 720x720 with 0 Axes>"
      ]
     },
     "metadata": {},
     "output_type": "display_data"
    },
    {
     "data": {
      "text/plain": [
       "<Figure size 720x720 with 0 Axes>"
      ]
     },
     "metadata": {},
     "output_type": "display_data"
    },
    {
     "data": {
      "text/plain": [
       "<Figure size 720x720 with 0 Axes>"
      ]
     },
     "metadata": {},
     "output_type": "display_data"
    },
    {
     "data": {
      "text/plain": [
       "<Figure size 720x720 with 0 Axes>"
      ]
     },
     "metadata": {},
     "output_type": "display_data"
    },
    {
     "data": {
      "text/plain": [
       "<Figure size 720x720 with 0 Axes>"
      ]
     },
     "metadata": {},
     "output_type": "display_data"
    },
    {
     "data": {
      "text/plain": [
       "<Figure size 720x720 with 0 Axes>"
      ]
     },
     "metadata": {},
     "output_type": "display_data"
    },
    {
     "data": {
      "text/plain": [
       "<Figure size 720x720 with 0 Axes>"
      ]
     },
     "metadata": {},
     "output_type": "display_data"
    },
    {
     "data": {
      "text/plain": [
       "<Figure size 720x720 with 0 Axes>"
      ]
     },
     "metadata": {},
     "output_type": "display_data"
    },
    {
     "data": {
      "text/plain": [
       "<Figure size 720x720 with 0 Axes>"
      ]
     },
     "metadata": {},
     "output_type": "display_data"
    },
    {
     "data": {
      "text/plain": [
       "<Figure size 720x720 with 0 Axes>"
      ]
     },
     "metadata": {},
     "output_type": "display_data"
    },
    {
     "data": {
      "text/plain": [
       "<Figure size 720x720 with 0 Axes>"
      ]
     },
     "metadata": {},
     "output_type": "display_data"
    },
    {
     "data": {
      "text/plain": [
       "<Figure size 720x720 with 0 Axes>"
      ]
     },
     "metadata": {},
     "output_type": "display_data"
    },
    {
     "data": {
      "text/plain": [
       "<Figure size 720x720 with 0 Axes>"
      ]
     },
     "metadata": {},
     "output_type": "display_data"
    },
    {
     "data": {
      "text/plain": [
       "<Figure size 720x720 with 0 Axes>"
      ]
     },
     "metadata": {},
     "output_type": "display_data"
    },
    {
     "data": {
      "text/plain": [
       "<Figure size 720x720 with 0 Axes>"
      ]
     },
     "metadata": {},
     "output_type": "display_data"
    },
    {
     "data": {
      "text/plain": [
       "<Figure size 720x720 with 0 Axes>"
      ]
     },
     "metadata": {},
     "output_type": "display_data"
    },
    {
     "data": {
      "text/plain": [
       "<Figure size 720x720 with 0 Axes>"
      ]
     },
     "metadata": {},
     "output_type": "display_data"
    },
    {
     "data": {
      "text/plain": [
       "<Figure size 720x720 with 0 Axes>"
      ]
     },
     "metadata": {},
     "output_type": "display_data"
    },
    {
     "data": {
      "text/plain": [
       "<Figure size 720x720 with 0 Axes>"
      ]
     },
     "metadata": {},
     "output_type": "display_data"
    },
    {
     "data": {
      "text/plain": [
       "<Figure size 720x720 with 0 Axes>"
      ]
     },
     "metadata": {},
     "output_type": "display_data"
    },
    {
     "data": {
      "text/plain": [
       "<Figure size 720x720 with 0 Axes>"
      ]
     },
     "metadata": {},
     "output_type": "display_data"
    },
    {
     "data": {
      "text/plain": [
       "<Figure size 720x720 with 0 Axes>"
      ]
     },
     "metadata": {},
     "output_type": "display_data"
    },
    {
     "data": {
      "text/plain": [
       "<Figure size 720x720 with 0 Axes>"
      ]
     },
     "metadata": {},
     "output_type": "display_data"
    },
    {
     "data": {
      "text/plain": [
       "<Figure size 720x720 with 0 Axes>"
      ]
     },
     "metadata": {},
     "output_type": "display_data"
    },
    {
     "data": {
      "text/plain": [
       "<Figure size 720x720 with 0 Axes>"
      ]
     },
     "metadata": {},
     "output_type": "display_data"
    },
    {
     "data": {
      "text/plain": [
       "<Figure size 720x720 with 0 Axes>"
      ]
     },
     "metadata": {},
     "output_type": "display_data"
    },
    {
     "data": {
      "text/plain": [
       "<Figure size 720x720 with 0 Axes>"
      ]
     },
     "metadata": {},
     "output_type": "display_data"
    },
    {
     "data": {
      "text/plain": [
       "<Figure size 720x720 with 0 Axes>"
      ]
     },
     "metadata": {},
     "output_type": "display_data"
    },
    {
     "data": {
      "text/plain": [
       "<Figure size 720x720 with 0 Axes>"
      ]
     },
     "metadata": {},
     "output_type": "display_data"
    },
    {
     "data": {
      "text/plain": [
       "<Figure size 720x720 with 0 Axes>"
      ]
     },
     "metadata": {},
     "output_type": "display_data"
    },
    {
     "data": {
      "text/plain": [
       "<Figure size 720x720 with 0 Axes>"
      ]
     },
     "metadata": {},
     "output_type": "display_data"
    },
    {
     "data": {
      "text/plain": [
       "<Figure size 720x720 with 0 Axes>"
      ]
     },
     "metadata": {},
     "output_type": "display_data"
    },
    {
     "data": {
      "text/plain": [
       "<Figure size 720x720 with 0 Axes>"
      ]
     },
     "metadata": {},
     "output_type": "display_data"
    },
    {
     "data": {
      "text/plain": [
       "<Figure size 720x720 with 0 Axes>"
      ]
     },
     "metadata": {},
     "output_type": "display_data"
    },
    {
     "data": {
      "text/plain": [
       "<Figure size 720x720 with 0 Axes>"
      ]
     },
     "metadata": {},
     "output_type": "display_data"
    },
    {
     "data": {
      "text/plain": [
       "<Figure size 720x720 with 0 Axes>"
      ]
     },
     "metadata": {},
     "output_type": "display_data"
    },
    {
     "data": {
      "text/plain": [
       "<Figure size 720x720 with 0 Axes>"
      ]
     },
     "metadata": {},
     "output_type": "display_data"
    },
    {
     "data": {
      "text/plain": [
       "<Figure size 720x720 with 0 Axes>"
      ]
     },
     "metadata": {},
     "output_type": "display_data"
    },
    {
     "data": {
      "text/plain": [
       "<Figure size 720x720 with 0 Axes>"
      ]
     },
     "metadata": {},
     "output_type": "display_data"
    },
    {
     "data": {
      "text/plain": [
       "<Figure size 720x720 with 0 Axes>"
      ]
     },
     "metadata": {},
     "output_type": "display_data"
    },
    {
     "data": {
      "text/plain": [
       "<Figure size 720x720 with 0 Axes>"
      ]
     },
     "metadata": {},
     "output_type": "display_data"
    },
    {
     "data": {
      "text/plain": [
       "<Figure size 720x720 with 0 Axes>"
      ]
     },
     "metadata": {},
     "output_type": "display_data"
    },
    {
     "data": {
      "text/plain": [
       "<Figure size 720x720 with 0 Axes>"
      ]
     },
     "metadata": {},
     "output_type": "display_data"
    },
    {
     "data": {
      "text/plain": [
       "<Figure size 720x720 with 0 Axes>"
      ]
     },
     "metadata": {},
     "output_type": "display_data"
    },
    {
     "data": {
      "text/plain": [
       "<Figure size 720x720 with 0 Axes>"
      ]
     },
     "metadata": {},
     "output_type": "display_data"
    },
    {
     "data": {
      "text/plain": [
       "<Figure size 720x720 with 0 Axes>"
      ]
     },
     "metadata": {},
     "output_type": "display_data"
    },
    {
     "data": {
      "text/plain": [
       "<Figure size 720x720 with 0 Axes>"
      ]
     },
     "metadata": {},
     "output_type": "display_data"
    },
    {
     "data": {
      "text/plain": [
       "<Figure size 720x720 with 0 Axes>"
      ]
     },
     "metadata": {},
     "output_type": "display_data"
    },
    {
     "data": {
      "text/plain": [
       "<Figure size 720x720 with 0 Axes>"
      ]
     },
     "metadata": {},
     "output_type": "display_data"
    },
    {
     "data": {
      "text/plain": [
       "<Figure size 720x720 with 0 Axes>"
      ]
     },
     "metadata": {},
     "output_type": "display_data"
    },
    {
     "data": {
      "text/plain": [
       "<Figure size 720x720 with 0 Axes>"
      ]
     },
     "metadata": {},
     "output_type": "display_data"
    },
    {
     "data": {
      "text/plain": [
       "<Figure size 720x720 with 0 Axes>"
      ]
     },
     "metadata": {},
     "output_type": "display_data"
    },
    {
     "data": {
      "text/plain": [
       "<Figure size 720x720 with 0 Axes>"
      ]
     },
     "metadata": {},
     "output_type": "display_data"
    },
    {
     "data": {
      "text/plain": [
       "<Figure size 720x720 with 0 Axes>"
      ]
     },
     "metadata": {},
     "output_type": "display_data"
    },
    {
     "data": {
      "text/plain": [
       "<Figure size 720x720 with 0 Axes>"
      ]
     },
     "metadata": {},
     "output_type": "display_data"
    },
    {
     "data": {
      "text/plain": [
       "<Figure size 720x720 with 0 Axes>"
      ]
     },
     "metadata": {},
     "output_type": "display_data"
    },
    {
     "data": {
      "text/plain": [
       "<Figure size 720x720 with 0 Axes>"
      ]
     },
     "metadata": {},
     "output_type": "display_data"
    },
    {
     "data": {
      "text/plain": [
       "<Figure size 720x720 with 0 Axes>"
      ]
     },
     "metadata": {},
     "output_type": "display_data"
    },
    {
     "data": {
      "text/plain": [
       "<Figure size 720x720 with 0 Axes>"
      ]
     },
     "metadata": {},
     "output_type": "display_data"
    },
    {
     "data": {
      "text/plain": [
       "<Figure size 720x720 with 0 Axes>"
      ]
     },
     "metadata": {},
     "output_type": "display_data"
    },
    {
     "data": {
      "text/plain": [
       "<Figure size 720x720 with 0 Axes>"
      ]
     },
     "metadata": {},
     "output_type": "display_data"
    },
    {
     "data": {
      "text/plain": [
       "<Figure size 720x720 with 0 Axes>"
      ]
     },
     "metadata": {},
     "output_type": "display_data"
    },
    {
     "data": {
      "text/plain": [
       "<Figure size 720x720 with 0 Axes>"
      ]
     },
     "metadata": {},
     "output_type": "display_data"
    },
    {
     "data": {
      "text/plain": [
       "<Figure size 720x720 with 0 Axes>"
      ]
     },
     "metadata": {},
     "output_type": "display_data"
    },
    {
     "data": {
      "text/plain": [
       "<Figure size 720x720 with 0 Axes>"
      ]
     },
     "metadata": {},
     "output_type": "display_data"
    },
    {
     "data": {
      "text/plain": [
       "<Figure size 720x720 with 0 Axes>"
      ]
     },
     "metadata": {},
     "output_type": "display_data"
    },
    {
     "data": {
      "text/plain": [
       "<Figure size 720x720 with 0 Axes>"
      ]
     },
     "metadata": {},
     "output_type": "display_data"
    },
    {
     "data": {
      "text/plain": [
       "<Figure size 720x720 with 0 Axes>"
      ]
     },
     "metadata": {},
     "output_type": "display_data"
    },
    {
     "data": {
      "text/plain": [
       "<Figure size 720x720 with 0 Axes>"
      ]
     },
     "metadata": {},
     "output_type": "display_data"
    },
    {
     "data": {
      "text/plain": [
       "<Figure size 720x720 with 0 Axes>"
      ]
     },
     "metadata": {},
     "output_type": "display_data"
    },
    {
     "data": {
      "text/plain": [
       "<Figure size 720x720 with 0 Axes>"
      ]
     },
     "metadata": {},
     "output_type": "display_data"
    },
    {
     "data": {
      "text/plain": [
       "<Figure size 720x720 with 0 Axes>"
      ]
     },
     "metadata": {},
     "output_type": "display_data"
    },
    {
     "data": {
      "text/plain": [
       "<Figure size 720x720 with 0 Axes>"
      ]
     },
     "metadata": {},
     "output_type": "display_data"
    },
    {
     "data": {
      "text/plain": [
       "<Figure size 720x720 with 0 Axes>"
      ]
     },
     "metadata": {},
     "output_type": "display_data"
    },
    {
     "data": {
      "text/plain": [
       "<Figure size 720x720 with 0 Axes>"
      ]
     },
     "metadata": {},
     "output_type": "display_data"
    },
    {
     "data": {
      "text/plain": [
       "<Figure size 720x720 with 0 Axes>"
      ]
     },
     "metadata": {},
     "output_type": "display_data"
    },
    {
     "data": {
      "text/plain": [
       "<Figure size 720x720 with 0 Axes>"
      ]
     },
     "metadata": {},
     "output_type": "display_data"
    },
    {
     "data": {
      "text/plain": [
       "<Figure size 720x720 with 0 Axes>"
      ]
     },
     "metadata": {},
     "output_type": "display_data"
    },
    {
     "data": {
      "text/plain": [
       "<Figure size 720x720 with 0 Axes>"
      ]
     },
     "metadata": {},
     "output_type": "display_data"
    },
    {
     "data": {
      "text/plain": [
       "<Figure size 720x720 with 0 Axes>"
      ]
     },
     "metadata": {},
     "output_type": "display_data"
    },
    {
     "data": {
      "text/plain": [
       "<Figure size 720x720 with 0 Axes>"
      ]
     },
     "metadata": {},
     "output_type": "display_data"
    },
    {
     "data": {
      "text/plain": [
       "<Figure size 720x720 with 0 Axes>"
      ]
     },
     "metadata": {},
     "output_type": "display_data"
    },
    {
     "data": {
      "text/plain": [
       "<Figure size 720x720 with 0 Axes>"
      ]
     },
     "metadata": {},
     "output_type": "display_data"
    },
    {
     "data": {
      "text/plain": [
       "<Figure size 720x720 with 0 Axes>"
      ]
     },
     "metadata": {},
     "output_type": "display_data"
    },
    {
     "data": {
      "text/plain": [
       "<Figure size 720x720 with 0 Axes>"
      ]
     },
     "metadata": {},
     "output_type": "display_data"
    },
    {
     "data": {
      "text/plain": [
       "<Figure size 720x720 with 0 Axes>"
      ]
     },
     "metadata": {},
     "output_type": "display_data"
    },
    {
     "data": {
      "text/plain": [
       "<Figure size 720x720 with 0 Axes>"
      ]
     },
     "metadata": {},
     "output_type": "display_data"
    },
    {
     "data": {
      "text/plain": [
       "<Figure size 720x720 with 0 Axes>"
      ]
     },
     "metadata": {},
     "output_type": "display_data"
    },
    {
     "data": {
      "text/plain": [
       "<Figure size 720x720 with 0 Axes>"
      ]
     },
     "metadata": {},
     "output_type": "display_data"
    },
    {
     "data": {
      "text/plain": [
       "<Figure size 720x720 with 0 Axes>"
      ]
     },
     "metadata": {},
     "output_type": "display_data"
    },
    {
     "data": {
      "text/plain": [
       "<Figure size 720x720 with 0 Axes>"
      ]
     },
     "metadata": {},
     "output_type": "display_data"
    },
    {
     "data": {
      "text/plain": [
       "<Figure size 720x720 with 0 Axes>"
      ]
     },
     "metadata": {},
     "output_type": "display_data"
    },
    {
     "data": {
      "text/plain": [
       "<Figure size 720x720 with 0 Axes>"
      ]
     },
     "metadata": {},
     "output_type": "display_data"
    },
    {
     "data": {
      "text/plain": [
       "<Figure size 720x720 with 0 Axes>"
      ]
     },
     "metadata": {},
     "output_type": "display_data"
    },
    {
     "data": {
      "text/plain": [
       "<Figure size 720x720 with 0 Axes>"
      ]
     },
     "metadata": {},
     "output_type": "display_data"
    },
    {
     "data": {
      "text/plain": [
       "<Figure size 720x720 with 0 Axes>"
      ]
     },
     "metadata": {},
     "output_type": "display_data"
    },
    {
     "data": {
      "text/plain": [
       "<Figure size 720x720 with 0 Axes>"
      ]
     },
     "metadata": {},
     "output_type": "display_data"
    },
    {
     "data": {
      "text/plain": [
       "<Figure size 720x720 with 0 Axes>"
      ]
     },
     "metadata": {},
     "output_type": "display_data"
    },
    {
     "data": {
      "text/plain": [
       "<Figure size 720x720 with 0 Axes>"
      ]
     },
     "metadata": {},
     "output_type": "display_data"
    },
    {
     "data": {
      "text/plain": [
       "<Figure size 720x720 with 0 Axes>"
      ]
     },
     "metadata": {},
     "output_type": "display_data"
    },
    {
     "data": {
      "text/plain": [
       "<Figure size 720x720 with 0 Axes>"
      ]
     },
     "metadata": {},
     "output_type": "display_data"
    },
    {
     "data": {
      "text/plain": [
       "<Figure size 720x720 with 0 Axes>"
      ]
     },
     "metadata": {},
     "output_type": "display_data"
    },
    {
     "data": {
      "text/plain": [
       "<Figure size 720x720 with 0 Axes>"
      ]
     },
     "metadata": {},
     "output_type": "display_data"
    },
    {
     "data": {
      "text/plain": [
       "<Figure size 720x720 with 0 Axes>"
      ]
     },
     "metadata": {},
     "output_type": "display_data"
    },
    {
     "data": {
      "text/plain": [
       "<Figure size 720x720 with 0 Axes>"
      ]
     },
     "metadata": {},
     "output_type": "display_data"
    },
    {
     "data": {
      "text/plain": [
       "<Figure size 720x720 with 0 Axes>"
      ]
     },
     "metadata": {},
     "output_type": "display_data"
    },
    {
     "data": {
      "text/plain": [
       "<Figure size 720x720 with 0 Axes>"
      ]
     },
     "metadata": {},
     "output_type": "display_data"
    },
    {
     "data": {
      "text/plain": [
       "<Figure size 720x720 with 0 Axes>"
      ]
     },
     "metadata": {},
     "output_type": "display_data"
    },
    {
     "data": {
      "text/plain": [
       "<Figure size 720x720 with 0 Axes>"
      ]
     },
     "metadata": {},
     "output_type": "display_data"
    },
    {
     "data": {
      "text/plain": [
       "<Figure size 720x720 with 0 Axes>"
      ]
     },
     "metadata": {},
     "output_type": "display_data"
    },
    {
     "data": {
      "text/plain": [
       "<Figure size 720x720 with 0 Axes>"
      ]
     },
     "metadata": {},
     "output_type": "display_data"
    },
    {
     "data": {
      "text/plain": [
       "<Figure size 720x720 with 0 Axes>"
      ]
     },
     "metadata": {},
     "output_type": "display_data"
    },
    {
     "data": {
      "text/plain": [
       "<Figure size 720x720 with 0 Axes>"
      ]
     },
     "metadata": {},
     "output_type": "display_data"
    },
    {
     "data": {
      "text/plain": [
       "<Figure size 720x720 with 0 Axes>"
      ]
     },
     "metadata": {},
     "output_type": "display_data"
    },
    {
     "data": {
      "text/plain": [
       "<Figure size 720x720 with 0 Axes>"
      ]
     },
     "metadata": {},
     "output_type": "display_data"
    },
    {
     "data": {
      "text/plain": [
       "<Figure size 720x720 with 0 Axes>"
      ]
     },
     "metadata": {},
     "output_type": "display_data"
    },
    {
     "data": {
      "text/plain": [
       "<Figure size 720x720 with 0 Axes>"
      ]
     },
     "metadata": {},
     "output_type": "display_data"
    },
    {
     "data": {
      "text/plain": [
       "<Figure size 720x720 with 0 Axes>"
      ]
     },
     "metadata": {},
     "output_type": "display_data"
    },
    {
     "data": {
      "text/plain": [
       "<Figure size 720x720 with 0 Axes>"
      ]
     },
     "metadata": {},
     "output_type": "display_data"
    },
    {
     "data": {
      "text/plain": [
       "<Figure size 720x720 with 0 Axes>"
      ]
     },
     "metadata": {},
     "output_type": "display_data"
    },
    {
     "data": {
      "text/plain": [
       "<Figure size 720x720 with 0 Axes>"
      ]
     },
     "metadata": {},
     "output_type": "display_data"
    },
    {
     "data": {
      "text/plain": [
       "<Figure size 720x720 with 0 Axes>"
      ]
     },
     "metadata": {},
     "output_type": "display_data"
    },
    {
     "data": {
      "text/plain": [
       "<Figure size 720x720 with 0 Axes>"
      ]
     },
     "metadata": {},
     "output_type": "display_data"
    },
    {
     "data": {
      "text/plain": [
       "<Figure size 720x720 with 0 Axes>"
      ]
     },
     "metadata": {},
     "output_type": "display_data"
    },
    {
     "data": {
      "text/plain": [
       "<Figure size 720x720 with 0 Axes>"
      ]
     },
     "metadata": {},
     "output_type": "display_data"
    },
    {
     "data": {
      "text/plain": [
       "<Figure size 720x720 with 0 Axes>"
      ]
     },
     "metadata": {},
     "output_type": "display_data"
    },
    {
     "data": {
      "text/plain": [
       "<Figure size 720x720 with 0 Axes>"
      ]
     },
     "metadata": {},
     "output_type": "display_data"
    },
    {
     "data": {
      "text/plain": [
       "<Figure size 720x720 with 0 Axes>"
      ]
     },
     "metadata": {},
     "output_type": "display_data"
    },
    {
     "data": {
      "text/plain": [
       "<Figure size 720x720 with 0 Axes>"
      ]
     },
     "metadata": {},
     "output_type": "display_data"
    },
    {
     "data": {
      "text/plain": [
       "<Figure size 720x720 with 0 Axes>"
      ]
     },
     "metadata": {},
     "output_type": "display_data"
    },
    {
     "data": {
      "text/plain": [
       "<Figure size 720x720 with 0 Axes>"
      ]
     },
     "metadata": {},
     "output_type": "display_data"
    },
    {
     "data": {
      "text/plain": [
       "<Figure size 720x720 with 0 Axes>"
      ]
     },
     "metadata": {},
     "output_type": "display_data"
    },
    {
     "data": {
      "text/plain": [
       "<Figure size 720x720 with 0 Axes>"
      ]
     },
     "metadata": {},
     "output_type": "display_data"
    },
    {
     "data": {
      "text/plain": [
       "<Figure size 720x720 with 0 Axes>"
      ]
     },
     "metadata": {},
     "output_type": "display_data"
    },
    {
     "data": {
      "text/plain": [
       "<Figure size 720x720 with 0 Axes>"
      ]
     },
     "metadata": {},
     "output_type": "display_data"
    },
    {
     "data": {
      "text/plain": [
       "<Figure size 720x720 with 0 Axes>"
      ]
     },
     "metadata": {},
     "output_type": "display_data"
    },
    {
     "data": {
      "text/plain": [
       "<Figure size 720x720 with 0 Axes>"
      ]
     },
     "metadata": {},
     "output_type": "display_data"
    },
    {
     "data": {
      "text/plain": [
       "<Figure size 720x720 with 0 Axes>"
      ]
     },
     "metadata": {},
     "output_type": "display_data"
    },
    {
     "data": {
      "text/plain": [
       "<Figure size 720x720 with 0 Axes>"
      ]
     },
     "metadata": {},
     "output_type": "display_data"
    },
    {
     "data": {
      "text/plain": [
       "<Figure size 720x720 with 0 Axes>"
      ]
     },
     "metadata": {},
     "output_type": "display_data"
    },
    {
     "data": {
      "text/plain": [
       "<Figure size 720x720 with 0 Axes>"
      ]
     },
     "metadata": {},
     "output_type": "display_data"
    },
    {
     "data": {
      "text/plain": [
       "<Figure size 720x720 with 0 Axes>"
      ]
     },
     "metadata": {},
     "output_type": "display_data"
    },
    {
     "data": {
      "text/plain": [
       "<Figure size 720x720 with 0 Axes>"
      ]
     },
     "metadata": {},
     "output_type": "display_data"
    },
    {
     "data": {
      "text/plain": [
       "<Figure size 720x720 with 0 Axes>"
      ]
     },
     "metadata": {},
     "output_type": "display_data"
    },
    {
     "data": {
      "text/plain": [
       "<Figure size 720x720 with 0 Axes>"
      ]
     },
     "metadata": {},
     "output_type": "display_data"
    },
    {
     "data": {
      "text/plain": [
       "<Figure size 720x720 with 0 Axes>"
      ]
     },
     "metadata": {},
     "output_type": "display_data"
    },
    {
     "data": {
      "text/plain": [
       "<Figure size 720x720 with 0 Axes>"
      ]
     },
     "metadata": {},
     "output_type": "display_data"
    },
    {
     "data": {
      "text/plain": [
       "<Figure size 720x720 with 0 Axes>"
      ]
     },
     "metadata": {},
     "output_type": "display_data"
    },
    {
     "data": {
      "text/plain": [
       "<Figure size 720x720 with 0 Axes>"
      ]
     },
     "metadata": {},
     "output_type": "display_data"
    },
    {
     "data": {
      "text/plain": [
       "<Figure size 720x720 with 0 Axes>"
      ]
     },
     "metadata": {},
     "output_type": "display_data"
    },
    {
     "data": {
      "text/plain": [
       "<Figure size 720x720 with 0 Axes>"
      ]
     },
     "metadata": {},
     "output_type": "display_data"
    },
    {
     "data": {
      "text/plain": [
       "<Figure size 720x720 with 0 Axes>"
      ]
     },
     "metadata": {},
     "output_type": "display_data"
    },
    {
     "data": {
      "text/plain": [
       "<Figure size 720x720 with 0 Axes>"
      ]
     },
     "metadata": {},
     "output_type": "display_data"
    },
    {
     "data": {
      "text/plain": [
       "<Figure size 720x720 with 0 Axes>"
      ]
     },
     "metadata": {},
     "output_type": "display_data"
    },
    {
     "data": {
      "text/plain": [
       "<Figure size 720x720 with 0 Axes>"
      ]
     },
     "metadata": {},
     "output_type": "display_data"
    },
    {
     "data": {
      "text/plain": [
       "<Figure size 720x720 with 0 Axes>"
      ]
     },
     "metadata": {},
     "output_type": "display_data"
    },
    {
     "data": {
      "text/plain": [
       "<Figure size 720x720 with 0 Axes>"
      ]
     },
     "metadata": {},
     "output_type": "display_data"
    },
    {
     "data": {
      "text/plain": [
       "<Figure size 720x720 with 0 Axes>"
      ]
     },
     "metadata": {},
     "output_type": "display_data"
    },
    {
     "data": {
      "text/plain": [
       "<Figure size 720x720 with 0 Axes>"
      ]
     },
     "metadata": {},
     "output_type": "display_data"
    },
    {
     "data": {
      "text/plain": [
       "<Figure size 720x720 with 0 Axes>"
      ]
     },
     "metadata": {},
     "output_type": "display_data"
    },
    {
     "data": {
      "text/plain": [
       "<Figure size 720x720 with 0 Axes>"
      ]
     },
     "metadata": {},
     "output_type": "display_data"
    },
    {
     "data": {
      "text/plain": [
       "<Figure size 720x720 with 0 Axes>"
      ]
     },
     "metadata": {},
     "output_type": "display_data"
    },
    {
     "data": {
      "text/plain": [
       "<Figure size 720x720 with 0 Axes>"
      ]
     },
     "metadata": {},
     "output_type": "display_data"
    },
    {
     "data": {
      "text/plain": [
       "<Figure size 720x720 with 0 Axes>"
      ]
     },
     "metadata": {},
     "output_type": "display_data"
    },
    {
     "data": {
      "text/plain": [
       "<Figure size 720x720 with 0 Axes>"
      ]
     },
     "metadata": {},
     "output_type": "display_data"
    },
    {
     "data": {
      "text/plain": [
       "<Figure size 720x720 with 0 Axes>"
      ]
     },
     "metadata": {},
     "output_type": "display_data"
    },
    {
     "data": {
      "text/plain": [
       "<Figure size 720x720 with 0 Axes>"
      ]
     },
     "metadata": {},
     "output_type": "display_data"
    },
    {
     "data": {
      "text/plain": [
       "<Figure size 720x720 with 0 Axes>"
      ]
     },
     "metadata": {},
     "output_type": "display_data"
    },
    {
     "data": {
      "text/plain": [
       "<Figure size 720x720 with 0 Axes>"
      ]
     },
     "metadata": {},
     "output_type": "display_data"
    },
    {
     "data": {
      "text/plain": [
       "<Figure size 720x720 with 0 Axes>"
      ]
     },
     "metadata": {},
     "output_type": "display_data"
    },
    {
     "data": {
      "text/plain": [
       "<Figure size 720x720 with 0 Axes>"
      ]
     },
     "metadata": {},
     "output_type": "display_data"
    },
    {
     "data": {
      "text/plain": [
       "<Figure size 720x720 with 0 Axes>"
      ]
     },
     "metadata": {},
     "output_type": "display_data"
    },
    {
     "data": {
      "text/plain": [
       "<Figure size 720x720 with 0 Axes>"
      ]
     },
     "metadata": {},
     "output_type": "display_data"
    },
    {
     "data": {
      "text/plain": [
       "<Figure size 720x720 with 0 Axes>"
      ]
     },
     "metadata": {},
     "output_type": "display_data"
    },
    {
     "data": {
      "text/plain": [
       "<Figure size 720x720 with 0 Axes>"
      ]
     },
     "metadata": {},
     "output_type": "display_data"
    },
    {
     "data": {
      "text/plain": [
       "<Figure size 720x720 with 0 Axes>"
      ]
     },
     "metadata": {},
     "output_type": "display_data"
    },
    {
     "data": {
      "text/plain": [
       "<Figure size 720x720 with 0 Axes>"
      ]
     },
     "metadata": {},
     "output_type": "display_data"
    },
    {
     "data": {
      "text/plain": [
       "<Figure size 720x720 with 0 Axes>"
      ]
     },
     "metadata": {},
     "output_type": "display_data"
    },
    {
     "data": {
      "text/plain": [
       "<Figure size 720x720 with 0 Axes>"
      ]
     },
     "metadata": {},
     "output_type": "display_data"
    },
    {
     "data": {
      "text/plain": [
       "<Figure size 720x720 with 0 Axes>"
      ]
     },
     "metadata": {},
     "output_type": "display_data"
    },
    {
     "data": {
      "text/plain": [
       "<Figure size 720x720 with 0 Axes>"
      ]
     },
     "metadata": {},
     "output_type": "display_data"
    },
    {
     "data": {
      "text/plain": [
       "<Figure size 720x720 with 0 Axes>"
      ]
     },
     "metadata": {},
     "output_type": "display_data"
    },
    {
     "data": {
      "text/plain": [
       "<Figure size 720x720 with 0 Axes>"
      ]
     },
     "metadata": {},
     "output_type": "display_data"
    },
    {
     "data": {
      "text/plain": [
       "<Figure size 720x720 with 0 Axes>"
      ]
     },
     "metadata": {},
     "output_type": "display_data"
    },
    {
     "data": {
      "text/plain": [
       "<Figure size 720x720 with 0 Axes>"
      ]
     },
     "metadata": {},
     "output_type": "display_data"
    },
    {
     "data": {
      "text/plain": [
       "<Figure size 720x720 with 0 Axes>"
      ]
     },
     "metadata": {},
     "output_type": "display_data"
    },
    {
     "data": {
      "text/plain": [
       "<Figure size 720x720 with 0 Axes>"
      ]
     },
     "metadata": {},
     "output_type": "display_data"
    },
    {
     "data": {
      "text/plain": [
       "<Figure size 720x720 with 0 Axes>"
      ]
     },
     "metadata": {},
     "output_type": "display_data"
    },
    {
     "data": {
      "text/plain": [
       "<Figure size 720x720 with 0 Axes>"
      ]
     },
     "metadata": {},
     "output_type": "display_data"
    },
    {
     "data": {
      "text/plain": [
       "<Figure size 720x720 with 0 Axes>"
      ]
     },
     "metadata": {},
     "output_type": "display_data"
    },
    {
     "data": {
      "text/plain": [
       "<Figure size 720x720 with 0 Axes>"
      ]
     },
     "metadata": {},
     "output_type": "display_data"
    },
    {
     "data": {
      "text/plain": [
       "<Figure size 720x720 with 0 Axes>"
      ]
     },
     "metadata": {},
     "output_type": "display_data"
    },
    {
     "data": {
      "text/plain": [
       "<Figure size 720x720 with 0 Axes>"
      ]
     },
     "metadata": {},
     "output_type": "display_data"
    },
    {
     "data": {
      "text/plain": [
       "<Figure size 720x720 with 0 Axes>"
      ]
     },
     "metadata": {},
     "output_type": "display_data"
    },
    {
     "data": {
      "text/plain": [
       "<Figure size 720x720 with 0 Axes>"
      ]
     },
     "metadata": {},
     "output_type": "display_data"
    },
    {
     "data": {
      "text/plain": [
       "<Figure size 720x720 with 0 Axes>"
      ]
     },
     "metadata": {},
     "output_type": "display_data"
    },
    {
     "data": {
      "text/plain": [
       "<Figure size 720x720 with 0 Axes>"
      ]
     },
     "metadata": {},
     "output_type": "display_data"
    },
    {
     "data": {
      "text/plain": [
       "<Figure size 720x720 with 0 Axes>"
      ]
     },
     "metadata": {},
     "output_type": "display_data"
    },
    {
     "data": {
      "text/plain": [
       "<Figure size 720x720 with 0 Axes>"
      ]
     },
     "metadata": {},
     "output_type": "display_data"
    },
    {
     "data": {
      "text/plain": [
       "<Figure size 720x720 with 0 Axes>"
      ]
     },
     "metadata": {},
     "output_type": "display_data"
    },
    {
     "data": {
      "text/plain": [
       "<Figure size 720x720 with 0 Axes>"
      ]
     },
     "metadata": {},
     "output_type": "display_data"
    },
    {
     "data": {
      "text/plain": [
       "<Figure size 720x720 with 0 Axes>"
      ]
     },
     "metadata": {},
     "output_type": "display_data"
    },
    {
     "data": {
      "text/plain": [
       "<Figure size 720x720 with 0 Axes>"
      ]
     },
     "metadata": {},
     "output_type": "display_data"
    },
    {
     "data": {
      "text/plain": [
       "<Figure size 720x720 with 0 Axes>"
      ]
     },
     "metadata": {},
     "output_type": "display_data"
    },
    {
     "data": {
      "text/plain": [
       "<Figure size 720x720 with 0 Axes>"
      ]
     },
     "metadata": {},
     "output_type": "display_data"
    },
    {
     "data": {
      "text/plain": [
       "<Figure size 720x720 with 0 Axes>"
      ]
     },
     "metadata": {},
     "output_type": "display_data"
    },
    {
     "data": {
      "text/plain": [
       "<Figure size 720x720 with 0 Axes>"
      ]
     },
     "metadata": {},
     "output_type": "display_data"
    },
    {
     "data": {
      "text/plain": [
       "<Figure size 720x720 with 0 Axes>"
      ]
     },
     "metadata": {},
     "output_type": "display_data"
    },
    {
     "data": {
      "text/plain": [
       "<Figure size 720x720 with 0 Axes>"
      ]
     },
     "metadata": {},
     "output_type": "display_data"
    },
    {
     "data": {
      "text/plain": [
       "<Figure size 720x720 with 0 Axes>"
      ]
     },
     "metadata": {},
     "output_type": "display_data"
    },
    {
     "data": {
      "text/plain": [
       "<Figure size 720x720 with 0 Axes>"
      ]
     },
     "metadata": {},
     "output_type": "display_data"
    },
    {
     "data": {
      "text/plain": [
       "<Figure size 720x720 with 0 Axes>"
      ]
     },
     "metadata": {},
     "output_type": "display_data"
    },
    {
     "data": {
      "text/plain": [
       "<Figure size 720x720 with 0 Axes>"
      ]
     },
     "metadata": {},
     "output_type": "display_data"
    },
    {
     "data": {
      "text/plain": [
       "<Figure size 720x720 with 0 Axes>"
      ]
     },
     "metadata": {},
     "output_type": "display_data"
    },
    {
     "data": {
      "text/plain": [
       "<Figure size 720x720 with 0 Axes>"
      ]
     },
     "metadata": {},
     "output_type": "display_data"
    },
    {
     "data": {
      "text/plain": [
       "<Figure size 720x720 with 0 Axes>"
      ]
     },
     "metadata": {},
     "output_type": "display_data"
    },
    {
     "data": {
      "text/plain": [
       "<Figure size 720x720 with 0 Axes>"
      ]
     },
     "metadata": {},
     "output_type": "display_data"
    },
    {
     "data": {
      "text/plain": [
       "<Figure size 720x720 with 0 Axes>"
      ]
     },
     "metadata": {},
     "output_type": "display_data"
    },
    {
     "data": {
      "text/plain": [
       "<Figure size 720x720 with 0 Axes>"
      ]
     },
     "metadata": {},
     "output_type": "display_data"
    },
    {
     "data": {
      "text/plain": [
       "<Figure size 720x720 with 0 Axes>"
      ]
     },
     "metadata": {},
     "output_type": "display_data"
    },
    {
     "data": {
      "text/plain": [
       "<Figure size 720x720 with 0 Axes>"
      ]
     },
     "metadata": {},
     "output_type": "display_data"
    },
    {
     "data": {
      "text/plain": [
       "<Figure size 720x720 with 0 Axes>"
      ]
     },
     "metadata": {},
     "output_type": "display_data"
    },
    {
     "data": {
      "text/plain": [
       "<Figure size 720x720 with 0 Axes>"
      ]
     },
     "metadata": {},
     "output_type": "display_data"
    },
    {
     "data": {
      "text/plain": [
       "<Figure size 720x720 with 0 Axes>"
      ]
     },
     "metadata": {},
     "output_type": "display_data"
    },
    {
     "data": {
      "text/plain": [
       "<Figure size 720x720 with 0 Axes>"
      ]
     },
     "metadata": {},
     "output_type": "display_data"
    },
    {
     "data": {
      "text/plain": [
       "<Figure size 720x720 with 0 Axes>"
      ]
     },
     "metadata": {},
     "output_type": "display_data"
    },
    {
     "data": {
      "text/plain": [
       "<Figure size 720x720 with 0 Axes>"
      ]
     },
     "metadata": {},
     "output_type": "display_data"
    },
    {
     "data": {
      "text/plain": [
       "<Figure size 720x720 with 0 Axes>"
      ]
     },
     "metadata": {},
     "output_type": "display_data"
    },
    {
     "data": {
      "text/plain": [
       "<Figure size 720x720 with 0 Axes>"
      ]
     },
     "metadata": {},
     "output_type": "display_data"
    },
    {
     "data": {
      "text/plain": [
       "<Figure size 720x720 with 0 Axes>"
      ]
     },
     "metadata": {},
     "output_type": "display_data"
    },
    {
     "data": {
      "text/plain": [
       "<Figure size 720x720 with 0 Axes>"
      ]
     },
     "metadata": {},
     "output_type": "display_data"
    },
    {
     "data": {
      "text/plain": [
       "<Figure size 720x720 with 0 Axes>"
      ]
     },
     "metadata": {},
     "output_type": "display_data"
    },
    {
     "data": {
      "text/plain": [
       "<Figure size 720x720 with 0 Axes>"
      ]
     },
     "metadata": {},
     "output_type": "display_data"
    },
    {
     "data": {
      "text/plain": [
       "<Figure size 720x720 with 0 Axes>"
      ]
     },
     "metadata": {},
     "output_type": "display_data"
    },
    {
     "data": {
      "text/plain": [
       "<Figure size 720x720 with 0 Axes>"
      ]
     },
     "metadata": {},
     "output_type": "display_data"
    },
    {
     "data": {
      "text/plain": [
       "<Figure size 720x720 with 0 Axes>"
      ]
     },
     "metadata": {},
     "output_type": "display_data"
    },
    {
     "data": {
      "text/plain": [
       "<Figure size 720x720 with 0 Axes>"
      ]
     },
     "metadata": {},
     "output_type": "display_data"
    },
    {
     "data": {
      "text/plain": [
       "<Figure size 720x720 with 0 Axes>"
      ]
     },
     "metadata": {},
     "output_type": "display_data"
    },
    {
     "data": {
      "text/plain": [
       "<Figure size 720x720 with 0 Axes>"
      ]
     },
     "metadata": {},
     "output_type": "display_data"
    },
    {
     "data": {
      "text/plain": [
       "<Figure size 720x720 with 0 Axes>"
      ]
     },
     "metadata": {},
     "output_type": "display_data"
    },
    {
     "data": {
      "text/plain": [
       "<Figure size 720x720 with 0 Axes>"
      ]
     },
     "metadata": {},
     "output_type": "display_data"
    },
    {
     "data": {
      "text/plain": [
       "<Figure size 720x720 with 0 Axes>"
      ]
     },
     "metadata": {},
     "output_type": "display_data"
    },
    {
     "data": {
      "text/plain": [
       "<Figure size 720x720 with 0 Axes>"
      ]
     },
     "metadata": {},
     "output_type": "display_data"
    },
    {
     "data": {
      "text/plain": [
       "<Figure size 720x720 with 0 Axes>"
      ]
     },
     "metadata": {},
     "output_type": "display_data"
    },
    {
     "data": {
      "text/plain": [
       "<Figure size 720x720 with 0 Axes>"
      ]
     },
     "metadata": {},
     "output_type": "display_data"
    },
    {
     "data": {
      "text/plain": [
       "<Figure size 720x720 with 0 Axes>"
      ]
     },
     "metadata": {},
     "output_type": "display_data"
    },
    {
     "data": {
      "text/plain": [
       "<Figure size 720x720 with 0 Axes>"
      ]
     },
     "metadata": {},
     "output_type": "display_data"
    },
    {
     "data": {
      "text/plain": [
       "<Figure size 720x720 with 0 Axes>"
      ]
     },
     "metadata": {},
     "output_type": "display_data"
    },
    {
     "data": {
      "text/plain": [
       "<Figure size 720x720 with 0 Axes>"
      ]
     },
     "metadata": {},
     "output_type": "display_data"
    },
    {
     "data": {
      "text/plain": [
       "<Figure size 720x720 with 0 Axes>"
      ]
     },
     "metadata": {},
     "output_type": "display_data"
    },
    {
     "data": {
      "text/plain": [
       "<Figure size 720x720 with 0 Axes>"
      ]
     },
     "metadata": {},
     "output_type": "display_data"
    },
    {
     "data": {
      "text/plain": [
       "<Figure size 720x720 with 0 Axes>"
      ]
     },
     "metadata": {},
     "output_type": "display_data"
    },
    {
     "data": {
      "text/plain": [
       "<Figure size 720x720 with 0 Axes>"
      ]
     },
     "metadata": {},
     "output_type": "display_data"
    },
    {
     "data": {
      "text/plain": [
       "<Figure size 720x720 with 0 Axes>"
      ]
     },
     "metadata": {},
     "output_type": "display_data"
    },
    {
     "data": {
      "text/plain": [
       "<Figure size 720x720 with 0 Axes>"
      ]
     },
     "metadata": {},
     "output_type": "display_data"
    },
    {
     "data": {
      "text/plain": [
       "<Figure size 720x720 with 0 Axes>"
      ]
     },
     "metadata": {},
     "output_type": "display_data"
    },
    {
     "data": {
      "text/plain": [
       "<Figure size 720x720 with 0 Axes>"
      ]
     },
     "metadata": {},
     "output_type": "display_data"
    },
    {
     "data": {
      "text/plain": [
       "<Figure size 720x720 with 0 Axes>"
      ]
     },
     "metadata": {},
     "output_type": "display_data"
    },
    {
     "data": {
      "text/plain": [
       "<Figure size 720x720 with 0 Axes>"
      ]
     },
     "metadata": {},
     "output_type": "display_data"
    },
    {
     "data": {
      "text/plain": [
       "<Figure size 720x720 with 0 Axes>"
      ]
     },
     "metadata": {},
     "output_type": "display_data"
    },
    {
     "data": {
      "text/plain": [
       "<Figure size 720x720 with 0 Axes>"
      ]
     },
     "metadata": {},
     "output_type": "display_data"
    },
    {
     "data": {
      "text/plain": [
       "<Figure size 720x720 with 0 Axes>"
      ]
     },
     "metadata": {},
     "output_type": "display_data"
    },
    {
     "data": {
      "text/plain": [
       "<Figure size 720x720 with 0 Axes>"
      ]
     },
     "metadata": {},
     "output_type": "display_data"
    },
    {
     "data": {
      "text/plain": [
       "<Figure size 720x720 with 0 Axes>"
      ]
     },
     "metadata": {},
     "output_type": "display_data"
    },
    {
     "data": {
      "text/plain": [
       "<Figure size 720x720 with 0 Axes>"
      ]
     },
     "metadata": {},
     "output_type": "display_data"
    },
    {
     "data": {
      "text/plain": [
       "<Figure size 720x720 with 0 Axes>"
      ]
     },
     "metadata": {},
     "output_type": "display_data"
    },
    {
     "data": {
      "text/plain": [
       "<Figure size 720x720 with 0 Axes>"
      ]
     },
     "metadata": {},
     "output_type": "display_data"
    },
    {
     "data": {
      "text/plain": [
       "<Figure size 720x720 with 0 Axes>"
      ]
     },
     "metadata": {},
     "output_type": "display_data"
    },
    {
     "data": {
      "text/plain": [
       "<Figure size 720x720 with 0 Axes>"
      ]
     },
     "metadata": {},
     "output_type": "display_data"
    },
    {
     "data": {
      "text/plain": [
       "<Figure size 720x720 with 0 Axes>"
      ]
     },
     "metadata": {},
     "output_type": "display_data"
    },
    {
     "data": {
      "text/plain": [
       "<Figure size 720x720 with 0 Axes>"
      ]
     },
     "metadata": {},
     "output_type": "display_data"
    },
    {
     "data": {
      "text/plain": [
       "<Figure size 720x720 with 0 Axes>"
      ]
     },
     "metadata": {},
     "output_type": "display_data"
    },
    {
     "data": {
      "text/plain": [
       "<Figure size 720x720 with 0 Axes>"
      ]
     },
     "metadata": {},
     "output_type": "display_data"
    },
    {
     "data": {
      "text/plain": [
       "<Figure size 720x720 with 0 Axes>"
      ]
     },
     "metadata": {},
     "output_type": "display_data"
    },
    {
     "data": {
      "text/plain": [
       "<Figure size 720x720 with 0 Axes>"
      ]
     },
     "metadata": {},
     "output_type": "display_data"
    },
    {
     "data": {
      "text/plain": [
       "<Figure size 720x720 with 0 Axes>"
      ]
     },
     "metadata": {},
     "output_type": "display_data"
    },
    {
     "data": {
      "text/plain": [
       "<Figure size 720x720 with 0 Axes>"
      ]
     },
     "metadata": {},
     "output_type": "display_data"
    },
    {
     "data": {
      "text/plain": [
       "<Figure size 720x720 with 0 Axes>"
      ]
     },
     "metadata": {},
     "output_type": "display_data"
    },
    {
     "data": {
      "text/plain": [
       "<Figure size 720x720 with 0 Axes>"
      ]
     },
     "metadata": {},
     "output_type": "display_data"
    },
    {
     "data": {
      "text/plain": [
       "<Figure size 720x720 with 0 Axes>"
      ]
     },
     "metadata": {},
     "output_type": "display_data"
    },
    {
     "data": {
      "text/plain": [
       "<Figure size 720x720 with 0 Axes>"
      ]
     },
     "metadata": {},
     "output_type": "display_data"
    },
    {
     "data": {
      "text/plain": [
       "<Figure size 720x720 with 0 Axes>"
      ]
     },
     "metadata": {},
     "output_type": "display_data"
    },
    {
     "data": {
      "text/plain": [
       "<Figure size 720x720 with 0 Axes>"
      ]
     },
     "metadata": {},
     "output_type": "display_data"
    },
    {
     "data": {
      "text/plain": [
       "<Figure size 720x720 with 0 Axes>"
      ]
     },
     "metadata": {},
     "output_type": "display_data"
    },
    {
     "data": {
      "text/plain": [
       "<Figure size 720x720 with 0 Axes>"
      ]
     },
     "metadata": {},
     "output_type": "display_data"
    },
    {
     "data": {
      "text/plain": [
       "<Figure size 720x720 with 0 Axes>"
      ]
     },
     "metadata": {},
     "output_type": "display_data"
    },
    {
     "data": {
      "text/plain": [
       "<Figure size 720x720 with 0 Axes>"
      ]
     },
     "metadata": {},
     "output_type": "display_data"
    },
    {
     "data": {
      "text/plain": [
       "<Figure size 720x720 with 0 Axes>"
      ]
     },
     "metadata": {},
     "output_type": "display_data"
    },
    {
     "data": {
      "text/plain": [
       "<Figure size 720x720 with 0 Axes>"
      ]
     },
     "metadata": {},
     "output_type": "display_data"
    },
    {
     "data": {
      "text/plain": [
       "<Figure size 720x720 with 0 Axes>"
      ]
     },
     "metadata": {},
     "output_type": "display_data"
    },
    {
     "data": {
      "text/plain": [
       "<Figure size 720x720 with 0 Axes>"
      ]
     },
     "metadata": {},
     "output_type": "display_data"
    },
    {
     "data": {
      "text/plain": [
       "<Figure size 720x720 with 0 Axes>"
      ]
     },
     "metadata": {},
     "output_type": "display_data"
    },
    {
     "data": {
      "text/plain": [
       "<Figure size 720x720 with 0 Axes>"
      ]
     },
     "metadata": {},
     "output_type": "display_data"
    },
    {
     "data": {
      "text/plain": [
       "<Figure size 720x720 with 0 Axes>"
      ]
     },
     "metadata": {},
     "output_type": "display_data"
    },
    {
     "data": {
      "text/plain": [
       "<Figure size 720x720 with 0 Axes>"
      ]
     },
     "metadata": {},
     "output_type": "display_data"
    },
    {
     "data": {
      "text/plain": [
       "<Figure size 720x720 with 0 Axes>"
      ]
     },
     "metadata": {},
     "output_type": "display_data"
    },
    {
     "data": {
      "text/plain": [
       "<Figure size 720x720 with 0 Axes>"
      ]
     },
     "metadata": {},
     "output_type": "display_data"
    },
    {
     "data": {
      "text/plain": [
       "<Figure size 720x720 with 0 Axes>"
      ]
     },
     "metadata": {},
     "output_type": "display_data"
    },
    {
     "data": {
      "text/plain": [
       "<Figure size 720x720 with 0 Axes>"
      ]
     },
     "metadata": {},
     "output_type": "display_data"
    },
    {
     "data": {
      "text/plain": [
       "<Figure size 720x720 with 0 Axes>"
      ]
     },
     "metadata": {},
     "output_type": "display_data"
    },
    {
     "data": {
      "text/plain": [
       "<Figure size 720x720 with 0 Axes>"
      ]
     },
     "metadata": {},
     "output_type": "display_data"
    },
    {
     "data": {
      "text/plain": [
       "<Figure size 720x720 with 0 Axes>"
      ]
     },
     "metadata": {},
     "output_type": "display_data"
    },
    {
     "data": {
      "text/plain": [
       "<Figure size 720x720 with 0 Axes>"
      ]
     },
     "metadata": {},
     "output_type": "display_data"
    },
    {
     "data": {
      "text/plain": [
       "<Figure size 720x720 with 0 Axes>"
      ]
     },
     "metadata": {},
     "output_type": "display_data"
    },
    {
     "data": {
      "text/plain": [
       "<Figure size 720x720 with 0 Axes>"
      ]
     },
     "metadata": {},
     "output_type": "display_data"
    },
    {
     "data": {
      "text/plain": [
       "<Figure size 720x720 with 0 Axes>"
      ]
     },
     "metadata": {},
     "output_type": "display_data"
    },
    {
     "data": {
      "text/plain": [
       "<Figure size 720x720 with 0 Axes>"
      ]
     },
     "metadata": {},
     "output_type": "display_data"
    },
    {
     "data": {
      "text/plain": [
       "<Figure size 720x720 with 0 Axes>"
      ]
     },
     "metadata": {},
     "output_type": "display_data"
    },
    {
     "data": {
      "text/plain": [
       "<Figure size 720x720 with 0 Axes>"
      ]
     },
     "metadata": {},
     "output_type": "display_data"
    },
    {
     "data": {
      "text/plain": [
       "<Figure size 720x720 with 0 Axes>"
      ]
     },
     "metadata": {},
     "output_type": "display_data"
    },
    {
     "data": {
      "text/plain": [
       "<Figure size 720x720 with 0 Axes>"
      ]
     },
     "metadata": {},
     "output_type": "display_data"
    },
    {
     "data": {
      "text/plain": [
       "<Figure size 720x720 with 0 Axes>"
      ]
     },
     "metadata": {},
     "output_type": "display_data"
    },
    {
     "data": {
      "text/plain": [
       "<Figure size 720x720 with 0 Axes>"
      ]
     },
     "metadata": {},
     "output_type": "display_data"
    },
    {
     "data": {
      "text/plain": [
       "<Figure size 720x720 with 0 Axes>"
      ]
     },
     "metadata": {},
     "output_type": "display_data"
    },
    {
     "data": {
      "text/plain": [
       "<Figure size 720x720 with 0 Axes>"
      ]
     },
     "metadata": {},
     "output_type": "display_data"
    },
    {
     "data": {
      "text/plain": [
       "<Figure size 720x720 with 0 Axes>"
      ]
     },
     "metadata": {},
     "output_type": "display_data"
    },
    {
     "data": {
      "text/plain": [
       "<Figure size 720x720 with 0 Axes>"
      ]
     },
     "metadata": {},
     "output_type": "display_data"
    },
    {
     "data": {
      "text/plain": [
       "<Figure size 720x720 with 0 Axes>"
      ]
     },
     "metadata": {},
     "output_type": "display_data"
    },
    {
     "data": {
      "text/plain": [
       "<Figure size 720x720 with 0 Axes>"
      ]
     },
     "metadata": {},
     "output_type": "display_data"
    },
    {
     "data": {
      "text/plain": [
       "<Figure size 720x720 with 0 Axes>"
      ]
     },
     "metadata": {},
     "output_type": "display_data"
    },
    {
     "data": {
      "text/plain": [
       "<Figure size 720x720 with 0 Axes>"
      ]
     },
     "metadata": {},
     "output_type": "display_data"
    },
    {
     "data": {
      "text/plain": [
       "<Figure size 720x720 with 0 Axes>"
      ]
     },
     "metadata": {},
     "output_type": "display_data"
    },
    {
     "data": {
      "text/plain": [
       "<Figure size 720x720 with 0 Axes>"
      ]
     },
     "metadata": {},
     "output_type": "display_data"
    },
    {
     "data": {
      "text/plain": [
       "<Figure size 720x720 with 0 Axes>"
      ]
     },
     "metadata": {},
     "output_type": "display_data"
    },
    {
     "data": {
      "text/plain": [
       "<Figure size 720x720 with 0 Axes>"
      ]
     },
     "metadata": {},
     "output_type": "display_data"
    },
    {
     "data": {
      "text/plain": [
       "<Figure size 720x720 with 0 Axes>"
      ]
     },
     "metadata": {},
     "output_type": "display_data"
    },
    {
     "data": {
      "text/plain": [
       "<Figure size 720x720 with 0 Axes>"
      ]
     },
     "metadata": {},
     "output_type": "display_data"
    },
    {
     "data": {
      "text/plain": [
       "<Figure size 720x720 with 0 Axes>"
      ]
     },
     "metadata": {},
     "output_type": "display_data"
    },
    {
     "data": {
      "text/plain": [
       "<Figure size 720x720 with 0 Axes>"
      ]
     },
     "metadata": {},
     "output_type": "display_data"
    },
    {
     "data": {
      "text/plain": [
       "<Figure size 720x720 with 0 Axes>"
      ]
     },
     "metadata": {},
     "output_type": "display_data"
    },
    {
     "data": {
      "text/plain": [
       "<Figure size 720x720 with 0 Axes>"
      ]
     },
     "metadata": {},
     "output_type": "display_data"
    },
    {
     "data": {
      "text/plain": [
       "<Figure size 720x720 with 0 Axes>"
      ]
     },
     "metadata": {},
     "output_type": "display_data"
    },
    {
     "data": {
      "text/plain": [
       "<Figure size 720x720 with 0 Axes>"
      ]
     },
     "metadata": {},
     "output_type": "display_data"
    },
    {
     "data": {
      "text/plain": [
       "<Figure size 720x720 with 0 Axes>"
      ]
     },
     "metadata": {},
     "output_type": "display_data"
    },
    {
     "data": {
      "text/plain": [
       "<Figure size 720x720 with 0 Axes>"
      ]
     },
     "metadata": {},
     "output_type": "display_data"
    },
    {
     "data": {
      "text/plain": [
       "<Figure size 720x720 with 0 Axes>"
      ]
     },
     "metadata": {},
     "output_type": "display_data"
    },
    {
     "data": {
      "text/plain": [
       "<Figure size 720x720 with 0 Axes>"
      ]
     },
     "metadata": {},
     "output_type": "display_data"
    },
    {
     "data": {
      "text/plain": [
       "<Figure size 720x720 with 0 Axes>"
      ]
     },
     "metadata": {},
     "output_type": "display_data"
    },
    {
     "data": {
      "text/plain": [
       "<Figure size 720x720 with 0 Axes>"
      ]
     },
     "metadata": {},
     "output_type": "display_data"
    },
    {
     "data": {
      "text/plain": [
       "<Figure size 720x720 with 0 Axes>"
      ]
     },
     "metadata": {},
     "output_type": "display_data"
    },
    {
     "data": {
      "text/plain": [
       "<Figure size 720x720 with 0 Axes>"
      ]
     },
     "metadata": {},
     "output_type": "display_data"
    },
    {
     "data": {
      "text/plain": [
       "<Figure size 720x720 with 0 Axes>"
      ]
     },
     "metadata": {},
     "output_type": "display_data"
    },
    {
     "data": {
      "text/plain": [
       "<Figure size 720x720 with 0 Axes>"
      ]
     },
     "metadata": {},
     "output_type": "display_data"
    },
    {
     "data": {
      "text/plain": [
       "<Figure size 720x720 with 0 Axes>"
      ]
     },
     "metadata": {},
     "output_type": "display_data"
    },
    {
     "data": {
      "text/plain": [
       "<Figure size 720x720 with 0 Axes>"
      ]
     },
     "metadata": {},
     "output_type": "display_data"
    },
    {
     "data": {
      "text/plain": [
       "<Figure size 720x720 with 0 Axes>"
      ]
     },
     "metadata": {},
     "output_type": "display_data"
    },
    {
     "data": {
      "text/plain": [
       "<Figure size 720x720 with 0 Axes>"
      ]
     },
     "metadata": {},
     "output_type": "display_data"
    },
    {
     "data": {
      "text/plain": [
       "<Figure size 720x720 with 0 Axes>"
      ]
     },
     "metadata": {},
     "output_type": "display_data"
    },
    {
     "data": {
      "text/plain": [
       "<Figure size 720x720 with 0 Axes>"
      ]
     },
     "metadata": {},
     "output_type": "display_data"
    },
    {
     "data": {
      "text/plain": [
       "<Figure size 720x720 with 0 Axes>"
      ]
     },
     "metadata": {},
     "output_type": "display_data"
    },
    {
     "data": {
      "text/plain": [
       "<Figure size 720x720 with 0 Axes>"
      ]
     },
     "metadata": {},
     "output_type": "display_data"
    },
    {
     "data": {
      "text/plain": [
       "<Figure size 720x720 with 0 Axes>"
      ]
     },
     "metadata": {},
     "output_type": "display_data"
    },
    {
     "data": {
      "text/plain": [
       "<Figure size 720x720 with 0 Axes>"
      ]
     },
     "metadata": {},
     "output_type": "display_data"
    },
    {
     "data": {
      "text/plain": [
       "<Figure size 720x720 with 0 Axes>"
      ]
     },
     "metadata": {},
     "output_type": "display_data"
    },
    {
     "data": {
      "text/plain": [
       "<Figure size 720x720 with 0 Axes>"
      ]
     },
     "metadata": {},
     "output_type": "display_data"
    },
    {
     "data": {
      "text/plain": [
       "<Figure size 720x720 with 0 Axes>"
      ]
     },
     "metadata": {},
     "output_type": "display_data"
    },
    {
     "data": {
      "text/plain": [
       "<Figure size 720x720 with 0 Axes>"
      ]
     },
     "metadata": {},
     "output_type": "display_data"
    },
    {
     "data": {
      "text/plain": [
       "<Figure size 720x720 with 0 Axes>"
      ]
     },
     "metadata": {},
     "output_type": "display_data"
    },
    {
     "data": {
      "text/plain": [
       "<Figure size 720x720 with 0 Axes>"
      ]
     },
     "metadata": {},
     "output_type": "display_data"
    },
    {
     "data": {
      "text/plain": [
       "<Figure size 720x720 with 0 Axes>"
      ]
     },
     "metadata": {},
     "output_type": "display_data"
    },
    {
     "data": {
      "text/plain": [
       "<Figure size 720x720 with 0 Axes>"
      ]
     },
     "metadata": {},
     "output_type": "display_data"
    },
    {
     "data": {
      "text/plain": [
       "<Figure size 720x720 with 0 Axes>"
      ]
     },
     "metadata": {},
     "output_type": "display_data"
    },
    {
     "data": {
      "text/plain": [
       "<Figure size 720x720 with 0 Axes>"
      ]
     },
     "metadata": {},
     "output_type": "display_data"
    },
    {
     "data": {
      "text/plain": [
       "<Figure size 720x720 with 0 Axes>"
      ]
     },
     "metadata": {},
     "output_type": "display_data"
    },
    {
     "data": {
      "text/plain": [
       "<Figure size 720x720 with 0 Axes>"
      ]
     },
     "metadata": {},
     "output_type": "display_data"
    },
    {
     "data": {
      "text/plain": [
       "<Figure size 720x720 with 0 Axes>"
      ]
     },
     "metadata": {},
     "output_type": "display_data"
    },
    {
     "data": {
      "text/plain": [
       "<Figure size 720x720 with 0 Axes>"
      ]
     },
     "metadata": {},
     "output_type": "display_data"
    },
    {
     "data": {
      "text/plain": [
       "<Figure size 720x720 with 0 Axes>"
      ]
     },
     "metadata": {},
     "output_type": "display_data"
    },
    {
     "data": {
      "text/plain": [
       "<Figure size 720x720 with 0 Axes>"
      ]
     },
     "metadata": {},
     "output_type": "display_data"
    },
    {
     "data": {
      "text/plain": [
       "<Figure size 720x720 with 0 Axes>"
      ]
     },
     "metadata": {},
     "output_type": "display_data"
    },
    {
     "data": {
      "text/plain": [
       "<Figure size 720x720 with 0 Axes>"
      ]
     },
     "metadata": {},
     "output_type": "display_data"
    },
    {
     "data": {
      "text/plain": [
       "<Figure size 720x720 with 0 Axes>"
      ]
     },
     "metadata": {},
     "output_type": "display_data"
    },
    {
     "data": {
      "text/plain": [
       "<Figure size 720x720 with 0 Axes>"
      ]
     },
     "metadata": {},
     "output_type": "display_data"
    },
    {
     "data": {
      "text/plain": [
       "<Figure size 720x720 with 0 Axes>"
      ]
     },
     "metadata": {},
     "output_type": "display_data"
    },
    {
     "data": {
      "text/plain": [
       "<Figure size 720x720 with 0 Axes>"
      ]
     },
     "metadata": {},
     "output_type": "display_data"
    },
    {
     "data": {
      "text/plain": [
       "<Figure size 720x720 with 0 Axes>"
      ]
     },
     "metadata": {},
     "output_type": "display_data"
    },
    {
     "data": {
      "text/plain": [
       "<Figure size 720x720 with 0 Axes>"
      ]
     },
     "metadata": {},
     "output_type": "display_data"
    },
    {
     "data": {
      "text/plain": [
       "<Figure size 720x720 with 0 Axes>"
      ]
     },
     "metadata": {},
     "output_type": "display_data"
    },
    {
     "data": {
      "text/plain": [
       "<Figure size 720x720 with 0 Axes>"
      ]
     },
     "metadata": {},
     "output_type": "display_data"
    },
    {
     "data": {
      "text/plain": [
       "<Figure size 720x720 with 0 Axes>"
      ]
     },
     "metadata": {},
     "output_type": "display_data"
    },
    {
     "data": {
      "text/plain": [
       "<Figure size 720x720 with 0 Axes>"
      ]
     },
     "metadata": {},
     "output_type": "display_data"
    },
    {
     "data": {
      "text/plain": [
       "<Figure size 720x720 with 0 Axes>"
      ]
     },
     "metadata": {},
     "output_type": "display_data"
    },
    {
     "data": {
      "text/plain": [
       "<Figure size 720x720 with 0 Axes>"
      ]
     },
     "metadata": {},
     "output_type": "display_data"
    },
    {
     "data": {
      "text/plain": [
       "<Figure size 720x720 with 0 Axes>"
      ]
     },
     "metadata": {},
     "output_type": "display_data"
    },
    {
     "data": {
      "text/plain": [
       "<Figure size 720x720 with 0 Axes>"
      ]
     },
     "metadata": {},
     "output_type": "display_data"
    },
    {
     "data": {
      "text/plain": [
       "<Figure size 720x720 with 0 Axes>"
      ]
     },
     "metadata": {},
     "output_type": "display_data"
    },
    {
     "data": {
      "text/plain": [
       "<Figure size 720x720 with 0 Axes>"
      ]
     },
     "metadata": {},
     "output_type": "display_data"
    },
    {
     "data": {
      "text/plain": [
       "<Figure size 720x720 with 0 Axes>"
      ]
     },
     "metadata": {},
     "output_type": "display_data"
    },
    {
     "data": {
      "text/plain": [
       "<Figure size 720x720 with 0 Axes>"
      ]
     },
     "metadata": {},
     "output_type": "display_data"
    },
    {
     "data": {
      "text/plain": [
       "<Figure size 720x720 with 0 Axes>"
      ]
     },
     "metadata": {},
     "output_type": "display_data"
    },
    {
     "data": {
      "text/plain": [
       "<Figure size 720x720 with 0 Axes>"
      ]
     },
     "metadata": {},
     "output_type": "display_data"
    },
    {
     "data": {
      "text/plain": [
       "<Figure size 720x720 with 0 Axes>"
      ]
     },
     "metadata": {},
     "output_type": "display_data"
    },
    {
     "data": {
      "text/plain": [
       "<Figure size 720x720 with 0 Axes>"
      ]
     },
     "metadata": {},
     "output_type": "display_data"
    },
    {
     "data": {
      "text/plain": [
       "<Figure size 720x720 with 0 Axes>"
      ]
     },
     "metadata": {},
     "output_type": "display_data"
    },
    {
     "data": {
      "text/plain": [
       "<Figure size 720x720 with 0 Axes>"
      ]
     },
     "metadata": {},
     "output_type": "display_data"
    },
    {
     "data": {
      "text/plain": [
       "<Figure size 720x720 with 0 Axes>"
      ]
     },
     "metadata": {},
     "output_type": "display_data"
    },
    {
     "data": {
      "text/plain": [
       "<Figure size 720x720 with 0 Axes>"
      ]
     },
     "metadata": {},
     "output_type": "display_data"
    },
    {
     "data": {
      "text/plain": [
       "<Figure size 720x720 with 0 Axes>"
      ]
     },
     "metadata": {},
     "output_type": "display_data"
    },
    {
     "data": {
      "text/plain": [
       "<Figure size 720x720 with 0 Axes>"
      ]
     },
     "metadata": {},
     "output_type": "display_data"
    },
    {
     "data": {
      "text/plain": [
       "<Figure size 720x720 with 0 Axes>"
      ]
     },
     "metadata": {},
     "output_type": "display_data"
    },
    {
     "data": {
      "text/plain": [
       "<Figure size 720x720 with 0 Axes>"
      ]
     },
     "metadata": {},
     "output_type": "display_data"
    },
    {
     "data": {
      "text/plain": [
       "<Figure size 720x720 with 0 Axes>"
      ]
     },
     "metadata": {},
     "output_type": "display_data"
    },
    {
     "data": {
      "text/plain": [
       "<Figure size 720x720 with 0 Axes>"
      ]
     },
     "metadata": {},
     "output_type": "display_data"
    },
    {
     "data": {
      "text/plain": [
       "<Figure size 720x720 with 0 Axes>"
      ]
     },
     "metadata": {},
     "output_type": "display_data"
    },
    {
     "data": {
      "text/plain": [
       "<Figure size 720x720 with 0 Axes>"
      ]
     },
     "metadata": {},
     "output_type": "display_data"
    },
    {
     "data": {
      "text/plain": [
       "<Figure size 720x720 with 0 Axes>"
      ]
     },
     "metadata": {},
     "output_type": "display_data"
    },
    {
     "data": {
      "text/plain": [
       "<Figure size 720x720 with 0 Axes>"
      ]
     },
     "metadata": {},
     "output_type": "display_data"
    },
    {
     "data": {
      "text/plain": [
       "<Figure size 720x720 with 0 Axes>"
      ]
     },
     "metadata": {},
     "output_type": "display_data"
    },
    {
     "data": {
      "text/plain": [
       "<Figure size 720x720 with 0 Axes>"
      ]
     },
     "metadata": {},
     "output_type": "display_data"
    },
    {
     "data": {
      "text/plain": [
       "<Figure size 720x720 with 0 Axes>"
      ]
     },
     "metadata": {},
     "output_type": "display_data"
    },
    {
     "data": {
      "text/plain": [
       "<Figure size 720x720 with 0 Axes>"
      ]
     },
     "metadata": {},
     "output_type": "display_data"
    },
    {
     "data": {
      "text/plain": [
       "<Figure size 720x720 with 0 Axes>"
      ]
     },
     "metadata": {},
     "output_type": "display_data"
    },
    {
     "data": {
      "text/plain": [
       "<Figure size 720x720 with 0 Axes>"
      ]
     },
     "metadata": {},
     "output_type": "display_data"
    },
    {
     "data": {
      "text/plain": [
       "<Figure size 720x720 with 0 Axes>"
      ]
     },
     "metadata": {},
     "output_type": "display_data"
    },
    {
     "data": {
      "text/plain": [
       "<Figure size 720x720 with 0 Axes>"
      ]
     },
     "metadata": {},
     "output_type": "display_data"
    },
    {
     "data": {
      "text/plain": [
       "<Figure size 720x720 with 0 Axes>"
      ]
     },
     "metadata": {},
     "output_type": "display_data"
    },
    {
     "data": {
      "text/plain": [
       "<Figure size 720x720 with 0 Axes>"
      ]
     },
     "metadata": {},
     "output_type": "display_data"
    },
    {
     "data": {
      "text/plain": [
       "<Figure size 720x720 with 0 Axes>"
      ]
     },
     "metadata": {},
     "output_type": "display_data"
    },
    {
     "data": {
      "text/plain": [
       "<Figure size 720x720 with 0 Axes>"
      ]
     },
     "metadata": {},
     "output_type": "display_data"
    },
    {
     "data": {
      "text/plain": [
       "<Figure size 720x720 with 0 Axes>"
      ]
     },
     "metadata": {},
     "output_type": "display_data"
    },
    {
     "data": {
      "text/plain": [
       "<Figure size 720x720 with 0 Axes>"
      ]
     },
     "metadata": {},
     "output_type": "display_data"
    },
    {
     "data": {
      "text/plain": [
       "<Figure size 720x720 with 0 Axes>"
      ]
     },
     "metadata": {},
     "output_type": "display_data"
    },
    {
     "data": {
      "text/plain": [
       "<Figure size 720x720 with 0 Axes>"
      ]
     },
     "metadata": {},
     "output_type": "display_data"
    },
    {
     "data": {
      "text/plain": [
       "<Figure size 720x720 with 0 Axes>"
      ]
     },
     "metadata": {},
     "output_type": "display_data"
    },
    {
     "data": {
      "text/plain": [
       "<Figure size 720x720 with 0 Axes>"
      ]
     },
     "metadata": {},
     "output_type": "display_data"
    },
    {
     "data": {
      "text/plain": [
       "<Figure size 720x720 with 0 Axes>"
      ]
     },
     "metadata": {},
     "output_type": "display_data"
    },
    {
     "data": {
      "text/plain": [
       "<Figure size 720x720 with 0 Axes>"
      ]
     },
     "metadata": {},
     "output_type": "display_data"
    },
    {
     "data": {
      "text/plain": [
       "<Figure size 720x720 with 0 Axes>"
      ]
     },
     "metadata": {},
     "output_type": "display_data"
    },
    {
     "data": {
      "text/plain": [
       "<Figure size 720x720 with 0 Axes>"
      ]
     },
     "metadata": {},
     "output_type": "display_data"
    },
    {
     "data": {
      "text/plain": [
       "<Figure size 720x720 with 0 Axes>"
      ]
     },
     "metadata": {},
     "output_type": "display_data"
    },
    {
     "data": {
      "text/plain": [
       "<Figure size 720x720 with 0 Axes>"
      ]
     },
     "metadata": {},
     "output_type": "display_data"
    },
    {
     "data": {
      "text/plain": [
       "<Figure size 720x720 with 0 Axes>"
      ]
     },
     "metadata": {},
     "output_type": "display_data"
    },
    {
     "data": {
      "text/plain": [
       "<Figure size 720x720 with 0 Axes>"
      ]
     },
     "metadata": {},
     "output_type": "display_data"
    },
    {
     "data": {
      "text/plain": [
       "<Figure size 720x720 with 0 Axes>"
      ]
     },
     "metadata": {},
     "output_type": "display_data"
    },
    {
     "data": {
      "text/plain": [
       "<Figure size 720x720 with 0 Axes>"
      ]
     },
     "metadata": {},
     "output_type": "display_data"
    },
    {
     "data": {
      "text/plain": [
       "<Figure size 720x720 with 0 Axes>"
      ]
     },
     "metadata": {},
     "output_type": "display_data"
    },
    {
     "data": {
      "text/plain": [
       "<Figure size 720x720 with 0 Axes>"
      ]
     },
     "metadata": {},
     "output_type": "display_data"
    },
    {
     "data": {
      "text/plain": [
       "<Figure size 720x720 with 0 Axes>"
      ]
     },
     "metadata": {},
     "output_type": "display_data"
    },
    {
     "data": {
      "text/plain": [
       "<Figure size 720x720 with 0 Axes>"
      ]
     },
     "metadata": {},
     "output_type": "display_data"
    },
    {
     "data": {
      "text/plain": [
       "<Figure size 720x720 with 0 Axes>"
      ]
     },
     "metadata": {},
     "output_type": "display_data"
    },
    {
     "data": {
      "text/plain": [
       "<Figure size 720x720 with 0 Axes>"
      ]
     },
     "metadata": {},
     "output_type": "display_data"
    },
    {
     "data": {
      "text/plain": [
       "<Figure size 720x720 with 0 Axes>"
      ]
     },
     "metadata": {},
     "output_type": "display_data"
    },
    {
     "data": {
      "text/plain": [
       "<Figure size 720x720 with 0 Axes>"
      ]
     },
     "metadata": {},
     "output_type": "display_data"
    },
    {
     "data": {
      "text/plain": [
       "<Figure size 720x720 with 0 Axes>"
      ]
     },
     "metadata": {},
     "output_type": "display_data"
    },
    {
     "data": {
      "text/plain": [
       "<Figure size 720x720 with 0 Axes>"
      ]
     },
     "metadata": {},
     "output_type": "display_data"
    },
    {
     "data": {
      "text/plain": [
       "<Figure size 720x720 with 0 Axes>"
      ]
     },
     "metadata": {},
     "output_type": "display_data"
    },
    {
     "data": {
      "text/plain": [
       "<Figure size 720x720 with 0 Axes>"
      ]
     },
     "metadata": {},
     "output_type": "display_data"
    },
    {
     "data": {
      "text/plain": [
       "<Figure size 720x720 with 0 Axes>"
      ]
     },
     "metadata": {},
     "output_type": "display_data"
    },
    {
     "data": {
      "text/plain": [
       "<Figure size 720x720 with 0 Axes>"
      ]
     },
     "metadata": {},
     "output_type": "display_data"
    },
    {
     "data": {
      "text/plain": [
       "<Figure size 720x720 with 0 Axes>"
      ]
     },
     "metadata": {},
     "output_type": "display_data"
    },
    {
     "data": {
      "text/plain": [
       "<Figure size 720x720 with 0 Axes>"
      ]
     },
     "metadata": {},
     "output_type": "display_data"
    },
    {
     "data": {
      "text/plain": [
       "<Figure size 720x720 with 0 Axes>"
      ]
     },
     "metadata": {},
     "output_type": "display_data"
    },
    {
     "data": {
      "text/plain": [
       "<Figure size 720x720 with 0 Axes>"
      ]
     },
     "metadata": {},
     "output_type": "display_data"
    },
    {
     "data": {
      "text/plain": [
       "<Figure size 720x720 with 0 Axes>"
      ]
     },
     "metadata": {},
     "output_type": "display_data"
    },
    {
     "data": {
      "text/plain": [
       "<Figure size 720x720 with 0 Axes>"
      ]
     },
     "metadata": {},
     "output_type": "display_data"
    },
    {
     "data": {
      "text/plain": [
       "<Figure size 720x720 with 0 Axes>"
      ]
     },
     "metadata": {},
     "output_type": "display_data"
    },
    {
     "data": {
      "text/plain": [
       "<Figure size 720x720 with 0 Axes>"
      ]
     },
     "metadata": {},
     "output_type": "display_data"
    },
    {
     "data": {
      "text/plain": [
       "<Figure size 720x720 with 0 Axes>"
      ]
     },
     "metadata": {},
     "output_type": "display_data"
    },
    {
     "data": {
      "text/plain": [
       "<Figure size 720x720 with 0 Axes>"
      ]
     },
     "metadata": {},
     "output_type": "display_data"
    },
    {
     "data": {
      "text/plain": [
       "<Figure size 720x720 with 0 Axes>"
      ]
     },
     "metadata": {},
     "output_type": "display_data"
    },
    {
     "data": {
      "text/plain": [
       "<Figure size 720x720 with 0 Axes>"
      ]
     },
     "metadata": {},
     "output_type": "display_data"
    },
    {
     "data": {
      "text/plain": [
       "<Figure size 720x720 with 0 Axes>"
      ]
     },
     "metadata": {},
     "output_type": "display_data"
    },
    {
     "data": {
      "text/plain": [
       "<Figure size 720x720 with 0 Axes>"
      ]
     },
     "metadata": {},
     "output_type": "display_data"
    },
    {
     "data": {
      "text/plain": [
       "<Figure size 720x720 with 0 Axes>"
      ]
     },
     "metadata": {},
     "output_type": "display_data"
    },
    {
     "data": {
      "text/plain": [
       "<Figure size 720x720 with 0 Axes>"
      ]
     },
     "metadata": {},
     "output_type": "display_data"
    },
    {
     "data": {
      "text/plain": [
       "<Figure size 720x720 with 0 Axes>"
      ]
     },
     "metadata": {},
     "output_type": "display_data"
    },
    {
     "data": {
      "text/plain": [
       "<Figure size 720x720 with 0 Axes>"
      ]
     },
     "metadata": {},
     "output_type": "display_data"
    },
    {
     "data": {
      "text/plain": [
       "<Figure size 720x720 with 0 Axes>"
      ]
     },
     "metadata": {},
     "output_type": "display_data"
    },
    {
     "data": {
      "text/plain": [
       "<Figure size 720x720 with 0 Axes>"
      ]
     },
     "metadata": {},
     "output_type": "display_data"
    },
    {
     "data": {
      "text/plain": [
       "<Figure size 720x720 with 0 Axes>"
      ]
     },
     "metadata": {},
     "output_type": "display_data"
    },
    {
     "data": {
      "text/plain": [
       "<Figure size 720x720 with 0 Axes>"
      ]
     },
     "metadata": {},
     "output_type": "display_data"
    },
    {
     "data": {
      "text/plain": [
       "<Figure size 720x720 with 0 Axes>"
      ]
     },
     "metadata": {},
     "output_type": "display_data"
    },
    {
     "data": {
      "text/plain": [
       "<Figure size 720x720 with 0 Axes>"
      ]
     },
     "metadata": {},
     "output_type": "display_data"
    },
    {
     "data": {
      "text/plain": [
       "<Figure size 720x720 with 0 Axes>"
      ]
     },
     "metadata": {},
     "output_type": "display_data"
    },
    {
     "data": {
      "text/plain": [
       "<Figure size 720x720 with 0 Axes>"
      ]
     },
     "metadata": {},
     "output_type": "display_data"
    },
    {
     "data": {
      "text/plain": [
       "<Figure size 720x720 with 0 Axes>"
      ]
     },
     "metadata": {},
     "output_type": "display_data"
    },
    {
     "data": {
      "text/plain": [
       "<Figure size 720x720 with 0 Axes>"
      ]
     },
     "metadata": {},
     "output_type": "display_data"
    },
    {
     "data": {
      "text/plain": [
       "<Figure size 720x720 with 0 Axes>"
      ]
     },
     "metadata": {},
     "output_type": "display_data"
    },
    {
     "data": {
      "text/plain": [
       "<Figure size 720x720 with 0 Axes>"
      ]
     },
     "metadata": {},
     "output_type": "display_data"
    },
    {
     "data": {
      "text/plain": [
       "<Figure size 720x720 with 0 Axes>"
      ]
     },
     "metadata": {},
     "output_type": "display_data"
    },
    {
     "data": {
      "text/plain": [
       "<Figure size 720x720 with 0 Axes>"
      ]
     },
     "metadata": {},
     "output_type": "display_data"
    },
    {
     "data": {
      "text/plain": [
       "<Figure size 720x720 with 0 Axes>"
      ]
     },
     "metadata": {},
     "output_type": "display_data"
    },
    {
     "data": {
      "text/plain": [
       "<Figure size 720x720 with 0 Axes>"
      ]
     },
     "metadata": {},
     "output_type": "display_data"
    },
    {
     "data": {
      "text/plain": [
       "<Figure size 720x720 with 0 Axes>"
      ]
     },
     "metadata": {},
     "output_type": "display_data"
    },
    {
     "data": {
      "text/plain": [
       "<Figure size 720x720 with 0 Axes>"
      ]
     },
     "metadata": {},
     "output_type": "display_data"
    },
    {
     "data": {
      "text/plain": [
       "<Figure size 720x720 with 0 Axes>"
      ]
     },
     "metadata": {},
     "output_type": "display_data"
    },
    {
     "data": {
      "text/plain": [
       "<Figure size 720x720 with 0 Axes>"
      ]
     },
     "metadata": {},
     "output_type": "display_data"
    },
    {
     "data": {
      "text/plain": [
       "<Figure size 720x720 with 0 Axes>"
      ]
     },
     "metadata": {},
     "output_type": "display_data"
    },
    {
     "data": {
      "text/plain": [
       "<Figure size 720x720 with 0 Axes>"
      ]
     },
     "metadata": {},
     "output_type": "display_data"
    },
    {
     "data": {
      "text/plain": [
       "<Figure size 720x720 with 0 Axes>"
      ]
     },
     "metadata": {},
     "output_type": "display_data"
    },
    {
     "data": {
      "text/plain": [
       "<Figure size 720x720 with 0 Axes>"
      ]
     },
     "metadata": {},
     "output_type": "display_data"
    },
    {
     "data": {
      "text/plain": [
       "<Figure size 720x720 with 0 Axes>"
      ]
     },
     "metadata": {},
     "output_type": "display_data"
    },
    {
     "data": {
      "text/plain": [
       "<Figure size 720x720 with 0 Axes>"
      ]
     },
     "metadata": {},
     "output_type": "display_data"
    },
    {
     "data": {
      "text/plain": [
       "<Figure size 720x720 with 0 Axes>"
      ]
     },
     "metadata": {},
     "output_type": "display_data"
    },
    {
     "data": {
      "text/plain": [
       "<Figure size 720x720 with 0 Axes>"
      ]
     },
     "metadata": {},
     "output_type": "display_data"
    },
    {
     "data": {
      "text/plain": [
       "<Figure size 720x720 with 0 Axes>"
      ]
     },
     "metadata": {},
     "output_type": "display_data"
    },
    {
     "data": {
      "text/plain": [
       "<Figure size 720x720 with 0 Axes>"
      ]
     },
     "metadata": {},
     "output_type": "display_data"
    },
    {
     "data": {
      "text/plain": [
       "<Figure size 720x720 with 0 Axes>"
      ]
     },
     "metadata": {},
     "output_type": "display_data"
    },
    {
     "data": {
      "text/plain": [
       "<Figure size 720x720 with 0 Axes>"
      ]
     },
     "metadata": {},
     "output_type": "display_data"
    },
    {
     "data": {
      "text/plain": [
       "<Figure size 720x720 with 0 Axes>"
      ]
     },
     "metadata": {},
     "output_type": "display_data"
    },
    {
     "data": {
      "text/plain": [
       "<Figure size 720x720 with 0 Axes>"
      ]
     },
     "metadata": {},
     "output_type": "display_data"
    },
    {
     "data": {
      "text/plain": [
       "<Figure size 720x720 with 0 Axes>"
      ]
     },
     "metadata": {},
     "output_type": "display_data"
    },
    {
     "data": {
      "text/plain": [
       "<Figure size 720x720 with 0 Axes>"
      ]
     },
     "metadata": {},
     "output_type": "display_data"
    },
    {
     "data": {
      "text/plain": [
       "<Figure size 720x720 with 0 Axes>"
      ]
     },
     "metadata": {},
     "output_type": "display_data"
    },
    {
     "data": {
      "text/plain": [
       "<Figure size 720x720 with 0 Axes>"
      ]
     },
     "metadata": {},
     "output_type": "display_data"
    },
    {
     "data": {
      "text/plain": [
       "<Figure size 720x720 with 0 Axes>"
      ]
     },
     "metadata": {},
     "output_type": "display_data"
    },
    {
     "data": {
      "text/plain": [
       "<Figure size 720x720 with 0 Axes>"
      ]
     },
     "metadata": {},
     "output_type": "display_data"
    },
    {
     "data": {
      "text/plain": [
       "<Figure size 720x720 with 0 Axes>"
      ]
     },
     "metadata": {},
     "output_type": "display_data"
    },
    {
     "data": {
      "text/plain": [
       "<Figure size 720x720 with 0 Axes>"
      ]
     },
     "metadata": {},
     "output_type": "display_data"
    },
    {
     "data": {
      "text/plain": [
       "<Figure size 720x720 with 0 Axes>"
      ]
     },
     "metadata": {},
     "output_type": "display_data"
    },
    {
     "data": {
      "text/plain": [
       "<Figure size 720x720 with 0 Axes>"
      ]
     },
     "metadata": {},
     "output_type": "display_data"
    },
    {
     "data": {
      "text/plain": [
       "<Figure size 720x720 with 0 Axes>"
      ]
     },
     "metadata": {},
     "output_type": "display_data"
    },
    {
     "data": {
      "text/plain": [
       "<Figure size 720x720 with 0 Axes>"
      ]
     },
     "metadata": {},
     "output_type": "display_data"
    },
    {
     "data": {
      "text/plain": [
       "<Figure size 720x720 with 0 Axes>"
      ]
     },
     "metadata": {},
     "output_type": "display_data"
    },
    {
     "data": {
      "text/plain": [
       "<Figure size 720x720 with 0 Axes>"
      ]
     },
     "metadata": {},
     "output_type": "display_data"
    },
    {
     "data": {
      "text/plain": [
       "<Figure size 720x720 with 0 Axes>"
      ]
     },
     "metadata": {},
     "output_type": "display_data"
    },
    {
     "data": {
      "text/plain": [
       "<Figure size 720x720 with 0 Axes>"
      ]
     },
     "metadata": {},
     "output_type": "display_data"
    },
    {
     "data": {
      "text/plain": [
       "<Figure size 720x720 with 0 Axes>"
      ]
     },
     "metadata": {},
     "output_type": "display_data"
    },
    {
     "data": {
      "text/plain": [
       "<Figure size 720x720 with 0 Axes>"
      ]
     },
     "metadata": {},
     "output_type": "display_data"
    },
    {
     "data": {
      "text/plain": [
       "<Figure size 720x720 with 0 Axes>"
      ]
     },
     "metadata": {},
     "output_type": "display_data"
    },
    {
     "data": {
      "text/plain": [
       "<Figure size 720x720 with 0 Axes>"
      ]
     },
     "metadata": {},
     "output_type": "display_data"
    },
    {
     "data": {
      "text/plain": [
       "<Figure size 720x720 with 0 Axes>"
      ]
     },
     "metadata": {},
     "output_type": "display_data"
    },
    {
     "data": {
      "text/plain": [
       "<Figure size 720x720 with 0 Axes>"
      ]
     },
     "metadata": {},
     "output_type": "display_data"
    },
    {
     "data": {
      "text/plain": [
       "<Figure size 720x720 with 0 Axes>"
      ]
     },
     "metadata": {},
     "output_type": "display_data"
    },
    {
     "data": {
      "text/plain": [
       "<Figure size 720x720 with 0 Axes>"
      ]
     },
     "metadata": {},
     "output_type": "display_data"
    },
    {
     "data": {
      "text/plain": [
       "<Figure size 720x720 with 0 Axes>"
      ]
     },
     "metadata": {},
     "output_type": "display_data"
    },
    {
     "data": {
      "text/plain": [
       "<Figure size 720x720 with 0 Axes>"
      ]
     },
     "metadata": {},
     "output_type": "display_data"
    },
    {
     "data": {
      "text/plain": [
       "<Figure size 720x720 with 0 Axes>"
      ]
     },
     "metadata": {},
     "output_type": "display_data"
    },
    {
     "data": {
      "text/plain": [
       "<Figure size 720x720 with 0 Axes>"
      ]
     },
     "metadata": {},
     "output_type": "display_data"
    },
    {
     "data": {
      "text/plain": [
       "<Figure size 720x720 with 0 Axes>"
      ]
     },
     "metadata": {},
     "output_type": "display_data"
    },
    {
     "data": {
      "text/plain": [
       "<Figure size 720x720 with 0 Axes>"
      ]
     },
     "metadata": {},
     "output_type": "display_data"
    },
    {
     "data": {
      "text/plain": [
       "<Figure size 720x720 with 0 Axes>"
      ]
     },
     "metadata": {},
     "output_type": "display_data"
    },
    {
     "data": {
      "text/plain": [
       "<Figure size 720x720 with 0 Axes>"
      ]
     },
     "metadata": {},
     "output_type": "display_data"
    },
    {
     "data": {
      "text/plain": [
       "<Figure size 720x720 with 0 Axes>"
      ]
     },
     "metadata": {},
     "output_type": "display_data"
    },
    {
     "data": {
      "text/plain": [
       "<Figure size 720x720 with 0 Axes>"
      ]
     },
     "metadata": {},
     "output_type": "display_data"
    },
    {
     "data": {
      "text/plain": [
       "<Figure size 720x720 with 0 Axes>"
      ]
     },
     "metadata": {},
     "output_type": "display_data"
    },
    {
     "data": {
      "text/plain": [
       "<Figure size 720x720 with 0 Axes>"
      ]
     },
     "metadata": {},
     "output_type": "display_data"
    },
    {
     "data": {
      "text/plain": [
       "<Figure size 720x720 with 0 Axes>"
      ]
     },
     "metadata": {},
     "output_type": "display_data"
    },
    {
     "data": {
      "text/plain": [
       "<Figure size 720x720 with 0 Axes>"
      ]
     },
     "metadata": {},
     "output_type": "display_data"
    },
    {
     "data": {
      "text/plain": [
       "<Figure size 720x720 with 0 Axes>"
      ]
     },
     "metadata": {},
     "output_type": "display_data"
    },
    {
     "data": {
      "text/plain": [
       "<Figure size 720x720 with 0 Axes>"
      ]
     },
     "metadata": {},
     "output_type": "display_data"
    },
    {
     "data": {
      "text/plain": [
       "<Figure size 720x720 with 0 Axes>"
      ]
     },
     "metadata": {},
     "output_type": "display_data"
    },
    {
     "data": {
      "text/plain": [
       "<Figure size 720x720 with 0 Axes>"
      ]
     },
     "metadata": {},
     "output_type": "display_data"
    },
    {
     "data": {
      "text/plain": [
       "<Figure size 720x720 with 0 Axes>"
      ]
     },
     "metadata": {},
     "output_type": "display_data"
    },
    {
     "data": {
      "text/plain": [
       "<Figure size 720x720 with 0 Axes>"
      ]
     },
     "metadata": {},
     "output_type": "display_data"
    },
    {
     "data": {
      "text/plain": [
       "<Figure size 720x720 with 0 Axes>"
      ]
     },
     "metadata": {},
     "output_type": "display_data"
    },
    {
     "data": {
      "text/plain": [
       "<Figure size 720x720 with 0 Axes>"
      ]
     },
     "metadata": {},
     "output_type": "display_data"
    },
    {
     "data": {
      "text/plain": [
       "<Figure size 720x720 with 0 Axes>"
      ]
     },
     "metadata": {},
     "output_type": "display_data"
    },
    {
     "data": {
      "text/plain": [
       "<Figure size 720x720 with 0 Axes>"
      ]
     },
     "metadata": {},
     "output_type": "display_data"
    },
    {
     "data": {
      "text/plain": [
       "<Figure size 720x720 with 0 Axes>"
      ]
     },
     "metadata": {},
     "output_type": "display_data"
    },
    {
     "data": {
      "text/plain": [
       "<Figure size 720x720 with 0 Axes>"
      ]
     },
     "metadata": {},
     "output_type": "display_data"
    },
    {
     "data": {
      "text/plain": [
       "<Figure size 720x720 with 0 Axes>"
      ]
     },
     "metadata": {},
     "output_type": "display_data"
    },
    {
     "data": {
      "text/plain": [
       "<Figure size 720x720 with 0 Axes>"
      ]
     },
     "metadata": {},
     "output_type": "display_data"
    },
    {
     "data": {
      "text/plain": [
       "<Figure size 720x720 with 0 Axes>"
      ]
     },
     "metadata": {},
     "output_type": "display_data"
    },
    {
     "data": {
      "text/plain": [
       "<Figure size 720x720 with 0 Axes>"
      ]
     },
     "metadata": {},
     "output_type": "display_data"
    },
    {
     "data": {
      "text/plain": [
       "<Figure size 720x720 with 0 Axes>"
      ]
     },
     "metadata": {},
     "output_type": "display_data"
    },
    {
     "data": {
      "text/plain": [
       "<Figure size 720x720 with 0 Axes>"
      ]
     },
     "metadata": {},
     "output_type": "display_data"
    },
    {
     "data": {
      "text/plain": [
       "<Figure size 720x720 with 0 Axes>"
      ]
     },
     "metadata": {},
     "output_type": "display_data"
    },
    {
     "data": {
      "text/plain": [
       "<Figure size 720x720 with 0 Axes>"
      ]
     },
     "metadata": {},
     "output_type": "display_data"
    },
    {
     "data": {
      "text/plain": [
       "<Figure size 720x720 with 0 Axes>"
      ]
     },
     "metadata": {},
     "output_type": "display_data"
    },
    {
     "data": {
      "text/plain": [
       "<Figure size 720x720 with 0 Axes>"
      ]
     },
     "metadata": {},
     "output_type": "display_data"
    },
    {
     "data": {
      "text/plain": [
       "<Figure size 720x720 with 0 Axes>"
      ]
     },
     "metadata": {},
     "output_type": "display_data"
    },
    {
     "data": {
      "text/plain": [
       "<Figure size 720x720 with 0 Axes>"
      ]
     },
     "metadata": {},
     "output_type": "display_data"
    },
    {
     "data": {
      "text/plain": [
       "<Figure size 720x720 with 0 Axes>"
      ]
     },
     "metadata": {},
     "output_type": "display_data"
    },
    {
     "data": {
      "text/plain": [
       "<Figure size 720x720 with 0 Axes>"
      ]
     },
     "metadata": {},
     "output_type": "display_data"
    },
    {
     "data": {
      "text/plain": [
       "<Figure size 720x720 with 0 Axes>"
      ]
     },
     "metadata": {},
     "output_type": "display_data"
    },
    {
     "data": {
      "text/plain": [
       "<Figure size 720x720 with 0 Axes>"
      ]
     },
     "metadata": {},
     "output_type": "display_data"
    },
    {
     "data": {
      "text/plain": [
       "<Figure size 720x720 with 0 Axes>"
      ]
     },
     "metadata": {},
     "output_type": "display_data"
    },
    {
     "data": {
      "text/plain": [
       "<Figure size 720x720 with 0 Axes>"
      ]
     },
     "metadata": {},
     "output_type": "display_data"
    },
    {
     "data": {
      "text/plain": [
       "<Figure size 720x720 with 0 Axes>"
      ]
     },
     "metadata": {},
     "output_type": "display_data"
    },
    {
     "data": {
      "text/plain": [
       "<Figure size 720x720 with 0 Axes>"
      ]
     },
     "metadata": {},
     "output_type": "display_data"
    },
    {
     "data": {
      "text/plain": [
       "<Figure size 720x720 with 0 Axes>"
      ]
     },
     "metadata": {},
     "output_type": "display_data"
    },
    {
     "data": {
      "text/plain": [
       "<Figure size 720x720 with 0 Axes>"
      ]
     },
     "metadata": {},
     "output_type": "display_data"
    },
    {
     "data": {
      "text/plain": [
       "<Figure size 720x720 with 0 Axes>"
      ]
     },
     "metadata": {},
     "output_type": "display_data"
    },
    {
     "data": {
      "text/plain": [
       "<Figure size 720x720 with 0 Axes>"
      ]
     },
     "metadata": {},
     "output_type": "display_data"
    },
    {
     "data": {
      "text/plain": [
       "<Figure size 720x720 with 0 Axes>"
      ]
     },
     "metadata": {},
     "output_type": "display_data"
    },
    {
     "data": {
      "text/plain": [
       "<Figure size 720x720 with 0 Axes>"
      ]
     },
     "metadata": {},
     "output_type": "display_data"
    },
    {
     "data": {
      "text/plain": [
       "<Figure size 720x720 with 0 Axes>"
      ]
     },
     "metadata": {},
     "output_type": "display_data"
    },
    {
     "data": {
      "text/plain": [
       "<Figure size 720x720 with 0 Axes>"
      ]
     },
     "metadata": {},
     "output_type": "display_data"
    },
    {
     "data": {
      "text/plain": [
       "<Figure size 720x720 with 0 Axes>"
      ]
     },
     "metadata": {},
     "output_type": "display_data"
    },
    {
     "data": {
      "text/plain": [
       "<Figure size 720x720 with 0 Axes>"
      ]
     },
     "metadata": {},
     "output_type": "display_data"
    },
    {
     "data": {
      "text/plain": [
       "<Figure size 720x720 with 0 Axes>"
      ]
     },
     "metadata": {},
     "output_type": "display_data"
    },
    {
     "data": {
      "text/plain": [
       "<Figure size 720x720 with 0 Axes>"
      ]
     },
     "metadata": {},
     "output_type": "display_data"
    },
    {
     "data": {
      "text/plain": [
       "<Figure size 720x720 with 0 Axes>"
      ]
     },
     "metadata": {},
     "output_type": "display_data"
    },
    {
     "data": {
      "text/plain": [
       "<Figure size 720x720 with 0 Axes>"
      ]
     },
     "metadata": {},
     "output_type": "display_data"
    },
    {
     "data": {
      "text/plain": [
       "<Figure size 720x720 with 0 Axes>"
      ]
     },
     "metadata": {},
     "output_type": "display_data"
    },
    {
     "data": {
      "text/plain": [
       "<Figure size 720x720 with 0 Axes>"
      ]
     },
     "metadata": {},
     "output_type": "display_data"
    },
    {
     "data": {
      "text/plain": [
       "<Figure size 720x720 with 0 Axes>"
      ]
     },
     "metadata": {},
     "output_type": "display_data"
    },
    {
     "data": {
      "text/plain": [
       "<Figure size 720x720 with 0 Axes>"
      ]
     },
     "metadata": {},
     "output_type": "display_data"
    },
    {
     "data": {
      "text/plain": [
       "<Figure size 720x720 with 0 Axes>"
      ]
     },
     "metadata": {},
     "output_type": "display_data"
    },
    {
     "data": {
      "text/plain": [
       "<Figure size 720x720 with 0 Axes>"
      ]
     },
     "metadata": {},
     "output_type": "display_data"
    },
    {
     "data": {
      "text/plain": [
       "<Figure size 720x720 with 0 Axes>"
      ]
     },
     "metadata": {},
     "output_type": "display_data"
    },
    {
     "data": {
      "text/plain": [
       "<Figure size 720x720 with 0 Axes>"
      ]
     },
     "metadata": {},
     "output_type": "display_data"
    },
    {
     "data": {
      "text/plain": [
       "<Figure size 720x720 with 0 Axes>"
      ]
     },
     "metadata": {},
     "output_type": "display_data"
    },
    {
     "data": {
      "text/plain": [
       "<Figure size 720x720 with 0 Axes>"
      ]
     },
     "metadata": {},
     "output_type": "display_data"
    },
    {
     "data": {
      "text/plain": [
       "<Figure size 720x720 with 0 Axes>"
      ]
     },
     "metadata": {},
     "output_type": "display_data"
    },
    {
     "data": {
      "text/plain": [
       "<Figure size 720x720 with 0 Axes>"
      ]
     },
     "metadata": {},
     "output_type": "display_data"
    },
    {
     "data": {
      "text/plain": [
       "<Figure size 720x720 with 0 Axes>"
      ]
     },
     "metadata": {},
     "output_type": "display_data"
    },
    {
     "data": {
      "text/plain": [
       "<Figure size 720x720 with 0 Axes>"
      ]
     },
     "metadata": {},
     "output_type": "display_data"
    },
    {
     "data": {
      "text/plain": [
       "<Figure size 720x720 with 0 Axes>"
      ]
     },
     "metadata": {},
     "output_type": "display_data"
    },
    {
     "data": {
      "text/plain": [
       "<Figure size 720x720 with 0 Axes>"
      ]
     },
     "metadata": {},
     "output_type": "display_data"
    },
    {
     "data": {
      "text/plain": [
       "<Figure size 720x720 with 0 Axes>"
      ]
     },
     "metadata": {},
     "output_type": "display_data"
    },
    {
     "data": {
      "text/plain": [
       "<Figure size 720x720 with 0 Axes>"
      ]
     },
     "metadata": {},
     "output_type": "display_data"
    },
    {
     "data": {
      "text/plain": [
       "<Figure size 720x720 with 0 Axes>"
      ]
     },
     "metadata": {},
     "output_type": "display_data"
    },
    {
     "data": {
      "text/plain": [
       "<Figure size 720x720 with 0 Axes>"
      ]
     },
     "metadata": {},
     "output_type": "display_data"
    },
    {
     "data": {
      "text/plain": [
       "<Figure size 720x720 with 0 Axes>"
      ]
     },
     "metadata": {},
     "output_type": "display_data"
    },
    {
     "data": {
      "text/plain": [
       "<Figure size 720x720 with 0 Axes>"
      ]
     },
     "metadata": {},
     "output_type": "display_data"
    },
    {
     "data": {
      "text/plain": [
       "<Figure size 720x720 with 0 Axes>"
      ]
     },
     "metadata": {},
     "output_type": "display_data"
    },
    {
     "data": {
      "text/plain": [
       "<Figure size 720x720 with 0 Axes>"
      ]
     },
     "metadata": {},
     "output_type": "display_data"
    },
    {
     "data": {
      "text/plain": [
       "<Figure size 720x720 with 0 Axes>"
      ]
     },
     "metadata": {},
     "output_type": "display_data"
    },
    {
     "data": {
      "text/plain": [
       "<Figure size 720x720 with 0 Axes>"
      ]
     },
     "metadata": {},
     "output_type": "display_data"
    },
    {
     "data": {
      "text/plain": [
       "<Figure size 720x720 with 0 Axes>"
      ]
     },
     "metadata": {},
     "output_type": "display_data"
    },
    {
     "data": {
      "text/plain": [
       "<Figure size 720x720 with 0 Axes>"
      ]
     },
     "metadata": {},
     "output_type": "display_data"
    },
    {
     "data": {
      "text/plain": [
       "<Figure size 720x720 with 0 Axes>"
      ]
     },
     "metadata": {},
     "output_type": "display_data"
    },
    {
     "data": {
      "text/plain": [
       "<Figure size 720x720 with 0 Axes>"
      ]
     },
     "metadata": {},
     "output_type": "display_data"
    },
    {
     "data": {
      "text/plain": [
       "<Figure size 720x720 with 0 Axes>"
      ]
     },
     "metadata": {},
     "output_type": "display_data"
    },
    {
     "data": {
      "text/plain": [
       "<Figure size 720x720 with 0 Axes>"
      ]
     },
     "metadata": {},
     "output_type": "display_data"
    },
    {
     "data": {
      "text/plain": [
       "<Figure size 720x720 with 0 Axes>"
      ]
     },
     "metadata": {},
     "output_type": "display_data"
    },
    {
     "data": {
      "text/plain": [
       "<Figure size 720x720 with 0 Axes>"
      ]
     },
     "metadata": {},
     "output_type": "display_data"
    },
    {
     "data": {
      "text/plain": [
       "<Figure size 720x720 with 0 Axes>"
      ]
     },
     "metadata": {},
     "output_type": "display_data"
    },
    {
     "data": {
      "text/plain": [
       "<Figure size 720x720 with 0 Axes>"
      ]
     },
     "metadata": {},
     "output_type": "display_data"
    },
    {
     "data": {
      "text/plain": [
       "<Figure size 720x720 with 0 Axes>"
      ]
     },
     "metadata": {},
     "output_type": "display_data"
    },
    {
     "data": {
      "text/plain": [
       "<Figure size 720x720 with 0 Axes>"
      ]
     },
     "metadata": {},
     "output_type": "display_data"
    },
    {
     "data": {
      "text/plain": [
       "<Figure size 720x720 with 0 Axes>"
      ]
     },
     "metadata": {},
     "output_type": "display_data"
    },
    {
     "data": {
      "text/plain": [
       "<Figure size 720x720 with 0 Axes>"
      ]
     },
     "metadata": {},
     "output_type": "display_data"
    },
    {
     "data": {
      "text/plain": [
       "<Figure size 720x720 with 0 Axes>"
      ]
     },
     "metadata": {},
     "output_type": "display_data"
    },
    {
     "data": {
      "text/plain": [
       "<Figure size 720x720 with 0 Axes>"
      ]
     },
     "metadata": {},
     "output_type": "display_data"
    },
    {
     "data": {
      "text/plain": [
       "<Figure size 720x720 with 0 Axes>"
      ]
     },
     "metadata": {},
     "output_type": "display_data"
    },
    {
     "data": {
      "text/plain": [
       "<Figure size 720x720 with 0 Axes>"
      ]
     },
     "metadata": {},
     "output_type": "display_data"
    },
    {
     "data": {
      "text/plain": [
       "<Figure size 720x720 with 0 Axes>"
      ]
     },
     "metadata": {},
     "output_type": "display_data"
    },
    {
     "data": {
      "text/plain": [
       "<Figure size 720x720 with 0 Axes>"
      ]
     },
     "metadata": {},
     "output_type": "display_data"
    },
    {
     "data": {
      "text/plain": [
       "<Figure size 720x720 with 0 Axes>"
      ]
     },
     "metadata": {},
     "output_type": "display_data"
    },
    {
     "data": {
      "text/plain": [
       "<Figure size 720x720 with 0 Axes>"
      ]
     },
     "metadata": {},
     "output_type": "display_data"
    },
    {
     "data": {
      "text/plain": [
       "<Figure size 720x720 with 0 Axes>"
      ]
     },
     "metadata": {},
     "output_type": "display_data"
    },
    {
     "data": {
      "text/plain": [
       "<Figure size 720x720 with 0 Axes>"
      ]
     },
     "metadata": {},
     "output_type": "display_data"
    },
    {
     "data": {
      "text/plain": [
       "<Figure size 720x720 with 0 Axes>"
      ]
     },
     "metadata": {},
     "output_type": "display_data"
    },
    {
     "data": {
      "text/plain": [
       "<Figure size 720x720 with 0 Axes>"
      ]
     },
     "metadata": {},
     "output_type": "display_data"
    },
    {
     "data": {
      "text/plain": [
       "<Figure size 720x720 with 0 Axes>"
      ]
     },
     "metadata": {},
     "output_type": "display_data"
    },
    {
     "data": {
      "text/plain": [
       "<Figure size 720x720 with 0 Axes>"
      ]
     },
     "metadata": {},
     "output_type": "display_data"
    },
    {
     "data": {
      "text/plain": [
       "<Figure size 720x720 with 0 Axes>"
      ]
     },
     "metadata": {},
     "output_type": "display_data"
    },
    {
     "data": {
      "text/plain": [
       "<Figure size 720x720 with 0 Axes>"
      ]
     },
     "metadata": {},
     "output_type": "display_data"
    },
    {
     "data": {
      "text/plain": [
       "<Figure size 720x720 with 0 Axes>"
      ]
     },
     "metadata": {},
     "output_type": "display_data"
    },
    {
     "data": {
      "text/plain": [
       "<Figure size 720x720 with 0 Axes>"
      ]
     },
     "metadata": {},
     "output_type": "display_data"
    },
    {
     "data": {
      "text/plain": [
       "<Figure size 720x720 with 0 Axes>"
      ]
     },
     "metadata": {},
     "output_type": "display_data"
    },
    {
     "data": {
      "text/plain": [
       "<Figure size 720x720 with 0 Axes>"
      ]
     },
     "metadata": {},
     "output_type": "display_data"
    },
    {
     "data": {
      "text/plain": [
       "<Figure size 720x720 with 0 Axes>"
      ]
     },
     "metadata": {},
     "output_type": "display_data"
    },
    {
     "data": {
      "text/plain": [
       "<Figure size 720x720 with 0 Axes>"
      ]
     },
     "metadata": {},
     "output_type": "display_data"
    },
    {
     "data": {
      "text/plain": [
       "<Figure size 720x720 with 0 Axes>"
      ]
     },
     "metadata": {},
     "output_type": "display_data"
    },
    {
     "data": {
      "text/plain": [
       "<Figure size 720x720 with 0 Axes>"
      ]
     },
     "metadata": {},
     "output_type": "display_data"
    },
    {
     "data": {
      "text/plain": [
       "<Figure size 720x720 with 0 Axes>"
      ]
     },
     "metadata": {},
     "output_type": "display_data"
    },
    {
     "data": {
      "text/plain": [
       "<Figure size 720x720 with 0 Axes>"
      ]
     },
     "metadata": {},
     "output_type": "display_data"
    },
    {
     "data": {
      "text/plain": [
       "<Figure size 720x720 with 0 Axes>"
      ]
     },
     "metadata": {},
     "output_type": "display_data"
    },
    {
     "data": {
      "text/plain": [
       "<Figure size 720x720 with 0 Axes>"
      ]
     },
     "metadata": {},
     "output_type": "display_data"
    },
    {
     "data": {
      "text/plain": [
       "<Figure size 720x720 with 0 Axes>"
      ]
     },
     "metadata": {},
     "output_type": "display_data"
    },
    {
     "data": {
      "text/plain": [
       "<Figure size 720x720 with 0 Axes>"
      ]
     },
     "metadata": {},
     "output_type": "display_data"
    },
    {
     "data": {
      "text/plain": [
       "<Figure size 720x720 with 0 Axes>"
      ]
     },
     "metadata": {},
     "output_type": "display_data"
    },
    {
     "data": {
      "text/plain": [
       "<Figure size 720x720 with 0 Axes>"
      ]
     },
     "metadata": {},
     "output_type": "display_data"
    },
    {
     "data": {
      "text/plain": [
       "<Figure size 720x720 with 0 Axes>"
      ]
     },
     "metadata": {},
     "output_type": "display_data"
    },
    {
     "data": {
      "text/plain": [
       "<Figure size 720x720 with 0 Axes>"
      ]
     },
     "metadata": {},
     "output_type": "display_data"
    },
    {
     "data": {
      "text/plain": [
       "<Figure size 720x720 with 0 Axes>"
      ]
     },
     "metadata": {},
     "output_type": "display_data"
    },
    {
     "data": {
      "text/plain": [
       "<Figure size 720x720 with 0 Axes>"
      ]
     },
     "metadata": {},
     "output_type": "display_data"
    },
    {
     "data": {
      "text/plain": [
       "<Figure size 720x720 with 0 Axes>"
      ]
     },
     "metadata": {},
     "output_type": "display_data"
    },
    {
     "data": {
      "text/plain": [
       "<Figure size 720x720 with 0 Axes>"
      ]
     },
     "metadata": {},
     "output_type": "display_data"
    },
    {
     "data": {
      "text/plain": [
       "<Figure size 720x720 with 0 Axes>"
      ]
     },
     "metadata": {},
     "output_type": "display_data"
    },
    {
     "data": {
      "text/plain": [
       "<Figure size 720x720 with 0 Axes>"
      ]
     },
     "metadata": {},
     "output_type": "display_data"
    },
    {
     "data": {
      "text/plain": [
       "<Figure size 720x720 with 0 Axes>"
      ]
     },
     "metadata": {},
     "output_type": "display_data"
    },
    {
     "data": {
      "text/plain": [
       "<Figure size 720x720 with 0 Axes>"
      ]
     },
     "metadata": {},
     "output_type": "display_data"
    },
    {
     "data": {
      "text/plain": [
       "<Figure size 720x720 with 0 Axes>"
      ]
     },
     "metadata": {},
     "output_type": "display_data"
    },
    {
     "data": {
      "text/plain": [
       "<Figure size 720x720 with 0 Axes>"
      ]
     },
     "metadata": {},
     "output_type": "display_data"
    },
    {
     "data": {
      "text/plain": [
       "<Figure size 720x720 with 0 Axes>"
      ]
     },
     "metadata": {},
     "output_type": "display_data"
    },
    {
     "data": {
      "text/plain": [
       "<Figure size 720x720 with 0 Axes>"
      ]
     },
     "metadata": {},
     "output_type": "display_data"
    },
    {
     "data": {
      "text/plain": [
       "<Figure size 720x720 with 0 Axes>"
      ]
     },
     "metadata": {},
     "output_type": "display_data"
    },
    {
     "data": {
      "text/plain": [
       "<Figure size 720x720 with 0 Axes>"
      ]
     },
     "metadata": {},
     "output_type": "display_data"
    },
    {
     "data": {
      "text/plain": [
       "<Figure size 720x720 with 0 Axes>"
      ]
     },
     "metadata": {},
     "output_type": "display_data"
    },
    {
     "data": {
      "text/plain": [
       "<Figure size 720x720 with 0 Axes>"
      ]
     },
     "metadata": {},
     "output_type": "display_data"
    },
    {
     "data": {
      "text/plain": [
       "<Figure size 720x720 with 0 Axes>"
      ]
     },
     "metadata": {},
     "output_type": "display_data"
    },
    {
     "data": {
      "text/plain": [
       "<Figure size 720x720 with 0 Axes>"
      ]
     },
     "metadata": {},
     "output_type": "display_data"
    },
    {
     "data": {
      "text/plain": [
       "<Figure size 720x720 with 0 Axes>"
      ]
     },
     "metadata": {},
     "output_type": "display_data"
    },
    {
     "data": {
      "text/plain": [
       "<Figure size 720x720 with 0 Axes>"
      ]
     },
     "metadata": {},
     "output_type": "display_data"
    },
    {
     "data": {
      "text/plain": [
       "<Figure size 720x720 with 0 Axes>"
      ]
     },
     "metadata": {},
     "output_type": "display_data"
    },
    {
     "data": {
      "text/plain": [
       "<Figure size 720x720 with 0 Axes>"
      ]
     },
     "metadata": {},
     "output_type": "display_data"
    },
    {
     "data": {
      "text/plain": [
       "<Figure size 720x720 with 0 Axes>"
      ]
     },
     "metadata": {},
     "output_type": "display_data"
    },
    {
     "data": {
      "text/plain": [
       "<Figure size 720x720 with 0 Axes>"
      ]
     },
     "metadata": {},
     "output_type": "display_data"
    },
    {
     "data": {
      "text/plain": [
       "<Figure size 720x720 with 0 Axes>"
      ]
     },
     "metadata": {},
     "output_type": "display_data"
    },
    {
     "data": {
      "text/plain": [
       "<Figure size 720x720 with 0 Axes>"
      ]
     },
     "metadata": {},
     "output_type": "display_data"
    },
    {
     "data": {
      "text/plain": [
       "<Figure size 720x720 with 0 Axes>"
      ]
     },
     "metadata": {},
     "output_type": "display_data"
    },
    {
     "data": {
      "text/plain": [
       "<Figure size 720x720 with 0 Axes>"
      ]
     },
     "metadata": {},
     "output_type": "display_data"
    },
    {
     "data": {
      "text/plain": [
       "<Figure size 720x720 with 0 Axes>"
      ]
     },
     "metadata": {},
     "output_type": "display_data"
    },
    {
     "data": {
      "text/plain": [
       "<Figure size 720x720 with 0 Axes>"
      ]
     },
     "metadata": {},
     "output_type": "display_data"
    },
    {
     "data": {
      "text/plain": [
       "<Figure size 720x720 with 0 Axes>"
      ]
     },
     "metadata": {},
     "output_type": "display_data"
    },
    {
     "data": {
      "text/plain": [
       "<Figure size 720x720 with 0 Axes>"
      ]
     },
     "metadata": {},
     "output_type": "display_data"
    },
    {
     "data": {
      "text/plain": [
       "<Figure size 720x720 with 0 Axes>"
      ]
     },
     "metadata": {},
     "output_type": "display_data"
    },
    {
     "data": {
      "text/plain": [
       "<Figure size 720x720 with 0 Axes>"
      ]
     },
     "metadata": {},
     "output_type": "display_data"
    },
    {
     "data": {
      "text/plain": [
       "<Figure size 720x720 with 0 Axes>"
      ]
     },
     "metadata": {},
     "output_type": "display_data"
    },
    {
     "data": {
      "text/plain": [
       "<Figure size 720x720 with 0 Axes>"
      ]
     },
     "metadata": {},
     "output_type": "display_data"
    },
    {
     "data": {
      "text/plain": [
       "<Figure size 720x720 with 0 Axes>"
      ]
     },
     "metadata": {},
     "output_type": "display_data"
    },
    {
     "data": {
      "text/plain": [
       "<Figure size 720x720 with 0 Axes>"
      ]
     },
     "metadata": {},
     "output_type": "display_data"
    },
    {
     "data": {
      "text/plain": [
       "<Figure size 720x720 with 0 Axes>"
      ]
     },
     "metadata": {},
     "output_type": "display_data"
    },
    {
     "data": {
      "text/plain": [
       "<Figure size 720x720 with 0 Axes>"
      ]
     },
     "metadata": {},
     "output_type": "display_data"
    },
    {
     "data": {
      "text/plain": [
       "<Figure size 720x720 with 0 Axes>"
      ]
     },
     "metadata": {},
     "output_type": "display_data"
    },
    {
     "data": {
      "text/plain": [
       "<Figure size 720x720 with 0 Axes>"
      ]
     },
     "metadata": {},
     "output_type": "display_data"
    },
    {
     "data": {
      "text/plain": [
       "<Figure size 720x720 with 0 Axes>"
      ]
     },
     "metadata": {},
     "output_type": "display_data"
    },
    {
     "data": {
      "text/plain": [
       "<Figure size 720x720 with 0 Axes>"
      ]
     },
     "metadata": {},
     "output_type": "display_data"
    },
    {
     "data": {
      "text/plain": [
       "<Figure size 720x720 with 0 Axes>"
      ]
     },
     "metadata": {},
     "output_type": "display_data"
    },
    {
     "data": {
      "text/plain": [
       "<Figure size 720x720 with 0 Axes>"
      ]
     },
     "metadata": {},
     "output_type": "display_data"
    },
    {
     "data": {
      "text/plain": [
       "<Figure size 720x720 with 0 Axes>"
      ]
     },
     "metadata": {},
     "output_type": "display_data"
    },
    {
     "data": {
      "text/plain": [
       "<Figure size 720x720 with 0 Axes>"
      ]
     },
     "metadata": {},
     "output_type": "display_data"
    },
    {
     "data": {
      "text/plain": [
       "<Figure size 720x720 with 0 Axes>"
      ]
     },
     "metadata": {},
     "output_type": "display_data"
    },
    {
     "data": {
      "text/plain": [
       "<Figure size 720x720 with 0 Axes>"
      ]
     },
     "metadata": {},
     "output_type": "display_data"
    },
    {
     "data": {
      "text/plain": [
       "<Figure size 720x720 with 0 Axes>"
      ]
     },
     "metadata": {},
     "output_type": "display_data"
    },
    {
     "data": {
      "text/plain": [
       "<Figure size 720x720 with 0 Axes>"
      ]
     },
     "metadata": {},
     "output_type": "display_data"
    },
    {
     "data": {
      "text/plain": [
       "<Figure size 720x720 with 0 Axes>"
      ]
     },
     "metadata": {},
     "output_type": "display_data"
    },
    {
     "data": {
      "text/plain": [
       "<Figure size 720x720 with 0 Axes>"
      ]
     },
     "metadata": {},
     "output_type": "display_data"
    },
    {
     "data": {
      "text/plain": [
       "<Figure size 720x720 with 0 Axes>"
      ]
     },
     "metadata": {},
     "output_type": "display_data"
    },
    {
     "data": {
      "text/plain": [
       "<Figure size 720x720 with 0 Axes>"
      ]
     },
     "metadata": {},
     "output_type": "display_data"
    },
    {
     "data": {
      "text/plain": [
       "<Figure size 720x720 with 0 Axes>"
      ]
     },
     "metadata": {},
     "output_type": "display_data"
    },
    {
     "data": {
      "text/plain": [
       "<Figure size 720x720 with 0 Axes>"
      ]
     },
     "metadata": {},
     "output_type": "display_data"
    },
    {
     "data": {
      "text/plain": [
       "<Figure size 720x720 with 0 Axes>"
      ]
     },
     "metadata": {},
     "output_type": "display_data"
    },
    {
     "data": {
      "text/plain": [
       "<Figure size 720x720 with 0 Axes>"
      ]
     },
     "metadata": {},
     "output_type": "display_data"
    },
    {
     "data": {
      "text/plain": [
       "<Figure size 720x720 with 0 Axes>"
      ]
     },
     "metadata": {},
     "output_type": "display_data"
    },
    {
     "data": {
      "text/plain": [
       "<Figure size 720x720 with 0 Axes>"
      ]
     },
     "metadata": {},
     "output_type": "display_data"
    },
    {
     "data": {
      "text/plain": [
       "<Figure size 720x720 with 0 Axes>"
      ]
     },
     "metadata": {},
     "output_type": "display_data"
    },
    {
     "data": {
      "text/plain": [
       "<Figure size 720x720 with 0 Axes>"
      ]
     },
     "metadata": {},
     "output_type": "display_data"
    },
    {
     "data": {
      "text/plain": [
       "<Figure size 720x720 with 0 Axes>"
      ]
     },
     "metadata": {},
     "output_type": "display_data"
    },
    {
     "data": {
      "text/plain": [
       "<Figure size 720x720 with 0 Axes>"
      ]
     },
     "metadata": {},
     "output_type": "display_data"
    },
    {
     "data": {
      "text/plain": [
       "<Figure size 720x720 with 0 Axes>"
      ]
     },
     "metadata": {},
     "output_type": "display_data"
    },
    {
     "data": {
      "text/plain": [
       "<Figure size 720x720 with 0 Axes>"
      ]
     },
     "metadata": {},
     "output_type": "display_data"
    },
    {
     "data": {
      "text/plain": [
       "<Figure size 720x720 with 0 Axes>"
      ]
     },
     "metadata": {},
     "output_type": "display_data"
    },
    {
     "data": {
      "text/plain": [
       "<Figure size 720x720 with 0 Axes>"
      ]
     },
     "metadata": {},
     "output_type": "display_data"
    },
    {
     "data": {
      "text/plain": [
       "<Figure size 720x720 with 0 Axes>"
      ]
     },
     "metadata": {},
     "output_type": "display_data"
    },
    {
     "data": {
      "text/plain": [
       "<Figure size 720x720 with 0 Axes>"
      ]
     },
     "metadata": {},
     "output_type": "display_data"
    },
    {
     "data": {
      "text/plain": [
       "<Figure size 720x720 with 0 Axes>"
      ]
     },
     "metadata": {},
     "output_type": "display_data"
    },
    {
     "data": {
      "text/plain": [
       "<Figure size 720x720 with 0 Axes>"
      ]
     },
     "metadata": {},
     "output_type": "display_data"
    },
    {
     "data": {
      "text/plain": [
       "<Figure size 720x720 with 0 Axes>"
      ]
     },
     "metadata": {},
     "output_type": "display_data"
    },
    {
     "data": {
      "text/plain": [
       "<Figure size 720x720 with 0 Axes>"
      ]
     },
     "metadata": {},
     "output_type": "display_data"
    },
    {
     "data": {
      "text/plain": [
       "<Figure size 720x720 with 0 Axes>"
      ]
     },
     "metadata": {},
     "output_type": "display_data"
    },
    {
     "data": {
      "text/plain": [
       "<Figure size 720x720 with 0 Axes>"
      ]
     },
     "metadata": {},
     "output_type": "display_data"
    },
    {
     "data": {
      "text/plain": [
       "<Figure size 720x720 with 0 Axes>"
      ]
     },
     "metadata": {},
     "output_type": "display_data"
    },
    {
     "data": {
      "text/plain": [
       "<Figure size 720x720 with 0 Axes>"
      ]
     },
     "metadata": {},
     "output_type": "display_data"
    },
    {
     "data": {
      "text/plain": [
       "<Figure size 720x720 with 0 Axes>"
      ]
     },
     "metadata": {},
     "output_type": "display_data"
    },
    {
     "data": {
      "text/plain": [
       "<Figure size 720x720 with 0 Axes>"
      ]
     },
     "metadata": {},
     "output_type": "display_data"
    },
    {
     "data": {
      "text/plain": [
       "<Figure size 720x720 with 0 Axes>"
      ]
     },
     "metadata": {},
     "output_type": "display_data"
    },
    {
     "data": {
      "text/plain": [
       "<Figure size 720x720 with 0 Axes>"
      ]
     },
     "metadata": {},
     "output_type": "display_data"
    },
    {
     "data": {
      "text/plain": [
       "<Figure size 720x720 with 0 Axes>"
      ]
     },
     "metadata": {},
     "output_type": "display_data"
    },
    {
     "data": {
      "text/plain": [
       "<Figure size 720x720 with 0 Axes>"
      ]
     },
     "metadata": {},
     "output_type": "display_data"
    },
    {
     "data": {
      "text/plain": [
       "<Figure size 720x720 with 0 Axes>"
      ]
     },
     "metadata": {},
     "output_type": "display_data"
    },
    {
     "data": {
      "text/plain": [
       "<Figure size 720x720 with 0 Axes>"
      ]
     },
     "metadata": {},
     "output_type": "display_data"
    },
    {
     "data": {
      "text/plain": [
       "<Figure size 720x720 with 0 Axes>"
      ]
     },
     "metadata": {},
     "output_type": "display_data"
    },
    {
     "data": {
      "text/plain": [
       "<Figure size 720x720 with 0 Axes>"
      ]
     },
     "metadata": {},
     "output_type": "display_data"
    },
    {
     "data": {
      "text/plain": [
       "<Figure size 720x720 with 0 Axes>"
      ]
     },
     "metadata": {},
     "output_type": "display_data"
    },
    {
     "data": {
      "text/plain": [
       "<Figure size 720x720 with 0 Axes>"
      ]
     },
     "metadata": {},
     "output_type": "display_data"
    },
    {
     "data": {
      "text/plain": [
       "<Figure size 720x720 with 0 Axes>"
      ]
     },
     "metadata": {},
     "output_type": "display_data"
    },
    {
     "data": {
      "text/plain": [
       "<Figure size 720x720 with 0 Axes>"
      ]
     },
     "metadata": {},
     "output_type": "display_data"
    },
    {
     "data": {
      "text/plain": [
       "<Figure size 720x720 with 0 Axes>"
      ]
     },
     "metadata": {},
     "output_type": "display_data"
    },
    {
     "data": {
      "text/plain": [
       "<Figure size 720x720 with 0 Axes>"
      ]
     },
     "metadata": {},
     "output_type": "display_data"
    },
    {
     "data": {
      "text/plain": [
       "<Figure size 720x720 with 0 Axes>"
      ]
     },
     "metadata": {},
     "output_type": "display_data"
    },
    {
     "data": {
      "text/plain": [
       "<Figure size 720x720 with 0 Axes>"
      ]
     },
     "metadata": {},
     "output_type": "display_data"
    },
    {
     "data": {
      "text/plain": [
       "<Figure size 720x720 with 0 Axes>"
      ]
     },
     "metadata": {},
     "output_type": "display_data"
    },
    {
     "data": {
      "text/plain": [
       "<Figure size 720x720 with 0 Axes>"
      ]
     },
     "metadata": {},
     "output_type": "display_data"
    },
    {
     "data": {
      "text/plain": [
       "<Figure size 720x720 with 0 Axes>"
      ]
     },
     "metadata": {},
     "output_type": "display_data"
    },
    {
     "data": {
      "text/plain": [
       "<Figure size 720x720 with 0 Axes>"
      ]
     },
     "metadata": {},
     "output_type": "display_data"
    },
    {
     "data": {
      "text/plain": [
       "<Figure size 720x720 with 0 Axes>"
      ]
     },
     "metadata": {},
     "output_type": "display_data"
    },
    {
     "data": {
      "text/plain": [
       "<Figure size 720x720 with 0 Axes>"
      ]
     },
     "metadata": {},
     "output_type": "display_data"
    },
    {
     "data": {
      "text/plain": [
       "<Figure size 720x720 with 0 Axes>"
      ]
     },
     "metadata": {},
     "output_type": "display_data"
    },
    {
     "data": {
      "text/plain": [
       "<Figure size 720x720 with 0 Axes>"
      ]
     },
     "metadata": {},
     "output_type": "display_data"
    },
    {
     "data": {
      "text/plain": [
       "<Figure size 720x720 with 0 Axes>"
      ]
     },
     "metadata": {},
     "output_type": "display_data"
    },
    {
     "data": {
      "text/plain": [
       "<Figure size 720x720 with 0 Axes>"
      ]
     },
     "metadata": {},
     "output_type": "display_data"
    },
    {
     "data": {
      "text/plain": [
       "<Figure size 720x720 with 0 Axes>"
      ]
     },
     "metadata": {},
     "output_type": "display_data"
    },
    {
     "data": {
      "text/plain": [
       "<Figure size 720x720 with 0 Axes>"
      ]
     },
     "metadata": {},
     "output_type": "display_data"
    },
    {
     "data": {
      "text/plain": [
       "<Figure size 720x720 with 0 Axes>"
      ]
     },
     "metadata": {},
     "output_type": "display_data"
    },
    {
     "data": {
      "text/plain": [
       "<Figure size 720x720 with 0 Axes>"
      ]
     },
     "metadata": {},
     "output_type": "display_data"
    },
    {
     "data": {
      "text/plain": [
       "<Figure size 720x720 with 0 Axes>"
      ]
     },
     "metadata": {},
     "output_type": "display_data"
    },
    {
     "data": {
      "text/plain": [
       "<Figure size 720x720 with 0 Axes>"
      ]
     },
     "metadata": {},
     "output_type": "display_data"
    },
    {
     "data": {
      "text/plain": [
       "<Figure size 720x720 with 0 Axes>"
      ]
     },
     "metadata": {},
     "output_type": "display_data"
    },
    {
     "data": {
      "text/plain": [
       "<Figure size 720x720 with 0 Axes>"
      ]
     },
     "metadata": {},
     "output_type": "display_data"
    },
    {
     "data": {
      "text/plain": [
       "<Figure size 720x720 with 0 Axes>"
      ]
     },
     "metadata": {},
     "output_type": "display_data"
    },
    {
     "data": {
      "text/plain": [
       "<Figure size 720x720 with 0 Axes>"
      ]
     },
     "metadata": {},
     "output_type": "display_data"
    },
    {
     "data": {
      "text/plain": [
       "<Figure size 720x720 with 0 Axes>"
      ]
     },
     "metadata": {},
     "output_type": "display_data"
    },
    {
     "data": {
      "text/plain": [
       "<Figure size 720x720 with 0 Axes>"
      ]
     },
     "metadata": {},
     "output_type": "display_data"
    },
    {
     "data": {
      "text/plain": [
       "<Figure size 720x720 with 0 Axes>"
      ]
     },
     "metadata": {},
     "output_type": "display_data"
    },
    {
     "data": {
      "text/plain": [
       "<Figure size 720x720 with 0 Axes>"
      ]
     },
     "metadata": {},
     "output_type": "display_data"
    },
    {
     "data": {
      "text/plain": [
       "<Figure size 720x720 with 0 Axes>"
      ]
     },
     "metadata": {},
     "output_type": "display_data"
    },
    {
     "data": {
      "text/plain": [
       "<Figure size 720x720 with 0 Axes>"
      ]
     },
     "metadata": {},
     "output_type": "display_data"
    },
    {
     "data": {
      "text/plain": [
       "<Figure size 720x720 with 0 Axes>"
      ]
     },
     "metadata": {},
     "output_type": "display_data"
    },
    {
     "data": {
      "text/plain": [
       "<Figure size 720x720 with 0 Axes>"
      ]
     },
     "metadata": {},
     "output_type": "display_data"
    },
    {
     "data": {
      "text/plain": [
       "<Figure size 720x720 with 0 Axes>"
      ]
     },
     "metadata": {},
     "output_type": "display_data"
    },
    {
     "data": {
      "text/plain": [
       "<Figure size 720x720 with 0 Axes>"
      ]
     },
     "metadata": {},
     "output_type": "display_data"
    },
    {
     "data": {
      "text/plain": [
       "<Figure size 720x720 with 0 Axes>"
      ]
     },
     "metadata": {},
     "output_type": "display_data"
    },
    {
     "data": {
      "text/plain": [
       "<Figure size 720x720 with 0 Axes>"
      ]
     },
     "metadata": {},
     "output_type": "display_data"
    },
    {
     "data": {
      "text/plain": [
       "<Figure size 720x720 with 0 Axes>"
      ]
     },
     "metadata": {},
     "output_type": "display_data"
    },
    {
     "data": {
      "text/plain": [
       "<Figure size 720x720 with 0 Axes>"
      ]
     },
     "metadata": {},
     "output_type": "display_data"
    },
    {
     "data": {
      "text/plain": [
       "<Figure size 720x720 with 0 Axes>"
      ]
     },
     "metadata": {},
     "output_type": "display_data"
    },
    {
     "data": {
      "text/plain": [
       "<Figure size 720x720 with 0 Axes>"
      ]
     },
     "metadata": {},
     "output_type": "display_data"
    },
    {
     "data": {
      "text/plain": [
       "<Figure size 720x720 with 0 Axes>"
      ]
     },
     "metadata": {},
     "output_type": "display_data"
    },
    {
     "data": {
      "text/plain": [
       "<Figure size 720x720 with 0 Axes>"
      ]
     },
     "metadata": {},
     "output_type": "display_data"
    },
    {
     "data": {
      "text/plain": [
       "<Figure size 720x720 with 0 Axes>"
      ]
     },
     "metadata": {},
     "output_type": "display_data"
    },
    {
     "data": {
      "text/plain": [
       "<Figure size 720x720 with 0 Axes>"
      ]
     },
     "metadata": {},
     "output_type": "display_data"
    },
    {
     "data": {
      "text/plain": [
       "<Figure size 720x720 with 0 Axes>"
      ]
     },
     "metadata": {},
     "output_type": "display_data"
    },
    {
     "data": {
      "text/plain": [
       "<Figure size 720x720 with 0 Axes>"
      ]
     },
     "metadata": {},
     "output_type": "display_data"
    },
    {
     "data": {
      "text/plain": [
       "<Figure size 720x720 with 0 Axes>"
      ]
     },
     "metadata": {},
     "output_type": "display_data"
    },
    {
     "data": {
      "text/plain": [
       "<Figure size 720x720 with 0 Axes>"
      ]
     },
     "metadata": {},
     "output_type": "display_data"
    },
    {
     "data": {
      "text/plain": [
       "<Figure size 720x720 with 0 Axes>"
      ]
     },
     "metadata": {},
     "output_type": "display_data"
    },
    {
     "data": {
      "text/plain": [
       "<Figure size 720x720 with 0 Axes>"
      ]
     },
     "metadata": {},
     "output_type": "display_data"
    },
    {
     "data": {
      "text/plain": [
       "<Figure size 720x720 with 0 Axes>"
      ]
     },
     "metadata": {},
     "output_type": "display_data"
    },
    {
     "data": {
      "text/plain": [
       "<Figure size 720x720 with 0 Axes>"
      ]
     },
     "metadata": {},
     "output_type": "display_data"
    },
    {
     "data": {
      "text/plain": [
       "<Figure size 720x720 with 0 Axes>"
      ]
     },
     "metadata": {},
     "output_type": "display_data"
    },
    {
     "data": {
      "text/plain": [
       "<Figure size 720x720 with 0 Axes>"
      ]
     },
     "metadata": {},
     "output_type": "display_data"
    },
    {
     "data": {
      "text/plain": [
       "<Figure size 720x720 with 0 Axes>"
      ]
     },
     "metadata": {},
     "output_type": "display_data"
    },
    {
     "data": {
      "text/plain": [
       "<Figure size 720x720 with 0 Axes>"
      ]
     },
     "metadata": {},
     "output_type": "display_data"
    },
    {
     "data": {
      "text/plain": [
       "<Figure size 720x720 with 0 Axes>"
      ]
     },
     "metadata": {},
     "output_type": "display_data"
    },
    {
     "data": {
      "text/plain": [
       "<Figure size 720x720 with 0 Axes>"
      ]
     },
     "metadata": {},
     "output_type": "display_data"
    },
    {
     "data": {
      "text/plain": [
       "<Figure size 720x720 with 0 Axes>"
      ]
     },
     "metadata": {},
     "output_type": "display_data"
    },
    {
     "data": {
      "text/plain": [
       "<Figure size 720x720 with 0 Axes>"
      ]
     },
     "metadata": {},
     "output_type": "display_data"
    },
    {
     "data": {
      "text/plain": [
       "<Figure size 720x720 with 0 Axes>"
      ]
     },
     "metadata": {},
     "output_type": "display_data"
    },
    {
     "data": {
      "text/plain": [
       "<Figure size 720x720 with 0 Axes>"
      ]
     },
     "metadata": {},
     "output_type": "display_data"
    },
    {
     "data": {
      "text/plain": [
       "<Figure size 720x720 with 0 Axes>"
      ]
     },
     "metadata": {},
     "output_type": "display_data"
    },
    {
     "data": {
      "text/plain": [
       "<Figure size 720x720 with 0 Axes>"
      ]
     },
     "metadata": {},
     "output_type": "display_data"
    },
    {
     "data": {
      "text/plain": [
       "<Figure size 720x720 with 0 Axes>"
      ]
     },
     "metadata": {},
     "output_type": "display_data"
    },
    {
     "data": {
      "text/plain": [
       "<Figure size 720x720 with 0 Axes>"
      ]
     },
     "metadata": {},
     "output_type": "display_data"
    },
    {
     "data": {
      "text/plain": [
       "<Figure size 720x720 with 0 Axes>"
      ]
     },
     "metadata": {},
     "output_type": "display_data"
    },
    {
     "data": {
      "text/plain": [
       "<Figure size 720x720 with 0 Axes>"
      ]
     },
     "metadata": {},
     "output_type": "display_data"
    },
    {
     "data": {
      "text/plain": [
       "<Figure size 720x720 with 0 Axes>"
      ]
     },
     "metadata": {},
     "output_type": "display_data"
    },
    {
     "data": {
      "text/plain": [
       "<Figure size 720x720 with 0 Axes>"
      ]
     },
     "metadata": {},
     "output_type": "display_data"
    },
    {
     "data": {
      "text/plain": [
       "<Figure size 720x720 with 0 Axes>"
      ]
     },
     "metadata": {},
     "output_type": "display_data"
    },
    {
     "data": {
      "text/plain": [
       "<Figure size 720x720 with 0 Axes>"
      ]
     },
     "metadata": {},
     "output_type": "display_data"
    },
    {
     "data": {
      "text/plain": [
       "<Figure size 720x720 with 0 Axes>"
      ]
     },
     "metadata": {},
     "output_type": "display_data"
    },
    {
     "data": {
      "text/plain": [
       "<Figure size 720x720 with 0 Axes>"
      ]
     },
     "metadata": {},
     "output_type": "display_data"
    },
    {
     "data": {
      "text/plain": [
       "<Figure size 720x720 with 0 Axes>"
      ]
     },
     "metadata": {},
     "output_type": "display_data"
    },
    {
     "data": {
      "text/plain": [
       "<Figure size 720x720 with 0 Axes>"
      ]
     },
     "metadata": {},
     "output_type": "display_data"
    },
    {
     "data": {
      "text/plain": [
       "<Figure size 720x720 with 0 Axes>"
      ]
     },
     "metadata": {},
     "output_type": "display_data"
    },
    {
     "data": {
      "text/plain": [
       "<Figure size 720x720 with 0 Axes>"
      ]
     },
     "metadata": {},
     "output_type": "display_data"
    },
    {
     "data": {
      "text/plain": [
       "<Figure size 720x720 with 0 Axes>"
      ]
     },
     "metadata": {},
     "output_type": "display_data"
    },
    {
     "data": {
      "text/plain": [
       "<Figure size 720x720 with 0 Axes>"
      ]
     },
     "metadata": {},
     "output_type": "display_data"
    },
    {
     "data": {
      "text/plain": [
       "<Figure size 720x720 with 0 Axes>"
      ]
     },
     "metadata": {},
     "output_type": "display_data"
    },
    {
     "data": {
      "text/plain": [
       "<Figure size 720x720 with 0 Axes>"
      ]
     },
     "metadata": {},
     "output_type": "display_data"
    },
    {
     "data": {
      "text/plain": [
       "<Figure size 720x720 with 0 Axes>"
      ]
     },
     "metadata": {},
     "output_type": "display_data"
    },
    {
     "data": {
      "text/plain": [
       "<Figure size 720x720 with 0 Axes>"
      ]
     },
     "metadata": {},
     "output_type": "display_data"
    },
    {
     "data": {
      "text/plain": [
       "<Figure size 720x720 with 0 Axes>"
      ]
     },
     "metadata": {},
     "output_type": "display_data"
    },
    {
     "data": {
      "text/plain": [
       "<Figure size 720x720 with 0 Axes>"
      ]
     },
     "metadata": {},
     "output_type": "display_data"
    },
    {
     "data": {
      "text/plain": [
       "<Figure size 720x720 with 0 Axes>"
      ]
     },
     "metadata": {},
     "output_type": "display_data"
    },
    {
     "data": {
      "text/plain": [
       "<Figure size 720x720 with 0 Axes>"
      ]
     },
     "metadata": {},
     "output_type": "display_data"
    },
    {
     "data": {
      "text/plain": [
       "<Figure size 720x720 with 0 Axes>"
      ]
     },
     "metadata": {},
     "output_type": "display_data"
    },
    {
     "data": {
      "text/plain": [
       "<Figure size 720x720 with 0 Axes>"
      ]
     },
     "metadata": {},
     "output_type": "display_data"
    },
    {
     "data": {
      "text/plain": [
       "<Figure size 720x720 with 0 Axes>"
      ]
     },
     "metadata": {},
     "output_type": "display_data"
    },
    {
     "data": {
      "text/plain": [
       "<Figure size 720x720 with 0 Axes>"
      ]
     },
     "metadata": {},
     "output_type": "display_data"
    },
    {
     "data": {
      "text/plain": [
       "<Figure size 720x720 with 0 Axes>"
      ]
     },
     "metadata": {},
     "output_type": "display_data"
    },
    {
     "data": {
      "text/plain": [
       "<Figure size 720x720 with 0 Axes>"
      ]
     },
     "metadata": {},
     "output_type": "display_data"
    },
    {
     "data": {
      "text/plain": [
       "<Figure size 720x720 with 0 Axes>"
      ]
     },
     "metadata": {},
     "output_type": "display_data"
    },
    {
     "data": {
      "text/plain": [
       "<Figure size 720x720 with 0 Axes>"
      ]
     },
     "metadata": {},
     "output_type": "display_data"
    },
    {
     "data": {
      "text/plain": [
       "<Figure size 720x720 with 0 Axes>"
      ]
     },
     "metadata": {},
     "output_type": "display_data"
    },
    {
     "data": {
      "text/plain": [
       "<Figure size 720x720 with 0 Axes>"
      ]
     },
     "metadata": {},
     "output_type": "display_data"
    },
    {
     "data": {
      "text/plain": [
       "<Figure size 720x720 with 0 Axes>"
      ]
     },
     "metadata": {},
     "output_type": "display_data"
    },
    {
     "data": {
      "text/plain": [
       "<Figure size 720x720 with 0 Axes>"
      ]
     },
     "metadata": {},
     "output_type": "display_data"
    },
    {
     "data": {
      "text/plain": [
       "<Figure size 720x720 with 0 Axes>"
      ]
     },
     "metadata": {},
     "output_type": "display_data"
    },
    {
     "data": {
      "text/plain": [
       "<Figure size 720x720 with 0 Axes>"
      ]
     },
     "metadata": {},
     "output_type": "display_data"
    },
    {
     "data": {
      "text/plain": [
       "<Figure size 720x720 with 0 Axes>"
      ]
     },
     "metadata": {},
     "output_type": "display_data"
    },
    {
     "data": {
      "text/plain": [
       "<Figure size 720x720 with 0 Axes>"
      ]
     },
     "metadata": {},
     "output_type": "display_data"
    },
    {
     "data": {
      "text/plain": [
       "<Figure size 720x720 with 0 Axes>"
      ]
     },
     "metadata": {},
     "output_type": "display_data"
    },
    {
     "data": {
      "text/plain": [
       "<Figure size 720x720 with 0 Axes>"
      ]
     },
     "metadata": {},
     "output_type": "display_data"
    },
    {
     "data": {
      "text/plain": [
       "<Figure size 720x720 with 0 Axes>"
      ]
     },
     "metadata": {},
     "output_type": "display_data"
    },
    {
     "data": {
      "text/plain": [
       "<Figure size 720x720 with 0 Axes>"
      ]
     },
     "metadata": {},
     "output_type": "display_data"
    },
    {
     "data": {
      "text/plain": [
       "<Figure size 720x720 with 0 Axes>"
      ]
     },
     "metadata": {},
     "output_type": "display_data"
    },
    {
     "data": {
      "text/plain": [
       "<Figure size 720x720 with 0 Axes>"
      ]
     },
     "metadata": {},
     "output_type": "display_data"
    },
    {
     "data": {
      "text/plain": [
       "<Figure size 720x720 with 0 Axes>"
      ]
     },
     "metadata": {},
     "output_type": "display_data"
    },
    {
     "data": {
      "text/plain": [
       "<Figure size 720x720 with 0 Axes>"
      ]
     },
     "metadata": {},
     "output_type": "display_data"
    },
    {
     "data": {
      "text/plain": [
       "<Figure size 720x720 with 0 Axes>"
      ]
     },
     "metadata": {},
     "output_type": "display_data"
    },
    {
     "data": {
      "text/plain": [
       "<Figure size 720x720 with 0 Axes>"
      ]
     },
     "metadata": {},
     "output_type": "display_data"
    },
    {
     "data": {
      "text/plain": [
       "<Figure size 720x720 with 0 Axes>"
      ]
     },
     "metadata": {},
     "output_type": "display_data"
    },
    {
     "data": {
      "text/plain": [
       "<Figure size 720x720 with 0 Axes>"
      ]
     },
     "metadata": {},
     "output_type": "display_data"
    },
    {
     "data": {
      "text/plain": [
       "<Figure size 720x720 with 0 Axes>"
      ]
     },
     "metadata": {},
     "output_type": "display_data"
    },
    {
     "data": {
      "text/plain": [
       "<Figure size 720x720 with 0 Axes>"
      ]
     },
     "metadata": {},
     "output_type": "display_data"
    },
    {
     "data": {
      "text/plain": [
       "<Figure size 720x720 with 0 Axes>"
      ]
     },
     "metadata": {},
     "output_type": "display_data"
    },
    {
     "data": {
      "text/plain": [
       "<Figure size 720x720 with 0 Axes>"
      ]
     },
     "metadata": {},
     "output_type": "display_data"
    },
    {
     "data": {
      "text/plain": [
       "<Figure size 720x720 with 0 Axes>"
      ]
     },
     "metadata": {},
     "output_type": "display_data"
    },
    {
     "data": {
      "text/plain": [
       "<Figure size 720x720 with 0 Axes>"
      ]
     },
     "metadata": {},
     "output_type": "display_data"
    },
    {
     "data": {
      "text/plain": [
       "<Figure size 720x720 with 0 Axes>"
      ]
     },
     "metadata": {},
     "output_type": "display_data"
    },
    {
     "data": {
      "text/plain": [
       "<Figure size 720x720 with 0 Axes>"
      ]
     },
     "metadata": {},
     "output_type": "display_data"
    },
    {
     "data": {
      "text/plain": [
       "<Figure size 720x720 with 0 Axes>"
      ]
     },
     "metadata": {},
     "output_type": "display_data"
    },
    {
     "data": {
      "text/plain": [
       "<Figure size 720x720 with 0 Axes>"
      ]
     },
     "metadata": {},
     "output_type": "display_data"
    },
    {
     "data": {
      "text/plain": [
       "<Figure size 720x720 with 0 Axes>"
      ]
     },
     "metadata": {},
     "output_type": "display_data"
    },
    {
     "data": {
      "text/plain": [
       "<Figure size 720x720 with 0 Axes>"
      ]
     },
     "metadata": {},
     "output_type": "display_data"
    },
    {
     "data": {
      "text/plain": [
       "<Figure size 720x720 with 0 Axes>"
      ]
     },
     "metadata": {},
     "output_type": "display_data"
    },
    {
     "data": {
      "text/plain": [
       "<Figure size 720x720 with 0 Axes>"
      ]
     },
     "metadata": {},
     "output_type": "display_data"
    },
    {
     "data": {
      "text/plain": [
       "<Figure size 720x720 with 0 Axes>"
      ]
     },
     "metadata": {},
     "output_type": "display_data"
    },
    {
     "data": {
      "text/plain": [
       "<Figure size 720x720 with 0 Axes>"
      ]
     },
     "metadata": {},
     "output_type": "display_data"
    },
    {
     "data": {
      "text/plain": [
       "<Figure size 720x720 with 0 Axes>"
      ]
     },
     "metadata": {},
     "output_type": "display_data"
    },
    {
     "data": {
      "text/plain": [
       "<Figure size 720x720 with 0 Axes>"
      ]
     },
     "metadata": {},
     "output_type": "display_data"
    },
    {
     "data": {
      "text/plain": [
       "<Figure size 720x720 with 0 Axes>"
      ]
     },
     "metadata": {},
     "output_type": "display_data"
    },
    {
     "data": {
      "text/plain": [
       "<Figure size 720x720 with 0 Axes>"
      ]
     },
     "metadata": {},
     "output_type": "display_data"
    },
    {
     "data": {
      "text/plain": [
       "<Figure size 720x720 with 0 Axes>"
      ]
     },
     "metadata": {},
     "output_type": "display_data"
    },
    {
     "data": {
      "text/plain": [
       "<Figure size 720x720 with 0 Axes>"
      ]
     },
     "metadata": {},
     "output_type": "display_data"
    },
    {
     "data": {
      "text/plain": [
       "<Figure size 720x720 with 0 Axes>"
      ]
     },
     "metadata": {},
     "output_type": "display_data"
    },
    {
     "data": {
      "text/plain": [
       "<Figure size 720x720 with 0 Axes>"
      ]
     },
     "metadata": {},
     "output_type": "display_data"
    },
    {
     "data": {
      "text/plain": [
       "<Figure size 720x720 with 0 Axes>"
      ]
     },
     "metadata": {},
     "output_type": "display_data"
    },
    {
     "data": {
      "text/plain": [
       "<Figure size 720x720 with 0 Axes>"
      ]
     },
     "metadata": {},
     "output_type": "display_data"
    },
    {
     "data": {
      "text/plain": [
       "<Figure size 720x720 with 0 Axes>"
      ]
     },
     "metadata": {},
     "output_type": "display_data"
    },
    {
     "data": {
      "text/plain": [
       "<Figure size 720x720 with 0 Axes>"
      ]
     },
     "metadata": {},
     "output_type": "display_data"
    },
    {
     "data": {
      "text/plain": [
       "<Figure size 720x720 with 0 Axes>"
      ]
     },
     "metadata": {},
     "output_type": "display_data"
    },
    {
     "data": {
      "text/plain": [
       "<Figure size 720x720 with 0 Axes>"
      ]
     },
     "metadata": {},
     "output_type": "display_data"
    },
    {
     "data": {
      "text/plain": [
       "<Figure size 720x720 with 0 Axes>"
      ]
     },
     "metadata": {},
     "output_type": "display_data"
    },
    {
     "data": {
      "text/plain": [
       "<Figure size 720x720 with 0 Axes>"
      ]
     },
     "metadata": {},
     "output_type": "display_data"
    },
    {
     "data": {
      "text/plain": [
       "<Figure size 720x720 with 0 Axes>"
      ]
     },
     "metadata": {},
     "output_type": "display_data"
    },
    {
     "data": {
      "text/plain": [
       "<Figure size 720x720 with 0 Axes>"
      ]
     },
     "metadata": {},
     "output_type": "display_data"
    },
    {
     "data": {
      "text/plain": [
       "<Figure size 720x720 with 0 Axes>"
      ]
     },
     "metadata": {},
     "output_type": "display_data"
    },
    {
     "data": {
      "text/plain": [
       "<Figure size 720x720 with 0 Axes>"
      ]
     },
     "metadata": {},
     "output_type": "display_data"
    },
    {
     "data": {
      "text/plain": [
       "<Figure size 720x720 with 0 Axes>"
      ]
     },
     "metadata": {},
     "output_type": "display_data"
    },
    {
     "data": {
      "text/plain": [
       "<Figure size 720x720 with 0 Axes>"
      ]
     },
     "metadata": {},
     "output_type": "display_data"
    },
    {
     "data": {
      "text/plain": [
       "<Figure size 720x720 with 0 Axes>"
      ]
     },
     "metadata": {},
     "output_type": "display_data"
    },
    {
     "data": {
      "text/plain": [
       "<Figure size 720x720 with 0 Axes>"
      ]
     },
     "metadata": {},
     "output_type": "display_data"
    },
    {
     "data": {
      "text/plain": [
       "<Figure size 720x720 with 0 Axes>"
      ]
     },
     "metadata": {},
     "output_type": "display_data"
    },
    {
     "data": {
      "text/plain": [
       "<Figure size 720x720 with 0 Axes>"
      ]
     },
     "metadata": {},
     "output_type": "display_data"
    },
    {
     "data": {
      "text/plain": [
       "<Figure size 720x720 with 0 Axes>"
      ]
     },
     "metadata": {},
     "output_type": "display_data"
    },
    {
     "data": {
      "text/plain": [
       "<Figure size 720x720 with 0 Axes>"
      ]
     },
     "metadata": {},
     "output_type": "display_data"
    },
    {
     "data": {
      "text/plain": [
       "<Figure size 720x720 with 0 Axes>"
      ]
     },
     "metadata": {},
     "output_type": "display_data"
    },
    {
     "data": {
      "text/plain": [
       "<Figure size 720x720 with 0 Axes>"
      ]
     },
     "metadata": {},
     "output_type": "display_data"
    },
    {
     "data": {
      "text/plain": [
       "<Figure size 720x720 with 0 Axes>"
      ]
     },
     "metadata": {},
     "output_type": "display_data"
    },
    {
     "data": {
      "text/plain": [
       "<Figure size 720x720 with 0 Axes>"
      ]
     },
     "metadata": {},
     "output_type": "display_data"
    },
    {
     "data": {
      "text/plain": [
       "<Figure size 720x720 with 0 Axes>"
      ]
     },
     "metadata": {},
     "output_type": "display_data"
    },
    {
     "data": {
      "text/plain": [
       "<Figure size 720x720 with 0 Axes>"
      ]
     },
     "metadata": {},
     "output_type": "display_data"
    },
    {
     "data": {
      "text/plain": [
       "<Figure size 720x720 with 0 Axes>"
      ]
     },
     "metadata": {},
     "output_type": "display_data"
    },
    {
     "data": {
      "text/plain": [
       "<Figure size 720x720 with 0 Axes>"
      ]
     },
     "metadata": {},
     "output_type": "display_data"
    },
    {
     "data": {
      "text/plain": [
       "<Figure size 720x720 with 0 Axes>"
      ]
     },
     "metadata": {},
     "output_type": "display_data"
    },
    {
     "data": {
      "text/plain": [
       "<Figure size 720x720 with 0 Axes>"
      ]
     },
     "metadata": {},
     "output_type": "display_data"
    },
    {
     "data": {
      "text/plain": [
       "<Figure size 720x720 with 0 Axes>"
      ]
     },
     "metadata": {},
     "output_type": "display_data"
    },
    {
     "data": {
      "text/plain": [
       "<Figure size 720x720 with 0 Axes>"
      ]
     },
     "metadata": {},
     "output_type": "display_data"
    },
    {
     "data": {
      "text/plain": [
       "<Figure size 720x720 with 0 Axes>"
      ]
     },
     "metadata": {},
     "output_type": "display_data"
    },
    {
     "data": {
      "text/plain": [
       "<Figure size 720x720 with 0 Axes>"
      ]
     },
     "metadata": {},
     "output_type": "display_data"
    },
    {
     "data": {
      "text/plain": [
       "<Figure size 720x720 with 0 Axes>"
      ]
     },
     "metadata": {},
     "output_type": "display_data"
    },
    {
     "data": {
      "text/plain": [
       "<Figure size 720x720 with 0 Axes>"
      ]
     },
     "metadata": {},
     "output_type": "display_data"
    },
    {
     "data": {
      "text/plain": [
       "<Figure size 720x720 with 0 Axes>"
      ]
     },
     "metadata": {},
     "output_type": "display_data"
    },
    {
     "data": {
      "text/plain": [
       "<Figure size 720x720 with 0 Axes>"
      ]
     },
     "metadata": {},
     "output_type": "display_data"
    },
    {
     "data": {
      "text/plain": [
       "<Figure size 720x720 with 0 Axes>"
      ]
     },
     "metadata": {},
     "output_type": "display_data"
    },
    {
     "data": {
      "text/plain": [
       "<Figure size 720x720 with 0 Axes>"
      ]
     },
     "metadata": {},
     "output_type": "display_data"
    },
    {
     "data": {
      "text/plain": [
       "<Figure size 720x720 with 0 Axes>"
      ]
     },
     "metadata": {},
     "output_type": "display_data"
    },
    {
     "data": {
      "text/plain": [
       "<Figure size 720x720 with 0 Axes>"
      ]
     },
     "metadata": {},
     "output_type": "display_data"
    },
    {
     "data": {
      "text/plain": [
       "<Figure size 720x720 with 0 Axes>"
      ]
     },
     "metadata": {},
     "output_type": "display_data"
    },
    {
     "data": {
      "text/plain": [
       "<Figure size 720x720 with 0 Axes>"
      ]
     },
     "metadata": {},
     "output_type": "display_data"
    },
    {
     "data": {
      "text/plain": [
       "<Figure size 720x720 with 0 Axes>"
      ]
     },
     "metadata": {},
     "output_type": "display_data"
    },
    {
     "data": {
      "text/plain": [
       "<Figure size 720x720 with 0 Axes>"
      ]
     },
     "metadata": {},
     "output_type": "display_data"
    },
    {
     "data": {
      "text/plain": [
       "<Figure size 720x720 with 0 Axes>"
      ]
     },
     "metadata": {},
     "output_type": "display_data"
    },
    {
     "data": {
      "text/plain": [
       "<Figure size 720x720 with 0 Axes>"
      ]
     },
     "metadata": {},
     "output_type": "display_data"
    },
    {
     "data": {
      "text/plain": [
       "<Figure size 720x720 with 0 Axes>"
      ]
     },
     "metadata": {},
     "output_type": "display_data"
    },
    {
     "data": {
      "text/plain": [
       "<Figure size 720x720 with 0 Axes>"
      ]
     },
     "metadata": {},
     "output_type": "display_data"
    },
    {
     "data": {
      "text/plain": [
       "<Figure size 720x720 with 0 Axes>"
      ]
     },
     "metadata": {},
     "output_type": "display_data"
    },
    {
     "data": {
      "text/plain": [
       "<Figure size 720x720 with 0 Axes>"
      ]
     },
     "metadata": {},
     "output_type": "display_data"
    },
    {
     "data": {
      "text/plain": [
       "<Figure size 720x720 with 0 Axes>"
      ]
     },
     "metadata": {},
     "output_type": "display_data"
    },
    {
     "data": {
      "text/plain": [
       "<Figure size 720x720 with 0 Axes>"
      ]
     },
     "metadata": {},
     "output_type": "display_data"
    },
    {
     "data": {
      "text/plain": [
       "<Figure size 720x720 with 0 Axes>"
      ]
     },
     "metadata": {},
     "output_type": "display_data"
    },
    {
     "data": {
      "text/plain": [
       "<Figure size 720x720 with 0 Axes>"
      ]
     },
     "metadata": {},
     "output_type": "display_data"
    },
    {
     "data": {
      "text/plain": [
       "<Figure size 720x720 with 0 Axes>"
      ]
     },
     "metadata": {},
     "output_type": "display_data"
    },
    {
     "data": {
      "text/plain": [
       "<Figure size 720x720 with 0 Axes>"
      ]
     },
     "metadata": {},
     "output_type": "display_data"
    },
    {
     "data": {
      "text/plain": [
       "<Figure size 720x720 with 0 Axes>"
      ]
     },
     "metadata": {},
     "output_type": "display_data"
    },
    {
     "data": {
      "text/plain": [
       "<Figure size 720x720 with 0 Axes>"
      ]
     },
     "metadata": {},
     "output_type": "display_data"
    },
    {
     "data": {
      "text/plain": [
       "<Figure size 720x720 with 0 Axes>"
      ]
     },
     "metadata": {},
     "output_type": "display_data"
    },
    {
     "data": {
      "text/plain": [
       "<Figure size 720x720 with 0 Axes>"
      ]
     },
     "metadata": {},
     "output_type": "display_data"
    },
    {
     "data": {
      "text/plain": [
       "<Figure size 720x720 with 0 Axes>"
      ]
     },
     "metadata": {},
     "output_type": "display_data"
    },
    {
     "data": {
      "text/plain": [
       "<Figure size 720x720 with 0 Axes>"
      ]
     },
     "metadata": {},
     "output_type": "display_data"
    },
    {
     "data": {
      "text/plain": [
       "<Figure size 720x720 with 0 Axes>"
      ]
     },
     "metadata": {},
     "output_type": "display_data"
    },
    {
     "data": {
      "text/plain": [
       "<Figure size 720x720 with 0 Axes>"
      ]
     },
     "metadata": {},
     "output_type": "display_data"
    },
    {
     "data": {
      "text/plain": [
       "<Figure size 720x720 with 0 Axes>"
      ]
     },
     "metadata": {},
     "output_type": "display_data"
    },
    {
     "data": {
      "text/plain": [
       "<Figure size 720x720 with 0 Axes>"
      ]
     },
     "metadata": {},
     "output_type": "display_data"
    },
    {
     "data": {
      "text/plain": [
       "<Figure size 720x720 with 0 Axes>"
      ]
     },
     "metadata": {},
     "output_type": "display_data"
    },
    {
     "data": {
      "text/plain": [
       "<Figure size 720x720 with 0 Axes>"
      ]
     },
     "metadata": {},
     "output_type": "display_data"
    },
    {
     "data": {
      "text/plain": [
       "<Figure size 720x720 with 0 Axes>"
      ]
     },
     "metadata": {},
     "output_type": "display_data"
    },
    {
     "data": {
      "text/plain": [
       "<Figure size 720x720 with 0 Axes>"
      ]
     },
     "metadata": {},
     "output_type": "display_data"
    },
    {
     "data": {
      "text/plain": [
       "<Figure size 720x720 with 0 Axes>"
      ]
     },
     "metadata": {},
     "output_type": "display_data"
    },
    {
     "data": {
      "text/plain": [
       "<Figure size 720x720 with 0 Axes>"
      ]
     },
     "metadata": {},
     "output_type": "display_data"
    },
    {
     "data": {
      "text/plain": [
       "<Figure size 720x720 with 0 Axes>"
      ]
     },
     "metadata": {},
     "output_type": "display_data"
    },
    {
     "data": {
      "text/plain": [
       "<Figure size 720x720 with 0 Axes>"
      ]
     },
     "metadata": {},
     "output_type": "display_data"
    },
    {
     "data": {
      "text/plain": [
       "<Figure size 720x720 with 0 Axes>"
      ]
     },
     "metadata": {},
     "output_type": "display_data"
    },
    {
     "data": {
      "text/plain": [
       "<Figure size 720x720 with 0 Axes>"
      ]
     },
     "metadata": {},
     "output_type": "display_data"
    },
    {
     "data": {
      "text/plain": [
       "<Figure size 720x720 with 0 Axes>"
      ]
     },
     "metadata": {},
     "output_type": "display_data"
    },
    {
     "data": {
      "text/plain": [
       "<Figure size 720x720 with 0 Axes>"
      ]
     },
     "metadata": {},
     "output_type": "display_data"
    },
    {
     "data": {
      "text/plain": [
       "<Figure size 720x720 with 0 Axes>"
      ]
     },
     "metadata": {},
     "output_type": "display_data"
    },
    {
     "data": {
      "text/plain": [
       "<Figure size 720x720 with 0 Axes>"
      ]
     },
     "metadata": {},
     "output_type": "display_data"
    },
    {
     "data": {
      "text/plain": [
       "<Figure size 720x720 with 0 Axes>"
      ]
     },
     "metadata": {},
     "output_type": "display_data"
    },
    {
     "data": {
      "text/plain": [
       "<Figure size 720x720 with 0 Axes>"
      ]
     },
     "metadata": {},
     "output_type": "display_data"
    },
    {
     "data": {
      "text/plain": [
       "<Figure size 720x720 with 0 Axes>"
      ]
     },
     "metadata": {},
     "output_type": "display_data"
    },
    {
     "data": {
      "text/plain": [
       "<Figure size 720x720 with 0 Axes>"
      ]
     },
     "metadata": {},
     "output_type": "display_data"
    },
    {
     "data": {
      "text/plain": [
       "<Figure size 720x720 with 0 Axes>"
      ]
     },
     "metadata": {},
     "output_type": "display_data"
    },
    {
     "data": {
      "text/plain": [
       "<Figure size 720x720 with 0 Axes>"
      ]
     },
     "metadata": {},
     "output_type": "display_data"
    },
    {
     "data": {
      "text/plain": [
       "<Figure size 720x720 with 0 Axes>"
      ]
     },
     "metadata": {},
     "output_type": "display_data"
    },
    {
     "data": {
      "text/plain": [
       "<Figure size 720x720 with 0 Axes>"
      ]
     },
     "metadata": {},
     "output_type": "display_data"
    },
    {
     "data": {
      "text/plain": [
       "<Figure size 720x720 with 0 Axes>"
      ]
     },
     "metadata": {},
     "output_type": "display_data"
    },
    {
     "data": {
      "text/plain": [
       "<Figure size 720x720 with 0 Axes>"
      ]
     },
     "metadata": {},
     "output_type": "display_data"
    },
    {
     "data": {
      "text/plain": [
       "<Figure size 720x720 with 0 Axes>"
      ]
     },
     "metadata": {},
     "output_type": "display_data"
    },
    {
     "data": {
      "text/plain": [
       "<Figure size 720x720 with 0 Axes>"
      ]
     },
     "metadata": {},
     "output_type": "display_data"
    },
    {
     "data": {
      "text/plain": [
       "<Figure size 720x720 with 0 Axes>"
      ]
     },
     "metadata": {},
     "output_type": "display_data"
    },
    {
     "data": {
      "text/plain": [
       "<Figure size 720x720 with 0 Axes>"
      ]
     },
     "metadata": {},
     "output_type": "display_data"
    },
    {
     "data": {
      "text/plain": [
       "<Figure size 720x720 with 0 Axes>"
      ]
     },
     "metadata": {},
     "output_type": "display_data"
    },
    {
     "data": {
      "text/plain": [
       "<Figure size 720x720 with 0 Axes>"
      ]
     },
     "metadata": {},
     "output_type": "display_data"
    },
    {
     "data": {
      "text/plain": [
       "<Figure size 720x720 with 0 Axes>"
      ]
     },
     "metadata": {},
     "output_type": "display_data"
    },
    {
     "data": {
      "text/plain": [
       "<Figure size 720x720 with 0 Axes>"
      ]
     },
     "metadata": {},
     "output_type": "display_data"
    },
    {
     "data": {
      "text/plain": [
       "<Figure size 720x720 with 0 Axes>"
      ]
     },
     "metadata": {},
     "output_type": "display_data"
    },
    {
     "data": {
      "text/plain": [
       "<Figure size 720x720 with 0 Axes>"
      ]
     },
     "metadata": {},
     "output_type": "display_data"
    },
    {
     "data": {
      "text/plain": [
       "<Figure size 720x720 with 0 Axes>"
      ]
     },
     "metadata": {},
     "output_type": "display_data"
    },
    {
     "data": {
      "text/plain": [
       "<Figure size 720x720 with 0 Axes>"
      ]
     },
     "metadata": {},
     "output_type": "display_data"
    },
    {
     "data": {
      "text/plain": [
       "<Figure size 720x720 with 0 Axes>"
      ]
     },
     "metadata": {},
     "output_type": "display_data"
    },
    {
     "data": {
      "text/plain": [
       "<Figure size 720x720 with 0 Axes>"
      ]
     },
     "metadata": {},
     "output_type": "display_data"
    },
    {
     "data": {
      "text/plain": [
       "<Figure size 720x720 with 0 Axes>"
      ]
     },
     "metadata": {},
     "output_type": "display_data"
    },
    {
     "data": {
      "text/plain": [
       "<Figure size 720x720 with 0 Axes>"
      ]
     },
     "metadata": {},
     "output_type": "display_data"
    },
    {
     "data": {
      "text/plain": [
       "<Figure size 720x720 with 0 Axes>"
      ]
     },
     "metadata": {},
     "output_type": "display_data"
    },
    {
     "data": {
      "text/plain": [
       "<Figure size 720x720 with 0 Axes>"
      ]
     },
     "metadata": {},
     "output_type": "display_data"
    },
    {
     "data": {
      "text/plain": [
       "<Figure size 720x720 with 0 Axes>"
      ]
     },
     "metadata": {},
     "output_type": "display_data"
    },
    {
     "data": {
      "text/plain": [
       "<Figure size 720x720 with 0 Axes>"
      ]
     },
     "metadata": {},
     "output_type": "display_data"
    },
    {
     "data": {
      "text/plain": [
       "<Figure size 720x720 with 0 Axes>"
      ]
     },
     "metadata": {},
     "output_type": "display_data"
    },
    {
     "data": {
      "text/plain": [
       "<Figure size 720x720 with 0 Axes>"
      ]
     },
     "metadata": {},
     "output_type": "display_data"
    },
    {
     "data": {
      "text/plain": [
       "<Figure size 720x720 with 0 Axes>"
      ]
     },
     "metadata": {},
     "output_type": "display_data"
    },
    {
     "data": {
      "text/plain": [
       "<Figure size 720x720 with 0 Axes>"
      ]
     },
     "metadata": {},
     "output_type": "display_data"
    },
    {
     "data": {
      "text/plain": [
       "<Figure size 720x720 with 0 Axes>"
      ]
     },
     "metadata": {},
     "output_type": "display_data"
    },
    {
     "data": {
      "text/plain": [
       "<Figure size 720x720 with 0 Axes>"
      ]
     },
     "metadata": {},
     "output_type": "display_data"
    },
    {
     "data": {
      "text/plain": [
       "<Figure size 720x720 with 0 Axes>"
      ]
     },
     "metadata": {},
     "output_type": "display_data"
    },
    {
     "data": {
      "text/plain": [
       "<Figure size 720x720 with 0 Axes>"
      ]
     },
     "metadata": {},
     "output_type": "display_data"
    },
    {
     "data": {
      "text/plain": [
       "<Figure size 720x720 with 0 Axes>"
      ]
     },
     "metadata": {},
     "output_type": "display_data"
    },
    {
     "data": {
      "text/plain": [
       "<Figure size 720x720 with 0 Axes>"
      ]
     },
     "metadata": {},
     "output_type": "display_data"
    },
    {
     "data": {
      "text/plain": [
       "<Figure size 720x720 with 0 Axes>"
      ]
     },
     "metadata": {},
     "output_type": "display_data"
    },
    {
     "data": {
      "text/plain": [
       "<Figure size 720x720 with 0 Axes>"
      ]
     },
     "metadata": {},
     "output_type": "display_data"
    },
    {
     "data": {
      "text/plain": [
       "<Figure size 720x720 with 0 Axes>"
      ]
     },
     "metadata": {},
     "output_type": "display_data"
    },
    {
     "data": {
      "text/plain": [
       "<Figure size 720x720 with 0 Axes>"
      ]
     },
     "metadata": {},
     "output_type": "display_data"
    },
    {
     "data": {
      "text/plain": [
       "<Figure size 720x720 with 0 Axes>"
      ]
     },
     "metadata": {},
     "output_type": "display_data"
    },
    {
     "data": {
      "text/plain": [
       "<Figure size 720x720 with 0 Axes>"
      ]
     },
     "metadata": {},
     "output_type": "display_data"
    },
    {
     "data": {
      "text/plain": [
       "<Figure size 720x720 with 0 Axes>"
      ]
     },
     "metadata": {},
     "output_type": "display_data"
    },
    {
     "data": {
      "text/plain": [
       "<Figure size 720x720 with 0 Axes>"
      ]
     },
     "metadata": {},
     "output_type": "display_data"
    },
    {
     "data": {
      "text/plain": [
       "<Figure size 720x720 with 0 Axes>"
      ]
     },
     "metadata": {},
     "output_type": "display_data"
    },
    {
     "data": {
      "text/plain": [
       "<Figure size 720x720 with 0 Axes>"
      ]
     },
     "metadata": {},
     "output_type": "display_data"
    },
    {
     "data": {
      "text/plain": [
       "<Figure size 720x720 with 0 Axes>"
      ]
     },
     "metadata": {},
     "output_type": "display_data"
    },
    {
     "data": {
      "text/plain": [
       "<Figure size 720x720 with 0 Axes>"
      ]
     },
     "metadata": {},
     "output_type": "display_data"
    },
    {
     "data": {
      "text/plain": [
       "<Figure size 720x720 with 0 Axes>"
      ]
     },
     "metadata": {},
     "output_type": "display_data"
    },
    {
     "data": {
      "text/plain": [
       "<Figure size 720x720 with 0 Axes>"
      ]
     },
     "metadata": {},
     "output_type": "display_data"
    },
    {
     "data": {
      "text/plain": [
       "<Figure size 720x720 with 0 Axes>"
      ]
     },
     "metadata": {},
     "output_type": "display_data"
    },
    {
     "data": {
      "text/plain": [
       "<Figure size 720x720 with 0 Axes>"
      ]
     },
     "metadata": {},
     "output_type": "display_data"
    },
    {
     "data": {
      "text/plain": [
       "<Figure size 720x720 with 0 Axes>"
      ]
     },
     "metadata": {},
     "output_type": "display_data"
    },
    {
     "data": {
      "text/plain": [
       "<Figure size 720x720 with 0 Axes>"
      ]
     },
     "metadata": {},
     "output_type": "display_data"
    },
    {
     "data": {
      "text/plain": [
       "<Figure size 720x720 with 0 Axes>"
      ]
     },
     "metadata": {},
     "output_type": "display_data"
    },
    {
     "data": {
      "text/plain": [
       "<Figure size 720x720 with 0 Axes>"
      ]
     },
     "metadata": {},
     "output_type": "display_data"
    },
    {
     "data": {
      "text/plain": [
       "<Figure size 720x720 with 0 Axes>"
      ]
     },
     "metadata": {},
     "output_type": "display_data"
    },
    {
     "data": {
      "text/plain": [
       "<Figure size 720x720 with 0 Axes>"
      ]
     },
     "metadata": {},
     "output_type": "display_data"
    },
    {
     "data": {
      "text/plain": [
       "<Figure size 720x720 with 0 Axes>"
      ]
     },
     "metadata": {},
     "output_type": "display_data"
    },
    {
     "data": {
      "text/plain": [
       "<Figure size 720x720 with 0 Axes>"
      ]
     },
     "metadata": {},
     "output_type": "display_data"
    },
    {
     "data": {
      "text/plain": [
       "<Figure size 720x720 with 0 Axes>"
      ]
     },
     "metadata": {},
     "output_type": "display_data"
    },
    {
     "data": {
      "text/plain": [
       "<Figure size 720x720 with 0 Axes>"
      ]
     },
     "metadata": {},
     "output_type": "display_data"
    },
    {
     "data": {
      "text/plain": [
       "<Figure size 720x720 with 0 Axes>"
      ]
     },
     "metadata": {},
     "output_type": "display_data"
    },
    {
     "data": {
      "text/plain": [
       "<Figure size 720x720 with 0 Axes>"
      ]
     },
     "metadata": {},
     "output_type": "display_data"
    },
    {
     "data": {
      "text/plain": [
       "<Figure size 720x720 with 0 Axes>"
      ]
     },
     "metadata": {},
     "output_type": "display_data"
    },
    {
     "data": {
      "text/plain": [
       "<Figure size 720x720 with 0 Axes>"
      ]
     },
     "metadata": {},
     "output_type": "display_data"
    },
    {
     "data": {
      "text/plain": [
       "<Figure size 720x720 with 0 Axes>"
      ]
     },
     "metadata": {},
     "output_type": "display_data"
    },
    {
     "data": {
      "text/plain": [
       "<Figure size 720x720 with 0 Axes>"
      ]
     },
     "metadata": {},
     "output_type": "display_data"
    },
    {
     "data": {
      "text/plain": [
       "<Figure size 720x720 with 0 Axes>"
      ]
     },
     "metadata": {},
     "output_type": "display_data"
    },
    {
     "data": {
      "text/plain": [
       "<Figure size 720x720 with 0 Axes>"
      ]
     },
     "metadata": {},
     "output_type": "display_data"
    },
    {
     "data": {
      "text/plain": [
       "<Figure size 720x720 with 0 Axes>"
      ]
     },
     "metadata": {},
     "output_type": "display_data"
    },
    {
     "data": {
      "text/plain": [
       "<Figure size 720x720 with 0 Axes>"
      ]
     },
     "metadata": {},
     "output_type": "display_data"
    },
    {
     "data": {
      "text/plain": [
       "<Figure size 720x720 with 0 Axes>"
      ]
     },
     "metadata": {},
     "output_type": "display_data"
    },
    {
     "data": {
      "text/plain": [
       "<Figure size 720x720 with 0 Axes>"
      ]
     },
     "metadata": {},
     "output_type": "display_data"
    },
    {
     "data": {
      "text/plain": [
       "<Figure size 720x720 with 0 Axes>"
      ]
     },
     "metadata": {},
     "output_type": "display_data"
    },
    {
     "data": {
      "text/plain": [
       "<Figure size 720x720 with 0 Axes>"
      ]
     },
     "metadata": {},
     "output_type": "display_data"
    },
    {
     "data": {
      "text/plain": [
       "<Figure size 720x720 with 0 Axes>"
      ]
     },
     "metadata": {},
     "output_type": "display_data"
    },
    {
     "data": {
      "text/plain": [
       "<Figure size 720x720 with 0 Axes>"
      ]
     },
     "metadata": {},
     "output_type": "display_data"
    },
    {
     "data": {
      "text/plain": [
       "<Figure size 720x720 with 0 Axes>"
      ]
     },
     "metadata": {},
     "output_type": "display_data"
    },
    {
     "data": {
      "text/plain": [
       "<Figure size 720x720 with 0 Axes>"
      ]
     },
     "metadata": {},
     "output_type": "display_data"
    },
    {
     "data": {
      "text/plain": [
       "<Figure size 720x720 with 0 Axes>"
      ]
     },
     "metadata": {},
     "output_type": "display_data"
    },
    {
     "data": {
      "text/plain": [
       "<Figure size 720x720 with 0 Axes>"
      ]
     },
     "metadata": {},
     "output_type": "display_data"
    },
    {
     "data": {
      "text/plain": [
       "<Figure size 720x720 with 0 Axes>"
      ]
     },
     "metadata": {},
     "output_type": "display_data"
    },
    {
     "data": {
      "text/plain": [
       "<Figure size 720x720 with 0 Axes>"
      ]
     },
     "metadata": {},
     "output_type": "display_data"
    },
    {
     "data": {
      "text/plain": [
       "<Figure size 720x720 with 0 Axes>"
      ]
     },
     "metadata": {},
     "output_type": "display_data"
    },
    {
     "data": {
      "text/plain": [
       "<Figure size 720x720 with 0 Axes>"
      ]
     },
     "metadata": {},
     "output_type": "display_data"
    },
    {
     "data": {
      "text/plain": [
       "<Figure size 720x720 with 0 Axes>"
      ]
     },
     "metadata": {},
     "output_type": "display_data"
    },
    {
     "data": {
      "text/plain": [
       "<Figure size 720x720 with 0 Axes>"
      ]
     },
     "metadata": {},
     "output_type": "display_data"
    },
    {
     "data": {
      "text/plain": [
       "<Figure size 720x720 with 0 Axes>"
      ]
     },
     "metadata": {},
     "output_type": "display_data"
    },
    {
     "data": {
      "text/plain": [
       "<Figure size 720x720 with 0 Axes>"
      ]
     },
     "metadata": {},
     "output_type": "display_data"
    },
    {
     "data": {
      "text/plain": [
       "<Figure size 720x720 with 0 Axes>"
      ]
     },
     "metadata": {},
     "output_type": "display_data"
    },
    {
     "data": {
      "text/plain": [
       "<Figure size 720x720 with 0 Axes>"
      ]
     },
     "metadata": {},
     "output_type": "display_data"
    },
    {
     "data": {
      "text/plain": [
       "<Figure size 720x720 with 0 Axes>"
      ]
     },
     "metadata": {},
     "output_type": "display_data"
    },
    {
     "data": {
      "text/plain": [
       "<Figure size 720x720 with 0 Axes>"
      ]
     },
     "metadata": {},
     "output_type": "display_data"
    },
    {
     "data": {
      "text/plain": [
       "<Figure size 720x720 with 0 Axes>"
      ]
     },
     "metadata": {},
     "output_type": "display_data"
    },
    {
     "data": {
      "text/plain": [
       "<Figure size 720x720 with 0 Axes>"
      ]
     },
     "metadata": {},
     "output_type": "display_data"
    },
    {
     "data": {
      "text/plain": [
       "<Figure size 720x720 with 0 Axes>"
      ]
     },
     "metadata": {},
     "output_type": "display_data"
    },
    {
     "data": {
      "text/plain": [
       "<Figure size 720x720 with 0 Axes>"
      ]
     },
     "metadata": {},
     "output_type": "display_data"
    },
    {
     "data": {
      "text/plain": [
       "<Figure size 720x720 with 0 Axes>"
      ]
     },
     "metadata": {},
     "output_type": "display_data"
    },
    {
     "data": {
      "text/plain": [
       "<Figure size 720x720 with 0 Axes>"
      ]
     },
     "metadata": {},
     "output_type": "display_data"
    },
    {
     "data": {
      "text/plain": [
       "<Figure size 720x720 with 0 Axes>"
      ]
     },
     "metadata": {},
     "output_type": "display_data"
    },
    {
     "data": {
      "text/plain": [
       "<Figure size 720x720 with 0 Axes>"
      ]
     },
     "metadata": {},
     "output_type": "display_data"
    },
    {
     "data": {
      "text/plain": [
       "<Figure size 720x720 with 0 Axes>"
      ]
     },
     "metadata": {},
     "output_type": "display_data"
    },
    {
     "data": {
      "text/plain": [
       "<Figure size 720x720 with 0 Axes>"
      ]
     },
     "metadata": {},
     "output_type": "display_data"
    },
    {
     "data": {
      "text/plain": [
       "<Figure size 720x720 with 0 Axes>"
      ]
     },
     "metadata": {},
     "output_type": "display_data"
    },
    {
     "data": {
      "text/plain": [
       "<Figure size 720x720 with 0 Axes>"
      ]
     },
     "metadata": {},
     "output_type": "display_data"
    },
    {
     "data": {
      "text/plain": [
       "<Figure size 720x720 with 0 Axes>"
      ]
     },
     "metadata": {},
     "output_type": "display_data"
    },
    {
     "data": {
      "text/plain": [
       "<Figure size 720x720 with 0 Axes>"
      ]
     },
     "metadata": {},
     "output_type": "display_data"
    },
    {
     "data": {
      "text/plain": [
       "<Figure size 720x720 with 0 Axes>"
      ]
     },
     "metadata": {},
     "output_type": "display_data"
    },
    {
     "data": {
      "text/plain": [
       "<Figure size 720x720 with 0 Axes>"
      ]
     },
     "metadata": {},
     "output_type": "display_data"
    },
    {
     "data": {
      "text/plain": [
       "<Figure size 720x720 with 0 Axes>"
      ]
     },
     "metadata": {},
     "output_type": "display_data"
    },
    {
     "data": {
      "text/plain": [
       "<Figure size 720x720 with 0 Axes>"
      ]
     },
     "metadata": {},
     "output_type": "display_data"
    },
    {
     "data": {
      "text/plain": [
       "<Figure size 720x720 with 0 Axes>"
      ]
     },
     "metadata": {},
     "output_type": "display_data"
    },
    {
     "data": {
      "text/plain": [
       "<Figure size 720x720 with 0 Axes>"
      ]
     },
     "metadata": {},
     "output_type": "display_data"
    },
    {
     "data": {
      "text/plain": [
       "<Figure size 720x720 with 0 Axes>"
      ]
     },
     "metadata": {},
     "output_type": "display_data"
    },
    {
     "data": {
      "text/plain": [
       "<Figure size 720x720 with 0 Axes>"
      ]
     },
     "metadata": {},
     "output_type": "display_data"
    },
    {
     "data": {
      "text/plain": [
       "<Figure size 720x720 with 0 Axes>"
      ]
     },
     "metadata": {},
     "output_type": "display_data"
    },
    {
     "data": {
      "text/plain": [
       "<Figure size 720x720 with 0 Axes>"
      ]
     },
     "metadata": {},
     "output_type": "display_data"
    },
    {
     "data": {
      "text/plain": [
       "<Figure size 720x720 with 0 Axes>"
      ]
     },
     "metadata": {},
     "output_type": "display_data"
    },
    {
     "data": {
      "text/plain": [
       "<Figure size 720x720 with 0 Axes>"
      ]
     },
     "metadata": {},
     "output_type": "display_data"
    },
    {
     "data": {
      "text/plain": [
       "<Figure size 720x720 with 0 Axes>"
      ]
     },
     "metadata": {},
     "output_type": "display_data"
    },
    {
     "data": {
      "text/plain": [
       "<Figure size 720x720 with 0 Axes>"
      ]
     },
     "metadata": {},
     "output_type": "display_data"
    },
    {
     "data": {
      "text/plain": [
       "<Figure size 720x720 with 0 Axes>"
      ]
     },
     "metadata": {},
     "output_type": "display_data"
    },
    {
     "data": {
      "text/plain": [
       "<Figure size 720x720 with 0 Axes>"
      ]
     },
     "metadata": {},
     "output_type": "display_data"
    },
    {
     "data": {
      "text/plain": [
       "<Figure size 720x720 with 0 Axes>"
      ]
     },
     "metadata": {},
     "output_type": "display_data"
    },
    {
     "data": {
      "text/plain": [
       "<Figure size 720x720 with 0 Axes>"
      ]
     },
     "metadata": {},
     "output_type": "display_data"
    },
    {
     "data": {
      "text/plain": [
       "<Figure size 720x720 with 0 Axes>"
      ]
     },
     "metadata": {},
     "output_type": "display_data"
    },
    {
     "data": {
      "text/plain": [
       "<Figure size 720x720 with 0 Axes>"
      ]
     },
     "metadata": {},
     "output_type": "display_data"
    },
    {
     "data": {
      "text/plain": [
       "<Figure size 720x720 with 0 Axes>"
      ]
     },
     "metadata": {},
     "output_type": "display_data"
    },
    {
     "data": {
      "text/plain": [
       "<Figure size 720x720 with 0 Axes>"
      ]
     },
     "metadata": {},
     "output_type": "display_data"
    },
    {
     "data": {
      "text/plain": [
       "<Figure size 720x720 with 0 Axes>"
      ]
     },
     "metadata": {},
     "output_type": "display_data"
    },
    {
     "data": {
      "text/plain": [
       "<Figure size 720x720 with 0 Axes>"
      ]
     },
     "metadata": {},
     "output_type": "display_data"
    },
    {
     "data": {
      "text/plain": [
       "<Figure size 720x720 with 0 Axes>"
      ]
     },
     "metadata": {},
     "output_type": "display_data"
    },
    {
     "data": {
      "text/plain": [
       "<Figure size 720x720 with 0 Axes>"
      ]
     },
     "metadata": {},
     "output_type": "display_data"
    },
    {
     "data": {
      "text/plain": [
       "<Figure size 720x720 with 0 Axes>"
      ]
     },
     "metadata": {},
     "output_type": "display_data"
    },
    {
     "data": {
      "text/plain": [
       "<Figure size 720x720 with 0 Axes>"
      ]
     },
     "metadata": {},
     "output_type": "display_data"
    },
    {
     "data": {
      "text/plain": [
       "<Figure size 720x720 with 0 Axes>"
      ]
     },
     "metadata": {},
     "output_type": "display_data"
    },
    {
     "data": {
      "text/plain": [
       "<Figure size 720x720 with 0 Axes>"
      ]
     },
     "metadata": {},
     "output_type": "display_data"
    },
    {
     "data": {
      "text/plain": [
       "<Figure size 720x720 with 0 Axes>"
      ]
     },
     "metadata": {},
     "output_type": "display_data"
    },
    {
     "data": {
      "text/plain": [
       "<Figure size 720x720 with 0 Axes>"
      ]
     },
     "metadata": {},
     "output_type": "display_data"
    },
    {
     "data": {
      "text/plain": [
       "<Figure size 720x720 with 0 Axes>"
      ]
     },
     "metadata": {},
     "output_type": "display_data"
    },
    {
     "data": {
      "text/plain": [
       "<Figure size 720x720 with 0 Axes>"
      ]
     },
     "metadata": {},
     "output_type": "display_data"
    },
    {
     "data": {
      "text/plain": [
       "<Figure size 720x720 with 0 Axes>"
      ]
     },
     "metadata": {},
     "output_type": "display_data"
    },
    {
     "data": {
      "text/plain": [
       "<Figure size 720x720 with 0 Axes>"
      ]
     },
     "metadata": {},
     "output_type": "display_data"
    },
    {
     "data": {
      "text/plain": [
       "<Figure size 720x720 with 0 Axes>"
      ]
     },
     "metadata": {},
     "output_type": "display_data"
    },
    {
     "data": {
      "text/plain": [
       "<Figure size 720x720 with 0 Axes>"
      ]
     },
     "metadata": {},
     "output_type": "display_data"
    },
    {
     "data": {
      "text/plain": [
       "<Figure size 720x720 with 0 Axes>"
      ]
     },
     "metadata": {},
     "output_type": "display_data"
    },
    {
     "data": {
      "text/plain": [
       "<Figure size 720x720 with 0 Axes>"
      ]
     },
     "metadata": {},
     "output_type": "display_data"
    },
    {
     "data": {
      "text/plain": [
       "<Figure size 720x720 with 0 Axes>"
      ]
     },
     "metadata": {},
     "output_type": "display_data"
    },
    {
     "data": {
      "text/plain": [
       "<Figure size 720x720 with 0 Axes>"
      ]
     },
     "metadata": {},
     "output_type": "display_data"
    },
    {
     "data": {
      "text/plain": [
       "<Figure size 720x720 with 0 Axes>"
      ]
     },
     "metadata": {},
     "output_type": "display_data"
    },
    {
     "data": {
      "text/plain": [
       "<Figure size 720x720 with 0 Axes>"
      ]
     },
     "metadata": {},
     "output_type": "display_data"
    },
    {
     "data": {
      "text/plain": [
       "<Figure size 720x720 with 0 Axes>"
      ]
     },
     "metadata": {},
     "output_type": "display_data"
    },
    {
     "data": {
      "text/plain": [
       "<Figure size 720x720 with 0 Axes>"
      ]
     },
     "metadata": {},
     "output_type": "display_data"
    },
    {
     "data": {
      "text/plain": [
       "<Figure size 720x720 with 0 Axes>"
      ]
     },
     "metadata": {},
     "output_type": "display_data"
    },
    {
     "data": {
      "text/plain": [
       "<Figure size 720x720 with 0 Axes>"
      ]
     },
     "metadata": {},
     "output_type": "display_data"
    },
    {
     "data": {
      "text/plain": [
       "<Figure size 720x720 with 0 Axes>"
      ]
     },
     "metadata": {},
     "output_type": "display_data"
    },
    {
     "data": {
      "text/plain": [
       "<Figure size 720x720 with 0 Axes>"
      ]
     },
     "metadata": {},
     "output_type": "display_data"
    },
    {
     "data": {
      "text/plain": [
       "<Figure size 720x720 with 0 Axes>"
      ]
     },
     "metadata": {},
     "output_type": "display_data"
    },
    {
     "data": {
      "text/plain": [
       "<Figure size 720x720 with 0 Axes>"
      ]
     },
     "metadata": {},
     "output_type": "display_data"
    },
    {
     "data": {
      "text/plain": [
       "<Figure size 720x720 with 0 Axes>"
      ]
     },
     "metadata": {},
     "output_type": "display_data"
    },
    {
     "data": {
      "text/plain": [
       "<Figure size 720x720 with 0 Axes>"
      ]
     },
     "metadata": {},
     "output_type": "display_data"
    },
    {
     "data": {
      "text/plain": [
       "<Figure size 720x720 with 0 Axes>"
      ]
     },
     "metadata": {},
     "output_type": "display_data"
    },
    {
     "data": {
      "text/plain": [
       "<Figure size 720x720 with 0 Axes>"
      ]
     },
     "metadata": {},
     "output_type": "display_data"
    },
    {
     "data": {
      "text/plain": [
       "<Figure size 720x720 with 0 Axes>"
      ]
     },
     "metadata": {},
     "output_type": "display_data"
    },
    {
     "data": {
      "text/plain": [
       "<Figure size 720x720 with 0 Axes>"
      ]
     },
     "metadata": {},
     "output_type": "display_data"
    },
    {
     "data": {
      "text/plain": [
       "<Figure size 720x720 with 0 Axes>"
      ]
     },
     "metadata": {},
     "output_type": "display_data"
    },
    {
     "data": {
      "text/plain": [
       "<Figure size 720x720 with 0 Axes>"
      ]
     },
     "metadata": {},
     "output_type": "display_data"
    },
    {
     "data": {
      "text/plain": [
       "<Figure size 720x720 with 0 Axes>"
      ]
     },
     "metadata": {},
     "output_type": "display_data"
    },
    {
     "data": {
      "text/plain": [
       "<Figure size 720x720 with 0 Axes>"
      ]
     },
     "metadata": {},
     "output_type": "display_data"
    },
    {
     "data": {
      "text/plain": [
       "<Figure size 720x720 with 0 Axes>"
      ]
     },
     "metadata": {},
     "output_type": "display_data"
    },
    {
     "data": {
      "text/plain": [
       "<Figure size 720x720 with 0 Axes>"
      ]
     },
     "metadata": {},
     "output_type": "display_data"
    },
    {
     "data": {
      "text/plain": [
       "<Figure size 720x720 with 0 Axes>"
      ]
     },
     "metadata": {},
     "output_type": "display_data"
    },
    {
     "data": {
      "text/plain": [
       "<Figure size 720x720 with 0 Axes>"
      ]
     },
     "metadata": {},
     "output_type": "display_data"
    },
    {
     "data": {
      "text/plain": [
       "<Figure size 720x720 with 0 Axes>"
      ]
     },
     "metadata": {},
     "output_type": "display_data"
    },
    {
     "data": {
      "text/plain": [
       "<Figure size 720x720 with 0 Axes>"
      ]
     },
     "metadata": {},
     "output_type": "display_data"
    },
    {
     "data": {
      "text/plain": [
       "<Figure size 720x720 with 0 Axes>"
      ]
     },
     "metadata": {},
     "output_type": "display_data"
    },
    {
     "data": {
      "text/plain": [
       "<Figure size 720x720 with 0 Axes>"
      ]
     },
     "metadata": {},
     "output_type": "display_data"
    },
    {
     "data": {
      "text/plain": [
       "<Figure size 720x720 with 0 Axes>"
      ]
     },
     "metadata": {},
     "output_type": "display_data"
    },
    {
     "data": {
      "text/plain": [
       "<Figure size 720x720 with 0 Axes>"
      ]
     },
     "metadata": {},
     "output_type": "display_data"
    },
    {
     "data": {
      "text/plain": [
       "<Figure size 720x720 with 0 Axes>"
      ]
     },
     "metadata": {},
     "output_type": "display_data"
    },
    {
     "data": {
      "text/plain": [
       "<Figure size 720x720 with 0 Axes>"
      ]
     },
     "metadata": {},
     "output_type": "display_data"
    },
    {
     "data": {
      "text/plain": [
       "<Figure size 720x720 with 0 Axes>"
      ]
     },
     "metadata": {},
     "output_type": "display_data"
    },
    {
     "data": {
      "text/plain": [
       "<Figure size 720x720 with 0 Axes>"
      ]
     },
     "metadata": {},
     "output_type": "display_data"
    },
    {
     "data": {
      "text/plain": [
       "<Figure size 720x720 with 0 Axes>"
      ]
     },
     "metadata": {},
     "output_type": "display_data"
    },
    {
     "data": {
      "text/plain": [
       "<Figure size 720x720 with 0 Axes>"
      ]
     },
     "metadata": {},
     "output_type": "display_data"
    },
    {
     "data": {
      "text/plain": [
       "<Figure size 720x720 with 0 Axes>"
      ]
     },
     "metadata": {},
     "output_type": "display_data"
    },
    {
     "data": {
      "text/plain": [
       "<Figure size 720x720 with 0 Axes>"
      ]
     },
     "metadata": {},
     "output_type": "display_data"
    },
    {
     "data": {
      "text/plain": [
       "<Figure size 720x720 with 0 Axes>"
      ]
     },
     "metadata": {},
     "output_type": "display_data"
    },
    {
     "data": {
      "text/plain": [
       "<Figure size 720x720 with 0 Axes>"
      ]
     },
     "metadata": {},
     "output_type": "display_data"
    },
    {
     "data": {
      "text/plain": [
       "<Figure size 720x720 with 0 Axes>"
      ]
     },
     "metadata": {},
     "output_type": "display_data"
    },
    {
     "data": {
      "text/plain": [
       "<Figure size 720x720 with 0 Axes>"
      ]
     },
     "metadata": {},
     "output_type": "display_data"
    },
    {
     "data": {
      "text/plain": [
       "<Figure size 720x720 with 0 Axes>"
      ]
     },
     "metadata": {},
     "output_type": "display_data"
    },
    {
     "data": {
      "text/plain": [
       "<Figure size 720x720 with 0 Axes>"
      ]
     },
     "metadata": {},
     "output_type": "display_data"
    },
    {
     "data": {
      "text/plain": [
       "<Figure size 720x720 with 0 Axes>"
      ]
     },
     "metadata": {},
     "output_type": "display_data"
    },
    {
     "data": {
      "text/plain": [
       "<Figure size 720x720 with 0 Axes>"
      ]
     },
     "metadata": {},
     "output_type": "display_data"
    },
    {
     "data": {
      "text/plain": [
       "<Figure size 720x720 with 0 Axes>"
      ]
     },
     "metadata": {},
     "output_type": "display_data"
    },
    {
     "data": {
      "text/plain": [
       "<Figure size 720x720 with 0 Axes>"
      ]
     },
     "metadata": {},
     "output_type": "display_data"
    },
    {
     "data": {
      "text/plain": [
       "<Figure size 720x720 with 0 Axes>"
      ]
     },
     "metadata": {},
     "output_type": "display_data"
    },
    {
     "data": {
      "text/plain": [
       "<Figure size 720x720 with 0 Axes>"
      ]
     },
     "metadata": {},
     "output_type": "display_data"
    },
    {
     "data": {
      "text/plain": [
       "<Figure size 720x720 with 0 Axes>"
      ]
     },
     "metadata": {},
     "output_type": "display_data"
    },
    {
     "data": {
      "text/plain": [
       "<Figure size 720x720 with 0 Axes>"
      ]
     },
     "metadata": {},
     "output_type": "display_data"
    },
    {
     "data": {
      "text/plain": [
       "<Figure size 720x720 with 0 Axes>"
      ]
     },
     "metadata": {},
     "output_type": "display_data"
    },
    {
     "data": {
      "text/plain": [
       "<Figure size 720x720 with 0 Axes>"
      ]
     },
     "metadata": {},
     "output_type": "display_data"
    },
    {
     "data": {
      "text/plain": [
       "<Figure size 720x720 with 0 Axes>"
      ]
     },
     "metadata": {},
     "output_type": "display_data"
    },
    {
     "data": {
      "text/plain": [
       "<Figure size 720x720 with 0 Axes>"
      ]
     },
     "metadata": {},
     "output_type": "display_data"
    },
    {
     "data": {
      "text/plain": [
       "<Figure size 720x720 with 0 Axes>"
      ]
     },
     "metadata": {},
     "output_type": "display_data"
    },
    {
     "data": {
      "text/plain": [
       "<Figure size 720x720 with 0 Axes>"
      ]
     },
     "metadata": {},
     "output_type": "display_data"
    },
    {
     "data": {
      "text/plain": [
       "<Figure size 720x720 with 0 Axes>"
      ]
     },
     "metadata": {},
     "output_type": "display_data"
    },
    {
     "data": {
      "text/plain": [
       "<Figure size 720x720 with 0 Axes>"
      ]
     },
     "metadata": {},
     "output_type": "display_data"
    },
    {
     "data": {
      "text/plain": [
       "<Figure size 720x720 with 0 Axes>"
      ]
     },
     "metadata": {},
     "output_type": "display_data"
    },
    {
     "data": {
      "text/plain": [
       "<Figure size 720x720 with 0 Axes>"
      ]
     },
     "metadata": {},
     "output_type": "display_data"
    },
    {
     "data": {
      "text/plain": [
       "<Figure size 720x720 with 0 Axes>"
      ]
     },
     "metadata": {},
     "output_type": "display_data"
    },
    {
     "data": {
      "text/plain": [
       "<Figure size 720x720 with 0 Axes>"
      ]
     },
     "metadata": {},
     "output_type": "display_data"
    },
    {
     "data": {
      "text/plain": [
       "<Figure size 720x720 with 0 Axes>"
      ]
     },
     "metadata": {},
     "output_type": "display_data"
    },
    {
     "data": {
      "text/plain": [
       "<Figure size 720x720 with 0 Axes>"
      ]
     },
     "metadata": {},
     "output_type": "display_data"
    },
    {
     "data": {
      "text/plain": [
       "<Figure size 720x720 with 0 Axes>"
      ]
     },
     "metadata": {},
     "output_type": "display_data"
    },
    {
     "data": {
      "text/plain": [
       "<Figure size 720x720 with 0 Axes>"
      ]
     },
     "metadata": {},
     "output_type": "display_data"
    },
    {
     "data": {
      "text/plain": [
       "<Figure size 720x720 with 0 Axes>"
      ]
     },
     "metadata": {},
     "output_type": "display_data"
    },
    {
     "data": {
      "text/plain": [
       "<Figure size 720x720 with 0 Axes>"
      ]
     },
     "metadata": {},
     "output_type": "display_data"
    },
    {
     "data": {
      "text/plain": [
       "<Figure size 720x720 with 0 Axes>"
      ]
     },
     "metadata": {},
     "output_type": "display_data"
    },
    {
     "data": {
      "text/plain": [
       "<Figure size 720x720 with 0 Axes>"
      ]
     },
     "metadata": {},
     "output_type": "display_data"
    },
    {
     "data": {
      "text/plain": [
       "<Figure size 720x720 with 0 Axes>"
      ]
     },
     "metadata": {},
     "output_type": "display_data"
    },
    {
     "data": {
      "text/plain": [
       "<Figure size 720x720 with 0 Axes>"
      ]
     },
     "metadata": {},
     "output_type": "display_data"
    },
    {
     "data": {
      "text/plain": [
       "<Figure size 720x720 with 0 Axes>"
      ]
     },
     "metadata": {},
     "output_type": "display_data"
    },
    {
     "data": {
      "text/plain": [
       "<Figure size 720x720 with 0 Axes>"
      ]
     },
     "metadata": {},
     "output_type": "display_data"
    },
    {
     "data": {
      "text/plain": [
       "<Figure size 720x720 with 0 Axes>"
      ]
     },
     "metadata": {},
     "output_type": "display_data"
    },
    {
     "data": {
      "text/plain": [
       "<Figure size 720x720 with 0 Axes>"
      ]
     },
     "metadata": {},
     "output_type": "display_data"
    },
    {
     "data": {
      "text/plain": [
       "<Figure size 720x720 with 0 Axes>"
      ]
     },
     "metadata": {},
     "output_type": "display_data"
    },
    {
     "data": {
      "text/plain": [
       "<Figure size 720x720 with 0 Axes>"
      ]
     },
     "metadata": {},
     "output_type": "display_data"
    },
    {
     "data": {
      "text/plain": [
       "<Figure size 720x720 with 0 Axes>"
      ]
     },
     "metadata": {},
     "output_type": "display_data"
    },
    {
     "data": {
      "text/plain": [
       "<Figure size 720x720 with 0 Axes>"
      ]
     },
     "metadata": {},
     "output_type": "display_data"
    },
    {
     "data": {
      "text/plain": [
       "<Figure size 720x720 with 0 Axes>"
      ]
     },
     "metadata": {},
     "output_type": "display_data"
    },
    {
     "data": {
      "text/plain": [
       "<Figure size 720x720 with 0 Axes>"
      ]
     },
     "metadata": {},
     "output_type": "display_data"
    },
    {
     "data": {
      "text/plain": [
       "<Figure size 720x720 with 0 Axes>"
      ]
     },
     "metadata": {},
     "output_type": "display_data"
    },
    {
     "data": {
      "text/plain": [
       "<Figure size 720x720 with 0 Axes>"
      ]
     },
     "metadata": {},
     "output_type": "display_data"
    },
    {
     "data": {
      "text/plain": [
       "<Figure size 720x720 with 0 Axes>"
      ]
     },
     "metadata": {},
     "output_type": "display_data"
    },
    {
     "data": {
      "text/plain": [
       "<Figure size 720x720 with 0 Axes>"
      ]
     },
     "metadata": {},
     "output_type": "display_data"
    },
    {
     "data": {
      "text/plain": [
       "<Figure size 720x720 with 0 Axes>"
      ]
     },
     "metadata": {},
     "output_type": "display_data"
    },
    {
     "data": {
      "text/plain": [
       "<Figure size 720x720 with 0 Axes>"
      ]
     },
     "metadata": {},
     "output_type": "display_data"
    },
    {
     "data": {
      "text/plain": [
       "<Figure size 720x720 with 0 Axes>"
      ]
     },
     "metadata": {},
     "output_type": "display_data"
    },
    {
     "data": {
      "text/plain": [
       "<Figure size 720x720 with 0 Axes>"
      ]
     },
     "metadata": {},
     "output_type": "display_data"
    },
    {
     "data": {
      "text/plain": [
       "<Figure size 720x720 with 0 Axes>"
      ]
     },
     "metadata": {},
     "output_type": "display_data"
    },
    {
     "data": {
      "text/plain": [
       "<Figure size 720x720 with 0 Axes>"
      ]
     },
     "metadata": {},
     "output_type": "display_data"
    },
    {
     "data": {
      "text/plain": [
       "<Figure size 720x720 with 0 Axes>"
      ]
     },
     "metadata": {},
     "output_type": "display_data"
    },
    {
     "data": {
      "text/plain": [
       "<Figure size 720x720 with 0 Axes>"
      ]
     },
     "metadata": {},
     "output_type": "display_data"
    },
    {
     "data": {
      "text/plain": [
       "<Figure size 720x720 with 0 Axes>"
      ]
     },
     "metadata": {},
     "output_type": "display_data"
    },
    {
     "data": {
      "text/plain": [
       "<Figure size 720x720 with 0 Axes>"
      ]
     },
     "metadata": {},
     "output_type": "display_data"
    },
    {
     "data": {
      "text/plain": [
       "<Figure size 720x720 with 0 Axes>"
      ]
     },
     "metadata": {},
     "output_type": "display_data"
    },
    {
     "data": {
      "text/plain": [
       "<Figure size 720x720 with 0 Axes>"
      ]
     },
     "metadata": {},
     "output_type": "display_data"
    },
    {
     "data": {
      "text/plain": [
       "<Figure size 720x720 with 0 Axes>"
      ]
     },
     "metadata": {},
     "output_type": "display_data"
    },
    {
     "data": {
      "text/plain": [
       "<Figure size 720x720 with 0 Axes>"
      ]
     },
     "metadata": {},
     "output_type": "display_data"
    },
    {
     "data": {
      "text/plain": [
       "<Figure size 720x720 with 0 Axes>"
      ]
     },
     "metadata": {},
     "output_type": "display_data"
    },
    {
     "data": {
      "text/plain": [
       "<Figure size 720x720 with 0 Axes>"
      ]
     },
     "metadata": {},
     "output_type": "display_data"
    },
    {
     "data": {
      "text/plain": [
       "<Figure size 720x720 with 0 Axes>"
      ]
     },
     "metadata": {},
     "output_type": "display_data"
    },
    {
     "data": {
      "text/plain": [
       "<Figure size 720x720 with 0 Axes>"
      ]
     },
     "metadata": {},
     "output_type": "display_data"
    },
    {
     "data": {
      "text/plain": [
       "<Figure size 720x720 with 0 Axes>"
      ]
     },
     "metadata": {},
     "output_type": "display_data"
    },
    {
     "data": {
      "text/plain": [
       "<Figure size 720x720 with 0 Axes>"
      ]
     },
     "metadata": {},
     "output_type": "display_data"
    },
    {
     "data": {
      "text/plain": [
       "<Figure size 720x720 with 0 Axes>"
      ]
     },
     "metadata": {},
     "output_type": "display_data"
    },
    {
     "data": {
      "text/plain": [
       "<Figure size 720x720 with 0 Axes>"
      ]
     },
     "metadata": {},
     "output_type": "display_data"
    },
    {
     "data": {
      "text/plain": [
       "<Figure size 720x720 with 0 Axes>"
      ]
     },
     "metadata": {},
     "output_type": "display_data"
    },
    {
     "data": {
      "text/plain": [
       "<Figure size 720x720 with 0 Axes>"
      ]
     },
     "metadata": {},
     "output_type": "display_data"
    },
    {
     "data": {
      "text/plain": [
       "<Figure size 720x720 with 0 Axes>"
      ]
     },
     "metadata": {},
     "output_type": "display_data"
    },
    {
     "data": {
      "text/plain": [
       "<Figure size 720x720 with 0 Axes>"
      ]
     },
     "metadata": {},
     "output_type": "display_data"
    },
    {
     "data": {
      "text/plain": [
       "<Figure size 720x720 with 0 Axes>"
      ]
     },
     "metadata": {},
     "output_type": "display_data"
    },
    {
     "data": {
      "text/plain": [
       "<Figure size 720x720 with 0 Axes>"
      ]
     },
     "metadata": {},
     "output_type": "display_data"
    },
    {
     "data": {
      "text/plain": [
       "<Figure size 720x720 with 0 Axes>"
      ]
     },
     "metadata": {},
     "output_type": "display_data"
    },
    {
     "data": {
      "text/plain": [
       "<Figure size 720x720 with 0 Axes>"
      ]
     },
     "metadata": {},
     "output_type": "display_data"
    },
    {
     "data": {
      "text/plain": [
       "<Figure size 720x720 with 0 Axes>"
      ]
     },
     "metadata": {},
     "output_type": "display_data"
    },
    {
     "data": {
      "text/plain": [
       "<Figure size 720x720 with 0 Axes>"
      ]
     },
     "metadata": {},
     "output_type": "display_data"
    },
    {
     "data": {
      "text/plain": [
       "<Figure size 720x720 with 0 Axes>"
      ]
     },
     "metadata": {},
     "output_type": "display_data"
    },
    {
     "data": {
      "text/plain": [
       "<Figure size 720x720 with 0 Axes>"
      ]
     },
     "metadata": {},
     "output_type": "display_data"
    },
    {
     "data": {
      "text/plain": [
       "<Figure size 720x720 with 0 Axes>"
      ]
     },
     "metadata": {},
     "output_type": "display_data"
    },
    {
     "data": {
      "text/plain": [
       "<Figure size 720x720 with 0 Axes>"
      ]
     },
     "metadata": {},
     "output_type": "display_data"
    },
    {
     "data": {
      "text/plain": [
       "<Figure size 720x720 with 0 Axes>"
      ]
     },
     "metadata": {},
     "output_type": "display_data"
    },
    {
     "data": {
      "text/plain": [
       "<Figure size 720x720 with 0 Axes>"
      ]
     },
     "metadata": {},
     "output_type": "display_data"
    },
    {
     "data": {
      "text/plain": [
       "<Figure size 720x720 with 0 Axes>"
      ]
     },
     "metadata": {},
     "output_type": "display_data"
    },
    {
     "data": {
      "text/plain": [
       "<Figure size 720x720 with 0 Axes>"
      ]
     },
     "metadata": {},
     "output_type": "display_data"
    },
    {
     "data": {
      "text/plain": [
       "<Figure size 720x720 with 0 Axes>"
      ]
     },
     "metadata": {},
     "output_type": "display_data"
    },
    {
     "data": {
      "text/plain": [
       "<Figure size 720x720 with 0 Axes>"
      ]
     },
     "metadata": {},
     "output_type": "display_data"
    },
    {
     "data": {
      "text/plain": [
       "<Figure size 720x720 with 0 Axes>"
      ]
     },
     "metadata": {},
     "output_type": "display_data"
    },
    {
     "data": {
      "text/plain": [
       "<Figure size 720x720 with 0 Axes>"
      ]
     },
     "metadata": {},
     "output_type": "display_data"
    },
    {
     "data": {
      "text/plain": [
       "<Figure size 720x720 with 0 Axes>"
      ]
     },
     "metadata": {},
     "output_type": "display_data"
    },
    {
     "data": {
      "text/plain": [
       "<Figure size 720x720 with 0 Axes>"
      ]
     },
     "metadata": {},
     "output_type": "display_data"
    },
    {
     "data": {
      "text/plain": [
       "<Figure size 720x720 with 0 Axes>"
      ]
     },
     "metadata": {},
     "output_type": "display_data"
    },
    {
     "data": {
      "text/plain": [
       "<Figure size 720x720 with 0 Axes>"
      ]
     },
     "metadata": {},
     "output_type": "display_data"
    },
    {
     "data": {
      "text/plain": [
       "<Figure size 720x720 with 0 Axes>"
      ]
     },
     "metadata": {},
     "output_type": "display_data"
    },
    {
     "data": {
      "text/plain": [
       "<Figure size 720x720 with 0 Axes>"
      ]
     },
     "metadata": {},
     "output_type": "display_data"
    },
    {
     "data": {
      "text/plain": [
       "<Figure size 720x720 with 0 Axes>"
      ]
     },
     "metadata": {},
     "output_type": "display_data"
    },
    {
     "data": {
      "text/plain": [
       "<Figure size 720x720 with 0 Axes>"
      ]
     },
     "metadata": {},
     "output_type": "display_data"
    },
    {
     "data": {
      "text/plain": [
       "<Figure size 720x720 with 0 Axes>"
      ]
     },
     "metadata": {},
     "output_type": "display_data"
    },
    {
     "data": {
      "text/plain": [
       "<Figure size 720x720 with 0 Axes>"
      ]
     },
     "metadata": {},
     "output_type": "display_data"
    },
    {
     "data": {
      "text/plain": [
       "<Figure size 720x720 with 0 Axes>"
      ]
     },
     "metadata": {},
     "output_type": "display_data"
    },
    {
     "data": {
      "text/plain": [
       "<Figure size 720x720 with 0 Axes>"
      ]
     },
     "metadata": {},
     "output_type": "display_data"
    },
    {
     "data": {
      "text/plain": [
       "<Figure size 720x720 with 0 Axes>"
      ]
     },
     "metadata": {},
     "output_type": "display_data"
    },
    {
     "data": {
      "text/plain": [
       "<Figure size 720x720 with 0 Axes>"
      ]
     },
     "metadata": {},
     "output_type": "display_data"
    },
    {
     "data": {
      "text/plain": [
       "<Figure size 720x720 with 0 Axes>"
      ]
     },
     "metadata": {},
     "output_type": "display_data"
    },
    {
     "data": {
      "text/plain": [
       "<Figure size 720x720 with 0 Axes>"
      ]
     },
     "metadata": {},
     "output_type": "display_data"
    },
    {
     "data": {
      "text/plain": [
       "<Figure size 720x720 with 0 Axes>"
      ]
     },
     "metadata": {},
     "output_type": "display_data"
    },
    {
     "data": {
      "text/plain": [
       "<Figure size 720x720 with 0 Axes>"
      ]
     },
     "metadata": {},
     "output_type": "display_data"
    },
    {
     "data": {
      "text/plain": [
       "<Figure size 720x720 with 0 Axes>"
      ]
     },
     "metadata": {},
     "output_type": "display_data"
    },
    {
     "data": {
      "text/plain": [
       "<Figure size 720x720 with 0 Axes>"
      ]
     },
     "metadata": {},
     "output_type": "display_data"
    },
    {
     "data": {
      "text/plain": [
       "<Figure size 720x720 with 0 Axes>"
      ]
     },
     "metadata": {},
     "output_type": "display_data"
    },
    {
     "data": {
      "text/plain": [
       "<Figure size 720x720 with 0 Axes>"
      ]
     },
     "metadata": {},
     "output_type": "display_data"
    },
    {
     "data": {
      "text/plain": [
       "<Figure size 720x720 with 0 Axes>"
      ]
     },
     "metadata": {},
     "output_type": "display_data"
    },
    {
     "data": {
      "text/plain": [
       "<Figure size 720x720 with 0 Axes>"
      ]
     },
     "metadata": {},
     "output_type": "display_data"
    },
    {
     "data": {
      "text/plain": [
       "<Figure size 720x720 with 0 Axes>"
      ]
     },
     "metadata": {},
     "output_type": "display_data"
    },
    {
     "data": {
      "text/plain": [
       "<Figure size 720x720 with 0 Axes>"
      ]
     },
     "metadata": {},
     "output_type": "display_data"
    },
    {
     "data": {
      "text/plain": [
       "<Figure size 720x720 with 0 Axes>"
      ]
     },
     "metadata": {},
     "output_type": "display_data"
    },
    {
     "data": {
      "text/plain": [
       "<Figure size 720x720 with 0 Axes>"
      ]
     },
     "metadata": {},
     "output_type": "display_data"
    },
    {
     "data": {
      "text/plain": [
       "<Figure size 720x720 with 0 Axes>"
      ]
     },
     "metadata": {},
     "output_type": "display_data"
    },
    {
     "data": {
      "text/plain": [
       "<Figure size 720x720 with 0 Axes>"
      ]
     },
     "metadata": {},
     "output_type": "display_data"
    },
    {
     "data": {
      "text/plain": [
       "<Figure size 720x720 with 0 Axes>"
      ]
     },
     "metadata": {},
     "output_type": "display_data"
    },
    {
     "data": {
      "text/plain": [
       "<Figure size 720x720 with 0 Axes>"
      ]
     },
     "metadata": {},
     "output_type": "display_data"
    },
    {
     "data": {
      "text/plain": [
       "<Figure size 720x720 with 0 Axes>"
      ]
     },
     "metadata": {},
     "output_type": "display_data"
    },
    {
     "data": {
      "text/plain": [
       "<Figure size 720x720 with 0 Axes>"
      ]
     },
     "metadata": {},
     "output_type": "display_data"
    },
    {
     "data": {
      "text/plain": [
       "<Figure size 720x720 with 0 Axes>"
      ]
     },
     "metadata": {},
     "output_type": "display_data"
    },
    {
     "data": {
      "text/plain": [
       "<Figure size 720x720 with 0 Axes>"
      ]
     },
     "metadata": {},
     "output_type": "display_data"
    },
    {
     "data": {
      "text/plain": [
       "<Figure size 720x720 with 0 Axes>"
      ]
     },
     "metadata": {},
     "output_type": "display_data"
    },
    {
     "data": {
      "text/plain": [
       "<Figure size 720x720 with 0 Axes>"
      ]
     },
     "metadata": {},
     "output_type": "display_data"
    },
    {
     "data": {
      "text/plain": [
       "<Figure size 720x720 with 0 Axes>"
      ]
     },
     "metadata": {},
     "output_type": "display_data"
    },
    {
     "data": {
      "text/plain": [
       "<Figure size 720x720 with 0 Axes>"
      ]
     },
     "metadata": {},
     "output_type": "display_data"
    },
    {
     "data": {
      "text/plain": [
       "<Figure size 720x720 with 0 Axes>"
      ]
     },
     "metadata": {},
     "output_type": "display_data"
    },
    {
     "data": {
      "text/plain": [
       "<Figure size 720x720 with 0 Axes>"
      ]
     },
     "metadata": {},
     "output_type": "display_data"
    },
    {
     "data": {
      "text/plain": [
       "<Figure size 720x720 with 0 Axes>"
      ]
     },
     "metadata": {},
     "output_type": "display_data"
    },
    {
     "data": {
      "text/plain": [
       "<Figure size 720x720 with 0 Axes>"
      ]
     },
     "metadata": {},
     "output_type": "display_data"
    },
    {
     "data": {
      "text/plain": [
       "<Figure size 720x720 with 0 Axes>"
      ]
     },
     "metadata": {},
     "output_type": "display_data"
    },
    {
     "data": {
      "text/plain": [
       "<Figure size 720x720 with 0 Axes>"
      ]
     },
     "metadata": {},
     "output_type": "display_data"
    },
    {
     "data": {
      "text/plain": [
       "<Figure size 720x720 with 0 Axes>"
      ]
     },
     "metadata": {},
     "output_type": "display_data"
    },
    {
     "data": {
      "text/plain": [
       "<Figure size 720x720 with 0 Axes>"
      ]
     },
     "metadata": {},
     "output_type": "display_data"
    },
    {
     "data": {
      "text/plain": [
       "<Figure size 720x720 with 0 Axes>"
      ]
     },
     "metadata": {},
     "output_type": "display_data"
    },
    {
     "data": {
      "text/plain": [
       "<Figure size 720x720 with 0 Axes>"
      ]
     },
     "metadata": {},
     "output_type": "display_data"
    },
    {
     "data": {
      "text/plain": [
       "<Figure size 720x720 with 0 Axes>"
      ]
     },
     "metadata": {},
     "output_type": "display_data"
    },
    {
     "data": {
      "text/plain": [
       "<Figure size 720x720 with 0 Axes>"
      ]
     },
     "metadata": {},
     "output_type": "display_data"
    },
    {
     "data": {
      "text/plain": [
       "<Figure size 720x720 with 0 Axes>"
      ]
     },
     "metadata": {},
     "output_type": "display_data"
    },
    {
     "data": {
      "text/plain": [
       "<Figure size 720x720 with 0 Axes>"
      ]
     },
     "metadata": {},
     "output_type": "display_data"
    },
    {
     "data": {
      "text/plain": [
       "<Figure size 720x720 with 0 Axes>"
      ]
     },
     "metadata": {},
     "output_type": "display_data"
    },
    {
     "data": {
      "text/plain": [
       "<Figure size 720x720 with 0 Axes>"
      ]
     },
     "metadata": {},
     "output_type": "display_data"
    },
    {
     "data": {
      "text/plain": [
       "<Figure size 720x720 with 0 Axes>"
      ]
     },
     "metadata": {},
     "output_type": "display_data"
    },
    {
     "data": {
      "text/plain": [
       "<Figure size 720x720 with 0 Axes>"
      ]
     },
     "metadata": {},
     "output_type": "display_data"
    },
    {
     "data": {
      "text/plain": [
       "<Figure size 720x720 with 0 Axes>"
      ]
     },
     "metadata": {},
     "output_type": "display_data"
    },
    {
     "data": {
      "text/plain": [
       "<Figure size 720x720 with 0 Axes>"
      ]
     },
     "metadata": {},
     "output_type": "display_data"
    },
    {
     "data": {
      "text/plain": [
       "<Figure size 720x720 with 0 Axes>"
      ]
     },
     "metadata": {},
     "output_type": "display_data"
    },
    {
     "data": {
      "text/plain": [
       "<Figure size 720x720 with 0 Axes>"
      ]
     },
     "metadata": {},
     "output_type": "display_data"
    },
    {
     "data": {
      "text/plain": [
       "<Figure size 720x720 with 0 Axes>"
      ]
     },
     "metadata": {},
     "output_type": "display_data"
    },
    {
     "data": {
      "text/plain": [
       "<Figure size 720x720 with 0 Axes>"
      ]
     },
     "metadata": {},
     "output_type": "display_data"
    },
    {
     "data": {
      "text/plain": [
       "<Figure size 720x720 with 0 Axes>"
      ]
     },
     "metadata": {},
     "output_type": "display_data"
    },
    {
     "data": {
      "text/plain": [
       "<Figure size 720x720 with 0 Axes>"
      ]
     },
     "metadata": {},
     "output_type": "display_data"
    },
    {
     "data": {
      "text/plain": [
       "<Figure size 720x720 with 0 Axes>"
      ]
     },
     "metadata": {},
     "output_type": "display_data"
    },
    {
     "data": {
      "text/plain": [
       "<Figure size 720x720 with 0 Axes>"
      ]
     },
     "metadata": {},
     "output_type": "display_data"
    },
    {
     "data": {
      "text/plain": [
       "<Figure size 720x720 with 0 Axes>"
      ]
     },
     "metadata": {},
     "output_type": "display_data"
    },
    {
     "data": {
      "text/plain": [
       "<Figure size 720x720 with 0 Axes>"
      ]
     },
     "metadata": {},
     "output_type": "display_data"
    },
    {
     "data": {
      "text/plain": [
       "<Figure size 720x720 with 0 Axes>"
      ]
     },
     "metadata": {},
     "output_type": "display_data"
    },
    {
     "data": {
      "text/plain": [
       "<Figure size 720x720 with 0 Axes>"
      ]
     },
     "metadata": {},
     "output_type": "display_data"
    },
    {
     "data": {
      "text/plain": [
       "<Figure size 720x720 with 0 Axes>"
      ]
     },
     "metadata": {},
     "output_type": "display_data"
    },
    {
     "data": {
      "text/plain": [
       "<Figure size 720x720 with 0 Axes>"
      ]
     },
     "metadata": {},
     "output_type": "display_data"
    },
    {
     "data": {
      "text/plain": [
       "<Figure size 720x720 with 0 Axes>"
      ]
     },
     "metadata": {},
     "output_type": "display_data"
    },
    {
     "data": {
      "text/plain": [
       "<Figure size 720x720 with 0 Axes>"
      ]
     },
     "metadata": {},
     "output_type": "display_data"
    },
    {
     "data": {
      "text/plain": [
       "<Figure size 720x720 with 0 Axes>"
      ]
     },
     "metadata": {},
     "output_type": "display_data"
    },
    {
     "data": {
      "text/plain": [
       "<Figure size 720x720 with 0 Axes>"
      ]
     },
     "metadata": {},
     "output_type": "display_data"
    },
    {
     "data": {
      "text/plain": [
       "<Figure size 720x720 with 0 Axes>"
      ]
     },
     "metadata": {},
     "output_type": "display_data"
    },
    {
     "data": {
      "text/plain": [
       "<Figure size 720x720 with 0 Axes>"
      ]
     },
     "metadata": {},
     "output_type": "display_data"
    },
    {
     "data": {
      "text/plain": [
       "<Figure size 720x720 with 0 Axes>"
      ]
     },
     "metadata": {},
     "output_type": "display_data"
    },
    {
     "data": {
      "text/plain": [
       "<Figure size 720x720 with 0 Axes>"
      ]
     },
     "metadata": {},
     "output_type": "display_data"
    },
    {
     "data": {
      "text/plain": [
       "<Figure size 720x720 with 0 Axes>"
      ]
     },
     "metadata": {},
     "output_type": "display_data"
    },
    {
     "data": {
      "text/plain": [
       "<Figure size 720x720 with 0 Axes>"
      ]
     },
     "metadata": {},
     "output_type": "display_data"
    },
    {
     "data": {
      "text/plain": [
       "<Figure size 720x720 with 0 Axes>"
      ]
     },
     "metadata": {},
     "output_type": "display_data"
    },
    {
     "data": {
      "text/plain": [
       "<Figure size 720x720 with 0 Axes>"
      ]
     },
     "metadata": {},
     "output_type": "display_data"
    },
    {
     "data": {
      "text/plain": [
       "<Figure size 720x720 with 0 Axes>"
      ]
     },
     "metadata": {},
     "output_type": "display_data"
    },
    {
     "data": {
      "text/plain": [
       "<Figure size 720x720 with 0 Axes>"
      ]
     },
     "metadata": {},
     "output_type": "display_data"
    },
    {
     "data": {
      "text/plain": [
       "<Figure size 720x720 with 0 Axes>"
      ]
     },
     "metadata": {},
     "output_type": "display_data"
    },
    {
     "data": {
      "text/plain": [
       "<Figure size 720x720 with 0 Axes>"
      ]
     },
     "metadata": {},
     "output_type": "display_data"
    },
    {
     "data": {
      "text/plain": [
       "<Figure size 720x720 with 0 Axes>"
      ]
     },
     "metadata": {},
     "output_type": "display_data"
    },
    {
     "data": {
      "text/plain": [
       "<Figure size 720x720 with 0 Axes>"
      ]
     },
     "metadata": {},
     "output_type": "display_data"
    },
    {
     "data": {
      "text/plain": [
       "<Figure size 720x720 with 0 Axes>"
      ]
     },
     "metadata": {},
     "output_type": "display_data"
    },
    {
     "data": {
      "text/plain": [
       "<Figure size 720x720 with 0 Axes>"
      ]
     },
     "metadata": {},
     "output_type": "display_data"
    },
    {
     "data": {
      "text/plain": [
       "<Figure size 720x720 with 0 Axes>"
      ]
     },
     "metadata": {},
     "output_type": "display_data"
    },
    {
     "data": {
      "text/plain": [
       "<Figure size 720x720 with 0 Axes>"
      ]
     },
     "metadata": {},
     "output_type": "display_data"
    },
    {
     "data": {
      "text/plain": [
       "<Figure size 720x720 with 0 Axes>"
      ]
     },
     "metadata": {},
     "output_type": "display_data"
    },
    {
     "data": {
      "text/plain": [
       "<Figure size 720x720 with 0 Axes>"
      ]
     },
     "metadata": {},
     "output_type": "display_data"
    },
    {
     "data": {
      "text/plain": [
       "<Figure size 720x720 with 0 Axes>"
      ]
     },
     "metadata": {},
     "output_type": "display_data"
    },
    {
     "data": {
      "text/plain": [
       "<Figure size 720x720 with 0 Axes>"
      ]
     },
     "metadata": {},
     "output_type": "display_data"
    },
    {
     "data": {
      "text/plain": [
       "<Figure size 720x720 with 0 Axes>"
      ]
     },
     "metadata": {},
     "output_type": "display_data"
    },
    {
     "data": {
      "text/plain": [
       "<Figure size 720x720 with 0 Axes>"
      ]
     },
     "metadata": {},
     "output_type": "display_data"
    },
    {
     "data": {
      "text/plain": [
       "<Figure size 720x720 with 0 Axes>"
      ]
     },
     "metadata": {},
     "output_type": "display_data"
    },
    {
     "data": {
      "text/plain": [
       "<Figure size 720x720 with 0 Axes>"
      ]
     },
     "metadata": {},
     "output_type": "display_data"
    },
    {
     "data": {
      "text/plain": [
       "<Figure size 720x720 with 0 Axes>"
      ]
     },
     "metadata": {},
     "output_type": "display_data"
    },
    {
     "data": {
      "text/plain": [
       "<Figure size 720x720 with 0 Axes>"
      ]
     },
     "metadata": {},
     "output_type": "display_data"
    },
    {
     "data": {
      "text/plain": [
       "<Figure size 720x720 with 0 Axes>"
      ]
     },
     "metadata": {},
     "output_type": "display_data"
    },
    {
     "data": {
      "text/plain": [
       "<Figure size 720x720 with 0 Axes>"
      ]
     },
     "metadata": {},
     "output_type": "display_data"
    },
    {
     "data": {
      "text/plain": [
       "<Figure size 720x720 with 0 Axes>"
      ]
     },
     "metadata": {},
     "output_type": "display_data"
    },
    {
     "data": {
      "text/plain": [
       "<Figure size 720x720 with 0 Axes>"
      ]
     },
     "metadata": {},
     "output_type": "display_data"
    },
    {
     "data": {
      "text/plain": [
       "<Figure size 720x720 with 0 Axes>"
      ]
     },
     "metadata": {},
     "output_type": "display_data"
    },
    {
     "data": {
      "text/plain": [
       "<Figure size 720x720 with 0 Axes>"
      ]
     },
     "metadata": {},
     "output_type": "display_data"
    },
    {
     "data": {
      "text/plain": [
       "<Figure size 720x720 with 0 Axes>"
      ]
     },
     "metadata": {},
     "output_type": "display_data"
    },
    {
     "data": {
      "text/plain": [
       "<Figure size 720x720 with 0 Axes>"
      ]
     },
     "metadata": {},
     "output_type": "display_data"
    },
    {
     "data": {
      "text/plain": [
       "<Figure size 720x720 with 0 Axes>"
      ]
     },
     "metadata": {},
     "output_type": "display_data"
    },
    {
     "data": {
      "text/plain": [
       "<Figure size 720x720 with 0 Axes>"
      ]
     },
     "metadata": {},
     "output_type": "display_data"
    },
    {
     "data": {
      "text/plain": [
       "<Figure size 720x720 with 0 Axes>"
      ]
     },
     "metadata": {},
     "output_type": "display_data"
    },
    {
     "data": {
      "text/plain": [
       "<Figure size 720x720 with 0 Axes>"
      ]
     },
     "metadata": {},
     "output_type": "display_data"
    },
    {
     "data": {
      "text/plain": [
       "<Figure size 720x720 with 0 Axes>"
      ]
     },
     "metadata": {},
     "output_type": "display_data"
    },
    {
     "data": {
      "text/plain": [
       "<Figure size 720x720 with 0 Axes>"
      ]
     },
     "metadata": {},
     "output_type": "display_data"
    },
    {
     "data": {
      "text/plain": [
       "<Figure size 720x720 with 0 Axes>"
      ]
     },
     "metadata": {},
     "output_type": "display_data"
    },
    {
     "data": {
      "text/plain": [
       "<Figure size 720x720 with 0 Axes>"
      ]
     },
     "metadata": {},
     "output_type": "display_data"
    },
    {
     "data": {
      "text/plain": [
       "<Figure size 720x720 with 0 Axes>"
      ]
     },
     "metadata": {},
     "output_type": "display_data"
    },
    {
     "data": {
      "text/plain": [
       "<Figure size 720x720 with 0 Axes>"
      ]
     },
     "metadata": {},
     "output_type": "display_data"
    },
    {
     "data": {
      "text/plain": [
       "<Figure size 720x720 with 0 Axes>"
      ]
     },
     "metadata": {},
     "output_type": "display_data"
    },
    {
     "data": {
      "text/plain": [
       "<Figure size 720x720 with 0 Axes>"
      ]
     },
     "metadata": {},
     "output_type": "display_data"
    },
    {
     "data": {
      "text/plain": [
       "<Figure size 720x720 with 0 Axes>"
      ]
     },
     "metadata": {},
     "output_type": "display_data"
    },
    {
     "data": {
      "text/plain": [
       "<Figure size 720x720 with 0 Axes>"
      ]
     },
     "metadata": {},
     "output_type": "display_data"
    },
    {
     "data": {
      "text/plain": [
       "<Figure size 720x720 with 0 Axes>"
      ]
     },
     "metadata": {},
     "output_type": "display_data"
    },
    {
     "data": {
      "text/plain": [
       "<Figure size 720x720 with 0 Axes>"
      ]
     },
     "metadata": {},
     "output_type": "display_data"
    },
    {
     "data": {
      "text/plain": [
       "<Figure size 720x720 with 0 Axes>"
      ]
     },
     "metadata": {},
     "output_type": "display_data"
    },
    {
     "data": {
      "text/plain": [
       "<Figure size 720x720 with 0 Axes>"
      ]
     },
     "metadata": {},
     "output_type": "display_data"
    },
    {
     "data": {
      "text/plain": [
       "<Figure size 720x720 with 0 Axes>"
      ]
     },
     "metadata": {},
     "output_type": "display_data"
    },
    {
     "data": {
      "text/plain": [
       "<Figure size 720x720 with 0 Axes>"
      ]
     },
     "metadata": {},
     "output_type": "display_data"
    },
    {
     "data": {
      "text/plain": [
       "<Figure size 720x720 with 0 Axes>"
      ]
     },
     "metadata": {},
     "output_type": "display_data"
    },
    {
     "data": {
      "text/plain": [
       "<Figure size 720x720 with 0 Axes>"
      ]
     },
     "metadata": {},
     "output_type": "display_data"
    },
    {
     "data": {
      "text/plain": [
       "<Figure size 720x720 with 0 Axes>"
      ]
     },
     "metadata": {},
     "output_type": "display_data"
    },
    {
     "data": {
      "text/plain": [
       "<Figure size 720x720 with 0 Axes>"
      ]
     },
     "metadata": {},
     "output_type": "display_data"
    },
    {
     "data": {
      "text/plain": [
       "<Figure size 720x720 with 0 Axes>"
      ]
     },
     "metadata": {},
     "output_type": "display_data"
    },
    {
     "data": {
      "text/plain": [
       "<Figure size 720x720 with 0 Axes>"
      ]
     },
     "metadata": {},
     "output_type": "display_data"
    },
    {
     "data": {
      "text/plain": [
       "<Figure size 720x720 with 0 Axes>"
      ]
     },
     "metadata": {},
     "output_type": "display_data"
    },
    {
     "data": {
      "text/plain": [
       "<Figure size 720x720 with 0 Axes>"
      ]
     },
     "metadata": {},
     "output_type": "display_data"
    },
    {
     "data": {
      "text/plain": [
       "<Figure size 720x720 with 0 Axes>"
      ]
     },
     "metadata": {},
     "output_type": "display_data"
    },
    {
     "data": {
      "text/plain": [
       "<Figure size 720x720 with 0 Axes>"
      ]
     },
     "metadata": {},
     "output_type": "display_data"
    },
    {
     "data": {
      "text/plain": [
       "<Figure size 720x720 with 0 Axes>"
      ]
     },
     "metadata": {},
     "output_type": "display_data"
    },
    {
     "data": {
      "text/plain": [
       "<Figure size 720x720 with 0 Axes>"
      ]
     },
     "metadata": {},
     "output_type": "display_data"
    },
    {
     "data": {
      "text/plain": [
       "<Figure size 720x720 with 0 Axes>"
      ]
     },
     "metadata": {},
     "output_type": "display_data"
    },
    {
     "data": {
      "text/plain": [
       "<Figure size 720x720 with 0 Axes>"
      ]
     },
     "metadata": {},
     "output_type": "display_data"
    },
    {
     "data": {
      "text/plain": [
       "<Figure size 720x720 with 0 Axes>"
      ]
     },
     "metadata": {},
     "output_type": "display_data"
    },
    {
     "data": {
      "text/plain": [
       "<Figure size 720x720 with 0 Axes>"
      ]
     },
     "metadata": {},
     "output_type": "display_data"
    },
    {
     "data": {
      "text/plain": [
       "<Figure size 720x720 with 0 Axes>"
      ]
     },
     "metadata": {},
     "output_type": "display_data"
    },
    {
     "data": {
      "text/plain": [
       "<Figure size 720x720 with 0 Axes>"
      ]
     },
     "metadata": {},
     "output_type": "display_data"
    },
    {
     "data": {
      "text/plain": [
       "<Figure size 720x720 with 0 Axes>"
      ]
     },
     "metadata": {},
     "output_type": "display_data"
    },
    {
     "data": {
      "text/plain": [
       "<Figure size 720x720 with 0 Axes>"
      ]
     },
     "metadata": {},
     "output_type": "display_data"
    },
    {
     "data": {
      "text/plain": [
       "<Figure size 720x720 with 0 Axes>"
      ]
     },
     "metadata": {},
     "output_type": "display_data"
    },
    {
     "data": {
      "text/plain": [
       "<Figure size 720x720 with 0 Axes>"
      ]
     },
     "metadata": {},
     "output_type": "display_data"
    },
    {
     "data": {
      "text/plain": [
       "<Figure size 720x720 with 0 Axes>"
      ]
     },
     "metadata": {},
     "output_type": "display_data"
    },
    {
     "data": {
      "text/plain": [
       "<Figure size 720x720 with 0 Axes>"
      ]
     },
     "metadata": {},
     "output_type": "display_data"
    },
    {
     "data": {
      "text/plain": [
       "<Figure size 720x720 with 0 Axes>"
      ]
     },
     "metadata": {},
     "output_type": "display_data"
    },
    {
     "data": {
      "text/plain": [
       "<Figure size 720x720 with 0 Axes>"
      ]
     },
     "metadata": {},
     "output_type": "display_data"
    },
    {
     "data": {
      "text/plain": [
       "<Figure size 720x720 with 0 Axes>"
      ]
     },
     "metadata": {},
     "output_type": "display_data"
    },
    {
     "data": {
      "text/plain": [
       "<Figure size 720x720 with 0 Axes>"
      ]
     },
     "metadata": {},
     "output_type": "display_data"
    },
    {
     "data": {
      "text/plain": [
       "<Figure size 720x720 with 0 Axes>"
      ]
     },
     "metadata": {},
     "output_type": "display_data"
    },
    {
     "data": {
      "text/plain": [
       "<Figure size 720x720 with 0 Axes>"
      ]
     },
     "metadata": {},
     "output_type": "display_data"
    },
    {
     "data": {
      "text/plain": [
       "<Figure size 720x720 with 0 Axes>"
      ]
     },
     "metadata": {},
     "output_type": "display_data"
    },
    {
     "data": {
      "text/plain": [
       "<Figure size 720x720 with 0 Axes>"
      ]
     },
     "metadata": {},
     "output_type": "display_data"
    },
    {
     "data": {
      "text/plain": [
       "<Figure size 720x720 with 0 Axes>"
      ]
     },
     "metadata": {},
     "output_type": "display_data"
    },
    {
     "data": {
      "text/plain": [
       "<Figure size 720x720 with 0 Axes>"
      ]
     },
     "metadata": {},
     "output_type": "display_data"
    },
    {
     "data": {
      "text/plain": [
       "<Figure size 720x720 with 0 Axes>"
      ]
     },
     "metadata": {},
     "output_type": "display_data"
    },
    {
     "data": {
      "text/plain": [
       "<Figure size 720x720 with 0 Axes>"
      ]
     },
     "metadata": {},
     "output_type": "display_data"
    },
    {
     "data": {
      "text/plain": [
       "<Figure size 720x720 with 0 Axes>"
      ]
     },
     "metadata": {},
     "output_type": "display_data"
    },
    {
     "data": {
      "text/plain": [
       "<Figure size 720x720 with 0 Axes>"
      ]
     },
     "metadata": {},
     "output_type": "display_data"
    },
    {
     "data": {
      "text/plain": [
       "<Figure size 720x720 with 0 Axes>"
      ]
     },
     "metadata": {},
     "output_type": "display_data"
    },
    {
     "data": {
      "text/plain": [
       "<Figure size 720x720 with 0 Axes>"
      ]
     },
     "metadata": {},
     "output_type": "display_data"
    },
    {
     "data": {
      "text/plain": [
       "<Figure size 720x720 with 0 Axes>"
      ]
     },
     "metadata": {},
     "output_type": "display_data"
    },
    {
     "data": {
      "text/plain": [
       "<Figure size 720x720 with 0 Axes>"
      ]
     },
     "metadata": {},
     "output_type": "display_data"
    },
    {
     "data": {
      "text/plain": [
       "<Figure size 720x720 with 0 Axes>"
      ]
     },
     "metadata": {},
     "output_type": "display_data"
    },
    {
     "data": {
      "text/plain": [
       "<Figure size 720x720 with 0 Axes>"
      ]
     },
     "metadata": {},
     "output_type": "display_data"
    },
    {
     "data": {
      "text/plain": [
       "<Figure size 720x720 with 0 Axes>"
      ]
     },
     "metadata": {},
     "output_type": "display_data"
    },
    {
     "data": {
      "text/plain": [
       "<Figure size 720x720 with 0 Axes>"
      ]
     },
     "metadata": {},
     "output_type": "display_data"
    },
    {
     "data": {
      "text/plain": [
       "<Figure size 720x720 with 0 Axes>"
      ]
     },
     "metadata": {},
     "output_type": "display_data"
    },
    {
     "data": {
      "text/plain": [
       "<Figure size 720x720 with 0 Axes>"
      ]
     },
     "metadata": {},
     "output_type": "display_data"
    },
    {
     "data": {
      "text/plain": [
       "<Figure size 720x720 with 0 Axes>"
      ]
     },
     "metadata": {},
     "output_type": "display_data"
    },
    {
     "data": {
      "text/plain": [
       "<Figure size 720x720 with 0 Axes>"
      ]
     },
     "metadata": {},
     "output_type": "display_data"
    },
    {
     "data": {
      "text/plain": [
       "<Figure size 720x720 with 0 Axes>"
      ]
     },
     "metadata": {},
     "output_type": "display_data"
    },
    {
     "data": {
      "text/plain": [
       "<Figure size 720x720 with 0 Axes>"
      ]
     },
     "metadata": {},
     "output_type": "display_data"
    },
    {
     "data": {
      "text/plain": [
       "<Figure size 720x720 with 0 Axes>"
      ]
     },
     "metadata": {},
     "output_type": "display_data"
    },
    {
     "data": {
      "text/plain": [
       "<Figure size 720x720 with 0 Axes>"
      ]
     },
     "metadata": {},
     "output_type": "display_data"
    },
    {
     "data": {
      "text/plain": [
       "<Figure size 720x720 with 0 Axes>"
      ]
     },
     "metadata": {},
     "output_type": "display_data"
    },
    {
     "data": {
      "text/plain": [
       "<Figure size 720x720 with 0 Axes>"
      ]
     },
     "metadata": {},
     "output_type": "display_data"
    },
    {
     "data": {
      "text/plain": [
       "<Figure size 720x720 with 0 Axes>"
      ]
     },
     "metadata": {},
     "output_type": "display_data"
    },
    {
     "data": {
      "text/plain": [
       "<Figure size 720x720 with 0 Axes>"
      ]
     },
     "metadata": {},
     "output_type": "display_data"
    },
    {
     "data": {
      "text/plain": [
       "<Figure size 720x720 with 0 Axes>"
      ]
     },
     "metadata": {},
     "output_type": "display_data"
    },
    {
     "data": {
      "text/plain": [
       "<Figure size 720x720 with 0 Axes>"
      ]
     },
     "metadata": {},
     "output_type": "display_data"
    },
    {
     "data": {
      "text/plain": [
       "<Figure size 720x720 with 0 Axes>"
      ]
     },
     "metadata": {},
     "output_type": "display_data"
    },
    {
     "data": {
      "text/plain": [
       "<Figure size 720x720 with 0 Axes>"
      ]
     },
     "metadata": {},
     "output_type": "display_data"
    },
    {
     "data": {
      "text/plain": [
       "<Figure size 720x720 with 0 Axes>"
      ]
     },
     "metadata": {},
     "output_type": "display_data"
    },
    {
     "data": {
      "text/plain": [
       "<Figure size 720x720 with 0 Axes>"
      ]
     },
     "metadata": {},
     "output_type": "display_data"
    },
    {
     "data": {
      "text/plain": [
       "<Figure size 720x720 with 0 Axes>"
      ]
     },
     "metadata": {},
     "output_type": "display_data"
    },
    {
     "data": {
      "text/plain": [
       "<Figure size 720x720 with 0 Axes>"
      ]
     },
     "metadata": {},
     "output_type": "display_data"
    },
    {
     "data": {
      "text/plain": [
       "<Figure size 720x720 with 0 Axes>"
      ]
     },
     "metadata": {},
     "output_type": "display_data"
    },
    {
     "data": {
      "text/plain": [
       "<Figure size 720x720 with 0 Axes>"
      ]
     },
     "metadata": {},
     "output_type": "display_data"
    },
    {
     "data": {
      "text/plain": [
       "<Figure size 720x720 with 0 Axes>"
      ]
     },
     "metadata": {},
     "output_type": "display_data"
    },
    {
     "data": {
      "text/plain": [
       "<Figure size 720x720 with 0 Axes>"
      ]
     },
     "metadata": {},
     "output_type": "display_data"
    },
    {
     "data": {
      "text/plain": [
       "<Figure size 720x720 with 0 Axes>"
      ]
     },
     "metadata": {},
     "output_type": "display_data"
    },
    {
     "data": {
      "text/plain": [
       "<Figure size 720x720 with 0 Axes>"
      ]
     },
     "metadata": {},
     "output_type": "display_data"
    },
    {
     "data": {
      "text/plain": [
       "<Figure size 720x720 with 0 Axes>"
      ]
     },
     "metadata": {},
     "output_type": "display_data"
    },
    {
     "data": {
      "text/plain": [
       "<Figure size 720x720 with 0 Axes>"
      ]
     },
     "metadata": {},
     "output_type": "display_data"
    },
    {
     "data": {
      "text/plain": [
       "<Figure size 720x720 with 0 Axes>"
      ]
     },
     "metadata": {},
     "output_type": "display_data"
    },
    {
     "data": {
      "text/plain": [
       "<Figure size 720x720 with 0 Axes>"
      ]
     },
     "metadata": {},
     "output_type": "display_data"
    },
    {
     "data": {
      "text/plain": [
       "<Figure size 720x720 with 0 Axes>"
      ]
     },
     "metadata": {},
     "output_type": "display_data"
    },
    {
     "data": {
      "text/plain": [
       "<Figure size 720x720 with 0 Axes>"
      ]
     },
     "metadata": {},
     "output_type": "display_data"
    },
    {
     "data": {
      "text/plain": [
       "<Figure size 720x720 with 0 Axes>"
      ]
     },
     "metadata": {},
     "output_type": "display_data"
    },
    {
     "data": {
      "text/plain": [
       "<Figure size 720x720 with 0 Axes>"
      ]
     },
     "metadata": {},
     "output_type": "display_data"
    },
    {
     "data": {
      "text/plain": [
       "<Figure size 720x720 with 0 Axes>"
      ]
     },
     "metadata": {},
     "output_type": "display_data"
    },
    {
     "data": {
      "text/plain": [
       "<Figure size 720x720 with 0 Axes>"
      ]
     },
     "metadata": {},
     "output_type": "display_data"
    },
    {
     "data": {
      "text/plain": [
       "<Figure size 720x720 with 0 Axes>"
      ]
     },
     "metadata": {},
     "output_type": "display_data"
    },
    {
     "data": {
      "text/plain": [
       "<Figure size 720x720 with 0 Axes>"
      ]
     },
     "metadata": {},
     "output_type": "display_data"
    },
    {
     "data": {
      "text/plain": [
       "<Figure size 720x720 with 0 Axes>"
      ]
     },
     "metadata": {},
     "output_type": "display_data"
    },
    {
     "data": {
      "text/plain": [
       "<Figure size 720x720 with 0 Axes>"
      ]
     },
     "metadata": {},
     "output_type": "display_data"
    },
    {
     "data": {
      "text/plain": [
       "<Figure size 720x720 with 0 Axes>"
      ]
     },
     "metadata": {},
     "output_type": "display_data"
    },
    {
     "data": {
      "text/plain": [
       "<Figure size 720x720 with 0 Axes>"
      ]
     },
     "metadata": {},
     "output_type": "display_data"
    },
    {
     "data": {
      "text/plain": [
       "<Figure size 720x720 with 0 Axes>"
      ]
     },
     "metadata": {},
     "output_type": "display_data"
    },
    {
     "data": {
      "text/plain": [
       "<Figure size 720x720 with 0 Axes>"
      ]
     },
     "metadata": {},
     "output_type": "display_data"
    },
    {
     "data": {
      "text/plain": [
       "<Figure size 720x720 with 0 Axes>"
      ]
     },
     "metadata": {},
     "output_type": "display_data"
    },
    {
     "data": {
      "text/plain": [
       "<Figure size 720x720 with 0 Axes>"
      ]
     },
     "metadata": {},
     "output_type": "display_data"
    },
    {
     "data": {
      "text/plain": [
       "<Figure size 720x720 with 0 Axes>"
      ]
     },
     "metadata": {},
     "output_type": "display_data"
    },
    {
     "data": {
      "text/plain": [
       "<Figure size 720x720 with 0 Axes>"
      ]
     },
     "metadata": {},
     "output_type": "display_data"
    },
    {
     "data": {
      "text/plain": [
       "<Figure size 720x720 with 0 Axes>"
      ]
     },
     "metadata": {},
     "output_type": "display_data"
    },
    {
     "data": {
      "text/plain": [
       "<Figure size 720x720 with 0 Axes>"
      ]
     },
     "metadata": {},
     "output_type": "display_data"
    },
    {
     "data": {
      "text/plain": [
       "<Figure size 720x720 with 0 Axes>"
      ]
     },
     "metadata": {},
     "output_type": "display_data"
    },
    {
     "data": {
      "text/plain": [
       "<Figure size 720x720 with 0 Axes>"
      ]
     },
     "metadata": {},
     "output_type": "display_data"
    },
    {
     "data": {
      "text/plain": [
       "<Figure size 720x720 with 0 Axes>"
      ]
     },
     "metadata": {},
     "output_type": "display_data"
    },
    {
     "data": {
      "text/plain": [
       "<Figure size 720x720 with 0 Axes>"
      ]
     },
     "metadata": {},
     "output_type": "display_data"
    },
    {
     "data": {
      "text/plain": [
       "<Figure size 720x720 with 0 Axes>"
      ]
     },
     "metadata": {},
     "output_type": "display_data"
    },
    {
     "data": {
      "text/plain": [
       "<Figure size 720x720 with 0 Axes>"
      ]
     },
     "metadata": {},
     "output_type": "display_data"
    },
    {
     "data": {
      "text/plain": [
       "<Figure size 720x720 with 0 Axes>"
      ]
     },
     "metadata": {},
     "output_type": "display_data"
    },
    {
     "data": {
      "text/plain": [
       "<Figure size 720x720 with 0 Axes>"
      ]
     },
     "metadata": {},
     "output_type": "display_data"
    },
    {
     "data": {
      "text/plain": [
       "<Figure size 720x720 with 0 Axes>"
      ]
     },
     "metadata": {},
     "output_type": "display_data"
    },
    {
     "data": {
      "text/plain": [
       "<Figure size 720x720 with 0 Axes>"
      ]
     },
     "metadata": {},
     "output_type": "display_data"
    },
    {
     "data": {
      "text/plain": [
       "<Figure size 720x720 with 0 Axes>"
      ]
     },
     "metadata": {},
     "output_type": "display_data"
    },
    {
     "data": {
      "text/plain": [
       "<Figure size 720x720 with 0 Axes>"
      ]
     },
     "metadata": {},
     "output_type": "display_data"
    },
    {
     "data": {
      "text/plain": [
       "<Figure size 720x720 with 0 Axes>"
      ]
     },
     "metadata": {},
     "output_type": "display_data"
    },
    {
     "data": {
      "text/plain": [
       "<Figure size 720x720 with 0 Axes>"
      ]
     },
     "metadata": {},
     "output_type": "display_data"
    },
    {
     "data": {
      "text/plain": [
       "<Figure size 720x720 with 0 Axes>"
      ]
     },
     "metadata": {},
     "output_type": "display_data"
    },
    {
     "data": {
      "text/plain": [
       "<Figure size 720x720 with 0 Axes>"
      ]
     },
     "metadata": {},
     "output_type": "display_data"
    },
    {
     "data": {
      "text/plain": [
       "<Figure size 720x720 with 0 Axes>"
      ]
     },
     "metadata": {},
     "output_type": "display_data"
    },
    {
     "data": {
      "text/plain": [
       "<Figure size 720x720 with 0 Axes>"
      ]
     },
     "metadata": {},
     "output_type": "display_data"
    },
    {
     "data": {
      "text/plain": [
       "<Figure size 720x720 with 0 Axes>"
      ]
     },
     "metadata": {},
     "output_type": "display_data"
    },
    {
     "data": {
      "text/plain": [
       "<Figure size 720x720 with 0 Axes>"
      ]
     },
     "metadata": {},
     "output_type": "display_data"
    },
    {
     "data": {
      "text/plain": [
       "<Figure size 720x720 with 0 Axes>"
      ]
     },
     "metadata": {},
     "output_type": "display_data"
    },
    {
     "data": {
      "text/plain": [
       "<Figure size 720x720 with 0 Axes>"
      ]
     },
     "metadata": {},
     "output_type": "display_data"
    },
    {
     "data": {
      "text/plain": [
       "<Figure size 720x720 with 0 Axes>"
      ]
     },
     "metadata": {},
     "output_type": "display_data"
    },
    {
     "data": {
      "text/plain": [
       "<Figure size 720x720 with 0 Axes>"
      ]
     },
     "metadata": {},
     "output_type": "display_data"
    },
    {
     "data": {
      "text/plain": [
       "<Figure size 720x720 with 0 Axes>"
      ]
     },
     "metadata": {},
     "output_type": "display_data"
    },
    {
     "data": {
      "text/plain": [
       "<Figure size 720x720 with 0 Axes>"
      ]
     },
     "metadata": {},
     "output_type": "display_data"
    },
    {
     "data": {
      "text/plain": [
       "<Figure size 720x720 with 0 Axes>"
      ]
     },
     "metadata": {},
     "output_type": "display_data"
    },
    {
     "data": {
      "text/plain": [
       "<Figure size 720x720 with 0 Axes>"
      ]
     },
     "metadata": {},
     "output_type": "display_data"
    },
    {
     "data": {
      "text/plain": [
       "<Figure size 720x720 with 0 Axes>"
      ]
     },
     "metadata": {},
     "output_type": "display_data"
    },
    {
     "data": {
      "text/plain": [
       "<Figure size 720x720 with 0 Axes>"
      ]
     },
     "metadata": {},
     "output_type": "display_data"
    },
    {
     "data": {
      "text/plain": [
       "<Figure size 720x720 with 0 Axes>"
      ]
     },
     "metadata": {},
     "output_type": "display_data"
    },
    {
     "data": {
      "text/plain": [
       "<Figure size 720x720 with 0 Axes>"
      ]
     },
     "metadata": {},
     "output_type": "display_data"
    },
    {
     "data": {
      "text/plain": [
       "<Figure size 720x720 with 0 Axes>"
      ]
     },
     "metadata": {},
     "output_type": "display_data"
    },
    {
     "data": {
      "text/plain": [
       "<Figure size 720x720 with 0 Axes>"
      ]
     },
     "metadata": {},
     "output_type": "display_data"
    },
    {
     "data": {
      "text/plain": [
       "<Figure size 720x720 with 0 Axes>"
      ]
     },
     "metadata": {},
     "output_type": "display_data"
    },
    {
     "data": {
      "text/plain": [
       "<Figure size 720x720 with 0 Axes>"
      ]
     },
     "metadata": {},
     "output_type": "display_data"
    },
    {
     "data": {
      "text/plain": [
       "<Figure size 720x720 with 0 Axes>"
      ]
     },
     "metadata": {},
     "output_type": "display_data"
    },
    {
     "data": {
      "text/plain": [
       "<Figure size 720x720 with 0 Axes>"
      ]
     },
     "metadata": {},
     "output_type": "display_data"
    },
    {
     "data": {
      "text/plain": [
       "<Figure size 720x720 with 0 Axes>"
      ]
     },
     "metadata": {},
     "output_type": "display_data"
    },
    {
     "data": {
      "text/plain": [
       "<Figure size 720x720 with 0 Axes>"
      ]
     },
     "metadata": {},
     "output_type": "display_data"
    },
    {
     "data": {
      "text/plain": [
       "<Figure size 720x720 with 0 Axes>"
      ]
     },
     "metadata": {},
     "output_type": "display_data"
    },
    {
     "data": {
      "text/plain": [
       "<Figure size 720x720 with 0 Axes>"
      ]
     },
     "metadata": {},
     "output_type": "display_data"
    },
    {
     "data": {
      "text/plain": [
       "<Figure size 720x720 with 0 Axes>"
      ]
     },
     "metadata": {},
     "output_type": "display_data"
    },
    {
     "data": {
      "text/plain": [
       "<Figure size 720x720 with 0 Axes>"
      ]
     },
     "metadata": {},
     "output_type": "display_data"
    },
    {
     "data": {
      "text/plain": [
       "<Figure size 720x720 with 0 Axes>"
      ]
     },
     "metadata": {},
     "output_type": "display_data"
    },
    {
     "data": {
      "text/plain": [
       "<Figure size 720x720 with 0 Axes>"
      ]
     },
     "metadata": {},
     "output_type": "display_data"
    },
    {
     "data": {
      "text/plain": [
       "<Figure size 720x720 with 0 Axes>"
      ]
     },
     "metadata": {},
     "output_type": "display_data"
    },
    {
     "data": {
      "text/plain": [
       "<Figure size 720x720 with 0 Axes>"
      ]
     },
     "metadata": {},
     "output_type": "display_data"
    },
    {
     "data": {
      "text/plain": [
       "<Figure size 720x720 with 0 Axes>"
      ]
     },
     "metadata": {},
     "output_type": "display_data"
    },
    {
     "data": {
      "text/plain": [
       "<Figure size 720x720 with 0 Axes>"
      ]
     },
     "metadata": {},
     "output_type": "display_data"
    },
    {
     "data": {
      "text/plain": [
       "<Figure size 720x720 with 0 Axes>"
      ]
     },
     "metadata": {},
     "output_type": "display_data"
    },
    {
     "data": {
      "text/plain": [
       "<Figure size 720x720 with 0 Axes>"
      ]
     },
     "metadata": {},
     "output_type": "display_data"
    },
    {
     "data": {
      "text/plain": [
       "<Figure size 720x720 with 0 Axes>"
      ]
     },
     "metadata": {},
     "output_type": "display_data"
    },
    {
     "data": {
      "text/plain": [
       "<Figure size 720x720 with 0 Axes>"
      ]
     },
     "metadata": {},
     "output_type": "display_data"
    },
    {
     "data": {
      "text/plain": [
       "<Figure size 720x720 with 0 Axes>"
      ]
     },
     "metadata": {},
     "output_type": "display_data"
    },
    {
     "data": {
      "text/plain": [
       "<Figure size 720x720 with 0 Axes>"
      ]
     },
     "metadata": {},
     "output_type": "display_data"
    },
    {
     "data": {
      "text/plain": [
       "<Figure size 720x720 with 0 Axes>"
      ]
     },
     "metadata": {},
     "output_type": "display_data"
    },
    {
     "data": {
      "text/plain": [
       "<Figure size 720x720 with 0 Axes>"
      ]
     },
     "metadata": {},
     "output_type": "display_data"
    },
    {
     "data": {
      "text/plain": [
       "<Figure size 720x720 with 0 Axes>"
      ]
     },
     "metadata": {},
     "output_type": "display_data"
    },
    {
     "data": {
      "text/plain": [
       "<Figure size 720x720 with 0 Axes>"
      ]
     },
     "metadata": {},
     "output_type": "display_data"
    },
    {
     "data": {
      "text/plain": [
       "<Figure size 720x720 with 0 Axes>"
      ]
     },
     "metadata": {},
     "output_type": "display_data"
    },
    {
     "data": {
      "text/plain": [
       "<Figure size 720x720 with 0 Axes>"
      ]
     },
     "metadata": {},
     "output_type": "display_data"
    },
    {
     "data": {
      "text/plain": [
       "<Figure size 720x720 with 0 Axes>"
      ]
     },
     "metadata": {},
     "output_type": "display_data"
    },
    {
     "data": {
      "text/plain": [
       "<Figure size 720x720 with 0 Axes>"
      ]
     },
     "metadata": {},
     "output_type": "display_data"
    },
    {
     "data": {
      "text/plain": [
       "<Figure size 720x720 with 0 Axes>"
      ]
     },
     "metadata": {},
     "output_type": "display_data"
    },
    {
     "data": {
      "text/plain": [
       "<Figure size 720x720 with 0 Axes>"
      ]
     },
     "metadata": {},
     "output_type": "display_data"
    },
    {
     "data": {
      "text/plain": [
       "<Figure size 720x720 with 0 Axes>"
      ]
     },
     "metadata": {},
     "output_type": "display_data"
    },
    {
     "data": {
      "text/plain": [
       "<Figure size 720x720 with 0 Axes>"
      ]
     },
     "metadata": {},
     "output_type": "display_data"
    },
    {
     "data": {
      "text/plain": [
       "<Figure size 720x720 with 0 Axes>"
      ]
     },
     "metadata": {},
     "output_type": "display_data"
    },
    {
     "data": {
      "text/plain": [
       "<Figure size 720x720 with 0 Axes>"
      ]
     },
     "metadata": {},
     "output_type": "display_data"
    },
    {
     "data": {
      "text/plain": [
       "<Figure size 720x720 with 0 Axes>"
      ]
     },
     "metadata": {},
     "output_type": "display_data"
    },
    {
     "data": {
      "text/plain": [
       "<Figure size 720x720 with 0 Axes>"
      ]
     },
     "metadata": {},
     "output_type": "display_data"
    },
    {
     "data": {
      "text/plain": [
       "<Figure size 720x720 with 0 Axes>"
      ]
     },
     "metadata": {},
     "output_type": "display_data"
    },
    {
     "data": {
      "text/plain": [
       "<Figure size 720x720 with 0 Axes>"
      ]
     },
     "metadata": {},
     "output_type": "display_data"
    },
    {
     "data": {
      "text/plain": [
       "<Figure size 720x720 with 0 Axes>"
      ]
     },
     "metadata": {},
     "output_type": "display_data"
    },
    {
     "data": {
      "text/plain": [
       "<Figure size 720x720 with 0 Axes>"
      ]
     },
     "metadata": {},
     "output_type": "display_data"
    },
    {
     "data": {
      "text/plain": [
       "<Figure size 720x720 with 0 Axes>"
      ]
     },
     "metadata": {},
     "output_type": "display_data"
    },
    {
     "data": {
      "text/plain": [
       "<Figure size 720x720 with 0 Axes>"
      ]
     },
     "metadata": {},
     "output_type": "display_data"
    },
    {
     "data": {
      "text/plain": [
       "<Figure size 720x720 with 0 Axes>"
      ]
     },
     "metadata": {},
     "output_type": "display_data"
    },
    {
     "data": {
      "text/plain": [
       "<Figure size 720x720 with 0 Axes>"
      ]
     },
     "metadata": {},
     "output_type": "display_data"
    },
    {
     "data": {
      "text/plain": [
       "<Figure size 720x720 with 0 Axes>"
      ]
     },
     "metadata": {},
     "output_type": "display_data"
    },
    {
     "data": {
      "text/plain": [
       "<Figure size 720x720 with 0 Axes>"
      ]
     },
     "metadata": {},
     "output_type": "display_data"
    },
    {
     "data": {
      "text/plain": [
       "<Figure size 720x720 with 0 Axes>"
      ]
     },
     "metadata": {},
     "output_type": "display_data"
    },
    {
     "data": {
      "text/plain": [
       "<Figure size 720x720 with 0 Axes>"
      ]
     },
     "metadata": {},
     "output_type": "display_data"
    },
    {
     "data": {
      "text/plain": [
       "<Figure size 720x720 with 0 Axes>"
      ]
     },
     "metadata": {},
     "output_type": "display_data"
    },
    {
     "data": {
      "text/plain": [
       "<Figure size 720x720 with 0 Axes>"
      ]
     },
     "metadata": {},
     "output_type": "display_data"
    },
    {
     "data": {
      "text/plain": [
       "<Figure size 720x720 with 0 Axes>"
      ]
     },
     "metadata": {},
     "output_type": "display_data"
    },
    {
     "data": {
      "text/plain": [
       "<Figure size 720x720 with 0 Axes>"
      ]
     },
     "metadata": {},
     "output_type": "display_data"
    },
    {
     "data": {
      "text/plain": [
       "<Figure size 720x720 with 0 Axes>"
      ]
     },
     "metadata": {},
     "output_type": "display_data"
    },
    {
     "data": {
      "text/plain": [
       "<Figure size 720x720 with 0 Axes>"
      ]
     },
     "metadata": {},
     "output_type": "display_data"
    },
    {
     "data": {
      "text/plain": [
       "<Figure size 720x720 with 0 Axes>"
      ]
     },
     "metadata": {},
     "output_type": "display_data"
    },
    {
     "data": {
      "text/plain": [
       "<Figure size 720x720 with 0 Axes>"
      ]
     },
     "metadata": {},
     "output_type": "display_data"
    },
    {
     "data": {
      "text/plain": [
       "<Figure size 720x720 with 0 Axes>"
      ]
     },
     "metadata": {},
     "output_type": "display_data"
    },
    {
     "data": {
      "text/plain": [
       "<Figure size 720x720 with 0 Axes>"
      ]
     },
     "metadata": {},
     "output_type": "display_data"
    },
    {
     "data": {
      "text/plain": [
       "<Figure size 720x720 with 0 Axes>"
      ]
     },
     "metadata": {},
     "output_type": "display_data"
    },
    {
     "data": {
      "text/plain": [
       "<Figure size 720x720 with 0 Axes>"
      ]
     },
     "metadata": {},
     "output_type": "display_data"
    },
    {
     "data": {
      "text/plain": [
       "<Figure size 720x720 with 0 Axes>"
      ]
     },
     "metadata": {},
     "output_type": "display_data"
    },
    {
     "data": {
      "text/plain": [
       "<Figure size 720x720 with 0 Axes>"
      ]
     },
     "metadata": {},
     "output_type": "display_data"
    },
    {
     "data": {
      "text/plain": [
       "<Figure size 720x720 with 0 Axes>"
      ]
     },
     "metadata": {},
     "output_type": "display_data"
    },
    {
     "data": {
      "text/plain": [
       "<Figure size 720x720 with 0 Axes>"
      ]
     },
     "metadata": {},
     "output_type": "display_data"
    },
    {
     "data": {
      "text/plain": [
       "<Figure size 720x720 with 0 Axes>"
      ]
     },
     "metadata": {},
     "output_type": "display_data"
    },
    {
     "data": {
      "text/plain": [
       "<Figure size 720x720 with 0 Axes>"
      ]
     },
     "metadata": {},
     "output_type": "display_data"
    },
    {
     "data": {
      "text/plain": [
       "<Figure size 720x720 with 0 Axes>"
      ]
     },
     "metadata": {},
     "output_type": "display_data"
    },
    {
     "data": {
      "text/plain": [
       "<Figure size 720x720 with 0 Axes>"
      ]
     },
     "metadata": {},
     "output_type": "display_data"
    },
    {
     "data": {
      "text/plain": [
       "<Figure size 720x720 with 0 Axes>"
      ]
     },
     "metadata": {},
     "output_type": "display_data"
    },
    {
     "data": {
      "text/plain": [
       "<Figure size 720x720 with 0 Axes>"
      ]
     },
     "metadata": {},
     "output_type": "display_data"
    },
    {
     "data": {
      "text/plain": [
       "<Figure size 720x720 with 0 Axes>"
      ]
     },
     "metadata": {},
     "output_type": "display_data"
    },
    {
     "data": {
      "text/plain": [
       "<Figure size 720x720 with 0 Axes>"
      ]
     },
     "metadata": {},
     "output_type": "display_data"
    },
    {
     "data": {
      "text/plain": [
       "<Figure size 720x720 with 0 Axes>"
      ]
     },
     "metadata": {},
     "output_type": "display_data"
    },
    {
     "data": {
      "text/plain": [
       "<Figure size 720x720 with 0 Axes>"
      ]
     },
     "metadata": {},
     "output_type": "display_data"
    },
    {
     "data": {
      "text/plain": [
       "<Figure size 720x720 with 0 Axes>"
      ]
     },
     "metadata": {},
     "output_type": "display_data"
    },
    {
     "data": {
      "text/plain": [
       "<Figure size 720x720 with 0 Axes>"
      ]
     },
     "metadata": {},
     "output_type": "display_data"
    },
    {
     "data": {
      "text/plain": [
       "<Figure size 720x720 with 0 Axes>"
      ]
     },
     "metadata": {},
     "output_type": "display_data"
    },
    {
     "data": {
      "text/plain": [
       "<Figure size 720x720 with 0 Axes>"
      ]
     },
     "metadata": {},
     "output_type": "display_data"
    },
    {
     "data": {
      "text/plain": [
       "<Figure size 720x720 with 0 Axes>"
      ]
     },
     "metadata": {},
     "output_type": "display_data"
    },
    {
     "data": {
      "text/plain": [
       "<Figure size 720x720 with 0 Axes>"
      ]
     },
     "metadata": {},
     "output_type": "display_data"
    },
    {
     "data": {
      "text/plain": [
       "<Figure size 720x720 with 0 Axes>"
      ]
     },
     "metadata": {},
     "output_type": "display_data"
    },
    {
     "data": {
      "text/plain": [
       "<Figure size 720x720 with 0 Axes>"
      ]
     },
     "metadata": {},
     "output_type": "display_data"
    },
    {
     "data": {
      "text/plain": [
       "<Figure size 720x720 with 0 Axes>"
      ]
     },
     "metadata": {},
     "output_type": "display_data"
    },
    {
     "data": {
      "text/plain": [
       "<Figure size 720x720 with 0 Axes>"
      ]
     },
     "metadata": {},
     "output_type": "display_data"
    },
    {
     "data": {
      "text/plain": [
       "<Figure size 720x720 with 0 Axes>"
      ]
     },
     "metadata": {},
     "output_type": "display_data"
    },
    {
     "data": {
      "text/plain": [
       "<Figure size 720x720 with 0 Axes>"
      ]
     },
     "metadata": {},
     "output_type": "display_data"
    },
    {
     "data": {
      "text/plain": [
       "<Figure size 720x720 with 0 Axes>"
      ]
     },
     "metadata": {},
     "output_type": "display_data"
    },
    {
     "data": {
      "text/plain": [
       "<Figure size 720x720 with 0 Axes>"
      ]
     },
     "metadata": {},
     "output_type": "display_data"
    },
    {
     "data": {
      "text/plain": [
       "<Figure size 720x720 with 0 Axes>"
      ]
     },
     "metadata": {},
     "output_type": "display_data"
    },
    {
     "data": {
      "text/plain": [
       "<Figure size 720x720 with 0 Axes>"
      ]
     },
     "metadata": {},
     "output_type": "display_data"
    },
    {
     "data": {
      "text/plain": [
       "<Figure size 720x720 with 0 Axes>"
      ]
     },
     "metadata": {},
     "output_type": "display_data"
    },
    {
     "data": {
      "text/plain": [
       "<Figure size 720x720 with 0 Axes>"
      ]
     },
     "metadata": {},
     "output_type": "display_data"
    },
    {
     "data": {
      "text/plain": [
       "<Figure size 720x720 with 0 Axes>"
      ]
     },
     "metadata": {},
     "output_type": "display_data"
    },
    {
     "data": {
      "text/plain": [
       "<Figure size 720x720 with 0 Axes>"
      ]
     },
     "metadata": {},
     "output_type": "display_data"
    },
    {
     "data": {
      "text/plain": [
       "<Figure size 720x720 with 0 Axes>"
      ]
     },
     "metadata": {},
     "output_type": "display_data"
    },
    {
     "data": {
      "text/plain": [
       "<Figure size 720x720 with 0 Axes>"
      ]
     },
     "metadata": {},
     "output_type": "display_data"
    },
    {
     "data": {
      "text/plain": [
       "<Figure size 720x720 with 0 Axes>"
      ]
     },
     "metadata": {},
     "output_type": "display_data"
    },
    {
     "data": {
      "text/plain": [
       "<Figure size 720x720 with 0 Axes>"
      ]
     },
     "metadata": {},
     "output_type": "display_data"
    },
    {
     "data": {
      "text/plain": [
       "<Figure size 720x720 with 0 Axes>"
      ]
     },
     "metadata": {},
     "output_type": "display_data"
    },
    {
     "data": {
      "text/plain": [
       "<Figure size 720x720 with 0 Axes>"
      ]
     },
     "metadata": {},
     "output_type": "display_data"
    },
    {
     "data": {
      "text/plain": [
       "<Figure size 720x720 with 0 Axes>"
      ]
     },
     "metadata": {},
     "output_type": "display_data"
    },
    {
     "data": {
      "text/plain": [
       "<Figure size 720x720 with 0 Axes>"
      ]
     },
     "metadata": {},
     "output_type": "display_data"
    },
    {
     "data": {
      "text/plain": [
       "<Figure size 720x720 with 0 Axes>"
      ]
     },
     "metadata": {},
     "output_type": "display_data"
    },
    {
     "data": {
      "text/plain": [
       "<Figure size 720x720 with 0 Axes>"
      ]
     },
     "metadata": {},
     "output_type": "display_data"
    },
    {
     "data": {
      "text/plain": [
       "<Figure size 720x720 with 0 Axes>"
      ]
     },
     "metadata": {},
     "output_type": "display_data"
    },
    {
     "data": {
      "text/plain": [
       "<Figure size 720x720 with 0 Axes>"
      ]
     },
     "metadata": {},
     "output_type": "display_data"
    },
    {
     "data": {
      "text/plain": [
       "<Figure size 720x720 with 0 Axes>"
      ]
     },
     "metadata": {},
     "output_type": "display_data"
    },
    {
     "data": {
      "text/plain": [
       "<Figure size 720x720 with 0 Axes>"
      ]
     },
     "metadata": {},
     "output_type": "display_data"
    },
    {
     "data": {
      "text/plain": [
       "<Figure size 720x720 with 0 Axes>"
      ]
     },
     "metadata": {},
     "output_type": "display_data"
    },
    {
     "data": {
      "text/plain": [
       "<Figure size 720x720 with 0 Axes>"
      ]
     },
     "metadata": {},
     "output_type": "display_data"
    },
    {
     "data": {
      "text/plain": [
       "<Figure size 720x720 with 0 Axes>"
      ]
     },
     "metadata": {},
     "output_type": "display_data"
    },
    {
     "data": {
      "text/plain": [
       "<Figure size 720x720 with 0 Axes>"
      ]
     },
     "metadata": {},
     "output_type": "display_data"
    },
    {
     "data": {
      "text/plain": [
       "<Figure size 720x720 with 0 Axes>"
      ]
     },
     "metadata": {},
     "output_type": "display_data"
    },
    {
     "data": {
      "text/plain": [
       "<Figure size 720x720 with 0 Axes>"
      ]
     },
     "metadata": {},
     "output_type": "display_data"
    },
    {
     "data": {
      "text/plain": [
       "<Figure size 720x720 with 0 Axes>"
      ]
     },
     "metadata": {},
     "output_type": "display_data"
    },
    {
     "data": {
      "text/plain": [
       "<Figure size 720x720 with 0 Axes>"
      ]
     },
     "metadata": {},
     "output_type": "display_data"
    },
    {
     "data": {
      "text/plain": [
       "<Figure size 720x720 with 0 Axes>"
      ]
     },
     "metadata": {},
     "output_type": "display_data"
    },
    {
     "data": {
      "text/plain": [
       "<Figure size 720x720 with 0 Axes>"
      ]
     },
     "metadata": {},
     "output_type": "display_data"
    },
    {
     "data": {
      "text/plain": [
       "<Figure size 720x720 with 0 Axes>"
      ]
     },
     "metadata": {},
     "output_type": "display_data"
    },
    {
     "data": {
      "text/plain": [
       "<Figure size 720x720 with 0 Axes>"
      ]
     },
     "metadata": {},
     "output_type": "display_data"
    },
    {
     "data": {
      "text/plain": [
       "<Figure size 720x720 with 0 Axes>"
      ]
     },
     "metadata": {},
     "output_type": "display_data"
    },
    {
     "data": {
      "text/plain": [
       "<Figure size 720x720 with 0 Axes>"
      ]
     },
     "metadata": {},
     "output_type": "display_data"
    },
    {
     "data": {
      "text/plain": [
       "<Figure size 720x720 with 0 Axes>"
      ]
     },
     "metadata": {},
     "output_type": "display_data"
    },
    {
     "data": {
      "text/plain": [
       "<Figure size 720x720 with 0 Axes>"
      ]
     },
     "metadata": {},
     "output_type": "display_data"
    },
    {
     "data": {
      "text/plain": [
       "<Figure size 720x720 with 0 Axes>"
      ]
     },
     "metadata": {},
     "output_type": "display_data"
    },
    {
     "data": {
      "text/plain": [
       "<Figure size 720x720 with 0 Axes>"
      ]
     },
     "metadata": {},
     "output_type": "display_data"
    },
    {
     "data": {
      "text/plain": [
       "<Figure size 720x720 with 0 Axes>"
      ]
     },
     "metadata": {},
     "output_type": "display_data"
    },
    {
     "data": {
      "text/plain": [
       "<Figure size 720x720 with 0 Axes>"
      ]
     },
     "metadata": {},
     "output_type": "display_data"
    },
    {
     "data": {
      "text/plain": [
       "<Figure size 720x720 with 0 Axes>"
      ]
     },
     "metadata": {},
     "output_type": "display_data"
    },
    {
     "data": {
      "text/plain": [
       "<Figure size 720x720 with 0 Axes>"
      ]
     },
     "metadata": {},
     "output_type": "display_data"
    },
    {
     "data": {
      "text/plain": [
       "<Figure size 720x720 with 0 Axes>"
      ]
     },
     "metadata": {},
     "output_type": "display_data"
    },
    {
     "data": {
      "text/plain": [
       "<Figure size 720x720 with 0 Axes>"
      ]
     },
     "metadata": {},
     "output_type": "display_data"
    },
    {
     "data": {
      "text/plain": [
       "<Figure size 720x720 with 0 Axes>"
      ]
     },
     "metadata": {},
     "output_type": "display_data"
    },
    {
     "data": {
      "text/plain": [
       "<Figure size 720x720 with 0 Axes>"
      ]
     },
     "metadata": {},
     "output_type": "display_data"
    },
    {
     "data": {
      "text/plain": [
       "<Figure size 720x720 with 0 Axes>"
      ]
     },
     "metadata": {},
     "output_type": "display_data"
    },
    {
     "data": {
      "text/plain": [
       "<Figure size 720x720 with 0 Axes>"
      ]
     },
     "metadata": {},
     "output_type": "display_data"
    },
    {
     "data": {
      "text/plain": [
       "<Figure size 720x720 with 0 Axes>"
      ]
     },
     "metadata": {},
     "output_type": "display_data"
    },
    {
     "data": {
      "text/plain": [
       "<Figure size 720x720 with 0 Axes>"
      ]
     },
     "metadata": {},
     "output_type": "display_data"
    },
    {
     "data": {
      "text/plain": [
       "<Figure size 720x720 with 0 Axes>"
      ]
     },
     "metadata": {},
     "output_type": "display_data"
    },
    {
     "data": {
      "text/plain": [
       "<Figure size 720x720 with 0 Axes>"
      ]
     },
     "metadata": {},
     "output_type": "display_data"
    },
    {
     "data": {
      "text/plain": [
       "<Figure size 720x720 with 0 Axes>"
      ]
     },
     "metadata": {},
     "output_type": "display_data"
    },
    {
     "data": {
      "text/plain": [
       "<Figure size 720x720 with 0 Axes>"
      ]
     },
     "metadata": {},
     "output_type": "display_data"
    },
    {
     "data": {
      "text/plain": [
       "<Figure size 720x720 with 0 Axes>"
      ]
     },
     "metadata": {},
     "output_type": "display_data"
    },
    {
     "data": {
      "text/plain": [
       "<Figure size 720x720 with 0 Axes>"
      ]
     },
     "metadata": {},
     "output_type": "display_data"
    },
    {
     "data": {
      "text/plain": [
       "<Figure size 720x720 with 0 Axes>"
      ]
     },
     "metadata": {},
     "output_type": "display_data"
    },
    {
     "data": {
      "text/plain": [
       "<Figure size 720x720 with 0 Axes>"
      ]
     },
     "metadata": {},
     "output_type": "display_data"
    },
    {
     "data": {
      "text/plain": [
       "<Figure size 720x720 with 0 Axes>"
      ]
     },
     "metadata": {},
     "output_type": "display_data"
    },
    {
     "data": {
      "text/plain": [
       "<Figure size 720x720 with 0 Axes>"
      ]
     },
     "metadata": {},
     "output_type": "display_data"
    },
    {
     "data": {
      "text/plain": [
       "<Figure size 720x720 with 0 Axes>"
      ]
     },
     "metadata": {},
     "output_type": "display_data"
    },
    {
     "data": {
      "text/plain": [
       "<Figure size 720x720 with 0 Axes>"
      ]
     },
     "metadata": {},
     "output_type": "display_data"
    },
    {
     "data": {
      "text/plain": [
       "<Figure size 720x720 with 0 Axes>"
      ]
     },
     "metadata": {},
     "output_type": "display_data"
    },
    {
     "data": {
      "text/plain": [
       "<Figure size 720x720 with 0 Axes>"
      ]
     },
     "metadata": {},
     "output_type": "display_data"
    },
    {
     "data": {
      "text/plain": [
       "<Figure size 720x720 with 0 Axes>"
      ]
     },
     "metadata": {},
     "output_type": "display_data"
    },
    {
     "data": {
      "text/plain": [
       "<Figure size 720x720 with 0 Axes>"
      ]
     },
     "metadata": {},
     "output_type": "display_data"
    },
    {
     "data": {
      "text/plain": [
       "<Figure size 720x720 with 0 Axes>"
      ]
     },
     "metadata": {},
     "output_type": "display_data"
    },
    {
     "data": {
      "text/plain": [
       "<Figure size 720x720 with 0 Axes>"
      ]
     },
     "metadata": {},
     "output_type": "display_data"
    },
    {
     "data": {
      "text/plain": [
       "<Figure size 720x720 with 0 Axes>"
      ]
     },
     "metadata": {},
     "output_type": "display_data"
    },
    {
     "data": {
      "text/plain": [
       "<Figure size 720x720 with 0 Axes>"
      ]
     },
     "metadata": {},
     "output_type": "display_data"
    },
    {
     "data": {
      "text/plain": [
       "<Figure size 720x720 with 0 Axes>"
      ]
     },
     "metadata": {},
     "output_type": "display_data"
    },
    {
     "data": {
      "text/plain": [
       "<Figure size 720x720 with 0 Axes>"
      ]
     },
     "metadata": {},
     "output_type": "display_data"
    },
    {
     "data": {
      "text/plain": [
       "<Figure size 720x720 with 0 Axes>"
      ]
     },
     "metadata": {},
     "output_type": "display_data"
    },
    {
     "data": {
      "text/plain": [
       "<Figure size 720x720 with 0 Axes>"
      ]
     },
     "metadata": {},
     "output_type": "display_data"
    },
    {
     "data": {
      "text/plain": [
       "<Figure size 720x720 with 0 Axes>"
      ]
     },
     "metadata": {},
     "output_type": "display_data"
    },
    {
     "data": {
      "text/plain": [
       "<Figure size 720x720 with 0 Axes>"
      ]
     },
     "metadata": {},
     "output_type": "display_data"
    },
    {
     "data": {
      "text/plain": [
       "<Figure size 720x720 with 0 Axes>"
      ]
     },
     "metadata": {},
     "output_type": "display_data"
    },
    {
     "data": {
      "text/plain": [
       "<Figure size 720x720 with 0 Axes>"
      ]
     },
     "metadata": {},
     "output_type": "display_data"
    },
    {
     "data": {
      "text/plain": [
       "<Figure size 720x720 with 0 Axes>"
      ]
     },
     "metadata": {},
     "output_type": "display_data"
    },
    {
     "data": {
      "text/plain": [
       "<Figure size 720x720 with 0 Axes>"
      ]
     },
     "metadata": {},
     "output_type": "display_data"
    },
    {
     "data": {
      "text/plain": [
       "<Figure size 720x720 with 0 Axes>"
      ]
     },
     "metadata": {},
     "output_type": "display_data"
    },
    {
     "data": {
      "text/plain": [
       "<Figure size 720x720 with 0 Axes>"
      ]
     },
     "metadata": {},
     "output_type": "display_data"
    },
    {
     "data": {
      "text/plain": [
       "<Figure size 720x720 with 0 Axes>"
      ]
     },
     "metadata": {},
     "output_type": "display_data"
    },
    {
     "data": {
      "text/plain": [
       "<Figure size 720x720 with 0 Axes>"
      ]
     },
     "metadata": {},
     "output_type": "display_data"
    },
    {
     "data": {
      "text/plain": [
       "<Figure size 720x720 with 0 Axes>"
      ]
     },
     "metadata": {},
     "output_type": "display_data"
    },
    {
     "data": {
      "text/plain": [
       "<Figure size 720x720 with 0 Axes>"
      ]
     },
     "metadata": {},
     "output_type": "display_data"
    },
    {
     "data": {
      "text/plain": [
       "<Figure size 720x720 with 0 Axes>"
      ]
     },
     "metadata": {},
     "output_type": "display_data"
    },
    {
     "data": {
      "text/plain": [
       "<Figure size 720x720 with 0 Axes>"
      ]
     },
     "metadata": {},
     "output_type": "display_data"
    },
    {
     "data": {
      "text/plain": [
       "<Figure size 720x720 with 0 Axes>"
      ]
     },
     "metadata": {},
     "output_type": "display_data"
    },
    {
     "data": {
      "text/plain": [
       "<Figure size 720x720 with 0 Axes>"
      ]
     },
     "metadata": {},
     "output_type": "display_data"
    },
    {
     "data": {
      "text/plain": [
       "<Figure size 720x720 with 0 Axes>"
      ]
     },
     "metadata": {},
     "output_type": "display_data"
    },
    {
     "data": {
      "text/plain": [
       "<Figure size 720x720 with 0 Axes>"
      ]
     },
     "metadata": {},
     "output_type": "display_data"
    },
    {
     "data": {
      "text/plain": [
       "<Figure size 720x720 with 0 Axes>"
      ]
     },
     "metadata": {},
     "output_type": "display_data"
    },
    {
     "data": {
      "text/plain": [
       "<Figure size 720x720 with 0 Axes>"
      ]
     },
     "metadata": {},
     "output_type": "display_data"
    },
    {
     "data": {
      "text/plain": [
       "<Figure size 720x720 with 0 Axes>"
      ]
     },
     "metadata": {},
     "output_type": "display_data"
    },
    {
     "data": {
      "text/plain": [
       "<Figure size 720x720 with 0 Axes>"
      ]
     },
     "metadata": {},
     "output_type": "display_data"
    },
    {
     "data": {
      "text/plain": [
       "<Figure size 720x720 with 0 Axes>"
      ]
     },
     "metadata": {},
     "output_type": "display_data"
    },
    {
     "data": {
      "text/plain": [
       "<Figure size 720x720 with 0 Axes>"
      ]
     },
     "metadata": {},
     "output_type": "display_data"
    },
    {
     "data": {
      "text/plain": [
       "<Figure size 720x720 with 0 Axes>"
      ]
     },
     "metadata": {},
     "output_type": "display_data"
    },
    {
     "data": {
      "text/plain": [
       "<Figure size 720x720 with 0 Axes>"
      ]
     },
     "metadata": {},
     "output_type": "display_data"
    },
    {
     "data": {
      "text/plain": [
       "<Figure size 720x720 with 0 Axes>"
      ]
     },
     "metadata": {},
     "output_type": "display_data"
    },
    {
     "data": {
      "text/plain": [
       "<Figure size 720x720 with 0 Axes>"
      ]
     },
     "metadata": {},
     "output_type": "display_data"
    },
    {
     "data": {
      "text/plain": [
       "<Figure size 720x720 with 0 Axes>"
      ]
     },
     "metadata": {},
     "output_type": "display_data"
    },
    {
     "data": {
      "text/plain": [
       "<Figure size 720x720 with 0 Axes>"
      ]
     },
     "metadata": {},
     "output_type": "display_data"
    },
    {
     "data": {
      "text/plain": [
       "<Figure size 720x720 with 0 Axes>"
      ]
     },
     "metadata": {},
     "output_type": "display_data"
    },
    {
     "data": {
      "text/plain": [
       "<Figure size 720x720 with 0 Axes>"
      ]
     },
     "metadata": {},
     "output_type": "display_data"
    },
    {
     "data": {
      "text/plain": [
       "<Figure size 720x720 with 0 Axes>"
      ]
     },
     "metadata": {},
     "output_type": "display_data"
    },
    {
     "data": {
      "text/plain": [
       "<Figure size 720x720 with 0 Axes>"
      ]
     },
     "metadata": {},
     "output_type": "display_data"
    },
    {
     "data": {
      "text/plain": [
       "<Figure size 720x720 with 0 Axes>"
      ]
     },
     "metadata": {},
     "output_type": "display_data"
    },
    {
     "data": {
      "text/plain": [
       "<Figure size 720x720 with 0 Axes>"
      ]
     },
     "metadata": {},
     "output_type": "display_data"
    },
    {
     "data": {
      "text/plain": [
       "<Figure size 720x720 with 0 Axes>"
      ]
     },
     "metadata": {},
     "output_type": "display_data"
    },
    {
     "data": {
      "text/plain": [
       "<Figure size 720x720 with 0 Axes>"
      ]
     },
     "metadata": {},
     "output_type": "display_data"
    },
    {
     "data": {
      "text/plain": [
       "<Figure size 720x720 with 0 Axes>"
      ]
     },
     "metadata": {},
     "output_type": "display_data"
    },
    {
     "data": {
      "text/plain": [
       "<Figure size 720x720 with 0 Axes>"
      ]
     },
     "metadata": {},
     "output_type": "display_data"
    },
    {
     "data": {
      "text/plain": [
       "<Figure size 720x720 with 0 Axes>"
      ]
     },
     "metadata": {},
     "output_type": "display_data"
    },
    {
     "data": {
      "text/plain": [
       "<Figure size 720x720 with 0 Axes>"
      ]
     },
     "metadata": {},
     "output_type": "display_data"
    },
    {
     "data": {
      "text/plain": [
       "<Figure size 720x720 with 0 Axes>"
      ]
     },
     "metadata": {},
     "output_type": "display_data"
    },
    {
     "data": {
      "text/plain": [
       "<Figure size 720x720 with 0 Axes>"
      ]
     },
     "metadata": {},
     "output_type": "display_data"
    },
    {
     "data": {
      "text/plain": [
       "<Figure size 720x720 with 0 Axes>"
      ]
     },
     "metadata": {},
     "output_type": "display_data"
    },
    {
     "data": {
      "text/plain": [
       "<Figure size 720x720 with 0 Axes>"
      ]
     },
     "metadata": {},
     "output_type": "display_data"
    },
    {
     "data": {
      "text/plain": [
       "<Figure size 720x720 with 0 Axes>"
      ]
     },
     "metadata": {},
     "output_type": "display_data"
    },
    {
     "data": {
      "text/plain": [
       "<Figure size 720x720 with 0 Axes>"
      ]
     },
     "metadata": {},
     "output_type": "display_data"
    },
    {
     "data": {
      "text/plain": [
       "<Figure size 720x720 with 0 Axes>"
      ]
     },
     "metadata": {},
     "output_type": "display_data"
    },
    {
     "data": {
      "text/plain": [
       "<Figure size 720x720 with 0 Axes>"
      ]
     },
     "metadata": {},
     "output_type": "display_data"
    },
    {
     "data": {
      "text/plain": [
       "<Figure size 720x720 with 0 Axes>"
      ]
     },
     "metadata": {},
     "output_type": "display_data"
    },
    {
     "data": {
      "text/plain": [
       "<Figure size 720x720 with 0 Axes>"
      ]
     },
     "metadata": {},
     "output_type": "display_data"
    },
    {
     "data": {
      "text/plain": [
       "<Figure size 720x720 with 0 Axes>"
      ]
     },
     "metadata": {},
     "output_type": "display_data"
    },
    {
     "data": {
      "text/plain": [
       "<Figure size 720x720 with 0 Axes>"
      ]
     },
     "metadata": {},
     "output_type": "display_data"
    },
    {
     "data": {
      "text/plain": [
       "<Figure size 720x720 with 0 Axes>"
      ]
     },
     "metadata": {},
     "output_type": "display_data"
    },
    {
     "data": {
      "text/plain": [
       "<Figure size 720x720 with 0 Axes>"
      ]
     },
     "metadata": {},
     "output_type": "display_data"
    },
    {
     "data": {
      "text/plain": [
       "<Figure size 720x720 with 0 Axes>"
      ]
     },
     "metadata": {},
     "output_type": "display_data"
    },
    {
     "data": {
      "text/plain": [
       "<Figure size 720x720 with 0 Axes>"
      ]
     },
     "metadata": {},
     "output_type": "display_data"
    },
    {
     "data": {
      "text/plain": [
       "<Figure size 720x720 with 0 Axes>"
      ]
     },
     "metadata": {},
     "output_type": "display_data"
    },
    {
     "data": {
      "text/plain": [
       "<Figure size 720x720 with 0 Axes>"
      ]
     },
     "metadata": {},
     "output_type": "display_data"
    },
    {
     "data": {
      "text/plain": [
       "<Figure size 720x720 with 0 Axes>"
      ]
     },
     "metadata": {},
     "output_type": "display_data"
    },
    {
     "data": {
      "text/plain": [
       "<Figure size 720x720 with 0 Axes>"
      ]
     },
     "metadata": {},
     "output_type": "display_data"
    },
    {
     "data": {
      "text/plain": [
       "<Figure size 720x720 with 0 Axes>"
      ]
     },
     "metadata": {},
     "output_type": "display_data"
    },
    {
     "data": {
      "text/plain": [
       "<Figure size 720x720 with 0 Axes>"
      ]
     },
     "metadata": {},
     "output_type": "display_data"
    },
    {
     "data": {
      "text/plain": [
       "<Figure size 720x720 with 0 Axes>"
      ]
     },
     "metadata": {},
     "output_type": "display_data"
    },
    {
     "data": {
      "text/plain": [
       "<Figure size 720x720 with 0 Axes>"
      ]
     },
     "metadata": {},
     "output_type": "display_data"
    },
    {
     "data": {
      "text/plain": [
       "<Figure size 720x720 with 0 Axes>"
      ]
     },
     "metadata": {},
     "output_type": "display_data"
    },
    {
     "data": {
      "text/plain": [
       "<Figure size 720x720 with 0 Axes>"
      ]
     },
     "metadata": {},
     "output_type": "display_data"
    },
    {
     "data": {
      "text/plain": [
       "<Figure size 720x720 with 0 Axes>"
      ]
     },
     "metadata": {},
     "output_type": "display_data"
    },
    {
     "data": {
      "text/plain": [
       "<Figure size 720x720 with 0 Axes>"
      ]
     },
     "metadata": {},
     "output_type": "display_data"
    },
    {
     "data": {
      "text/plain": [
       "<Figure size 720x720 with 0 Axes>"
      ]
     },
     "metadata": {},
     "output_type": "display_data"
    },
    {
     "data": {
      "text/plain": [
       "<Figure size 720x720 with 0 Axes>"
      ]
     },
     "metadata": {},
     "output_type": "display_data"
    },
    {
     "data": {
      "text/plain": [
       "<Figure size 720x720 with 0 Axes>"
      ]
     },
     "metadata": {},
     "output_type": "display_data"
    },
    {
     "data": {
      "text/plain": [
       "<Figure size 720x720 with 0 Axes>"
      ]
     },
     "metadata": {},
     "output_type": "display_data"
    },
    {
     "data": {
      "text/plain": [
       "<Figure size 720x720 with 0 Axes>"
      ]
     },
     "metadata": {},
     "output_type": "display_data"
    },
    {
     "data": {
      "text/plain": [
       "<Figure size 720x720 with 0 Axes>"
      ]
     },
     "metadata": {},
     "output_type": "display_data"
    },
    {
     "data": {
      "text/plain": [
       "<Figure size 720x720 with 0 Axes>"
      ]
     },
     "metadata": {},
     "output_type": "display_data"
    },
    {
     "data": {
      "text/plain": [
       "<Figure size 720x720 with 0 Axes>"
      ]
     },
     "metadata": {},
     "output_type": "display_data"
    },
    {
     "data": {
      "text/plain": [
       "<Figure size 720x720 with 0 Axes>"
      ]
     },
     "metadata": {},
     "output_type": "display_data"
    },
    {
     "data": {
      "text/plain": [
       "<Figure size 720x720 with 0 Axes>"
      ]
     },
     "metadata": {},
     "output_type": "display_data"
    },
    {
     "data": {
      "text/plain": [
       "<Figure size 720x720 with 0 Axes>"
      ]
     },
     "metadata": {},
     "output_type": "display_data"
    },
    {
     "data": {
      "text/plain": [
       "<Figure size 720x720 with 0 Axes>"
      ]
     },
     "metadata": {},
     "output_type": "display_data"
    },
    {
     "data": {
      "text/plain": [
       "<Figure size 720x720 with 0 Axes>"
      ]
     },
     "metadata": {},
     "output_type": "display_data"
    },
    {
     "data": {
      "text/plain": [
       "<Figure size 720x720 with 0 Axes>"
      ]
     },
     "metadata": {},
     "output_type": "display_data"
    },
    {
     "data": {
      "text/plain": [
       "<Figure size 720x720 with 0 Axes>"
      ]
     },
     "metadata": {},
     "output_type": "display_data"
    },
    {
     "data": {
      "text/plain": [
       "<Figure size 720x720 with 0 Axes>"
      ]
     },
     "metadata": {},
     "output_type": "display_data"
    },
    {
     "data": {
      "text/plain": [
       "<Figure size 720x720 with 0 Axes>"
      ]
     },
     "metadata": {},
     "output_type": "display_data"
    },
    {
     "data": {
      "text/plain": [
       "<Figure size 720x720 with 0 Axes>"
      ]
     },
     "metadata": {},
     "output_type": "display_data"
    },
    {
     "data": {
      "text/plain": [
       "<Figure size 720x720 with 0 Axes>"
      ]
     },
     "metadata": {},
     "output_type": "display_data"
    },
    {
     "data": {
      "text/plain": [
       "<Figure size 720x720 with 0 Axes>"
      ]
     },
     "metadata": {},
     "output_type": "display_data"
    },
    {
     "data": {
      "text/plain": [
       "<Figure size 720x720 with 0 Axes>"
      ]
     },
     "metadata": {},
     "output_type": "display_data"
    },
    {
     "data": {
      "text/plain": [
       "<Figure size 720x720 with 0 Axes>"
      ]
     },
     "metadata": {},
     "output_type": "display_data"
    },
    {
     "data": {
      "text/plain": [
       "<Figure size 720x720 with 0 Axes>"
      ]
     },
     "metadata": {},
     "output_type": "display_data"
    },
    {
     "data": {
      "text/plain": [
       "<Figure size 720x720 with 0 Axes>"
      ]
     },
     "metadata": {},
     "output_type": "display_data"
    },
    {
     "data": {
      "text/plain": [
       "<Figure size 720x720 with 0 Axes>"
      ]
     },
     "metadata": {},
     "output_type": "display_data"
    },
    {
     "data": {
      "text/plain": [
       "<Figure size 720x720 with 0 Axes>"
      ]
     },
     "metadata": {},
     "output_type": "display_data"
    },
    {
     "data": {
      "text/plain": [
       "<Figure size 720x720 with 0 Axes>"
      ]
     },
     "metadata": {},
     "output_type": "display_data"
    },
    {
     "data": {
      "text/plain": [
       "<Figure size 720x720 with 0 Axes>"
      ]
     },
     "metadata": {},
     "output_type": "display_data"
    },
    {
     "data": {
      "text/plain": [
       "<Figure size 720x720 with 0 Axes>"
      ]
     },
     "metadata": {},
     "output_type": "display_data"
    },
    {
     "data": {
      "text/plain": [
       "<Figure size 720x720 with 0 Axes>"
      ]
     },
     "metadata": {},
     "output_type": "display_data"
    },
    {
     "data": {
      "text/plain": [
       "<Figure size 720x720 with 0 Axes>"
      ]
     },
     "metadata": {},
     "output_type": "display_data"
    },
    {
     "data": {
      "text/plain": [
       "<Figure size 720x720 with 0 Axes>"
      ]
     },
     "metadata": {},
     "output_type": "display_data"
    },
    {
     "data": {
      "text/plain": [
       "<Figure size 720x720 with 0 Axes>"
      ]
     },
     "metadata": {},
     "output_type": "display_data"
    },
    {
     "data": {
      "text/plain": [
       "<Figure size 720x720 with 0 Axes>"
      ]
     },
     "metadata": {},
     "output_type": "display_data"
    },
    {
     "data": {
      "text/plain": [
       "<Figure size 720x720 with 0 Axes>"
      ]
     },
     "metadata": {},
     "output_type": "display_data"
    },
    {
     "data": {
      "text/plain": [
       "<Figure size 720x720 with 0 Axes>"
      ]
     },
     "metadata": {},
     "output_type": "display_data"
    },
    {
     "data": {
      "text/plain": [
       "<Figure size 720x720 with 0 Axes>"
      ]
     },
     "metadata": {},
     "output_type": "display_data"
    },
    {
     "data": {
      "text/plain": [
       "<Figure size 720x720 with 0 Axes>"
      ]
     },
     "metadata": {},
     "output_type": "display_data"
    },
    {
     "data": {
      "text/plain": [
       "<Figure size 720x720 with 0 Axes>"
      ]
     },
     "metadata": {},
     "output_type": "display_data"
    },
    {
     "data": {
      "text/plain": [
       "<Figure size 720x720 with 0 Axes>"
      ]
     },
     "metadata": {},
     "output_type": "display_data"
    },
    {
     "data": {
      "text/plain": [
       "<Figure size 720x720 with 0 Axes>"
      ]
     },
     "metadata": {},
     "output_type": "display_data"
    },
    {
     "data": {
      "text/plain": [
       "<Figure size 720x720 with 0 Axes>"
      ]
     },
     "metadata": {},
     "output_type": "display_data"
    },
    {
     "data": {
      "text/plain": [
       "<Figure size 720x720 with 0 Axes>"
      ]
     },
     "metadata": {},
     "output_type": "display_data"
    },
    {
     "data": {
      "text/plain": [
       "<Figure size 720x720 with 0 Axes>"
      ]
     },
     "metadata": {},
     "output_type": "display_data"
    },
    {
     "data": {
      "text/plain": [
       "<Figure size 720x720 with 0 Axes>"
      ]
     },
     "metadata": {},
     "output_type": "display_data"
    },
    {
     "data": {
      "text/plain": [
       "<Figure size 720x720 with 0 Axes>"
      ]
     },
     "metadata": {},
     "output_type": "display_data"
    },
    {
     "data": {
      "text/plain": [
       "<Figure size 720x720 with 0 Axes>"
      ]
     },
     "metadata": {},
     "output_type": "display_data"
    },
    {
     "data": {
      "text/plain": [
       "<Figure size 720x720 with 0 Axes>"
      ]
     },
     "metadata": {},
     "output_type": "display_data"
    },
    {
     "data": {
      "text/plain": [
       "<Figure size 720x720 with 0 Axes>"
      ]
     },
     "metadata": {},
     "output_type": "display_data"
    },
    {
     "data": {
      "text/plain": [
       "<Figure size 720x720 with 0 Axes>"
      ]
     },
     "metadata": {},
     "output_type": "display_data"
    },
    {
     "data": {
      "text/plain": [
       "<Figure size 720x720 with 0 Axes>"
      ]
     },
     "metadata": {},
     "output_type": "display_data"
    },
    {
     "data": {
      "text/plain": [
       "<Figure size 720x720 with 0 Axes>"
      ]
     },
     "metadata": {},
     "output_type": "display_data"
    },
    {
     "data": {
      "text/plain": [
       "<Figure size 720x720 with 0 Axes>"
      ]
     },
     "metadata": {},
     "output_type": "display_data"
    },
    {
     "data": {
      "text/plain": [
       "<Figure size 720x720 with 0 Axes>"
      ]
     },
     "metadata": {},
     "output_type": "display_data"
    },
    {
     "data": {
      "text/plain": [
       "<Figure size 720x720 with 0 Axes>"
      ]
     },
     "metadata": {},
     "output_type": "display_data"
    },
    {
     "data": {
      "text/plain": [
       "<Figure size 720x720 with 0 Axes>"
      ]
     },
     "metadata": {},
     "output_type": "display_data"
    },
    {
     "data": {
      "text/plain": [
       "<Figure size 720x720 with 0 Axes>"
      ]
     },
     "metadata": {},
     "output_type": "display_data"
    },
    {
     "data": {
      "text/plain": [
       "<Figure size 720x720 with 0 Axes>"
      ]
     },
     "metadata": {},
     "output_type": "display_data"
    },
    {
     "data": {
      "text/plain": [
       "<Figure size 720x720 with 0 Axes>"
      ]
     },
     "metadata": {},
     "output_type": "display_data"
    },
    {
     "data": {
      "text/plain": [
       "<Figure size 720x720 with 0 Axes>"
      ]
     },
     "metadata": {},
     "output_type": "display_data"
    },
    {
     "data": {
      "text/plain": [
       "<Figure size 720x720 with 0 Axes>"
      ]
     },
     "metadata": {},
     "output_type": "display_data"
    },
    {
     "data": {
      "text/plain": [
       "<Figure size 720x720 with 0 Axes>"
      ]
     },
     "metadata": {},
     "output_type": "display_data"
    },
    {
     "data": {
      "text/plain": [
       "<Figure size 720x720 with 0 Axes>"
      ]
     },
     "metadata": {},
     "output_type": "display_data"
    },
    {
     "data": {
      "text/plain": [
       "<Figure size 720x720 with 0 Axes>"
      ]
     },
     "metadata": {},
     "output_type": "display_data"
    },
    {
     "data": {
      "text/plain": [
       "<Figure size 720x720 with 0 Axes>"
      ]
     },
     "metadata": {},
     "output_type": "display_data"
    },
    {
     "data": {
      "text/plain": [
       "<Figure size 720x720 with 0 Axes>"
      ]
     },
     "metadata": {},
     "output_type": "display_data"
    },
    {
     "data": {
      "text/plain": [
       "<Figure size 720x720 with 0 Axes>"
      ]
     },
     "metadata": {},
     "output_type": "display_data"
    },
    {
     "data": {
      "text/plain": [
       "<Figure size 720x720 with 0 Axes>"
      ]
     },
     "metadata": {},
     "output_type": "display_data"
    },
    {
     "data": {
      "text/plain": [
       "<Figure size 720x720 with 0 Axes>"
      ]
     },
     "metadata": {},
     "output_type": "display_data"
    },
    {
     "data": {
      "text/plain": [
       "<Figure size 720x720 with 0 Axes>"
      ]
     },
     "metadata": {},
     "output_type": "display_data"
    },
    {
     "data": {
      "text/plain": [
       "<Figure size 720x720 with 0 Axes>"
      ]
     },
     "metadata": {},
     "output_type": "display_data"
    },
    {
     "data": {
      "text/plain": [
       "<Figure size 720x720 with 0 Axes>"
      ]
     },
     "metadata": {},
     "output_type": "display_data"
    },
    {
     "data": {
      "text/plain": [
       "<Figure size 720x720 with 0 Axes>"
      ]
     },
     "metadata": {},
     "output_type": "display_data"
    },
    {
     "data": {
      "text/plain": [
       "<Figure size 720x720 with 0 Axes>"
      ]
     },
     "metadata": {},
     "output_type": "display_data"
    },
    {
     "data": {
      "text/plain": [
       "<Figure size 720x720 with 0 Axes>"
      ]
     },
     "metadata": {},
     "output_type": "display_data"
    },
    {
     "data": {
      "text/plain": [
       "<Figure size 720x720 with 0 Axes>"
      ]
     },
     "metadata": {},
     "output_type": "display_data"
    },
    {
     "data": {
      "text/plain": [
       "<Figure size 720x720 with 0 Axes>"
      ]
     },
     "metadata": {},
     "output_type": "display_data"
    },
    {
     "data": {
      "text/plain": [
       "<Figure size 720x720 with 0 Axes>"
      ]
     },
     "metadata": {},
     "output_type": "display_data"
    },
    {
     "data": {
      "text/plain": [
       "<Figure size 720x720 with 0 Axes>"
      ]
     },
     "metadata": {},
     "output_type": "display_data"
    },
    {
     "data": {
      "text/plain": [
       "<Figure size 720x720 with 0 Axes>"
      ]
     },
     "metadata": {},
     "output_type": "display_data"
    },
    {
     "data": {
      "text/plain": [
       "<Figure size 720x720 with 0 Axes>"
      ]
     },
     "metadata": {},
     "output_type": "display_data"
    },
    {
     "data": {
      "text/plain": [
       "<Figure size 720x720 with 0 Axes>"
      ]
     },
     "metadata": {},
     "output_type": "display_data"
    },
    {
     "data": {
      "text/plain": [
       "<Figure size 720x720 with 0 Axes>"
      ]
     },
     "metadata": {},
     "output_type": "display_data"
    },
    {
     "data": {
      "text/plain": [
       "<Figure size 720x720 with 0 Axes>"
      ]
     },
     "metadata": {},
     "output_type": "display_data"
    },
    {
     "data": {
      "text/plain": [
       "<Figure size 720x720 with 0 Axes>"
      ]
     },
     "metadata": {},
     "output_type": "display_data"
    },
    {
     "data": {
      "text/plain": [
       "<Figure size 720x720 with 0 Axes>"
      ]
     },
     "metadata": {},
     "output_type": "display_data"
    },
    {
     "data": {
      "text/plain": [
       "<Figure size 720x720 with 0 Axes>"
      ]
     },
     "metadata": {},
     "output_type": "display_data"
    },
    {
     "data": {
      "text/plain": [
       "<Figure size 720x720 with 0 Axes>"
      ]
     },
     "metadata": {},
     "output_type": "display_data"
    },
    {
     "data": {
      "text/plain": [
       "<Figure size 720x720 with 0 Axes>"
      ]
     },
     "metadata": {},
     "output_type": "display_data"
    },
    {
     "data": {
      "text/plain": [
       "<Figure size 720x720 with 0 Axes>"
      ]
     },
     "metadata": {},
     "output_type": "display_data"
    },
    {
     "data": {
      "text/plain": [
       "<Figure size 720x720 with 0 Axes>"
      ]
     },
     "metadata": {},
     "output_type": "display_data"
    },
    {
     "data": {
      "text/plain": [
       "<Figure size 720x720 with 0 Axes>"
      ]
     },
     "metadata": {},
     "output_type": "display_data"
    },
    {
     "data": {
      "text/plain": [
       "<Figure size 720x720 with 0 Axes>"
      ]
     },
     "metadata": {},
     "output_type": "display_data"
    },
    {
     "data": {
      "text/plain": [
       "<Figure size 720x720 with 0 Axes>"
      ]
     },
     "metadata": {},
     "output_type": "display_data"
    },
    {
     "data": {
      "text/plain": [
       "<Figure size 720x720 with 0 Axes>"
      ]
     },
     "metadata": {},
     "output_type": "display_data"
    },
    {
     "data": {
      "text/plain": [
       "<Figure size 720x720 with 0 Axes>"
      ]
     },
     "metadata": {},
     "output_type": "display_data"
    },
    {
     "data": {
      "text/plain": [
       "<Figure size 720x720 with 0 Axes>"
      ]
     },
     "metadata": {},
     "output_type": "display_data"
    },
    {
     "data": {
      "text/plain": [
       "<Figure size 720x720 with 0 Axes>"
      ]
     },
     "metadata": {},
     "output_type": "display_data"
    },
    {
     "data": {
      "text/plain": [
       "<Figure size 720x720 with 0 Axes>"
      ]
     },
     "metadata": {},
     "output_type": "display_data"
    },
    {
     "data": {
      "text/plain": [
       "<Figure size 720x720 with 0 Axes>"
      ]
     },
     "metadata": {},
     "output_type": "display_data"
    },
    {
     "data": {
      "text/plain": [
       "<Figure size 720x720 with 0 Axes>"
      ]
     },
     "metadata": {},
     "output_type": "display_data"
    },
    {
     "data": {
      "text/plain": [
       "<Figure size 720x720 with 0 Axes>"
      ]
     },
     "metadata": {},
     "output_type": "display_data"
    },
    {
     "data": {
      "text/plain": [
       "<Figure size 720x720 with 0 Axes>"
      ]
     },
     "metadata": {},
     "output_type": "display_data"
    },
    {
     "data": {
      "text/plain": [
       "<Figure size 720x720 with 0 Axes>"
      ]
     },
     "metadata": {},
     "output_type": "display_data"
    },
    {
     "data": {
      "text/plain": [
       "<Figure size 720x720 with 0 Axes>"
      ]
     },
     "metadata": {},
     "output_type": "display_data"
    },
    {
     "data": {
      "text/plain": [
       "<Figure size 720x720 with 0 Axes>"
      ]
     },
     "metadata": {},
     "output_type": "display_data"
    },
    {
     "data": {
      "text/plain": [
       "<Figure size 720x720 with 0 Axes>"
      ]
     },
     "metadata": {},
     "output_type": "display_data"
    },
    {
     "data": {
      "text/plain": [
       "<Figure size 720x720 with 0 Axes>"
      ]
     },
     "metadata": {},
     "output_type": "display_data"
    },
    {
     "data": {
      "text/plain": [
       "<Figure size 720x720 with 0 Axes>"
      ]
     },
     "metadata": {},
     "output_type": "display_data"
    },
    {
     "data": {
      "text/plain": [
       "<Figure size 720x720 with 0 Axes>"
      ]
     },
     "metadata": {},
     "output_type": "display_data"
    },
    {
     "data": {
      "text/plain": [
       "<Figure size 720x720 with 0 Axes>"
      ]
     },
     "metadata": {},
     "output_type": "display_data"
    },
    {
     "data": {
      "text/plain": [
       "<Figure size 720x720 with 0 Axes>"
      ]
     },
     "metadata": {},
     "output_type": "display_data"
    },
    {
     "data": {
      "text/plain": [
       "<Figure size 720x720 with 0 Axes>"
      ]
     },
     "metadata": {},
     "output_type": "display_data"
    },
    {
     "data": {
      "text/plain": [
       "<Figure size 720x720 with 0 Axes>"
      ]
     },
     "metadata": {},
     "output_type": "display_data"
    },
    {
     "data": {
      "text/plain": [
       "<Figure size 720x720 with 0 Axes>"
      ]
     },
     "metadata": {},
     "output_type": "display_data"
    },
    {
     "data": {
      "text/plain": [
       "<Figure size 720x720 with 0 Axes>"
      ]
     },
     "metadata": {},
     "output_type": "display_data"
    },
    {
     "data": {
      "text/plain": [
       "<Figure size 720x720 with 0 Axes>"
      ]
     },
     "metadata": {},
     "output_type": "display_data"
    },
    {
     "data": {
      "text/plain": [
       "<Figure size 720x720 with 0 Axes>"
      ]
     },
     "metadata": {},
     "output_type": "display_data"
    },
    {
     "data": {
      "text/plain": [
       "<Figure size 720x720 with 0 Axes>"
      ]
     },
     "metadata": {},
     "output_type": "display_data"
    },
    {
     "data": {
      "text/plain": [
       "<Figure size 720x720 with 0 Axes>"
      ]
     },
     "metadata": {},
     "output_type": "display_data"
    },
    {
     "data": {
      "text/plain": [
       "<Figure size 720x720 with 0 Axes>"
      ]
     },
     "metadata": {},
     "output_type": "display_data"
    },
    {
     "data": {
      "text/plain": [
       "<Figure size 720x720 with 0 Axes>"
      ]
     },
     "metadata": {},
     "output_type": "display_data"
    },
    {
     "data": {
      "text/plain": [
       "<Figure size 720x720 with 0 Axes>"
      ]
     },
     "metadata": {},
     "output_type": "display_data"
    },
    {
     "data": {
      "text/plain": [
       "<Figure size 720x720 with 0 Axes>"
      ]
     },
     "metadata": {},
     "output_type": "display_data"
    },
    {
     "data": {
      "text/plain": [
       "<Figure size 720x720 with 0 Axes>"
      ]
     },
     "metadata": {},
     "output_type": "display_data"
    },
    {
     "data": {
      "text/plain": [
       "<Figure size 720x720 with 0 Axes>"
      ]
     },
     "metadata": {},
     "output_type": "display_data"
    },
    {
     "data": {
      "text/plain": [
       "<Figure size 720x720 with 0 Axes>"
      ]
     },
     "metadata": {},
     "output_type": "display_data"
    },
    {
     "data": {
      "text/plain": [
       "<Figure size 720x720 with 0 Axes>"
      ]
     },
     "metadata": {},
     "output_type": "display_data"
    },
    {
     "data": {
      "text/plain": [
       "<Figure size 720x720 with 0 Axes>"
      ]
     },
     "metadata": {},
     "output_type": "display_data"
    },
    {
     "data": {
      "text/plain": [
       "<Figure size 720x720 with 0 Axes>"
      ]
     },
     "metadata": {},
     "output_type": "display_data"
    },
    {
     "data": {
      "text/plain": [
       "<Figure size 720x720 with 0 Axes>"
      ]
     },
     "metadata": {},
     "output_type": "display_data"
    },
    {
     "data": {
      "text/plain": [
       "<Figure size 720x720 with 0 Axes>"
      ]
     },
     "metadata": {},
     "output_type": "display_data"
    },
    {
     "data": {
      "text/plain": [
       "<Figure size 720x720 with 0 Axes>"
      ]
     },
     "metadata": {},
     "output_type": "display_data"
    },
    {
     "data": {
      "text/plain": [
       "<Figure size 720x720 with 0 Axes>"
      ]
     },
     "metadata": {},
     "output_type": "display_data"
    },
    {
     "data": {
      "text/plain": [
       "<Figure size 720x720 with 0 Axes>"
      ]
     },
     "metadata": {},
     "output_type": "display_data"
    },
    {
     "data": {
      "text/plain": [
       "<Figure size 720x720 with 0 Axes>"
      ]
     },
     "metadata": {},
     "output_type": "display_data"
    },
    {
     "data": {
      "text/plain": [
       "<Figure size 720x720 with 0 Axes>"
      ]
     },
     "metadata": {},
     "output_type": "display_data"
    },
    {
     "data": {
      "text/plain": [
       "<Figure size 720x720 with 0 Axes>"
      ]
     },
     "metadata": {},
     "output_type": "display_data"
    },
    {
     "data": {
      "text/plain": [
       "<Figure size 720x720 with 0 Axes>"
      ]
     },
     "metadata": {},
     "output_type": "display_data"
    },
    {
     "data": {
      "text/plain": [
       "<Figure size 720x720 with 0 Axes>"
      ]
     },
     "metadata": {},
     "output_type": "display_data"
    },
    {
     "data": {
      "text/plain": [
       "<Figure size 720x720 with 0 Axes>"
      ]
     },
     "metadata": {},
     "output_type": "display_data"
    },
    {
     "data": {
      "text/plain": [
       "<Figure size 720x720 with 0 Axes>"
      ]
     },
     "metadata": {},
     "output_type": "display_data"
    },
    {
     "data": {
      "text/plain": [
       "<Figure size 720x720 with 0 Axes>"
      ]
     },
     "metadata": {},
     "output_type": "display_data"
    },
    {
     "data": {
      "text/plain": [
       "<Figure size 720x720 with 0 Axes>"
      ]
     },
     "metadata": {},
     "output_type": "display_data"
    },
    {
     "data": {
      "text/plain": [
       "<Figure size 720x720 with 0 Axes>"
      ]
     },
     "metadata": {},
     "output_type": "display_data"
    },
    {
     "data": {
      "text/plain": [
       "<Figure size 720x720 with 0 Axes>"
      ]
     },
     "metadata": {},
     "output_type": "display_data"
    },
    {
     "data": {
      "text/plain": [
       "<Figure size 720x720 with 0 Axes>"
      ]
     },
     "metadata": {},
     "output_type": "display_data"
    },
    {
     "data": {
      "text/plain": [
       "<Figure size 720x720 with 0 Axes>"
      ]
     },
     "metadata": {},
     "output_type": "display_data"
    },
    {
     "data": {
      "text/plain": [
       "<Figure size 720x720 with 0 Axes>"
      ]
     },
     "metadata": {},
     "output_type": "display_data"
    },
    {
     "data": {
      "text/plain": [
       "<Figure size 720x720 with 0 Axes>"
      ]
     },
     "metadata": {},
     "output_type": "display_data"
    },
    {
     "data": {
      "text/plain": [
       "<Figure size 720x720 with 0 Axes>"
      ]
     },
     "metadata": {},
     "output_type": "display_data"
    },
    {
     "data": {
      "text/plain": [
       "<Figure size 720x720 with 0 Axes>"
      ]
     },
     "metadata": {},
     "output_type": "display_data"
    },
    {
     "data": {
      "text/plain": [
       "<Figure size 720x720 with 0 Axes>"
      ]
     },
     "metadata": {},
     "output_type": "display_data"
    },
    {
     "data": {
      "text/plain": [
       "<Figure size 720x720 with 0 Axes>"
      ]
     },
     "metadata": {},
     "output_type": "display_data"
    },
    {
     "data": {
      "text/plain": [
       "<Figure size 720x720 with 0 Axes>"
      ]
     },
     "metadata": {},
     "output_type": "display_data"
    },
    {
     "data": {
      "text/plain": [
       "<Figure size 720x720 with 0 Axes>"
      ]
     },
     "metadata": {},
     "output_type": "display_data"
    },
    {
     "data": {
      "text/plain": [
       "<Figure size 720x720 with 0 Axes>"
      ]
     },
     "metadata": {},
     "output_type": "display_data"
    },
    {
     "data": {
      "text/plain": [
       "<Figure size 720x720 with 0 Axes>"
      ]
     },
     "metadata": {},
     "output_type": "display_data"
    },
    {
     "data": {
      "text/plain": [
       "<Figure size 720x720 with 0 Axes>"
      ]
     },
     "metadata": {},
     "output_type": "display_data"
    },
    {
     "data": {
      "text/plain": [
       "<Figure size 720x720 with 0 Axes>"
      ]
     },
     "metadata": {},
     "output_type": "display_data"
    },
    {
     "data": {
      "text/plain": [
       "<Figure size 720x720 with 0 Axes>"
      ]
     },
     "metadata": {},
     "output_type": "display_data"
    },
    {
     "data": {
      "text/plain": [
       "<Figure size 720x720 with 0 Axes>"
      ]
     },
     "metadata": {},
     "output_type": "display_data"
    },
    {
     "data": {
      "text/plain": [
       "<Figure size 720x720 with 0 Axes>"
      ]
     },
     "metadata": {},
     "output_type": "display_data"
    },
    {
     "data": {
      "text/plain": [
       "<Figure size 720x720 with 0 Axes>"
      ]
     },
     "metadata": {},
     "output_type": "display_data"
    },
    {
     "data": {
      "text/plain": [
       "<Figure size 720x720 with 0 Axes>"
      ]
     },
     "metadata": {},
     "output_type": "display_data"
    },
    {
     "data": {
      "text/plain": [
       "<Figure size 720x720 with 0 Axes>"
      ]
     },
     "metadata": {},
     "output_type": "display_data"
    },
    {
     "data": {
      "text/plain": [
       "<Figure size 720x720 with 0 Axes>"
      ]
     },
     "metadata": {},
     "output_type": "display_data"
    },
    {
     "data": {
      "text/plain": [
       "<Figure size 720x720 with 0 Axes>"
      ]
     },
     "metadata": {},
     "output_type": "display_data"
    },
    {
     "data": {
      "text/plain": [
       "<Figure size 720x720 with 0 Axes>"
      ]
     },
     "metadata": {},
     "output_type": "display_data"
    },
    {
     "data": {
      "text/plain": [
       "<Figure size 720x720 with 0 Axes>"
      ]
     },
     "metadata": {},
     "output_type": "display_data"
    },
    {
     "data": {
      "text/plain": [
       "<Figure size 720x720 with 0 Axes>"
      ]
     },
     "metadata": {},
     "output_type": "display_data"
    },
    {
     "data": {
      "text/plain": [
       "<Figure size 720x720 with 0 Axes>"
      ]
     },
     "metadata": {},
     "output_type": "display_data"
    },
    {
     "data": {
      "text/plain": [
       "<Figure size 720x720 with 0 Axes>"
      ]
     },
     "metadata": {},
     "output_type": "display_data"
    },
    {
     "data": {
      "text/plain": [
       "<Figure size 720x720 with 0 Axes>"
      ]
     },
     "metadata": {},
     "output_type": "display_data"
    },
    {
     "data": {
      "text/plain": [
       "<Figure size 720x720 with 0 Axes>"
      ]
     },
     "metadata": {},
     "output_type": "display_data"
    },
    {
     "data": {
      "text/plain": [
       "<Figure size 720x720 with 0 Axes>"
      ]
     },
     "metadata": {},
     "output_type": "display_data"
    },
    {
     "data": {
      "text/plain": [
       "<Figure size 720x720 with 0 Axes>"
      ]
     },
     "metadata": {},
     "output_type": "display_data"
    },
    {
     "data": {
      "text/plain": [
       "<Figure size 720x720 with 0 Axes>"
      ]
     },
     "metadata": {},
     "output_type": "display_data"
    },
    {
     "data": {
      "text/plain": [
       "<Figure size 720x720 with 0 Axes>"
      ]
     },
     "metadata": {},
     "output_type": "display_data"
    },
    {
     "data": {
      "text/plain": [
       "<Figure size 720x720 with 0 Axes>"
      ]
     },
     "metadata": {},
     "output_type": "display_data"
    },
    {
     "data": {
      "text/plain": [
       "<Figure size 720x720 with 0 Axes>"
      ]
     },
     "metadata": {},
     "output_type": "display_data"
    },
    {
     "data": {
      "text/plain": [
       "<Figure size 720x720 with 0 Axes>"
      ]
     },
     "metadata": {},
     "output_type": "display_data"
    },
    {
     "data": {
      "text/plain": [
       "<Figure size 720x720 with 0 Axes>"
      ]
     },
     "metadata": {},
     "output_type": "display_data"
    },
    {
     "data": {
      "text/plain": [
       "<Figure size 720x720 with 0 Axes>"
      ]
     },
     "metadata": {},
     "output_type": "display_data"
    },
    {
     "data": {
      "text/plain": [
       "<Figure size 720x720 with 0 Axes>"
      ]
     },
     "metadata": {},
     "output_type": "display_data"
    },
    {
     "data": {
      "text/plain": [
       "<Figure size 720x720 with 0 Axes>"
      ]
     },
     "metadata": {},
     "output_type": "display_data"
    },
    {
     "data": {
      "text/plain": [
       "<Figure size 720x720 with 0 Axes>"
      ]
     },
     "metadata": {},
     "output_type": "display_data"
    },
    {
     "data": {
      "text/plain": [
       "<Figure size 720x720 with 0 Axes>"
      ]
     },
     "metadata": {},
     "output_type": "display_data"
    },
    {
     "data": {
      "text/plain": [
       "<Figure size 720x720 with 0 Axes>"
      ]
     },
     "metadata": {},
     "output_type": "display_data"
    },
    {
     "data": {
      "text/plain": [
       "<Figure size 720x720 with 0 Axes>"
      ]
     },
     "metadata": {},
     "output_type": "display_data"
    },
    {
     "data": {
      "text/plain": [
       "<Figure size 720x720 with 0 Axes>"
      ]
     },
     "metadata": {},
     "output_type": "display_data"
    },
    {
     "data": {
      "text/plain": [
       "<Figure size 720x720 with 0 Axes>"
      ]
     },
     "metadata": {},
     "output_type": "display_data"
    },
    {
     "data": {
      "text/plain": [
       "<Figure size 720x720 with 0 Axes>"
      ]
     },
     "metadata": {},
     "output_type": "display_data"
    },
    {
     "data": {
      "text/plain": [
       "<Figure size 720x720 with 0 Axes>"
      ]
     },
     "metadata": {},
     "output_type": "display_data"
    },
    {
     "data": {
      "text/plain": [
       "<Figure size 720x720 with 0 Axes>"
      ]
     },
     "metadata": {},
     "output_type": "display_data"
    },
    {
     "data": {
      "text/plain": [
       "<Figure size 720x720 with 0 Axes>"
      ]
     },
     "metadata": {},
     "output_type": "display_data"
    },
    {
     "data": {
      "text/plain": [
       "<Figure size 720x720 with 0 Axes>"
      ]
     },
     "metadata": {},
     "output_type": "display_data"
    },
    {
     "data": {
      "text/plain": [
       "<Figure size 720x720 with 0 Axes>"
      ]
     },
     "metadata": {},
     "output_type": "display_data"
    },
    {
     "data": {
      "text/plain": [
       "<Figure size 720x720 with 0 Axes>"
      ]
     },
     "metadata": {},
     "output_type": "display_data"
    },
    {
     "data": {
      "text/plain": [
       "<Figure size 720x720 with 0 Axes>"
      ]
     },
     "metadata": {},
     "output_type": "display_data"
    },
    {
     "data": {
      "text/plain": [
       "<Figure size 720x720 with 0 Axes>"
      ]
     },
     "metadata": {},
     "output_type": "display_data"
    },
    {
     "data": {
      "text/plain": [
       "<Figure size 720x720 with 0 Axes>"
      ]
     },
     "metadata": {},
     "output_type": "display_data"
    },
    {
     "data": {
      "text/plain": [
       "<Figure size 720x720 with 0 Axes>"
      ]
     },
     "metadata": {},
     "output_type": "display_data"
    },
    {
     "data": {
      "text/plain": [
       "<Figure size 720x720 with 0 Axes>"
      ]
     },
     "metadata": {},
     "output_type": "display_data"
    },
    {
     "data": {
      "text/plain": [
       "<Figure size 720x720 with 0 Axes>"
      ]
     },
     "metadata": {},
     "output_type": "display_data"
    },
    {
     "data": {
      "text/plain": [
       "<Figure size 720x720 with 0 Axes>"
      ]
     },
     "metadata": {},
     "output_type": "display_data"
    },
    {
     "data": {
      "text/plain": [
       "<Figure size 720x720 with 0 Axes>"
      ]
     },
     "metadata": {},
     "output_type": "display_data"
    },
    {
     "data": {
      "text/plain": [
       "<Figure size 720x720 with 0 Axes>"
      ]
     },
     "metadata": {},
     "output_type": "display_data"
    },
    {
     "data": {
      "text/plain": [
       "<Figure size 720x720 with 0 Axes>"
      ]
     },
     "metadata": {},
     "output_type": "display_data"
    },
    {
     "data": {
      "text/plain": [
       "<Figure size 720x720 with 0 Axes>"
      ]
     },
     "metadata": {},
     "output_type": "display_data"
    },
    {
     "data": {
      "text/plain": [
       "<Figure size 720x720 with 0 Axes>"
      ]
     },
     "metadata": {},
     "output_type": "display_data"
    },
    {
     "data": {
      "text/plain": [
       "<Figure size 720x720 with 0 Axes>"
      ]
     },
     "metadata": {},
     "output_type": "display_data"
    },
    {
     "data": {
      "text/plain": [
       "<Figure size 720x720 with 0 Axes>"
      ]
     },
     "metadata": {},
     "output_type": "display_data"
    },
    {
     "data": {
      "text/plain": [
       "<Figure size 720x720 with 0 Axes>"
      ]
     },
     "metadata": {},
     "output_type": "display_data"
    },
    {
     "data": {
      "text/plain": [
       "<Figure size 720x720 with 0 Axes>"
      ]
     },
     "metadata": {},
     "output_type": "display_data"
    },
    {
     "data": {
      "text/plain": [
       "<Figure size 720x720 with 0 Axes>"
      ]
     },
     "metadata": {},
     "output_type": "display_data"
    },
    {
     "data": {
      "text/plain": [
       "<Figure size 720x720 with 0 Axes>"
      ]
     },
     "metadata": {},
     "output_type": "display_data"
    },
    {
     "data": {
      "text/plain": [
       "<Figure size 720x720 with 0 Axes>"
      ]
     },
     "metadata": {},
     "output_type": "display_data"
    },
    {
     "data": {
      "text/plain": [
       "<Figure size 720x720 with 0 Axes>"
      ]
     },
     "metadata": {},
     "output_type": "display_data"
    },
    {
     "data": {
      "text/plain": [
       "<Figure size 720x720 with 0 Axes>"
      ]
     },
     "metadata": {},
     "output_type": "display_data"
    },
    {
     "data": {
      "text/plain": [
       "<Figure size 720x720 with 0 Axes>"
      ]
     },
     "metadata": {},
     "output_type": "display_data"
    },
    {
     "data": {
      "text/plain": [
       "<Figure size 720x720 with 0 Axes>"
      ]
     },
     "metadata": {},
     "output_type": "display_data"
    },
    {
     "data": {
      "text/plain": [
       "<Figure size 720x720 with 0 Axes>"
      ]
     },
     "metadata": {},
     "output_type": "display_data"
    },
    {
     "data": {
      "text/plain": [
       "<Figure size 720x720 with 0 Axes>"
      ]
     },
     "metadata": {},
     "output_type": "display_data"
    },
    {
     "data": {
      "text/plain": [
       "<Figure size 720x720 with 0 Axes>"
      ]
     },
     "metadata": {},
     "output_type": "display_data"
    },
    {
     "data": {
      "text/plain": [
       "<Figure size 720x720 with 0 Axes>"
      ]
     },
     "metadata": {},
     "output_type": "display_data"
    },
    {
     "data": {
      "text/plain": [
       "<Figure size 720x720 with 0 Axes>"
      ]
     },
     "metadata": {},
     "output_type": "display_data"
    },
    {
     "data": {
      "text/plain": [
       "<Figure size 720x720 with 0 Axes>"
      ]
     },
     "metadata": {},
     "output_type": "display_data"
    },
    {
     "data": {
      "text/plain": [
       "<Figure size 720x720 with 0 Axes>"
      ]
     },
     "metadata": {},
     "output_type": "display_data"
    },
    {
     "data": {
      "text/plain": [
       "<Figure size 720x720 with 0 Axes>"
      ]
     },
     "metadata": {},
     "output_type": "display_data"
    },
    {
     "data": {
      "text/plain": [
       "<Figure size 720x720 with 0 Axes>"
      ]
     },
     "metadata": {},
     "output_type": "display_data"
    },
    {
     "data": {
      "text/plain": [
       "<Figure size 720x720 with 0 Axes>"
      ]
     },
     "metadata": {},
     "output_type": "display_data"
    },
    {
     "data": {
      "text/plain": [
       "<Figure size 720x720 with 0 Axes>"
      ]
     },
     "metadata": {},
     "output_type": "display_data"
    },
    {
     "data": {
      "text/plain": [
       "<Figure size 720x720 with 0 Axes>"
      ]
     },
     "metadata": {},
     "output_type": "display_data"
    },
    {
     "data": {
      "text/plain": [
       "<Figure size 720x720 with 0 Axes>"
      ]
     },
     "metadata": {},
     "output_type": "display_data"
    },
    {
     "data": {
      "text/plain": [
       "<Figure size 720x720 with 0 Axes>"
      ]
     },
     "metadata": {},
     "output_type": "display_data"
    },
    {
     "data": {
      "text/plain": [
       "<Figure size 720x720 with 0 Axes>"
      ]
     },
     "metadata": {},
     "output_type": "display_data"
    },
    {
     "data": {
      "text/plain": [
       "<Figure size 720x720 with 0 Axes>"
      ]
     },
     "metadata": {},
     "output_type": "display_data"
    },
    {
     "data": {
      "text/plain": [
       "<Figure size 720x720 with 0 Axes>"
      ]
     },
     "metadata": {},
     "output_type": "display_data"
    },
    {
     "data": {
      "text/plain": [
       "<Figure size 720x720 with 0 Axes>"
      ]
     },
     "metadata": {},
     "output_type": "display_data"
    },
    {
     "data": {
      "text/plain": [
       "<Figure size 720x720 with 0 Axes>"
      ]
     },
     "metadata": {},
     "output_type": "display_data"
    },
    {
     "data": {
      "text/plain": [
       "<Figure size 720x720 with 0 Axes>"
      ]
     },
     "metadata": {},
     "output_type": "display_data"
    },
    {
     "data": {
      "text/plain": [
       "<Figure size 720x720 with 0 Axes>"
      ]
     },
     "metadata": {},
     "output_type": "display_data"
    },
    {
     "data": {
      "text/plain": [
       "<Figure size 720x720 with 0 Axes>"
      ]
     },
     "metadata": {},
     "output_type": "display_data"
    },
    {
     "data": {
      "text/plain": [
       "<Figure size 720x720 with 0 Axes>"
      ]
     },
     "metadata": {},
     "output_type": "display_data"
    },
    {
     "data": {
      "text/plain": [
       "<Figure size 720x720 with 0 Axes>"
      ]
     },
     "metadata": {},
     "output_type": "display_data"
    },
    {
     "data": {
      "text/plain": [
       "<Figure size 720x720 with 0 Axes>"
      ]
     },
     "metadata": {},
     "output_type": "display_data"
    },
    {
     "data": {
      "text/plain": [
       "<Figure size 720x720 with 0 Axes>"
      ]
     },
     "metadata": {},
     "output_type": "display_data"
    },
    {
     "data": {
      "text/plain": [
       "<Figure size 720x720 with 0 Axes>"
      ]
     },
     "metadata": {},
     "output_type": "display_data"
    },
    {
     "data": {
      "text/plain": [
       "<Figure size 720x720 with 0 Axes>"
      ]
     },
     "metadata": {},
     "output_type": "display_data"
    },
    {
     "data": {
      "text/plain": [
       "<Figure size 720x720 with 0 Axes>"
      ]
     },
     "metadata": {},
     "output_type": "display_data"
    },
    {
     "data": {
      "text/plain": [
       "<Figure size 720x720 with 0 Axes>"
      ]
     },
     "metadata": {},
     "output_type": "display_data"
    },
    {
     "data": {
      "text/plain": [
       "<Figure size 720x720 with 0 Axes>"
      ]
     },
     "metadata": {},
     "output_type": "display_data"
    },
    {
     "data": {
      "text/plain": [
       "<Figure size 720x720 with 0 Axes>"
      ]
     },
     "metadata": {},
     "output_type": "display_data"
    },
    {
     "data": {
      "text/plain": [
       "<Figure size 720x720 with 0 Axes>"
      ]
     },
     "metadata": {},
     "output_type": "display_data"
    },
    {
     "data": {
      "text/plain": [
       "<Figure size 720x720 with 0 Axes>"
      ]
     },
     "metadata": {},
     "output_type": "display_data"
    },
    {
     "data": {
      "text/plain": [
       "<Figure size 720x720 with 0 Axes>"
      ]
     },
     "metadata": {},
     "output_type": "display_data"
    },
    {
     "data": {
      "text/plain": [
       "<Figure size 720x720 with 0 Axes>"
      ]
     },
     "metadata": {},
     "output_type": "display_data"
    },
    {
     "data": {
      "text/plain": [
       "<Figure size 720x720 with 0 Axes>"
      ]
     },
     "metadata": {},
     "output_type": "display_data"
    },
    {
     "data": {
      "text/plain": [
       "<Figure size 720x720 with 0 Axes>"
      ]
     },
     "metadata": {},
     "output_type": "display_data"
    },
    {
     "data": {
      "text/plain": [
       "<Figure size 720x720 with 0 Axes>"
      ]
     },
     "metadata": {},
     "output_type": "display_data"
    },
    {
     "data": {
      "text/plain": [
       "<Figure size 720x720 with 0 Axes>"
      ]
     },
     "metadata": {},
     "output_type": "display_data"
    },
    {
     "data": {
      "text/plain": [
       "<Figure size 720x720 with 0 Axes>"
      ]
     },
     "metadata": {},
     "output_type": "display_data"
    },
    {
     "data": {
      "text/plain": [
       "<Figure size 720x720 with 0 Axes>"
      ]
     },
     "metadata": {},
     "output_type": "display_data"
    },
    {
     "data": {
      "text/plain": [
       "<Figure size 720x720 with 0 Axes>"
      ]
     },
     "metadata": {},
     "output_type": "display_data"
    },
    {
     "data": {
      "text/plain": [
       "<Figure size 720x720 with 0 Axes>"
      ]
     },
     "metadata": {},
     "output_type": "display_data"
    },
    {
     "data": {
      "text/plain": [
       "<Figure size 720x720 with 0 Axes>"
      ]
     },
     "metadata": {},
     "output_type": "display_data"
    },
    {
     "data": {
      "text/plain": [
       "<Figure size 720x720 with 0 Axes>"
      ]
     },
     "metadata": {},
     "output_type": "display_data"
    },
    {
     "data": {
      "text/plain": [
       "<Figure size 720x720 with 0 Axes>"
      ]
     },
     "metadata": {},
     "output_type": "display_data"
    },
    {
     "data": {
      "text/plain": [
       "<Figure size 720x720 with 0 Axes>"
      ]
     },
     "metadata": {},
     "output_type": "display_data"
    },
    {
     "data": {
      "text/plain": [
       "<Figure size 720x720 with 0 Axes>"
      ]
     },
     "metadata": {},
     "output_type": "display_data"
    },
    {
     "data": {
      "text/plain": [
       "<Figure size 720x720 with 0 Axes>"
      ]
     },
     "metadata": {},
     "output_type": "display_data"
    },
    {
     "data": {
      "text/plain": [
       "<Figure size 720x720 with 0 Axes>"
      ]
     },
     "metadata": {},
     "output_type": "display_data"
    },
    {
     "data": {
      "text/plain": [
       "<Figure size 720x720 with 0 Axes>"
      ]
     },
     "metadata": {},
     "output_type": "display_data"
    },
    {
     "data": {
      "text/plain": [
       "<Figure size 720x720 with 0 Axes>"
      ]
     },
     "metadata": {},
     "output_type": "display_data"
    },
    {
     "data": {
      "text/plain": [
       "<Figure size 720x720 with 0 Axes>"
      ]
     },
     "metadata": {},
     "output_type": "display_data"
    },
    {
     "data": {
      "text/plain": [
       "<Figure size 720x720 with 0 Axes>"
      ]
     },
     "metadata": {},
     "output_type": "display_data"
    },
    {
     "data": {
      "text/plain": [
       "<Figure size 720x720 with 0 Axes>"
      ]
     },
     "metadata": {},
     "output_type": "display_data"
    },
    {
     "data": {
      "text/plain": [
       "<Figure size 720x720 with 0 Axes>"
      ]
     },
     "metadata": {},
     "output_type": "display_data"
    },
    {
     "data": {
      "text/plain": [
       "<Figure size 720x720 with 0 Axes>"
      ]
     },
     "metadata": {},
     "output_type": "display_data"
    },
    {
     "data": {
      "text/plain": [
       "<Figure size 720x720 with 0 Axes>"
      ]
     },
     "metadata": {},
     "output_type": "display_data"
    },
    {
     "data": {
      "text/plain": [
       "<Figure size 720x720 with 0 Axes>"
      ]
     },
     "metadata": {},
     "output_type": "display_data"
    },
    {
     "data": {
      "text/plain": [
       "<Figure size 720x720 with 0 Axes>"
      ]
     },
     "metadata": {},
     "output_type": "display_data"
    },
    {
     "data": {
      "text/plain": [
       "<Figure size 720x720 with 0 Axes>"
      ]
     },
     "metadata": {},
     "output_type": "display_data"
    },
    {
     "data": {
      "text/plain": [
       "<Figure size 720x720 with 0 Axes>"
      ]
     },
     "metadata": {},
     "output_type": "display_data"
    },
    {
     "data": {
      "text/plain": [
       "<Figure size 720x720 with 0 Axes>"
      ]
     },
     "metadata": {},
     "output_type": "display_data"
    },
    {
     "data": {
      "text/plain": [
       "<Figure size 720x720 with 0 Axes>"
      ]
     },
     "metadata": {},
     "output_type": "display_data"
    },
    {
     "data": {
      "text/plain": [
       "<Figure size 720x720 with 0 Axes>"
      ]
     },
     "metadata": {},
     "output_type": "display_data"
    },
    {
     "data": {
      "text/plain": [
       "<Figure size 720x720 with 0 Axes>"
      ]
     },
     "metadata": {},
     "output_type": "display_data"
    },
    {
     "data": {
      "text/plain": [
       "<Figure size 720x720 with 0 Axes>"
      ]
     },
     "metadata": {},
     "output_type": "display_data"
    },
    {
     "data": {
      "text/plain": [
       "<Figure size 720x720 with 0 Axes>"
      ]
     },
     "metadata": {},
     "output_type": "display_data"
    },
    {
     "data": {
      "text/plain": [
       "<Figure size 720x720 with 0 Axes>"
      ]
     },
     "metadata": {},
     "output_type": "display_data"
    },
    {
     "data": {
      "text/plain": [
       "<Figure size 720x720 with 0 Axes>"
      ]
     },
     "metadata": {},
     "output_type": "display_data"
    },
    {
     "data": {
      "text/plain": [
       "<Figure size 720x720 with 0 Axes>"
      ]
     },
     "metadata": {},
     "output_type": "display_data"
    },
    {
     "data": {
      "text/plain": [
       "<Figure size 720x720 with 0 Axes>"
      ]
     },
     "metadata": {},
     "output_type": "display_data"
    },
    {
     "data": {
      "text/plain": [
       "<Figure size 720x720 with 0 Axes>"
      ]
     },
     "metadata": {},
     "output_type": "display_data"
    },
    {
     "data": {
      "text/plain": [
       "<Figure size 720x720 with 0 Axes>"
      ]
     },
     "metadata": {},
     "output_type": "display_data"
    },
    {
     "data": {
      "text/plain": [
       "<Figure size 720x720 with 0 Axes>"
      ]
     },
     "metadata": {},
     "output_type": "display_data"
    },
    {
     "data": {
      "text/plain": [
       "<Figure size 720x720 with 0 Axes>"
      ]
     },
     "metadata": {},
     "output_type": "display_data"
    },
    {
     "data": {
      "text/plain": [
       "<Figure size 720x720 with 0 Axes>"
      ]
     },
     "metadata": {},
     "output_type": "display_data"
    },
    {
     "data": {
      "text/plain": [
       "<Figure size 720x720 with 0 Axes>"
      ]
     },
     "metadata": {},
     "output_type": "display_data"
    },
    {
     "data": {
      "text/plain": [
       "<Figure size 720x720 with 0 Axes>"
      ]
     },
     "metadata": {},
     "output_type": "display_data"
    },
    {
     "data": {
      "text/plain": [
       "<Figure size 720x720 with 0 Axes>"
      ]
     },
     "metadata": {},
     "output_type": "display_data"
    },
    {
     "data": {
      "text/plain": [
       "<Figure size 720x720 with 0 Axes>"
      ]
     },
     "metadata": {},
     "output_type": "display_data"
    },
    {
     "data": {
      "text/plain": [
       "<Figure size 720x720 with 0 Axes>"
      ]
     },
     "metadata": {},
     "output_type": "display_data"
    },
    {
     "data": {
      "text/plain": [
       "<Figure size 720x720 with 0 Axes>"
      ]
     },
     "metadata": {},
     "output_type": "display_data"
    },
    {
     "data": {
      "text/plain": [
       "<Figure size 720x720 with 0 Axes>"
      ]
     },
     "metadata": {},
     "output_type": "display_data"
    },
    {
     "data": {
      "text/plain": [
       "<Figure size 720x720 with 0 Axes>"
      ]
     },
     "metadata": {},
     "output_type": "display_data"
    },
    {
     "data": {
      "text/plain": [
       "<Figure size 720x720 with 0 Axes>"
      ]
     },
     "metadata": {},
     "output_type": "display_data"
    },
    {
     "data": {
      "text/plain": [
       "<Figure size 720x720 with 0 Axes>"
      ]
     },
     "metadata": {},
     "output_type": "display_data"
    },
    {
     "data": {
      "text/plain": [
       "<Figure size 720x720 with 0 Axes>"
      ]
     },
     "metadata": {},
     "output_type": "display_data"
    },
    {
     "data": {
      "text/plain": [
       "<Figure size 720x720 with 0 Axes>"
      ]
     },
     "metadata": {},
     "output_type": "display_data"
    },
    {
     "data": {
      "text/plain": [
       "<Figure size 720x720 with 0 Axes>"
      ]
     },
     "metadata": {},
     "output_type": "display_data"
    },
    {
     "data": {
      "text/plain": [
       "<Figure size 720x720 with 0 Axes>"
      ]
     },
     "metadata": {},
     "output_type": "display_data"
    },
    {
     "data": {
      "text/plain": [
       "<Figure size 720x720 with 0 Axes>"
      ]
     },
     "metadata": {},
     "output_type": "display_data"
    },
    {
     "data": {
      "text/plain": [
       "<Figure size 720x720 with 0 Axes>"
      ]
     },
     "metadata": {},
     "output_type": "display_data"
    },
    {
     "data": {
      "text/plain": [
       "<Figure size 720x720 with 0 Axes>"
      ]
     },
     "metadata": {},
     "output_type": "display_data"
    },
    {
     "data": {
      "text/plain": [
       "<Figure size 720x720 with 0 Axes>"
      ]
     },
     "metadata": {},
     "output_type": "display_data"
    },
    {
     "data": {
      "text/plain": [
       "<Figure size 720x720 with 0 Axes>"
      ]
     },
     "metadata": {},
     "output_type": "display_data"
    },
    {
     "data": {
      "text/plain": [
       "<Figure size 720x720 with 0 Axes>"
      ]
     },
     "metadata": {},
     "output_type": "display_data"
    },
    {
     "data": {
      "text/plain": [
       "<Figure size 720x720 with 0 Axes>"
      ]
     },
     "metadata": {},
     "output_type": "display_data"
    },
    {
     "data": {
      "text/plain": [
       "<Figure size 720x720 with 0 Axes>"
      ]
     },
     "metadata": {},
     "output_type": "display_data"
    },
    {
     "data": {
      "text/plain": [
       "<Figure size 720x720 with 0 Axes>"
      ]
     },
     "metadata": {},
     "output_type": "display_data"
    },
    {
     "data": {
      "text/plain": [
       "<Figure size 720x720 with 0 Axes>"
      ]
     },
     "metadata": {},
     "output_type": "display_data"
    },
    {
     "data": {
      "text/plain": [
       "<Figure size 720x720 with 0 Axes>"
      ]
     },
     "metadata": {},
     "output_type": "display_data"
    },
    {
     "data": {
      "text/plain": [
       "<Figure size 720x720 with 0 Axes>"
      ]
     },
     "metadata": {},
     "output_type": "display_data"
    },
    {
     "data": {
      "text/plain": [
       "<Figure size 720x720 with 0 Axes>"
      ]
     },
     "metadata": {},
     "output_type": "display_data"
    },
    {
     "data": {
      "text/plain": [
       "<Figure size 720x720 with 0 Axes>"
      ]
     },
     "metadata": {},
     "output_type": "display_data"
    },
    {
     "data": {
      "text/plain": [
       "<Figure size 720x720 with 0 Axes>"
      ]
     },
     "metadata": {},
     "output_type": "display_data"
    },
    {
     "data": {
      "text/plain": [
       "<Figure size 720x720 with 0 Axes>"
      ]
     },
     "metadata": {},
     "output_type": "display_data"
    },
    {
     "data": {
      "text/plain": [
       "<Figure size 720x720 with 0 Axes>"
      ]
     },
     "metadata": {},
     "output_type": "display_data"
    },
    {
     "data": {
      "text/plain": [
       "<Figure size 720x720 with 0 Axes>"
      ]
     },
     "metadata": {},
     "output_type": "display_data"
    },
    {
     "data": {
      "text/plain": [
       "<Figure size 720x720 with 0 Axes>"
      ]
     },
     "metadata": {},
     "output_type": "display_data"
    },
    {
     "data": {
      "text/plain": [
       "<Figure size 720x720 with 0 Axes>"
      ]
     },
     "metadata": {},
     "output_type": "display_data"
    },
    {
     "data": {
      "text/plain": [
       "<Figure size 720x720 with 0 Axes>"
      ]
     },
     "metadata": {},
     "output_type": "display_data"
    },
    {
     "data": {
      "text/plain": [
       "<Figure size 720x720 with 0 Axes>"
      ]
     },
     "metadata": {},
     "output_type": "display_data"
    },
    {
     "data": {
      "text/plain": [
       "<Figure size 720x720 with 0 Axes>"
      ]
     },
     "metadata": {},
     "output_type": "display_data"
    },
    {
     "data": {
      "text/plain": [
       "<Figure size 720x720 with 0 Axes>"
      ]
     },
     "metadata": {},
     "output_type": "display_data"
    },
    {
     "data": {
      "text/plain": [
       "<Figure size 720x720 with 0 Axes>"
      ]
     },
     "metadata": {},
     "output_type": "display_data"
    },
    {
     "data": {
      "text/plain": [
       "<Figure size 720x720 with 0 Axes>"
      ]
     },
     "metadata": {},
     "output_type": "display_data"
    },
    {
     "data": {
      "text/plain": [
       "<Figure size 720x720 with 0 Axes>"
      ]
     },
     "metadata": {},
     "output_type": "display_data"
    },
    {
     "data": {
      "text/plain": [
       "<Figure size 720x720 with 0 Axes>"
      ]
     },
     "metadata": {},
     "output_type": "display_data"
    },
    {
     "data": {
      "text/plain": [
       "<Figure size 720x720 with 0 Axes>"
      ]
     },
     "metadata": {},
     "output_type": "display_data"
    },
    {
     "data": {
      "text/plain": [
       "<Figure size 720x720 with 0 Axes>"
      ]
     },
     "metadata": {},
     "output_type": "display_data"
    },
    {
     "data": {
      "text/plain": [
       "<Figure size 720x720 with 0 Axes>"
      ]
     },
     "metadata": {},
     "output_type": "display_data"
    },
    {
     "data": {
      "text/plain": [
       "<Figure size 720x720 with 0 Axes>"
      ]
     },
     "metadata": {},
     "output_type": "display_data"
    },
    {
     "data": {
      "text/plain": [
       "<Figure size 720x720 with 0 Axes>"
      ]
     },
     "metadata": {},
     "output_type": "display_data"
    },
    {
     "data": {
      "text/plain": [
       "<Figure size 720x720 with 0 Axes>"
      ]
     },
     "metadata": {},
     "output_type": "display_data"
    },
    {
     "data": {
      "text/plain": [
       "<Figure size 720x720 with 0 Axes>"
      ]
     },
     "metadata": {},
     "output_type": "display_data"
    },
    {
     "data": {
      "text/plain": [
       "<Figure size 720x720 with 0 Axes>"
      ]
     },
     "metadata": {},
     "output_type": "display_data"
    },
    {
     "data": {
      "text/plain": [
       "<Figure size 720x720 with 0 Axes>"
      ]
     },
     "metadata": {},
     "output_type": "display_data"
    },
    {
     "data": {
      "text/plain": [
       "<Figure size 720x720 with 0 Axes>"
      ]
     },
     "metadata": {},
     "output_type": "display_data"
    },
    {
     "data": {
      "text/plain": [
       "<Figure size 720x720 with 0 Axes>"
      ]
     },
     "metadata": {},
     "output_type": "display_data"
    },
    {
     "data": {
      "text/plain": [
       "<Figure size 720x720 with 0 Axes>"
      ]
     },
     "metadata": {},
     "output_type": "display_data"
    },
    {
     "data": {
      "text/plain": [
       "<Figure size 720x720 with 0 Axes>"
      ]
     },
     "metadata": {},
     "output_type": "display_data"
    },
    {
     "data": {
      "text/plain": [
       "<Figure size 720x720 with 0 Axes>"
      ]
     },
     "metadata": {},
     "output_type": "display_data"
    },
    {
     "data": {
      "text/plain": [
       "<Figure size 720x720 with 0 Axes>"
      ]
     },
     "metadata": {},
     "output_type": "display_data"
    },
    {
     "data": {
      "text/plain": [
       "<Figure size 720x720 with 0 Axes>"
      ]
     },
     "metadata": {},
     "output_type": "display_data"
    },
    {
     "data": {
      "text/plain": [
       "<Figure size 720x720 with 0 Axes>"
      ]
     },
     "metadata": {},
     "output_type": "display_data"
    },
    {
     "data": {
      "text/plain": [
       "<Figure size 720x720 with 0 Axes>"
      ]
     },
     "metadata": {},
     "output_type": "display_data"
    },
    {
     "data": {
      "text/plain": [
       "<Figure size 720x720 with 0 Axes>"
      ]
     },
     "metadata": {},
     "output_type": "display_data"
    },
    {
     "data": {
      "text/plain": [
       "<Figure size 720x720 with 0 Axes>"
      ]
     },
     "metadata": {},
     "output_type": "display_data"
    },
    {
     "data": {
      "text/plain": [
       "<Figure size 720x720 with 0 Axes>"
      ]
     },
     "metadata": {},
     "output_type": "display_data"
    },
    {
     "data": {
      "text/plain": [
       "<Figure size 720x720 with 0 Axes>"
      ]
     },
     "metadata": {},
     "output_type": "display_data"
    },
    {
     "data": {
      "text/plain": [
       "<Figure size 720x720 with 0 Axes>"
      ]
     },
     "metadata": {},
     "output_type": "display_data"
    },
    {
     "data": {
      "text/plain": [
       "<Figure size 720x720 with 0 Axes>"
      ]
     },
     "metadata": {},
     "output_type": "display_data"
    },
    {
     "data": {
      "text/plain": [
       "<Figure size 720x720 with 0 Axes>"
      ]
     },
     "metadata": {},
     "output_type": "display_data"
    },
    {
     "data": {
      "text/plain": [
       "<Figure size 720x720 with 0 Axes>"
      ]
     },
     "metadata": {},
     "output_type": "display_data"
    },
    {
     "data": {
      "text/plain": [
       "<Figure size 720x720 with 0 Axes>"
      ]
     },
     "metadata": {},
     "output_type": "display_data"
    },
    {
     "data": {
      "text/plain": [
       "<Figure size 720x720 with 0 Axes>"
      ]
     },
     "metadata": {},
     "output_type": "display_data"
    },
    {
     "data": {
      "text/plain": [
       "<Figure size 720x720 with 0 Axes>"
      ]
     },
     "metadata": {},
     "output_type": "display_data"
    },
    {
     "data": {
      "text/plain": [
       "<Figure size 720x720 with 0 Axes>"
      ]
     },
     "metadata": {},
     "output_type": "display_data"
    },
    {
     "data": {
      "text/plain": [
       "<Figure size 720x720 with 0 Axes>"
      ]
     },
     "metadata": {},
     "output_type": "display_data"
    },
    {
     "data": {
      "text/plain": [
       "<Figure size 720x720 with 0 Axes>"
      ]
     },
     "metadata": {},
     "output_type": "display_data"
    },
    {
     "data": {
      "text/plain": [
       "<Figure size 720x720 with 0 Axes>"
      ]
     },
     "metadata": {},
     "output_type": "display_data"
    },
    {
     "data": {
      "text/plain": [
       "<Figure size 720x720 with 0 Axes>"
      ]
     },
     "metadata": {},
     "output_type": "display_data"
    },
    {
     "data": {
      "text/plain": [
       "<Figure size 720x720 with 0 Axes>"
      ]
     },
     "metadata": {},
     "output_type": "display_data"
    },
    {
     "data": {
      "text/plain": [
       "<Figure size 720x720 with 0 Axes>"
      ]
     },
     "metadata": {},
     "output_type": "display_data"
    },
    {
     "data": {
      "text/plain": [
       "<Figure size 720x720 with 0 Axes>"
      ]
     },
     "metadata": {},
     "output_type": "display_data"
    },
    {
     "data": {
      "text/plain": [
       "<Figure size 720x720 with 0 Axes>"
      ]
     },
     "metadata": {},
     "output_type": "display_data"
    },
    {
     "data": {
      "text/plain": [
       "<Figure size 720x720 with 0 Axes>"
      ]
     },
     "metadata": {},
     "output_type": "display_data"
    },
    {
     "data": {
      "text/plain": [
       "<Figure size 720x720 with 0 Axes>"
      ]
     },
     "metadata": {},
     "output_type": "display_data"
    },
    {
     "data": {
      "text/plain": [
       "<Figure size 720x720 with 0 Axes>"
      ]
     },
     "metadata": {},
     "output_type": "display_data"
    },
    {
     "data": {
      "text/plain": [
       "<Figure size 720x720 with 0 Axes>"
      ]
     },
     "metadata": {},
     "output_type": "display_data"
    },
    {
     "data": {
      "text/plain": [
       "<Figure size 720x720 with 0 Axes>"
      ]
     },
     "metadata": {},
     "output_type": "display_data"
    },
    {
     "data": {
      "text/plain": [
       "<Figure size 720x720 with 0 Axes>"
      ]
     },
     "metadata": {},
     "output_type": "display_data"
    },
    {
     "data": {
      "text/plain": [
       "<Figure size 720x720 with 0 Axes>"
      ]
     },
     "metadata": {},
     "output_type": "display_data"
    },
    {
     "data": {
      "text/plain": [
       "<Figure size 720x720 with 0 Axes>"
      ]
     },
     "metadata": {},
     "output_type": "display_data"
    },
    {
     "data": {
      "text/plain": [
       "<Figure size 720x720 with 0 Axes>"
      ]
     },
     "metadata": {},
     "output_type": "display_data"
    },
    {
     "data": {
      "text/plain": [
       "<Figure size 720x720 with 0 Axes>"
      ]
     },
     "metadata": {},
     "output_type": "display_data"
    },
    {
     "data": {
      "text/plain": [
       "<Figure size 720x720 with 0 Axes>"
      ]
     },
     "metadata": {},
     "output_type": "display_data"
    },
    {
     "data": {
      "text/plain": [
       "<Figure size 720x720 with 0 Axes>"
      ]
     },
     "metadata": {},
     "output_type": "display_data"
    },
    {
     "data": {
      "text/plain": [
       "<Figure size 720x720 with 0 Axes>"
      ]
     },
     "metadata": {},
     "output_type": "display_data"
    },
    {
     "data": {
      "text/plain": [
       "<Figure size 720x720 with 0 Axes>"
      ]
     },
     "metadata": {},
     "output_type": "display_data"
    },
    {
     "data": {
      "text/plain": [
       "<Figure size 720x720 with 0 Axes>"
      ]
     },
     "metadata": {},
     "output_type": "display_data"
    },
    {
     "data": {
      "text/plain": [
       "<Figure size 720x720 with 0 Axes>"
      ]
     },
     "metadata": {},
     "output_type": "display_data"
    },
    {
     "data": {
      "text/plain": [
       "<Figure size 720x720 with 0 Axes>"
      ]
     },
     "metadata": {},
     "output_type": "display_data"
    },
    {
     "data": {
      "text/plain": [
       "<Figure size 720x720 with 0 Axes>"
      ]
     },
     "metadata": {},
     "output_type": "display_data"
    },
    {
     "data": {
      "text/plain": [
       "<Figure size 720x720 with 0 Axes>"
      ]
     },
     "metadata": {},
     "output_type": "display_data"
    },
    {
     "data": {
      "text/plain": [
       "<Figure size 720x720 with 0 Axes>"
      ]
     },
     "metadata": {},
     "output_type": "display_data"
    },
    {
     "data": {
      "text/plain": [
       "<Figure size 720x720 with 0 Axes>"
      ]
     },
     "metadata": {},
     "output_type": "display_data"
    },
    {
     "data": {
      "text/plain": [
       "<Figure size 720x720 with 0 Axes>"
      ]
     },
     "metadata": {},
     "output_type": "display_data"
    },
    {
     "data": {
      "text/plain": [
       "<Figure size 720x720 with 0 Axes>"
      ]
     },
     "metadata": {},
     "output_type": "display_data"
    },
    {
     "data": {
      "text/plain": [
       "<Figure size 720x720 with 0 Axes>"
      ]
     },
     "metadata": {},
     "output_type": "display_data"
    },
    {
     "data": {
      "text/plain": [
       "<Figure size 720x720 with 0 Axes>"
      ]
     },
     "metadata": {},
     "output_type": "display_data"
    },
    {
     "data": {
      "text/plain": [
       "<Figure size 720x720 with 0 Axes>"
      ]
     },
     "metadata": {},
     "output_type": "display_data"
    },
    {
     "data": {
      "text/plain": [
       "<Figure size 720x720 with 0 Axes>"
      ]
     },
     "metadata": {},
     "output_type": "display_data"
    },
    {
     "data": {
      "text/plain": [
       "<Figure size 720x720 with 0 Axes>"
      ]
     },
     "metadata": {},
     "output_type": "display_data"
    },
    {
     "data": {
      "text/plain": [
       "<Figure size 720x720 with 0 Axes>"
      ]
     },
     "metadata": {},
     "output_type": "display_data"
    },
    {
     "data": {
      "text/plain": [
       "<Figure size 720x720 with 0 Axes>"
      ]
     },
     "metadata": {},
     "output_type": "display_data"
    },
    {
     "data": {
      "text/plain": [
       "<Figure size 720x720 with 0 Axes>"
      ]
     },
     "metadata": {},
     "output_type": "display_data"
    },
    {
     "data": {
      "text/plain": [
       "<Figure size 720x720 with 0 Axes>"
      ]
     },
     "metadata": {},
     "output_type": "display_data"
    },
    {
     "data": {
      "text/plain": [
       "<Figure size 720x720 with 0 Axes>"
      ]
     },
     "metadata": {},
     "output_type": "display_data"
    },
    {
     "data": {
      "text/plain": [
       "<Figure size 720x720 with 0 Axes>"
      ]
     },
     "metadata": {},
     "output_type": "display_data"
    },
    {
     "data": {
      "text/plain": [
       "<Figure size 720x720 with 0 Axes>"
      ]
     },
     "metadata": {},
     "output_type": "display_data"
    },
    {
     "data": {
      "text/plain": [
       "<Figure size 720x720 with 0 Axes>"
      ]
     },
     "metadata": {},
     "output_type": "display_data"
    },
    {
     "data": {
      "text/plain": [
       "<Figure size 720x720 with 0 Axes>"
      ]
     },
     "metadata": {},
     "output_type": "display_data"
    },
    {
     "data": {
      "text/plain": [
       "<Figure size 720x720 with 0 Axes>"
      ]
     },
     "metadata": {},
     "output_type": "display_data"
    },
    {
     "data": {
      "text/plain": [
       "<Figure size 720x720 with 0 Axes>"
      ]
     },
     "metadata": {},
     "output_type": "display_data"
    },
    {
     "data": {
      "text/plain": [
       "<Figure size 720x720 with 0 Axes>"
      ]
     },
     "metadata": {},
     "output_type": "display_data"
    },
    {
     "data": {
      "text/plain": [
       "<Figure size 720x720 with 0 Axes>"
      ]
     },
     "metadata": {},
     "output_type": "display_data"
    },
    {
     "data": {
      "text/plain": [
       "<Figure size 720x720 with 0 Axes>"
      ]
     },
     "metadata": {},
     "output_type": "display_data"
    },
    {
     "data": {
      "text/plain": [
       "<Figure size 720x720 with 0 Axes>"
      ]
     },
     "metadata": {},
     "output_type": "display_data"
    },
    {
     "data": {
      "text/plain": [
       "<Figure size 720x720 with 0 Axes>"
      ]
     },
     "metadata": {},
     "output_type": "display_data"
    },
    {
     "data": {
      "text/plain": [
       "<Figure size 720x720 with 0 Axes>"
      ]
     },
     "metadata": {},
     "output_type": "display_data"
    },
    {
     "data": {
      "text/plain": [
       "<Figure size 720x720 with 0 Axes>"
      ]
     },
     "metadata": {},
     "output_type": "display_data"
    },
    {
     "data": {
      "text/plain": [
       "<Figure size 720x720 with 0 Axes>"
      ]
     },
     "metadata": {},
     "output_type": "display_data"
    },
    {
     "data": {
      "text/plain": [
       "<Figure size 720x720 with 0 Axes>"
      ]
     },
     "metadata": {},
     "output_type": "display_data"
    },
    {
     "data": {
      "text/plain": [
       "<Figure size 720x720 with 0 Axes>"
      ]
     },
     "metadata": {},
     "output_type": "display_data"
    },
    {
     "data": {
      "text/plain": [
       "<Figure size 720x720 with 0 Axes>"
      ]
     },
     "metadata": {},
     "output_type": "display_data"
    },
    {
     "data": {
      "text/plain": [
       "<Figure size 720x720 with 0 Axes>"
      ]
     },
     "metadata": {},
     "output_type": "display_data"
    },
    {
     "data": {
      "text/plain": [
       "<Figure size 720x720 with 0 Axes>"
      ]
     },
     "metadata": {},
     "output_type": "display_data"
    },
    {
     "data": {
      "text/plain": [
       "<Figure size 720x720 with 0 Axes>"
      ]
     },
     "metadata": {},
     "output_type": "display_data"
    },
    {
     "data": {
      "text/plain": [
       "<Figure size 720x720 with 0 Axes>"
      ]
     },
     "metadata": {},
     "output_type": "display_data"
    },
    {
     "data": {
      "text/plain": [
       "<Figure size 720x720 with 0 Axes>"
      ]
     },
     "metadata": {},
     "output_type": "display_data"
    },
    {
     "data": {
      "text/plain": [
       "<Figure size 720x720 with 0 Axes>"
      ]
     },
     "metadata": {},
     "output_type": "display_data"
    },
    {
     "data": {
      "text/plain": [
       "<Figure size 720x720 with 0 Axes>"
      ]
     },
     "metadata": {},
     "output_type": "display_data"
    },
    {
     "data": {
      "text/plain": [
       "<Figure size 720x720 with 0 Axes>"
      ]
     },
     "metadata": {},
     "output_type": "display_data"
    },
    {
     "data": {
      "text/plain": [
       "<Figure size 720x720 with 0 Axes>"
      ]
     },
     "metadata": {},
     "output_type": "display_data"
    },
    {
     "data": {
      "text/plain": [
       "<Figure size 720x720 with 0 Axes>"
      ]
     },
     "metadata": {},
     "output_type": "display_data"
    },
    {
     "data": {
      "text/plain": [
       "<Figure size 720x720 with 0 Axes>"
      ]
     },
     "metadata": {},
     "output_type": "display_data"
    },
    {
     "data": {
      "text/plain": [
       "<Figure size 720x720 with 0 Axes>"
      ]
     },
     "metadata": {},
     "output_type": "display_data"
    },
    {
     "data": {
      "text/plain": [
       "<Figure size 720x720 with 0 Axes>"
      ]
     },
     "metadata": {},
     "output_type": "display_data"
    },
    {
     "data": {
      "text/plain": [
       "<Figure size 720x720 with 0 Axes>"
      ]
     },
     "metadata": {},
     "output_type": "display_data"
    },
    {
     "data": {
      "text/plain": [
       "<Figure size 720x720 with 0 Axes>"
      ]
     },
     "metadata": {},
     "output_type": "display_data"
    },
    {
     "data": {
      "text/plain": [
       "<Figure size 720x720 with 0 Axes>"
      ]
     },
     "metadata": {},
     "output_type": "display_data"
    },
    {
     "data": {
      "text/plain": [
       "<Figure size 720x720 with 0 Axes>"
      ]
     },
     "metadata": {},
     "output_type": "display_data"
    },
    {
     "data": {
      "text/plain": [
       "<Figure size 720x720 with 0 Axes>"
      ]
     },
     "metadata": {},
     "output_type": "display_data"
    },
    {
     "data": {
      "text/plain": [
       "<Figure size 720x720 with 0 Axes>"
      ]
     },
     "metadata": {},
     "output_type": "display_data"
    },
    {
     "data": {
      "text/plain": [
       "<Figure size 720x720 with 0 Axes>"
      ]
     },
     "metadata": {},
     "output_type": "display_data"
    },
    {
     "data": {
      "text/plain": [
       "<Figure size 720x720 with 0 Axes>"
      ]
     },
     "metadata": {},
     "output_type": "display_data"
    },
    {
     "data": {
      "text/plain": [
       "<Figure size 720x720 with 0 Axes>"
      ]
     },
     "metadata": {},
     "output_type": "display_data"
    },
    {
     "data": {
      "text/plain": [
       "<Figure size 720x720 with 0 Axes>"
      ]
     },
     "metadata": {},
     "output_type": "display_data"
    },
    {
     "data": {
      "text/plain": [
       "<Figure size 720x720 with 0 Axes>"
      ]
     },
     "metadata": {},
     "output_type": "display_data"
    },
    {
     "data": {
      "text/plain": [
       "<Figure size 720x720 with 0 Axes>"
      ]
     },
     "metadata": {},
     "output_type": "display_data"
    },
    {
     "data": {
      "text/plain": [
       "<Figure size 720x720 with 0 Axes>"
      ]
     },
     "metadata": {},
     "output_type": "display_data"
    },
    {
     "data": {
      "text/plain": [
       "<Figure size 720x720 with 0 Axes>"
      ]
     },
     "metadata": {},
     "output_type": "display_data"
    },
    {
     "data": {
      "text/plain": [
       "<Figure size 720x720 with 0 Axes>"
      ]
     },
     "metadata": {},
     "output_type": "display_data"
    },
    {
     "data": {
      "text/plain": [
       "<Figure size 720x720 with 0 Axes>"
      ]
     },
     "metadata": {},
     "output_type": "display_data"
    },
    {
     "data": {
      "text/plain": [
       "<Figure size 720x720 with 0 Axes>"
      ]
     },
     "metadata": {},
     "output_type": "display_data"
    },
    {
     "data": {
      "text/plain": [
       "<Figure size 720x720 with 0 Axes>"
      ]
     },
     "metadata": {},
     "output_type": "display_data"
    },
    {
     "data": {
      "text/plain": [
       "<Figure size 720x720 with 0 Axes>"
      ]
     },
     "metadata": {},
     "output_type": "display_data"
    },
    {
     "data": {
      "text/plain": [
       "<Figure size 720x720 with 0 Axes>"
      ]
     },
     "metadata": {},
     "output_type": "display_data"
    },
    {
     "data": {
      "text/plain": [
       "<Figure size 720x720 with 0 Axes>"
      ]
     },
     "metadata": {},
     "output_type": "display_data"
    },
    {
     "data": {
      "text/plain": [
       "<Figure size 720x720 with 0 Axes>"
      ]
     },
     "metadata": {},
     "output_type": "display_data"
    },
    {
     "data": {
      "text/plain": [
       "<Figure size 720x720 with 0 Axes>"
      ]
     },
     "metadata": {},
     "output_type": "display_data"
    },
    {
     "data": {
      "text/plain": [
       "<Figure size 720x720 with 0 Axes>"
      ]
     },
     "metadata": {},
     "output_type": "display_data"
    },
    {
     "data": {
      "text/plain": [
       "<Figure size 720x720 with 0 Axes>"
      ]
     },
     "metadata": {},
     "output_type": "display_data"
    },
    {
     "data": {
      "text/plain": [
       "<Figure size 720x720 with 0 Axes>"
      ]
     },
     "metadata": {},
     "output_type": "display_data"
    },
    {
     "data": {
      "text/plain": [
       "<Figure size 720x720 with 0 Axes>"
      ]
     },
     "metadata": {},
     "output_type": "display_data"
    },
    {
     "data": {
      "text/plain": [
       "<Figure size 720x720 with 0 Axes>"
      ]
     },
     "metadata": {},
     "output_type": "display_data"
    },
    {
     "data": {
      "text/plain": [
       "<Figure size 720x720 with 0 Axes>"
      ]
     },
     "metadata": {},
     "output_type": "display_data"
    },
    {
     "data": {
      "text/plain": [
       "<Figure size 720x720 with 0 Axes>"
      ]
     },
     "metadata": {},
     "output_type": "display_data"
    },
    {
     "data": {
      "text/plain": [
       "<Figure size 720x720 with 0 Axes>"
      ]
     },
     "metadata": {},
     "output_type": "display_data"
    },
    {
     "data": {
      "text/plain": [
       "<Figure size 720x720 with 0 Axes>"
      ]
     },
     "metadata": {},
     "output_type": "display_data"
    },
    {
     "data": {
      "text/plain": [
       "<Figure size 720x720 with 0 Axes>"
      ]
     },
     "metadata": {},
     "output_type": "display_data"
    },
    {
     "data": {
      "text/plain": [
       "<Figure size 720x720 with 0 Axes>"
      ]
     },
     "metadata": {},
     "output_type": "display_data"
    },
    {
     "data": {
      "text/plain": [
       "<Figure size 720x720 with 0 Axes>"
      ]
     },
     "metadata": {},
     "output_type": "display_data"
    },
    {
     "data": {
      "text/plain": [
       "<Figure size 720x720 with 0 Axes>"
      ]
     },
     "metadata": {},
     "output_type": "display_data"
    },
    {
     "data": {
      "text/plain": [
       "<Figure size 720x720 with 0 Axes>"
      ]
     },
     "metadata": {},
     "output_type": "display_data"
    },
    {
     "data": {
      "text/plain": [
       "<Figure size 720x720 with 0 Axes>"
      ]
     },
     "metadata": {},
     "output_type": "display_data"
    },
    {
     "data": {
      "text/plain": [
       "<Figure size 720x720 with 0 Axes>"
      ]
     },
     "metadata": {},
     "output_type": "display_data"
    },
    {
     "data": {
      "text/plain": [
       "<Figure size 720x720 with 0 Axes>"
      ]
     },
     "metadata": {},
     "output_type": "display_data"
    },
    {
     "data": {
      "text/plain": [
       "<Figure size 720x720 with 0 Axes>"
      ]
     },
     "metadata": {},
     "output_type": "display_data"
    },
    {
     "data": {
      "text/plain": [
       "<Figure size 720x720 with 0 Axes>"
      ]
     },
     "metadata": {},
     "output_type": "display_data"
    },
    {
     "data": {
      "text/plain": [
       "<Figure size 720x720 with 0 Axes>"
      ]
     },
     "metadata": {},
     "output_type": "display_data"
    },
    {
     "data": {
      "text/plain": [
       "<Figure size 720x720 with 0 Axes>"
      ]
     },
     "metadata": {},
     "output_type": "display_data"
    },
    {
     "data": {
      "text/plain": [
       "<Figure size 720x720 with 0 Axes>"
      ]
     },
     "metadata": {},
     "output_type": "display_data"
    },
    {
     "data": {
      "text/plain": [
       "<Figure size 720x720 with 0 Axes>"
      ]
     },
     "metadata": {},
     "output_type": "display_data"
    },
    {
     "data": {
      "text/plain": [
       "<Figure size 720x720 with 0 Axes>"
      ]
     },
     "metadata": {},
     "output_type": "display_data"
    },
    {
     "data": {
      "text/plain": [
       "<Figure size 720x720 with 0 Axes>"
      ]
     },
     "metadata": {},
     "output_type": "display_data"
    },
    {
     "data": {
      "text/plain": [
       "<Figure size 720x720 with 0 Axes>"
      ]
     },
     "metadata": {},
     "output_type": "display_data"
    },
    {
     "data": {
      "text/plain": [
       "<Figure size 720x720 with 0 Axes>"
      ]
     },
     "metadata": {},
     "output_type": "display_data"
    },
    {
     "data": {
      "text/plain": [
       "<Figure size 720x720 with 0 Axes>"
      ]
     },
     "metadata": {},
     "output_type": "display_data"
    },
    {
     "data": {
      "text/plain": [
       "<Figure size 720x720 with 0 Axes>"
      ]
     },
     "metadata": {},
     "output_type": "display_data"
    },
    {
     "data": {
      "text/plain": [
       "<Figure size 720x720 with 0 Axes>"
      ]
     },
     "metadata": {},
     "output_type": "display_data"
    },
    {
     "data": {
      "text/plain": [
       "<Figure size 720x720 with 0 Axes>"
      ]
     },
     "metadata": {},
     "output_type": "display_data"
    },
    {
     "data": {
      "text/plain": [
       "<Figure size 720x720 with 0 Axes>"
      ]
     },
     "metadata": {},
     "output_type": "display_data"
    },
    {
     "data": {
      "text/plain": [
       "<Figure size 720x720 with 0 Axes>"
      ]
     },
     "metadata": {},
     "output_type": "display_data"
    },
    {
     "data": {
      "text/plain": [
       "<Figure size 720x720 with 0 Axes>"
      ]
     },
     "metadata": {},
     "output_type": "display_data"
    },
    {
     "data": {
      "text/plain": [
       "<Figure size 720x720 with 0 Axes>"
      ]
     },
     "metadata": {},
     "output_type": "display_data"
    },
    {
     "data": {
      "text/plain": [
       "<Figure size 720x720 with 0 Axes>"
      ]
     },
     "metadata": {},
     "output_type": "display_data"
    },
    {
     "data": {
      "text/plain": [
       "<Figure size 720x720 with 0 Axes>"
      ]
     },
     "metadata": {},
     "output_type": "display_data"
    },
    {
     "data": {
      "text/plain": [
       "<Figure size 720x720 with 0 Axes>"
      ]
     },
     "metadata": {},
     "output_type": "display_data"
    },
    {
     "data": {
      "text/plain": [
       "<Figure size 720x720 with 0 Axes>"
      ]
     },
     "metadata": {},
     "output_type": "display_data"
    },
    {
     "data": {
      "text/plain": [
       "<Figure size 720x720 with 0 Axes>"
      ]
     },
     "metadata": {},
     "output_type": "display_data"
    },
    {
     "data": {
      "text/plain": [
       "<Figure size 720x720 with 0 Axes>"
      ]
     },
     "metadata": {},
     "output_type": "display_data"
    },
    {
     "data": {
      "text/plain": [
       "<Figure size 720x720 with 0 Axes>"
      ]
     },
     "metadata": {},
     "output_type": "display_data"
    },
    {
     "data": {
      "text/plain": [
       "<Figure size 720x720 with 0 Axes>"
      ]
     },
     "metadata": {},
     "output_type": "display_data"
    },
    {
     "data": {
      "text/plain": [
       "<Figure size 720x720 with 0 Axes>"
      ]
     },
     "metadata": {},
     "output_type": "display_data"
    },
    {
     "data": {
      "text/plain": [
       "<Figure size 720x720 with 0 Axes>"
      ]
     },
     "metadata": {},
     "output_type": "display_data"
    },
    {
     "data": {
      "text/plain": [
       "<Figure size 720x720 with 0 Axes>"
      ]
     },
     "metadata": {},
     "output_type": "display_data"
    },
    {
     "data": {
      "text/plain": [
       "<Figure size 720x720 with 0 Axes>"
      ]
     },
     "metadata": {},
     "output_type": "display_data"
    },
    {
     "data": {
      "text/plain": [
       "<Figure size 720x720 with 0 Axes>"
      ]
     },
     "metadata": {},
     "output_type": "display_data"
    },
    {
     "data": {
      "text/plain": [
       "<Figure size 720x720 with 0 Axes>"
      ]
     },
     "metadata": {},
     "output_type": "display_data"
    },
    {
     "data": {
      "text/plain": [
       "<Figure size 720x720 with 0 Axes>"
      ]
     },
     "metadata": {},
     "output_type": "display_data"
    },
    {
     "data": {
      "text/plain": [
       "<Figure size 720x720 with 0 Axes>"
      ]
     },
     "metadata": {},
     "output_type": "display_data"
    },
    {
     "name": "stderr",
     "output_type": "stream",
     "text": [
      "IOPub message rate exceeded.\n",
      "The notebook server will temporarily stop sending output\n",
      "to the client in order to avoid crashing it.\n",
      "To change this limit, set the config variable\n",
      "`--NotebookApp.iopub_msg_rate_limit`.\n",
      "\n",
      "Current values:\n",
      "NotebookApp.iopub_msg_rate_limit=1000.0 (msgs/sec)\n",
      "NotebookApp.rate_limit_window=3.0 (secs)\n",
      "\n"
     ]
    }
   ],
   "source": [
    "# initialize sandpile\n",
    "sp = SandPile()\n",
    "# simulation time\n",
    "T = 50000\n",
    "\n",
    "for t in range(1,T+1):\n",
    "\n",
    "    # Put your code here to get the position to drop one unit sand\n",
    "    pos = sp.drop_pos()\n",
    "\n",
    "    # Put your code here to update the sandpile \n",
    "\n",
    "    sp.update(pos)\n",
    "    \n",
    "    # plot your code here to plot the sandpile every 200 unit time\n",
    "\n",
    "    sp.plot(t)\n",
    "\n",
    "sp"
   ]
  },
  {
   "cell_type": "markdown",
   "metadata": {},
   "source": [
    "**<font size=+3>&#9998;</font> Do This**: *Record your observations of your plot here.*"
   ]
  },
  {
   "cell_type": "markdown",
   "metadata": {},
   "source": [
    "&#9989; **Question 2.4 (1 points)**: My first observation is that this thing is taking a LONG time to run. It would probably run a lot faster if I commented out the animation, but then I wouldn't get the cool result at the end. It is kind of cool seeing the colors change when the pixels grow to 4. I'm not sure what else I could do to get this to run faster."
   ]
  },
  {
   "cell_type": "markdown",
   "metadata": {},
   "source": [
    "---\n",
    "### &#128721; STOP\n",
    "**Pause to commit your changes to your Git repository!**\n",
    "\n",
    "Take a moment to save your notebook, commit the changes to your Git repository using the commit message \"Committing Part 2\", and push the changes to GitHub. If you want you can merge your changes with the `main` branch, but you must checkout branch `hw03_branch` for Part 2.\n",
    "\n",
    "---"
   ]
  },
  {
   "cell_type": "markdown",
   "metadata": {},
   "source": [
    "## Part 3: Graph Theory (17 points)\n",
    "\n",
    "Execute the cell below to load python necessary packages."
   ]
  },
  {
   "cell_type": "code",
   "execution_count": 19,
   "metadata": {},
   "outputs": [],
   "source": [
    "import numpy as np\n",
    "import pandas as pd\n",
    "import networkx as nx\n",
    "import matplotlib.pyplot as plt\n",
    "\n",
    "from IPython.display import display, clear_output\n",
    "import time"
   ]
  },
  {
   "cell_type": "markdown",
   "metadata": {},
   "source": [
    "---\n",
    "## Part 3.1: Graph representation and analysis for water supply network (9 points)\n",
    "\n",
    "&#9989; **Question 3.1.1 (2 points)** You are provided with a file of adjacency matrix for a water supply network (**'adj.txt'**), where the nodes are water stations and edges represent pipes between them. Thus, if a pair of nodes are connected with each other, that means there exists a pipe supplying the water between them. \n",
    "\n",
    "Let's first construct the network (graph). The adjacency matrix, which tells us which nodes are connected with each other, is provided in the file 'adj.txt'. \n",
    "\n",
    "Load the data from 'adj.txt' using Pandas, and then construct the graph using Networkx. \n",
    "\n",
    "Visualize the graph after it's constructed, with node labels (0-based node IDs) shown on the graph. \n",
    "\n",
    "**Note** A file **'position.txt'** is provided to allocate the x- and y-coordinates of nodes in the visualization, simply to make the graph looks better even though we don't care about the physical coordinates of water stations in this water supply network. Make sure to use the 'pos' parameter when you draw the network.\n",
    "\n",
    "**You can download the file from here:**\n",
    "\n",
    "https://raw.githubusercontent.com/msu-cmse-courses/cmse202-S22-data/main/code_samples/adj.txt\n",
    "\n",
    "https://raw.githubusercontent.com/msu-cmse-courses/cmse202-S22-data/main/code_samples/position.txt\n"
   ]
  },
  {
   "cell_type": "code",
   "execution_count": 20,
   "metadata": {},
   "outputs": [],
   "source": [
    "# Put your code here:\n",
    "adj = pd.read_csv('adj.txt', delimiter = ',', header = None)\n",
    "position = pd.read_csv('position.txt', delimiter = ',', header = None)"
   ]
  },
  {
   "cell_type": "markdown",
   "metadata": {},
   "source": [
    "&#9989; **Question 3.1.2 (1 point)** In the constructed network, you may notice some nodes have many more neighbors than other nodes, i.e. some nodes have more edges than other nodes. The number of edges connected to a specific node is called the **degree** of that node. A graph object created by Networkx has attributes for degrees of all nodes. \n",
    "\n",
    "Get the degrees for all the nodes in the graph, and then plot a histogram to show the distribution of degrees."
   ]
  },
  {
   "cell_type": "code",
   "execution_count": 31,
   "metadata": {},
   "outputs": [
    {
     "name": "stdout",
     "output_type": "stream",
     "text": [
      "[(0, 13), (1, 21), (2, 13), (3, 3), (4, 3), (5, 5), (6, 2), (7, 2), (8, 2), (9, 1), (10, 1), (11, 1), (12, 1), (13, 3), (14, 1), (15, 2), (16, 1), (17, 2), (18, 1), (19, 1), (20, 1), (21, 1), (22, 1), (23, 1), (24, 1), (25, 1), (26, 1), (27, 1), (28, 1), (29, 1), (30, 1), (31, 1), (32, 1), (33, 1), (34, 1), (35, 2), (36, 1), (37, 1), (38, 1), (39, 1)]\n"
     ]
    },
    {
     "data": {
      "image/png": "[encoded data removed]",
      "text/plain": [
       "<Figure size 432x288 with 1 Axes>"
      ]
     },
     "metadata": {},
     "output_type": "display_data"
    },
    {
     "data": {
      "image/png": "[encoded data removed]",
      "text/plain": [
       "<Figure size 1440x720 with 2 Axes>"
      ]
     },
     "metadata": {
      "needs_background": "light"
     },
     "output_type": "display_data"
    }
   ],
   "source": [
    "# Put your code here:\n",
    "g = nx.Graph(adj)\n",
    "nx.draw_networkx(g)\n",
    "\n",
    "# get degrees for nodes\n",
    "thing = nx.degree(g)\n",
    "print(nx.degree(g))\n",
    "\n",
    "# degree histogram\n",
    "plt.figure(figsize=(20,10))\n",
    "\n",
    "plt.subplot(1,2,1)\n",
    "g_degrees = nx.degree_histogram(g)\n",
    "plt.hist(g_degrees, bins = 40)\n",
    "plt.ylabel('Frequency')\n",
    "plt.xlabel('Degrees')\n",
    "plt.title(\"A not-that-useful histogram\")\n",
    "\n",
    "plt.subplot(1,2,2)\n",
    "plt.boxplot(g_degrees)\n",
    "plt.grid()"
   ]
  },
  {
   "cell_type": "markdown",
   "metadata": {},
   "source": [
    "&#9989; **Question 3.1.3 (1 point)** Describe the distribution of degrees. What is the main range of degree values for most of the nodes? And are there any outliers?"
   ]
  },
  {
   "cell_type": "markdown",
   "metadata": {},
   "source": [
    "Your answer here: Well, I can confidently say that the degrees are not normally distributed. I think that one all the way out to the right is node 1, with 23 degrees. Most of these nodes only have 1 degree, and that is where we see that spike in the histogram. The main range of most of the nodes is 1-3. Without making a boxplot, nodes 1-3 look like the outliers. With the boxplot, I can see that I have four outliers, which would be anything greater than 1. The scale is messed up, but I really don't want to take the time to get it right. Hopefully I didn't do something wrong?"
   ]
  },
  {
   "cell_type": "markdown",
   "metadata": {},
   "source": [
    "&#9989; **Question 3.1.4 (2 points)** Visualize the network again (with labels shown), but with different colors for the nodes. \n",
    "\n",
    "If a node has a degree > 10, color the node as red.  Otherwise, color the node as gray. \n",
    "\n"
   ]
  },
  {
   "cell_type": "code",
   "execution_count": 36,
   "metadata": {
    "scrolled": true
   },
   "outputs": [
    {
     "data": {
      "image/png": "[encoded data removed]",
      "text/plain": [
       "<Figure size 432x288 with 1 Axes>"
      ]
     },
     "metadata": {},
     "output_type": "display_data"
    }
   ],
   "source": [
    "# Put your code here:\n",
    "\n",
    "# I don't like the way I did this. It is the right result, but it takes hard-coding to\n",
    "# do it this way. I've tried a few different ways to do this, but can't get it right.\n",
    "color_the_nodes = ['red' if node > 10 else 'grey' for k, node in thing]\n",
    "nx.draw_networkx(g, node_color = color_the_nodes)"
   ]
  },
  {
   "cell_type": "markdown",
   "metadata": {},
   "source": [
    "A network showing a power-law degree distribution is called scale-free (https://en.wikipedia.org/wiki/Scale-free_network), which is widely seen in different disciplines including social science, biology and many others. In scale-free networks, there are usually a few 'network hubs' connecting to many neighbors in the graph. "
   ]
  },
  {
   "cell_type": "markdown",
   "metadata": {},
   "source": [
    "&#9989; **Question 3.1.5 (1 points)** In many cases, we are curious about what is the shortest path from one node (source) to another node (target). Networkx has provided a convenient function to do that. \n",
    "\n",
    "Find the shortest path from node 11 to node 10 (0-based node index).  \n",
    "\n",
    "Which node (nodes) do you need to visit in between? \n",
    "\n",
    "How many steps do you need to take to go from node 11 to node 10? (The number of steps is defined as the distance between node 11 to node 10, or the length of the shortest path.)\n"
   ]
  },
  {
   "cell_type": "code",
   "execution_count": 37,
   "metadata": {},
   "outputs": [
    {
     "name": "stdout",
     "output_type": "stream",
     "text": [
      "Shortest path route: [11, 1, 10]\n",
      "You must visit node 1 to complete this route.\n",
      "The length of the shortest path to get from 11 to 10 is 2 steps.\n"
     ]
    }
   ],
   "source": [
    "# Put your code here:\n",
    "# Shortest path\n",
    "print('Shortest path route:',nx.shortest_path(g,11,10))\n",
    "print('You must visit node 1 to complete this route.')\n",
    "# Determine the path length\n",
    "print('The length of the shortest path to get from 11 to 10 is',nx.shortest_path_length(g,11,10), 'steps.')"
   ]
  },
  {
   "cell_type": "markdown",
   "metadata": {},
   "source": [
    "&#9989; **Question 3.1.6 (2 points)** Find the shortest paths for all pairs of nodes in the graph. Then create a list to store the lengths of all of the shortest paths.\n",
    "\n",
    "Plot a histogram to show the distribution of the lengths of shortest paths."
   ]
  },
  {
   "cell_type": "code",
   "execution_count": null,
   "metadata": {},
   "outputs": [
    {
     "data": {
      "text/plain": [
       "Text(0.5, 0, 'Nodes')"
      ]
     },
     "execution_count": 38,
     "metadata": {},
     "output_type": "execute_result"
    }
   ],
   "source": [
    "# Put your answer here:\n",
    "node_pairs = []\n",
    "\n",
    "for i in range(len(g)):\n",
    "    for j in range(len(g)):\n",
    "        if i != j:\n",
    "            node_pairs.append(nx.shortest_path(g,i,j))\n",
    "            \n",
    "#print(node_pairs)\n",
    "plt.figure(figsize=(10,10))\n",
    "plt.hist(node_pairs)\n",
    "plt.ylabel('Length')\n",
    "plt.xlabel('Nodes')"
   ]
  },
  {
   "cell_type": "markdown",
   "metadata": {},
   "source": [
    "**Notes** From the histogram, you may notice that the maximum length of shortest paths in this graph is small, although there are 40 nodes in the graph. This means that, from a specific node, we can reach any other nodes quickly, due to the existence of 'network hubs'. This is a general property of scale-free networks, which is related to the concept of '**small-world networks**' https://en.wikipedia.org/wiki/Small-world_network. "
   ]
  },
  {
   "cell_type": "markdown",
   "metadata": {},
   "source": [
    "---\n",
    "### &#128721; STOP\n",
    "**Pause to commit your changes to your Git repository!**\n",
    "\n",
    "Take a moment to save your notebook, commit the changes to your Git repository using the commit message \"Committing Part 3.1\", and push the changes to GitHub. If you want you can merge your changes with the `main` branch, but you must checkout branch `hw03_branch` for Part 3.1.\n",
    "\n",
    "---"
   ]
  },
  {
   "cell_type": "markdown",
   "metadata": {},
   "source": [
    "\n",
    "## Part 2.2: Pollution spread across the water supply network (8 points)\n",
    "\n",
    "**Question** In many applications, we want to simulate the dynamics based on the graph topology, i.e. how do neighbors in the network communicate information with each other. For example, if there exists the pollutant in one water stations, and then it begins to spread through the pipes, how quickly will all the water stations get polluted? And which groups of water stations will be polluted early?\n",
    "\n",
    "Below are the simplified assumptions for the simulation:\n",
    "\n",
    "1. Three water stations have pollutant first. They are node 15, node 22, and node 27 (0-based node index). Therefore, these 3 nodes are considered as the 'seed' of pollution in the graph.\n",
    "An 'pollution value' array can be created to label the nodes. For example, the 3 seed nodes are labeled as '1' at the beginning ('1' means they are polluted for sure 100%), and all other nodes are labeled as '0' at the beginning ('0' means they are totally clean).\n",
    "\n",
    "2. You write a for loop to do the simulation, where each step in the loop represent a specific time point.\n",
    "\n",
    "3. At each time point, the pollution value for every node is updated, based on the pollution values of their neighbors in the graph, because if many neighbors are polluted, it is very likely the water station will be polluted.\n",
    "\n",
    "4. Each node will spread pollution to its neighbors with a probability that is inversely proportional to its degree. The more neighbors, the less pollutant that the node will spread to one of its neighbors.\n",
    "\n",
    "5. For example, if node A has two neighbors: B and C. Node B has a degree of 3 and node C has a degree of 5. Then the pollution value of node A for the next iteration should be updated as: new_value(A) = value(B)/3 +value(C)/5\n",
    "\n",
    "6. In each iteration of your simulation, you scan all nodes and update the values of pollution labels. \n",
    "\n",
    "**Note** you may need to use copy() to avoid the confusion between previous values and newly updated values.\n",
    "\n",
    "\n",
    "&#9989;**Question 3.2.1 (5 points)** Below we provide most of the functions. And you need to fill in the gaps where indicated in the cell below."
   ]
  },
  {
   "cell_type": "code",
   "execution_count": null,
   "metadata": {},
   "outputs": [],
   "source": [
    "# Complete the code below:\n",
    "\n",
    "def get_neighbor(G, node):\n",
    "    ''' \n",
    "    get the neighbors of a given node\n",
    "    '''\n",
    "    return list(G.neighbors(node))\n",
    "\n",
    "\n",
    "def update_value(G, prev_value):\n",
    "    ''' \n",
    "    update the pollution values for all nodes, in one iteration \n",
    "    G: the graph\n",
    "    prev_value: the pollution values of every node from previous iteration\n",
    "    '''\n",
    "    \n",
    "    # Put your code here to make a new copy of prev_value;\n",
    "    # Name the new copy as next_value\n",
    "    \n",
    "    \n",
    "    # Put your code here to get the degrees of every node;\n",
    "    \n",
    "    \n",
    "    \n",
    "    # Put your code in the for loop to calculate next_value, based on prev_value from neighbors; \n",
    "    for node in G:\n",
    "        \n",
    "        \n",
    "    \n",
    "    \n",
    "    \n",
    "    return next_value\n",
    "\n",
    "\n",
    "\n",
    "def value2color(values):\n",
    "    '''\n",
    "    Convert pollution values to color\n",
    "    '''\n",
    "    # white to red\n",
    "    node_colors = []\n",
    "    for val in values:\n",
    "        node_colors.append((1, (1-val)**2, (1-val)**2))\n",
    "    return node_colors\n",
    "\n",
    "\n",
    "def draw_iter(G, values, iterations):\n",
    "    '''\n",
    "    Simulate the system for certain iterations\n",
    "    G: the graph\n",
    "    values: the initial pollution values for all nodes\n",
    "    iterations: the maximum number of iterations for the simulation\n",
    "    '''\n",
    "    \n",
    "    for i in range(iterations):\n",
    "        fig = plt.figure()\n",
    "        \n",
    "        # Put your code here to update the pollution values and update node colors;\n",
    "        \n",
    "        \n",
    "        \n",
    "        nx.draw(G, pos=position.values, with_labels=True, node_color=node_colors)\n",
    "        plt.title('Iteration ' + str(i+1))\n",
    "        fig.show()\n",
    "        \n",
    "        time.sleep(0.1)\n",
    "        clear_output(wait=True)\n",
    "        display(fig)\n",
    "        fig.clear()       \n"
   ]
  },
  {
   "cell_type": "markdown",
   "metadata": {},
   "source": [
    "After you complete the functions above, you can run the cell below to initialize the pollution values for all nodes and visualize the initial graph before simulation."
   ]
  },
  {
   "cell_type": "code",
   "execution_count": null,
   "metadata": {},
   "outputs": [],
   "source": [
    "values = [0]*len(G)\n",
    "values[27] = 1\n",
    "values[15] = 1\n",
    "values[22] = 1\n",
    "\n",
    "node_colors = value2color(values)\n",
    "nx.draw(G, pos=position.values, with_labels=True, node_color=node_colors)"
   ]
  },
  {
   "cell_type": "markdown",
   "metadata": {},
   "source": [
    "&#9989;**Question 3.2.2 (2 points)** Run the simulation with different numbers of iterations and show the plots. \n",
    "\n",
    "Describe what you observe about the pollutant propagation across the network."
   ]
  },
  {
   "cell_type": "code",
   "execution_count": null,
   "metadata": {},
   "outputs": [],
   "source": [
    "# Put your code here:"
   ]
  },
  {
   "cell_type": "markdown",
   "metadata": {},
   "source": [
    "**Note** The simulations above is not only useful to model how pollutants are spread across a water supply network. It is generally useful to propagate labels across connected neighbors - borrow information from neighbors in the graph.\n",
    "\n",
    "One application is to assign importance values for different webpages, since every webpage has links to other webpages and they can influence each other's importance. An extended version of the algorithm is the famous **PageRank** method used by **Google** https://en.wikipedia.org/wiki/PageRank."
   ]
  },
  {
   "cell_type": "markdown",
   "metadata": {},
   "source": [
    "&#9989;**Question 3.2.3 (1 point)** Run the simulation for 2 or 3 iterations and check which group of nodes have pollution values > 0?"
   ]
  },
  {
   "cell_type": "code",
   "execution_count": null,
   "metadata": {},
   "outputs": [],
   "source": [
    "# Put your code here:"
   ]
  },
  {
   "cell_type": "markdown",
   "metadata": {},
   "source": [
    "---\n",
    "### &#128721; STOP\n",
    "**Pause to commit your changes to your Git repository!**\n",
    "\n",
    "Take a moment to save your notebook, commit the changes to your Git repository using the commit message \"Committing Part 3.2\", and push the changes to GitHub. If you want you can merge your changes with the `main` branch, but you must checkout branch `hw03_branch` for Part 3.2.\n",
    "\n",
    "---"
   ]
  },
  {
   "cell_type": "markdown",
   "metadata": {},
   "source": [
    "---\n",
    "## Assignment wrap-up\n",
    "\n",
    "Please fill out the form that appears when you run the code below.  **You must completely fill this out in order to receive credit for the assignment!**"
   ]
  },
  {
   "cell_type": "code",
   "execution_count": null,
   "metadata": {},
   "outputs": [],
   "source": [
    "from IPython.display import HTML\n",
    "HTML(\n",
    "\"\"\"\n",
    "<iframe \n",
    "\tsrc=\"https://forms.office.com/Pages/ResponsePage.aspx?id=MHEXIi9k2UGSEXQjetVofa-byNJHa0xBs0jOGcRl02lUQU5INTRGUzlXUTZLTlpBTFg4M0Q0S1dKNS4u\" \n",
    "\twidth=\"800px\" \n",
    "\theight=\"600px\" \n",
    "\tframeborder=\"0\" \n",
    "\tmarginheight=\"0\" \n",
    "\tmarginwidth=\"0\">\n",
    "\tLoading...\n",
    "</iframe>\n",
    "\"\"\"\n",
    ")"
   ]
  },
  {
   "cell_type": "markdown",
   "metadata": {},
   "source": [
    "### Congratulations, you're done!\n",
    "\n",
    "Submit this assignment by uploading it to the course Desire2Learn web page.  Go to the \"Homework Assignments\" folder, find the dropbox link for Homework #3, and upload **your notebook** there."
   ]
  },
  {
   "cell_type": "markdown",
   "metadata": {},
   "source": [
    "&#169; Copyright 2021,  Department of Computational Mathematics, Science and Engineering at Michigan State University"
   ]
  }
 ],
 "metadata": {
  "anaconda-cloud": {},
  "kernelspec": {
   "display_name": "Python 3",
   "language": "python",
   "name": "python3"
  },
  "language_info": {
   "codemirror_mode": {
    "name": "ipython",
    "version": 3
   },
   "file_extension": ".py",
   "mimetype": "text/x-python",
   "name": "python",
   "nbconvert_exporter": "python",
   "pygments_lexer": "ipython3",
   "version": "3.8.8"
  }
 },
 "nbformat": 4,
 "nbformat_minor": 4
}
